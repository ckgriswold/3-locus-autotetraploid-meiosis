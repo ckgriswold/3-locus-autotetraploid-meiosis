{
 "cells": [
  {
   "cell_type": "code",
   "execution_count": 1,
   "metadata": {
    "collapsed": true
   },
   "outputs": [],
   "source": [
    "import pickle\n",
    "import sympy as sp"
   ]
  },
  {
   "cell_type": "code",
   "execution_count": 2,
   "metadata": {
    "collapsed": true
   },
   "outputs": [],
   "source": [
    "biv_lst = []\n",
    "for i in range(37):\n",
    "    with open(\"m%d/res_0.out\" % i,'rb') as inf:\n",
    "        res_0_file = pickle.load(inf)\n",
    "    biv_lst.append([i,[sp.factor(sum([res_0_file[i][0] for i in [3 * j + k for k in range(3)]])) for j in range(4)]])"
   ]
  },
  {
   "cell_type": "code",
   "execution_count": 3,
   "metadata": {
    "collapsed": true
   },
   "outputs": [],
   "source": [
    "quad_A_lst = []\n",
    "for i in range(37):\n",
    "    with open(\"m%d/res_1_0.out\" % i,'rb') as inf:\n",
    "        res_1_0_file = pickle.load(inf)\n",
    "    quad_A_lst.append([i,[sp.factor(sum([res_1_0_file[i][0] for i in [24 * j + k for k in range(24)]])) for j in range(4)]])"
   ]
  },
  {
   "cell_type": "code",
   "execution_count": 4,
   "metadata": {
    "collapsed": true
   },
   "outputs": [],
   "source": [
    "quad_B_lst = []\n",
    "for i in range(37):\n",
    "    with open(\"m%d/res_1_1.out\" % i,'rb') as inf:\n",
    "        res_1_1_file = pickle.load(inf)\n",
    "    quad_B_lst.append([i,[sp.factor(sum([res_1_1_file[i][0] for i in [24 * j + k for k in range(24)]])) for j in range(4)]])"
   ]
  },
  {
   "cell_type": "code",
   "execution_count": 5,
   "metadata": {
    "collapsed": true
   },
   "outputs": [],
   "source": [
    "quad_C_lst = []\n",
    "for i in range(37):\n",
    "    with open(\"m%d/res_1_2.out\" % i,'rb') as inf:\n",
    "        res_1_2_file = pickle.load(inf)\n",
    "    quad_C_lst.append([i,[sp.factor(sum([res_1_2_file[i][0] for i in [24 * j + k for k in range(24)]])) for j in range(4)]])"
   ]
  },
  {
   "cell_type": "code",
   "execution_count": 6,
   "metadata": {
    "collapsed": true
   },
   "outputs": [],
   "source": [
    "comb_lst = []\n",
    "for i in range(len(biv_lst)):\n",
    "    comb_lst.append([biv_lst[i][0], [ \\\n",
    "        sp.simplify(biv_lst[i][1][j] + quad_A_lst[i][1][j] + quad_B_lst[i][1][j] + quad_C_lst[i][1][j]) \\\n",
    "                    for j in range(4)] \\\n",
    "        ])"
   ]
  },
  {
   "cell_type": "code",
   "execution_count": 92,
   "metadata": {
    "collapsed": true
   },
   "outputs": [],
   "source": [
    "mode_lst = []\n",
    "for i in range(44):\n",
    "    if i < 11 or i > 21 or i == 18 or i == 13 or i == 15 or i == 20:\n",
    "        mode_lst.append(i)"
   ]
  },
  {
   "cell_type": "code",
   "execution_count": 7,
   "metadata": {},
   "outputs": [
    {
     "data": {
      "text/plain": [
       "1"
      ]
     },
     "execution_count": 7,
     "metadata": {},
     "output_type": "execute_result"
    }
   ],
   "source": [
    "sp.simplify(sum([comb_lst[i][1][0] for i in range(37)]))"
   ]
  },
  {
   "cell_type": "code",
   "execution_count": 8,
   "metadata": {},
   "outputs": [
    {
     "data": {
      "text/plain": [
       "1"
      ]
     },
     "execution_count": 8,
     "metadata": {},
     "output_type": "execute_result"
    }
   ],
   "source": [
    "sp.simplify(sum([comb_lst[i][1][1] for i in range(37)]))"
   ]
  },
  {
   "cell_type": "code",
   "execution_count": 9,
   "metadata": {},
   "outputs": [
    {
     "data": {
      "text/plain": [
       "1"
      ]
     },
     "execution_count": 9,
     "metadata": {},
     "output_type": "execute_result"
    }
   ],
   "source": [
    "sp.simplify(sum([comb_lst[i][1][2] for i in range(37)]))"
   ]
  },
  {
   "cell_type": "code",
   "execution_count": 10,
   "metadata": {},
   "outputs": [
    {
     "data": {
      "text/plain": [
       "1"
      ]
     },
     "execution_count": 10,
     "metadata": {},
     "output_type": "execute_result"
    }
   ],
   "source": [
    "sp.simplify(sum([comb_lst[i][1][3] for i in range(37)]))"
   ]
  },
  {
   "cell_type": "code",
   "execution_count": 46,
   "metadata": {
    "collapsed": true
   },
   "outputs": [],
   "source": [
    "import sympy as sp \n",
    "import itertools\n",
    "a1,a2,b1,b2,a3,a4,b3,b2,b4,c1,c2,c3,c4 = sp.symbols('a1,a2,b1,b2,a3,a4,b3,b2,b4,c1,c2,c3,c4')    \n",
    "r= sp.symbols('r')\n",
    "q=sp.symbols('q')\n",
    "v=sp.symbols('v')\n",
    "vp=sp.symbols('vp')\n",
    "rp=sp.symbols('rp')\n",
    "qp=sp.symbols('qp')\n",
    "t=sp.symbols('t')\n",
    "(ppc)=sp.symbols('(ppc)')\n",
    "(pdm)=sp.symbols('(pdm)')\n",
    "(pmp)=sp.symbols('(pmp)')\n",
    "p_pair=sp.symbols('p_pair')\n",
    "\n",
    "G, g = sp.symbols('G, g')"
   ]
  },
  {
   "cell_type": "code",
   "execution_count": 12,
   "metadata": {},
   "outputs": [
    {
     "data": {
      "text/plain": [
       "[[0,\n",
       "  [-(ppc)*t*vp*(vp - 1)*(2*q*r - q - r + 1)**2/2,\n",
       "   (ppc)*t*vp*(-2*p_pair**4*q**2*r**2*vp + 2*p_pair**4*q**2*r*vp - p_pair**4*q**2*vp + 2*p_pair**3*q**2*r**2 - 2*p_pair**3*q**2*r + p_pair**3*q**2 + 2*p_pair**3*q*r**2*vp - 4*p_pair**3*q*r*vp + 2*p_pair**3*q*vp - 2*p_pair**2*q*r**2 + 4*p_pair**2*q*r - 2*p_pair**2*q - p_pair**2*r**2*vp + 2*p_pair**2*r*vp - p_pair**2*vp + p_pair*r**2 - 2*p_pair*r + p_pair - 18*q**2*r**2*vp + 18*q**2*r**2 + 18*q**2*r*vp - 18*q**2*r - 5*q**2*vp + 5*q**2 + 18*q*r**2*vp - 18*q*r**2 - 28*q*r*vp + 28*q*r + 10*q*vp - 10*q - 5*r**2*vp + 5*r**2 + 10*r*vp - 10*r - 5*vp + 5)/16,\n",
       "   (ppc)*t*vp*(-2*p_pair**4*q**2*r**2*vp + 2*p_pair**4*q**2*r*vp - p_pair**4*q**2*vp + 2*p_pair**3*q**2*r**2 - 2*p_pair**3*q**2*r + p_pair**3*q**2 + 2*p_pair**3*q*r**2*vp - 4*p_pair**3*q*r*vp + 2*p_pair**3*q*vp - 2*p_pair**2*q*r**2 + 4*p_pair**2*q*r - 2*p_pair**2*q - p_pair**2*r**2*vp + 2*p_pair**2*r*vp - p_pair**2*vp + p_pair*r**2 - 2*p_pair*r + p_pair - 6*q**2*r**2*vp + 6*q**2*r**2 + 6*q**2*r*vp - 6*q**2*r - 2*q**2*vp + 2*q**2 + 6*q*r**2*vp - 6*q*r**2 - 10*q*r*vp + 10*q*r + 4*q*vp - 4*q - 2*r**2*vp + 2*r**2 + 4*r*vp - 4*r - 2*vp + 2)/12,\n",
       "   (ppc)*t*vp*(-4*p_pair**4*q**2*r**2*vp + 4*p_pair**4*q**2*r*vp - p_pair**4*q**2*vp + 4*p_pair**3*q**2*r**2 - 4*p_pair**3*q**2*r + p_pair**3*q**2 + 4*p_pair**3*q*r**2*vp - 6*p_pair**3*q*r*vp + 2*p_pair**3*q*vp - 4*p_pair**2*q*r**2 + 6*p_pair**2*q*r - 2*p_pair**2*q - p_pair**2*r**2*vp + 2*p_pair**2*r*vp - p_pair**2*vp + p_pair*r**2 - 2*p_pair*r + p_pair - 20*q**2*r**2*vp + 20*q**2*r**2 + 20*q**2*r*vp - 20*q**2*r - 5*q**2*vp + 5*q**2 + 20*q*r**2*vp - 20*q*r**2 - 30*q*r*vp + 30*q*r + 10*q*vp - 10*q - 5*r**2*vp + 5*r**2 + 10*r*vp - 10*r - 5*vp + 5)/16]],\n",
       " [1,\n",
       "  [-(ppc)*t*vp*(vp - 1)*(-2*q*r + q + r)**2/2,\n",
       "   (ppc)*t*vp*(-2*p_pair**4*q**2*r**2*vp + 2*p_pair**4*q**2*r*vp - p_pair**4*q**2*vp + 2*p_pair**3*q**2*r**2 - 2*p_pair**3*q**2*r + p_pair**3*q**2 + 2*p_pair**3*q*r**2*vp - 2*p_pair**2*q*r**2 - p_pair**2*r**2*vp + p_pair*r**2 - 18*q**2*r**2*vp + 18*q**2*r**2 + 18*q**2*r*vp - 18*q**2*r - 5*q**2*vp + 5*q**2 + 18*q*r**2*vp - 18*q*r**2 - 8*q*r*vp + 8*q*r - 5*r**2*vp + 5*r**2)/16,\n",
       "   (ppc)*t*vp*(-2*p_pair**4*q**2*r**2*vp + 2*p_pair**4*q**2*r*vp - p_pair**4*q**2*vp + 2*p_pair**3*q**2*r**2 - 2*p_pair**3*q**2*r + p_pair**3*q**2 + 2*p_pair**3*q*r**2*vp - 2*p_pair**2*q*r**2 - p_pair**2*r**2*vp + p_pair*r**2 - 6*q**2*r**2*vp + 6*q**2*r**2 + 6*q**2*r*vp - 6*q**2*r - 2*q**2*vp + 2*q**2 + 6*q*r**2*vp - 6*q*r**2 - 2*q*r*vp + 2*q*r - 2*r**2*vp + 2*r**2)/12,\n",
       "   (ppc)*t*vp*(-4*p_pair**4*q**2*r**2*vp + 4*p_pair**4*q**2*r*vp - p_pair**4*q**2*vp + 4*p_pair**3*q**2*r**2 - 4*p_pair**3*q**2*r + p_pair**3*q**2 + 4*p_pair**3*q*r**2*vp - 2*p_pair**3*q*r*vp - 4*p_pair**2*q*r**2 + 2*p_pair**2*q*r - p_pair**2*r**2*vp + p_pair*r**2 - 20*q**2*r**2*vp + 20*q**2*r**2 + 20*q**2*r*vp - 20*q**2*r - 5*q**2*vp + 5*q**2 + 20*q*r**2*vp - 20*q*r**2 - 10*q*r*vp + 10*q*r - 5*r**2*vp + 5*r**2)/16]],\n",
       " [2,\n",
       "  [-(ppc)*t*vp*(vp - 1)*(-2*q*r + q + r)*(2*q*r - q - r + 1),\n",
       "   (ppc)*t*vp*(2*p_pair**4*q**2*r**2*vp - 2*p_pair**4*q**2*r*vp - 2*p_pair**3*q**2*r**2 + 2*p_pair**3*q**2*r - 2*p_pair**3*q*r**2*vp + 2*p_pair**3*q*r*vp + 2*p_pair**2*q*r**2 - 2*p_pair**2*q*r + p_pair**2*r**2*vp - p_pair**2*r*vp - p_pair*r**2 + p_pair*r + 18*q**2*r**2*vp - 18*q**2*r**2 - 18*q**2*r*vp + 18*q**2*r + 4*q**2*vp - 4*q**2 - 18*q*r**2*vp + 18*q*r**2 + 18*q*r*vp - 18*q*r - 4*q*vp + 4*q + 5*r**2*vp - 5*r**2 - 5*r*vp + 5*r)/8,\n",
       "   (ppc)*t*vp*(2*p_pair**4*q**2*r**2*vp - 2*p_pair**4*q**2*r*vp - 2*p_pair**3*q**2*r**2 + 2*p_pair**3*q**2*r - 2*p_pair**3*q*r**2*vp + 2*p_pair**3*q*r*vp + 2*p_pair**2*q*r**2 - 2*p_pair**2*q*r + p_pair**2*r**2*vp - p_pair**2*r*vp - p_pair*r**2 + p_pair*r + 6*q**2*r**2*vp - 6*q**2*r**2 - 6*q**2*r*vp + 6*q**2*r + q**2*vp - q**2 - 6*q*r**2*vp + 6*q*r**2 + 6*q*r*vp - 6*q*r - q*vp + q + 2*r**2*vp - 2*r**2 - 2*r*vp + 2*r)/6,\n",
       "   (ppc)*t*vp*(4*p_pair**4*q**2*r**2*vp - 4*p_pair**4*q**2*r*vp + p_pair**4*q**2*vp - 4*p_pair**3*q**2*r**2 + 4*p_pair**3*q**2*r - p_pair**3*q**2 - 4*p_pair**3*q*r**2*vp + 4*p_pair**3*q*r*vp - p_pair**3*q*vp + 4*p_pair**2*q*r**2 - 4*p_pair**2*q*r + p_pair**2*q + p_pair**2*r**2*vp - p_pair**2*r*vp - p_pair*r**2 + p_pair*r + 20*q**2*r**2*vp - 20*q**2*r**2 - 20*q**2*r*vp + 20*q**2*r + 5*q**2*vp - 5*q**2 - 20*q*r**2*vp + 20*q*r**2 + 20*q*r*vp - 20*q*r - 5*q*vp + 5*q + 5*r**2*vp - 5*r**2 - 5*r*vp + 5*r)/8]],\n",
       " [3, [0, 0, 0, 0]],\n",
       " [4,\n",
       "  [t*(-(pdm)*rp*(rp - 1)*(2*q*rp - q - rp + 1) - (pmp)*(qp - 1)*(-2*qp*r + qp + r)*(2*qp*r - qp - r + 1) + (ppc)*(2*vp**2 - 2*vp + 1)*(-2*q*r + q + r)*(2*q*r - q - r + 1))/2,\n",
       "   t*(-(pdm)*rp*(rp - 1)*(2*p_pair*q*rp - p_pair*q + 6*q*rp - 3*q - 4*rp + 4) + (pmp)*(qp - 1)*(2*p_pair**2*qp**2*r**2 - 2*p_pair**2*qp**2*r + p_pair**2*qp**2 - 2*p_pair*qp*r**2 + 2*p_pair*qp*r - p_pair*qp + 18*qp**2*r**2 - 18*qp**2*r + 5*qp**2 - 18*qp*r**2 + 18*qp*r - 5*qp + 4*r**2 - 4*r) - (ppc)*(4*p_pair**4*q**2*r**2*vp**2 - 4*p_pair**4*q**2*r*vp**2 + 2*p_pair**4*q**2*vp**2 - 4*p_pair**3*q**2*r**2*vp + 4*p_pair**3*q**2*r*vp - 2*p_pair**3*q**2*vp - 4*p_pair**3*q*r**2*vp**2 + 4*p_pair**3*q*r*vp**2 - 2*p_pair**3*q*vp**2 + 2*p_pair**2*q**2*r**2 - 2*p_pair**2*q**2*r + p_pair**2*q**2 + 4*p_pair**2*q*r**2*vp - 4*p_pair**2*q*r*vp + 2*p_pair**2*q*vp - 2*p_pair*q*r**2 + 2*p_pair*q*r - p_pair*q + 36*q**2*r**2*vp**2 - 36*q**2*r**2*vp + 18*q**2*r**2 - 36*q**2*r*vp**2 + 36*q**2*r*vp - 18*q**2*r + 10*q**2*vp**2 - 10*q**2*vp + 5*q**2 - 36*q*r**2*vp**2 + 36*q*r**2*vp - 18*q*r**2 + 36*q*r*vp**2 - 36*q*r*vp + 18*q*r - 10*q*vp**2 + 10*q*vp - 5*q + 8*r**2*vp**2 - 8*r**2*vp + 4*r**2 - 8*r*vp**2 + 8*r*vp - 4*r))/16,\n",
       "   t*(-(pdm)*rp*(rp - 1)*(2*p_pair*q*rp - p_pair*q + 2*q*rp - q - 2*rp + 2) + 2*(pmp)*(qp - 1)*(2*p_pair**2*qp**2*r**2 - 2*p_pair**2*qp**2*r + p_pair**2*qp**2 - 2*p_pair*qp*r**2 + 2*p_pair*qp*r - p_pair*qp + 6*qp**2*r**2 - 6*qp**2*r + 2*qp**2 - 6*qp*r**2 + 6*qp*r - 2*qp + r**2 - r) - 2*(ppc)*(4*p_pair**4*q**2*r**2*vp**2 - 4*p_pair**4*q**2*r*vp**2 + 2*p_pair**4*q**2*vp**2 - 4*p_pair**3*q**2*r**2*vp + 4*p_pair**3*q**2*r*vp - 2*p_pair**3*q**2*vp - 4*p_pair**3*q*r**2*vp**2 + 4*p_pair**3*q*r*vp**2 - 2*p_pair**3*q*vp**2 + 2*p_pair**2*q**2*r**2 - 2*p_pair**2*q**2*r + p_pair**2*q**2 + 4*p_pair**2*q*r**2*vp - 4*p_pair**2*q*r*vp + 2*p_pair**2*q*vp - 2*p_pair*q*r**2 + 2*p_pair*q*r - p_pair*q + 12*q**2*r**2*vp**2 - 12*q**2*r**2*vp + 6*q**2*r**2 - 12*q**2*r*vp**2 + 12*q**2*r*vp - 6*q**2*r + 4*q**2*vp**2 - 4*q**2*vp + 2*q**2 - 12*q*r**2*vp**2 + 12*q*r**2*vp - 6*q*r**2 + 12*q*r*vp**2 - 12*q*r*vp + 6*q*r - 4*q*vp**2 + 4*q*vp - 2*q + 2*r**2*vp**2 - 2*r**2*vp + r**2 - 2*r*vp**2 + 2*r*vp - r))/24,\n",
       "   t*(-3*(pdm)*rp*(rp - 1)*(2*p_pair*q*rp - p_pair*q + 6*q*rp - 3*q - 4*rp + 4) + 2*(pmp)*(qp - 1)*(4*p_pair**2*qp**2*r**2 - 4*p_pair**2*qp**2*r + p_pair**2*qp**2 - 4*p_pair*qp*r**2 + 4*p_pair*qp*r - p_pair*qp + 20*qp**2*r**2 - 20*qp**2*r + 5*qp**2 - 20*qp*r**2 + 20*qp*r - 5*qp + 6*r**2 - 6*r) - 2*(ppc)*(8*p_pair**4*q**2*r**2*vp**2 - 8*p_pair**4*q**2*r*vp**2 + 2*p_pair**4*q**2*vp**2 - 8*p_pair**3*q**2*r**2*vp + 8*p_pair**3*q**2*r*vp - 2*p_pair**3*q**2*vp - 8*p_pair**3*q*r**2*vp**2 + 8*p_pair**3*q*r*vp**2 - 2*p_pair**3*q*vp**2 + 4*p_pair**2*q**2*r**2 - 4*p_pair**2*q**2*r + p_pair**2*q**2 + 8*p_pair**2*q*r**2*vp - 8*p_pair**2*q*r*vp + 2*p_pair**2*q*vp + 2*p_pair**2*r**2*vp**2 - 2*p_pair**2*r*vp**2 - 4*p_pair*q*r**2 + 4*p_pair*q*r - p_pair*q - 2*p_pair*r**2*vp + 2*p_pair*r*vp + 40*q**2*r**2*vp**2 - 40*q**2*r**2*vp + 20*q**2*r**2 - 40*q**2*r*vp**2 + 40*q**2*r*vp - 20*q**2*r + 10*q**2*vp**2 - 10*q**2*vp + 5*q**2 - 40*q*r**2*vp**2 + 40*q*r**2*vp - 20*q*r**2 + 40*q*r*vp**2 - 40*q*r*vp + 20*q*r - 10*q*vp**2 + 10*q*vp - 5*q + 10*r**2*vp**2 - 10*r**2*vp + 6*r**2 - 10*r*vp**2 + 10*r*vp - 6*r))/32]],\n",
       " [5,\n",
       "  [t*(-(pdm)*rp*(rp - 1)*(-2*q*rp + q + rp) + (pmp)*qp*(-2*qp*r + qp + r)*(2*qp*r - qp - r + 1))/2,\n",
       "   -t*((pdm)*rp*(rp - 1)*(-2*p_pair*q*rp + p_pair*q - 6*q*rp + 3*q + 4*rp) + (pmp)*qp*(2*p_pair**2*qp**2*r**2 - 2*p_pair**2*qp**2*r + p_pair**2*qp**2 - 2*p_pair*qp*r**2 + 2*p_pair*qp*r - p_pair*qp + 18*qp**2*r**2 - 18*qp**2*r + 5*qp**2 - 18*qp*r**2 + 18*qp*r - 5*qp + 4*r**2 - 4*r))/16,\n",
       "   -t*((pdm)*rp*(rp - 1)*(-2*p_pair*q*rp + p_pair*q - 2*q*rp + q + 2*rp) + 2*(pmp)*qp*(2*p_pair**2*qp**2*r**2 - 2*p_pair**2*qp**2*r + p_pair**2*qp**2 - 2*p_pair*qp*r**2 + 2*p_pair*qp*r - p_pair*qp + 6*qp**2*r**2 - 6*qp**2*r + 2*qp**2 - 6*qp*r**2 + 6*qp*r - 2*qp + r**2 - r))/24,\n",
       "   -t*(3*(pdm)*rp*(rp - 1)*(-2*p_pair*q*rp + p_pair*q - 6*q*rp + 3*q + 4*rp) + 2*(pmp)*qp*(4*p_pair**2*qp**2*r**2 - 4*p_pair**2*qp**2*r + p_pair**2*qp**2 - 4*p_pair*qp*r**2 + 4*p_pair*qp*r - p_pair*qp + 20*qp**2*r**2 - 20*qp**2*r + 5*qp**2 - 20*qp*r**2 + 20*qp*r - 5*qp + 6*r**2 - 6*r))/32]],\n",
       " [6,\n",
       "  [(pdm)*t*(rp - 1)*(3*rp - 4)*(2*q*rp - q - rp + 1)**2/4 + (pmp)*t*(qp - 1)**2*(2*qp*r - qp - r + 1)*(6*qp*r - 3*qp - 3*r + 4)/4 + (ppc)*t*(2*q*r - q - r + 1)*(4*q*r*vp**2 - 4*q*r*vp + 6*q*r - 2*q*vp**2 + 2*q*vp - 3*q - 2*r*vp**2 + 2*r*vp - 3*r + 2*vp**2 - 2*vp + 4)/4 + (-(pdm)*t - (pmp)*t - (ppc)*t + 1)*(2*q*r - q - r + 1)**2,\n",
       "   (pdm)*t*(rp - 1)*(3*rp - 4)*(2*q*rp - q - rp + 1)*(2*p_pair*q*rp - p_pair*q + 2*q*rp - q - 2*rp + 2)/16 + (pmp)*t*(qp - 1)**2*(p_pair**2*qp**2*r**2 - p_pair**2*qp**2*r + 8*p_pair*qp**2*r**2 - 8*p_pair*qp**2*r + 2*p_pair*qp**2 - 5*p_pair*qp*r**2 + 7*p_pair*qp*r - 2*p_pair*qp + 17*qp**2*r**2 - 17*qp**2*r + 4*qp**2 - 21*qp*r**2 + 35*qp*r - 12*qp + 6*r**2 - 14*r + 8)/16 + (ppc)*t*(2*p_pair**4*q**2*r**2*vp**2 - 2*p_pair**4*q**2*r*vp**2 - 2*p_pair**3*q**2*r**2*vp + 2*p_pair**3*q**2*r*vp - 2*p_pair**3*q*r**2*vp**2 + 2*p_pair**3*q*r*vp**2 + p_pair**2*q**2*r**2 - p_pair**2*q**2*r + 2*p_pair**2*q*r**2*vp - 2*p_pair**2*q*r*vp + 8*p_pair*q**2*r**2 - 8*p_pair*q**2*r + 2*p_pair*q**2 - 5*p_pair*q*r**2 + 7*p_pair*q*r - 2*p_pair*q + 18*q**2*r**2*vp**2 - 18*q**2*r**2*vp + 17*q**2*r**2 - 18*q**2*r*vp**2 + 18*q**2*r*vp - 17*q**2*r + 4*q**2*vp**2 - 4*q**2*vp + 4*q**2 - 18*q*r**2*vp**2 + 18*q*r**2*vp - 21*q*r**2 + 26*q*r*vp**2 - 26*q*r*vp + 35*q*r - 8*q*vp**2 + 8*q*vp - 12*q + 4*r**2*vp**2 - 4*r**2*vp + 6*r**2 - 8*r*vp**2 + 8*r*vp - 14*r + 4*vp**2 - 4*vp + 8)/16 - ((pdm)*t + (pmp)*t + (ppc)*t - 1)*(2*q*r - q - r + 1)*(4*p_pair*q*r - 2*p_pair*q + 2*q*r - q - 3*r + 3)/6,\n",
       "   (pdm)*t*(rp - 1)*(3*rp - 4)*(2*q*rp - q - rp + 1)*(2*p_pair*q*rp - p_pair*q - rp + 1)/24 + (pmp)*t*(qp - 1)**2*(2*p_pair**2*qp**2*r**2 - 2*p_pair**2*qp**2*r + 8*p_pair*qp**2*r**2 - 8*p_pair*qp**2*r + 2*p_pair*qp**2 - 6*p_pair*qp*r**2 + 8*p_pair*qp*r - 2*p_pair*qp + 6*qp**2*r**2 - 6*qp**2*r + qp**2 - 10*qp*r**2 + 16*qp*r - 5*qp + 3*r**2 - 7*r + 4)/24 + (ppc)*t*(4*p_pair**4*q**2*r**2*vp**2 - 4*p_pair**4*q**2*r*vp**2 - 4*p_pair**3*q**2*r**2*vp + 4*p_pair**3*q**2*r*vp - 4*p_pair**3*q*r**2*vp**2 + 4*p_pair**3*q*r*vp**2 + 2*p_pair**2*q**2*r**2 - 2*p_pair**2*q**2*r + 4*p_pair**2*q*r**2*vp - 4*p_pair**2*q*r*vp + 8*p_pair*q**2*r**2 - 8*p_pair*q**2*r + 2*p_pair*q**2 - 6*p_pair*q*r**2 + 8*p_pair*q*r - 2*p_pair*q + 12*q**2*r**2*vp**2 - 12*q**2*r**2*vp + 6*q**2*r**2 - 12*q**2*r*vp**2 + 12*q**2*r*vp - 6*q**2*r + 2*q**2*vp**2 - 2*q**2*vp + q**2 - 12*q*r**2*vp**2 + 12*q*r**2*vp - 10*q*r**2 + 16*q*r*vp**2 - 16*q*r*vp + 16*q*r - 4*q*vp**2 + 4*q*vp - 5*q + 2*r**2*vp**2 - 2*r**2*vp + 3*r**2 - 4*r*vp**2 + 4*r*vp - 7*r + 2*vp**2 - 2*vp + 4)/24 - ((pdm)*t + (pmp)*t + (ppc)*t - 1)*(2*q*r - q - r + 1)*(2*p_pair*q*r - p_pair*q - r + 1)/6,\n",
       "   3*(pdm)*t*(rp - 1)*(3*rp - 4)*(2*q*rp - q - rp + 1)*(2*p_pair*q*rp - p_pair*q + 2*q*rp - q - 2*rp + 2)/32 + (pmp)*t*(qp - 1)**2*(4*p_pair**2*qp**2*r**2 - 4*p_pair**2*qp**2*r + p_pair**2*qp**2 + 24*p_pair*qp**2*r**2 - 24*p_pair*qp**2*r + 6*p_pair*qp**2 - 16*p_pair*qp*r**2 + 26*p_pair*qp*r - 9*p_pair*qp + 44*qp**2*r**2 - 44*qp**2*r + 11*qp**2 - 56*qp*r**2 + 94*qp*r - 33*qp + 18*r**2 - 42*r + 24)/32 + (ppc)*t*(8*p_pair**4*q**2*r**2*vp**2 - 8*p_pair**4*q**2*r*vp**2 + 2*p_pair**4*q**2*vp**2 - 8*p_pair**3*q**2*r**2*vp + 8*p_pair**3*q**2*r*vp - 2*p_pair**3*q**2*vp - 8*p_pair**3*q*r**2*vp**2 + 12*p_pair**3*q*r*vp**2 - 4*p_pair**3*q*vp**2 + 4*p_pair**2*q**2*r**2 - 4*p_pair**2*q**2*r + p_pair**2*q**2 + 8*p_pair**2*q*r**2*vp - 12*p_pair**2*q*r*vp + 4*p_pair**2*q*vp + 2*p_pair**2*r**2*vp**2 - 4*p_pair**2*r*vp**2 + 2*p_pair**2*vp**2 + 24*p_pair*q**2*r**2 - 24*p_pair*q**2*r + 6*p_pair*q**2 - 16*p_pair*q*r**2 + 26*p_pair*q*r - 9*p_pair*q - 2*p_pair*r**2*vp + 4*p_pair*r*vp - 2*p_pair*vp + 40*q**2*r**2*vp**2 - 40*q**2*r**2*vp + 44*q**2*r**2 - 40*q**2*r*vp**2 + 40*q**2*r*vp - 44*q**2*r + 10*q**2*vp**2 - 10*q**2*vp + 11*q**2 - 40*q*r**2*vp**2 + 40*q*r**2*vp - 56*q*r**2 + 60*q*r*vp**2 - 60*q*r*vp + 94*q*r - 20*q*vp**2 + 20*q*vp - 33*q + 10*r**2*vp**2 - 10*r**2*vp + 18*r**2 - 20*r*vp**2 + 20*r*vp - 42*r + 10*vp**2 - 10*vp + 24)/32 - ((pdm)*t + (pmp)*t + (ppc)*t - 1)*(2*q*r - q - r + 1)*(4*p_pair*q*r - 2*p_pair*q + 2*q*r - q - 3*r + 3)/4]],\n",
       " [7,\n",
       "  [-(pdm)*t*(rp - 1)*(2*q*rp - q - rp + 1)*(6*q*rp**2 - 11*q*rp + 4*q - 3*rp**2 + 6*rp)/2 - (pmp)*t*(qp - 1)*(2*qp*r - qp - r + 1)*(6*qp**2*r - 3*qp**2 - 7*qp*r + 6*qp + 2*r)/2 + (ppc)*t*(-2*q*r + q + r)*(2*q*r - q - r + 1) - 2*(-2*q*r + q + r)*((pdm)*t + (pmp)*t + (ppc)*t - 1)*(2*q*r - q - r + 1),\n",
       "   -(pdm)*t*(rp - 1)*(24*p_pair*q**2*rp**3 - 56*p_pair*q**2*rp**2 + 38*p_pair*q**2*rp - 8*p_pair*q**2 - 12*p_pair*q*rp**3 + 32*p_pair*q*rp**2 - 21*p_pair*q*rp + 4*p_pair*q + 24*q**2*rp**3 - 56*q**2*rp**2 + 38*q**2*rp - 8*q**2 - 36*q*rp**3 + 96*q*rp**2 - 63*q*rp + 12*q + 12*rp**3 - 36*rp**2 + 24*rp)/16 - (pmp)*t*(qp - 1)*(p_pair**2*qp**3*r**2 - p_pair**2*qp**3*r + 8*p_pair*qp**3*r**2 - 8*p_pair*qp**3*r + 2*p_pair*qp**3 - 13*p_pair*qp**2*r**2 + 15*p_pair*qp**2*r - 4*p_pair*qp**2 + 4*p_pair*qp*r**2 - 4*p_pair*qp*r + p_pair*qp + 17*qp**3*r**2 - 17*qp**3*r + 4*qp**3 - 29*qp**2*r**2 + 43*qp**2*r - 14*qp**2 + 18*qp*r**2 - 26*qp*r + 11*qp - 4*r**2 + 4*r)/8 - (ppc)*t*(8*p_pair*q**2*r**2 - 8*p_pair*q**2*r + 2*p_pair*q**2 - 4*p_pair*q*r**2 + 4*p_pair*q*r - p_pair*q + 8*q**2*r**2 - 8*q**2*r + 2*q**2 - 12*q*r**2 + 12*q*r - 3*q + 4*r**2 - 4*r)/8 + ((pdm)*t + (pmp)*t + (ppc)*t - 1)*(8*p_pair*q**2*r**2 - 8*p_pair*q**2*r + 2*p_pair*q**2 - 4*p_pair*q*r**2 + 4*p_pair*q*r - p_pair*q + 4*q**2*r**2 - 4*q**2*r + q**2 - 8*q*r**2 + 8*q*r - 2*q + 3*r**2 - 3*r)/3,\n",
       "   -(pdm)*t*(rp - 1)*(24*p_pair*q**2*rp**3 - 56*p_pair*q**2*rp**2 + 38*p_pair*q**2*rp - 8*p_pair*q**2 - 12*p_pair*q*rp**3 + 32*p_pair*q*rp**2 - 21*p_pair*q*rp + 4*p_pair*q - 12*q*rp**3 + 32*q*rp**2 - 21*q*rp + 4*q + 6*rp**3 - 18*rp**2 + 12*rp)/24 - (pmp)*t*(qp - 1)*(2*p_pair**2*qp**3*r**2 - 2*p_pair**2*qp**3*r + 8*p_pair*qp**3*r**2 - 8*p_pair*qp**3*r + 2*p_pair*qp**3 - 14*p_pair*qp**2*r**2 + 16*p_pair*qp**2*r - 4*p_pair*qp**2 + 4*p_pair*qp*r**2 - 4*p_pair*qp*r + p_pair*qp + 6*qp**3*r**2 - 6*qp**3*r + qp**3 - 10*qp**2*r**2 + 16*qp**2*r - 5*qp**2 + 7*qp*r**2 - 11*qp*r + 5*qp - 2*r**2 + 2*r)/12 + (ppc)*t*(-8*p_pair*q**2*r**2 + 8*p_pair*q**2*r - 2*p_pair*q**2 + 4*p_pair*q*r**2 - 4*p_pair*q*r + p_pair*q + 4*q*r**2 - 4*q*r + q - 2*r**2 + 2*r)/12 - ((pdm)*t + (pmp)*t + (ppc)*t - 1)*(-8*p_pair*q**2*r**2 + 8*p_pair*q**2*r - 2*p_pair*q**2 + 4*p_pair*q*r**2 - 4*p_pair*q*r + p_pair*q + 4*q*r**2 - 4*q*r + q - 2*r**2 + 2*r)/6,\n",
       "   -3*(pdm)*t*(rp - 1)*(24*p_pair*q**2*rp**3 - 56*p_pair*q**2*rp**2 + 38*p_pair*q**2*rp - 8*p_pair*q**2 - 12*p_pair*q*rp**3 + 32*p_pair*q*rp**2 - 21*p_pair*q*rp + 4*p_pair*q + 24*q**2*rp**3 - 56*q**2*rp**2 + 38*q**2*rp - 8*q**2 - 36*q*rp**3 + 96*q*rp**2 - 63*q*rp + 12*q + 12*rp**3 - 36*rp**2 + 24*rp)/32 - (pmp)*t*(qp - 1)*(4*p_pair**2*qp**3*r**2 - 4*p_pair**2*qp**3*r + p_pair**2*qp**3 + 24*p_pair*qp**3*r**2 - 24*p_pair*qp**3*r + 6*p_pair*qp**3 - 40*p_pair*qp**2*r**2 + 50*p_pair*qp**2*r - 15*p_pair*qp**2 + 12*p_pair*qp*r**2 - 12*p_pair*qp*r + 3*p_pair*qp + 44*qp**3*r**2 - 44*qp**3*r + 11*qp**3 - 80*qp**2*r**2 + 118*qp**2*r - 39*qp**2 + 54*qp*r**2 - 78*qp*r + 33*qp - 12*r**2 + 12*r)/16 - 3*(ppc)*t*(8*p_pair*q**2*r**2 - 8*p_pair*q**2*r + 2*p_pair*q**2 - 4*p_pair*q*r**2 + 4*p_pair*q*r - p_pair*q + 8*q**2*r**2 - 8*q**2*r + 2*q**2 - 12*q*r**2 + 12*q*r - 3*q + 4*r**2 - 4*r)/16 + ((pdm)*t + (pmp)*t + (ppc)*t - 1)*(8*p_pair*q**2*r**2 - 8*p_pair*q**2*r + 2*p_pair*q**2 - 4*p_pair*q*r**2 + 4*p_pair*q*r - p_pair*q + 4*q**2*r**2 - 4*q**2*r + q**2 - 8*q*r**2 + 8*q*r - 2*q + 3*r**2 - 3*r)/2]],\n",
       " [8,\n",
       "  [t*((pdm)*rp*(12*q**2*rp**3 - 8*q**2*rp**2 - q**2*rp + q**2 - 12*q*rp**3 + 6*q*rp**2 + 4*q*rp - 2*q + 3*rp**3 - rp**2 - rp + 1) - (pmp)*(-2*qp*r + qp + r)*(6*qp**3*r - 3*qp**3 - 7*qp**2*r + qp**2 + 4*qp*r + qp - r - 1) + (ppc)*(-2*q*r + q + r)*(-4*q*r*vp**2 + 4*q*r*vp - 2*q*r + 2*q*vp**2 - 2*q*vp + q + 2*r*vp**2 - 2*r*vp + r + 1))/4,\n",
       "   t*((pdm)*rp*(12*p_pair*q**2*rp**3 - 8*p_pair*q**2*rp**2 - p_pair*q**2*rp + p_pair*q**2 - 6*p_pair*q*rp**3 + 3*p_pair*q*rp**2 + 2*p_pair*q*rp - p_pair*q + 12*q**2*rp**3 - 8*q**2*rp**2 - q**2*rp + q**2 - 18*q*rp**3 + 9*q*rp**2 + 6*q*rp - 3*q + 6*rp**3 - 2*rp**2 - 2*rp + 2) + (pmp)*(p_pair**2*qp**4*r**2 - p_pair**2*qp**4*r - 2*p_pair**2*qp**3*r**2 + 2*p_pair**2*qp**3*r + p_pair**2*qp**2*r**2 - p_pair**2*qp**2*r + 8*p_pair*qp**4*r**2 - 8*p_pair*qp**4*r + 2*p_pair*qp**4 - 5*p_pair*qp**3*r**2 + 3*p_pair*qp**3*r + 2*p_pair*qp**2*r**2 - 2*p_pair*qp**2*r - p_pair*qp*r**2 + p_pair*qp*r + 17*qp**4*r**2 - 17*qp**4*r + 4*qp**4 - 39*qp**3*r**2 + 25*qp**3*r - 2*qp**3 + 33*qp**2*r**2 - 9*qp**2*r - 2*qp**2 - 13*qp*r**2 - 3*qp*r + 2*qp + 2*r**2 + 2*r) + (ppc)*(2*p_pair**4*q**2*r**2*vp**2 - 2*p_pair**4*q**2*r*vp**2 - 2*p_pair**3*q**2*r**2*vp + 2*p_pair**3*q**2*r*vp - 2*p_pair**3*q*r**2*vp**2 + 2*p_pair**3*q*r*vp**2 + p_pair**2*q**2*r**2 - p_pair**2*q**2*r + 2*p_pair**2*q*r**2*vp - 2*p_pair**2*q*r*vp - p_pair*q*r**2 + p_pair*q*r + 18*q**2*r**2*vp**2 - 18*q**2*r**2*vp + 9*q**2*r**2 - 18*q**2*r*vp**2 + 18*q**2*r*vp - 9*q**2*r + 4*q**2*vp**2 - 4*q**2*vp + 2*q**2 - 18*q*r**2*vp**2 + 18*q*r**2*vp - 9*q*r**2 + 10*q*r*vp**2 - 10*q*r*vp + q*r + 2*q + 4*r**2*vp**2 - 4*r**2*vp + 2*r**2 + 2*r))/16,\n",
       "   t*((pdm)*rp*(12*p_pair*q**2*rp**3 - 8*p_pair*q**2*rp**2 - p_pair*q**2*rp + p_pair*q**2 - 6*p_pair*q*rp**3 + 3*p_pair*q*rp**2 + 2*p_pair*q*rp - p_pair*q - 6*q*rp**3 + 3*q*rp**2 + 2*q*rp - q + 3*rp**3 - rp**2 - rp + 1) + (pmp)*(2*p_pair**2*qp**4*r**2 - 2*p_pair**2*qp**4*r - 4*p_pair**2*qp**3*r**2 + 4*p_pair**2*qp**3*r + 2*p_pair**2*qp**2*r**2 - 2*p_pair**2*qp**2*r + 8*p_pair*qp**4*r**2 - 8*p_pair*qp**4*r + 2*p_pair*qp**4 - 6*p_pair*qp**3*r**2 + 4*p_pair*qp**3*r + 4*p_pair*qp**2*r**2 - 4*p_pair*qp**2*r - 2*p_pair*qp*r**2 + 2*p_pair*qp*r + 6*qp**4*r**2 - 6*qp**4*r + qp**4 - 22*qp**3*r**2 + 16*qp**3*r - qp**3 + 21*qp**2*r**2 - 9*qp**2*r - qp**2 - 8*qp*r**2 + qp + r**2 + r) + (ppc)*(4*p_pair**4*q**2*r**2*vp**2 - 4*p_pair**4*q**2*r*vp**2 - 4*p_pair**3*q**2*r**2*vp + 4*p_pair**3*q**2*r*vp - 4*p_pair**3*q*r**2*vp**2 + 4*p_pair**3*q*r*vp**2 + 2*p_pair**2*q**2*r**2 - 2*p_pair**2*q**2*r + 4*p_pair**2*q*r**2*vp - 4*p_pair**2*q*r*vp - 2*p_pair*q*r**2 + 2*p_pair*q*r + 12*q**2*r**2*vp**2 - 12*q**2*r**2*vp + 6*q**2*r**2 - 12*q**2*r*vp**2 + 12*q**2*r*vp - 6*q**2*r + 2*q**2*vp**2 - 2*q**2*vp + q**2 - 12*q*r**2*vp**2 + 12*q*r**2*vp - 6*q*r**2 + 8*q*r*vp**2 - 8*q*r*vp + 2*q*r + q + 2*r**2*vp**2 - 2*r**2*vp + r**2 + r))/24,\n",
       "   t*(3*(pdm)*rp*(12*p_pair*q**2*rp**3 - 8*p_pair*q**2*rp**2 - p_pair*q**2*rp + p_pair*q**2 - 6*p_pair*q*rp**3 + 3*p_pair*q*rp**2 + 2*p_pair*q*rp - p_pair*q + 12*q**2*rp**3 - 8*q**2*rp**2 - q**2*rp + q**2 - 18*q*rp**3 + 9*q*rp**2 + 6*q*rp - 3*q + 6*rp**3 - 2*rp**2 - 2*rp + 2) + (pmp)*(4*p_pair**2*qp**4*r**2 - 4*p_pair**2*qp**4*r + p_pair**2*qp**4 - 8*p_pair**2*qp**3*r**2 + 8*p_pair**2*qp**3*r - 2*p_pair**2*qp**3 + 4*p_pair**2*qp**2*r**2 - 4*p_pair**2*qp**2*r + p_pair**2*qp**2 + 24*p_pair*qp**4*r**2 - 24*p_pair*qp**4*r + 6*p_pair*qp**4 - 16*p_pair*qp**3*r**2 + 6*p_pair*qp**3*r + p_pair*qp**3 + 8*p_pair*qp**2*r**2 - 2*p_pair*qp**2 - 4*p_pair*qp*r**2 + p_pair*qp + 44*qp**4*r**2 - 44*qp**4*r + 11*qp**4 - 96*qp**3*r**2 + 58*qp**3*r - 5*qp**3 + 78*qp**2*r**2 - 14*qp**2*r - 5*qp**2 - 32*qp*r**2 - 12*qp*r + 5*qp + 6*r**2 + 6*r) + (ppc)*(8*p_pair**4*q**2*r**2*vp**2 - 8*p_pair**4*q**2*r*vp**2 + 2*p_pair**4*q**2*vp**2 - 8*p_pair**3*q**2*r**2*vp + 8*p_pair**3*q**2*r*vp - 2*p_pair**3*q**2*vp - 8*p_pair**3*q*r**2*vp**2 + 4*p_pair**3*q*r*vp**2 + 4*p_pair**2*q**2*r**2 - 4*p_pair**2*q**2*r + p_pair**2*q**2 + 8*p_pair**2*q*r**2*vp - 4*p_pair**2*q*r*vp + 2*p_pair**2*r**2*vp**2 - 4*p_pair*q*r**2 + p_pair*q - 2*p_pair*r**2*vp + 40*q**2*r**2*vp**2 - 40*q**2*r**2*vp + 20*q**2*r**2 - 40*q**2*r*vp**2 + 40*q**2*r*vp - 20*q**2*r + 10*q**2*vp**2 - 10*q**2*vp + 5*q**2 - 40*q*r**2*vp**2 + 40*q*r**2*vp - 20*q*r**2 + 20*q*r*vp**2 - 20*q*r*vp + 5*q + 10*r**2*vp**2 - 10*r**2*vp + 6*r**2 + 6*r))/32]],\n",
       " [9,\n",
       "  [t*(-(pdm)*rp*(-2*q*rp + q + rp)*(-6*q*rp**2 + q*rp + q + 3*rp**2 - 3) + (pmp)*qp*(-2*qp*r + qp + r)*(6*qp**2*r - 3*qp**2 - 5*qp*r + r + 3))/2,\n",
       "   -t*((pdm)*rp*(24*p_pair*q**2*rp**3 - 16*p_pair*q**2*rp**2 - 2*p_pair*q**2*rp + 2*p_pair*q**2 - 12*p_pair*q*rp**3 + 4*p_pair*q*rp**2 + 7*p_pair*q*rp - 3*p_pair*q + 24*q**2*rp**3 - 16*q**2*rp**2 - 2*q**2*rp + 2*q**2 - 36*q*rp**3 + 12*q*rp**2 + 21*q*rp - 9*q + 12*rp**3 - 12*rp) + 2*(pmp)*qp*(p_pair**2*qp**3*r**2 - p_pair**2*qp**3*r - p_pair**2*qp**2*r**2 + p_pair**2*qp**2*r + 8*p_pair*qp**3*r**2 - 8*p_pair*qp**3*r + 2*p_pair*qp**3 - 5*p_pair*qp**2*r**2 + 3*p_pair*qp**2*r + p_pair*qp*r**2 + p_pair*qp*r - p_pair*qp + 17*qp**3*r**2 - 17*qp**3*r + 4*qp**3 - 30*qp**2*r**2 + 16*qp**2*r + 15*qp*r**2 + 7*qp*r - 5*qp - 2*r**2 - 6*r))/16,\n",
       "   -t*((pdm)*rp*(24*p_pair*q**2*rp**3 - 16*p_pair*q**2*rp**2 - 2*p_pair*q**2*rp + 2*p_pair*q**2 - 12*p_pair*q*rp**3 + 4*p_pair*q*rp**2 + 7*p_pair*q*rp - 3*p_pair*q - 12*q*rp**3 + 4*q*rp**2 + 7*q*rp - 3*q + 6*rp**3 - 6*rp) + 2*(pmp)*qp*(2*p_pair**2*qp**3*r**2 - 2*p_pair**2*qp**3*r - 2*p_pair**2*qp**2*r**2 + 2*p_pair**2*qp**2*r + 8*p_pair*qp**3*r**2 - 8*p_pair*qp**3*r + 2*p_pair*qp**3 - 6*p_pair*qp**2*r**2 + 4*p_pair*qp**2*r + 2*p_pair*qp*r**2 - p_pair*qp + 6*qp**3*r**2 - 6*qp**3*r + qp**3 - 16*qp**2*r**2 + 10*qp**2*r + 9*qp*r**2 + qp*r - 2*qp - r**2 - 3*r))/24,\n",
       "   -t*(3*(pdm)*rp*(24*p_pair*q**2*rp**3 - 16*p_pair*q**2*rp**2 - 2*p_pair*q**2*rp + 2*p_pair*q**2 - 12*p_pair*q*rp**3 + 4*p_pair*q*rp**2 + 7*p_pair*q*rp - 3*p_pair*q + 24*q**2*rp**3 - 16*q**2*rp**2 - 2*q**2*rp + 2*q**2 - 36*q*rp**3 + 12*q*rp**2 + 21*q*rp - 9*q + 12*rp**3 - 12*rp) + 2*(pmp)*qp*(4*p_pair**2*qp**3*r**2 - 4*p_pair**2*qp**3*r + p_pair**2*qp**3 - 4*p_pair**2*qp**2*r**2 + 4*p_pair**2*qp**2*r - p_pair**2*qp**2 + 24*p_pair*qp**3*r**2 - 24*p_pair*qp**3*r + 6*p_pair*qp**3 - 16*p_pair*qp**2*r**2 + 6*p_pair*qp**2*r + p_pair*qp**2 + 4*p_pair*qp*r**2 + 6*p_pair*qp*r - 4*p_pair*qp + 44*qp**3*r**2 - 44*qp**3*r + 11*qp**3 - 76*qp**2*r**2 + 38*qp**2*r + 38*qp*r**2 + 24*qp*r - 14*qp - 6*r**2 - 18*r))/32]],\n",
       " [10,\n",
       "  [(pdm)*t*(12*q**2*rp**4 - 24*q**2*rp**3 + 23*q**2*rp**2 - 11*q**2*rp + 2*q**2 - 12*q*rp**4 + 22*q*rp**3 - 16*q*rp**2 + 4*q*rp + 3*rp**4 - 5*rp**3 + 3*rp**2)/2 + (pmp)*t*(12*qp**4*r**2 - 12*qp**4*r + 3*qp**4 - 20*qp**3*r**2 + 20*qp**3*r - 5*qp**3 + 15*qp**2*r**2 - 11*qp**2*r + 3*qp**2 - 6*qp*r**2 + 2*qp*r + r**2)/2 + (ppc)*t*(-2*q*r + q + r)**2/2 + (-2*q*r + q + r)**2*(-(pdm)*t - (pmp)*t - (ppc)*t + 1),\n",
       "   (pdm)*t*(12*p_pair*q**2*rp**4 - 24*p_pair*q**2*rp**3 + 23*p_pair*q**2*rp**2 - 11*p_pair*q**2*rp + 2*p_pair*q**2 - 6*p_pair*q*rp**4 + 11*p_pair*q*rp**3 - 8*p_pair*q*rp**2 + 2*p_pair*q*rp + 12*q**2*rp**4 - 24*q**2*rp**3 + 23*q**2*rp**2 - 11*q**2*rp + 2*q**2 - 18*q*rp**4 + 33*q*rp**3 - 24*q*rp**2 + 6*q*rp + 6*rp**4 - 10*rp**3 + 6*rp**2)/8 + (pmp)*t*(p_pair**2*qp**4*r**2 - p_pair**2*qp**4*r + 8*p_pair*qp**4*r**2 - 8*p_pair*qp**4*r + 2*p_pair*qp**4 - 13*p_pair*qp**3*r**2 + 13*p_pair*qp**3*r - 3*p_pair*qp**3 + 8*p_pair*qp**2*r**2 - 6*p_pair*qp**2*r + p_pair*qp**2 - 2*p_pair*qp*r**2 + p_pair*qp*r + 17*qp**4*r**2 - 17*qp**4*r + 4*qp**4 - 29*qp**3*r**2 + 29*qp**3*r - 7*qp**3 + 22*qp**2*r**2 - 16*qp**2*r + 5*qp**2 - 10*qp*r**2 + 3*qp*r + 2*r**2)/8 + (ppc)*t*(-2*q*r + q + r)*(-2*p_pair*q*r + p_pair*q - 2*q*r + q + 2*r)/8 - (-2*q*r + q + r)*((pdm)*t + (pmp)*t + (ppc)*t - 1)*(-4*p_pair*q*r + 2*p_pair*q - 2*q*r + q + 3*r)/6,\n",
       "   (pdm)*t*(12*p_pair*q**2*rp**4 - 24*p_pair*q**2*rp**3 + 23*p_pair*q**2*rp**2 - 11*p_pair*q**2*rp + 2*p_pair*q**2 - 6*p_pair*q*rp**4 + 11*p_pair*q*rp**3 - 8*p_pair*q*rp**2 + 2*p_pair*q*rp - 6*q*rp**4 + 11*q*rp**3 - 8*q*rp**2 + 2*q*rp + 3*rp**4 - 5*rp**3 + 3*rp**2)/12 + (pmp)*t*(2*p_pair**2*qp**4*r**2 - 2*p_pair**2*qp**4*r + 8*p_pair*qp**4*r**2 - 8*p_pair*qp**4*r + 2*p_pair*qp**4 - 14*p_pair*qp**3*r**2 + 14*p_pair*qp**3*r - 3*p_pair*qp**3 + 8*p_pair*qp**2*r**2 - 6*p_pair*qp**2*r + p_pair*qp**2 - 2*p_pair*qp*r**2 + p_pair*qp*r + 6*qp**4*r**2 - 6*qp**4*r + qp**4 - 10*qp**3*r**2 + 10*qp**3*r - 2*qp**3 + 7*qp**2*r**2 - 5*qp**2*r + 2*qp**2 - 4*qp*r**2 + qp*r + r**2)/12 + (ppc)*t*(-2*q*r + q + r)*(-2*p_pair*q*r + p_pair*q + r)/12 - (-2*q*r + q + r)*(-2*p_pair*q*r + p_pair*q + r)*((pdm)*t + (pmp)*t + (ppc)*t - 1)/6,\n",
       "   3*(pdm)*t*(12*p_pair*q**2*rp**4 - 24*p_pair*q**2*rp**3 + 23*p_pair*q**2*rp**2 - 11*p_pair*q**2*rp + 2*p_pair*q**2 - 6*p_pair*q*rp**4 + 11*p_pair*q*rp**3 - 8*p_pair*q*rp**2 + 2*p_pair*q*rp + 12*q**2*rp**4 - 24*q**2*rp**3 + 23*q**2*rp**2 - 11*q**2*rp + 2*q**2 - 18*q*rp**4 + 33*q*rp**3 - 24*q*rp**2 + 6*q*rp + 6*rp**4 - 10*rp**3 + 6*rp**2)/16 + (pmp)*t*(4*p_pair**2*qp**4*r**2 - 4*p_pair**2*qp**4*r + p_pair**2*qp**4 + 24*p_pair*qp**4*r**2 - 24*p_pair*qp**4*r + 6*p_pair*qp**4 - 40*p_pair*qp**3*r**2 + 40*p_pair*qp**3*r - 10*p_pair*qp**3 + 24*p_pair*qp**2*r**2 - 18*p_pair*qp**2*r + 3*p_pair*qp**2 - 6*p_pair*qp*r**2 + 3*p_pair*qp*r + 44*qp**4*r**2 - 44*qp**4*r + 11*qp**4 - 80*qp**3*r**2 + 80*qp**3*r - 20*qp**3 + 66*qp**2*r**2 - 48*qp**2*r + 15*qp**2 - 30*qp*r**2 + 9*qp*r + 6*r**2)/16 + 3*(ppc)*t*(-2*q*r + q + r)*(-2*p_pair*q*r + p_pair*q - 2*q*r + q + 2*r)/16 - (-2*q*r + q + r)*((pdm)*t + (pmp)*t + (ppc)*t - 1)*(-4*p_pair*q*r + 2*p_pair*q - 2*q*r + q + 3*r)/4]],\n",
       " [11,\n",
       "  [0,\n",
       "   (ppc)*q*t*vp*(2*r**2 - 2*r + 1)*(p_pair**4*q*vp - p_pair**3*q - p_pair**3*vp + p_pair**2 + q*vp - q - vp + 1)/8,\n",
       "   (ppc)*q*t*vp*(2*r**2 - 2*r + 1)*(p_pair**4*q*vp - p_pair**3*q - p_pair**3*vp + p_pair**2 + q*vp - q - vp + 1)/6,\n",
       "   (ppc)*t*vp*(4*p_pair**4*q**2*r**2*vp - 4*p_pair**4*q**2*r*vp + p_pair**4*q**2*vp - 4*p_pair**3*q**2*r**2 + 4*p_pair**3*q**2*r - p_pair**3*q**2 - 4*p_pair**3*q*r**2*vp + 4*p_pair**3*q*r*vp - p_pair**3*q*vp + 4*p_pair**2*q*r**2 - 4*p_pair**2*q*r + p_pair**2*q + p_pair**2*r**2*vp - p_pair**2*r*vp - p_pair*r**2 + p_pair*r + 4*q**2*r**2*vp - 4*q**2*r**2 - 4*q**2*r*vp + 4*q**2*r + q**2*vp - q**2 - 4*q*r**2*vp + 4*q*r**2 + 4*q*r*vp - 4*q*r - q*vp + q + r**2*vp - r**2 - r*vp + r)/16]],\n",
       " [12,\n",
       "  [0,\n",
       "   t*(-(pdm)*rp*(rp - 1)*(2*q*rp - q - rp + 1) + (pmp)*r*(qp - 1)*(r - 1)*(p_pair**2*qp**2 - p_pair*qp + qp**2 - qp + 1) - (ppc)*r*(r - 1)*(2*p_pair**4*q**2*vp**2 - 2*p_pair**3*q**2*vp - 2*p_pair**3*q*vp**2 + p_pair**2*q**2 + 2*p_pair**2*q*vp + p_pair**2*vp**2 - p_pair*q - p_pair*vp + 2*q**2*vp**2 - 2*q**2*vp + q**2 - 2*q*vp**2 + 2*q*vp - q + vp**2 - vp + 1))/8,\n",
       "   t*(-(pdm)*rp*(rp - 1)*(2*p_pair*q*rp - p_pair*q + 6*q*rp - 3*q - 4*rp + 4) + 4*(pmp)*r*(qp - 1)*(r - 1)*(p_pair**2*qp**2 - p_pair*qp + qp**2 - qp + 1) - 4*(ppc)*r*(r - 1)*(2*p_pair**4*q**2*vp**2 - 2*p_pair**3*q**2*vp - 2*p_pair**3*q*vp**2 + p_pair**2*q**2 + 2*p_pair**2*q*vp + p_pair**2*vp**2 - p_pair*q - p_pair*vp + 2*q**2*vp**2 - 2*q**2*vp + q**2 - 2*q*vp**2 + 2*q*vp - q + vp**2 - vp + 1))/24,\n",
       "   t*(-2*(pdm)*rp*(rp - 1)*(2*q*rp - q - rp + 1) + (pmp)*(qp - 1)*(4*p_pair**2*qp**2*r**2 - 4*p_pair**2*qp**2*r + p_pair**2*qp**2 - 4*p_pair*qp*r**2 + 4*p_pair*qp*r - p_pair*qp + 4*qp**2*r**2 - 4*qp**2*r + qp**2 - 4*qp*r**2 + 4*qp*r - qp + 2*r**2 - 2*r) - (ppc)*(8*p_pair**4*q**2*r**2*vp**2 - 8*p_pair**4*q**2*r*vp**2 + 2*p_pair**4*q**2*vp**2 - 8*p_pair**3*q**2*r**2*vp + 8*p_pair**3*q**2*r*vp - 2*p_pair**3*q**2*vp - 8*p_pair**3*q*r**2*vp**2 + 8*p_pair**3*q*r*vp**2 - 2*p_pair**3*q*vp**2 + 4*p_pair**2*q**2*r**2 - 4*p_pair**2*q**2*r + p_pair**2*q**2 + 8*p_pair**2*q*r**2*vp - 8*p_pair**2*q*r*vp + 2*p_pair**2*q*vp + 2*p_pair**2*r**2*vp**2 - 2*p_pair**2*r*vp**2 - 4*p_pair*q*r**2 + 4*p_pair*q*r - p_pair*q - 2*p_pair*r**2*vp + 2*p_pair*r*vp + 8*q**2*r**2*vp**2 - 8*q**2*r**2*vp + 4*q**2*r**2 - 8*q**2*r*vp**2 + 8*q**2*r*vp - 4*q**2*r + 2*q**2*vp**2 - 2*q**2*vp + q**2 - 8*q*r**2*vp**2 + 8*q*r**2*vp - 4*q*r**2 + 8*q*r*vp**2 - 8*q*r*vp + 4*q*r - 2*q*vp**2 + 2*q*vp - q + 2*r**2*vp**2 - 2*r**2*vp + 2*r**2 - 2*r*vp**2 + 2*r*vp - 2*r))/32]],\n",
       " [13,\n",
       "  [0,\n",
       "   -(pdm)*t*(rp - 1)*(2*q*rp - q - rp + 1)*(6*p_pair*q*rp**2 - 11*p_pair*q*rp + 4*p_pair*q + 6*q*rp**2 - 11*q*rp + 4*q - 6*rp**2 + 12*rp)/16 - (pmp)*t*(qp - 1)*(2*p_pair**2*qp**3*r**2 - 2*p_pair**2*qp**3*r + p_pair**2*qp**3 + 8*p_pair*qp**3*r**2 - 8*p_pair*qp**3*r + 2*p_pair*qp**3 - 14*p_pair*qp**2*r**2 + 20*p_pair*qp**2*r - 7*p_pair*qp**2 + 4*p_pair*qp*r**2 - 6*p_pair*qp*r + 2*p_pair*qp + 10*qp**3*r**2 - 10*qp**3*r + 3*qp**3 - 22*qp**2*r**2 + 32*qp**2*r - 11*qp**2 + 18*qp*r**2 - 24*qp*r + 10*qp - 4*r**2 + 4*r)/16 + (ppc)*t*(2*q*r - q - r + 1)*(-2*p_pair*q*r + p_pair*q - 2*q*r + q + 2*r)/8 - ((pdm)*t + (pmp)*t + (ppc)*t - 1)*(2*q*r - q - r + 1)*(-4*p_pair*q*r + 2*p_pair*q - 2*q*r + q + 3*r)/6,\n",
       "   -(pdm)*t*(rp - 1)*(24*p_pair*q**2*rp**3 - 56*p_pair*q**2*rp**2 + 38*p_pair*q**2*rp - 8*p_pair*q**2 - 12*p_pair*q*rp**3 + 32*p_pair*q*rp**2 - 21*p_pair*q*rp + 4*p_pair*q + 24*q**2*rp**3 - 56*q**2*rp**2 + 38*q**2*rp - 8*q**2 - 36*q*rp**3 + 96*q*rp**2 - 63*q*rp + 12*q + 12*rp**3 - 36*rp**2 + 24*rp)/24 - (pmp)*t*(qp - 1)*(2*p_pair**2*qp**3*r**2 - 2*p_pair**2*qp**3*r + p_pair**2*qp**3 + 8*p_pair*qp**3*r**2 - 8*p_pair*qp**3*r + 2*p_pair*qp**3 - 14*p_pair*qp**2*r**2 + 20*p_pair*qp**2*r - 7*p_pair*qp**2 + 4*p_pair*qp*r**2 - 4*p_pair*qp*r + p_pair*qp + 10*qp**3*r**2 - 10*qp**3*r + 3*qp**3 - 22*qp**2*r**2 + 32*qp**2*r - 11*qp**2 + 18*qp*r**2 - 26*qp*r + 11*qp - 4*r**2 + 4*r)/12 - (ppc)*t*(8*p_pair*q**2*r**2 - 8*p_pair*q**2*r + 2*p_pair*q**2 - 4*p_pair*q*r**2 + 4*p_pair*q*r - p_pair*q + 8*q**2*r**2 - 8*q**2*r + 2*q**2 - 12*q*r**2 + 12*q*r - 3*q + 4*r**2 - 4*r)/12 + ((pdm)*t + (pmp)*t + (ppc)*t - 1)*(8*p_pair*q**2*r**2 - 8*p_pair*q**2*r + 2*p_pair*q**2 - 4*p_pair*q*r**2 + 4*p_pair*q*r - p_pair*q + 8*q**2*r**2 - 8*q**2*r + 2*q**2 - 12*q*r**2 + 12*q*r - 3*q + 4*r**2 - 4*r)/6,\n",
       "   -(pdm)*t*(rp - 1)*(2*q*rp - q - rp + 1)*(6*p_pair*q*rp**2 - 11*p_pair*q*rp + 4*p_pair*q + 6*q*rp**2 - 11*q*rp + 4*q - 6*rp**2 + 12*rp)/32 - (pmp)*t*(qp - 1)*(4*p_pair**2*qp**3*r**2 - 4*p_pair**2*qp**3*r + p_pair**2*qp**3 + 8*p_pair*qp**3*r**2 - 8*p_pair*qp**3*r + 2*p_pair*qp**3 - 16*p_pair*qp**2*r**2 + 22*p_pair*qp**2*r - 7*p_pair*qp**2 + 4*p_pair*qp*r**2 - 6*p_pair*qp*r + 2*p_pair*qp + 12*qp**3*r**2 - 12*qp**3*r + 3*qp**3 - 24*qp**2*r**2 + 34*qp**2*r - 11*qp**2 + 18*qp*r**2 - 24*qp*r + 10*qp - 4*r**2 + 4*r)/32 + (ppc)*t*(2*q*r - q - r + 1)*(-2*p_pair*q*r + p_pair*q - 2*q*r + q + 2*r)/16 - ((pdm)*t + (pmp)*t + (ppc)*t - 1)*(2*q*r - q - r + 1)*(-4*p_pair*q*r + 2*p_pair*q - 2*q*r + q + 3*r)/12]],\n",
       " [14,\n",
       "  [0,\n",
       "   -t*((pdm)*rp*(12*p_pair*q**2*rp**3 - 8*p_pair*q**2*rp**2 - p_pair*q**2*rp + p_pair*q**2 - 6*p_pair*q*rp**3 + p_pair*q*rp**2 + 5*p_pair*q*rp - 2*p_pair*q + 12*q**2*rp**3 - 8*q**2*rp**2 - q**2*rp + q**2 - 18*q*rp**3 + 7*q*rp**2 + 9*q*rp - 4*q + 6*rp**3 - 6*rp) + (pmp)*qp*(2*p_pair**2*qp**3*r**2 - 2*p_pair**2*qp**3*r + p_pair**2*qp**3 - 2*p_pair**2*qp**2*r**2 + 2*p_pair**2*qp**2*r - p_pair**2*qp**2 + 8*p_pair*qp**3*r**2 - 8*p_pair*qp**3*r + 2*p_pair*qp**3 - 6*p_pair*qp**2*r**2 + p_pair*qp**2 + 2*p_pair*qp*r**2 + 2*p_pair*qp*r - p_pair*qp + 10*qp**3*r**2 - 10*qp**3*r + 3*qp**3 - 16*qp**2*r**2 + 6*qp**2*r + 8*qp*r**2 + 12*qp*r - 5*qp - 2*r**2 - 6*r))/16,\n",
       "   -t*((pdm)*rp*(24*p_pair*q**2*rp**3 - 16*p_pair*q**2*rp**2 - 2*p_pair*q**2*rp + 2*p_pair*q**2 - 12*p_pair*q*rp**3 + 4*p_pair*q*rp**2 + 7*p_pair*q*rp - 3*p_pair*q + 24*q**2*rp**3 - 16*q**2*rp**2 - 2*q**2*rp + 2*q**2 - 36*q*rp**3 + 12*q*rp**2 + 21*q*rp - 9*q + 12*rp**3 - 12*rp) + 2*(pmp)*qp*(2*p_pair**2*qp**3*r**2 - 2*p_pair**2*qp**3*r + p_pair**2*qp**3 - 2*p_pair**2*qp**2*r**2 + 2*p_pair**2*qp**2*r - p_pair**2*qp**2 + 8*p_pair*qp**3*r**2 - 8*p_pair*qp**3*r + 2*p_pair*qp**3 - 6*p_pair*qp**2*r**2 + p_pair*qp**2 + 2*p_pair*qp*r**2 + 4*p_pair*qp*r - 2*p_pair*qp + 10*qp**3*r**2 - 10*qp**3*r + 3*qp**3 - 16*qp**2*r**2 + 6*qp**2*r + 8*qp*r**2 + 10*qp*r - 4*qp - 2*r**2 - 6*r))/24,\n",
       "   -t*((pdm)*rp*(12*p_pair*q**2*rp**3 - 8*p_pair*q**2*rp**2 - p_pair*q**2*rp + p_pair*q**2 - 6*p_pair*q*rp**3 + p_pair*q*rp**2 + 5*p_pair*q*rp - 2*p_pair*q + 12*q**2*rp**3 - 8*q**2*rp**2 - q**2*rp + q**2 - 18*q*rp**3 + 7*q*rp**2 + 9*q*rp - 4*q + 6*rp**3 - 6*rp) + (pmp)*qp*(4*p_pair**2*qp**3*r**2 - 4*p_pair**2*qp**3*r + p_pair**2*qp**3 - 4*p_pair**2*qp**2*r**2 + 4*p_pair**2*qp**2*r - p_pair**2*qp**2 + 8*p_pair*qp**3*r**2 - 8*p_pair*qp**3*r + 2*p_pair*qp**3 - 8*p_pair*qp**2*r**2 + 2*p_pair*qp**2*r + p_pair*qp**2 + 4*p_pair*qp*r**2 - p_pair*qp + 12*qp**3*r**2 - 12*qp**3*r + 3*qp**3 - 20*qp**2*r**2 + 10*qp**2*r + 10*qp*r**2 + 10*qp*r - 5*qp - 2*r**2 - 6*r))/32]],\n",
       " [15,\n",
       "  [0,\n",
       "   -(ppc)*q*r*t*vp*(r - 1)*(p_pair**4*q*vp - p_pair**3*q - p_pair**3*vp + p_pair**2 + q*vp - q - vp + 1)/4,\n",
       "   -(ppc)*q*r*t*vp*(r - 1)*(p_pair**4*q*vp - p_pair**3*q - p_pair**3*vp + p_pair**2 + q*vp - q - vp + 1)/3,\n",
       "   (ppc)*t*vp*(-4*p_pair**4*q**2*r**2*vp + 4*p_pair**4*q**2*r*vp - p_pair**4*q**2*vp + 4*p_pair**3*q**2*r**2 - 4*p_pair**3*q**2*r + p_pair**3*q**2 + 4*p_pair**3*q*r**2*vp - 6*p_pair**3*q*r*vp + 2*p_pair**3*q*vp - 4*p_pair**2*q*r**2 + 6*p_pair**2*q*r - 2*p_pair**2*q - p_pair**2*r**2*vp + 2*p_pair**2*r*vp - p_pair**2*vp + p_pair*r**2 - 2*p_pair*r + p_pair - 4*q**2*r**2*vp + 4*q**2*r**2 + 4*q**2*r*vp - 4*q**2*r - q**2*vp + q**2 + 4*q*r**2*vp - 4*q*r**2 - 6*q*r*vp + 6*q*r + 2*q*vp - 2*q - r**2*vp + r**2 + 2*r*vp - 2*r - vp + 1)/16]],\n",
       " [16,\n",
       "  [0,\n",
       "   -(ppc)*q*r*t*vp*(r - 1)*(p_pair**4*q*vp - p_pair**3*q - p_pair**3*vp + p_pair**2 + q*vp - q - vp + 1)/4,\n",
       "   -(ppc)*q*r*t*vp*(r - 1)*(p_pair**4*q*vp - p_pair**3*q - p_pair**3*vp + p_pair**2 + q*vp - q - vp + 1)/3,\n",
       "   (ppc)*t*vp*(-4*p_pair**4*q**2*r**2*vp + 4*p_pair**4*q**2*r*vp - p_pair**4*q**2*vp + 4*p_pair**3*q**2*r**2 - 4*p_pair**3*q**2*r + p_pair**3*q**2 + 4*p_pair**3*q*r**2*vp - 2*p_pair**3*q*r*vp - 4*p_pair**2*q*r**2 + 2*p_pair**2*q*r - p_pair**2*r**2*vp + p_pair*r**2 - 4*q**2*r**2*vp + 4*q**2*r**2 + 4*q**2*r*vp - 4*q**2*r - q**2*vp + q**2 + 4*q*r**2*vp - 4*q*r**2 - 2*q*r*vp + 2*q*r - r**2*vp + r**2)/16]],\n",
       " [17,\n",
       "  [0,\n",
       "   (ppc)*q*t*vp*(2*r**2 - 2*r + 1)*(p_pair**4*q*vp - p_pair**3*q - p_pair**3*vp + p_pair**2 + q*vp - q - vp + 1)/8,\n",
       "   (ppc)*q*t*vp*(2*r**2 - 2*r + 1)*(p_pair**4*q*vp - p_pair**3*q - p_pair**3*vp + p_pair**2 + q*vp - q - vp + 1)/6,\n",
       "   (ppc)*t*vp*(4*p_pair**4*q**2*r**2*vp - 4*p_pair**4*q**2*r*vp + p_pair**4*q**2*vp - 4*p_pair**3*q**2*r**2 + 4*p_pair**3*q**2*r - p_pair**3*q**2 - 4*p_pair**3*q*r**2*vp + 4*p_pair**3*q*r*vp - p_pair**3*q*vp + 4*p_pair**2*q*r**2 - 4*p_pair**2*q*r + p_pair**2*q + p_pair**2*r**2*vp - p_pair**2*r*vp - p_pair*r**2 + p_pair*r + 4*q**2*r**2*vp - 4*q**2*r**2 - 4*q**2*r*vp + 4*q**2*r + q**2*vp - q**2 - 4*q*r**2*vp + 4*q*r**2 + 4*q*r*vp - 4*q*r - q*vp + q + r**2*vp - r**2 - r*vp + r)/16]],\n",
       " [18, [0, 0, 0, 0]],\n",
       " [19,\n",
       "  [0,\n",
       "   t*(-(pdm)*rp*(rp - 1)*(2*p_pair*q*rp - p_pair*q + 2*q*rp - q - 2*rp + 2) + 2*(pmp)*r*(qp - 1)*(r - 1)*(p_pair**2*qp**2 - p_pair*qp + qp**2 - qp + 1) - 2*(ppc)*r*(r - 1)*(2*p_pair**4*q**2*vp**2 - 2*p_pair**3*q**2*vp - 2*p_pair**3*q*vp**2 + p_pair**2*q**2 + 2*p_pair**2*q*vp + p_pair**2*vp**2 - p_pair*q - p_pair*vp + 2*q**2*vp**2 - 2*q**2*vp + q**2 - 2*q*vp**2 + 2*q*vp - q + vp**2 - vp + 1))/16,\n",
       "   t*(-(pdm)*rp*(rp - 1)*(2*p_pair*q*rp - p_pair*q + 6*q*rp - 3*q - 4*rp + 4) + 4*(pmp)*r*(qp - 1)*(r - 1)*(p_pair**2*qp**2 - p_pair*qp + qp**2 - qp + 1) - 4*(ppc)*r*(r - 1)*(2*p_pair**4*q**2*vp**2 - 2*p_pair**3*q**2*vp - 2*p_pair**3*q*vp**2 + p_pair**2*q**2 + 2*p_pair**2*q*vp + p_pair**2*vp**2 - p_pair*q - p_pair*vp + 2*q**2*vp**2 - 2*q**2*vp + q**2 - 2*q*vp**2 + 2*q*vp - q + vp**2 - vp + 1))/24,\n",
       "   t*(-(pdm)*rp*(rp - 1)*(2*p_pair*q*rp - p_pair*q + 2*q*rp - q - 2*rp + 2) + (pmp)*(qp - 1)*(4*p_pair**2*qp**2*r**2 - 4*p_pair**2*qp**2*r + p_pair**2*qp**2 - 4*p_pair*qp*r**2 + 4*p_pair*qp*r - p_pair*qp + 4*qp**2*r**2 - 4*qp**2*r + qp**2 - 4*qp*r**2 + 4*qp*r - qp + 2*r**2 - 2*r) - (ppc)*(8*p_pair**4*q**2*r**2*vp**2 - 8*p_pair**4*q**2*r*vp**2 + 2*p_pair**4*q**2*vp**2 - 8*p_pair**3*q**2*r**2*vp + 8*p_pair**3*q**2*r*vp - 2*p_pair**3*q**2*vp - 8*p_pair**3*q*r**2*vp**2 + 8*p_pair**3*q*r*vp**2 - 2*p_pair**3*q*vp**2 + 4*p_pair**2*q**2*r**2 - 4*p_pair**2*q**2*r + p_pair**2*q**2 + 8*p_pair**2*q*r**2*vp - 8*p_pair**2*q*r*vp + 2*p_pair**2*q*vp + 2*p_pair**2*r**2*vp**2 - 2*p_pair**2*r*vp**2 - 4*p_pair*q*r**2 + 4*p_pair*q*r - p_pair*q - 2*p_pair*r**2*vp + 2*p_pair*r*vp + 8*q**2*r**2*vp**2 - 8*q**2*r**2*vp + 4*q**2*r**2 - 8*q**2*r*vp**2 + 8*q**2*r*vp - 4*q**2*r + 2*q**2*vp**2 - 2*q**2*vp + q**2 - 8*q*r**2*vp**2 + 8*q*r**2*vp - 4*q*r**2 + 8*q*r*vp**2 - 8*q*r*vp + 4*q*r - 2*q*vp**2 + 2*q*vp - q + 2*r**2*vp**2 - 2*r**2*vp + 2*r**2 - 2*r*vp**2 + 2*r*vp - 2*r))/32]],\n",
       " [20,\n",
       "  [0,\n",
       "   -t*((pdm)*rp*(rp - 1)*(-2*p_pair*q*rp + p_pair*q - 6*q*rp + 3*q + 4*rp) + 4*(pmp)*qp*r*(r - 1)*(p_pair**2*qp**2 - p_pair*qp + qp**2 - qp + 1))/16,\n",
       "   -t*((pdm)*rp*(rp - 1)*(-2*p_pair*q*rp + p_pair*q - 6*q*rp + 3*q + 4*rp) + 4*(pmp)*qp*r*(r - 1)*(p_pair**2*qp**2 - p_pair*qp + qp**2 - qp + 1))/12,\n",
       "   -t*((pdm)*rp*(rp - 1)*(-2*p_pair*q*rp + p_pair*q - 6*q*rp + 3*q + 4*rp) + 2*(pmp)*qp*(4*p_pair**2*qp**2*r**2 - 4*p_pair**2*qp**2*r + p_pair**2*qp**2 - 4*p_pair*qp*r**2 + 4*p_pair*qp*r - p_pair*qp + 4*qp**2*r**2 - 4*qp**2*r + qp**2 - 4*qp*r**2 + 4*qp*r - qp + 2*r**2 - 2*r))/32]],\n",
       " [21,\n",
       "  [0,\n",
       "   (pdm)*t*(rp - 1)*(3*rp - 4)*(2*q*rp - q - rp + 1)*(2*p_pair*q*rp - p_pair*q + 2*q*rp - q - 2*rp + 2)/16 + (pmp)*t*(qp - 1)**2*(2*p_pair**2*qp**2*r**2 - 2*p_pair**2*qp**2*r + p_pair**2*qp**2 + 8*p_pair*qp**2*r**2 - 8*p_pair*qp**2*r + 2*p_pair*qp**2 - 6*p_pair*qp*r**2 + 12*p_pair*qp*r - 5*p_pair*qp + 10*qp**2*r**2 - 10*qp**2*r + 3*qp**2 - 14*qp*r**2 + 24*qp*r - 9*qp + 6*r**2 - 14*r + 8)/16 + (ppc)*t*(4*p_pair**4*q**2*r**2*vp**2 - 4*p_pair**4*q**2*r*vp**2 + 2*p_pair**4*q**2*vp**2 - 4*p_pair**3*q**2*r**2*vp + 4*p_pair**3*q**2*r*vp - 2*p_pair**3*q**2*vp - 4*p_pair**3*q*r**2*vp**2 + 8*p_pair**3*q*r*vp**2 - 4*p_pair**3*q*vp**2 + 2*p_pair**2*q**2*r**2 - 2*p_pair**2*q**2*r + p_pair**2*q**2 + 4*p_pair**2*q*r**2*vp - 8*p_pair**2*q*r*vp + 4*p_pair**2*q*vp + 2*p_pair**2*r**2*vp**2 - 4*p_pair**2*r*vp**2 + 2*p_pair**2*vp**2 + 8*p_pair*q**2*r**2 - 8*p_pair*q**2*r + 2*p_pair*q**2 - 6*p_pair*q*r**2 + 12*p_pair*q*r - 5*p_pair*q - 2*p_pair*r**2*vp + 4*p_pair*r*vp - 2*p_pair*vp + 4*q**2*r**2*vp**2 - 4*q**2*r**2*vp + 10*q**2*r**2 - 4*q**2*r*vp**2 + 4*q**2*r*vp - 10*q**2*r + 2*q**2*vp**2 - 2*q**2*vp + 3*q**2 - 4*q*r**2*vp**2 + 4*q*r**2*vp - 14*q*r**2 + 8*q*r*vp**2 - 8*q*r*vp + 24*q*r - 4*q*vp**2 + 4*q*vp - 9*q + 2*r**2*vp**2 - 2*r**2*vp + 6*r**2 - 4*r*vp**2 + 4*r*vp - 14*r + 2*vp**2 - 2*vp + 8)/16 - ((pdm)*t + (pmp)*t + (ppc)*t - 1)*(2*q*r - q - r + 1)*(4*p_pair*q*r - 2*p_pair*q + 2*q*r - q - 3*r + 3)/6,\n",
       "   (pdm)*t*(rp - 1)*(3*rp - 4)*(2*q*rp - q - rp + 1)*(2*p_pair*q*rp - p_pair*q + 2*q*rp - q - 2*rp + 2)/12 + (pmp)*t*(qp - 1)**2*(2*p_pair**2*qp**2*r**2 - 2*p_pair**2*qp**2*r + p_pair**2*qp**2 + 8*p_pair*qp**2*r**2 - 8*p_pair*qp**2*r + 2*p_pair*qp**2 - 6*p_pair*qp*r**2 + 12*p_pair*qp*r - 5*p_pair*qp + 10*qp**2*r**2 - 10*qp**2*r + 3*qp**2 - 14*qp*r**2 + 24*qp*r - 9*qp + 6*r**2 - 14*r + 8)/12 + (ppc)*t*(4*p_pair**4*q**2*r**2*vp**2 - 4*p_pair**4*q**2*r*vp**2 + 2*p_pair**4*q**2*vp**2 - 4*p_pair**3*q**2*r**2*vp + 4*p_pair**3*q**2*r*vp - 2*p_pair**3*q**2*vp - 4*p_pair**3*q*r**2*vp**2 + 8*p_pair**3*q*r*vp**2 - 4*p_pair**3*q*vp**2 + 2*p_pair**2*q**2*r**2 - 2*p_pair**2*q**2*r + p_pair**2*q**2 + 4*p_pair**2*q*r**2*vp - 8*p_pair**2*q*r*vp + 4*p_pair**2*q*vp + 2*p_pair**2*r**2*vp**2 - 4*p_pair**2*r*vp**2 + 2*p_pair**2*vp**2 + 8*p_pair*q**2*r**2 - 8*p_pair*q**2*r + 2*p_pair*q**2 - 6*p_pair*q*r**2 + 12*p_pair*q*r - 5*p_pair*q - 2*p_pair*r**2*vp + 4*p_pair*r*vp - 2*p_pair*vp + 4*q**2*r**2*vp**2 - 4*q**2*r**2*vp + 10*q**2*r**2 - 4*q**2*r*vp**2 + 4*q**2*r*vp - 10*q**2*r + 2*q**2*vp**2 - 2*q**2*vp + 3*q**2 - 4*q*r**2*vp**2 + 4*q*r**2*vp - 14*q*r**2 + 8*q*r*vp**2 - 8*q*r*vp + 24*q*r - 4*q*vp**2 + 4*q*vp - 9*q + 2*r**2*vp**2 - 2*r**2*vp + 6*r**2 - 4*r*vp**2 + 4*r*vp - 14*r + 2*vp**2 - 2*vp + 8)/12 - ((pdm)*t + (pmp)*t + (ppc)*t - 1)*(2*q*r - q - r + 1)*(2*p_pair*q*r - p_pair*q + 2*q*r - q - 2*r + 2)/3,\n",
       "   (pdm)*t*(rp - 1)*(3*rp - 4)*(2*q*rp - q - rp + 1)*(2*p_pair*q*rp - p_pair*q + 2*q*rp - q - 2*rp + 2)/32 + (pmp)*t*(qp - 1)**2*(4*p_pair**2*qp**2*r**2 - 4*p_pair**2*qp**2*r + p_pair**2*qp**2 + 8*p_pair*qp**2*r**2 - 8*p_pair*qp**2*r + 2*p_pair*qp**2 - 8*p_pair*qp*r**2 + 14*p_pair*qp*r - 5*p_pair*qp + 12*qp**2*r**2 - 12*qp**2*r + 3*qp**2 - 16*qp*r**2 + 26*qp*r - 9*qp + 6*r**2 - 14*r + 8)/32 + (ppc)*t*(8*p_pair**4*q**2*r**2*vp**2 - 8*p_pair**4*q**2*r*vp**2 + 2*p_pair**4*q**2*vp**2 - 8*p_pair**3*q**2*r**2*vp + 8*p_pair**3*q**2*r*vp - 2*p_pair**3*q**2*vp - 8*p_pair**3*q*r**2*vp**2 + 12*p_pair**3*q*r*vp**2 - 4*p_pair**3*q*vp**2 + 4*p_pair**2*q**2*r**2 - 4*p_pair**2*q**2*r + p_pair**2*q**2 + 8*p_pair**2*q*r**2*vp - 12*p_pair**2*q*r*vp + 4*p_pair**2*q*vp + 2*p_pair**2*r**2*vp**2 - 4*p_pair**2*r*vp**2 + 2*p_pair**2*vp**2 + 8*p_pair*q**2*r**2 - 8*p_pair*q**2*r + 2*p_pair*q**2 - 8*p_pair*q*r**2 + 14*p_pair*q*r - 5*p_pair*q - 2*p_pair*r**2*vp + 4*p_pair*r*vp - 2*p_pair*vp + 8*q**2*r**2*vp**2 - 8*q**2*r**2*vp + 12*q**2*r**2 - 8*q**2*r*vp**2 + 8*q**2*r*vp - 12*q**2*r + 2*q**2*vp**2 - 2*q**2*vp + 3*q**2 - 8*q*r**2*vp**2 + 8*q*r**2*vp - 16*q*r**2 + 12*q*r*vp**2 - 12*q*r*vp + 26*q*r - 4*q*vp**2 + 4*q*vp - 9*q + 2*r**2*vp**2 - 2*r**2*vp + 6*r**2 - 4*r*vp**2 + 4*r*vp - 14*r + 2*vp**2 - 2*vp + 8)/32 - ((pdm)*t + (pmp)*t + (ppc)*t - 1)*(2*q*r - q - r + 1)*(4*p_pair*q*r - 2*p_pair*q + 2*q*r - q - 3*r + 3)/12]],\n",
       " [22,\n",
       "  [0,\n",
       "   -(pdm)*t*(rp - 1)*(6*q*rp**2 - 11*q*rp + 4*q - 3*rp**2 + 6*rp)*(2*p_pair*q*rp - p_pair*q + 2*q*rp - q - 2*rp + 2)/16 - (pmp)*t*(qp - 1)*(2*p_pair**2*qp**3*r**2 - 2*p_pair**2*qp**3*r + p_pair**2*qp**3 + 8*p_pair*qp**3*r**2 - 8*p_pair*qp**3*r + 2*p_pair*qp**3 - 14*p_pair*qp**2*r**2 + 20*p_pair*qp**2*r - 7*p_pair*qp**2 + 4*p_pair*qp*r**2 - 2*p_pair*qp*r + 10*qp**3*r**2 - 10*qp**3*r + 3*qp**3 - 22*qp**2*r**2 + 32*qp**2*r - 11*qp**2 + 18*qp*r**2 - 28*qp*r + 12*qp - 4*r**2 + 4*r)/16 + (ppc)*t*(-2*q*r + q + r)*(2*p_pair*q*r - p_pair*q + 2*q*r - q - 2*r + 2)/8 - (-2*q*r + q + r)*((pdm)*t + (pmp)*t + (ppc)*t - 1)*(4*p_pair*q*r - 2*p_pair*q + 2*q*r - q - 3*r + 3)/6,\n",
       "   -(pdm)*t*(rp - 1)*(24*p_pair*q**2*rp**3 - 56*p_pair*q**2*rp**2 + 38*p_pair*q**2*rp - 8*p_pair*q**2 - 12*p_pair*q*rp**3 + 32*p_pair*q*rp**2 - 21*p_pair*q*rp + 4*p_pair*q + 24*q**2*rp**3 - 56*q**2*rp**2 + 38*q**2*rp - 8*q**2 - 36*q*rp**3 + 96*q*rp**2 - 63*q*rp + 12*q + 12*rp**3 - 36*rp**2 + 24*rp)/24 - (pmp)*t*(qp - 1)*(2*p_pair**2*qp**3*r**2 - 2*p_pair**2*qp**3*r + p_pair**2*qp**3 + 8*p_pair*qp**3*r**2 - 8*p_pair*qp**3*r + 2*p_pair*qp**3 - 14*p_pair*qp**2*r**2 + 20*p_pair*qp**2*r - 7*p_pair*qp**2 + 4*p_pair*qp*r**2 - 4*p_pair*qp*r + p_pair*qp + 10*qp**3*r**2 - 10*qp**3*r + 3*qp**3 - 22*qp**2*r**2 + 32*qp**2*r - 11*qp**2 + 18*qp*r**2 - 26*qp*r + 11*qp - 4*r**2 + 4*r)/12 - (ppc)*t*(8*p_pair*q**2*r**2 - 8*p_pair*q**2*r + 2*p_pair*q**2 - 4*p_pair*q*r**2 + 4*p_pair*q*r - p_pair*q + 8*q**2*r**2 - 8*q**2*r + 2*q**2 - 12*q*r**2 + 12*q*r - 3*q + 4*r**2 - 4*r)/12 + ((pdm)*t + (pmp)*t + (ppc)*t - 1)*(8*p_pair*q**2*r**2 - 8*p_pair*q**2*r + 2*p_pair*q**2 - 4*p_pair*q*r**2 + 4*p_pair*q*r - p_pair*q + 8*q**2*r**2 - 8*q**2*r + 2*q**2 - 12*q*r**2 + 12*q*r - 3*q + 4*r**2 - 4*r)/6,\n",
       "   -(pdm)*t*(rp - 1)*(6*q*rp**2 - 11*q*rp + 4*q - 3*rp**2 + 6*rp)*(2*p_pair*q*rp - p_pair*q + 2*q*rp - q - 2*rp + 2)/32 - (pmp)*t*(qp - 1)*(4*p_pair**2*qp**3*r**2 - 4*p_pair**2*qp**3*r + p_pair**2*qp**3 + 8*p_pair*qp**3*r**2 - 8*p_pair*qp**3*r + 2*p_pair*qp**3 - 16*p_pair*qp**2*r**2 + 22*p_pair*qp**2*r - 7*p_pair*qp**2 + 4*p_pair*qp*r**2 - 2*p_pair*qp*r + 12*qp**3*r**2 - 12*qp**3*r + 3*qp**3 - 24*qp**2*r**2 + 34*qp**2*r - 11*qp**2 + 18*qp*r**2 - 28*qp*r + 12*qp - 4*r**2 + 4*r)/32 + (ppc)*t*(-2*q*r + q + r)*(2*p_pair*q*r - p_pair*q + 2*q*r - q - 2*r + 2)/16 - (-2*q*r + q + r)*((pdm)*t + (pmp)*t + (ppc)*t - 1)*(4*p_pair*q*r - 2*p_pair*q + 2*q*r - q - 3*r + 3)/12]],\n",
       " [23,\n",
       "  [0,\n",
       "   t*((pdm)*rp*(12*p_pair*q**2*rp**3 - 8*p_pair*q**2*rp**2 - p_pair*q**2*rp + p_pair*q**2 - 6*p_pair*q*rp**3 + 3*p_pair*q*rp**2 + 2*p_pair*q*rp - p_pair*q + 12*q**2*rp**3 - 8*q**2*rp**2 - q**2*rp + q**2 - 18*q*rp**3 + 9*q*rp**2 + 6*q*rp - 3*q + 6*rp**3 - 2*rp**2 - 2*rp + 2) + (pmp)*(2*p_pair**2*qp**4*r**2 - 2*p_pair**2*qp**4*r + p_pair**2*qp**4 - 4*p_pair**2*qp**3*r**2 + 4*p_pair**2*qp**3*r - 2*p_pair**2*qp**3 + 2*p_pair**2*qp**2*r**2 - 2*p_pair**2*qp**2*r + p_pair**2*qp**2 + 8*p_pair*qp**4*r**2 - 8*p_pair*qp**4*r + 2*p_pair*qp**4 - 6*p_pair*qp**3*r**2 + p_pair*qp**3 + 4*p_pair*qp**2*r**2 + 4*p_pair*qp**2*r - 2*p_pair*qp**2 - 2*p_pair*qp*r**2 - 2*p_pair*qp*r + p_pair*qp + 10*qp**4*r**2 - 10*qp**4*r + 3*qp**4 - 18*qp**3*r**2 + 8*qp**3*r - qp**3 + 12*qp**2*r**2 + 4*qp**2*r - qp**2 - 6*qp*r**2 - 6*qp*r + qp + 2*r**2 + 2*r) + (ppc)*(4*p_pair**4*q**2*r**2*vp**2 - 4*p_pair**4*q**2*r*vp**2 + 2*p_pair**4*q**2*vp**2 - 4*p_pair**3*q**2*r**2*vp + 4*p_pair**3*q**2*r*vp - 2*p_pair**3*q**2*vp - 4*p_pair**3*q*r**2*vp**2 + 2*p_pair**2*q**2*r**2 - 2*p_pair**2*q**2*r + p_pair**2*q**2 + 4*p_pair**2*q*r**2*vp + 2*p_pair**2*r**2*vp**2 - 2*p_pair*q*r**2 - 2*p_pair*q*r + p_pair*q - 2*p_pair*r**2*vp + 4*q**2*r**2*vp**2 - 4*q**2*r**2*vp + 2*q**2*r**2 - 4*q**2*r*vp**2 + 4*q**2*r*vp - 2*q**2*r + 2*q**2*vp**2 - 2*q**2*vp + q**2 - 4*q*r**2*vp**2 + 4*q*r**2*vp - 2*q*r**2 - 2*q*r + q + 2*r**2*vp**2 - 2*r**2*vp + 2*r**2 + 2*r))/16,\n",
       "   t*((pdm)*rp*(12*p_pair*q**2*rp**3 - 8*p_pair*q**2*rp**2 - p_pair*q**2*rp + p_pair*q**2 - 6*p_pair*q*rp**3 + 3*p_pair*q*rp**2 + 2*p_pair*q*rp - p_pair*q + 12*q**2*rp**3 - 8*q**2*rp**2 - q**2*rp + q**2 - 18*q*rp**3 + 9*q*rp**2 + 6*q*rp - 3*q + 6*rp**3 - 2*rp**2 - 2*rp + 2) + (pmp)*(2*p_pair**2*qp**4*r**2 - 2*p_pair**2*qp**4*r + p_pair**2*qp**4 - 4*p_pair**2*qp**3*r**2 + 4*p_pair**2*qp**3*r - 2*p_pair**2*qp**3 + 2*p_pair**2*qp**2*r**2 - 2*p_pair**2*qp**2*r + p_pair**2*qp**2 + 8*p_pair*qp**4*r**2 - 8*p_pair*qp**4*r + 2*p_pair*qp**4 - 6*p_pair*qp**3*r**2 + p_pair*qp**3 + 4*p_pair*qp**2*r**2 + 4*p_pair*qp**2*r - 2*p_pair*qp**2 - 2*p_pair*qp*r**2 - 2*p_pair*qp*r + p_pair*qp + 10*qp**4*r**2 - 10*qp**4*r + 3*qp**4 - 18*qp**3*r**2 + 8*qp**3*r - qp**3 + 12*qp**2*r**2 + 4*qp**2*r - qp**2 - 6*qp*r**2 - 6*qp*r + qp + 2*r**2 + 2*r) + (ppc)*(4*p_pair**4*q**2*r**2*vp**2 - 4*p_pair**4*q**2*r*vp**2 + 2*p_pair**4*q**2*vp**2 - 4*p_pair**3*q**2*r**2*vp + 4*p_pair**3*q**2*r*vp - 2*p_pair**3*q**2*vp - 4*p_pair**3*q*r**2*vp**2 + 2*p_pair**2*q**2*r**2 - 2*p_pair**2*q**2*r + p_pair**2*q**2 + 4*p_pair**2*q*r**2*vp + 2*p_pair**2*r**2*vp**2 - 2*p_pair*q*r**2 - 2*p_pair*q*r + p_pair*q - 2*p_pair*r**2*vp + 4*q**2*r**2*vp**2 - 4*q**2*r**2*vp + 2*q**2*r**2 - 4*q**2*r*vp**2 + 4*q**2*r*vp - 2*q**2*r + 2*q**2*vp**2 - 2*q**2*vp + q**2 - 4*q*r**2*vp**2 + 4*q*r**2*vp - 2*q*r**2 - 2*q*r + q + 2*r**2*vp**2 - 2*r**2*vp + 2*r**2 + 2*r))/12,\n",
       "   t*((pdm)*rp*(12*p_pair*q**2*rp**3 - 8*p_pair*q**2*rp**2 - p_pair*q**2*rp + p_pair*q**2 - 6*p_pair*q*rp**3 + 3*p_pair*q*rp**2 + 2*p_pair*q*rp - p_pair*q + 12*q**2*rp**3 - 8*q**2*rp**2 - q**2*rp + q**2 - 18*q*rp**3 + 9*q*rp**2 + 6*q*rp - 3*q + 6*rp**3 - 2*rp**2 - 2*rp + 2) + (pmp)*(4*p_pair**2*qp**4*r**2 - 4*p_pair**2*qp**4*r + p_pair**2*qp**4 - 8*p_pair**2*qp**3*r**2 + 8*p_pair**2*qp**3*r - 2*p_pair**2*qp**3 + 4*p_pair**2*qp**2*r**2 - 4*p_pair**2*qp**2*r + p_pair**2*qp**2 + 8*p_pair*qp**4*r**2 - 8*p_pair*qp**4*r + 2*p_pair*qp**4 - 8*p_pair*qp**3*r**2 + 2*p_pair*qp**3*r + p_pair*qp**3 + 8*p_pair*qp**2*r**2 - 2*p_pair*qp**2 - 4*p_pair*qp*r**2 + p_pair*qp + 12*qp**4*r**2 - 12*qp**4*r + 3*qp**4 - 24*qp**3*r**2 + 14*qp**3*r - qp**3 + 18*qp**2*r**2 - 2*qp**2*r - qp**2 - 8*qp*r**2 - 4*qp*r + qp + 2*r**2 + 2*r) + (ppc)*(8*p_pair**4*q**2*r**2*vp**2 - 8*p_pair**4*q**2*r*vp**2 + 2*p_pair**4*q**2*vp**2 - 8*p_pair**3*q**2*r**2*vp + 8*p_pair**3*q**2*r*vp - 2*p_pair**3*q**2*vp - 8*p_pair**3*q*r**2*vp**2 + 4*p_pair**3*q*r*vp**2 + 4*p_pair**2*q**2*r**2 - 4*p_pair**2*q**2*r + p_pair**2*q**2 + 8*p_pair**2*q*r**2*vp - 4*p_pair**2*q*r*vp + 2*p_pair**2*r**2*vp**2 - 4*p_pair*q*r**2 + p_pair*q - 2*p_pair*r**2*vp + 8*q**2*r**2*vp**2 - 8*q**2*r**2*vp + 4*q**2*r**2 - 8*q**2*r*vp**2 + 8*q**2*r*vp - 4*q**2*r + 2*q**2*vp**2 - 2*q**2*vp + q**2 - 8*q*r**2*vp**2 + 8*q*r**2*vp - 4*q*r**2 + 4*q*r*vp**2 - 4*q*r*vp + q + 2*r**2*vp**2 - 2*r**2*vp + 2*r**2 + 2*r))/32]],\n",
       " [24,\n",
       "  [0,\n",
       "   -t*((pdm)*rp*(12*p_pair*q**2*rp**3 - 8*p_pair*q**2*rp**2 - p_pair*q**2*rp + p_pair*q**2 - 6*p_pair*q*rp**3 + 3*p_pair*q*rp**2 + 2*p_pair*q*rp - p_pair*q + 12*q**2*rp**3 - 8*q**2*rp**2 - q**2*rp + q**2 - 18*q*rp**3 + 5*q*rp**2 + 12*q*rp - 5*q + 6*rp**3 - 6*rp) + (pmp)*qp*(2*p_pair**2*qp**3*r**2 - 2*p_pair**2*qp**3*r + p_pair**2*qp**3 - 2*p_pair**2*qp**2*r**2 + 2*p_pair**2*qp**2*r - p_pair**2*qp**2 + 8*p_pair*qp**3*r**2 - 8*p_pair*qp**3*r + 2*p_pair*qp**3 - 6*p_pair*qp**2*r**2 + p_pair*qp**2 + 2*p_pair*qp*r**2 + 6*p_pair*qp*r - 3*p_pair*qp + 10*qp**3*r**2 - 10*qp**3*r + 3*qp**3 - 16*qp**2*r**2 + 6*qp**2*r + 8*qp*r**2 + 8*qp*r - 3*qp - 2*r**2 - 6*r))/16,\n",
       "   -t*((pdm)*rp*(24*p_pair*q**2*rp**3 - 16*p_pair*q**2*rp**2 - 2*p_pair*q**2*rp + 2*p_pair*q**2 - 12*p_pair*q*rp**3 + 4*p_pair*q*rp**2 + 7*p_pair*q*rp - 3*p_pair*q + 24*q**2*rp**3 - 16*q**2*rp**2 - 2*q**2*rp + 2*q**2 - 36*q*rp**3 + 12*q*rp**2 + 21*q*rp - 9*q + 12*rp**3 - 12*rp) + 2*(pmp)*qp*(2*p_pair**2*qp**3*r**2 - 2*p_pair**2*qp**3*r + p_pair**2*qp**3 - 2*p_pair**2*qp**2*r**2 + 2*p_pair**2*qp**2*r - p_pair**2*qp**2 + 8*p_pair*qp**3*r**2 - 8*p_pair*qp**3*r + 2*p_pair*qp**3 - 6*p_pair*qp**2*r**2 + p_pair*qp**2 + 2*p_pair*qp*r**2 + 4*p_pair*qp*r - 2*p_pair*qp + 10*qp**3*r**2 - 10*qp**3*r + 3*qp**3 - 16*qp**2*r**2 + 6*qp**2*r + 8*qp*r**2 + 10*qp*r - 4*qp - 2*r**2 - 6*r))/24,\n",
       "   -t*((pdm)*rp*(12*p_pair*q**2*rp**3 - 8*p_pair*q**2*rp**2 - p_pair*q**2*rp + p_pair*q**2 - 6*p_pair*q*rp**3 + 3*p_pair*q*rp**2 + 2*p_pair*q*rp - p_pair*q + 12*q**2*rp**3 - 8*q**2*rp**2 - q**2*rp + q**2 - 18*q*rp**3 + 5*q*rp**2 + 12*q*rp - 5*q + 6*rp**3 - 6*rp) + (pmp)*qp*(4*p_pair**2*qp**3*r**2 - 4*p_pair**2*qp**3*r + p_pair**2*qp**3 - 4*p_pair**2*qp**2*r**2 + 4*p_pair**2*qp**2*r - p_pair**2*qp**2 + 8*p_pair*qp**3*r**2 - 8*p_pair*qp**3*r + 2*p_pair*qp**3 - 8*p_pair*qp**2*r**2 + 2*p_pair*qp**2*r + p_pair*qp**2 + 4*p_pair*qp*r**2 + 4*p_pair*qp*r - 3*p_pair*qp + 12*qp**3*r**2 - 12*qp**3*r + 3*qp**3 - 20*qp**2*r**2 + 10*qp**2*r + 10*qp*r**2 + 6*qp*r - 3*qp - 2*r**2 - 6*r))/32]],\n",
       " [25,\n",
       "  [0,\n",
       "   (pdm)*t*(12*p_pair*q**2*rp**4 - 24*p_pair*q**2*rp**3 + 23*p_pair*q**2*rp**2 - 11*p_pair*q**2*rp + 2*p_pair*q**2 - 6*p_pair*q*rp**4 + 11*p_pair*q*rp**3 - 8*p_pair*q*rp**2 + 2*p_pair*q*rp + 12*q**2*rp**4 - 24*q**2*rp**3 + 23*q**2*rp**2 - 11*q**2*rp + 2*q**2 - 18*q*rp**4 + 33*q*rp**3 - 24*q*rp**2 + 6*q*rp + 6*rp**4 - 10*rp**3 + 6*rp**2)/8 + (pmp)*t*(2*p_pair**2*qp**4*r**2 - 2*p_pair**2*qp**4*r + p_pair**2*qp**4 + 8*p_pair*qp**4*r**2 - 8*p_pair*qp**4*r + 2*p_pair*qp**4 - 14*p_pair*qp**3*r**2 + 14*p_pair*qp**3*r - 4*p_pair*qp**3 + 8*p_pair*qp**2*r**2 - 6*p_pair*qp**2*r + p_pair*qp**2 - 2*p_pair*qp*r**2 + p_pair*qp*r + 10*qp**4*r**2 - 10*qp**4*r + 3*qp**4 - 22*qp**3*r**2 + 22*qp**3*r - 6*qp**3 + 22*qp**2*r**2 - 16*qp**2*r + 5*qp**2 - 10*qp*r**2 + 3*qp*r + 2*r**2)/8 + (ppc)*t*(-2*q*r + q + r)*(-2*p_pair*q*r + p_pair*q - 2*q*r + q + 2*r)/8 - (-2*q*r + q + r)*((pdm)*t + (pmp)*t + (ppc)*t - 1)*(-4*p_pair*q*r + 2*p_pair*q - 2*q*r + q + 3*r)/6,\n",
       "   (pdm)*t*(12*p_pair*q**2*rp**4 - 24*p_pair*q**2*rp**3 + 23*p_pair*q**2*rp**2 - 11*p_pair*q**2*rp + 2*p_pair*q**2 - 6*p_pair*q*rp**4 + 11*p_pair*q*rp**3 - 8*p_pair*q*rp**2 + 2*p_pair*q*rp + 12*q**2*rp**4 - 24*q**2*rp**3 + 23*q**2*rp**2 - 11*q**2*rp + 2*q**2 - 18*q*rp**4 + 33*q*rp**3 - 24*q*rp**2 + 6*q*rp + 6*rp**4 - 10*rp**3 + 6*rp**2)/6 + (pmp)*t*(2*p_pair**2*qp**4*r**2 - 2*p_pair**2*qp**4*r + p_pair**2*qp**4 + 8*p_pair*qp**4*r**2 - 8*p_pair*qp**4*r + 2*p_pair*qp**4 - 14*p_pair*qp**3*r**2 + 14*p_pair*qp**3*r - 4*p_pair*qp**3 + 8*p_pair*qp**2*r**2 - 6*p_pair*qp**2*r + p_pair*qp**2 - 2*p_pair*qp*r**2 + p_pair*qp*r + 10*qp**4*r**2 - 10*qp**4*r + 3*qp**4 - 22*qp**3*r**2 + 22*qp**3*r - 6*qp**3 + 22*qp**2*r**2 - 16*qp**2*r + 5*qp**2 - 10*qp*r**2 + 3*qp*r + 2*r**2)/6 + (ppc)*t*(-2*q*r + q + r)*(-2*p_pair*q*r + p_pair*q - 2*q*r + q + 2*r)/6 - (-2*q*r + q + r)*((pdm)*t + (pmp)*t + (ppc)*t - 1)*(-2*p_pair*q*r + p_pair*q - 2*q*r + q + 2*r)/3,\n",
       "   (pdm)*t*(12*p_pair*q**2*rp**4 - 24*p_pair*q**2*rp**3 + 23*p_pair*q**2*rp**2 - 11*p_pair*q**2*rp + 2*p_pair*q**2 - 6*p_pair*q*rp**4 + 11*p_pair*q*rp**3 - 8*p_pair*q*rp**2 + 2*p_pair*q*rp + 12*q**2*rp**4 - 24*q**2*rp**3 + 23*q**2*rp**2 - 11*q**2*rp + 2*q**2 - 18*q*rp**4 + 33*q*rp**3 - 24*q*rp**2 + 6*q*rp + 6*rp**4 - 10*rp**3 + 6*rp**2)/16 + (pmp)*t*(4*p_pair**2*qp**4*r**2 - 4*p_pair**2*qp**4*r + p_pair**2*qp**4 + 8*p_pair*qp**4*r**2 - 8*p_pair*qp**4*r + 2*p_pair*qp**4 - 16*p_pair*qp**3*r**2 + 16*p_pair*qp**3*r - 4*p_pair*qp**3 + 8*p_pair*qp**2*r**2 - 6*p_pair*qp**2*r + p_pair*qp**2 - 2*p_pair*qp*r**2 + p_pair*qp*r + 12*qp**4*r**2 - 12*qp**4*r + 3*qp**4 - 24*qp**3*r**2 + 24*qp**3*r - 6*qp**3 + 22*qp**2*r**2 - 16*qp**2*r + 5*qp**2 - 10*qp*r**2 + 3*qp*r + 2*r**2)/16 + (ppc)*t*(-2*q*r + q + r)*(-2*p_pair*q*r + p_pair*q - 2*q*r + q + 2*r)/16 - (-2*q*r + q + r)*((pdm)*t + (pmp)*t + (ppc)*t - 1)*(-4*p_pair*q*r + 2*p_pair*q - 2*q*r + q + 3*r)/12]],\n",
       " [26,\n",
       "  [0,\n",
       "   (ppc)*t*vp*(-2*p_pair**4*q**2*r**2*vp + 2*p_pair**4*q**2*r*vp - p_pair**4*q**2*vp + 2*p_pair**3*q**2*r**2 - 2*p_pair**3*q**2*r + p_pair**3*q**2 + 2*p_pair**3*q*r**2*vp - 4*p_pair**3*q*r*vp + 2*p_pair**3*q*vp - 2*p_pair**2*q*r**2 + 4*p_pair**2*q*r - 2*p_pair**2*q - p_pair**2*r**2*vp + 2*p_pair**2*r*vp - p_pair**2*vp + p_pair*r**2 - 2*p_pair*r + p_pair - 2*q**2*r**2*vp + 2*q**2*r**2 + 2*q**2*r*vp - 2*q**2*r - q**2*vp + q**2 + 2*q*r**2*vp - 2*q*r**2 - 4*q*r*vp + 4*q*r + 2*q*vp - 2*q - r**2*vp + r**2 + 2*r*vp - 2*r - vp + 1)/16,\n",
       "   (ppc)*t*vp*(-2*p_pair**4*q**2*r**2*vp + 2*p_pair**4*q**2*r*vp - p_pair**4*q**2*vp + 2*p_pair**3*q**2*r**2 - 2*p_pair**3*q**2*r + p_pair**3*q**2 + 2*p_pair**3*q*r**2*vp - 4*p_pair**3*q*r*vp + 2*p_pair**3*q*vp - 2*p_pair**2*q*r**2 + 4*p_pair**2*q*r - 2*p_pair**2*q - p_pair**2*r**2*vp + 2*p_pair**2*r*vp - p_pair**2*vp + p_pair*r**2 - 2*p_pair*r + p_pair - 6*q**2*r**2*vp + 6*q**2*r**2 + 6*q**2*r*vp - 6*q**2*r - 2*q**2*vp + 2*q**2 + 6*q*r**2*vp - 6*q*r**2 - 10*q*r*vp + 10*q*r + 4*q*vp - 4*q - 2*r**2*vp + 2*r**2 + 4*r*vp - 4*r - 2*vp + 2)/12,\n",
       "   0]],\n",
       " [27,\n",
       "  [0,\n",
       "   (ppc)*t*vp*(-2*p_pair**4*q**2*r**2*vp + 2*p_pair**4*q**2*r*vp - p_pair**4*q**2*vp + 2*p_pair**3*q**2*r**2 - 2*p_pair**3*q**2*r + p_pair**3*q**2 + 2*p_pair**3*q*r**2*vp - 2*p_pair**2*q*r**2 - p_pair**2*r**2*vp + p_pair*r**2 - 2*q**2*r**2*vp + 2*q**2*r**2 + 2*q**2*r*vp - 2*q**2*r - q**2*vp + q**2 + 2*q*r**2*vp - 2*q*r**2 - r**2*vp + r**2)/16,\n",
       "   (ppc)*t*vp*(-2*p_pair**4*q**2*r**2*vp + 2*p_pair**4*q**2*r*vp - p_pair**4*q**2*vp + 2*p_pair**3*q**2*r**2 - 2*p_pair**3*q**2*r + p_pair**3*q**2 + 2*p_pair**3*q*r**2*vp - 2*p_pair**2*q*r**2 - p_pair**2*r**2*vp + p_pair*r**2 - 6*q**2*r**2*vp + 6*q**2*r**2 + 6*q**2*r*vp - 6*q**2*r - 2*q**2*vp + 2*q**2 + 6*q*r**2*vp - 6*q*r**2 - 2*q*r*vp + 2*q*r - 2*r**2*vp + 2*r**2)/12,\n",
       "   0]],\n",
       " [28,\n",
       "  [0,\n",
       "   (ppc)*r*t*vp*(r - 1)*(2*p_pair**4*q**2*vp - 2*p_pair**3*q**2 - 2*p_pair**3*q*vp + 2*p_pair**2*q + p_pair**2*vp - p_pair + 2*q**2*vp - 2*q**2 - 2*q*vp + 2*q + vp - 1)/8,\n",
       "   (ppc)*t*vp*(2*p_pair**4*q**2*r**2*vp - 2*p_pair**4*q**2*r*vp - 2*p_pair**3*q**2*r**2 + 2*p_pair**3*q**2*r - 2*p_pair**3*q*r**2*vp + 2*p_pair**3*q*r*vp + 2*p_pair**2*q*r**2 - 2*p_pair**2*q*r + p_pair**2*r**2*vp - p_pair**2*r*vp - p_pair*r**2 + p_pair*r + 6*q**2*r**2*vp - 6*q**2*r**2 - 6*q**2*r*vp + 6*q**2*r + q**2*vp - q**2 - 6*q*r**2*vp + 6*q*r**2 + 6*q*r*vp - 6*q*r - q*vp + q + 2*r**2*vp - 2*r**2 - 2*r*vp + 2*r)/6,\n",
       "   0]],\n",
       " [29, [0, 0, 0, 0]],\n",
       " [30,\n",
       "  [0,\n",
       "   t*((pmp)*qp*(qp - 1)*(p_pair**2*qp - p_pair + qp - 1) - (ppc)*q*(2*p_pair**4*q*vp**2 - 2*p_pair**3*q*vp - 2*p_pair**3*vp**2 + p_pair**2*q + 2*p_pair**2*vp - p_pair + 2*q*vp**2 - 2*q*vp + q - 2*vp**2 + 2*vp - 1))*(2*r**2 - 2*r + 1)/16,\n",
       "   t*(-(pdm)*rp*(rp - 1)*(2*p_pair*q*rp - p_pair*q + 2*q*rp - q - 2*rp + 2) + 2*(pmp)*(qp - 1)*(2*p_pair**2*qp**2*r**2 - 2*p_pair**2*qp**2*r + p_pair**2*qp**2 - 2*p_pair*qp*r**2 + 2*p_pair*qp*r - p_pair*qp + 6*qp**2*r**2 - 6*qp**2*r + 2*qp**2 - 6*qp*r**2 + 6*qp*r - 2*qp + r**2 - r) - 2*(ppc)*(4*p_pair**4*q**2*r**2*vp**2 - 4*p_pair**4*q**2*r*vp**2 + 2*p_pair**4*q**2*vp**2 - 4*p_pair**3*q**2*r**2*vp + 4*p_pair**3*q**2*r*vp - 2*p_pair**3*q**2*vp - 4*p_pair**3*q*r**2*vp**2 + 4*p_pair**3*q*r*vp**2 - 2*p_pair**3*q*vp**2 + 2*p_pair**2*q**2*r**2 - 2*p_pair**2*q**2*r + p_pair**2*q**2 + 4*p_pair**2*q*r**2*vp - 4*p_pair**2*q*r*vp + 2*p_pair**2*q*vp - 2*p_pair*q*r**2 + 2*p_pair*q*r - p_pair*q + 12*q**2*r**2*vp**2 - 12*q**2*r**2*vp + 6*q**2*r**2 - 12*q**2*r*vp**2 + 12*q**2*r*vp - 6*q**2*r + 4*q**2*vp**2 - 4*q**2*vp + 2*q**2 - 12*q*r**2*vp**2 + 12*q*r**2*vp - 6*q*r**2 + 12*q*r*vp**2 - 12*q*r*vp + 6*q*r - 4*q*vp**2 + 4*q*vp - 2*q + 2*r**2*vp**2 - 2*r**2*vp + r**2 - 2*r*vp**2 + 2*r*vp - r))/24,\n",
       "   0]],\n",
       " [31,\n",
       "  [0,\n",
       "   -(pmp)*qp**2*t*(2*r**2 - 2*r + 1)*(p_pair**2*qp - p_pair + qp - 1)/16,\n",
       "   -t*((pdm)*rp*(rp - 1)*(-2*p_pair*q*rp + p_pair*q - 2*q*rp + q + 2*rp) + 2*(pmp)*qp*(2*p_pair**2*qp**2*r**2 - 2*p_pair**2*qp**2*r + p_pair**2*qp**2 - 2*p_pair*qp*r**2 + 2*p_pair*qp*r - p_pair*qp + 6*qp**2*r**2 - 6*qp**2*r + 2*qp**2 - 6*qp*r**2 + 6*qp*r - 2*qp + r**2 - r))/24,\n",
       "   0]],\n",
       " [32,\n",
       "  [0,\n",
       "   r*t*(r - 1)*((pmp)*qp*(qp - 1)**2*(p_pair**2*qp - p_pair + qp - 1) + (ppc)*q*(2*p_pair**4*q*vp**2 - 2*p_pair**3*q*vp - 2*p_pair**3*vp**2 + p_pair**2*q + 2*p_pair**2*vp - p_pair + 2*q*vp**2 - 2*q*vp + q - 2*vp**2 + 2*vp - 1))/16,\n",
       "   (pdm)*t*(rp - 1)*(3*rp - 4)*(2*q*rp - q - rp + 1)*(2*p_pair*q*rp - p_pair*q - rp + 1)/24 + (pmp)*t*(qp - 1)**2*(2*p_pair**2*qp**2*r**2 - 2*p_pair**2*qp**2*r + 8*p_pair*qp**2*r**2 - 8*p_pair*qp**2*r + 2*p_pair*qp**2 - 6*p_pair*qp*r**2 + 8*p_pair*qp*r - 2*p_pair*qp + 6*qp**2*r**2 - 6*qp**2*r + qp**2 - 10*qp*r**2 + 16*qp*r - 5*qp + 3*r**2 - 7*r + 4)/24 + (ppc)*t*(4*p_pair**4*q**2*r**2*vp**2 - 4*p_pair**4*q**2*r*vp**2 - 4*p_pair**3*q**2*r**2*vp + 4*p_pair**3*q**2*r*vp - 4*p_pair**3*q*r**2*vp**2 + 4*p_pair**3*q*r*vp**2 + 2*p_pair**2*q**2*r**2 - 2*p_pair**2*q**2*r + 4*p_pair**2*q*r**2*vp - 4*p_pair**2*q*r*vp + 8*p_pair*q**2*r**2 - 8*p_pair*q**2*r + 2*p_pair*q**2 - 6*p_pair*q*r**2 + 8*p_pair*q*r - 2*p_pair*q + 12*q**2*r**2*vp**2 - 12*q**2*r**2*vp + 6*q**2*r**2 - 12*q**2*r*vp**2 + 12*q**2*r*vp - 6*q**2*r + 2*q**2*vp**2 - 2*q**2*vp + q**2 - 12*q*r**2*vp**2 + 12*q*r**2*vp - 10*q*r**2 + 16*q*r*vp**2 - 16*q*r*vp + 16*q*r - 4*q*vp**2 + 4*q*vp - 5*q + 2*r**2*vp**2 - 2*r**2*vp + 3*r**2 - 4*r*vp**2 + 4*r*vp - 7*r + 2*vp**2 - 2*vp + 4)/24 - ((pdm)*t + (pmp)*t + (ppc)*t - 1)*(2*q*r - q - r + 1)*(2*p_pair*q*r - p_pair*q - r + 1)/6,\n",
       "   0]],\n",
       " [33,\n",
       "  [0,\n",
       "   -(pmp)*qp**2*r*t*(qp - 1)*(r - 1)*(p_pair**2*qp - p_pair + qp - 1)/8,\n",
       "   -(pdm)*t*(rp - 1)*(24*p_pair*q**2*rp**3 - 56*p_pair*q**2*rp**2 + 38*p_pair*q**2*rp - 8*p_pair*q**2 - 12*p_pair*q*rp**3 + 32*p_pair*q*rp**2 - 21*p_pair*q*rp + 4*p_pair*q - 12*q*rp**3 + 32*q*rp**2 - 21*q*rp + 4*q + 6*rp**3 - 18*rp**2 + 12*rp)/24 - (pmp)*t*(qp - 1)*(2*p_pair**2*qp**3*r**2 - 2*p_pair**2*qp**3*r + 8*p_pair*qp**3*r**2 - 8*p_pair*qp**3*r + 2*p_pair*qp**3 - 14*p_pair*qp**2*r**2 + 16*p_pair*qp**2*r - 4*p_pair*qp**2 + 4*p_pair*qp*r**2 - 4*p_pair*qp*r + p_pair*qp + 6*qp**3*r**2 - 6*qp**3*r + qp**3 - 10*qp**2*r**2 + 16*qp**2*r - 5*qp**2 + 7*qp*r**2 - 11*qp*r + 5*qp - 2*r**2 + 2*r)/12 + (ppc)*t*(-8*p_pair*q**2*r**2 + 8*p_pair*q**2*r - 2*p_pair*q**2 + 4*p_pair*q*r**2 - 4*p_pair*q*r + p_pair*q + 4*q*r**2 - 4*q*r + q - 2*r**2 + 2*r)/12 - ((pdm)*t + (pmp)*t + (ppc)*t - 1)*(-8*p_pair*q**2*r**2 + 8*p_pair*q**2*r - 2*p_pair*q**2 + 4*p_pair*q*r**2 - 4*p_pair*q*r + p_pair*q + 4*q*r**2 - 4*q*r + q - 2*r**2 + 2*r)/6,\n",
       "   0]],\n",
       " [34,\n",
       "  [0,\n",
       "   r*t*(r - 1)*((pmp)*qp*(qp - 1)**2*(p_pair**2*qp - p_pair + qp - 1) + (ppc)*q*(2*p_pair**4*q*vp**2 - 2*p_pair**3*q*vp - 2*p_pair**3*vp**2 + p_pair**2*q + 2*p_pair**2*vp - p_pair + 2*q*vp**2 - 2*q*vp + q - 2*vp**2 + 2*vp - 1))/16,\n",
       "   t*((pdm)*rp*(12*p_pair*q**2*rp**3 - 8*p_pair*q**2*rp**2 - p_pair*q**2*rp + p_pair*q**2 - 6*p_pair*q*rp**3 + 3*p_pair*q*rp**2 + 2*p_pair*q*rp - p_pair*q - 6*q*rp**3 + 3*q*rp**2 + 2*q*rp - q + 3*rp**3 - rp**2 - rp + 1) + (pmp)*(2*p_pair**2*qp**4*r**2 - 2*p_pair**2*qp**4*r - 4*p_pair**2*qp**3*r**2 + 4*p_pair**2*qp**3*r + 2*p_pair**2*qp**2*r**2 - 2*p_pair**2*qp**2*r + 8*p_pair*qp**4*r**2 - 8*p_pair*qp**4*r + 2*p_pair*qp**4 - 6*p_pair*qp**3*r**2 + 4*p_pair*qp**3*r + 4*p_pair*qp**2*r**2 - 4*p_pair*qp**2*r - 2*p_pair*qp*r**2 + 2*p_pair*qp*r + 6*qp**4*r**2 - 6*qp**4*r + qp**4 - 22*qp**3*r**2 + 16*qp**3*r - qp**3 + 21*qp**2*r**2 - 9*qp**2*r - qp**2 - 8*qp*r**2 + qp + r**2 + r) + (ppc)*(4*p_pair**4*q**2*r**2*vp**2 - 4*p_pair**4*q**2*r*vp**2 - 4*p_pair**3*q**2*r**2*vp + 4*p_pair**3*q**2*r*vp - 4*p_pair**3*q*r**2*vp**2 + 4*p_pair**3*q*r*vp**2 + 2*p_pair**2*q**2*r**2 - 2*p_pair**2*q**2*r + 4*p_pair**2*q*r**2*vp - 4*p_pair**2*q*r*vp - 2*p_pair*q*r**2 + 2*p_pair*q*r + 12*q**2*r**2*vp**2 - 12*q**2*r**2*vp + 6*q**2*r**2 - 12*q**2*r*vp**2 + 12*q**2*r*vp - 6*q**2*r + 2*q**2*vp**2 - 2*q**2*vp + q**2 - 12*q*r**2*vp**2 + 12*q*r**2*vp - 6*q*r**2 + 8*q*r*vp**2 - 8*q*r*vp + 2*q*r + q + 2*r**2*vp**2 - 2*r**2*vp + r**2 + r))/24,\n",
       "   0]],\n",
       " [35,\n",
       "  [0,\n",
       "   -(pmp)*qp**2*r*t*(qp - 1)*(r - 1)*(p_pair**2*qp - p_pair + qp - 1)/8,\n",
       "   -t*((pdm)*rp*(24*p_pair*q**2*rp**3 - 16*p_pair*q**2*rp**2 - 2*p_pair*q**2*rp + 2*p_pair*q**2 - 12*p_pair*q*rp**3 + 4*p_pair*q*rp**2 + 7*p_pair*q*rp - 3*p_pair*q - 12*q*rp**3 + 4*q*rp**2 + 7*q*rp - 3*q + 6*rp**3 - 6*rp) + 2*(pmp)*qp*(2*p_pair**2*qp**3*r**2 - 2*p_pair**2*qp**3*r - 2*p_pair**2*qp**2*r**2 + 2*p_pair**2*qp**2*r + 8*p_pair*qp**3*r**2 - 8*p_pair*qp**3*r + 2*p_pair*qp**3 - 6*p_pair*qp**2*r**2 + 4*p_pair*qp**2*r + 2*p_pair*qp*r**2 - p_pair*qp + 6*qp**3*r**2 - 6*qp**3*r + qp**3 - 16*qp**2*r**2 + 10*qp**2*r + 9*qp*r**2 + qp*r - 2*qp - r**2 - 3*r))/24,\n",
       "   0]],\n",
       " [36,\n",
       "  [0,\n",
       "   (pmp)*qp**3*r*t*(r - 1)*(p_pair**2*qp - p_pair + qp - 1)/8,\n",
       "   (pdm)*t*(12*p_pair*q**2*rp**4 - 24*p_pair*q**2*rp**3 + 23*p_pair*q**2*rp**2 - 11*p_pair*q**2*rp + 2*p_pair*q**2 - 6*p_pair*q*rp**4 + 11*p_pair*q*rp**3 - 8*p_pair*q*rp**2 + 2*p_pair*q*rp - 6*q*rp**4 + 11*q*rp**3 - 8*q*rp**2 + 2*q*rp + 3*rp**4 - 5*rp**3 + 3*rp**2)/12 + (pmp)*t*(2*p_pair**2*qp**4*r**2 - 2*p_pair**2*qp**4*r + 8*p_pair*qp**4*r**2 - 8*p_pair*qp**4*r + 2*p_pair*qp**4 - 14*p_pair*qp**3*r**2 + 14*p_pair*qp**3*r - 3*p_pair*qp**3 + 8*p_pair*qp**2*r**2 - 6*p_pair*qp**2*r + p_pair*qp**2 - 2*p_pair*qp*r**2 + p_pair*qp*r + 6*qp**4*r**2 - 6*qp**4*r + qp**4 - 10*qp**3*r**2 + 10*qp**3*r - 2*qp**3 + 7*qp**2*r**2 - 5*qp**2*r + 2*qp**2 - 4*qp*r**2 + qp*r + r**2)/12 + (ppc)*t*(-2*q*r + q + r)*(-2*p_pair*q*r + p_pair*q + r)/12 - (-2*q*r + q + r)*(-2*p_pair*q*r + p_pair*q + r)*((pdm)*t + (pmp)*t + (ppc)*t - 1)/6,\n",
       "   0]]]"
      ]
     },
     "execution_count": 12,
     "metadata": {},
     "output_type": "execute_result"
    }
   ],
   "source": [
    "comb_lst"
   ]
  },
  {
   "cell_type": "code",
   "execution_count": null,
   "metadata": {
    "collapsed": true
   },
   "outputs": [],
   "source": []
  }
 ],
 "metadata": {
  "kernelspec": {
   "display_name": "Python 3",
   "language": "python",
   "name": "python3"
  },
  "language_info": {
   "codemirror_mode": {
    "name": "ipython",
    "version": 3
   },
   "file_extension": ".py",
   "mimetype": "text/x-python",
   "name": "python",
   "nbconvert_exporter": "python",
   "pygments_lexer": "ipython3",
   "version": "3.6.1"
  }
 },
 "nbformat": 4,
 "nbformat_minor": 2
}
