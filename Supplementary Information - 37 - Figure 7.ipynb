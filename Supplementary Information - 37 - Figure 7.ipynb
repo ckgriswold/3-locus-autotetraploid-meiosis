{
 "cells": [
  {
   "cell_type": "code",
   "execution_count": 1,
   "metadata": {
    "collapsed": true
   },
   "outputs": [],
   "source": [
    "import sympy as sp \n",
    "import itertools\n",
    "a1,a2,b1,b2,a3,a4,b3,b2,b4,c1,c2,c3,c4 = sp.symbols('a1,a2,b1,b2,a3,a4,b3,b2,b4,c1,c2,c3,c4')    \n",
    "r= sp.symbols('r')\n",
    "q=sp.symbols('q')\n",
    "v=sp.symbols('v')\n",
    "vp=sp.symbols('vp')\n",
    "rp=sp.symbols('rp')\n",
    "qp=sp.symbols('qp')\n",
    "t=sp.symbols('t')\n",
    "(ppc)=sp.symbols('(ppc)')\n",
    "(pdm)=sp.symbols('(pdm)')\n",
    "(pmp)=sp.symbols('(pmp)')\n",
    "p_pair=sp.symbols('p_pair')\n",
    "p_0,p_1=sp.symbols('p_0,p_1')\n",
    "\n",
    "G, g = sp.symbols('G, g')"
   ]
  },
  {
   "cell_type": "code",
   "execution_count": 2,
   "metadata": {
    "collapsed": true
   },
   "outputs": [],
   "source": [
    "modes = [[['i_m', 'i_m', G], ['i_m', 'i_m', G]],\n",
    " [['i_m', 'j_m', G], ['i_m', 'j_m', G]],\n",
    " [['i_m', 'i_m', G], ['i_m', 'j_m', G]],\n",
    " [['i_m', 'j_m', G], ['i_m', 'k_m', G]],\n",
    " [['i_m', 'i_m', G], ['j_m', 'i_m', G]],\n",
    " [['i_m', 'j_m', G], ['k_m', 'j_m', G]],\n",
    " [['i_m', 'i_m', G], ['j_m', 'j_m', G]],\n",
    " [['i_m', 'i_m', G], ['j_m', 'k_m', G]],\n",
    " [['i_m', 'j_m', G], ['j_m', 'i_m', G]],\n",
    " [['i_m', 'j_m', G], ['j_m', 'k_m', G]],\n",
    " [['i_m', 'j_m', G], ['k_m', 'l_m', G]],\n",
    " [['i_m', 'i_m', G], ['i_m', 'j_m', g]],\n",
    " [['i_m', 'i_m', G], ['j_m', 'i_m', g]],\n",
    " [['i_m', 'i_m', G], ['j_m', 'k_m', g]],\n",
    " [['i_m', 'j_m', G], ['j_m', 'k_m', g]],\n",
    " [['i_m', 'i_m', g], ['i_m', 'i_m', G]],\n",
    " [['i_m', 'j_m', g], ['i_m', 'j_m', G]],\n",
    " [['i_m', 'i_m', g], ['i_m', 'j_m', G]],\n",
    " [['i_m', 'j_m', g], ['i_m', 'k_m', G]],\n",
    " [['i_m', 'i_m', g], ['j_m', 'i_m', G]],\n",
    " [['i_m', 'j_m', g], ['k_m', 'j_m', G]],\n",
    " [['i_m', 'i_m', g], ['j_m', 'j_m', G]],\n",
    " [['i_m', 'i_m', g], ['j_m', 'k_m', G]],\n",
    " [['i_m', 'j_m', g], ['j_m', 'i_m', G]],\n",
    " [['i_m', 'j_m', g], ['j_m', 'k_m', G]],\n",
    " [['i_m', 'j_m', g], ['k_m', 'l_m', G]],\n",
    " [['i_m', 'i_m', g], ['i_m', 'i_m', g]],\n",
    " [['i_m', 'j_m', g], ['i_m', 'j_m', g]],\n",
    " [['i_m', 'i_m', g], ['i_m', 'j_m', g]],\n",
    " [['i_m', 'j_m', g], ['i_m', 'k_m', g]],\n",
    " [['i_m', 'i_m', g], ['j_m', 'i_m', g]],\n",
    " [['i_m', 'j_m', g], ['k_m', 'j_m', g]],\n",
    " [['i_m', 'i_m', g], ['j_m', 'j_m', g]],\n",
    " [['i_m', 'i_m', g], ['j_m', 'k_m', g]],\n",
    " [['i_m', 'j_m', g], ['j_m', 'i_m', g]],\n",
    " [['i_m', 'j_m', g], ['j_m', 'k_m', g]],\n",
    " [['i_m', 'j_m', g], ['k_m', 'l_m', g]]]"
   ]
  },
  {
   "cell_type": "code",
   "execution_count": 3,
   "metadata": {
    "collapsed": true
   },
   "outputs": [],
   "source": [
    "comb_lst = [[0,\n",
    "  [-(ppc)*t*vp*(q - 1)**2*(vp - 1)/2,\n",
    "   (ppc)*t*vp*(-2*p_pair**6*q**2*r**2*vp + 2*p_pair**5*q**2*r**2 + 2*p_pair**5*q**2*r*vp + 4*p_pair**5*q*r**2*vp - 2*p_pair**4*q**2*r - p_pair**4*q**2*vp - 4*p_pair**4*q*r**2 - 4*p_pair**4*q*r*vp - 2*p_pair**4*r**2*vp + p_pair**3*q**2 + 4*p_pair**3*q*r + 2*p_pair**3*q*vp + 2*p_pair**3*r**2 + 2*p_pair**3*r*vp - 2*p_pair**2*q - 2*p_pair**2*r - p_pair**2*vp + p_pair - 2*q**2*vp + 2*q**2 + 4*q*vp - 4*q - 2*vp + 2)/8,\n",
    "   -(ppc)*t*vp*(4*p_0*p_pair**6*q**2*r**2*vp - 4*p_0*p_pair**5*q**2*r**2 - 4*p_0*p_pair**5*q**2*r*vp - 8*p_0*p_pair**5*q*r**2*vp + 4*p_0*p_pair**4*q**2*r + 2*p_0*p_pair**4*q**2*vp + 8*p_0*p_pair**4*q*r**2 + 8*p_0*p_pair**4*q*r*vp + 4*p_0*p_pair**4*r**2*vp - 2*p_0*p_pair**3*q**2 - 8*p_0*p_pair**3*q*r - 4*p_0*p_pair**3*q*vp - 4*p_0*p_pair**3*r**2 - 4*p_0*p_pair**3*r*vp + 4*p_0*p_pair**2*q + 4*p_0*p_pair**2*r + 2*p_0*p_pair**2*vp - 2*p_0*p_pair + p_1*q**2*vp - p_1*q**2 - 2*p_1*q*vp + 2*p_1*q + p_1*vp - p_1)/(8*p_0 + 4*p_1),\n",
    "   (ppc)*t*vp*(-p_pair**4*q**2*vp + p_pair**3*q**2 + 2*p_pair**3*q*vp - 2*p_pair**2*q - p_pair**2*vp + p_pair - 2*q**2*vp + 2*q**2 + 4*q*vp - 4*q - 2*vp + 2)/8]],\n",
    " [1,\n",
    "  [(ppc)*q**2*t*vp*(-vp + 1)/2,\n",
    "   (ppc)*q**2*t*vp*(-2*p_pair**6*r**2*vp + 2*p_pair**5*r**2 + 2*p_pair**5*r*vp - 2*p_pair**4*r - p_pair**4*vp + p_pair**3 - 2*vp + 2)/8,\n",
    "   -(ppc)*q**2*t*vp*(4*p_0*p_pair**6*r**2*vp - 4*p_0*p_pair**5*r**2 - 4*p_0*p_pair**5*r*vp + 4*p_0*p_pair**4*r + 2*p_0*p_pair**4*vp - 2*p_0*p_pair**3 + p_1*vp - p_1)/(8*p_0 + 4*p_1),\n",
    "   (ppc)*q**2*t*vp*(-p_pair**4*vp + p_pair**3 - 2*vp + 2)/8]],\n",
    " [2,\n",
    "  [(ppc)*q*t*vp*(q - 1)*(vp - 1),\n",
    "   (ppc)*q*t*vp*(-p_pair**6*q*r**2*vp + p_pair**5*q*r**2 + p_pair**5*q*r*vp + p_pair**5*r**2*vp - p_pair**4*q*r - p_pair**4*r**2 - p_pair**4*r*vp + p_pair**3*r + q*vp - q - vp + 1)/2,\n",
    "   -(ppc)*q*t*vp*(4*p_0*p_pair**6*q*r**2*vp - 4*p_0*p_pair**5*q*r**2 - 4*p_0*p_pair**5*q*r*vp - 4*p_0*p_pair**5*r**2*vp + 4*p_0*p_pair**4*q*r + 4*p_0*p_pair**4*r**2 + 4*p_0*p_pair**4*r*vp - 4*p_0*p_pair**3*r - p_1*q*vp + p_1*q + p_1*vp - p_1)/(4*p_0 + 2*p_1),\n",
    "   (ppc)*q*t*vp*(p_pair**4*q*vp - p_pair**3*q - p_pair**3*vp + p_pair**2 + 2*q*vp - 2*q - 2*vp + 2)/4]],\n",
    " [3, [0, 0, 0, 0]],\n",
    " [4,\n",
    "  [t*((pmp)*qp*(qp - 1)**2 - (ppc)*q*(q - 1)*(2*vp**2 - 2*vp + 1))/2,\n",
    "   t*((pmp)*qp*(qp - 1)*(2*p_pair**4*qp*r**2 - 2*p_pair**3*qp*r - 2*p_pair**3*r**2 + p_pair**2*qp + 2*p_pair**2*r - p_pair + 2*qp - 2) - (ppc)*q*(4*p_pair**6*q*r**2*vp**2 - 4*p_pair**5*q*r**2*vp - 4*p_pair**5*q*r*vp**2 - 4*p_pair**5*r**2*vp**2 + 2*p_pair**4*q*r**2 + 4*p_pair**4*q*r*vp + 2*p_pair**4*q*vp**2 + 4*p_pair**4*r**2*vp + 4*p_pair**4*r*vp**2 - 2*p_pair**3*q*r - 2*p_pair**3*q*vp - 2*p_pair**3*r**2 - 4*p_pair**3*r*vp - 2*p_pair**3*vp**2 + p_pair**2*q + 2*p_pair**2*r + 2*p_pair**2*vp - p_pair + 4*q*vp**2 - 4*q*vp + 2*q - 4*vp**2 + 4*vp - 2))/8,\n",
    "   t*((pmp)*qp*(qp - 1)*(4*p_0*p_pair**4*qp*r**2 - 4*p_0*p_pair**3*qp*r - 4*p_0*p_pair**3*r**2 + 2*p_0*p_pair**2*qp + 4*p_0*p_pair**2*r - 2*p_0*p_pair + p_1*qp - p_1) - (ppc)*q*(8*p_0*p_pair**6*q*r**2*vp**2 - 8*p_0*p_pair**5*q*r**2*vp - 8*p_0*p_pair**5*q*r*vp**2 - 8*p_0*p_pair**5*r**2*vp**2 + 4*p_0*p_pair**4*q*r**2 + 8*p_0*p_pair**4*q*r*vp + 4*p_0*p_pair**4*q*vp**2 + 8*p_0*p_pair**4*r**2*vp + 8*p_0*p_pair**4*r*vp**2 - 4*p_0*p_pair**3*q*r - 4*p_0*p_pair**3*q*vp - 4*p_0*p_pair**3*r**2 - 8*p_0*p_pair**3*r*vp - 4*p_0*p_pair**3*vp**2 + 2*p_0*p_pair**2*q + 4*p_0*p_pair**2*r + 4*p_0*p_pair**2*vp - 2*p_0*p_pair + 2*p_1*q*vp**2 - 2*p_1*q*vp + p_1*q - 2*p_1*vp**2 + 2*p_1*vp - p_1))/(4*(2*p_0 + p_1)),\n",
    "   t*((pmp)*qp*(qp - 1)*(p_pair**2*qp - p_pair + 2*qp - 2) - (ppc)*q*(2*p_pair**4*q*vp**2 - 2*p_pair**3*q*vp - 2*p_pair**3*vp**2 + p_pair**2*q + 2*p_pair**2*vp - p_pair + 4*q*vp**2 - 4*q*vp + 2*q - 4*vp**2 + 4*vp - 2))/8]],\n",
    " [5,\n",
    "  [(pmp)*qp**2*t*(-qp + 1)/2,\n",
    "   (pmp)*qp**2*t*(-2*p_pair**4*qp*r**2 + 2*p_pair**3*qp*r + 2*p_pair**3*r**2 - p_pair**2*qp - 2*p_pair**2*r + p_pair - 2*qp + 2)/8,\n",
    "   -(pmp)*qp**2*t*(4*p_0*p_pair**4*qp*r**2 - 4*p_0*p_pair**3*qp*r - 4*p_0*p_pair**3*r**2 + 2*p_0*p_pair**2*qp + 4*p_0*p_pair**2*r - 2*p_0*p_pair + p_1*qp - p_1)/(8*p_0 + 4*p_1),\n",
    "   (pmp)*qp**2*t*(-p_pair**2*qp + p_pair - 2*qp + 2)/8]],\n",
    " [6,\n",
    "  [(pdm)*t*(q - 1)**2 + (pmp)*t*(qp - 1)**3*(3*qp - 4)/4 + (ppc)*t*(q - 1)*(2*q*vp**2 - 2*q*vp + 3*q - 2*vp**2 + 2*vp - 4)/4 + (q - 1)**2*(-(pdm)*t - (pmp)*t - (ppc)*t + 1),\n",
    "   (pdm)*t*(q - 1)**2*(-p_pair**2*rp**2 + p_pair*rp + 4)/8 + (pmp)*t*(qp - 1)**2*(-p_pair**4*qp**2*r**2 + p_pair**3*qp**2*r + 2*p_pair**3*qp*r**2 - 2*p_pair**2*qp*r - p_pair**2*r**2 + 2*p_pair*qp**2 - 2*p_pair*qp + p_pair*r + qp**2 - 5*qp + 4)/8 + (ppc)*t*(-2*p_pair**6*q**2*r**2*vp**2 + 2*p_pair**5*q**2*r**2*vp + 2*p_pair**5*q**2*r*vp**2 + 4*p_pair**5*q*r**2*vp**2 - p_pair**4*q**2*r**2 - 2*p_pair**4*q**2*r*vp - 4*p_pair**4*q*r**2*vp - 4*p_pair**4*q*r*vp**2 - 2*p_pair**4*r**2*vp**2 + p_pair**3*q**2*r + 2*p_pair**3*q*r**2 + 4*p_pair**3*q*r*vp + 2*p_pair**3*r**2*vp + 2*p_pair**3*r*vp**2 - 2*p_pair**2*q*r - p_pair**2*r**2 - 2*p_pair**2*r*vp + 2*p_pair*q**2 - 2*p_pair*q + p_pair*r + 2*q**2*vp**2 - 2*q**2*vp + q**2 - 4*q*vp**2 + 4*q*vp - 5*q + 2*vp**2 - 2*vp + 4)/8 - (q - 1)*(p_pair*q - 1)*((pdm)*t + (pmp)*t + (ppc)*t - 1)/2,\n",
    "   (2*(pdm)*t*(q - 1)**2*(-2*p_0*p_pair**2*rp**2 + 2*p_0*p_pair*rp + p_0 + p_1) - 4*p_0*(p_pair*q - 1)**2*((pdm)*t + (pmp)*t + (ppc)*t - 1) + t*((pmp)*(qp - 1)**2*(-4*p_0*p_pair**4*qp**2*r**2 + 4*p_0*p_pair**3*qp**2*r + 8*p_0*p_pair**3*qp*r**2 + 2*p_0*p_pair**2*qp**2 - 8*p_0*p_pair**2*qp*r - 4*p_0*p_pair**2*r**2 - 4*p_0*p_pair*qp + 4*p_0*p_pair*r + 2*p_0 + p_1*qp**2 - 3*p_1*qp + 2*p_1) + (ppc)*(-8*p_0*p_pair**6*q**2*r**2*vp**2 + 8*p_0*p_pair**5*q**2*r**2*vp + 8*p_0*p_pair**5*q**2*r*vp**2 + 16*p_0*p_pair**5*q*r**2*vp**2 - 4*p_0*p_pair**4*q**2*r**2 - 8*p_0*p_pair**4*q**2*r*vp - 16*p_0*p_pair**4*q*r**2*vp - 16*p_0*p_pair**4*q*r*vp**2 - 8*p_0*p_pair**4*r**2*vp**2 + 4*p_0*p_pair**3*q**2*r + 8*p_0*p_pair**3*q*r**2 + 16*p_0*p_pair**3*q*r*vp + 8*p_0*p_pair**3*r**2*vp + 8*p_0*p_pair**3*r*vp**2 + 2*p_0*p_pair**2*q**2 - 8*p_0*p_pair**2*q*r - 4*p_0*p_pair**2*r**2 - 8*p_0*p_pair**2*r*vp - 4*p_0*p_pair*q + 4*p_0*p_pair*r + 2*p_0 + 2*p_1*q**2*vp**2 - 2*p_1*q**2*vp + p_1*q**2 - 4*p_1*q*vp**2 + 4*p_1*q*vp - 3*p_1*q + 2*p_1*vp**2 - 2*p_1*vp + 2*p_1)))/(8*(2*p_0 + p_1)),\n",
    "   3*(pdm)*t*(q - 1)**2/4 + (pmp)*t*(qp - 1)**2*(p_pair**2*qp**2 + 6*p_pair*qp**2 - 9*p_pair*qp + 2*qp**2 - 12*qp + 12)/16 + (ppc)*t*(2*p_pair**4*q**2*vp**2 - 2*p_pair**3*q**2*vp - 4*p_pair**3*q*vp**2 + p_pair**2*q**2 + 4*p_pair**2*q*vp + 2*p_pair**2*vp**2 + 6*p_pair*q**2 - 9*p_pair*q - 2*p_pair*vp + 4*q**2*vp**2 - 4*q**2*vp + 2*q**2 - 8*q*vp**2 + 8*q*vp - 12*q + 4*vp**2 - 4*vp + 12)/16 - 3*(q - 1)*(p_pair*q - 1)*((pdm)*t + (pmp)*t + (ppc)*t - 1)/4]],\n",
    " [7,\n",
    "  [-2*(pdm)*q*t*(q - 1) - 3*(pmp)*qp*t*(qp - 2)*(qp - 1)**2/2 - (ppc)*q*t*(q - 1) + 2*q*(q - 1)*((pdm)*t + (pmp)*t + (ppc)*t - 1),\n",
    "   -(pdm)*q*t*(q - 1)*(-p_pair**2*rp**2 + p_pair*rp + 4)/4 - (pmp)*qp*t*(qp - 1)*(-p_pair**4*qp**2*r**2 + p_pair**3*qp**2*r + 2*p_pair**3*qp*r**2 - 2*p_pair**2*qp*r - p_pair**2*r**2 + 2*p_pair*qp**2 - 4*p_pair*qp + p_pair*r + p_pair + qp**2 - 5*qp + 5)/4 + (ppc)*q*t*(-2*p_pair*q + p_pair + 1)/4 - q*(-2*p_pair*q + p_pair + 1)*((pdm)*t + (pmp)*t + (ppc)*t - 1)/2,\n",
    "   (-(pmp)*qp*t*(qp - 1)*(-4*p_0*p_pair**4*qp**2*r**2 + 4*p_0*p_pair**3*qp**2*r + 8*p_0*p_pair**3*qp*r**2 + 2*p_0*p_pair**2*qp**2 - 8*p_0*p_pair**2*qp*r - 2*p_0*p_pair**2*qp - 4*p_0*p_pair**2*r**2 - 4*p_0*p_pair*qp + 4*p_0*p_pair*r + 2*p_0*p_pair + 2*p_0 + p_1*qp**2 - 3*p_1*qp + 2*p_1)/4 + p_0*p_pair*q*(p_pair*q - 1)*((pdm)*t + (pmp)*t + (ppc)*t - 1) - q*t*((pdm)*(q - 1)*(-2*p_0*p_pair**2*rp**2 + 2*p_0*p_pair*rp + p_0 + p_1) + (ppc)*p_0*p_pair*(p_pair*q - 1))/2)/(2*p_0 + p_1),\n",
    "   -3*(pdm)*q*t*(q - 1)/2 - (pmp)*qp*t*(qp - 1)*(p_pair**2*qp**2 + 6*p_pair*qp**2 - 15*p_pair*qp + 3*p_pair + 2*qp**2 - 12*qp + 15)/8 + 3*(ppc)*q*t*(-2*p_pair*q + p_pair + 1)/8 - 3*q*(-2*p_pair*q + p_pair + 1)*((pdm)*t + (pmp)*t + (ppc)*t - 1)/4]],\n",
    " [8,\n",
    "  [t*((pmp)*qp*(3*qp**3 - qp**2 - qp + 1) + (ppc)*q*(2*q*vp**2 - 2*q*vp + q + 1))/4,\n",
    "   t*((pmp)*qp*(-p_pair**4*qp**3*r**2 + 2*p_pair**4*qp**2*r**2 - p_pair**4*qp*r**2 + p_pair**3*qp**3*r - 2*p_pair**3*qp**2*r + p_pair**3*qp*r + 2*p_pair*qp**3 + qp**3 - qp**2 - qp + 1) + (ppc)*q*(-2*p_pair**6*q*r**2*vp**2 + 2*p_pair**5*q*r**2*vp + 2*p_pair**5*q*r*vp**2 - p_pair**4*q*r**2 - 2*p_pair**4*q*r*vp + p_pair**3*q*r + 2*q*vp**2 - 2*q*vp + q + 1))/8,\n",
    "   t*((pmp)*qp*(-4*p_0*p_pair**4*qp**3*r**2 + 8*p_0*p_pair**4*qp**2*r**2 - 4*p_0*p_pair**4*qp*r**2 + 4*p_0*p_pair**3*qp**3*r - 8*p_0*p_pair**3*qp**2*r + 4*p_0*p_pair**3*qp*r + 2*p_0*p_pair**2*qp**3 + p_1*qp**3 - p_1*qp**2 - p_1*qp + p_1) + (ppc)*q*(-8*p_0*p_pair**6*q*r**2*vp**2 + 8*p_0*p_pair**5*q*r**2*vp + 8*p_0*p_pair**5*q*r*vp**2 - 4*p_0*p_pair**4*q*r**2 - 8*p_0*p_pair**4*q*r*vp + 4*p_0*p_pair**3*q*r + 2*p_1*q*vp**2 - 2*p_1*q*vp + p_1*q + p_1))/(8*(2*p_0 + p_1)),\n",
    "   t*((pmp)*qp*(p_pair**2*qp**3 - 2*p_pair**2*qp**2 + p_pair**2*qp + 6*p_pair*qp**3 + p_pair*qp**2 - 2*p_pair*qp + p_pair + 2*qp**3 - 2*qp**2 - 2*qp + 2) + (ppc)*q*(2*p_pair**4*q*vp**2 - 2*p_pair**3*q*vp + p_pair**2*q + p_pair + 4*q*vp**2 - 4*q*vp + 2*q + 2))/16]],\n",
    " [9,\n",
    "  [3*(pmp)*qp**2*t*(-qp**2 + 1)/2,\n",
    "   (pmp)*qp**2*t*(p_pair**4*qp**2*r**2 - p_pair**4*qp*r**2 - p_pair**3*qp**2*r + p_pair**3*qp*r - 2*p_pair*qp**2 + p_pair - qp**2 + 2)/4,\n",
    "   (pmp)*qp**2*t*(4*p_0*p_pair**4*qp**2*r**2 - 4*p_0*p_pair**4*qp*r**2 - 4*p_0*p_pair**3*qp**2*r + 4*p_0*p_pair**3*qp*r - 2*p_0*p_pair**2*qp**2 + 2*p_0*p_pair - p_1*qp**2 + p_1)/(4*(2*p_0 + p_1)),\n",
    "   (pmp)*qp**2*t*(-p_pair**2*qp**2 + p_pair**2*qp - 6*p_pair*qp**2 - p_pair*qp + 4*p_pair - 2*qp**2 + 5)/8]],\n",
    " [10,\n",
    "  [-(pmp)*q**2*t + 3*(pmp)*qp**4*t/2 - 5*(pmp)*qp**3*t/2 + 3*(pmp)*qp**2*t/2 - (ppc)*q**2*t/2 + q**2,\n",
    "   (pdm)*q**2*t*(-p_pair**2*rp**2 + p_pair*rp + 4)/8 + (pmp)*qp**2*t*(-2*p_pair**4*qp**2*r**2 + 2*p_pair**3*qp**2*r + 2*p_pair**3*qp*r**2 - 2*p_pair**2*qp*r - p_pair**2*r**2 + 4*p_pair*qp**2 - 6*p_pair*qp + p_pair*r + 2*p_pair + 2*qp**2 - 4*qp + 4)/8 + (ppc)*p_pair*q**2*t/4 - p_pair*q**2*((pdm)*t + (pmp)*t + (ppc)*t - 1)/2,\n",
    "   (-2*p_0*p_pair**2*q**2*((pdm)*t + (pmp)*t + (ppc)*t - 1) + t*((pdm)*q**2*(-2*p_0*p_pair**2*rp**2 + 2*p_0*p_pair*rp + p_0 + p_1) + (pmp)*qp**2*(-4*p_0*p_pair**4*qp**2*r**2 + 4*p_0*p_pair**3*qp**2*r + 4*p_0*p_pair**3*qp*r**2 + 2*p_0*p_pair**2*qp**2 - 4*p_0*p_pair**2*qp*r - 2*p_0*p_pair**2*qp - 2*p_0*p_pair**2*r**2 + p_0*p_pair**2 - 2*p_0*p_pair*qp + 2*p_0*p_pair*r + p_0 + p_1*qp**2 - p_1*qp + p_1) + (ppc)*p_0*p_pair**2*q**2))/(4*(2*p_0 + p_1)),\n",
    "   3*(pdm)*q**2*t/4 + (pmp)*qp**2*t*(p_pair**2*qp**2 + 6*p_pair*qp**2 - 10*p_pair*qp + 3*p_pair + 2*qp**2 - 5*qp + 6)/8 + 3*(ppc)*p_pair*q**2*t/8 - 3*p_pair*q**2*((pdm)*t + (pmp)*t + (ppc)*t - 1)/4]],\n",
    " [11,\n",
    "  [0,\n",
    "   (ppc)*p_pair**2*q*t*vp*(p_pair*q - 1)*(p_pair*vp - 1)*(2*p_pair**2*r**2 - 2*p_pair*r + 1)/4,\n",
    "   (ppc)*p_0*p_pair**2*q*t*vp*(p_pair*q - 1)*(p_pair*vp - 1)*(2*p_pair**2*r**2 - 2*p_pair*r + 1)/(2*p_0 + p_1),\n",
    "   (ppc)*p_pair**2*q*t*vp*(p_pair*q - 1)*(p_pair*vp - 1)/8]],\n",
    " [12,\n",
    "  [0,\n",
    "   p_pair**2*r*t*(p_pair*r - 1)*(-(pmp)*qp*(qp - 1)*(p_pair*qp - 1) + (ppc)*q*(p_pair*q - 1)*(2*p_pair**2*vp**2 - 2*p_pair*vp + 1))/4,\n",
    "   p_0*p_pair**2*r*t*(p_pair*r - 1)*(-(pmp)*qp*(qp - 1)*(p_pair*qp - 1) + (ppc)*q*(p_pair*q - 1)*(2*p_pair**2*vp**2 - 2*p_pair*vp + 1))/(2*p_0 + p_1),\n",
    "   p_pair*t*((pmp)*qp*(qp - 1)*(p_pair*qp - 1) - (ppc)*q*(p_pair*q - 1)*(2*p_pair**2*vp**2 - 2*p_pair*vp + 1))/16]],\n",
    " [13,\n",
    "  [0,\n",
    "   -(pdm)*q*t*(q - 1)*(p_pair**2*rp**2 - p_pair*rp + 2)/4 - (pmp)*qp*t*(qp - 1)*(2*p_pair**4*qp**2*r**2 - 2*p_pair**3*qp**2*r - 4*p_pair**3*qp*r**2 + p_pair**2*qp**2 + 4*p_pair**2*qp*r + 2*p_pair**2*r**2 + 2*p_pair*qp**2 - 7*p_pair*qp - 2*p_pair*r + 2*p_pair - 2*qp + 4)/8 - (ppc)*p_pair*q*t*(q - 1)/4 + p_pair*q*(q - 1)*((pdm)*t + (pmp)*t + (ppc)*t - 1)/2,\n",
    "   (q*((pdm)*t + (pmp)*t + (ppc)*t - 1)*(p_0*p_pair**2*q - p_0*p_pair + p_1*q - p_1) - t*((pdm)*q*(q - 1)*(2*p_0*p_pair**2*rp**2 - 2*p_0*p_pair*rp + 3*p_0 + p_1) + (pmp)*qp*(qp - 1)*(2*p_0*p_pair**4*qp**2*r**2 - 2*p_0*p_pair**3*qp**2*r - 4*p_0*p_pair**3*qp*r**2 + 2*p_0*p_pair**2*qp**2 + 4*p_0*p_pair**2*qp*r - p_0*p_pair**2*qp + 2*p_0*p_pair**2*r**2 - 5*p_0*p_pair*qp - 2*p_0*p_pair*r + p_0*p_pair + 3*p_0 + p_1*qp**2 - 3*p_1*qp + 2*p_1) + (ppc)*q*(p_0*p_pair**2*q - p_0*p_pair + p_1*q - p_1))/2)/(2*p_0 + p_1),\n",
    "   -(pdm)*q*t*(q - 1)/4 - (pmp)*qp*t*(qp - 1)*(p_pair**2*qp**2 + 2*p_pair*qp**2 - 7*p_pair*qp + 2*p_pair - 2*qp + 4)/16 - (ppc)*p_pair*q*t*(q - 1)/8 + p_pair*q*(q - 1)*((pdm)*t + (pmp)*t + (ppc)*t - 1)/4]],\n",
    " [14,\n",
    "  [0,\n",
    "   (pmp)*qp**2*t*(-2*p_pair**4*qp**2*r**2 + 2*p_pair**4*qp*r**2 + 2*p_pair**3*qp**2*r - 2*p_pair**3*qp*r - p_pair**2*qp**2 + p_pair**2*qp - 2*p_pair*qp**2 - p_pair*qp + p_pair + 2)/8,\n",
    "   -(pmp)*qp**2*t*(2*p_0*p_pair**4*qp**2*r**2 - 2*p_0*p_pair**4*qp*r**2 - 2*p_0*p_pair**3*qp**2*r + 2*p_0*p_pair**3*qp*r + 2*p_0*p_pair**2*qp**2 - p_0*p_pair**2*qp + p_0*p_pair*qp - 2*p_0*p_pair + p_1*qp**2 - p_1)/(4*p_0 + 2*p_1),\n",
    "   (pmp)*qp**2*t*(-p_pair**2*qp**2 + p_pair**2*qp - 2*p_pair*qp**2 - p_pair*qp + p_pair + 2)/16]],\n",
    " [15,\n",
    "  [0,\n",
    "   (ppc)*p_pair**2*r*t*vp*(p_pair*q - 1)**2*(p_pair*r - 1)*(p_pair*vp - 1)/2,\n",
    "   2*(ppc)*p_0*p_pair**2*r*t*vp*(p_pair*q - 1)**2*(p_pair*r - 1)*(p_pair*vp - 1)/(2*p_0 + p_1),\n",
    "   -(ppc)*p_pair*t*vp*(p_pair*q - 1)**2*(p_pair*vp - 1)/8]],\n",
    " [16,\n",
    "  [0,\n",
    "   (ppc)*p_pair**4*q**2*r*t*vp*(p_pair*r - 1)*(p_pair*vp - 1)/2,\n",
    "   2*(ppc)*p_0*p_pair**4*q**2*r*t*vp*(p_pair*r - 1)*(p_pair*vp - 1)/(2*p_0 + p_1),\n",
    "   (ppc)*p_pair**3*q**2*t*vp*(-p_pair*vp + 1)/8]],\n",
    " [17,\n",
    "  [0,\n",
    "   (ppc)*p_pair**2*q*t*vp*(p_pair*q - 1)*(p_pair*vp - 1)*(2*p_pair**2*r**2 - 2*p_pair*r + 1)/4,\n",
    "   (ppc)*p_0*p_pair**2*q*t*vp*(p_pair*q - 1)*(p_pair*vp - 1)*(2*p_pair**2*r**2 - 2*p_pair*r + 1)/(2*p_0 + p_1),\n",
    "   (ppc)*p_pair**2*q*t*vp*(p_pair*q - 1)*(p_pair*vp - 1)/8]],\n",
    " [18, [0, 0, 0, 0]],\n",
    " [19,\n",
    "  [0,\n",
    "   p_pair**2*r*t*(p_pair*r - 1)*(-(pmp)*qp*(qp - 1)*(p_pair*qp - 1) + (ppc)*q*(p_pair*q - 1)*(2*p_pair**2*vp**2 - 2*p_pair*vp + 1))/4,\n",
    "   p_0*p_pair**2*r*t*(p_pair*r - 1)*(-(pmp)*qp*(qp - 1)*(p_pair*qp - 1) + (ppc)*q*(p_pair*q - 1)*(2*p_pair**2*vp**2 - 2*p_pair*vp + 1))/(2*p_0 + p_1),\n",
    "   p_pair*t*((pmp)*qp*(qp - 1)*(p_pair*qp - 1) - (ppc)*q*(p_pair*q - 1)*(2*p_pair**2*vp**2 - 2*p_pair*vp + 1))/16]],\n",
    " [20,\n",
    "  [0,\n",
    "   (pmp)*p_pair**2*qp**2*r*t*(p_pair*qp - 1)*(p_pair*r - 1)/2,\n",
    "   2*(pmp)*p_0*p_pair**2*qp**2*r*t*(p_pair*qp - 1)*(p_pair*r - 1)/(2*p_0 + p_1),\n",
    "   (pmp)*p_pair*qp**2*t*(-p_pair*qp + 1)/8]],\n",
    " [21,\n",
    "  [0,\n",
    "   (pdm)*t*(q - 1)**2*(p_pair**2*rp**2 - p_pair*rp + 2)/4 + (pmp)*t*(qp - 1)**2*(p_pair*qp - 1)*(2*p_pair**3*qp*r**2 - 2*p_pair**2*qp*r - 2*p_pair**2*r**2 + p_pair*qp + 2*p_pair*r + 2*qp - 4)/8 + (ppc)*t*(p_pair*q - 1)*(4*p_pair**5*q*r**2*vp**2 - 4*p_pair**4*q*r**2*vp - 4*p_pair**4*q*r*vp**2 - 4*p_pair**4*r**2*vp**2 + 2*p_pair**3*q*r**2 + 4*p_pair**3*q*r*vp + 2*p_pair**3*q*vp**2 + 4*p_pair**3*r**2*vp + 4*p_pair**3*r*vp**2 - 2*p_pair**2*q*r - 2*p_pair**2*q*vp - 2*p_pair**2*r**2 - 4*p_pair**2*r*vp - 2*p_pair**2*vp**2 + p_pair*q + 2*p_pair*r + 2*p_pair*vp + 2*q - 4)/8 - (q - 1)*(p_pair*q - 1)*((pdm)*t + (pmp)*t + (ppc)*t - 1)/2,\n",
    "   (t*((pdm)*(q - 1)**2*(2*p_0*p_pair**2*rp**2 - 2*p_0*p_pair*rp + 3*p_0 + p_1) + (pmp)*(qp - 1)**2*(2*p_0*p_pair**4*qp**2*r**2 - 2*p_0*p_pair**3*qp**2*r - 4*p_0*p_pair**3*qp*r**2 + 2*p_0*p_pair**2*qp**2 + 4*p_0*p_pair**2*qp*r + 2*p_0*p_pair**2*r**2 - 5*p_0*p_pair*qp - 2*p_0*p_pair*r + 3*p_0 + p_1*qp**2 - 2*p_1*qp + p_1) + (ppc)*(4*p_0*p_pair**6*q**2*r**2*vp**2 - 4*p_0*p_pair**5*q**2*r**2*vp - 4*p_0*p_pair**5*q**2*r*vp**2 - 8*p_0*p_pair**5*q*r**2*vp**2 + 2*p_0*p_pair**4*q**2*r**2 + 4*p_0*p_pair**4*q**2*r*vp + 2*p_0*p_pair**4*q**2*vp**2 + 8*p_0*p_pair**4*q*r**2*vp + 8*p_0*p_pair**4*q*r*vp**2 + 4*p_0*p_pair**4*r**2*vp**2 - 2*p_0*p_pair**3*q**2*r - 2*p_0*p_pair**3*q**2*vp - 4*p_0*p_pair**3*q*r**2 - 8*p_0*p_pair**3*q*r*vp - 4*p_0*p_pair**3*q*vp**2 - 4*p_0*p_pair**3*r**2*vp - 4*p_0*p_pair**3*r*vp**2 + 2*p_0*p_pair**2*q**2 + 4*p_0*p_pair**2*q*r + 4*p_0*p_pair**2*q*vp + 2*p_0*p_pair**2*r**2 + 4*p_0*p_pair**2*r*vp + 2*p_0*p_pair**2*vp**2 - 5*p_0*p_pair*q - 2*p_0*p_pair*r - 2*p_0*p_pair*vp + 3*p_0 + p_1*q**2 - 2*p_1*q + p_1))/2 - ((pdm)*t + (pmp)*t + (ppc)*t - 1)*(p_0*p_pair**2*q**2 - 2*p_0*p_pair*q + p_0 + p_1*q**2 - 2*p_1*q + p_1))/(2*p_0 + p_1),\n",
    "   (pdm)*t*(q - 1)**2/4 + (pmp)*t*(qp - 1)**2*(p_pair*qp - 1)*(p_pair*qp + 2*qp - 4)/16 + (ppc)*t*(p_pair*q - 1)*(2*p_pair**3*q*vp**2 - 2*p_pair**2*q*vp - 2*p_pair**2*vp**2 + p_pair*q + 2*p_pair*vp + 2*q - 4)/16 - (q - 1)*(p_pair*q - 1)*((pdm)*t + (pmp)*t + (ppc)*t - 1)/4]],\n",
    " [22,\n",
    "  [0,\n",
    "   -(pdm)*q*t*(q - 1)*(p_pair**2*rp**2 - p_pair*rp + 2)/4 - (pmp)*qp*t*(qp - 1)*(p_pair*qp - 1)*(2*p_pair**3*qp*r**2 - 2*p_pair**2*qp*r - 2*p_pair**2*r**2 + p_pair*qp + 2*p_pair*r + 2*qp - 6)/8 - (ppc)*q*t*(p_pair*q - 1)/4 + q*(p_pair*q - 1)*((pdm)*t + (pmp)*t + (ppc)*t - 1)/2,\n",
    "   (q*((pdm)*t + (pmp)*t + (ppc)*t - 1)*(p_0*p_pair**2*q - p_0*p_pair + p_1*q - p_1) - t*((pdm)*q*(q - 1)*(2*p_0*p_pair**2*rp**2 - 2*p_0*p_pair*rp + 3*p_0 + p_1) + (pmp)*qp*(qp - 1)*(2*p_0*p_pair**4*qp**2*r**2 - 2*p_0*p_pair**3*qp**2*r - 4*p_0*p_pair**3*qp*r**2 + 2*p_0*p_pair**2*qp**2 + 4*p_0*p_pair**2*qp*r - p_0*p_pair**2*qp + 2*p_0*p_pair**2*r**2 - 5*p_0*p_pair*qp - 2*p_0*p_pair*r + p_0*p_pair + 3*p_0 + p_1*qp**2 - 3*p_1*qp + 2*p_1) + (ppc)*q*(p_0*p_pair**2*q - p_0*p_pair + p_1*q - p_1))/2)/(2*p_0 + p_1),\n",
    "   -(pdm)*q*t*(q - 1)/4 - (pmp)*qp*t*(qp - 1)*(p_pair*qp - 1)*(p_pair*qp + 2*qp - 6)/16 - (ppc)*q*t*(p_pair*q - 1)/8 + q*(p_pair*q - 1)*((pdm)*t + (pmp)*t + (ppc)*t - 1)/4]],\n",
    " [23,\n",
    "  [0,\n",
    "   p_pair*t*((pmp)*qp*(2*p_pair**3*qp**3*r**2 - 4*p_pair**3*qp**2*r**2 + 2*p_pair**3*qp*r**2 - 2*p_pair**2*qp**3*r + 4*p_pair**2*qp**2*r - 2*p_pair**2*qp*r + p_pair*qp**3 - 2*p_pair*qp**2 + p_pair*qp + 2*qp**3 + qp**2 - 2*qp + 1) + (ppc)*q*(4*p_pair**5*q*r**2*vp**2 - 4*p_pair**4*q*r**2*vp - 4*p_pair**4*q*r*vp**2 + 2*p_pair**3*q*r**2 + 4*p_pair**3*q*r*vp + 2*p_pair**3*q*vp**2 - 2*p_pair**2*q*r - 2*p_pair**2*q*vp + p_pair*q + 1))/8,\n",
    "   t*((pmp)*qp*(2*p_0*p_pair**4*qp**3*r**2 - 4*p_0*p_pair**4*qp**2*r**2 + 2*p_0*p_pair**4*qp*r**2 - 2*p_0*p_pair**3*qp**3*r + 4*p_0*p_pair**3*qp**2*r - 2*p_0*p_pair**3*qp*r + 2*p_0*p_pair**2*qp**3 - 2*p_0*p_pair**2*qp**2 + p_0*p_pair**2*qp + p_0*p_pair*qp**2 - 2*p_0*p_pair*qp + p_0*p_pair + p_1*qp**3) + (ppc)*p_0*p_pair*q*(4*p_pair**5*q*r**2*vp**2 - 4*p_pair**4*q*r**2*vp - 4*p_pair**4*q*r*vp**2 + 2*p_pair**3*q*r**2 + 4*p_pair**3*q*r*vp + 2*p_pair**3*q*vp**2 - 2*p_pair**2*q*r - 2*p_pair**2*q*vp + p_pair*q + 1))/(2*(2*p_0 + p_1)),\n",
    "   p_pair*t*((pmp)*qp*(p_pair*qp**3 - 2*p_pair*qp**2 + p_pair*qp + 2*qp**3 + qp**2 - 2*qp + 1) + (ppc)*q*(2*p_pair**3*q*vp**2 - 2*p_pair**2*q*vp + p_pair*q + 1))/16]],\n",
    " [24,\n",
    "  [0,\n",
    "   -(pmp)*p_pair*qp**2*t*(qp - 1)*(2*p_pair**3*qp*r**2 - 2*p_pair**2*qp*r + p_pair*qp + 2*qp + 3)/8,\n",
    "   -(pmp)*qp**2*t*(2*p_0*p_pair**4*qp**2*r**2 - 2*p_0*p_pair**4*qp*r**2 - 2*p_0*p_pair**3*qp**2*r + 2*p_0*p_pair**3*qp*r + 2*p_0*p_pair**2*qp**2 - p_0*p_pair**2*qp + p_0*p_pair*qp - 2*p_0*p_pair + p_1*qp**2 - p_1)/(4*p_0 + 2*p_1),\n",
    "   -(pmp)*p_pair*qp**2*t*(qp - 1)*(p_pair*qp + 2*qp + 3)/16]],\n",
    " [25,\n",
    "  [0,\n",
    "   (pdm)*q**2*t*(p_pair**2*rp**2 - p_pair*rp + 2)/4 + (pmp)*qp**2*t*(2*p_pair**4*qp**2*r**2 - 2*p_pair**3*qp**2*r - 2*p_pair**3*qp*r**2 + p_pair**2*qp**2 + 2*p_pair**2*qp*r + p_pair**2*r**2 + 2*p_pair*qp**2 - 4*p_pair*qp - p_pair*r + p_pair - qp + 2)/4 + (ppc)*p_pair*q**2*t/4 - p_pair*q**2*((pdm)*t + (pmp)*t + (ppc)*t - 1)/2,\n",
    "   (-q**2*(p_0*p_pair**2 + p_1)*((pdm)*t + (pmp)*t + (ppc)*t - 1) + t*((pdm)*q**2*(2*p_0*p_pair**2*rp**2 - 2*p_0*p_pair*rp + 3*p_0 + p_1) + (pmp)*qp**2*(4*p_0*p_pair**4*qp**2*r**2 - 4*p_0*p_pair**3*qp**2*r - 4*p_0*p_pair**3*qp*r**2 + 4*p_0*p_pair**2*qp**2 + 4*p_0*p_pair**2*qp*r - 2*p_0*p_pair**2*qp + 2*p_0*p_pair**2*r**2 + p_0*p_pair**2 - 4*p_0*p_pair*qp - 2*p_0*p_pair*r + 3*p_0 + 2*p_1*qp**2 - 4*p_1*qp + 2*p_1) + (ppc)*q**2*(p_0*p_pair**2 + p_1))/2)/(2*p_0 + p_1),\n",
    "   (pdm)*q**2*t/4 + (pmp)*qp**2*t*(p_pair**2*qp**2 + 2*p_pair*qp**2 - 4*p_pair*qp + p_pair - qp + 2)/8 + (ppc)*p_pair*q**2*t/8 - p_pair*q**2*((pdm)*t + (pmp)*t + (ppc)*t - 1)/4]],\n",
    " [26,\n",
    "  [0,\n",
    "   -(ppc)*p_pair*t*vp*(p_pair*q - 1)**2*(p_pair*vp - 1)*(2*p_pair**2*r**2 - 2*p_pair*r + 1)/8,\n",
    "   -(ppc)*t*vp*(4*p_0*p_pair**6*q**2*r**2*vp - 4*p_0*p_pair**5*q**2*r**2 - 4*p_0*p_pair**5*q**2*r*vp - 8*p_0*p_pair**5*q*r**2*vp + 4*p_0*p_pair**4*q**2*r + 2*p_0*p_pair**4*q**2*vp + 8*p_0*p_pair**4*q*r**2 + 8*p_0*p_pair**4*q*r*vp + 4*p_0*p_pair**4*r**2*vp - 2*p_0*p_pair**3*q**2 - 8*p_0*p_pair**3*q*r - 4*p_0*p_pair**3*q*vp - 4*p_0*p_pair**3*r**2 - 4*p_0*p_pair**3*r*vp + 4*p_0*p_pair**2*q + 4*p_0*p_pair**2*r + 2*p_0*p_pair**2*vp - 2*p_0*p_pair + p_1*q**2*vp - p_1*q**2 - 2*p_1*q*vp + 2*p_1*q + p_1*vp - p_1)/(8*p_0 + 4*p_1),\n",
    "   0]],\n",
    " [27,\n",
    "  [0,\n",
    "   -(ppc)*p_pair**3*q**2*t*vp*(p_pair*vp - 1)*(2*p_pair**2*r**2 - 2*p_pair*r + 1)/8,\n",
    "   -(ppc)*q**2*t*vp*(4*p_0*p_pair**6*r**2*vp - 4*p_0*p_pair**5*r**2 - 4*p_0*p_pair**5*r*vp + 4*p_0*p_pair**4*r + 2*p_0*p_pair**4*vp - 2*p_0*p_pair**3 + p_1*vp - p_1)/(8*p_0 + 4*p_1),\n",
    "   0]],\n",
    " [28,\n",
    "  [0,\n",
    "   -(ppc)*p_pair**3*q*r*t*vp*(p_pair*q - 1)*(p_pair*r - 1)*(p_pair*vp - 1)/2,\n",
    "   -(ppc)*q*t*vp*(4*p_0*p_pair**6*q*r**2*vp - 4*p_0*p_pair**5*q*r**2 - 4*p_0*p_pair**5*q*r*vp - 4*p_0*p_pair**5*r**2*vp + 4*p_0*p_pair**4*q*r + 4*p_0*p_pair**4*r**2 + 4*p_0*p_pair**4*r*vp - 4*p_0*p_pair**3*r - p_1*q*vp + p_1*q + p_1*vp - p_1)/(4*p_0 + 2*p_1),\n",
    "   0]],\n",
    " [29, [0, 0, 0, 0]],\n",
    " [30,\n",
    "  [0,\n",
    "   p_pair*t*((pmp)*qp*(qp - 1)*(p_pair*qp - 1) - (ppc)*q*(p_pair*q - 1)*(2*p_pair**2*vp**2 - 2*p_pair*vp + 1))*(2*p_pair**2*r**2 - 2*p_pair*r + 1)/8,\n",
    "   t*((pmp)*qp*(qp - 1)*(4*p_0*p_pair**4*qp*r**2 - 4*p_0*p_pair**3*qp*r - 4*p_0*p_pair**3*r**2 + 2*p_0*p_pair**2*qp + 4*p_0*p_pair**2*r - 2*p_0*p_pair + p_1*qp - p_1) - (ppc)*q*(8*p_0*p_pair**6*q*r**2*vp**2 - 8*p_0*p_pair**5*q*r**2*vp - 8*p_0*p_pair**5*q*r*vp**2 - 8*p_0*p_pair**5*r**2*vp**2 + 4*p_0*p_pair**4*q*r**2 + 8*p_0*p_pair**4*q*r*vp + 4*p_0*p_pair**4*q*vp**2 + 8*p_0*p_pair**4*r**2*vp + 8*p_0*p_pair**4*r*vp**2 - 4*p_0*p_pair**3*q*r - 4*p_0*p_pair**3*q*vp - 4*p_0*p_pair**3*r**2 - 8*p_0*p_pair**3*r*vp - 4*p_0*p_pair**3*vp**2 + 2*p_0*p_pair**2*q + 4*p_0*p_pair**2*r + 4*p_0*p_pair**2*vp - 2*p_0*p_pair + 2*p_1*q*vp**2 - 2*p_1*q*vp + p_1*q - 2*p_1*vp**2 + 2*p_1*vp - p_1))/(4*(2*p_0 + p_1)),\n",
    "   0]],\n",
    " [31,\n",
    "  [0,\n",
    "   -(pmp)*p_pair*qp**2*t*(p_pair*qp - 1)*(2*p_pair**2*r**2 - 2*p_pair*r + 1)/8,\n",
    "   -(pmp)*qp**2*t*(4*p_0*p_pair**4*qp*r**2 - 4*p_0*p_pair**3*qp*r - 4*p_0*p_pair**3*r**2 + 2*p_0*p_pair**2*qp + 4*p_0*p_pair**2*r - 2*p_0*p_pair + p_1*qp - p_1)/(8*p_0 + 4*p_1),\n",
    "   0]],\n",
    " [32,\n",
    "  [0,\n",
    "   -p_pair*t*((pdm)*rp*(q - 1)**2*(p_pair*rp - 1) + (pmp)*r*(qp - 1)**2*(p_pair*qp - 1)**2*(p_pair*r - 1) + (ppc)*r*(p_pair*q - 1)**2*(p_pair*r - 1)*(2*p_pair**2*vp**2 - 2*p_pair*vp + 1))/8,\n",
    "   (2*(pdm)*t*(q - 1)**2*(-2*p_0*p_pair**2*rp**2 + 2*p_0*p_pair*rp + p_0 + p_1) - 4*p_0*(p_pair*q - 1)**2*((pdm)*t + (pmp)*t + (ppc)*t - 1) + t*((pmp)*(qp - 1)**2*(-4*p_0*p_pair**4*qp**2*r**2 + 4*p_0*p_pair**3*qp**2*r + 8*p_0*p_pair**3*qp*r**2 + 2*p_0*p_pair**2*qp**2 - 8*p_0*p_pair**2*qp*r - 4*p_0*p_pair**2*r**2 - 4*p_0*p_pair*qp + 4*p_0*p_pair*r + 2*p_0 + p_1*qp**2 - 3*p_1*qp + 2*p_1) + (ppc)*(-8*p_0*p_pair**6*q**2*r**2*vp**2 + 8*p_0*p_pair**5*q**2*r**2*vp + 8*p_0*p_pair**5*q**2*r*vp**2 + 16*p_0*p_pair**5*q*r**2*vp**2 - 4*p_0*p_pair**4*q**2*r**2 - 8*p_0*p_pair**4*q**2*r*vp - 16*p_0*p_pair**4*q*r**2*vp - 16*p_0*p_pair**4*q*r*vp**2 - 8*p_0*p_pair**4*r**2*vp**2 + 4*p_0*p_pair**3*q**2*r + 8*p_0*p_pair**3*q*r**2 + 16*p_0*p_pair**3*q*r*vp + 8*p_0*p_pair**3*r**2*vp + 8*p_0*p_pair**3*r*vp**2 + 2*p_0*p_pair**2*q**2 - 8*p_0*p_pair**2*q*r - 4*p_0*p_pair**2*r**2 - 8*p_0*p_pair**2*r*vp - 4*p_0*p_pair*q + 4*p_0*p_pair*r + 2*p_0 + 2*p_1*q**2*vp**2 - 2*p_1*q**2*vp + p_1*q**2 - 4*p_1*q*vp**2 + 4*p_1*q*vp - 3*p_1*q + 2*p_1*vp**2 - 2*p_1*vp + 2*p_1)))/(8*(2*p_0 + p_1)),\n",
    "   0]],\n",
    " [33,\n",
    "  [0,\n",
    "   p_pair*t*((pdm)*q*rp*(q - 1)*(p_pair*rp - 1) + (pmp)*qp*r*(qp - 1)*(p_pair*qp - 1)**2*(p_pair*r - 1))/4,\n",
    "   (-(pmp)*qp*t*(qp - 1)*(-4*p_0*p_pair**4*qp**2*r**2 + 4*p_0*p_pair**3*qp**2*r + 8*p_0*p_pair**3*qp*r**2 + 2*p_0*p_pair**2*qp**2 - 8*p_0*p_pair**2*qp*r - 2*p_0*p_pair**2*qp - 4*p_0*p_pair**2*r**2 - 4*p_0*p_pair*qp + 4*p_0*p_pair*r + 2*p_0*p_pair + 2*p_0 + p_1*qp**2 - 3*p_1*qp + 2*p_1)/4 + p_0*p_pair*q*(p_pair*q - 1)*((pdm)*t + (pmp)*t + (ppc)*t - 1) - q*t*((pdm)*(q - 1)*(-2*p_0*p_pair**2*rp**2 + 2*p_0*p_pair*rp + p_0 + p_1) + (ppc)*p_0*p_pair*(p_pair*q - 1))/2)/(2*p_0 + p_1),\n",
    "   0]],\n",
    " [34,\n",
    "  [0,\n",
    "   -p_pair**3*r*t*(p_pair*r - 1)*((pmp)*qp**2*(qp - 1)**2 + (ppc)*q**2*(2*p_pair**2*vp**2 - 2*p_pair*vp + 1))/8,\n",
    "   t*((pmp)*qp*(-4*p_0*p_pair**4*qp**3*r**2 + 8*p_0*p_pair**4*qp**2*r**2 - 4*p_0*p_pair**4*qp*r**2 + 4*p_0*p_pair**3*qp**3*r - 8*p_0*p_pair**3*qp**2*r + 4*p_0*p_pair**3*qp*r + 2*p_0*p_pair**2*qp**3 + p_1*qp**3 - p_1*qp**2 - p_1*qp + p_1) + (ppc)*q*(-8*p_0*p_pair**6*q*r**2*vp**2 + 8*p_0*p_pair**5*q*r**2*vp + 8*p_0*p_pair**5*q*r*vp**2 - 4*p_0*p_pair**4*q*r**2 - 8*p_0*p_pair**4*q*r*vp + 4*p_0*p_pair**3*q*r + 2*p_1*q*vp**2 - 2*p_1*q*vp + p_1*q + p_1))/(8*(2*p_0 + p_1)),\n",
    "   0]],\n",
    " [35,\n",
    "  [0,\n",
    "   (pmp)*p_pair**3*qp**3*r*t*(qp - 1)*(p_pair*r - 1)/4,\n",
    "   (pmp)*qp**2*t*(4*p_0*p_pair**4*qp**2*r**2 - 4*p_0*p_pair**4*qp*r**2 - 4*p_0*p_pair**3*qp**2*r + 4*p_0*p_pair**3*qp*r - 2*p_0*p_pair**2*qp**2 + 2*p_0*p_pair - p_1*qp**2 + p_1)/(4*(2*p_0 + p_1)),\n",
    "   0]],\n",
    " [36,\n",
    "  [0,\n",
    "   -p_pair*t*((pdm)*q**2*rp*(p_pair*rp - 1) + (pmp)*qp**2*r*(p_pair*r - 1)*(2*p_pair**2*qp**2 - 2*p_pair*qp + 1))/8,\n",
    "   (-2*p_0*p_pair**2*q**2*((pdm)*t + (pmp)*t + (ppc)*t - 1) + t*((pdm)*q**2*(-2*p_0*p_pair**2*rp**2 + 2*p_0*p_pair*rp + p_0 + p_1) + (pmp)*qp**2*(-4*p_0*p_pair**4*qp**2*r**2 + 4*p_0*p_pair**3*qp**2*r + 4*p_0*p_pair**3*qp*r**2 + 2*p_0*p_pair**2*qp**2 - 4*p_0*p_pair**2*qp*r - 2*p_0*p_pair**2*qp - 2*p_0*p_pair**2*r**2 + p_0*p_pair**2 - 2*p_0*p_pair*qp + 2*p_0*p_pair*r + p_0 + p_1*qp**2 - p_1*qp + p_1) + (ppc)*p_0*p_pair**2*q**2))/(4*(2*p_0 + p_1)),\n",
    "   0]]]"
   ]
  },
  {
   "cell_type": "code",
   "execution_count": 10,
   "metadata": {
    "collapsed": true
   },
   "outputs": [],
   "source": [
    "test = [['i_m', 'i_m'],['j_m', 'j_m']]"
   ]
  },
  {
   "cell_type": "code",
   "execution_count": 11,
   "metadata": {
    "collapsed": true
   },
   "outputs": [],
   "source": [
    "lst = []\n",
    "for i in range(len(modes)):\n",
    "    if modes[i][0][0] == test[0][0] and modes[i][0][1] == test[0][1] \\\n",
    "        and modes[i][1][0] == test[1][0] and modes[i][1][1] == test[1][1]:\n",
    "        lst.append(i)"
   ]
  },
  {
   "cell_type": "code",
   "execution_count": 12,
   "metadata": {},
   "outputs": [
    {
     "data": {
      "text/plain": [
       "[6, 21, 32]"
      ]
     },
     "execution_count": 12,
     "metadata": {},
     "output_type": "execute_result"
    }
   ],
   "source": [
    "lst"
   ]
  },
  {
   "cell_type": "code",
   "execution_count": 13,
   "metadata": {},
   "outputs": [
    {
     "data": {
      "text/plain": [
       "(-2*(pdm)*p_0*p_pair**2*q**2*t + 4*(pdm)*p_0*p_pair*q*t + 2*(pdm)*p_0*q**2*t - 4*(pdm)*p_0*q*t - 2*(pmp)*p_0*p_pair**2*q**2*t + 3*(pmp)*p_0*p_pair**2*qp**4*t/2 - 3*(pmp)*p_0*p_pair**2*qp**3*t + 3*(pmp)*p_0*p_pair**2*qp**2*t/2 + 4*(pmp)*p_0*p_pair*q*t - 7*(pmp)*p_0*p_pair*qp**3*t/2 + 7*(pmp)*p_0*p_pair*qp**2*t - 7*(pmp)*p_0*p_pair*qp*t/2 + 2*(pmp)*p_0*qp**2*t - 4*(pmp)*p_0*qp*t - (pmp)*p_1*q**2*t + 2*(pmp)*p_1*q*t + 3*(pmp)*p_1*qp**4*t/4 - 13*(pmp)*p_1*qp**3*t/4 + 21*(pmp)*p_1*qp**2*t/4 - 15*(pmp)*p_1*qp*t/4 + (ppc)*p_0*p_pair**4*q**2*t*vp**2 - (ppc)*p_0*p_pair**3*q**2*t*vp - 2*(ppc)*p_0*p_pair**3*q*t*vp**2 - (ppc)*p_0*p_pair**2*q**2*t/2 + 2*(ppc)*p_0*p_pair**2*q*t*vp + (ppc)*p_0*p_pair**2*t*vp**2 + (ppc)*p_0*p_pair*q*t/2 - (ppc)*p_0*p_pair*t*vp + (ppc)*p_1*q**2*t*vp**2/2 - (ppc)*p_1*q**2*t*vp/2 - (ppc)*p_1*q**2*t/4 - (ppc)*p_1*q*t*vp**2 + (ppc)*p_1*q*t*vp + (ppc)*p_1*q*t/4 + (ppc)*p_1*t*vp**2/2 - (ppc)*p_1*t*vp/2 + 2*p_0*p_pair**2*q**2 - 4*p_0*p_pair*q + 2*p_0 + p_1*q**2 - 2*p_1*q + p_1)/(2*p_0 + p_1)"
      ]
     },
     "execution_count": 13,
     "metadata": {},
     "output_type": "execute_result"
    }
   ],
   "source": [
    "sp.simplify(comb_lst[6][1][2]+comb_lst[21][1][2]+comb_lst[32][1][2])"
   ]
  },
  {
   "cell_type": "code",
   "execution_count": 20,
   "metadata": {},
   "outputs": [
    {
     "data": {
      "text/plain": [
       "0.737233231707317"
      ]
     },
     "execution_count": 20,
     "metadata": {},
     "output_type": "execute_result"
    }
   ],
   "source": [
    "sp.simplify(comb_lst[6][1][2]+comb_lst[21][1][2]+comb_lst[32][1][2])\\\n",
    "                                                        .subs(rp,(1 - (1 - 2 * r)**(1/2))/2)\\\n",
    "                                                           .subs(qp,(1 - (1 - 2 * q)**(1/2))/2)\\\n",
    "                                                           .subs(vp,(1 - (1 - 2 * v)**(1/2))/2)\\\n",
    "                                                            .subs(r,1/2).subs(q,1/2).subs(v,1/2)\\\n",
    "                                                            .subs(t,2/3)\\\n",
    "                                                            .subs(ppc,1/4).subs(pmp,1/4).subs(pdm,1/4)\\\n",
    "                                                            .subs(p_pair,1 - 1)\\\n",
    "                                                            .subs(p_0,1).subs(p_1,0.05)"
   ]
  },
  {
   "cell_type": "code",
   "execution_count": 21,
   "metadata": {},
   "outputs": [
    {
     "data": {
      "text/plain": [
       "0.575520833333333"
      ]
     },
     "execution_count": 21,
     "metadata": {},
     "output_type": "execute_result"
    }
   ],
   "source": [
    "(-2*(pdm)*p_pair**2*q**2*t/3 + 4*(pdm)*p_pair*q*t/3 + 2*(pdm)*q**2*t/3 - 4*(pdm)*q*t/3 - 2*(pmp)*p_pair**2*q**2*t/3 + (pmp)*p_pair**2*qp**4*t/2 - (pmp)*p_pair**2*qp**3*t + (pmp)*p_pair**2*qp**2*t/2 + 4*(pmp)*p_pair*q*t/3 - 7*(pmp)*p_pair*qp**3*t/6 + 7*(pmp)*p_pair*qp**2*t/3 - 7*(pmp)*p_pair*qp*t/6 - (pmp)*q**2*t/3 + 2*(pmp)*q*t/3 + (pmp)*qp**4*t/4 - 13*(pmp)*qp**3*t/12 + 29*(pmp)*qp**2*t/12 - 31*(pmp)*qp*t/12 + (ppc)*p_pair**4*q**2*t*vp**2/3 - (ppc)*p_pair**3*q**2*t*vp/3 - 2*(ppc)*p_pair**3*q*t*vp**2/3 - (ppc)*p_pair**2*q**2*t/6 + 2*(ppc)*p_pair**2*q*t*vp/3 + (ppc)*p_pair**2*t*vp**2/3 + (ppc)*p_pair*q*t/6 - (ppc)*p_pair*t*vp/3 + (ppc)*q**2*t*vp**2/6 - (ppc)*q**2*t*vp/6 - (ppc)*q**2*t/12 - (ppc)*q*t*vp**2/3 + (ppc)*q*t*vp/3 + (ppc)*q*t/12 + (ppc)*t*vp**2/6 - (ppc)*t*vp/6 + 2*p_pair**2*q**2/3 - 4*p_pair*q/3 + q**2/3 - 2*q/3 + 1)\\\n",
    "                                                            .subs(rp,(1 - (1 - 2 * r)**(1/2))/2)\\\n",
    "                                                           .subs(qp,(1 - (1 - 2 * q)**(1/2))/2)\\\n",
    "                                                           .subs(vp,(1 - (1 - 2 * v)**(1/2))/2)\\\n",
    "                                                            .subs(r,1/2).subs(q,1/2).subs(v,1/2)\\\n",
    "                                                            .subs(t,2/3)\\\n",
    "                                                            .subs(ppc,1/4).subs(pmp,1/4).subs(pdm,1/4)\\\n",
    "                                                            .subs(p_pair,1 - 1)"
   ]
  },
  {
   "cell_type": "code",
   "execution_count": 22,
   "metadata": {
    "collapsed": true
   },
   "outputs": [],
   "source": [
    "import matplotlib.pyplot as plt\n",
    "import numpy as np"
   ]
  },
  {
   "cell_type": "code",
   "execution_count": 28,
   "metadata": {},
   "outputs": [
    {
     "data": {
      "image/png": "[encoded data removed]",
      "text/plain": [
       "<matplotlib.figure.Figure at 0x113892048>"
      ]
     },
     "metadata": {},
     "output_type": "display_data"
    }
   ],
   "source": [
    "x0 = np.linspace(0,1, 10)\n",
    "y0 = [sp.simplify(comb_lst[6][1][2]+comb_lst[21][1][2]+comb_lst[32][1][2])\\\n",
    "                                                        .subs(rp,(1 - (1 - 2 * r)**(1/2))/2)\\\n",
    "                                                           .subs(qp,(1 - (1 - 2 * q)**(1/2))/2)\\\n",
    "                                                           .subs(vp,(1 - (1 - 2 * v)**(1/2))/2)\\\n",
    "                                                            .subs(r,1/2).subs(q,1/2).subs(v,1/2)\\\n",
    "                                                            .subs(t,2/3)\\\n",
    "                                                            .subs(ppc,1/4).subs(pmp,1/4).subs(pdm,1/4)\\\n",
    "                                                            .subs(p_pair,0.05)\\\n",
    "                                                              .subs(p_0,1).subs(p_1,item) for item in x0]\n",
    "\n",
    "x1 = [1]\n",
    "y1 = [(-2*(pdm)*p_pair**2*q**2*t/3 + 4*(pdm)*p_pair*q*t/3 + 2*(pdm)*q**2*t/3 - 4*(pdm)*q*t/3 - 2*(pmp)*p_pair**2*q**2*t/3 + (pmp)*p_pair**2*qp**4*t/2 - (pmp)*p_pair**2*qp**3*t + (pmp)*p_pair**2*qp**2*t/2 + 4*(pmp)*p_pair*q*t/3 - 7*(pmp)*p_pair*qp**3*t/6 + 7*(pmp)*p_pair*qp**2*t/3 - 7*(pmp)*p_pair*qp*t/6 - (pmp)*q**2*t/3 + 2*(pmp)*q*t/3 + (pmp)*qp**4*t/4 - 13*(pmp)*qp**3*t/12 + 29*(pmp)*qp**2*t/12 - 31*(pmp)*qp*t/12 + (ppc)*p_pair**4*q**2*t*vp**2/3 - (ppc)*p_pair**3*q**2*t*vp/3 - 2*(ppc)*p_pair**3*q*t*vp**2/3 - (ppc)*p_pair**2*q**2*t/6 + 2*(ppc)*p_pair**2*q*t*vp/3 + (ppc)*p_pair**2*t*vp**2/3 + (ppc)*p_pair*q*t/6 - (ppc)*p_pair*t*vp/3 + (ppc)*q**2*t*vp**2/6 - (ppc)*q**2*t*vp/6 - (ppc)*q**2*t/12 - (ppc)*q*t*vp**2/3 + (ppc)*q*t*vp/3 + (ppc)*q*t/12 + (ppc)*t*vp**2/6 - (ppc)*t*vp/6 + 2*p_pair**2*q**2/3 - 4*p_pair*q/3 + q**2/3 - 2*q/3 + 1)\\\n",
    "                                                            .subs(rp,(1 - (1 - 2 * r)**(1/2))/2)\\\n",
    "                                                           .subs(qp,(1 - (1 - 2 * q)**(1/2))/2)\\\n",
    "                                                           .subs(vp,(1 - (1 - 2 * v)**(1/2))/2)\\\n",
    "                                                            .subs(r,1/2).subs(q,1/2).subs(v,1/2)\\\n",
    "                                                            .subs(t,2/3)\\\n",
    "                                                            .subs(ppc,1/4).subs(pmp,1/4).subs(pdm,1/4)\\\n",
    "                                                            .subs(p_pair,0.05)]\n",
    "\n",
    "plt.plot(x0, y0)\n",
    "plt.scatter(x1,y1)\n",
    "plt.show()"
   ]
  },
  {
   "cell_type": "code",
   "execution_count": 29,
   "metadata": {
    "collapsed": true
   },
   "outputs": [],
   "source": [
    "test = [['i_m', 'j_m'],['k_m', 'l_m']]"
   ]
  },
  {
   "cell_type": "code",
   "execution_count": 30,
   "metadata": {
    "collapsed": true
   },
   "outputs": [],
   "source": [
    "lst = []\n",
    "for i in range(len(modes)):\n",
    "    if modes[i][0][0] == test[0][0] and modes[i][0][1] == test[0][1] \\\n",
    "        and modes[i][1][0] == test[1][0] and modes[i][1][1] == test[1][1]:\n",
    "        lst.append(i)"
   ]
  },
  {
   "cell_type": "code",
   "execution_count": 31,
   "metadata": {},
   "outputs": [
    {
     "data": {
      "text/plain": [
       "[10, 25, 36]"
      ]
     },
     "execution_count": 31,
     "metadata": {},
     "output_type": "execute_result"
    }
   ],
   "source": [
    "lst"
   ]
  },
  {
   "cell_type": "code",
   "execution_count": 32,
   "metadata": {},
   "outputs": [
    {
     "data": {
      "text/plain": [
       "(-2*(pdm)*p_0*p_pair**2*q**2*t + 2*(pdm)*p_0*q**2*t - 2*(pmp)*p_0*p_pair**2*q**2*t + 3*(pmp)*p_0*p_pair**2*qp**4*t - 2*(pmp)*p_0*p_pair**2*qp**3*t + (pmp)*p_0*p_pair**2*qp**2*t - 3*(pmp)*p_0*p_pair*qp**3*t + 2*(pmp)*p_0*qp**2*t - (pmp)*p_1*q**2*t + 3*(pmp)*p_1*qp**4*t/2 - 5*(pmp)*p_1*qp**3*t/2 + 3*(pmp)*p_1*qp**2*t/2 - (ppc)*p_0*p_pair**2*q**2*t - (ppc)*p_1*q**2*t/2 + 2*p_0*p_pair**2*q**2 + p_1*q**2)/(2*p_0 + p_1)"
      ]
     },
     "execution_count": 32,
     "metadata": {},
     "output_type": "execute_result"
    }
   ],
   "source": [
    "sp.simplify(comb_lst[10][1][2]+comb_lst[25][1][2]+comb_lst[36][1][2])"
   ]
  },
  {
   "cell_type": "code",
   "execution_count": 34,
   "metadata": {},
   "outputs": [
    {
     "data": {
      "image/png": "[encoded data removed]",
      "text/plain": [
       "<matplotlib.figure.Figure at 0x11354dd30>"
      ]
     },
     "metadata": {},
     "output_type": "display_data"
    }
   ],
   "source": [
    "x0 = np.linspace(0,1, 10)\n",
    "y0 = [sp.simplify(comb_lst[10][1][2]+comb_lst[25][1][2]+comb_lst[36][1][2])\\\n",
    "                                                        .subs(rp,(1 - (1 - 2 * r)**(1/2))/2)\\\n",
    "                                                           .subs(qp,(1 - (1 - 2 * q)**(1/2))/2)\\\n",
    "                                                           .subs(vp,(1 - (1 - 2 * v)**(1/2))/2)\\\n",
    "                                                            .subs(r,1/2).subs(q,1/2).subs(v,1/2)\\\n",
    "                                                            .subs(t,2/3)\\\n",
    "                                                            .subs(ppc,1/4).subs(pmp,1/4).subs(pdm,1/4)\\\n",
    "                                                            .subs(p_pair,0.05)\\\n",
    "                                                             .subs(p_0,1).subs(p_1,item) for item in x0]\n",
    "\n",
    "x1 = [1]\n",
    "y1 = [(-2*(pdm)*p_pair**2*q**2*t/3 + 2*(pdm)*q**2*t/3 - 2*(pmp)*p_pair**2*q**2*t/3 + (pmp)*p_pair**2*qp**4*t - 2*(pmp)*p_pair**2*qp**3*t/3 + (pmp)*p_pair**2*qp**2*t/3 - (pmp)*p_pair*qp**3*t - (pmp)*q**2*t/3 + (pmp)*qp**4*t/2 - 5*(pmp)*qp**3*t/6 + 7*(pmp)*qp**2*t/6 - (ppc)*p_pair**2*q**2*t/3 - (ppc)*q**2*t/6 + 2*p_pair**2*q**2/3 + q**2/3)\\\n",
    "                                                            .subs(rp,(1 - (1 - 2 * r)**(1/2))/2)\\\n",
    "                                                           .subs(qp,(1 - (1 - 2 * q)**(1/2))/2)\\\n",
    "                                                           .subs(vp,(1 - (1 - 2 * v)**(1/2))/2)\\\n",
    "                                                            .subs(r,1/2).subs(q,1/2).subs(v,1/2)\\\n",
    "                                                            .subs(t,2/3)\\\n",
    "                                                            .subs(ppc,1/4).subs(pmp,1/4).subs(pdm,1/4)\\\n",
    "                                                            .subs(p_pair,0.05)]\n",
    "\n",
    "plt.plot(x0, y0)\n",
    "plt.scatter(x1,y1)\n",
    "plt.show()"
   ]
  },
  {
   "cell_type": "code",
   "execution_count": 35,
   "metadata": {},
   "outputs": [
    {
     "data": {
      "image/png": "[encoded data removed]",
      "text/plain": [
       "<matplotlib.figure.Figure at 0x1136bcda0>"
      ]
     },
     "metadata": {},
     "output_type": "display_data"
    }
   ],
   "source": [
    "x0 = np.linspace(0,1, 10)\n",
    "y_iijj = [sp.simplify(comb_lst[6][1][2]+comb_lst[21][1][2]+comb_lst[32][1][2])\\\n",
    "                                                        .subs(rp,(1 - (1 - 2 * r)**(1/2))/2)\\\n",
    "                                                           .subs(qp,(1 - (1 - 2 * q)**(1/2))/2)\\\n",
    "                                                           .subs(vp,(1 - (1 - 2 * v)**(1/2))/2)\\\n",
    "                                                            .subs(r,1/2).subs(q,1/2).subs(v,1/2)\\\n",
    "                                                            .subs(t,2/3)\\\n",
    "                                                            .subs(ppc,1/4).subs(pmp,1/4).subs(pdm,1/4)\\\n",
    "                                                            .subs(p_pair,0.05)\\\n",
    "                                                              .subs(p_0,1).subs(p_1,item) for item in x0]\n",
    "y_ijkl = [sp.simplify(comb_lst[10][1][2]+comb_lst[25][1][2]+comb_lst[36][1][2])\\\n",
    "                                                        .subs(rp,(1 - (1 - 2 * r)**(1/2))/2)\\\n",
    "                                                           .subs(qp,(1 - (1 - 2 * q)**(1/2))/2)\\\n",
    "                                                           .subs(vp,(1 - (1 - 2 * v)**(1/2))/2)\\\n",
    "                                                            .subs(r,1/2).subs(q,1/2).subs(v,1/2)\\\n",
    "                                                            .subs(t,2/3)\\\n",
    "                                                            .subs(ppc,1/4).subs(pmp,1/4).subs(pdm,1/4)\\\n",
    "                                                            .subs(p_pair,0.05)\\\n",
    "                                                              .subs(p_0,1).subs(p_1,item) for item in x0]\n",
    "\n",
    "x1 = [1]\n",
    "y1 = [(-2*(pdm)*p_pair**2*q**2*t/3 + 4*(pdm)*p_pair*q*t/3 + 2*(pdm)*q**2*t/3 - 4*(pdm)*q*t/3 - 2*(pmp)*p_pair**2*q**2*t/3 + (pmp)*p_pair**2*qp**4*t/2 - (pmp)*p_pair**2*qp**3*t + (pmp)*p_pair**2*qp**2*t/2 + 4*(pmp)*p_pair*q*t/3 - 7*(pmp)*p_pair*qp**3*t/6 + 7*(pmp)*p_pair*qp**2*t/3 - 7*(pmp)*p_pair*qp*t/6 - (pmp)*q**2*t/3 + 2*(pmp)*q*t/3 + (pmp)*qp**4*t/4 - 13*(pmp)*qp**3*t/12 + 29*(pmp)*qp**2*t/12 - 31*(pmp)*qp*t/12 + (ppc)*p_pair**4*q**2*t*vp**2/3 - (ppc)*p_pair**3*q**2*t*vp/3 - 2*(ppc)*p_pair**3*q*t*vp**2/3 - (ppc)*p_pair**2*q**2*t/6 + 2*(ppc)*p_pair**2*q*t*vp/3 + (ppc)*p_pair**2*t*vp**2/3 + (ppc)*p_pair*q*t/6 - (ppc)*p_pair*t*vp/3 + (ppc)*q**2*t*vp**2/6 - (ppc)*q**2*t*vp/6 - (ppc)*q**2*t/12 - (ppc)*q*t*vp**2/3 + (ppc)*q*t*vp/3 + (ppc)*q*t/12 + (ppc)*t*vp**2/6 - (ppc)*t*vp/6 + 2*p_pair**2*q**2/3 - 4*p_pair*q/3 + q**2/3 - 2*q/3 + 1)\\\n",
    "                                                            .subs(rp,(1 - (1 - 2 * r)**(1/2))/2)\\\n",
    "                                                           .subs(qp,(1 - (1 - 2 * q)**(1/2))/2)\\\n",
    "                                                           .subs(vp,(1 - (1 - 2 * v)**(1/2))/2)\\\n",
    "                                                            .subs(r,1/2).subs(q,1/2).subs(v,1/2)\\\n",
    "                                                            .subs(t,2/3)\\\n",
    "                                                            .subs(ppc,1/4).subs(pmp,1/4).subs(pdm,1/4)\\\n",
    "                                                            .subs(p_pair,0.05)]\n",
    "\n",
    "x1 = [1]\n",
    "y2 = [(-2*(pdm)*p_pair**2*q**2*t/3 + 2*(pdm)*q**2*t/3 - 2*(pmp)*p_pair**2*q**2*t/3 + (pmp)*p_pair**2*qp**4*t - 2*(pmp)*p_pair**2*qp**3*t/3 + (pmp)*p_pair**2*qp**2*t/3 - (pmp)*p_pair*qp**3*t - (pmp)*q**2*t/3 + (pmp)*qp**4*t/2 - 5*(pmp)*qp**3*t/6 + 7*(pmp)*qp**2*t/6 - (ppc)*p_pair**2*q**2*t/3 - (ppc)*q**2*t/6 + 2*p_pair**2*q**2/3 + q**2/3)\\\n",
    "                                                            .subs(rp,(1 - (1 - 2 * r)**(1/2))/2)\\\n",
    "                                                           .subs(qp,(1 - (1 - 2 * q)**(1/2))/2)\\\n",
    "                                                           .subs(vp,(1 - (1 - 2 * v)**(1/2))/2)\\\n",
    "                                                            .subs(r,1/2).subs(q,1/2).subs(v,1/2)\\\n",
    "                                                            .subs(t,2/3)\\\n",
    "                                                            .subs(ppc,1/4).subs(pmp,1/4).subs(pdm,1/4)\\\n",
    "                                                            .subs(p_pair,0.05)]\n",
    "\n",
    "plt.plot(x0, y_iijj,'k-')\n",
    "plt.plot(x0, y_ijkl,'k--')\n",
    "plt.scatter(x1,y1,c='k')\n",
    "plt.scatter(x1,y2,c='k')\n",
    "plt.show()"
   ]
  },
  {
   "cell_type": "code",
   "execution_count": 36,
   "metadata": {
    "collapsed": true
   },
   "outputs": [],
   "source": [
    "x0 = np.linspace(0,1, 10)\n",
    "y_iijj = [sp.simplify(comb_lst[6][1][2]+comb_lst[21][1][2]+comb_lst[32][1][2])\\\n",
    "                                                        .subs(rp,(1 - (1 - 2 * r)**(1/2))/2)\\\n",
    "                                                           .subs(qp,(1 - (1 - 2 * q)**(1/2))/2)\\\n",
    "                                                           .subs(vp,(1 - (1 - 2 * v)**(1/2))/2)\\\n",
    "                                                            .subs(r,1/2).subs(q,1/2).subs(v,1/2)\\\n",
    "                                                            .subs(t,2/3)\\\n",
    "                                                            .subs(ppc,1/4).subs(pmp,1/4).subs(pdm,1/4)\\\n",
    "                                                            .subs(p_pair,0.05)\\\n",
    "                                                              .subs(p_0,1).subs(p_1,item) for item in x0]\n",
    "y_ijkl = [sp.simplify(comb_lst[10][1][2]+comb_lst[25][1][2]+comb_lst[36][1][2])\\\n",
    "                                                        .subs(rp,(1 - (1 - 2 * r)**(1/2))/2)\\\n",
    "                                                           .subs(qp,(1 - (1 - 2 * q)**(1/2))/2)\\\n",
    "                                                           .subs(vp,(1 - (1 - 2 * v)**(1/2))/2)\\\n",
    "                                                            .subs(r,1/2).subs(q,1/2).subs(v,1/2)\\\n",
    "                                                            .subs(t,2/3)\\\n",
    "                                                            .subs(ppc,1/4).subs(pmp,1/4).subs(pdm,1/4)\\\n",
    "                                                            .subs(p_pair,0.05)\\\n",
    "                                                              .subs(p_0,1).subs(p_1,item) for item in x0]\n",
    "\n",
    "x1 = [1]\n",
    "y1 = [(-2*(pdm)*p_pair**2*q**2*t/3 + 4*(pdm)*p_pair*q*t/3 + 2*(pdm)*q**2*t/3 - 4*(pdm)*q*t/3 - 2*(pmp)*p_pair**2*q**2*t/3 + (pmp)*p_pair**2*qp**4*t/2 - (pmp)*p_pair**2*qp**3*t + (pmp)*p_pair**2*qp**2*t/2 + 4*(pmp)*p_pair*q*t/3 - 7*(pmp)*p_pair*qp**3*t/6 + 7*(pmp)*p_pair*qp**2*t/3 - 7*(pmp)*p_pair*qp*t/6 - (pmp)*q**2*t/3 + 2*(pmp)*q*t/3 + (pmp)*qp**4*t/4 - 13*(pmp)*qp**3*t/12 + 29*(pmp)*qp**2*t/12 - 31*(pmp)*qp*t/12 + (ppc)*p_pair**4*q**2*t*vp**2/3 - (ppc)*p_pair**3*q**2*t*vp/3 - 2*(ppc)*p_pair**3*q*t*vp**2/3 - (ppc)*p_pair**2*q**2*t/6 + 2*(ppc)*p_pair**2*q*t*vp/3 + (ppc)*p_pair**2*t*vp**2/3 + (ppc)*p_pair*q*t/6 - (ppc)*p_pair*t*vp/3 + (ppc)*q**2*t*vp**2/6 - (ppc)*q**2*t*vp/6 - (ppc)*q**2*t/12 - (ppc)*q*t*vp**2/3 + (ppc)*q*t*vp/3 + (ppc)*q*t/12 + (ppc)*t*vp**2/6 - (ppc)*t*vp/6 + 2*p_pair**2*q**2/3 - 4*p_pair*q/3 + q**2/3 - 2*q/3 + 1)\\\n",
    "                                                            .subs(rp,(1 - (1 - 2 * r)**(1/2))/2)\\\n",
    "                                                           .subs(qp,(1 - (1 - 2 * q)**(1/2))/2)\\\n",
    "                                                           .subs(vp,(1 - (1 - 2 * v)**(1/2))/2)\\\n",
    "                                                            .subs(r,1/2).subs(q,1/2).subs(v,1/2)\\\n",
    "                                                            .subs(t,2/3)\\\n",
    "                                                            .subs(ppc,1/4).subs(pmp,1/4).subs(pdm,1/4)\\\n",
    "                                                            .subs(p_pair,0.05)]\n",
    "\n",
    "x1 = [1]\n",
    "y2 = [(-2*(pdm)*p_pair**2*q**2*t/3 + 2*(pdm)*q**2*t/3 - 2*(pmp)*p_pair**2*q**2*t/3 + (pmp)*p_pair**2*qp**4*t - 2*(pmp)*p_pair**2*qp**3*t/3 + (pmp)*p_pair**2*qp**2*t/3 - (pmp)*p_pair*qp**3*t - (pmp)*q**2*t/3 + (pmp)*qp**4*t/2 - 5*(pmp)*qp**3*t/6 + 7*(pmp)*qp**2*t/6 - (ppc)*p_pair**2*q**2*t/3 - (ppc)*q**2*t/6 + 2*p_pair**2*q**2/3 + q**2/3)\\\n",
    "                                                            .subs(rp,(1 - (1 - 2 * r)**(1/2))/2)\\\n",
    "                                                           .subs(qp,(1 - (1 - 2 * q)**(1/2))/2)\\\n",
    "                                                           .subs(vp,(1 - (1 - 2 * v)**(1/2))/2)\\\n",
    "                                                            .subs(r,1/2).subs(q,1/2).subs(v,1/2)\\\n",
    "                                                            .subs(t,2/3)\\\n",
    "                                                            .subs(ppc,1/4).subs(pmp,1/4).subs(pdm,1/4)\\\n",
    "                                                            .subs(p_pair,0.05)]\n",
    "\n",
    "plt.plot(x0, y_iijj,'k-')\n",
    "plt.plot(x0, y_ijkl,'k--')\n",
    "plt.scatter(x1,y1,c='k')\n",
    "plt.scatter(x1,y2,c='k')\n",
    "#plt.show()\n",
    "plt.savefig('ppref_scramble_distal.tiff',format='tiff',dpi=600)"
   ]
  },
  {
   "cell_type": "code",
   "execution_count": null,
   "metadata": {
    "collapsed": true
   },
   "outputs": [],
   "source": []
  }
 ],
 "metadata": {
  "kernelspec": {
   "display_name": "Python 3",
   "language": "python",
   "name": "python3"
  },
  "language_info": {
   "codemirror_mode": {
    "name": "ipython",
    "version": 3
   },
   "file_extension": ".py",
   "mimetype": "text/x-python",
   "name": "python",
   "nbconvert_exporter": "python",
   "pygments_lexer": "ipython3",
   "version": "3.6.1"
  }
 },
 "nbformat": 4,
 "nbformat_minor": 2
}
