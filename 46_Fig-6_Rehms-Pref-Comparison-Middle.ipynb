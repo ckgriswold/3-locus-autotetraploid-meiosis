{
 "cells": [
  {
   "cell_type": "code",
   "execution_count": 1,
   "metadata": {
    "collapsed": true
   },
   "outputs": [],
   "source": [
    "import sympy as sp \n",
    "import itertools\n",
    "a1,a2,b1,b2,a3,a4,b3,b2,b4,c1,c2,c3,c4 = sp.symbols('a1,a2,b1,b2,a3,a4,b3,b2,b4,c1,c2,c3,c4')    \n",
    "r= sp.symbols('r')\n",
    "q=sp.symbols('q')\n",
    "v=sp.symbols('v')\n",
    "vp=sp.symbols('vp')\n",
    "rp=sp.symbols('rp')\n",
    "qp=sp.symbols('qp')\n",
    "t=sp.symbols('t')\n",
    "(ppc)=sp.symbols('(ppc)')\n",
    "(pdm)=sp.symbols('(pdm)')\n",
    "(pmp)=sp.symbols('(pmp)')\n",
    "p_pair=sp.symbols('p_pair')\n",
    "\n",
    "G, g = sp.symbols('G, g')"
   ]
  },
  {
   "cell_type": "code",
   "execution_count": 2,
   "metadata": {
    "collapsed": true
   },
   "outputs": [],
   "source": [
    "modes = [[['i_m', G, 'i_m'], ['i_m', G, 'i_m']],\n",
    " [['i_m', G, 'j_m'], ['i_m', G, 'j_m']],\n",
    " [['i_m', G, 'i_m'], ['i_m', G, 'j_m']],\n",
    " [['i_m', G, 'j_m'], ['i_m', G, 'k_m']],\n",
    " [['i_m', G, 'i_m'], ['j_m', G, 'i_m']],\n",
    " [['i_m', G, 'j_m'], ['k_m', G, 'j_m']],\n",
    " [['i_m', G, 'i_m'], ['j_m', G, 'j_m']],\n",
    " [['i_m', G, 'i_m'], ['j_m', G, 'k_m']],\n",
    " [['i_m', G, 'j_m'], ['j_m', G, 'i_m']],\n",
    " [['i_m', G, 'j_m'], ['j_m', G, 'k_m']],\n",
    " [['i_m', G, 'j_m'], ['k_m', G, 'l_m']],\n",
    " [['i_m', G, 'i_m'], ['i_m', g, 'j_m']],\n",
    " [['i_m', G, 'i_m'], ['j_m', g, 'i_m']],\n",
    " [['i_m', G, 'i_m'], ['j_m', g, 'k_m']],\n",
    " [['i_m', G, 'j_m'], ['j_m', g, 'k_m']],\n",
    " [['i_m', g, 'i_m'], ['i_m', G, 'i_m']],\n",
    " [['i_m', g, 'j_m'], ['i_m', G, 'j_m']],\n",
    " [['i_m', g, 'i_m'], ['i_m', G, 'j_m']],\n",
    " [['i_m', g, 'j_m'], ['i_m', G, 'k_m']],\n",
    " [['i_m', g, 'i_m'], ['j_m', G, 'i_m']],\n",
    " [['i_m', g, 'j_m'], ['k_m', G, 'j_m']],\n",
    " [['i_m', g, 'i_m'], ['j_m', G, 'j_m']],\n",
    " [['i_m', g, 'i_m'], ['j_m', G, 'k_m']],\n",
    " [['i_m', g, 'j_m'], ['j_m', G, 'i_m']],\n",
    " [['i_m', g, 'j_m'], ['j_m', G, 'k_m']],\n",
    " [['i_m', g, 'j_m'], ['k_m', G, 'l_m']],\n",
    " [['i_m', g, 'i_m'], ['i_m', g, 'i_m']],\n",
    " [['i_m', g, 'j_m'], ['i_m', g, 'j_m']],\n",
    " [['i_m', g, 'i_m'], ['i_m', g, 'j_m']],\n",
    " [['i_m', g, 'j_m'], ['i_m', g, 'k_m']],\n",
    " [['i_m', g, 'i_m'], ['j_m', g, 'i_m']],\n",
    " [['i_m', g, 'j_m'], ['k_m', g, 'j_m']],\n",
    " [['i_m', g, 'i_m'], ['j_m', g, 'j_m']],\n",
    " [['i_m', g, 'i_m'], ['j_m', g, 'k_m']],\n",
    " [['i_m', g, 'j_m'], ['j_m', g, 'i_m']],\n",
    " [['i_m', g, 'j_m'], ['j_m', g, 'k_m']],\n",
    " [['i_m', g, 'j_m'], ['k_m', g, 'l_m']]]"
   ]
  },
  {
   "cell_type": "code",
   "execution_count": 3,
   "metadata": {
    "collapsed": true
   },
   "outputs": [],
   "source": [
    "comb_lst = [[0,\n",
    "  [-(ppc)*t*vp*(vp - 1)*(2*q*r - q - r + 1)**2/2,\n",
    "   -(ppc)*t*vp*(vp - 1)*(2*p_pair**4*q**2*r**2 - 2*p_pair**3*q**2*r - 2*p_pair**3*q*r**2 + p_pair**2*q**2 + 4*p_pair**2*q*r + p_pair**2*r**2 - 2*p_pair*q - 2*p_pair*r + 8*q**2*r**2 - 8*q**2*r + 2*q**2 - 8*q*r**2 + 12*q*r - 4*q + 2*r**2 - 4*r + 3)/8,\n",
    "   -(ppc)*t*vp*(vp - 1)*(4*p_pair**4*q**2*r**2 - 4*p_pair**3*q**2*r - 4*p_pair**3*q*r**2 + 2*p_pair**2*q**2 + 8*p_pair**2*q*r + 2*p_pair**2*r**2 - 4*p_pair*q - 4*p_pair*r + 4*q**2*r**2 - 4*q**2*r + q**2 - 4*q*r**2 + 6*q*r - 2*q + r**2 - 2*r + 3)/12,\n",
    "   -(ppc)*t*vp*(vp - 1)*(4*p_pair**4*q**2*r**2 - 4*p_pair**3*q**2*r - 4*p_pair**3*q*r**2 + p_pair**2*q**2 + 6*p_pair**2*q*r + p_pair**2*r**2 - 2*p_pair*q - 2*p_pair*r + 8*q**2*r**2 - 8*q**2*r + 2*q**2 - 8*q*r**2 + 12*q*r - 4*q + 2*r**2 - 4*r + 3)/8]],\n",
    " [1,\n",
    "  [-(ppc)*t*vp*(vp - 1)*(-2*q*r + q + r)**2/2,\n",
    "   -(ppc)*t*vp*(vp - 1)*(2*p_pair**4*q**2*r**2 - 2*p_pair**3*q**2*r - 2*p_pair**3*q*r**2 + p_pair**2*q**2 + p_pair**2*r**2 + 8*q**2*r**2 - 8*q**2*r + 2*q**2 - 8*q*r**2 + 4*q*r + 2*r**2)/8,\n",
    "   -(ppc)*t*vp*(vp - 1)*(4*p_pair**4*q**2*r**2 - 4*p_pair**3*q**2*r - 4*p_pair**3*q*r**2 + 2*p_pair**2*q**2 + 2*p_pair**2*r**2 + 4*q**2*r**2 - 4*q**2*r + q**2 - 4*q*r**2 + 2*q*r + r**2)/12,\n",
    "   -(ppc)*t*vp*(vp - 1)*(4*p_pair**4*q**2*r**2 - 4*p_pair**3*q**2*r - 4*p_pair**3*q*r**2 + p_pair**2*q**2 + 2*p_pair**2*q*r + p_pair**2*r**2 + 8*q**2*r**2 - 8*q**2*r + 2*q**2 - 8*q*r**2 + 4*q*r + 2*r**2)/8]],\n",
    " [2,\n",
    "  [-(ppc)*t*vp*(vp - 1)*(-2*q*r + q + r)*(2*q*r - q - r + 1),\n",
    "   (ppc)*t*vp*(vp - 1)*(2*p_pair**4*q**2*r**2 - 2*p_pair**3*q**2*r - 2*p_pair**3*q*r**2 + 2*p_pair**2*q*r + p_pair**2*r**2 - p_pair*r + 8*q**2*r**2 - 8*q**2*r + 2*q**2 - 8*q*r**2 + 8*q*r - 2*q + 2*r**2 - 2*r)/4,\n",
    "   (ppc)*t*vp*(vp - 1)*(4*p_pair**4*q**2*r**2 - 4*p_pair**3*q**2*r - 4*p_pair**3*q*r**2 + 4*p_pair**2*q*r + 2*p_pair**2*r**2 - 2*p_pair*r + 4*q**2*r**2 - 4*q**2*r + q**2 - 4*q*r**2 + 4*q*r - q + r**2 - r)/6,\n",
    "   (ppc)*t*vp*(vp - 1)*(4*p_pair**4*q**2*r**2 - 4*p_pair**3*q**2*r - 4*p_pair**3*q*r**2 + p_pair**2*q**2 + 4*p_pair**2*q*r + p_pair**2*r**2 - p_pair*q - p_pair*r + 8*q**2*r**2 - 8*q**2*r + 2*q**2 - 8*q*r**2 + 8*q*r - 2*q + 2*r**2 - 2*r)/4]],\n",
    " [3, [0, 0, 0, 0]],\n",
    " [4,\n",
    "  [t*(-(pdm)*rp*(rp - 1)*(2*q*rp - q - rp + 1) - (pmp)*(qp - 1)*(-2*qp*r + qp + r)*(2*qp*r - qp - r + 1) + (ppc)*(2*vp**2 - 2*vp + 1)*(-2*q*r + q + r)*(2*q*r - q - r + 1))/2,\n",
    "   t*((pdm)*rp*(rp - 1)*(-2*p_pair**2*q*rp + p_pair*q + p_pair*rp - 2*q*rp + q + rp - 2) + (pmp)*(qp - 1)*(2*p_pair**4*qp**2*r**2 - 2*p_pair**3*qp**2*r - 2*p_pair**3*qp*r**2 + p_pair**2*qp**2 + 2*p_pair**2*qp*r - p_pair*qp + 8*qp**2*r**2 - 8*qp**2*r + 2*qp**2 - 8*qp*r**2 + 8*qp*r - 2*qp + 2*r**2 - 2*r) - (ppc)*(2*vp**2 - 2*vp + 1)*(2*p_pair**4*q**2*r**2 - 2*p_pair**3*q**2*r - 2*p_pair**3*q*r**2 + p_pair**2*q**2 + 2*p_pair**2*q*r - p_pair*q + 8*q**2*r**2 - 8*q**2*r + 2*q**2 - 8*q*r**2 + 8*q*r - 2*q + 2*r**2 - 2*r))/8,\n",
    "   t*(-(pdm)*rp*(rp - 1)*(2*p_pair**2*q*rp - p_pair*q - p_pair*rp + 1) + (pmp)*(qp - 1)*(4*p_pair**4*qp**2*r**2 - 4*p_pair**3*qp**2*r - 4*p_pair**3*qp*r**2 + 2*p_pair**2*qp**2 + 4*p_pair**2*qp*r - 2*p_pair*qp + 4*qp**2*r**2 - 4*qp**2*r + qp**2 - 4*qp*r**2 + 4*qp*r - qp + r**2 - r) - (ppc)*(2*vp**2 - 2*vp + 1)*(4*p_pair**4*q**2*r**2 - 4*p_pair**3*q**2*r - 4*p_pair**3*q*r**2 + 2*p_pair**2*q**2 + 4*p_pair**2*q*r - 2*p_pair*q + 4*q**2*r**2 - 4*q**2*r + q**2 - 4*q*r**2 + 4*q*r - q + r**2 - r))/12,\n",
    "   t*(3*(pdm)*rp*(rp - 1)*(-2*p_pair**2*q*rp + p_pair*q + p_pair*rp - 2*q*rp + q + rp - 2) + 2*(pmp)*(qp - 1)*(4*p_pair**4*qp**2*r**2 - 4*p_pair**3*qp**2*r - 4*p_pair**3*qp*r**2 + p_pair**2*qp**2 + 4*p_pair**2*qp*r + p_pair**2*r**2 - p_pair*qp - p_pair*r + 8*qp**2*r**2 - 8*qp**2*r + 2*qp**2 - 8*qp*r**2 + 8*qp*r - 2*qp + 2*r**2 - 2*r) - 2*(ppc)*(2*vp**2 - 2*vp + 1)*(4*p_pair**4*q**2*r**2 - 4*p_pair**3*q**2*r - 4*p_pair**3*q*r**2 + p_pair**2*q**2 + 4*p_pair**2*q*r + p_pair**2*r**2 - p_pair*q - p_pair*r + 8*q**2*r**2 - 8*q**2*r + 2*q**2 - 8*q*r**2 + 8*q*r - 2*q + 2*r**2 - 2*r))/16]],\n",
    " [5,\n",
    "  [t*(-(pdm)*rp*(rp - 1)*(-2*q*rp + q + rp) + (pmp)*qp*(-2*qp*r + qp + r)*(2*qp*r - qp - r + 1))/2,\n",
    "   -t*((pdm)*rp*(rp - 1)*(-2*p_pair**2*q*rp + p_pair*q + p_pair*rp - 2*q*rp + q + rp) + (pmp)*qp*(2*p_pair**4*qp**2*r**2 - 2*p_pair**3*qp**2*r - 2*p_pair**3*qp*r**2 + p_pair**2*qp**2 + 2*p_pair**2*qp*r - p_pair*qp + 8*qp**2*r**2 - 8*qp**2*r + 2*qp**2 - 8*qp*r**2 + 8*qp*r - 2*qp + 2*r**2 - 2*r))/8,\n",
    "   -t*((pdm)*p_pair*rp*(rp - 1)*(-2*p_pair*q*rp + q + rp) + (pmp)*qp*(4*p_pair**4*qp**2*r**2 - 4*p_pair**3*qp**2*r - 4*p_pair**3*qp*r**2 + 2*p_pair**2*qp**2 + 4*p_pair**2*qp*r - 2*p_pair*qp + 4*qp**2*r**2 - 4*qp**2*r + qp**2 - 4*qp*r**2 + 4*qp*r - qp + r**2 - r))/12,\n",
    "   -t*(3*(pdm)*rp*(rp - 1)*(-2*p_pair**2*q*rp + p_pair*q + p_pair*rp - 2*q*rp + q + rp) + 2*(pmp)*qp*(4*p_pair**4*qp**2*r**2 - 4*p_pair**3*qp**2*r - 4*p_pair**3*qp*r**2 + p_pair**2*qp**2 + 4*p_pair**2*qp*r + p_pair**2*r**2 - p_pair*qp - p_pair*r + 8*qp**2*r**2 - 8*qp**2*r + 2*qp**2 - 8*qp*r**2 + 8*qp*r - 2*qp + 2*r**2 - 2*r))/16]],\n",
    " [6,\n",
    "  [(pdm)*t*(rp - 1)*(3*rp - 4)*(2*q*rp - q - rp + 1)**2/4 + (pmp)*t*(qp - 1)**2*(2*qp*r - qp - r + 1)*(6*qp*r - 3*qp - 3*r + 4)/4 + (ppc)*t*(2*q*r - q - r + 1)*(4*q*r*vp**2 - 4*q*r*vp + 6*q*r - 2*q*vp**2 + 2*q*vp - 3*q - 2*r*vp**2 + 2*r*vp - 3*r + 2*vp**2 - 2*vp + 4)/4 + (-(pdm)*t - (pmp)*t - (ppc)*t + 1)*(2*q*r - q - r + 1)**2,\n",
    "   (pdm)*t*(rp - 1)*(3*rp - 4)*(2*q*rp - q - rp + 1)*(2*p_pair**2*q*rp - p_pair*q - p_pair*rp + 1)/8 - (pmp)*t*(qp - 1)**2*(-p_pair**4*qp**2*r**2 + p_pair**3*qp**2*r + p_pair**3*qp*r**2 - 8*p_pair**2*qp**2*r**2 + 4*p_pair**2*qp**2*r + 4*p_pair**2*qp*r**2 - 5*p_pair**2*qp*r + 4*p_pair*qp**2*r - 2*p_pair*qp**2 + 4*p_pair*qp*r**2 - 4*p_pair*qp*r + 2*p_pair*qp - 2*p_pair*r**2 + 2*p_pair*r - 4*qp**2*r**2 + 4*qp**2*r - qp**2 + 4*qp*r**2 - 12*qp*r + 5*qp - r**2 + 5*r - 4)/8 - (ppc)*t*(-2*p_pair**4*q**2*r**2*vp**2 + 2*p_pair**4*q**2*r**2*vp - p_pair**4*q**2*r**2 + 2*p_pair**3*q**2*r*vp**2 - 2*p_pair**3*q**2*r*vp + p_pair**3*q**2*r + 2*p_pair**3*q*r**2*vp**2 - 2*p_pair**3*q*r**2*vp + p_pair**3*q*r**2 - 8*p_pair**2*q**2*r**2 + 4*p_pair**2*q**2*r + 4*p_pair**2*q*r**2 - 2*p_pair**2*q*r*vp**2 + 2*p_pair**2*q*r*vp - 5*p_pair**2*q*r + 4*p_pair*q**2*r - 2*p_pair*q**2 + 4*p_pair*q*r**2 - 4*p_pair*q*r + 2*p_pair*q - 2*p_pair*r**2 + 2*p_pair*r - 8*q**2*r**2*vp**2 + 8*q**2*r**2*vp - 4*q**2*r**2 + 8*q**2*r*vp**2 - 8*q**2*r*vp + 4*q**2*r - 2*q**2*vp**2 + 2*q**2*vp - q**2 + 8*q*r**2*vp**2 - 8*q*r**2*vp + 4*q*r**2 - 12*q*r*vp**2 + 12*q*r*vp - 12*q*r + 4*q*vp**2 - 4*q*vp + 5*q - 2*r**2*vp**2 + 2*r**2*vp - r**2 + 4*r*vp**2 - 4*r*vp + 5*r - 2*vp**2 + 2*vp - 4)/8 - ((pdm)*t + (pmp)*t + (ppc)*t - 1)*(2*q*r - q - r + 1)*(2*p_pair**2*q*r - p_pair*q - p_pair*r + 1)/2,\n",
    "   (pdm)*t*(rp - 1)*(3*rp - 4)*(2*p_pair**2*q*rp - p_pair*q - p_pair*rp + 1)**2/24 + (pmp)*t*(qp - 1)**2*(12*p_pair**4*qp**2*r**2 - 12*p_pair**3*qp**2*r - 12*p_pair**3*qp*r**2 + 2*p_pair**2*qp**2 + 16*p_pair**2*qp*r + 2*p_pair**2*r**2 - 4*p_pair*qp - 4*p_pair*r + 4*qp**2*r**2 - 4*qp**2*r + qp**2 - 4*qp*r**2 + 8*qp*r - 3*qp + r**2 - 3*r + 4)/24 + (ppc)*t*(8*p_pair**4*q**2*r**2*vp**2 - 8*p_pair**4*q**2*r**2*vp + 12*p_pair**4*q**2*r**2 - 8*p_pair**3*q**2*r*vp**2 + 8*p_pair**3*q**2*r*vp - 12*p_pair**3*q**2*r - 8*p_pair**3*q*r**2*vp**2 + 8*p_pair**3*q*r**2*vp - 12*p_pair**3*q*r**2 + 2*p_pair**2*q**2 + 8*p_pair**2*q*r*vp**2 - 8*p_pair**2*q*r*vp + 16*p_pair**2*q*r + 2*p_pair**2*r**2 - 4*p_pair*q - 4*p_pair*r + 8*q**2*r**2*vp**2 - 8*q**2*r**2*vp + 4*q**2*r**2 - 8*q**2*r*vp**2 + 8*q**2*r*vp - 4*q**2*r + 2*q**2*vp**2 - 2*q**2*vp + q**2 - 8*q*r**2*vp**2 + 8*q*r**2*vp - 4*q*r**2 + 12*q*r*vp**2 - 12*q*r*vp + 8*q*r - 4*q*vp**2 + 4*q*vp - 3*q + 2*r**2*vp**2 - 2*r**2*vp + r**2 - 4*r*vp**2 + 4*r*vp - 3*r + 2*vp**2 - 2*vp + 4)/24 + (-(pdm)*t - (pmp)*t - (ppc)*t + 1)*(2*p_pair**2*q*r - p_pair*q - p_pair*r + 1)**2/6,\n",
    "   3*(pdm)*t*(rp - 1)*(3*rp - 4)*(2*q*rp - q - rp + 1)*(2*p_pair**2*q*rp - p_pair*q - p_pair*rp + 1)/16 + (pmp)*t*(qp - 1)**2*(4*p_pair**4*qp**2*r**2 - 4*p_pair**3*qp**2*r - 4*p_pair**3*qp*r**2 + 24*p_pair**2*qp**2*r**2 - 12*p_pair**2*qp**2*r + p_pair**2*qp**2 - 12*p_pair**2*qp*r**2 + 20*p_pair**2*qp*r + p_pair**2*r**2 - 12*p_pair*qp**2*r + 6*p_pair*qp**2 - 12*p_pair*qp*r**2 + 12*p_pair*qp*r - 9*p_pair*qp + 6*p_pair*r**2 - 9*p_pair*r + 8*qp**2*r**2 - 8*qp**2*r + 2*qp**2 - 8*qp*r**2 + 28*qp*r - 12*qp + 2*r**2 - 12*r + 12)/16 + (ppc)*t*(8*p_pair**4*q**2*r**2*vp**2 - 8*p_pair**4*q**2*r**2*vp + 4*p_pair**4*q**2*r**2 - 8*p_pair**3*q**2*r*vp**2 + 8*p_pair**3*q**2*r*vp - 4*p_pair**3*q**2*r - 8*p_pair**3*q*r**2*vp**2 + 8*p_pair**3*q*r**2*vp - 4*p_pair**3*q*r**2 + 24*p_pair**2*q**2*r**2 - 12*p_pair**2*q**2*r + 2*p_pair**2*q**2*vp**2 - 2*p_pair**2*q**2*vp + p_pair**2*q**2 - 12*p_pair**2*q*r**2 + 12*p_pair**2*q*r*vp**2 - 12*p_pair**2*q*r*vp + 20*p_pair**2*q*r + 2*p_pair**2*r**2*vp**2 - 2*p_pair**2*r**2*vp + p_pair**2*r**2 - 12*p_pair*q**2*r + 6*p_pair*q**2 - 12*p_pair*q*r**2 + 12*p_pair*q*r - 4*p_pair*q*vp**2 + 4*p_pair*q*vp - 9*p_pair*q + 6*p_pair*r**2 - 4*p_pair*r*vp**2 + 4*p_pair*r*vp - 9*p_pair*r + 16*q**2*r**2*vp**2 - 16*q**2*r**2*vp + 8*q**2*r**2 - 16*q**2*r*vp**2 + 16*q**2*r*vp - 8*q**2*r + 4*q**2*vp**2 - 4*q**2*vp + 2*q**2 - 16*q*r**2*vp**2 + 16*q*r**2*vp - 8*q*r**2 + 24*q*r*vp**2 - 24*q*r*vp + 28*q*r - 8*q*vp**2 + 8*q*vp - 12*q + 4*r**2*vp**2 - 4*r**2*vp + 2*r**2 - 8*r*vp**2 + 8*r*vp - 12*r + 6*vp**2 - 6*vp + 12)/16 - 3*((pdm)*t + (pmp)*t + (ppc)*t - 1)*(2*q*r - q - r + 1)*(2*p_pair**2*q*r - p_pair*q - p_pair*r + 1)/4]],\n",
    " [7,\n",
    "  [-(pdm)*t*(rp - 1)*(2*q*rp - q - rp + 1)*(6*q*rp**2 - 11*q*rp + 4*q - 3*rp**2 + 6*rp)/2 - (pmp)*t*(qp - 1)*(2*qp*r - qp - r + 1)*(6*qp**2*r - 3*qp**2 - 7*qp*r + 6*qp + 2*r)/2 + (ppc)*t*(-2*q*r + q + r)*(2*q*r - q - r + 1) - 2*(-2*q*r + q + r)*((pdm)*t + (pmp)*t + (ppc)*t - 1)*(2*q*r - q - r + 1),\n",
    "   -(pdm)*t*(rp - 1)*(24*p_pair**2*q**2*rp**3 - 44*p_pair**2*q**2*rp**2 + 16*p_pair**2*q**2*rp - 12*p_pair**2*q*rp**3 + 26*p_pair**2*q*rp**2 - 8*p_pair**2*q*rp - 12*p_pair*q**2*rp**2 + 22*p_pair*q**2*rp - 8*p_pair*q**2 - 12*p_pair*q*rp**3 + 28*p_pair*q*rp**2 - 21*p_pair*q*rp + 4*p_pair*q + 6*p_pair*rp**3 - 13*p_pair*rp**2 + 4*p_pair*rp + 10*q*rp**2 - 13*q*rp + 4*q - 5*rp**2 + 8*rp)/8 - (pmp)*t*(qp - 1)*(p_pair**4*qp**3*r**2 - p_pair**3*qp**3*r - p_pair**3*qp**2*r**2 + 8*p_pair**2*qp**3*r**2 - 4*p_pair**2*qp**3*r - 12*p_pair**2*qp**2*r**2 + 9*p_pair**2*qp**2*r + 4*p_pair**2*qp*r**2 - 2*p_pair**2*qp*r - 4*p_pair*qp**3*r + 2*p_pair*qp**3 - 4*p_pair*qp**2*r**2 + 8*p_pair*qp**2*r - 4*p_pair*qp**2 + 6*p_pair*qp*r**2 - 6*p_pair*qp*r + p_pair*qp - 2*p_pair*r**2 + p_pair*r + 4*qp**3*r**2 - 4*qp**3*r + qp**3 - 4*qp**2*r**2 + 12*qp**2*r - 5*qp**2 + qp*r**2 - 7*qp*r + 5*qp + r)/4 + (ppc)*t*(-8*p_pair**2*q**2*r**2 + 4*p_pair**2*q**2*r + 4*p_pair**2*q*r**2 - 2*p_pair**2*q*r + 4*p_pair*q**2*r - 2*p_pair*q**2 + 4*p_pair*q*r**2 - 4*p_pair*q*r + p_pair*q - 2*p_pair*r**2 + p_pair*r - 2*q*r + q + r)/4 - ((pdm)*t + (pmp)*t + (ppc)*t - 1)*(-8*p_pair**2*q**2*r**2 + 4*p_pair**2*q**2*r + 4*p_pair**2*q*r**2 - 2*p_pair**2*q*r + 4*p_pair*q**2*r - 2*p_pair*q**2 + 4*p_pair*q*r**2 - 4*p_pair*q*r + p_pair*q - 2*p_pair*r**2 + p_pair*r - 2*q*r + q + r)/2,\n",
    "   -(pdm)*t*(rp - 1)*(2*p_pair**2*q*rp - p_pair*q - p_pair*rp + 1)*(6*p_pair**2*q*rp**2 - 8*p_pair**2*q*rp - 3*p_pair*q*rp + 4*p_pair*q - 3*p_pair*rp**2 + 4*p_pair*rp + 2*rp)/12 - (pmp)*t*(qp - 1)*(12*p_pair**4*qp**3*r**2 - 8*p_pair**4*qp**2*r**2 - 12*p_pair**3*qp**3*r - 12*p_pair**3*qp**2*r**2 + 8*p_pair**3*qp**2*r + 8*p_pair**3*qp*r**2 + 2*p_pair**2*qp**3 + 16*p_pair**2*qp**2*r - 2*p_pair**2*qp**2 + 2*p_pair**2*qp*r**2 - 8*p_pair**2*qp*r - 2*p_pair**2*r**2 - 4*p_pair*qp**2 - 4*p_pair*qp*r + 2*p_pair*qp + 2*p_pair*r + 4*qp**3*r**2 - 4*qp**3*r + qp**3 - 4*qp**2*r**2 + 8*qp**2*r - 3*qp**2 + qp*r**2 - 3*qp*r + 4*qp)/12 + (ppc)*p_pair*t*(-2*p_pair*q*r + q + r)*(2*p_pair**2*q*r - p_pair*q - p_pair*r + 1)/6 - p_pair*(-2*p_pair*q*r + q + r)*((pdm)*t + (pmp)*t + (ppc)*t - 1)*(2*p_pair**2*q*r - p_pair*q - p_pair*r + 1)/3,\n",
    "   -3*(pdm)*t*(rp - 1)*(24*p_pair**2*q**2*rp**3 - 44*p_pair**2*q**2*rp**2 + 16*p_pair**2*q**2*rp - 12*p_pair**2*q*rp**3 + 26*p_pair**2*q*rp**2 - 8*p_pair**2*q*rp - 12*p_pair*q**2*rp**2 + 22*p_pair*q**2*rp - 8*p_pair*q**2 - 12*p_pair*q*rp**3 + 28*p_pair*q*rp**2 - 21*p_pair*q*rp + 4*p_pair*q + 6*p_pair*rp**3 - 13*p_pair*rp**2 + 4*p_pair*rp + 10*q*rp**2 - 13*q*rp + 4*q - 5*rp**2 + 8*rp)/16 - (pmp)*t*(qp - 1)*(4*p_pair**4*qp**3*r**2 - 4*p_pair**3*qp**3*r - 4*p_pair**3*qp**2*r**2 + 24*p_pair**2*qp**3*r**2 - 12*p_pair**2*qp**3*r + p_pair**2*qp**3 - 36*p_pair**2*qp**2*r**2 + 32*p_pair**2*qp**2*r + 13*p_pair**2*qp*r**2 - 6*p_pair**2*qp*r - 12*p_pair*qp**3*r + 6*p_pair*qp**3 - 12*p_pair*qp**2*r**2 + 24*p_pair*qp**2*r - 15*p_pair*qp**2 + 18*p_pair*qp*r**2 - 21*p_pair*qp*r + 3*p_pair*qp - 6*p_pair*r**2 + 3*p_pair*r + 8*qp**3*r**2 - 8*qp**3*r + 2*qp**3 - 8*qp**2*r**2 + 28*qp**2*r - 12*qp**2 + 2*qp*r**2 - 18*qp*r + 15*qp + 3*r)/8 + 3*(ppc)*t*(-8*p_pair**2*q**2*r**2 + 4*p_pair**2*q**2*r + 4*p_pair**2*q*r**2 - 2*p_pair**2*q*r + 4*p_pair*q**2*r - 2*p_pair*q**2 + 4*p_pair*q*r**2 - 4*p_pair*q*r + p_pair*q - 2*p_pair*r**2 + p_pair*r - 2*q*r + q + r)/8 - 3*((pdm)*t + (pmp)*t + (ppc)*t - 1)*(-8*p_pair**2*q**2*r**2 + 4*p_pair**2*q**2*r + 4*p_pair**2*q*r**2 - 2*p_pair**2*q*r + 4*p_pair*q**2*r - 2*p_pair*q**2 + 4*p_pair*q*r**2 - 4*p_pair*q*r + p_pair*q - 2*p_pair*r**2 + p_pair*r - 2*q*r + q + r)/4]],\n",
    " [8,\n",
    "  [t*((pdm)*rp*(12*q**2*rp**3 - 8*q**2*rp**2 - q**2*rp + q**2 - 12*q*rp**3 + 6*q*rp**2 + 4*q*rp - 2*q + 3*rp**3 - rp**2 - rp + 1) - (pmp)*(-2*qp*r + qp + r)*(6*qp**3*r - 3*qp**3 - 7*qp**2*r + qp**2 + 4*qp*r + qp - r - 1) + (ppc)*(-2*q*r + q + r)*(-4*q*r*vp**2 + 4*q*r*vp - 2*q*r + 2*q*vp**2 - 2*q*vp + q + 2*r*vp**2 - 2*r*vp + r + 1))/4,\n",
    "   t*((pdm)*rp*(12*p_pair**2*q**2*rp**3 - 2*p_pair**2*q**2*rp**2 - 2*p_pair**2*q**2*rp - 6*p_pair**2*q*rp**3 + 2*p_pair**2*q*rp - 6*p_pair*q**2*rp**2 + p_pair*q**2*rp + p_pair*q**2 - 6*p_pair*q*rp**3 + 4*p_pair*q*rp**2 + p_pair*q*rp - p_pair*q + 3*p_pair*rp**3 - p_pair*rp + 2*q*rp**2 + q*rp - q - rp**2 + 1) + (pmp)*(p_pair**4*qp**4*r**2 - 2*p_pair**4*qp**3*r**2 + p_pair**4*qp**2*r**2 - p_pair**3*qp**4*r - p_pair**3*qp**3*r**2 + 2*p_pair**3*qp**3*r + 2*p_pair**3*qp**2*r**2 - p_pair**3*qp**2*r - p_pair**3*qp*r**2 + 8*p_pair**2*qp**4*r**2 - 4*p_pair**2*qp**4*r - 4*p_pair**2*qp**3*r**2 + p_pair**2*qp**3*r - 2*p_pair**2*qp**2*r + p_pair**2*qp*r - 4*p_pair*qp**4*r + 2*p_pair*qp**4 - 4*p_pair*qp**3*r**2 + 4*p_pair*qp**3*r + 2*p_pair*qp**2*r**2 + 4*qp**4*r**2 - 4*qp**4*r + qp**4 - 12*qp**3*r**2 + 8*qp**3*r - qp**3 + 13*qp**2*r**2 - 3*qp**2*r - qp**2 - 6*qp*r**2 - 2*qp*r + qp + r**2 + r) + (ppc)*(2*p_pair**4*q**2*r**2*vp**2 - 2*p_pair**4*q**2*r**2*vp + p_pair**4*q**2*r**2 - 2*p_pair**3*q**2*r*vp**2 + 2*p_pair**3*q**2*r*vp - p_pair**3*q**2*r - 2*p_pair**3*q*r**2*vp**2 + 2*p_pair**3*q*r**2*vp - p_pair**3*q*r**2 + 2*p_pair**2*q*r*vp**2 - 2*p_pair**2*q*r*vp + p_pair**2*q*r + 8*q**2*r**2*vp**2 - 8*q**2*r**2*vp + 4*q**2*r**2 - 8*q**2*r*vp**2 + 8*q**2*r*vp - 4*q**2*r + 2*q**2*vp**2 - 2*q**2*vp + q**2 - 8*q*r**2*vp**2 + 8*q*r**2*vp - 4*q*r**2 + 4*q*r*vp**2 - 4*q*r*vp + q + 2*r**2*vp**2 - 2*r**2*vp + r**2 + r))/8,\n",
    "   t*((pdm)*rp*(12*p_pair**4*q**2*rp**3 + 4*p_pair**4*q**2*rp**2 - 12*p_pair**3*q**2*rp**2 - 4*p_pair**3*q**2*rp - 12*p_pair**3*q*rp**3 - 4*p_pair**3*q*rp**2 + 3*p_pair**2*q**2*rp + p_pair**2*q**2 + 10*p_pair**2*q*rp**2 + 6*p_pair**2*q*rp + 3*p_pair**2*rp**3 + p_pair**2*rp**2 - 2*p_pair*q*rp - 2*p_pair*q - 2*p_pair*rp**2 - 2*p_pair*rp + rp + 1) + (pmp)*(12*p_pair**4*qp**4*r**2 - 8*p_pair**4*qp**3*r**2 + 4*p_pair**4*qp**2*r**2 - 12*p_pair**3*qp**4*r - 12*p_pair**3*qp**3*r**2 + 8*p_pair**3*qp**3*r + 8*p_pair**3*qp**2*r**2 - 4*p_pair**3*qp**2*r - 4*p_pair**3*qp*r**2 + 2*p_pair**2*qp**4 + 8*p_pair**2*qp**3*r + 2*p_pair**2*qp**2*r**2 - 8*p_pair**2*qp**2*r + 4*p_pair**2*qp*r + 4*qp**4*r**2 - 4*qp**4*r + qp**4 - 12*qp**3*r**2 + 8*qp**3*r - qp**3 + 13*qp**2*r**2 - 3*qp**2*r - qp**2 - 6*qp*r**2 - 2*qp*r + qp + r**2 + r) + (ppc)*(8*p_pair**4*q**2*r**2*vp**2 - 8*p_pair**4*q**2*r**2*vp + 4*p_pair**4*q**2*r**2 - 8*p_pair**3*q**2*r*vp**2 + 8*p_pair**3*q**2*r*vp - 4*p_pair**3*q**2*r - 8*p_pair**3*q*r**2*vp**2 + 8*p_pair**3*q*r**2*vp - 4*p_pair**3*q*r**2 + 8*p_pair**2*q*r*vp**2 - 8*p_pair**2*q*r*vp + 4*p_pair**2*q*r + 8*q**2*r**2*vp**2 - 8*q**2*r**2*vp + 4*q**2*r**2 - 8*q**2*r*vp**2 + 8*q**2*r*vp - 4*q**2*r + 2*q**2*vp**2 - 2*q**2*vp + q**2 - 8*q*r**2*vp**2 + 8*q*r**2*vp - 4*q*r**2 + 4*q*r*vp**2 - 4*q*r*vp + q + 2*r**2*vp**2 - 2*r**2*vp + r**2 + r))/24,\n",
    "   t*(3*(pdm)*rp*(12*p_pair**2*q**2*rp**3 - 2*p_pair**2*q**2*rp**2 - 2*p_pair**2*q**2*rp - 6*p_pair**2*q*rp**3 + 2*p_pair**2*q*rp - 6*p_pair*q**2*rp**2 + p_pair*q**2*rp + p_pair*q**2 - 6*p_pair*q*rp**3 + 4*p_pair*q*rp**2 + p_pair*q*rp - p_pair*q + 3*p_pair*rp**3 - p_pair*rp + 2*q*rp**2 + q*rp - q - rp**2 + 1) + (pmp)*(4*p_pair**4*qp**4*r**2 - 8*p_pair**4*qp**3*r**2 + 4*p_pair**4*qp**2*r**2 - 4*p_pair**3*qp**4*r - 4*p_pair**3*qp**3*r**2 + 8*p_pair**3*qp**3*r + 8*p_pair**3*qp**2*r**2 - 4*p_pair**3*qp**2*r - 4*p_pair**3*qp*r**2 + 24*p_pair**2*qp**4*r**2 - 12*p_pair**2*qp**4*r + p_pair**2*qp**4 - 12*p_pair**2*qp**3*r**2 - 2*p_pair**2*qp**3 + p_pair**2*qp**2*r**2 + p_pair**2*qp**2 - 2*p_pair**2*qp*r**2 + p_pair**2*r**2 - 12*p_pair*qp**4*r + 6*p_pair*qp**4 - 12*p_pair*qp**3*r**2 + 12*p_pair*qp**3*r + p_pair*qp**3 + 6*p_pair*qp**2*r**2 + p_pair*qp**2*r - 2*p_pair*qp**2 - 2*p_pair*qp*r + p_pair*qp + p_pair*r + 8*qp**4*r**2 - 8*qp**4*r + 2*qp**4 - 24*qp**3*r**2 + 16*qp**3*r - 2*qp**3 + 26*qp**2*r**2 - 6*qp**2*r - 2*qp**2 - 12*qp*r**2 - 4*qp*r + 2*qp + 2*r**2 + 2*r) + (ppc)*(8*p_pair**4*q**2*r**2*vp**2 - 8*p_pair**4*q**2*r**2*vp + 4*p_pair**4*q**2*r**2 - 8*p_pair**3*q**2*r*vp**2 + 8*p_pair**3*q**2*r*vp - 4*p_pair**3*q**2*r - 8*p_pair**3*q*r**2*vp**2 + 8*p_pair**3*q*r**2*vp - 4*p_pair**3*q*r**2 + 2*p_pair**2*q**2*vp**2 - 2*p_pair**2*q**2*vp + p_pair**2*q**2 + 4*p_pair**2*q*r*vp**2 - 4*p_pair**2*q*r*vp + 2*p_pair**2*r**2*vp**2 - 2*p_pair**2*r**2*vp + p_pair**2*r**2 + p_pair*q + p_pair*r + 16*q**2*r**2*vp**2 - 16*q**2*r**2*vp + 8*q**2*r**2 - 16*q**2*r*vp**2 + 16*q**2*r*vp - 8*q**2*r + 4*q**2*vp**2 - 4*q**2*vp + 2*q**2 - 16*q*r**2*vp**2 + 16*q*r**2*vp - 8*q*r**2 + 8*q*r*vp**2 - 8*q*r*vp + 2*q + 4*r**2*vp**2 - 4*r**2*vp + 2*r**2 + 2*r))/16]],\n",
    " [9,\n",
    "  [t*(-(pdm)*rp*(-2*q*rp + q + rp)*(-6*q*rp**2 + q*rp + q + 3*rp**2 - 3) + (pmp)*qp*(-2*qp*r + qp + r)*(6*qp**2*r - 3*qp**2 - 5*qp*r + r + 3))/2,\n",
    "   t*((pdm)*rp*(-24*p_pair**2*q**2*rp**3 + 4*p_pair**2*q**2*rp**2 + 4*p_pair**2*q**2*rp + 12*p_pair**2*q*rp**3 + 2*p_pair**2*q*rp**2 - 6*p_pair**2*q*rp + 12*p_pair*q**2*rp**2 - 2*p_pair*q**2*rp - 2*p_pair*q**2 + 12*p_pair*q*rp**3 - 8*p_pair*q*rp**2 - 3*p_pair*q*rp + 3*p_pair*q - 6*p_pair*rp**3 - p_pair*rp**2 + 3*p_pair*rp - 2*q*rp**2 - 5*q*rp + 3*q + rp**2 + 3*rp) - 2*(pmp)*qp*(p_pair**4*qp**3*r**2 - p_pair**4*qp**2*r**2 - p_pair**3*qp**3*r - p_pair**3*qp**2*r**2 + p_pair**3*qp**2*r + p_pair**3*qp*r**2 + 8*p_pair**2*qp**3*r**2 - 4*p_pair**2*qp**3*r - 4*p_pair**2*qp**2*r**2 + p_pair**2*qp**2*r + p_pair**2*qp*r - 4*p_pair*qp**3*r + 2*p_pair*qp**3 - 4*p_pair*qp**2*r**2 + 4*p_pair*qp**2*r + 2*p_pair*qp*r**2 - p_pair*qp - p_pair*r + 4*qp**3*r**2 - 4*qp**3*r + qp**3 - 8*qp**2*r**2 + 4*qp**2*r + 5*qp*r**2 + 3*qp*r - 2*qp - r**2 - 2*r))/8,\n",
    "   t*((pdm)*p_pair*rp*(-2*p_pair*q*rp + q + rp)*(6*p_pair**2*q*rp**2 + 2*p_pair**2*q*rp - 3*p_pair*q*rp - p_pair*q - 3*p_pair*rp**2 - p_pair*rp + rp + 3) - (pmp)*qp*(12*p_pair**4*qp**3*r**2 - 4*p_pair**4*qp**2*r**2 - 12*p_pair**3*qp**3*r - 12*p_pair**3*qp**2*r**2 + 4*p_pair**3*qp**2*r + 4*p_pair**3*qp*r**2 + 2*p_pair**2*qp**3 + 8*p_pair**2*qp**2*r + 2*p_pair**2*qp*r**2 - 2*p_pair*qp - 2*p_pair*r + 4*qp**3*r**2 - 4*qp**3*r + qp**3 - 8*qp**2*r**2 + 4*qp**2*r + 5*qp*r**2 + qp*r - qp - r**2 - r))/12,\n",
    "   t*(3*(pdm)*rp*(-24*p_pair**2*q**2*rp**3 + 4*p_pair**2*q**2*rp**2 + 4*p_pair**2*q**2*rp + 12*p_pair**2*q*rp**3 + 2*p_pair**2*q*rp**2 - 6*p_pair**2*q*rp + 12*p_pair*q**2*rp**2 - 2*p_pair*q**2*rp - 2*p_pair*q**2 + 12*p_pair*q*rp**3 - 8*p_pair*q*rp**2 - 3*p_pair*q*rp + 3*p_pair*q - 6*p_pair*rp**3 - p_pair*rp**2 + 3*p_pair*rp - 2*q*rp**2 - 5*q*rp + 3*q + rp**2 + 3*rp) - 2*(pmp)*qp*(4*p_pair**4*qp**3*r**2 - 4*p_pair**4*qp**2*r**2 - 4*p_pair**3*qp**3*r - 4*p_pair**3*qp**2*r**2 + 4*p_pair**3*qp**2*r + 4*p_pair**3*qp*r**2 + 24*p_pair**2*qp**3*r**2 - 12*p_pair**2*qp**3*r + p_pair**2*qp**3 - 12*p_pair**2*qp**2*r**2 - p_pair**2*qp**2 + p_pair**2*qp*r**2 + 6*p_pair**2*qp*r - p_pair**2*r**2 - 12*p_pair*qp**3*r + 6*p_pair*qp**3 - 12*p_pair*qp**2*r**2 + 12*p_pair*qp**2*r + p_pair*qp**2 + 6*p_pair*qp*r**2 + p_pair*qp*r - 4*p_pair*qp - 4*p_pair*r + 8*qp**3*r**2 - 8*qp**3*r + 2*qp**3 - 16*qp**2*r**2 + 8*qp**2*r + 10*qp*r**2 + 8*qp*r - 5*qp - 2*r**2 - 5*r))/16]],\n",
    " [10,\n",
    "  [(pdm)*t*(12*q**2*rp**4 - 24*q**2*rp**3 + 23*q**2*rp**2 - 11*q**2*rp + 2*q**2 - 12*q*rp**4 + 22*q*rp**3 - 16*q*rp**2 + 4*q*rp + 3*rp**4 - 5*rp**3 + 3*rp**2)/2 + (pmp)*t*(12*qp**4*r**2 - 12*qp**4*r + 3*qp**4 - 20*qp**3*r**2 + 20*qp**3*r - 5*qp**3 + 15*qp**2*r**2 - 11*qp**2*r + 3*qp**2 - 6*qp*r**2 + 2*qp*r + r**2)/2 + (ppc)*t*(-2*q*r + q + r)**2/2 + (-2*q*r + q + r)**2*(-(pdm)*t - (pmp)*t - (ppc)*t + 1),\n",
    "   (pdm)*t*(12*p_pair**2*q**2*rp**4 - 18*p_pair**2*q**2*rp**3 + 14*p_pair**2*q**2*rp**2 - 4*p_pair**2*q**2*rp - 6*p_pair**2*q*rp**4 + 8*p_pair**2*q*rp**3 - 4*p_pair**2*q*rp**2 - 6*p_pair*q**2*rp**3 + 9*p_pair*q**2*rp**2 - 7*p_pair*q**2*rp + 2*p_pair*q**2 - 6*p_pair*q*rp**4 + 12*p_pair*q*rp**3 - 11*p_pair*q*rp**2 + 4*p_pair*q*rp + 3*p_pair*rp**4 - 4*p_pair*rp**3 + 2*p_pair*rp**2 + 2*q*rp**3 - q*rp**2 - rp**3 + rp**2)/4 + (pmp)*t*(p_pair**4*qp**4*r**2 - p_pair**3*qp**4*r - p_pair**3*qp**3*r**2 + 8*p_pair**2*qp**4*r**2 - 4*p_pair**2*qp**4*r - 12*p_pair**2*qp**3*r**2 + 7*p_pair**2*qp**3*r + 8*p_pair**2*qp**2*r**2 - 2*p_pair**2*qp**2*r - 2*p_pair**2*qp*r**2 - 4*p_pair*qp**4*r + 2*p_pair*qp**4 - 4*p_pair*qp**3*r**2 + 8*p_pair*qp**3*r - 3*p_pair*qp**3 + 6*p_pair*qp**2*r**2 - 7*p_pair*qp**2*r + p_pair*qp**2 - 4*p_pair*qp*r**2 + 2*p_pair*qp*r + p_pair*r**2 + 4*qp**4*r**2 - 4*qp**4*r + qp**4 - 4*qp**3*r**2 + 6*qp**3*r - 2*qp**3 + qp**2*r**2 - 2*qp**2*r + 2*qp**2)/4 + (ppc)*p_pair*t*(-2*q*r + q + r)*(-2*p_pair*q*r + q + r)/4 - p_pair*(-2*q*r + q + r)*(-2*p_pair*q*r + q + r)*((pdm)*t + (pmp)*t + (ppc)*t - 1)/2,\n",
    "   (pdm)*t*(12*p_pair**4*q**2*rp**4 - 12*p_pair**4*q**2*rp**3 + 8*p_pair**4*q**2*rp**2 - 12*p_pair**3*q**2*rp**3 + 12*p_pair**3*q**2*rp**2 - 8*p_pair**3*q**2*rp - 12*p_pair**3*q*rp**4 + 12*p_pair**3*q*rp**3 - 8*p_pair**3*q*rp**2 + 3*p_pair**2*q**2*rp**2 - 3*p_pair**2*q**2*rp + 2*p_pair**2*q**2 + 10*p_pair**2*q*rp**3 - 6*p_pair**2*q*rp**2 + 4*p_pair**2*q*rp + 3*p_pair**2*rp**4 - 3*p_pair**2*rp**3 + 2*p_pair**2*rp**2 - 2*p_pair*q*rp**2 - 2*p_pair*rp**3 + rp**2)/12 + (pmp)*t*(12*p_pair**4*qp**4*r**2 - 8*p_pair**4*qp**3*r**2 + 4*p_pair**4*qp**2*r**2 - 12*p_pair**3*qp**4*r - 12*p_pair**3*qp**3*r**2 + 8*p_pair**3*qp**3*r + 8*p_pair**3*qp**2*r**2 - 4*p_pair**3*qp**2*r - 4*p_pair**3*qp*r**2 + 2*p_pair**2*qp**4 + 12*p_pair**2*qp**3*r - 2*p_pair**2*qp**3 + 2*p_pair**2*qp**2*r**2 - 4*p_pair**2*qp**2*r + p_pair**2*qp**2 - 2*p_pair**2*qp*r**2 + 2*p_pair**2*qp*r + p_pair**2*r**2 - 2*p_pair*qp**3 - 2*p_pair*qp**2*r + 4*qp**4*r**2 - 4*qp**4*r + qp**4 - 4*qp**3*r**2 + 4*qp**3*r - qp**3 + qp**2*r**2 - qp**2*r + 2*qp**2)/12 + (ppc)*p_pair**2*t*(-2*p_pair*q*r + q + r)**2/12 + p_pair**2*(-2*p_pair*q*r + q + r)**2*(-(pdm)*t - (pmp)*t - (ppc)*t + 1)/6,\n",
    "   3*(pdm)*t*(12*p_pair**2*q**2*rp**4 - 18*p_pair**2*q**2*rp**3 + 14*p_pair**2*q**2*rp**2 - 4*p_pair**2*q**2*rp - 6*p_pair**2*q*rp**4 + 8*p_pair**2*q*rp**3 - 4*p_pair**2*q*rp**2 - 6*p_pair*q**2*rp**3 + 9*p_pair*q**2*rp**2 - 7*p_pair*q**2*rp + 2*p_pair*q**2 - 6*p_pair*q*rp**4 + 12*p_pair*q*rp**3 - 11*p_pair*q*rp**2 + 4*p_pair*q*rp + 3*p_pair*rp**4 - 4*p_pair*rp**3 + 2*p_pair*rp**2 + 2*q*rp**3 - q*rp**2 - rp**3 + rp**2)/8 + (pmp)*t*(4*p_pair**4*qp**4*r**2 - 4*p_pair**3*qp**4*r - 4*p_pair**3*qp**3*r**2 + 24*p_pair**2*qp**4*r**2 - 12*p_pair**2*qp**4*r + p_pair**2*qp**4 - 36*p_pair**2*qp**3*r**2 + 22*p_pair**2*qp**3*r + 25*p_pair**2*qp**2*r**2 - 6*p_pair**2*qp**2*r - 6*p_pair**2*qp*r**2 - 12*p_pair*qp**4*r + 6*p_pair*qp**4 - 12*p_pair*qp**3*r**2 + 24*p_pair*qp**3*r - 10*p_pair*qp**3 + 18*p_pair*qp**2*r**2 - 22*p_pair*qp**2*r + 3*p_pair*qp**2 - 12*p_pair*qp*r**2 + 6*p_pair*qp*r + 3*p_pair*r**2 + 8*qp**4*r**2 - 8*qp**4*r + 2*qp**4 - 8*qp**3*r**2 + 14*qp**3*r - 5*qp**3 + 2*qp**2*r**2 - 5*qp**2*r + 6*qp**2)/8 + 3*(ppc)*p_pair*t*(-2*q*r + q + r)*(-2*p_pair*q*r + q + r)/8 - 3*p_pair*(-2*q*r + q + r)*(-2*p_pair*q*r + q + r)*((pdm)*t + (pmp)*t + (ppc)*t - 1)/4]],\n",
    " [11,\n",
    "  [0,\n",
    "   (ppc)*p_pair*q*t*vp*(vp - 1)*(p_pair*q - 1)*(2*p_pair**2*r**2 - 2*p_pair*r + 1)/4,\n",
    "   (ppc)*p_pair*q*t*vp*(vp - 1)*(p_pair*q - 1)*(2*p_pair**2*r**2 - 2*p_pair*r + 1)/3,\n",
    "   -(ppc)*p_pair*t*vp*(vp - 1)*(-2*p_pair*q*r + q + r)*(2*p_pair**2*q*r - p_pair*q - p_pair*r + 1)/8]],\n",
    " [12,\n",
    "  [0,\n",
    "   t*(-(pdm)*rp*(rp - 1)*(2*q*rp - q - rp + 1) + (pmp)*p_pair*r*(qp - 1)*(p_pair*r - 1)*(2*p_pair**2*qp**2 - 2*p_pair*qp + 1) - (ppc)*p_pair*r*(p_pair*r - 1)*(2*vp**2 - 2*vp + 1)*(2*p_pair**2*q**2 - 2*p_pair*q + 1))/8,\n",
    "   t*((pdm)*rp*(rp - 1)*(-2*p_pair**2*q*rp + p_pair*q + p_pair*rp - 2*q*rp + q + rp - 2) + 2*(pmp)*p_pair*r*(qp - 1)*(p_pair*r - 1)*(2*p_pair**2*qp**2 - 2*p_pair*qp + 1) - 2*(ppc)*p_pair*r*(p_pair*r - 1)*(2*vp**2 - 2*vp + 1)*(2*p_pair**2*q**2 - 2*p_pair*q + 1))/12,\n",
    "   t*(-(pdm)*rp*(rp - 1)*(2*q*rp - q - rp + 1) - (pmp)*p_pair*(qp - 1)*(-2*p_pair*qp*r + qp + r)*(2*p_pair**2*qp*r - p_pair*qp - p_pair*r + 1) + (ppc)*p_pair*(2*vp**2 - 2*vp + 1)*(-2*p_pair*q*r + q + r)*(2*p_pair**2*q*r - p_pair*q - p_pair*r + 1))/16]],\n",
    " [13,\n",
    "  [0,\n",
    "   -(pdm)*t*(rp - 1)*(2*q*rp - q - rp + 1)*(6*p_pair**2*q*rp**2 - 8*p_pair**2*q*rp - 3*p_pair*q*rp + 4*p_pair*q - 3*p_pair*rp**2 + 4*p_pair*rp + 2*rp)/8 - (pmp)*t*(qp - 1)*(2*p_pair**4*qp**3*r**2 - 2*p_pair**3*qp**3*r - 2*p_pair**3*qp**2*r**2 + 8*p_pair**2*qp**3*r**2 - 4*p_pair**2*qp**3*r + p_pair**2*qp**3 - 12*p_pair**2*qp**2*r**2 + 14*p_pair**2*qp**2*r + 5*p_pair**2*qp*r**2 - 4*p_pair**2*qp*r - 4*p_pair*qp**3*r + 2*p_pair*qp**3 - 4*p_pair*qp**2*r**2 + 8*p_pair*qp**2*r - 7*p_pair*qp**2 + 6*p_pair*qp*r**2 - 9*p_pair*qp*r + 2*p_pair*qp - 2*p_pair*r**2 + 2*p_pair*r + 4*qp**2*r - 2*qp**2 - 2*qp*r + 4*qp)/8 + (ppc)*p_pair*t*(-2*p_pair*q*r + q + r)*(2*q*r - q - r + 1)/4 - p_pair*(-2*p_pair*q*r + q + r)*((pdm)*t + (pmp)*t + (ppc)*t - 1)*(2*q*r - q - r + 1)/2,\n",
    "   -(pdm)*t*(rp - 1)*(12*p_pair**4*q**2*rp**3 - 16*p_pair**4*q**2*rp**2 - 12*p_pair**3*q**2*rp**2 + 16*p_pair**3*q**2*rp - 12*p_pair**3*q*rp**3 + 16*p_pair**3*q*rp**2 + 3*p_pair**2*q**2*rp - 4*p_pair**2*q**2 + 16*p_pair**2*q*rp**2 - 16*p_pair**2*q*rp + 3*p_pair**2*rp**3 - 4*p_pair**2*rp**2 - 5*p_pair*q*rp + 4*p_pair*q - 5*p_pair*rp**2 + 4*p_pair*rp + 12*q**2*rp**3 - 28*q**2*rp**2 + 19*q**2*rp - 4*q**2 - 12*q*rp**3 + 32*q*rp**2 - 21*q*rp + 4*q + 3*rp**3 - 9*rp**2 + 8*rp)/12 - (pmp)*t*(qp - 1)*(6*p_pair**4*qp**3*r**2 - 4*p_pair**4*qp**2*r**2 - 6*p_pair**3*qp**3*r - 6*p_pair**3*qp**2*r**2 + 4*p_pair**3*qp**2*r + 4*p_pair**3*qp*r**2 + 2*p_pair**2*qp**3 + 12*p_pair**2*qp**2*r - p_pair**2*qp**2 + 2*p_pair**2*qp*r**2 - 4*p_pair**2*qp*r - p_pair**2*r**2 - 5*p_pair*qp**2 - 5*p_pair*qp*r + p_pair*qp + p_pair*r + 4*qp**3*r**2 - 4*qp**3*r + qp**3 - 8*qp**2*r**2 + 10*qp**2*r - 3*qp**2 + 5*qp*r**2 - 6*qp*r + 5*qp - r**2 + r)/6 - (ppc)*t*(4*p_pair**4*q**2*r**2 - 4*p_pair**3*q**2*r - 4*p_pair**3*q*r**2 + p_pair**2*q**2 + 4*p_pair**2*q*r + p_pair**2*r**2 - p_pair*q - p_pair*r + 4*q**2*r**2 - 4*q**2*r + q**2 - 4*q*r**2 + 4*q*r - q + r**2 - r)/6 + ((pdm)*t + (pmp)*t + (ppc)*t - 1)*(4*p_pair**4*q**2*r**2 - 4*p_pair**3*q**2*r - 4*p_pair**3*q*r**2 + p_pair**2*q**2 + 4*p_pair**2*q*r + p_pair**2*r**2 - p_pair*q - p_pair*r + 4*q**2*r**2 - 4*q**2*r + q**2 - 4*q*r**2 + 4*q*r - q + r**2 - r)/3,\n",
    "   -(pdm)*t*(rp - 1)*(2*q*rp - q - rp + 1)*(6*p_pair**2*q*rp**2 - 8*p_pair**2*q*rp - 3*p_pair*q*rp + 4*p_pair*q - 3*p_pair*rp**2 + 4*p_pair*rp + 2*rp)/16 - (pmp)*t*(qp - 1)*(4*p_pair**4*qp**3*r**2 - 4*p_pair**3*qp**3*r - 4*p_pair**3*qp**2*r**2 + 8*p_pair**2*qp**3*r**2 - 4*p_pair**2*qp**3*r + p_pair**2*qp**3 - 12*p_pair**2*qp**2*r**2 + 16*p_pair**2*qp**2*r + 5*p_pair**2*qp*r**2 - 4*p_pair**2*qp*r - 4*p_pair*qp**3*r + 2*p_pair*qp**3 - 4*p_pair*qp**2*r**2 + 8*p_pair*qp**2*r - 7*p_pair*qp**2 + 6*p_pair*qp*r**2 - 9*p_pair*qp*r + 2*p_pair*qp - 2*p_pair*r**2 + 2*p_pair*r + 4*qp**2*r - 2*qp**2 - 2*qp*r + 4*qp)/16 + (ppc)*p_pair*t*(-2*p_pair*q*r + q + r)*(2*q*r - q - r + 1)/8 - p_pair*(-2*p_pair*q*r + q + r)*((pdm)*t + (pmp)*t + (ppc)*t - 1)*(2*q*r - q - r + 1)/4]],\n",
    " [14,\n",
    "  [0,\n",
    "   t*((pdm)*rp*(-12*p_pair**2*q**2*rp**3 + 2*p_pair**2*q**2*rp**2 + 2*p_pair**2*q**2*rp + 6*p_pair**2*q*rp**3 + 2*p_pair**2*q*rp**2 - 4*p_pair**2*q*rp + 6*p_pair*q**2*rp**2 - p_pair*q**2*rp - p_pair*q**2 + 6*p_pair*q*rp**3 - 4*p_pair*q*rp**2 - 2*p_pair*q*rp + 2*p_pair*q - 3*p_pair*rp**3 - p_pair*rp**2 + 2*p_pair*rp - 2*q*rp**2 - q*rp + q + rp**2 + rp) + (pmp)*qp*(-2*p_pair**4*qp**3*r**2 + 2*p_pair**4*qp**2*r**2 + 2*p_pair**3*qp**3*r + 2*p_pair**3*qp**2*r**2 - 2*p_pair**3*qp**2*r - 2*p_pair**3*qp*r**2 - 8*p_pair**2*qp**3*r**2 + 4*p_pair**2*qp**3*r - p_pair**2*qp**3 + 4*p_pair**2*qp**2*r**2 + 2*p_pair**2*qp**2*r + p_pair**2*qp**2 - p_pair**2*qp*r**2 - 2*p_pair**2*qp*r + p_pair**2*r**2 + 4*p_pair*qp**3*r - 2*p_pair*qp**3 + 4*p_pair*qp**2*r**2 - 4*p_pair*qp**2*r - p_pair*qp**2 - 2*p_pair*qp*r**2 - p_pair*qp*r + p_pair*qp + p_pair*r - 4*qp*r + 2*qp + 2*r))/8,\n",
    "   -t*((pdm)*rp*(12*p_pair**4*q**2*rp**3 + 4*p_pair**4*q**2*rp**2 - 12*p_pair**3*q**2*rp**2 - 4*p_pair**3*q**2*rp - 12*p_pair**3*q*rp**3 - 4*p_pair**3*q*rp**2 + 3*p_pair**2*q**2*rp + p_pair**2*q**2 + 8*p_pair**2*q*rp**2 + 8*p_pair**2*q*rp + 3*p_pair**2*rp**3 + p_pair**2*rp**2 - p_pair*q*rp - 3*p_pair*q - p_pair*rp**2 - 3*p_pair*rp + 12*q**2*rp**3 - 8*q**2*rp**2 - q**2*rp + q**2 - 12*q*rp**3 + 4*q*rp**2 + 7*q*rp - 3*q + 3*rp**3 - 3*rp) + 2*(pmp)*qp*(6*p_pair**4*qp**3*r**2 - 2*p_pair**4*qp**2*r**2 - 6*p_pair**3*qp**3*r - 6*p_pair**3*qp**2*r**2 + 2*p_pair**3*qp**2*r + 2*p_pair**3*qp*r**2 + 2*p_pair**2*qp**3 - p_pair**2*qp**2 + 2*p_pair**2*qp*r**2 + 4*p_pair**2*qp*r - p_pair**2*r**2 + p_pair*qp**2 + p_pair*qp*r - 2*p_pair*qp - 2*p_pair*r + 4*qp**3*r**2 - 4*qp**3*r + qp**3 - 4*qp**2*r**2 + 2*qp**2*r + qp*r**2 + 2*qp*r - qp - r))/12,\n",
    "   t*((pdm)*rp*(-12*p_pair**2*q**2*rp**3 + 2*p_pair**2*q**2*rp**2 + 2*p_pair**2*q**2*rp + 6*p_pair**2*q*rp**3 + 2*p_pair**2*q*rp**2 - 4*p_pair**2*q*rp + 6*p_pair*q**2*rp**2 - p_pair*q**2*rp - p_pair*q**2 + 6*p_pair*q*rp**3 - 4*p_pair*q*rp**2 - 2*p_pair*q*rp + 2*p_pair*q - 3*p_pair*rp**3 - p_pair*rp**2 + 2*p_pair*rp - 2*q*rp**2 - q*rp + q + rp**2 + rp) + (pmp)*qp*(-4*p_pair**4*qp**3*r**2 + 4*p_pair**4*qp**2*r**2 + 4*p_pair**3*qp**3*r + 4*p_pair**3*qp**2*r**2 - 4*p_pair**3*qp**2*r - 4*p_pair**3*qp*r**2 - 8*p_pair**2*qp**3*r**2 + 4*p_pair**2*qp**3*r - p_pair**2*qp**3 + 4*p_pair**2*qp**2*r**2 + p_pair**2*qp**2 - p_pair**2*qp*r**2 + p_pair**2*r**2 + 4*p_pair*qp**3*r - 2*p_pair*qp**3 + 4*p_pair*qp**2*r**2 - 4*p_pair*qp**2*r - p_pair*qp**2 - 2*p_pair*qp*r**2 - p_pair*qp*r + p_pair*qp + p_pair*r - 4*qp*r + 2*qp + 2*r))/16]],\n",
    " [15,\n",
    "  [0,\n",
    "   -(ppc)*p_pair**2*q*r*t*vp*(vp - 1)*(p_pair*q - 1)*(p_pair*r - 1)/2,\n",
    "   -2*(ppc)*p_pair**2*q*r*t*vp*(vp - 1)*(p_pair*q - 1)*(p_pair*r - 1)/3,\n",
    "   -(ppc)*t*vp*(vp - 1)*(2*p_pair**2*q*r - p_pair*q - p_pair*r + 1)**2/8]],\n",
    " [16,\n",
    "  [0,\n",
    "   -(ppc)*p_pair**2*q*r*t*vp*(vp - 1)*(p_pair*q - 1)*(p_pair*r - 1)/2,\n",
    "   -2*(ppc)*p_pair**2*q*r*t*vp*(vp - 1)*(p_pair*q - 1)*(p_pair*r - 1)/3,\n",
    "   -(ppc)*p_pair**2*t*vp*(vp - 1)*(-2*p_pair*q*r + q + r)**2/8]],\n",
    " [17,\n",
    "  [0,\n",
    "   (ppc)*p_pair*q*t*vp*(vp - 1)*(p_pair*q - 1)*(2*p_pair**2*r**2 - 2*p_pair*r + 1)/4,\n",
    "   (ppc)*p_pair*q*t*vp*(vp - 1)*(p_pair*q - 1)*(2*p_pair**2*r**2 - 2*p_pair*r + 1)/3,\n",
    "   -(ppc)*p_pair*t*vp*(vp - 1)*(-2*p_pair*q*r + q + r)*(2*p_pair**2*q*r - p_pair*q - p_pair*r + 1)/8]],\n",
    " [18, [0, 0, 0, 0]],\n",
    " [19,\n",
    "  [0,\n",
    "   t*(-(pdm)*rp*(rp - 1)*(2*p_pair**2*q*rp - p_pair*q - p_pair*rp + 1) + (pmp)*p_pair*r*(qp - 1)*(p_pair*r - 1)*(2*p_pair**2*qp**2 - 2*p_pair*qp + 1) - (ppc)*p_pair*r*(p_pair*r - 1)*(2*vp**2 - 2*vp + 1)*(2*p_pair**2*q**2 - 2*p_pair*q + 1))/8,\n",
    "   t*((pdm)*rp*(rp - 1)*(-2*p_pair**2*q*rp + p_pair*q + p_pair*rp - 2*q*rp + q + rp - 2) + 2*(pmp)*p_pair*r*(qp - 1)*(p_pair*r - 1)*(2*p_pair**2*qp**2 - 2*p_pair*qp + 1) - 2*(ppc)*p_pair*r*(p_pair*r - 1)*(2*vp**2 - 2*vp + 1)*(2*p_pair**2*q**2 - 2*p_pair*q + 1))/12,\n",
    "   t*(-(pdm)*rp*(rp - 1)*(2*p_pair**2*q*rp - p_pair*q - p_pair*rp + 1) - (pmp)*p_pair*(qp - 1)*(-2*p_pair*qp*r + qp + r)*(2*p_pair**2*qp*r - p_pair*qp - p_pair*r + 1) + (ppc)*p_pair*(2*vp**2 - 2*vp + 1)*(-2*p_pair*q*r + q + r)*(2*p_pair**2*q*r - p_pair*q - p_pair*r + 1))/16]],\n",
    " [20,\n",
    "  [0,\n",
    "   -t*((pdm)*rp*(rp - 1)*(-2*p_pair**2*q*rp + p_pair*q + p_pair*rp - 2*q*rp + q + rp) + 2*(pmp)*p_pair*qp*r*(p_pair*r - 1)*(2*p_pair**2*qp**2 - 2*p_pair*qp + 1))/8,\n",
    "   -t*((pdm)*rp*(rp - 1)*(-2*p_pair**2*q*rp + p_pair*q + p_pair*rp - 2*q*rp + q + rp) + 2*(pmp)*p_pair*qp*r*(p_pair*r - 1)*(2*p_pair**2*qp**2 - 2*p_pair*qp + 1))/6,\n",
    "   t*(-(pdm)*rp*(rp - 1)*(-2*p_pair**2*q*rp + p_pair*q + p_pair*rp - 2*q*rp + q + rp) + 2*(pmp)*p_pair*qp*(-2*p_pair*qp*r + qp + r)*(2*p_pair**2*qp*r - p_pair*qp - p_pair*r + 1))/16]],\n",
    " [21,\n",
    "  [0,\n",
    "   (pdm)*t*(rp - 1)*(3*rp - 4)*(2*q*rp - q - rp + 1)*(2*p_pair**2*q*rp - p_pair*q - p_pair*rp + 1)/8 + (pmp)*t*(qp - 1)**2*(2*p_pair**4*qp**2*r**2 - 2*p_pair**3*qp**2*r - 2*p_pair**3*qp*r**2 + 8*p_pair**2*qp**2*r**2 - 4*p_pair**2*qp**2*r + p_pair**2*qp**2 - 4*p_pair**2*qp*r**2 + 10*p_pair**2*qp*r + p_pair**2*r**2 - 4*p_pair*qp**2*r + 2*p_pair*qp**2 - 4*p_pair*qp*r**2 + 4*p_pair*qp*r - 5*p_pair*qp + 2*p_pair*r**2 - 5*p_pair*r + 4*qp*r - 2*qp - 2*r + 4)/8 + (ppc)*t*(4*p_pair**4*q**2*r**2*vp**2 - 4*p_pair**4*q**2*r**2*vp + 2*p_pair**4*q**2*r**2 - 4*p_pair**3*q**2*r*vp**2 + 4*p_pair**3*q**2*r*vp - 2*p_pair**3*q**2*r - 4*p_pair**3*q*r**2*vp**2 + 4*p_pair**3*q*r**2*vp - 2*p_pair**3*q*r**2 + 8*p_pair**2*q**2*r**2 - 4*p_pair**2*q**2*r + 2*p_pair**2*q**2*vp**2 - 2*p_pair**2*q**2*vp + p_pair**2*q**2 - 4*p_pair**2*q*r**2 + 8*p_pair**2*q*r*vp**2 - 8*p_pair**2*q*r*vp + 10*p_pair**2*q*r + 2*p_pair**2*r**2*vp**2 - 2*p_pair**2*r**2*vp + p_pair**2*r**2 - 4*p_pair*q**2*r + 2*p_pair*q**2 - 4*p_pair*q*r**2 + 4*p_pair*q*r - 4*p_pair*q*vp**2 + 4*p_pair*q*vp - 5*p_pair*q + 2*p_pair*r**2 - 4*p_pair*r*vp**2 + 4*p_pair*r*vp - 5*p_pair*r + 4*q*r - 2*q - 2*r + 2*vp**2 - 2*vp + 4)/8 - ((pdm)*t + (pmp)*t + (ppc)*t - 1)*(2*q*r - q - r + 1)*(2*p_pair**2*q*r - p_pair*q - p_pair*r + 1)/2,\n",
    "   (pdm)*t*(rp - 1)*(3*rp - 4)*(4*p_pair**4*q**2*rp**2 - 4*p_pair**3*q**2*rp - 4*p_pair**3*q*rp**2 + p_pair**2*q**2 + 6*p_pair**2*q*rp + p_pair**2*rp**2 - 2*p_pair*q - 2*p_pair*rp + 4*q**2*rp**2 - 4*q**2*rp + q**2 - 4*q*rp**2 + 6*q*rp - 2*q + rp**2 - 2*rp + 2)/12 + (pmp)*t*(qp - 1)**2*(6*p_pair**4*qp**2*r**2 - 6*p_pair**3*qp**2*r - 6*p_pair**3*qp*r**2 + 2*p_pair**2*qp**2 + 12*p_pair**2*qp*r + 2*p_pair**2*r**2 - 5*p_pair*qp - 5*p_pair*r + 4*qp**2*r**2 - 4*qp**2*r + qp**2 - 4*qp*r**2 + 6*qp*r - 2*qp + r**2 - 2*r + 4)/6 + (ppc)*t*(4*p_pair**4*q**2*r**2*vp**2 - 4*p_pair**4*q**2*r**2*vp + 6*p_pair**4*q**2*r**2 - 4*p_pair**3*q**2*r*vp**2 + 4*p_pair**3*q**2*r*vp - 6*p_pair**3*q**2*r - 4*p_pair**3*q*r**2*vp**2 + 4*p_pair**3*q*r**2*vp - 6*p_pair**3*q*r**2 + 2*p_pair**2*q**2*vp**2 - 2*p_pair**2*q**2*vp + 2*p_pair**2*q**2 + 8*p_pair**2*q*r*vp**2 - 8*p_pair**2*q*r*vp + 12*p_pair**2*q*r + 2*p_pair**2*r**2*vp**2 - 2*p_pair**2*r**2*vp + 2*p_pair**2*r**2 - 4*p_pair*q*vp**2 + 4*p_pair*q*vp - 5*p_pair*q - 4*p_pair*r*vp**2 + 4*p_pair*r*vp - 5*p_pair*r + 4*q**2*r**2 - 4*q**2*r + q**2 - 4*q*r**2 + 6*q*r - 2*q + r**2 - 2*r + 2*vp**2 - 2*vp + 4)/6 - ((pdm)*t + (pmp)*t + (ppc)*t - 1)*(4*p_pair**4*q**2*r**2 - 4*p_pair**3*q**2*r - 4*p_pair**3*q*r**2 + p_pair**2*q**2 + 6*p_pair**2*q*r + p_pair**2*r**2 - 2*p_pair*q - 2*p_pair*r + 4*q**2*r**2 - 4*q**2*r + q**2 - 4*q*r**2 + 6*q*r - 2*q + r**2 - 2*r + 2)/3,\n",
    "   (pdm)*t*(rp - 1)*(3*rp - 4)*(2*q*rp - q - rp + 1)*(2*p_pair**2*q*rp - p_pair*q - p_pair*rp + 1)/16 - (pmp)*t*(qp - 1)**2*(2*p_pair**2*qp*r - p_pair*qp - p_pair*r + 1)*(-2*p_pair**2*qp*r + p_pair*qp + p_pair*r - 4*qp*r + 2*qp + 2*r - 4)/16 - (ppc)*t*(2*p_pair**2*q*r - p_pair*q - p_pair*r + 1)*(-4*p_pair**2*q*r*vp**2 + 4*p_pair**2*q*r*vp - 2*p_pair**2*q*r + 2*p_pair*q*vp**2 - 2*p_pair*q*vp + p_pair*q + 2*p_pair*r*vp**2 - 2*p_pair*r*vp + p_pair*r - 4*q*r + 2*q + 2*r - 2*vp**2 + 2*vp - 4)/16 - ((pdm)*t + (pmp)*t + (ppc)*t - 1)*(2*q*r - q - r + 1)*(2*p_pair**2*q*r - p_pair*q - p_pair*r + 1)/4]],\n",
    " [22,\n",
    "  [0,\n",
    "   -(pdm)*t*(rp - 1)*(2*p_pair**2*q*rp - p_pair*q - p_pair*rp + 1)*(6*q*rp**2 - 11*q*rp + 4*q - 3*rp**2 + 6*rp)/8 - (pmp)*t*(qp - 1)*(2*p_pair**4*qp**3*r**2 - 2*p_pair**3*qp**3*r - 2*p_pair**3*qp**2*r**2 + 8*p_pair**2*qp**3*r**2 - 4*p_pair**2*qp**3*r + p_pair**2*qp**3 - 12*p_pair**2*qp**2*r**2 + 14*p_pair**2*qp**2*r + 5*p_pair**2*qp*r**2 - 4*p_pair*qp**3*r + 2*p_pair*qp**3 - 4*p_pair*qp**2*r**2 + 8*p_pair*qp**2*r - 7*p_pair*qp**2 + 6*p_pair*qp*r**2 - 9*p_pair*qp*r - 2*p_pair*r**2 + 4*qp**2*r - 2*qp**2 - 6*qp*r + 6*qp + 2*r)/8 + (ppc)*t*(-2*q*r + q + r)*(2*p_pair**2*q*r - p_pair*q - p_pair*r + 1)/4 - (-2*q*r + q + r)*((pdm)*t + (pmp)*t + (ppc)*t - 1)*(2*p_pair**2*q*r - p_pair*q - p_pair*r + 1)/2,\n",
    "   -(pdm)*t*(rp - 1)*(12*p_pair**4*q**2*rp**3 - 16*p_pair**4*q**2*rp**2 - 12*p_pair**3*q**2*rp**2 + 16*p_pair**3*q**2*rp - 12*p_pair**3*q*rp**3 + 16*p_pair**3*q*rp**2 + 3*p_pair**2*q**2*rp - 4*p_pair**2*q**2 + 16*p_pair**2*q*rp**2 - 16*p_pair**2*q*rp + 3*p_pair**2*rp**3 - 4*p_pair**2*rp**2 - 5*p_pair*q*rp + 4*p_pair*q - 5*p_pair*rp**2 + 4*p_pair*rp + 12*q**2*rp**3 - 28*q**2*rp**2 + 19*q**2*rp - 4*q**2 - 12*q*rp**3 + 32*q*rp**2 - 21*q*rp + 4*q + 3*rp**3 - 9*rp**2 + 8*rp)/12 - (pmp)*t*(qp - 1)*(6*p_pair**4*qp**3*r**2 - 4*p_pair**4*qp**2*r**2 - 6*p_pair**3*qp**3*r - 6*p_pair**3*qp**2*r**2 + 4*p_pair**3*qp**2*r + 4*p_pair**3*qp*r**2 + 2*p_pair**2*qp**3 + 12*p_pair**2*qp**2*r - p_pair**2*qp**2 + 2*p_pair**2*qp*r**2 - 4*p_pair**2*qp*r - p_pair**2*r**2 - 5*p_pair*qp**2 - 5*p_pair*qp*r + p_pair*qp + p_pair*r + 4*qp**3*r**2 - 4*qp**3*r + qp**3 - 8*qp**2*r**2 + 10*qp**2*r - 3*qp**2 + 5*qp*r**2 - 6*qp*r + 5*qp - r**2 + r)/6 - (ppc)*t*(4*p_pair**4*q**2*r**2 - 4*p_pair**3*q**2*r - 4*p_pair**3*q*r**2 + p_pair**2*q**2 + 4*p_pair**2*q*r + p_pair**2*r**2 - p_pair*q - p_pair*r + 4*q**2*r**2 - 4*q**2*r + q**2 - 4*q*r**2 + 4*q*r - q + r**2 - r)/6 + ((pdm)*t + (pmp)*t + (ppc)*t - 1)*(4*p_pair**4*q**2*r**2 - 4*p_pair**3*q**2*r - 4*p_pair**3*q*r**2 + p_pair**2*q**2 + 4*p_pair**2*q*r + p_pair**2*r**2 - p_pair*q - p_pair*r + 4*q**2*r**2 - 4*q**2*r + q**2 - 4*q*r**2 + 4*q*r - q + r**2 - r)/3,\n",
    "   -(pdm)*t*(rp - 1)*(2*p_pair**2*q*rp - p_pair*q - p_pair*rp + 1)*(6*q*rp**2 - 11*q*rp + 4*q - 3*rp**2 + 6*rp)/16 - (pmp)*t*(qp - 1)*(2*p_pair**2*qp*r - p_pair*qp - p_pair*r + 1)*(2*p_pair**2*qp**2*r - p_pair*qp**2 - p_pair*qp*r + 4*qp**2*r - 2*qp**2 - 6*qp*r + 6*qp + 2*r)/16 + (ppc)*t*(-2*q*r + q + r)*(2*p_pair**2*q*r - p_pair*q - p_pair*r + 1)/8 - (-2*q*r + q + r)*((pdm)*t + (pmp)*t + (ppc)*t - 1)*(2*p_pair**2*q*r - p_pair*q - p_pair*r + 1)/4]],\n",
    " [23,\n",
    "  [0,\n",
    "   t*((pdm)*rp*(12*p_pair**2*q**2*rp**3 - 2*p_pair**2*q**2*rp**2 - 2*p_pair**2*q**2*rp - 6*p_pair**2*q*rp**3 + 2*p_pair**2*q*rp - 6*p_pair*q**2*rp**2 + p_pair*q**2*rp + p_pair*q**2 - 6*p_pair*q*rp**3 + 4*p_pair*q*rp**2 + p_pair*q*rp - p_pair*q + 3*p_pair*rp**3 - p_pair*rp + 2*q*rp**2 + q*rp - q - rp**2 + 1) + (pmp)*p_pair*(2*p_pair**3*qp**4*r**2 - 4*p_pair**3*qp**3*r**2 + 2*p_pair**3*qp**2*r**2 - 2*p_pair**2*qp**4*r - 2*p_pair**2*qp**3*r**2 + 4*p_pair**2*qp**3*r + 4*p_pair**2*qp**2*r**2 - 2*p_pair**2*qp**2*r - 2*p_pair**2*qp*r**2 + 8*p_pair*qp**4*r**2 - 4*p_pair*qp**4*r + p_pair*qp**4 - 4*p_pair*qp**3*r**2 - 2*p_pair*qp**3*r - 2*p_pair*qp**3 + p_pair*qp**2*r**2 + 4*p_pair*qp**2*r + p_pair*qp**2 - 2*p_pair*qp*r**2 - 2*p_pair*qp*r + p_pair*r**2 - 4*qp**4*r + 2*qp**4 - 4*qp**3*r**2 + 4*qp**3*r + qp**3 + 2*qp**2*r**2 + qp**2*r - 2*qp**2 - 2*qp*r + qp + r) + (ppc)*p_pair*(4*p_pair**3*q**2*r**2*vp**2 - 4*p_pair**3*q**2*r**2*vp + 2*p_pair**3*q**2*r**2 - 4*p_pair**2*q**2*r*vp**2 + 4*p_pair**2*q**2*r*vp - 2*p_pair**2*q**2*r - 4*p_pair**2*q*r**2*vp**2 + 4*p_pair**2*q*r**2*vp - 2*p_pair**2*q*r**2 + 2*p_pair*q**2*vp**2 - 2*p_pair*q**2*vp + p_pair*q**2 - 2*p_pair*q*r + 2*p_pair*r**2*vp**2 - 2*p_pair*r**2*vp + p_pair*r**2 + q + r))/8,\n",
    "   t*((pdm)*rp*(12*p_pair**4*q**2*rp**3 + 4*p_pair**4*q**2*rp**2 - 12*p_pair**3*q**2*rp**2 - 4*p_pair**3*q**2*rp - 12*p_pair**3*q*rp**3 - 4*p_pair**3*q*rp**2 + 3*p_pair**2*q**2*rp + p_pair**2*q**2 + 10*p_pair**2*q*rp**2 + 6*p_pair**2*q*rp + 3*p_pair**2*rp**3 + p_pair**2*rp**2 - 2*p_pair*q*rp - 2*p_pair*q - 2*p_pair*rp**2 - 2*p_pair*rp + 12*q**2*rp**3 - 8*q**2*rp**2 - q**2*rp + q**2 - 12*q*rp**3 + 6*q*rp**2 + 4*q*rp - 2*q + 3*rp**3 - rp**2 + 2) + 2*(pmp)*(6*p_pair**4*qp**4*r**2 - 4*p_pair**4*qp**3*r**2 + 2*p_pair**4*qp**2*r**2 - 6*p_pair**3*qp**4*r - 6*p_pair**3*qp**3*r**2 + 4*p_pair**3*qp**3*r + 4*p_pair**3*qp**2*r**2 - 2*p_pair**3*qp**2*r - 2*p_pair**3*qp*r**2 + 2*p_pair**2*qp**4 - 2*p_pair**2*qp**3 + 2*p_pair**2*qp**2*r**2 + 4*p_pair**2*qp**2*r + p_pair**2*qp**2 - 2*p_pair**2*qp*r**2 - 2*p_pair**2*qp*r + p_pair**2*r**2 + p_pair*qp**3 + p_pair*qp**2*r - 2*p_pair*qp**2 - 2*p_pair*qp*r + p_pair*qp + p_pair*r + 4*qp**4*r**2 - 4*qp**4*r + qp**4 - 4*qp**3*r**2 + 2*qp**3*r + qp**2*r**2) + 2*(ppc)*p_pair*(4*p_pair**3*q**2*r**2*vp**2 - 4*p_pair**3*q**2*r**2*vp + 2*p_pair**3*q**2*r**2 - 4*p_pair**2*q**2*r*vp**2 + 4*p_pair**2*q**2*r*vp - 2*p_pair**2*q**2*r - 4*p_pair**2*q*r**2*vp**2 + 4*p_pair**2*q*r**2*vp - 2*p_pair**2*q*r**2 + 2*p_pair*q**2*vp**2 - 2*p_pair*q**2*vp + p_pair*q**2 - 2*p_pair*q*r + 2*p_pair*r**2*vp**2 - 2*p_pair*r**2*vp + p_pair*r**2 + q + r))/12,\n",
    "   t*((pdm)*rp*(12*p_pair**2*q**2*rp**3 - 2*p_pair**2*q**2*rp**2 - 2*p_pair**2*q**2*rp - 6*p_pair**2*q*rp**3 + 2*p_pair**2*q*rp - 6*p_pair*q**2*rp**2 + p_pair*q**2*rp + p_pair*q**2 - 6*p_pair*q*rp**3 + 4*p_pair*q*rp**2 + p_pair*q*rp - p_pair*q + 3*p_pair*rp**3 - p_pair*rp + 2*q*rp**2 + q*rp - q - rp**2 + 1) + (pmp)*p_pair*(-2*p_pair*qp*r + qp + r)*(-2*p_pair**2*qp**3*r + 4*p_pair**2*qp**2*r - 2*p_pair**2*qp*r + p_pair*qp**3 + p_pair*qp**2*r - 2*p_pair*qp**2 - 2*p_pair*qp*r + p_pair*qp + p_pair*r - 4*qp**3*r + 2*qp**3 + 2*qp**2*r + qp**2 - 2*qp + 1) + (ppc)*p_pair*(-2*p_pair*q*r + q + r)*(-4*p_pair**2*q*r*vp**2 + 4*p_pair**2*q*r*vp - 2*p_pair**2*q*r + 2*p_pair*q*vp**2 - 2*p_pair*q*vp + p_pair*q + 2*p_pair*r*vp**2 - 2*p_pair*r*vp + p_pair*r + 1))/16]],\n",
    " [24,\n",
    "  [0,\n",
    "   t*((pdm)*rp*(-12*p_pair**2*q**2*rp**3 + 2*p_pair**2*q**2*rp**2 + 2*p_pair**2*q**2*rp + 6*p_pair**2*q*rp**3 - 2*p_pair**2*q*rp + 6*p_pair*q**2*rp**2 - p_pair*q**2*rp - p_pair*q**2 + 6*p_pair*q*rp**3 - 4*p_pair*q*rp**2 - p_pair*q*rp + p_pair*q - 3*p_pair*rp**3 + p_pair*rp - 4*q*rp + 2*q + 2*rp) - (pmp)*p_pair*qp*(2*p_pair**3*qp**3*r**2 - 2*p_pair**3*qp**2*r**2 - 2*p_pair**2*qp**3*r - 2*p_pair**2*qp**2*r**2 + 2*p_pair**2*qp**2*r + 2*p_pair**2*qp*r**2 + 8*p_pair*qp**3*r**2 - 4*p_pair*qp**3*r + p_pair*qp**3 - 4*p_pair*qp**2*r**2 - 2*p_pair*qp**2*r - p_pair*qp**2 + p_pair*qp*r**2 + 6*p_pair*qp*r - p_pair*r**2 - 4*qp**3*r + 2*qp**3 - 4*qp**2*r**2 + 4*qp**2*r + qp**2 + 2*qp*r**2 + qp*r - 3*qp - 3*r))/8,\n",
    "   -t*((pdm)*rp*(12*p_pair**4*q**2*rp**3 + 4*p_pair**4*q**2*rp**2 - 12*p_pair**3*q**2*rp**2 - 4*p_pair**3*q**2*rp - 12*p_pair**3*q*rp**3 - 4*p_pair**3*q*rp**2 + 3*p_pair**2*q**2*rp + p_pair**2*q**2 + 8*p_pair**2*q*rp**2 + 8*p_pair**2*q*rp + 3*p_pair**2*rp**3 + p_pair**2*rp**2 - p_pair*q*rp - 3*p_pair*q - p_pair*rp**2 - 3*p_pair*rp + 12*q**2*rp**3 - 8*q**2*rp**2 - q**2*rp + q**2 - 12*q*rp**3 + 4*q*rp**2 + 7*q*rp - 3*q + 3*rp**3 - 3*rp) + 2*(pmp)*qp*(6*p_pair**4*qp**3*r**2 - 2*p_pair**4*qp**2*r**2 - 6*p_pair**3*qp**3*r - 6*p_pair**3*qp**2*r**2 + 2*p_pair**3*qp**2*r + 2*p_pair**3*qp*r**2 + 2*p_pair**2*qp**3 - p_pair**2*qp**2 + 2*p_pair**2*qp*r**2 + 4*p_pair**2*qp*r - p_pair**2*r**2 + p_pair*qp**2 + p_pair*qp*r - 2*p_pair*qp - 2*p_pair*r + 4*qp**3*r**2 - 4*qp**3*r + qp**3 - 4*qp**2*r**2 + 2*qp**2*r + qp*r**2 + 2*qp*r - qp - r))/12,\n",
    "   t*((pdm)*rp*(-12*p_pair**2*q**2*rp**3 + 2*p_pair**2*q**2*rp**2 + 2*p_pair**2*q**2*rp + 6*p_pair**2*q*rp**3 - 2*p_pair**2*q*rp + 6*p_pair*q**2*rp**2 - p_pair*q**2*rp - p_pair*q**2 + 6*p_pair*q*rp**3 - 4*p_pair*q*rp**2 - p_pair*q*rp + p_pair*q - 3*p_pair*rp**3 + p_pair*rp - 4*q*rp + 2*q + 2*rp) - (pmp)*p_pair*qp*(-2*p_pair*qp*r + qp + r)*(-2*p_pair**2*qp**2*r + 2*p_pair**2*qp*r + p_pair*qp**2 + p_pair*qp*r - p_pair*qp - p_pair*r - 4*qp**2*r + 2*qp**2 + 2*qp*r + qp - 3))/16]],\n",
    " [25,\n",
    "  [0,\n",
    "   (pdm)*t*(12*p_pair**2*q**2*rp**4 - 18*p_pair**2*q**2*rp**3 + 14*p_pair**2*q**2*rp**2 - 4*p_pair**2*q**2*rp - 6*p_pair**2*q*rp**4 + 8*p_pair**2*q*rp**3 - 4*p_pair**2*q*rp**2 - 6*p_pair*q**2*rp**3 + 9*p_pair*q**2*rp**2 - 7*p_pair*q**2*rp + 2*p_pair*q**2 - 6*p_pair*q*rp**4 + 12*p_pair*q*rp**3 - 11*p_pair*q*rp**2 + 4*p_pair*q*rp + 3*p_pair*rp**4 - 4*p_pair*rp**3 + 2*p_pair*rp**2 + 2*q*rp**3 - q*rp**2 - rp**3 + rp**2)/4 + (pmp)*t*(2*p_pair**4*qp**4*r**2 - 2*p_pair**3*qp**4*r - 2*p_pair**3*qp**3*r**2 + 8*p_pair**2*qp**4*r**2 - 4*p_pair**2*qp**4*r + p_pair**2*qp**4 - 12*p_pair**2*qp**3*r**2 + 8*p_pair**2*qp**3*r + 9*p_pair**2*qp**2*r**2 - 2*p_pair**2*qp**2*r - 2*p_pair**2*qp*r**2 - 4*p_pair*qp**4*r + 2*p_pair*qp**4 - 4*p_pair*qp**3*r**2 + 8*p_pair*qp**3*r - 4*p_pair*qp**3 + 6*p_pair*qp**2*r**2 - 8*p_pair*qp**2*r + p_pair*qp**2 - 4*p_pair*qp*r**2 + 2*p_pair*qp*r + p_pair*r**2 + 2*qp**3*r - qp**3 - qp**2*r + 2*qp**2)/4 + (ppc)*p_pair*t*(-2*q*r + q + r)*(-2*p_pair*q*r + q + r)/4 - p_pair*(-2*q*r + q + r)*(-2*p_pair*q*r + q + r)*((pdm)*t + (pmp)*t + (ppc)*t - 1)/2,\n",
    "   (pdm)*t*(12*p_pair**4*q**2*rp**4 - 12*p_pair**4*q**2*rp**3 + 8*p_pair**4*q**2*rp**2 - 12*p_pair**3*q**2*rp**3 + 12*p_pair**3*q**2*rp**2 - 8*p_pair**3*q**2*rp - 12*p_pair**3*q*rp**4 + 12*p_pair**3*q*rp**3 - 8*p_pair**3*q*rp**2 + 3*p_pair**2*q**2*rp**2 - 3*p_pair**2*q**2*rp + 2*p_pair**2*q**2 + 10*p_pair**2*q*rp**3 - 6*p_pair**2*q*rp**2 + 4*p_pair**2*q*rp + 3*p_pair**2*rp**4 - 3*p_pair**2*rp**3 + 2*p_pair**2*rp**2 - 2*p_pair*q*rp**2 - 2*p_pair*rp**3 + 12*q**2*rp**4 - 24*q**2*rp**3 + 23*q**2*rp**2 - 11*q**2*rp + 2*q**2 - 12*q*rp**4 + 22*q*rp**3 - 16*q*rp**2 + 4*q*rp + 3*rp**4 - 5*rp**3 + 4*rp**2)/6 + (pmp)*t*(12*p_pair**4*qp**4*r**2 - 8*p_pair**4*qp**3*r**2 + 4*p_pair**4*qp**2*r**2 - 12*p_pair**3*qp**4*r - 12*p_pair**3*qp**3*r**2 + 8*p_pair**3*qp**3*r + 8*p_pair**3*qp**2*r**2 - 4*p_pair**3*qp**2*r - 4*p_pair**3*qp*r**2 + 4*p_pair**2*qp**4 + 12*p_pair**2*qp**3*r - 2*p_pair**2*qp**3 + 4*p_pair**2*qp**2*r**2 - 4*p_pair**2*qp**2*r + p_pair**2*qp**2 - 2*p_pair**2*qp*r**2 + 2*p_pair**2*qp*r + p_pair**2*r**2 - 4*p_pair*qp**3 - 4*p_pair*qp**2*r + 8*qp**4*r**2 - 8*qp**4*r + 2*qp**4 - 16*qp**3*r**2 + 16*qp**3*r - 4*qp**3 + 14*qp**2*r**2 - 10*qp**2*r + 5*qp**2 - 6*qp*r**2 + 2*qp*r + r**2)/6 + (ppc)*t*(4*p_pair**4*q**2*r**2 - 4*p_pair**3*q**2*r - 4*p_pair**3*q*r**2 + p_pair**2*q**2 + 2*p_pair**2*q*r + p_pair**2*r**2 + 4*q**2*r**2 - 4*q**2*r + q**2 - 4*q*r**2 + 2*q*r + r**2)/6 - ((pdm)*t + (pmp)*t + (ppc)*t - 1)*(4*p_pair**4*q**2*r**2 - 4*p_pair**3*q**2*r - 4*p_pair**3*q*r**2 + p_pair**2*q**2 + 2*p_pair**2*q*r + p_pair**2*r**2 + 4*q**2*r**2 - 4*q**2*r + q**2 - 4*q*r**2 + 2*q*r + r**2)/3,\n",
    "   (pdm)*t*(12*p_pair**2*q**2*rp**4 - 18*p_pair**2*q**2*rp**3 + 14*p_pair**2*q**2*rp**2 - 4*p_pair**2*q**2*rp - 6*p_pair**2*q*rp**4 + 8*p_pair**2*q*rp**3 - 4*p_pair**2*q*rp**2 - 6*p_pair*q**2*rp**3 + 9*p_pair*q**2*rp**2 - 7*p_pair*q**2*rp + 2*p_pair*q**2 - 6*p_pair*q*rp**4 + 12*p_pair*q*rp**3 - 11*p_pair*q*rp**2 + 4*p_pair*q*rp + 3*p_pair*rp**4 - 4*p_pair*rp**3 + 2*p_pair*rp**2 + 2*q*rp**3 - q*rp**2 - rp**3 + rp**2)/8 + (pmp)*t*(4*p_pair**4*qp**4*r**2 - 4*p_pair**3*qp**4*r - 4*p_pair**3*qp**3*r**2 + 8*p_pair**2*qp**4*r**2 - 4*p_pair**2*qp**4*r + p_pair**2*qp**4 - 12*p_pair**2*qp**3*r**2 + 10*p_pair**2*qp**3*r + 9*p_pair**2*qp**2*r**2 - 2*p_pair**2*qp**2*r - 2*p_pair**2*qp*r**2 - 4*p_pair*qp**4*r + 2*p_pair*qp**4 - 4*p_pair*qp**3*r**2 + 8*p_pair*qp**3*r - 4*p_pair*qp**3 + 6*p_pair*qp**2*r**2 - 8*p_pair*qp**2*r + p_pair*qp**2 - 4*p_pair*qp*r**2 + 2*p_pair*qp*r + p_pair*r**2 + 2*qp**3*r - qp**3 - qp**2*r + 2*qp**2)/8 + (ppc)*p_pair*t*(-2*q*r + q + r)*(-2*p_pair*q*r + q + r)/8 - p_pair*(-2*q*r + q + r)*(-2*p_pair*q*r + q + r)*((pdm)*t + (pmp)*t + (ppc)*t - 1)/4]],\n",
    " [26,\n",
    "  [0,\n",
    "   -(ppc)*t*vp*(vp - 1)*(2*p_pair**4*q**2*r**2 - 2*p_pair**3*q**2*r - 2*p_pair**3*q*r**2 + p_pair**2*q**2 + 4*p_pair**2*q*r + p_pair**2*r**2 - 2*p_pair*q - 2*p_pair*r + 1)/8,\n",
    "   -(ppc)*t*vp*(vp - 1)*(4*p_pair**4*q**2*r**2 - 4*p_pair**3*q**2*r - 4*p_pair**3*q*r**2 + 2*p_pair**2*q**2 + 8*p_pair**2*q*r + 2*p_pair**2*r**2 - 4*p_pair*q - 4*p_pair*r + 4*q**2*r**2 - 4*q**2*r + q**2 - 4*q*r**2 + 6*q*r - 2*q + r**2 - 2*r + 3)/12,\n",
    "   0]],\n",
    " [27,\n",
    "  [0,\n",
    "   -(ppc)*p_pair**2*t*vp*(vp - 1)*(2*p_pair**2*q**2*r**2 - 2*p_pair*q**2*r - 2*p_pair*q*r**2 + q**2 + r**2)/8,\n",
    "   -(ppc)*t*vp*(vp - 1)*(4*p_pair**4*q**2*r**2 - 4*p_pair**3*q**2*r - 4*p_pair**3*q*r**2 + 2*p_pair**2*q**2 + 2*p_pair**2*r**2 + 4*q**2*r**2 - 4*q**2*r + q**2 - 4*q*r**2 + 2*q*r + r**2)/12,\n",
    "   0]],\n",
    " [28,\n",
    "  [0,\n",
    "   (ppc)*p_pair*r*t*vp*(vp - 1)*(p_pair*r - 1)*(2*p_pair**2*q**2 - 2*p_pair*q + 1)/4,\n",
    "   (ppc)*t*vp*(vp - 1)*(4*p_pair**4*q**2*r**2 - 4*p_pair**3*q**2*r - 4*p_pair**3*q*r**2 + 4*p_pair**2*q*r + 2*p_pair**2*r**2 - 2*p_pair*r + 4*q**2*r**2 - 4*q**2*r + q**2 - 4*q*r**2 + 4*q*r - q + r**2 - r)/6,\n",
    "   0]],\n",
    " [29, [0, 0, 0, 0]],\n",
    " [30,\n",
    "  [0,\n",
    "   p_pair*t*((pmp)*qp*(qp - 1)*(p_pair*qp - 1) - (ppc)*q*(p_pair*q - 1)*(2*vp**2 - 2*vp + 1))*(2*p_pair**2*r**2 - 2*p_pair*r + 1)/8,\n",
    "   t*(-(pdm)*rp*(rp - 1)*(2*p_pair**2*q*rp - p_pair*q - p_pair*rp + 1) + (pmp)*(qp - 1)*(4*p_pair**4*qp**2*r**2 - 4*p_pair**3*qp**2*r - 4*p_pair**3*qp*r**2 + 2*p_pair**2*qp**2 + 4*p_pair**2*qp*r - 2*p_pair*qp + 4*qp**2*r**2 - 4*qp**2*r + qp**2 - 4*qp*r**2 + 4*qp*r - qp + r**2 - r) - (ppc)*(2*vp**2 - 2*vp + 1)*(4*p_pair**4*q**2*r**2 - 4*p_pair**3*q**2*r - 4*p_pair**3*q*r**2 + 2*p_pair**2*q**2 + 4*p_pair**2*q*r - 2*p_pair*q + 4*q**2*r**2 - 4*q**2*r + q**2 - 4*q*r**2 + 4*q*r - q + r**2 - r))/12,\n",
    "   0]],\n",
    " [31,\n",
    "  [0,\n",
    "   -(pmp)*p_pair*qp**2*t*(p_pair*qp - 1)*(2*p_pair**2*r**2 - 2*p_pair*r + 1)/8,\n",
    "   -t*((pdm)*p_pair*rp*(rp - 1)*(-2*p_pair*q*rp + q + rp) + (pmp)*qp*(4*p_pair**4*qp**2*r**2 - 4*p_pair**3*qp**2*r - 4*p_pair**3*qp*r**2 + 2*p_pair**2*qp**2 + 4*p_pair**2*qp*r - 2*p_pair*qp + 4*qp**2*r**2 - 4*qp**2*r + qp**2 - 4*qp*r**2 + 4*qp*r - qp + r**2 - r))/12,\n",
    "   0]],\n",
    " [32,\n",
    "  [0,\n",
    "   p_pair**2*r*t*(p_pair*r - 1)*((pmp)*qp*(qp - 1)**2*(p_pair*qp - 1) + (ppc)*q*(p_pair*q - 1)*(2*vp**2 - 2*vp + 1))/8,\n",
    "   (pdm)*t*(rp - 1)*(3*rp - 4)*(2*p_pair**2*q*rp - p_pair*q - p_pair*rp + 1)**2/24 + (pmp)*t*(qp - 1)**2*(12*p_pair**4*qp**2*r**2 - 12*p_pair**3*qp**2*r - 12*p_pair**3*qp*r**2 + 2*p_pair**2*qp**2 + 16*p_pair**2*qp*r + 2*p_pair**2*r**2 - 4*p_pair*qp - 4*p_pair*r + 4*qp**2*r**2 - 4*qp**2*r + qp**2 - 4*qp*r**2 + 8*qp*r - 3*qp + r**2 - 3*r + 4)/24 + (ppc)*t*(8*p_pair**4*q**2*r**2*vp**2 - 8*p_pair**4*q**2*r**2*vp + 12*p_pair**4*q**2*r**2 - 8*p_pair**3*q**2*r*vp**2 + 8*p_pair**3*q**2*r*vp - 12*p_pair**3*q**2*r - 8*p_pair**3*q*r**2*vp**2 + 8*p_pair**3*q*r**2*vp - 12*p_pair**3*q*r**2 + 2*p_pair**2*q**2 + 8*p_pair**2*q*r*vp**2 - 8*p_pair**2*q*r*vp + 16*p_pair**2*q*r + 2*p_pair**2*r**2 - 4*p_pair*q - 4*p_pair*r + 8*q**2*r**2*vp**2 - 8*q**2*r**2*vp + 4*q**2*r**2 - 8*q**2*r*vp**2 + 8*q**2*r*vp - 4*q**2*r + 2*q**2*vp**2 - 2*q**2*vp + q**2 - 8*q*r**2*vp**2 + 8*q*r**2*vp - 4*q*r**2 + 12*q*r*vp**2 - 12*q*r*vp + 8*q*r - 4*q*vp**2 + 4*q*vp - 3*q + 2*r**2*vp**2 - 2*r**2*vp + r**2 - 4*r*vp**2 + 4*r*vp - 3*r + 2*vp**2 - 2*vp + 4)/24 + (-(pdm)*t - (pmp)*t - (ppc)*t + 1)*(2*p_pair**2*q*r - p_pair*q - p_pair*r + 1)**2/6,\n",
    "   0]],\n",
    " [33,\n",
    "  [0,\n",
    "   -(pmp)*p_pair**2*qp**2*r*t*(qp - 1)*(p_pair*qp - 1)*(p_pair*r - 1)/4,\n",
    "   -(pdm)*t*(rp - 1)*(2*p_pair**2*q*rp - p_pair*q - p_pair*rp + 1)*(6*p_pair**2*q*rp**2 - 8*p_pair**2*q*rp - 3*p_pair*q*rp + 4*p_pair*q - 3*p_pair*rp**2 + 4*p_pair*rp + 2*rp)/12 - (pmp)*t*(qp - 1)*(12*p_pair**4*qp**3*r**2 - 8*p_pair**4*qp**2*r**2 - 12*p_pair**3*qp**3*r - 12*p_pair**3*qp**2*r**2 + 8*p_pair**3*qp**2*r + 8*p_pair**3*qp*r**2 + 2*p_pair**2*qp**3 + 16*p_pair**2*qp**2*r - 2*p_pair**2*qp**2 + 2*p_pair**2*qp*r**2 - 8*p_pair**2*qp*r - 2*p_pair**2*r**2 - 4*p_pair*qp**2 - 4*p_pair*qp*r + 2*p_pair*qp + 2*p_pair*r + 4*qp**3*r**2 - 4*qp**3*r + qp**3 - 4*qp**2*r**2 + 8*qp**2*r - 3*qp**2 + qp*r**2 - 3*qp*r + 4*qp)/12 + (ppc)*p_pair*t*(-2*p_pair*q*r + q + r)*(2*p_pair**2*q*r - p_pair*q - p_pair*r + 1)/6 - p_pair*(-2*p_pair*q*r + q + r)*((pdm)*t + (pmp)*t + (ppc)*t - 1)*(2*p_pair**2*q*r - p_pair*q - p_pair*r + 1)/3,\n",
    "   0]],\n",
    " [34,\n",
    "  [0,\n",
    "   p_pair**2*r*t*(p_pair*r - 1)*((pmp)*qp*(qp - 1)**2*(p_pair*qp - 1) + (ppc)*q*(p_pair*q - 1)*(2*vp**2 - 2*vp + 1))/8,\n",
    "   t*((pdm)*rp*(12*p_pair**4*q**2*rp**3 + 4*p_pair**4*q**2*rp**2 - 12*p_pair**3*q**2*rp**2 - 4*p_pair**3*q**2*rp - 12*p_pair**3*q*rp**3 - 4*p_pair**3*q*rp**2 + 3*p_pair**2*q**2*rp + p_pair**2*q**2 + 10*p_pair**2*q*rp**2 + 6*p_pair**2*q*rp + 3*p_pair**2*rp**3 + p_pair**2*rp**2 - 2*p_pair*q*rp - 2*p_pair*q - 2*p_pair*rp**2 - 2*p_pair*rp + rp + 1) + (pmp)*(12*p_pair**4*qp**4*r**2 - 8*p_pair**4*qp**3*r**2 + 4*p_pair**4*qp**2*r**2 - 12*p_pair**3*qp**4*r - 12*p_pair**3*qp**3*r**2 + 8*p_pair**3*qp**3*r + 8*p_pair**3*qp**2*r**2 - 4*p_pair**3*qp**2*r - 4*p_pair**3*qp*r**2 + 2*p_pair**2*qp**4 + 8*p_pair**2*qp**3*r + 2*p_pair**2*qp**2*r**2 - 8*p_pair**2*qp**2*r + 4*p_pair**2*qp*r + 4*qp**4*r**2 - 4*qp**4*r + qp**4 - 12*qp**3*r**2 + 8*qp**3*r - qp**3 + 13*qp**2*r**2 - 3*qp**2*r - qp**2 - 6*qp*r**2 - 2*qp*r + qp + r**2 + r) + (ppc)*(8*p_pair**4*q**2*r**2*vp**2 - 8*p_pair**4*q**2*r**2*vp + 4*p_pair**4*q**2*r**2 - 8*p_pair**3*q**2*r*vp**2 + 8*p_pair**3*q**2*r*vp - 4*p_pair**3*q**2*r - 8*p_pair**3*q*r**2*vp**2 + 8*p_pair**3*q*r**2*vp - 4*p_pair**3*q*r**2 + 8*p_pair**2*q*r*vp**2 - 8*p_pair**2*q*r*vp + 4*p_pair**2*q*r + 8*q**2*r**2*vp**2 - 8*q**2*r**2*vp + 4*q**2*r**2 - 8*q**2*r*vp**2 + 8*q**2*r*vp - 4*q**2*r + 2*q**2*vp**2 - 2*q**2*vp + q**2 - 8*q*r**2*vp**2 + 8*q*r**2*vp - 4*q*r**2 + 4*q*r*vp**2 - 4*q*r*vp + q + 2*r**2*vp**2 - 2*r**2*vp + r**2 + r))/24,\n",
    "   0]],\n",
    " [35,\n",
    "  [0,\n",
    "   -(pmp)*p_pair**2*qp**2*r*t*(qp - 1)*(p_pair*qp - 1)*(p_pair*r - 1)/4,\n",
    "   t*((pdm)*p_pair*rp*(-2*p_pair*q*rp + q + rp)*(6*p_pair**2*q*rp**2 + 2*p_pair**2*q*rp - 3*p_pair*q*rp - p_pair*q - 3*p_pair*rp**2 - p_pair*rp + rp + 3) - (pmp)*qp*(12*p_pair**4*qp**3*r**2 - 4*p_pair**4*qp**2*r**2 - 12*p_pair**3*qp**3*r - 12*p_pair**3*qp**2*r**2 + 4*p_pair**3*qp**2*r + 4*p_pair**3*qp*r**2 + 2*p_pair**2*qp**3 + 8*p_pair**2*qp**2*r + 2*p_pair**2*qp*r**2 - 2*p_pair*qp - 2*p_pair*r + 4*qp**3*r**2 - 4*qp**3*r + qp**3 - 8*qp**2*r**2 + 4*qp**2*r + 5*qp*r**2 + qp*r - qp - r**2 - r))/12,\n",
    "   0]],\n",
    " [36,\n",
    "  [0,\n",
    "   (pmp)*p_pair**2*qp**3*r*t*(p_pair*qp - 1)*(p_pair*r - 1)/4,\n",
    "   (pdm)*t*(12*p_pair**4*q**2*rp**4 - 12*p_pair**4*q**2*rp**3 + 8*p_pair**4*q**2*rp**2 - 12*p_pair**3*q**2*rp**3 + 12*p_pair**3*q**2*rp**2 - 8*p_pair**3*q**2*rp - 12*p_pair**3*q*rp**4 + 12*p_pair**3*q*rp**3 - 8*p_pair**3*q*rp**2 + 3*p_pair**2*q**2*rp**2 - 3*p_pair**2*q**2*rp + 2*p_pair**2*q**2 + 10*p_pair**2*q*rp**3 - 6*p_pair**2*q*rp**2 + 4*p_pair**2*q*rp + 3*p_pair**2*rp**4 - 3*p_pair**2*rp**3 + 2*p_pair**2*rp**2 - 2*p_pair*q*rp**2 - 2*p_pair*rp**3 + rp**2)/12 + (pmp)*t*(12*p_pair**4*qp**4*r**2 - 8*p_pair**4*qp**3*r**2 + 4*p_pair**4*qp**2*r**2 - 12*p_pair**3*qp**4*r - 12*p_pair**3*qp**3*r**2 + 8*p_pair**3*qp**3*r + 8*p_pair**3*qp**2*r**2 - 4*p_pair**3*qp**2*r - 4*p_pair**3*qp*r**2 + 2*p_pair**2*qp**4 + 12*p_pair**2*qp**3*r - 2*p_pair**2*qp**3 + 2*p_pair**2*qp**2*r**2 - 4*p_pair**2*qp**2*r + p_pair**2*qp**2 - 2*p_pair**2*qp*r**2 + 2*p_pair**2*qp*r + p_pair**2*r**2 - 2*p_pair*qp**3 - 2*p_pair*qp**2*r + 4*qp**4*r**2 - 4*qp**4*r + qp**4 - 4*qp**3*r**2 + 4*qp**3*r - qp**3 + qp**2*r**2 - qp**2*r + 2*qp**2)/12 + (ppc)*p_pair**2*t*(-2*p_pair*q*r + q + r)**2/12 + p_pair**2*(-2*p_pair*q*r + q + r)**2*(-(pdm)*t - (pmp)*t - (ppc)*t + 1)/6,\n",
    "   0]]]"
   ]
  },
  {
   "cell_type": "code",
   "execution_count": 4,
   "metadata": {
    "collapsed": true
   },
   "outputs": [],
   "source": [
    "test = [['i_m', 'i_m'],['j_m', 'j_m']]"
   ]
  },
  {
   "cell_type": "code",
   "execution_count": 5,
   "metadata": {
    "collapsed": true
   },
   "outputs": [],
   "source": [
    "lst = []\n",
    "for i in range(len(modes)):\n",
    "    if modes[i][0][0] == test[0][0] and modes[i][0][2] == test[0][1] \\\n",
    "        and modes[i][1][0] == test[1][0] and modes[i][1][2] == test[1][1]:\n",
    "        lst.append(i)"
   ]
  },
  {
   "cell_type": "code",
   "execution_count": 6,
   "metadata": {},
   "outputs": [
    {
     "data": {
      "text/plain": [
       "[6, 21, 32]"
      ]
     },
     "execution_count": 6,
     "metadata": {},
     "output_type": "execute_result"
    }
   ],
   "source": [
    "lst"
   ]
  },
  {
   "cell_type": "code",
   "execution_count": 7,
   "metadata": {},
   "outputs": [
    {
     "data": {
      "text/plain": [
       "[(pdm)*t*(rp - 1)*(3*rp - 4)*(2*q*rp - q - rp + 1)*(2*p_pair**2*q*rp - p_pair*q - p_pair*rp + 1)/4 + (pmp)*t*(qp - 1)**2*(2*p_pair**4*qp**2*r**2 - 2*p_pair**3*qp**2*r - 2*p_pair**3*qp*r**2 + 8*p_pair**2*qp**2*r**2 - 4*p_pair**2*qp**2*r + p_pair**2*qp**2 - 4*p_pair**2*qp*r**2 + 10*p_pair**2*qp*r + p_pair**2*r**2 - 4*p_pair*qp**2*r + 2*p_pair*qp**2 - 4*p_pair*qp*r**2 + 4*p_pair*qp*r - 5*p_pair*qp + 2*p_pair*r**2 - 5*p_pair*r + 4*qp*r - 2*qp - 2*r + 4)/8 - (pmp)*t*(qp - 1)**2*(-p_pair**4*qp**2*r**2 + p_pair**3*qp**2*r + p_pair**3*qp*r**2 - 8*p_pair**2*qp**2*r**2 + 4*p_pair**2*qp**2*r + 4*p_pair**2*qp*r**2 - 5*p_pair**2*qp*r + 4*p_pair*qp**2*r - 2*p_pair*qp**2 + 4*p_pair*qp*r**2 - 4*p_pair*qp*r + 2*p_pair*qp - 2*p_pair*r**2 + 2*p_pair*r - 4*qp**2*r**2 + 4*qp**2*r - qp**2 + 4*qp*r**2 - 12*qp*r + 5*qp - r**2 + 5*r - 4)/8 + (ppc)*t*(4*p_pair**4*q**2*r**2*vp**2 - 4*p_pair**4*q**2*r**2*vp + 2*p_pair**4*q**2*r**2 - 4*p_pair**3*q**2*r*vp**2 + 4*p_pair**3*q**2*r*vp - 2*p_pair**3*q**2*r - 4*p_pair**3*q*r**2*vp**2 + 4*p_pair**3*q*r**2*vp - 2*p_pair**3*q*r**2 + 8*p_pair**2*q**2*r**2 - 4*p_pair**2*q**2*r + 2*p_pair**2*q**2*vp**2 - 2*p_pair**2*q**2*vp + p_pair**2*q**2 - 4*p_pair**2*q*r**2 + 8*p_pair**2*q*r*vp**2 - 8*p_pair**2*q*r*vp + 10*p_pair**2*q*r + 2*p_pair**2*r**2*vp**2 - 2*p_pair**2*r**2*vp + p_pair**2*r**2 - 4*p_pair*q**2*r + 2*p_pair*q**2 - 4*p_pair*q*r**2 + 4*p_pair*q*r - 4*p_pair*q*vp**2 + 4*p_pair*q*vp - 5*p_pair*q + 2*p_pair*r**2 - 4*p_pair*r*vp**2 + 4*p_pair*r*vp - 5*p_pair*r + 4*q*r - 2*q - 2*r + 2*vp**2 - 2*vp + 4)/8 - (ppc)*t*(-2*p_pair**4*q**2*r**2*vp**2 + 2*p_pair**4*q**2*r**2*vp - p_pair**4*q**2*r**2 + 2*p_pair**3*q**2*r*vp**2 - 2*p_pair**3*q**2*r*vp + p_pair**3*q**2*r + 2*p_pair**3*q*r**2*vp**2 - 2*p_pair**3*q*r**2*vp + p_pair**3*q*r**2 - 8*p_pair**2*q**2*r**2 + 4*p_pair**2*q**2*r + 4*p_pair**2*q*r**2 - 2*p_pair**2*q*r*vp**2 + 2*p_pair**2*q*r*vp - 5*p_pair**2*q*r + 4*p_pair*q**2*r - 2*p_pair*q**2 + 4*p_pair*q*r**2 - 4*p_pair*q*r + 2*p_pair*q - 2*p_pair*r**2 + 2*p_pair*r - 8*q**2*r**2*vp**2 + 8*q**2*r**2*vp - 4*q**2*r**2 + 8*q**2*r*vp**2 - 8*q**2*r*vp + 4*q**2*r - 2*q**2*vp**2 + 2*q**2*vp - q**2 + 8*q*r**2*vp**2 - 8*q*r**2*vp + 4*q*r**2 - 12*q*r*vp**2 + 12*q*r*vp - 12*q*r + 4*q*vp**2 - 4*q*vp + 5*q - 2*r**2*vp**2 + 2*r**2*vp - r**2 + 4*r*vp**2 - 4*r*vp + 5*r - 2*vp**2 + 2*vp - 4)/8 + p_pair**2*r*t*(p_pair*r - 1)*((pmp)*qp*(qp - 1)**2*(p_pair*qp - 1) + (ppc)*q*(p_pair*q - 1)*(2*vp**2 - 2*vp + 1))/8 - ((pdm)*t + (pmp)*t + (ppc)*t - 1)*(2*q*r - q - r + 1)*(2*p_pair**2*q*r - p_pair*q - p_pair*r + 1)]"
      ]
     },
     "execution_count": 7,
     "metadata": {},
     "output_type": "execute_result"
    }
   ],
   "source": [
    "[sp.simplify(comb_lst[6][1][1]+comb_lst[21][1][1]+comb_lst[32][1][1])]"
   ]
  },
  {
   "cell_type": "code",
   "execution_count": 8,
   "metadata": {},
   "outputs": [
    {
     "data": {
      "text/plain": [
       "[((pdm)*t + (pmp)*t + (ppc)*t - 1)*(2*q*r - q - r + 1)*(2*p_pair**2*q*r - p_pair*q - p_pair*r + 1)]"
      ]
     },
     "execution_count": 8,
     "metadata": {},
     "output_type": "execute_result"
    }
   ],
   "source": [
    "[sp.simplify(((pdm)*t + (pmp)*t + (ppc)*t - 1)*(2*q*r - q - r + 1)*(2*p_pair**2*q*r - p_pair*q - p_pair*r + 1))]"
   ]
  },
  {
   "cell_type": "code",
   "execution_count": 11,
   "metadata": {},
   "outputs": [
    {
     "data": {
      "text/latex": [
       "$\\displaystyle \\frac{(ppc) t \\left(8 p_{pair}^{4} q^{2} r^{2} vp^{2} - 8 p_{pair}^{4} q^{2} r^{2} vp + 4 p_{pair}^{4} q^{2} r^{2} - 8 p_{pair}^{3} q^{2} r vp^{2} + 8 p_{pair}^{3} q^{2} r vp - 4 p_{pair}^{3} q^{2} r - 8 p_{pair}^{3} q r^{2} vp^{2} + 8 p_{pair}^{3} q r^{2} vp - 4 p_{pair}^{3} q r^{2} + 16 p_{pair}^{2} q^{2} r^{2} - 8 p_{pair}^{2} q^{2} r + 2 p_{pair}^{2} q^{2} vp^{2} - 2 p_{pair}^{2} q^{2} vp + p_{pair}^{2} q^{2} - 8 p_{pair}^{2} q r^{2} + 12 p_{pair}^{2} q r vp^{2} - 12 p_{pair}^{2} q r vp + 16 p_{pair}^{2} q r + 2 p_{pair}^{2} r^{2} vp^{2} - 2 p_{pair}^{2} r^{2} vp + p_{pair}^{2} r^{2} - 8 p_{pair} q^{2} r + 4 p_{pair} q^{2} - 8 p_{pair} q r^{2} + 8 p_{pair} q r - 4 p_{pair} q vp^{2} + 4 p_{pair} q vp - 7 p_{pair} q + 4 p_{pair} r^{2} - 4 p_{pair} r vp^{2} + 4 p_{pair} r vp - 7 p_{pair} r + 8 q^{2} r^{2} vp^{2} - 8 q^{2} r^{2} vp + 4 q^{2} r^{2} - 8 q^{2} r vp^{2} + 8 q^{2} r vp - 4 q^{2} r + 2 q^{2} vp^{2} - 2 q^{2} vp + q^{2} - 8 q r^{2} vp^{2} + 8 q r^{2} vp - 4 q r^{2} + 12 q r vp^{2} - 12 q r vp + 16 q r - 4 q vp^{2} + 4 q vp - 7 q + 2 r^{2} vp^{2} - 2 r^{2} vp + r^{2} - 4 r vp^{2} + 4 r vp - 7 r + 4 vp^{2} - 4 vp + 8\\right)}{8}$"
      ],
      "text/plain": [
       "(ppc)*t*(8*p_pair**4*q**2*r**2*vp**2 - 8*p_pair**4*q**2*r**2*vp + 4*p_pair**4*q**2*r**2 - 8*p_pair**3*q**2*r*vp**2 + 8*p_pair**3*q**2*r*vp - 4*p_pair**3*q**2*r - 8*p_pair**3*q*r**2*vp**2 + 8*p_pair**3*q*r**2*vp - 4*p_pair**3*q*r**2 + 16*p_pair**2*q**2*r**2 - 8*p_pair**2*q**2*r + 2*p_pair**2*q**2*vp**2 - 2*p_pair**2*q**2*vp + p_pair**2*q**2 - 8*p_pair**2*q*r**2 + 12*p_pair**2*q*r*vp**2 - 12*p_pair**2*q*r*vp + 16*p_pair**2*q*r + 2*p_pair**2*r**2*vp**2 - 2*p_pair**2*r**2*vp + p_pair**2*r**2 - 8*p_pair*q**2*r + 4*p_pair*q**2 - 8*p_pair*q*r**2 + 8*p_pair*q*r - 4*p_pair*q*vp**2 + 4*p_pair*q*vp - 7*p_pair*q + 4*p_pair*r**2 - 4*p_pair*r*vp**2 + 4*p_pair*r*vp - 7*p_pair*r + 8*q**2*r**2*vp**2 - 8*q**2*r**2*vp + 4*q**2*r**2 - 8*q**2*r*vp**2 + 8*q**2*r*vp - 4*q**2*r + 2*q**2*vp**2 - 2*q**2*vp + q**2 - 8*q*r**2*vp**2 + 8*q*r**2*vp - 4*q*r**2 + 12*q*r*vp**2 - 12*q*r*vp + 16*q*r - 4*q*vp**2 + 4*q*vp - 7*q + 2*r**2*vp**2 - 2*r**2*vp + r**2 - 4*r*vp**2 + 4*r*vp - 7*r + 4*vp**2 - 4*vp + 8)/8"
      ]
     },
     "execution_count": 11,
     "metadata": {},
     "output_type": "execute_result"
    }
   ],
   "source": [
    "sp.simplify((ppc)*t*(4*p_pair**4*q**2*r**2*vp**2 - 4*p_pair**4*q**2*r**2*vp + 2*p_pair**4*q**2*r**2 - 4*p_pair**3*q**2*r*vp**2 + 4*p_pair**3*q**2*r*vp - 2*p_pair**3*q**2*r - 4*p_pair**3*q*r**2*vp**2 + 4*p_pair**3*q*r**2*vp - 2*p_pair**3*q*r**2 + 8*p_pair**2*q**2*r**2 - 4*p_pair**2*q**2*r + 2*p_pair**2*q**2*vp**2 - 2*p_pair**2*q**2*vp + p_pair**2*q**2 - 4*p_pair**2*q*r**2 + 8*p_pair**2*q*r*vp**2 - 8*p_pair**2*q*r*vp + 10*p_pair**2*q*r + 2*p_pair**2*r**2*vp**2 - 2*p_pair**2*r**2*vp + p_pair**2*r**2 - 4*p_pair*q**2*r + 2*p_pair*q**2 - 4*p_pair*q*r**2 + 4*p_pair*q*r - 4*p_pair*q*vp**2 + 4*p_pair*q*vp - 5*p_pair*q + 2*p_pair*r**2 - 4*p_pair*r*vp**2 + 4*p_pair*r*vp - 5*p_pair*r + 4*q*r - 2*q - 2*r + 2*vp**2 - 2*vp + 4)/8 - (ppc)*t*(-2*p_pair**4*q**2*r**2*vp**2 + 2*p_pair**4*q**2*r**2*vp - p_pair**4*q**2*r**2 + 2*p_pair**3*q**2*r*vp**2 - 2*p_pair**3*q**2*r*vp + p_pair**3*q**2*r + 2*p_pair**3*q*r**2*vp**2 - 2*p_pair**3*q*r**2*vp + p_pair**3*q*r**2 - 8*p_pair**2*q**2*r**2 + 4*p_pair**2*q**2*r + 4*p_pair**2*q*r**2 - 2*p_pair**2*q*r*vp**2 + 2*p_pair**2*q*r*vp - 5*p_pair**2*q*r + 4*p_pair*q**2*r - 2*p_pair*q**2 + 4*p_pair*q*r**2 - 4*p_pair*q*r + 2*p_pair*q - 2*p_pair*r**2 + 2*p_pair*r - 8*q**2*r**2*vp**2 + 8*q**2*r**2*vp - 4*q**2*r**2 + 8*q**2*r*vp**2 - 8*q**2*r*vp + 4*q**2*r - 2*q**2*vp**2 + 2*q**2*vp - q**2 + 8*q*r**2*vp**2 - 8*q*r**2*vp + 4*q*r**2 - 12*q*r*vp**2 + 12*q*r*vp - 12*q*r + 4*q*vp**2 - 4*q*vp + 5*q - 2*r**2*vp**2 + 2*r**2*vp - r**2 + 4*r*vp**2 - 4*r*vp + 5*r - 2*vp**2 + 2*vp - 4)/8+ p_pair**2*r*t*(p_pair*r - 1)*((ppc)*q*(p_pair*q - 1)*(2*vp**2 - 2*vp + 1))/8)"
   ]
  },
  {
   "cell_type": "code",
   "execution_count": 13,
   "metadata": {},
   "outputs": [
    {
     "data": {
      "text/latex": [
       "$\\displaystyle \\frac{(pmp) \\left(qp - 1\\right)^{2} \\left(3 p_{pair}^{4} qp^{2} r^{2} t - 3 p_{pair}^{3} qp^{2} r t - 3 p_{pair}^{3} qp r^{2} t + 16 p_{pair}^{2} qp^{2} r^{2} t - 8 p_{pair}^{2} qp^{2} r t + p_{pair}^{2} qp^{2} t - 8 p_{pair}^{2} qp r^{2} t + 15 p_{pair}^{2} qp r t + p_{pair}^{2} r^{2} t - 8 p_{pair} qp^{2} r t + 4 p_{pair} qp^{2} t + p_{pair} qp^{2} - 8 p_{pair} qp r^{2} t + 8 p_{pair} qp r t - 7 p_{pair} qp t + 4 p_{pair} r^{2} t - 7 p_{pair} r t + 4 qp^{2} r^{2} t - 4 qp^{2} r t + qp^{2} t - 4 qp r^{2} t + 16 qp r t - 7 qp t - qp + r^{2} t - 7 r t + 8 t\\right)}{8}$"
      ],
      "text/plain": [
       "(pmp)*(qp - 1)**2*(3*p_pair**4*qp**2*r**2*t - 3*p_pair**3*qp**2*r*t - 3*p_pair**3*qp*r**2*t + 16*p_pair**2*qp**2*r**2*t - 8*p_pair**2*qp**2*r*t + p_pair**2*qp**2*t - 8*p_pair**2*qp*r**2*t + 15*p_pair**2*qp*r*t + p_pair**2*r**2*t - 8*p_pair*qp**2*r*t + 4*p_pair*qp**2*t + p_pair*qp**2 - 8*p_pair*qp*r**2*t + 8*p_pair*qp*r*t - 7*p_pair*qp*t + 4*p_pair*r**2*t - 7*p_pair*r*t + 4*qp**2*r**2*t - 4*qp**2*r*t + qp**2*t - 4*qp*r**2*t + 16*qp*r*t - 7*qp*t - qp + r**2*t - 7*r*t + 8*t)/8"
      ]
     },
     "execution_count": 13,
     "metadata": {},
     "output_type": "execute_result"
    }
   ],
   "source": [
    "sp.factor(((pmp)*qp*(qp - 1)**2*(p_pair*qp - 1))/8+(pmp)*t*(qp - 1)**2*(2*p_pair**4*qp**2*r**2 - 2*p_pair**3*qp**2*r - 2*p_pair**3*qp*r**2 + 8*p_pair**2*qp**2*r**2 - 4*p_pair**2*qp**2*r + p_pair**2*qp**2 - 4*p_pair**2*qp*r**2 + 10*p_pair**2*qp*r + p_pair**2*r**2 - 4*p_pair*qp**2*r + 2*p_pair*qp**2 - 4*p_pair*qp*r**2 + 4*p_pair*qp*r - 5*p_pair*qp + 2*p_pair*r**2 - 5*p_pair*r + 4*qp*r - 2*qp - 2*r + 4)/8 - (pmp)*t*(qp - 1)**2*(-p_pair**4*qp**2*r**2 + p_pair**3*qp**2*r + p_pair**3*qp*r**2 - 8*p_pair**2*qp**2*r**2 + 4*p_pair**2*qp**2*r + 4*p_pair**2*qp*r**2 - 5*p_pair**2*qp*r + 4*p_pair*qp**2*r - 2*p_pair*qp**2 + 4*p_pair*qp*r**2 - 4*p_pair*qp*r + 2*p_pair*qp - 2*p_pair*r**2 + 2*p_pair*r - 4*qp**2*r**2 + 4*qp**2*r - qp**2 + 4*qp*r**2 - 12*qp*r + 5*qp - r**2 + 5*r - 4)/8)"
   ]
  },
  {
   "cell_type": "code",
   "execution_count": 26,
   "metadata": {
    "collapsed": true
   },
   "outputs": [],
   "source": [
    "import matplotlib.pyplot as plt\n",
    "import numpy as np"
   ]
  },
  {
   "cell_type": "code",
   "execution_count": 14,
   "metadata": {
    "collapsed": true
   },
   "outputs": [],
   "source": [
    "test = [['i_m', 'j_m'],['k_m', 'l_m']]"
   ]
  },
  {
   "cell_type": "code",
   "execution_count": 15,
   "metadata": {
    "collapsed": true
   },
   "outputs": [],
   "source": [
    "lst = []\n",
    "for i in range(len(modes)):\n",
    "    if modes[i][0][0] == test[0][0] and modes[i][0][2] == test[0][1] \\\n",
    "        and modes[i][1][0] == test[1][0] and modes[i][1][2] == test[1][1]:\n",
    "        lst.append(i)"
   ]
  },
  {
   "cell_type": "code",
   "execution_count": 16,
   "metadata": {},
   "outputs": [
    {
     "data": {
      "text/plain": [
       "[10, 25, 36]"
      ]
     },
     "execution_count": 16,
     "metadata": {},
     "output_type": "execute_result"
    }
   ],
   "source": [
    "lst"
   ]
  },
  {
   "cell_type": "code",
   "execution_count": 17,
   "metadata": {},
   "outputs": [
    {
     "data": {
      "text/plain": [
       "[(pdm)*t*(12*p_pair**2*q**2*rp**4 - 18*p_pair**2*q**2*rp**3 + 14*p_pair**2*q**2*rp**2 - 4*p_pair**2*q**2*rp - 6*p_pair**2*q*rp**4 + 8*p_pair**2*q*rp**3 - 4*p_pair**2*q*rp**2 - 6*p_pair*q**2*rp**3 + 9*p_pair*q**2*rp**2 - 7*p_pair*q**2*rp + 2*p_pair*q**2 - 6*p_pair*q*rp**4 + 12*p_pair*q*rp**3 - 11*p_pair*q*rp**2 + 4*p_pair*q*rp + 3*p_pair*rp**4 - 4*p_pair*rp**3 + 2*p_pair*rp**2 + 2*q*rp**3 - q*rp**2 - rp**3 + rp**2)/2 + (pmp)*p_pair**2*qp**3*r*t*(p_pair*qp - 1)*(p_pair*r - 1)/4 + (pmp)*t*(2*p_pair**4*qp**4*r**2 - 2*p_pair**3*qp**4*r - 2*p_pair**3*qp**3*r**2 + 8*p_pair**2*qp**4*r**2 - 4*p_pair**2*qp**4*r + p_pair**2*qp**4 - 12*p_pair**2*qp**3*r**2 + 8*p_pair**2*qp**3*r + 9*p_pair**2*qp**2*r**2 - 2*p_pair**2*qp**2*r - 2*p_pair**2*qp*r**2 - 4*p_pair*qp**4*r + 2*p_pair*qp**4 - 4*p_pair*qp**3*r**2 + 8*p_pair*qp**3*r - 4*p_pair*qp**3 + 6*p_pair*qp**2*r**2 - 8*p_pair*qp**2*r + p_pair*qp**2 - 4*p_pair*qp*r**2 + 2*p_pair*qp*r + p_pair*r**2 + 2*qp**3*r - qp**3 - qp**2*r + 2*qp**2)/4 + (pmp)*t*(p_pair**4*qp**4*r**2 - p_pair**3*qp**4*r - p_pair**3*qp**3*r**2 + 8*p_pair**2*qp**4*r**2 - 4*p_pair**2*qp**4*r - 12*p_pair**2*qp**3*r**2 + 7*p_pair**2*qp**3*r + 8*p_pair**2*qp**2*r**2 - 2*p_pair**2*qp**2*r - 2*p_pair**2*qp*r**2 - 4*p_pair*qp**4*r + 2*p_pair*qp**4 - 4*p_pair*qp**3*r**2 + 8*p_pair*qp**3*r - 3*p_pair*qp**3 + 6*p_pair*qp**2*r**2 - 7*p_pair*qp**2*r + p_pair*qp**2 - 4*p_pair*qp*r**2 + 2*p_pair*qp*r + p_pair*r**2 + 4*qp**4*r**2 - 4*qp**4*r + qp**4 - 4*qp**3*r**2 + 6*qp**3*r - 2*qp**3 + qp**2*r**2 - 2*qp**2*r + 2*qp**2)/4 + (ppc)*p_pair*t*(-2*q*r + q + r)*(-2*p_pair*q*r + q + r)/2 - p_pair*(-2*q*r + q + r)*(-2*p_pair*q*r + q + r)*((pdm)*t + (pmp)*t + (ppc)*t - 1)]"
      ]
     },
     "execution_count": 17,
     "metadata": {},
     "output_type": "execute_result"
    }
   ],
   "source": [
    "[sp.simplify(comb_lst[10][1][1]+comb_lst[25][1][1]+comb_lst[36][1][1])]"
   ]
  },
  {
   "cell_type": "code",
   "execution_count": 18,
   "metadata": {},
   "outputs": [
    {
     "data": {
      "text/latex": [
       "$\\displaystyle - p_{pair} \\left(- 2 q r + q + r\\right) \\left(- 2 p_{pair} q r + q + r\\right) \\left((pdm) t + (pmp) t + (ppc) t - 1\\right)$"
      ],
      "text/plain": [
       "-p_pair*(-2*q*r + q + r)*(-2*p_pair*q*r + q + r)*((pdm)*t + (pmp)*t + (ppc)*t - 1)"
      ]
     },
     "execution_count": 18,
     "metadata": {},
     "output_type": "execute_result"
    }
   ],
   "source": [
    "sp.simplify(- p_pair*(-2*q*r + q + r)*(-2*p_pair*q*r + q + r)*((pdm)*t + (pmp)*t + (ppc)*t - 1))"
   ]
  },
  {
   "cell_type": "code",
   "execution_count": 19,
   "metadata": {},
   "outputs": [
    {
     "data": {
      "text/latex": [
       "$\\displaystyle \\frac{(pmp) t \\left(4 p_{pair}^{4} qp^{4} r^{2} - 4 p_{pair}^{3} qp^{4} r - 4 p_{pair}^{3} qp^{3} r^{2} + 16 p_{pair}^{2} qp^{4} r^{2} - 8 p_{pair}^{2} qp^{4} r + p_{pair}^{2} qp^{4} - 24 p_{pair}^{2} qp^{3} r^{2} + 16 p_{pair}^{2} qp^{3} r + 17 p_{pair}^{2} qp^{2} r^{2} - 4 p_{pair}^{2} qp^{2} r - 4 p_{pair}^{2} qp r^{2} - 8 p_{pair} qp^{4} r + 4 p_{pair} qp^{4} - 8 p_{pair} qp^{3} r^{2} + 16 p_{pair} qp^{3} r - 7 p_{pair} qp^{3} + 12 p_{pair} qp^{2} r^{2} - 15 p_{pair} qp^{2} r + 2 p_{pair} qp^{2} - 8 p_{pair} qp r^{2} + 4 p_{pair} qp r + 2 p_{pair} r^{2} + 4 qp^{4} r^{2} - 4 qp^{4} r + qp^{4} - 4 qp^{3} r^{2} + 8 qp^{3} r - 3 qp^{3} + qp^{2} r^{2} - 3 qp^{2} r + 4 qp^{2}\\right)}{4}$"
      ],
      "text/plain": [
       "(pmp)*t*(4*p_pair**4*qp**4*r**2 - 4*p_pair**3*qp**4*r - 4*p_pair**3*qp**3*r**2 + 16*p_pair**2*qp**4*r**2 - 8*p_pair**2*qp**4*r + p_pair**2*qp**4 - 24*p_pair**2*qp**3*r**2 + 16*p_pair**2*qp**3*r + 17*p_pair**2*qp**2*r**2 - 4*p_pair**2*qp**2*r - 4*p_pair**2*qp*r**2 - 8*p_pair*qp**4*r + 4*p_pair*qp**4 - 8*p_pair*qp**3*r**2 + 16*p_pair*qp**3*r - 7*p_pair*qp**3 + 12*p_pair*qp**2*r**2 - 15*p_pair*qp**2*r + 2*p_pair*qp**2 - 8*p_pair*qp*r**2 + 4*p_pair*qp*r + 2*p_pair*r**2 + 4*qp**4*r**2 - 4*qp**4*r + qp**4 - 4*qp**3*r**2 + 8*qp**3*r - 3*qp**3 + qp**2*r**2 - 3*qp**2*r + 4*qp**2)/4"
      ]
     },
     "execution_count": 19,
     "metadata": {},
     "output_type": "execute_result"
    }
   ],
   "source": [
    "sp.simplify((pmp)*p_pair**2*qp**3*r*t*(p_pair*qp - 1)*(p_pair*r - 1)/4 + (pmp)*t*(2*p_pair**4*qp**4*r**2 - 2*p_pair**3*qp**4*r - 2*p_pair**3*qp**3*r**2 + 8*p_pair**2*qp**4*r**2 - 4*p_pair**2*qp**4*r + p_pair**2*qp**4 - 12*p_pair**2*qp**3*r**2 + 8*p_pair**2*qp**3*r + 9*p_pair**2*qp**2*r**2 - 2*p_pair**2*qp**2*r - 2*p_pair**2*qp*r**2 - 4*p_pair*qp**4*r + 2*p_pair*qp**4 - 4*p_pair*qp**3*r**2 + 8*p_pair*qp**3*r - 4*p_pair*qp**3 + 6*p_pair*qp**2*r**2 - 8*p_pair*qp**2*r + p_pair*qp**2 - 4*p_pair*qp*r**2 + 2*p_pair*qp*r + p_pair*r**2 + 2*qp**3*r - qp**3 - qp**2*r + 2*qp**2)/4 + (pmp)*t*(p_pair**4*qp**4*r**2 - p_pair**3*qp**4*r - p_pair**3*qp**3*r**2 + 8*p_pair**2*qp**4*r**2 - 4*p_pair**2*qp**4*r - 12*p_pair**2*qp**3*r**2 + 7*p_pair**2*qp**3*r + 8*p_pair**2*qp**2*r**2 - 2*p_pair**2*qp**2*r - 2*p_pair**2*qp*r**2 - 4*p_pair*qp**4*r + 2*p_pair*qp**4 - 4*p_pair*qp**3*r**2 + 8*p_pair*qp**3*r - 3*p_pair*qp**3 + 6*p_pair*qp**2*r**2 - 7*p_pair*qp**2*r + p_pair*qp**2 - 4*p_pair*qp*r**2 + 2*p_pair*qp*r + p_pair*r**2 + 4*qp**4*r**2 - 4*qp**4*r + qp**4 - 4*qp**3*r**2 + 6*qp**3*r - 2*qp**3 + qp**2*r**2 - 2*qp**2*r + 2*qp**2)/4)"
   ]
  },
  {
   "cell_type": "code",
   "execution_count": 20,
   "metadata": {},
   "outputs": [
    {
     "data": {
      "text/latex": [
       "$\\displaystyle \\frac{(pdm) t \\left(12 p_{pair}^{2} q^{2} rp^{4} - 18 p_{pair}^{2} q^{2} rp^{3} + 14 p_{pair}^{2} q^{2} rp^{2} - 4 p_{pair}^{2} q^{2} rp - 6 p_{pair}^{2} q rp^{4} + 8 p_{pair}^{2} q rp^{3} - 4 p_{pair}^{2} q rp^{2} - 6 p_{pair} q^{2} rp^{3} + 9 p_{pair} q^{2} rp^{2} - 7 p_{pair} q^{2} rp + 2 p_{pair} q^{2} - 6 p_{pair} q rp^{4} + 12 p_{pair} q rp^{3} - 11 p_{pair} q rp^{2} + 4 p_{pair} q rp + 3 p_{pair} rp^{4} - 4 p_{pair} rp^{3} + 2 p_{pair} rp^{2} + 2 q rp^{3} - q rp^{2} - rp^{3} + rp^{2}\\right)}{2}$"
      ],
      "text/plain": [
       "(pdm)*t*(12*p_pair**2*q**2*rp**4 - 18*p_pair**2*q**2*rp**3 + 14*p_pair**2*q**2*rp**2 - 4*p_pair**2*q**2*rp - 6*p_pair**2*q*rp**4 + 8*p_pair**2*q*rp**3 - 4*p_pair**2*q*rp**2 - 6*p_pair*q**2*rp**3 + 9*p_pair*q**2*rp**2 - 7*p_pair*q**2*rp + 2*p_pair*q**2 - 6*p_pair*q*rp**4 + 12*p_pair*q*rp**3 - 11*p_pair*q*rp**2 + 4*p_pair*q*rp + 3*p_pair*rp**4 - 4*p_pair*rp**3 + 2*p_pair*rp**2 + 2*q*rp**3 - q*rp**2 - rp**3 + rp**2)/2"
      ]
     },
     "execution_count": 20,
     "metadata": {},
     "output_type": "execute_result"
    }
   ],
   "source": [
    "sp.simplify((pdm)*t*(12*p_pair**2*q**2*rp**4 - 18*p_pair**2*q**2*rp**3 + 14*p_pair**2*q**2*rp**2 - 4*p_pair**2*q**2*rp - 6*p_pair**2*q*rp**4 + 8*p_pair**2*q*rp**3 - 4*p_pair**2*q*rp**2 - 6*p_pair*q**2*rp**3 + 9*p_pair*q**2*rp**2 - 7*p_pair*q**2*rp + 2*p_pair*q**2 - 6*p_pair*q*rp**4 + 12*p_pair*q*rp**3 - 11*p_pair*q*rp**2 + 4*p_pair*q*rp + 3*p_pair*rp**4 - 4*p_pair*rp**3 + 2*p_pair*rp**2 + 2*q*rp**3 - q*rp**2 - rp**3 + rp**2)/2 )"
   ]
  },
  {
   "cell_type": "markdown",
   "metadata": {
    "collapsed": true
   },
   "source": [
    "Plots of the effect of p_pref for the proximal and middle cases, with the proximal expressions copied from corresponding file."
   ]
  },
  {
   "cell_type": "code",
   "execution_count": 21,
   "metadata": {
    "collapsed": true
   },
   "outputs": [],
   "source": [
    "prox_iijj = (pdm)*t*(rp - 1)**3*(3*rp - 4)/4 + (pmp)*t*(r - 1)*(2*qp**2*r - 2*qp**2 - 2*qp*r + 2*qp + 3*r - 4)/4 + (ppc)*t*(r - 1)*(4*p_pair**4*q**2*r*vp**2 - 4*p_pair**4*q**2*vp**2 - 4*p_pair**3*q**2*r*vp + 4*p_pair**3*q**2*vp - 4*p_pair**3*q*r*vp**2 + 4*p_pair**3*q*vp**2 + 2*p_pair**2*q**2*r - 2*p_pair**2*q**2 + 4*p_pair**2*q*r*vp - 4*p_pair**2*q*vp + 2*p_pair**2*r*vp**2 - 2*p_pair**2*vp**2 - 2*p_pair*q*r + 2*p_pair*q - 2*p_pair*r*vp + 2*p_pair*vp + 3*r - 4)/6 + (ppc)*t*(r - 1)*(8*p_pair**4*q**2*r*vp**2 - 8*p_pair**4*q**2*vp**2 - 8*p_pair**3*q**2*r*vp + 8*p_pair**3*q**2*vp - 8*p_pair**3*q*r*vp**2 + 8*p_pair**3*q*vp**2 + 8*p_pair**2*q*r*vp - 8*p_pair**2*q*vp + 8*q**2*r*vp**2 - 8*q**2*r*vp + 2*q**2*r - 8*q**2*vp**2 + 8*q**2*vp - 2*q**2 - 8*q*r*vp**2 + 8*q*r*vp - 2*q*r + 8*q*vp**2 - 8*q*vp + 2*q + 2*r*vp**2 - 2*r*vp + 3*r - 2*vp**2 + 2*vp - 4)/12 + (r - 1)**2*(-(pdm)*t - (pmp)*t - (ppc)*t + 1)"
   ]
  },
  {
   "cell_type": "code",
   "execution_count": 22,
   "metadata": {
    "collapsed": true
   },
   "outputs": [],
   "source": [
    "prox_ijkl = (pdm)*rp**2*t*(3*rp**2 - 5*rp + 3)/2 + (pmp)*r**2*t/2 + (ppc)*r**2*t/2 + r**2*(-(pdm)*t - (pmp)*t - (ppc)*t + 1)"
   ]
  },
  {
   "cell_type": "code",
   "execution_count": 23,
   "metadata": {
    "collapsed": true
   },
   "outputs": [],
   "source": [
    "middle_iijj = sp.simplify(comb_lst[6][1][2]+comb_lst[21][1][2]+comb_lst[32][1][2])"
   ]
  },
  {
   "cell_type": "code",
   "execution_count": 24,
   "metadata": {
    "collapsed": true
   },
   "outputs": [],
   "source": [
    "middle_ijkl = sp.simplify(comb_lst[10][1][2]+comb_lst[25][1][2]+comb_lst[36][1][2])"
   ]
  },
  {
   "cell_type": "code",
   "execution_count": 29,
   "metadata": {
    "collapsed": true
   },
   "outputs": [],
   "source": [
    "middle_iijj_down = (pdm)*t*(rp - 1)*(3*rp - 4)*(2*q*rp - q - rp + 1)*(2*p_pair*q*rp - p_pair*q - rp + 1)/12 + (pdm)*t*(rp - 1)*(3*rp - 4)*(2*q*rp - q - rp + 1)*(2*p_pair*q*rp - p_pair*q + 2*q*rp - q - 2*rp + 2)/12 + (pmp)*t*(qp - 1)**2*(2*p_pair**2*qp**2*r**2 - 2*p_pair**2*qp**2*r + 8*p_pair*qp**2*r**2 - 8*p_pair*qp**2*r + 2*p_pair*qp**2 - 6*p_pair*qp*r**2 + 8*p_pair*qp*r - 2*p_pair*qp + 6*qp**2*r**2 - 6*qp**2*r + qp**2 - 10*qp*r**2 + 16*qp*r - 5*qp + 3*r**2 - 7*r + 4)/12 + (pmp)*t*(qp - 1)**2*(2*p_pair**2*qp**2*r**2 - 2*p_pair**2*qp**2*r + p_pair**2*qp**2 + 8*p_pair*qp**2*r**2 - 8*p_pair*qp**2*r + 2*p_pair*qp**2 - 6*p_pair*qp*r**2 + 12*p_pair*qp*r - 5*p_pair*qp + 10*qp**2*r**2 - 10*qp**2*r + 3*qp**2 - 14*qp*r**2 + 24*qp*r - 9*qp + 6*r**2 - 14*r + 8)/12 + (ppc)*t*(4*p_pair**4*q**2*r**2*vp**2 - 4*p_pair**4*q**2*r*vp**2 - 4*p_pair**3*q**2*r**2*vp + 4*p_pair**3*q**2*r*vp - 4*p_pair**3*q*r**2*vp**2 + 4*p_pair**3*q*r*vp**2 + 2*p_pair**2*q**2*r**2 - 2*p_pair**2*q**2*r + 4*p_pair**2*q*r**2*vp - 4*p_pair**2*q*r*vp + 8*p_pair*q**2*r**2 - 8*p_pair*q**2*r + 2*p_pair*q**2 - 6*p_pair*q*r**2 + 8*p_pair*q*r - 2*p_pair*q + 12*q**2*r**2*vp**2 - 12*q**2*r**2*vp + 6*q**2*r**2 - 12*q**2*r*vp**2 + 12*q**2*r*vp - 6*q**2*r + 2*q**2*vp**2 - 2*q**2*vp + q**2 - 12*q*r**2*vp**2 + 12*q*r**2*vp - 10*q*r**2 + 16*q*r*vp**2 - 16*q*r*vp + 16*q*r - 4*q*vp**2 + 4*q*vp - 5*q + 2*r**2*vp**2 - 2*r**2*vp + 3*r**2 - 4*r*vp**2 + 4*r*vp - 7*r + 2*vp**2 - 2*vp + 4)/12 + (ppc)*t*(4*p_pair**4*q**2*r**2*vp**2 - 4*p_pair**4*q**2*r*vp**2 + 2*p_pair**4*q**2*vp**2 - 4*p_pair**3*q**2*r**2*vp + 4*p_pair**3*q**2*r*vp - 2*p_pair**3*q**2*vp - 4*p_pair**3*q*r**2*vp**2 + 8*p_pair**3*q*r*vp**2 - 4*p_pair**3*q*vp**2 + 2*p_pair**2*q**2*r**2 - 2*p_pair**2*q**2*r + p_pair**2*q**2 + 4*p_pair**2*q*r**2*vp - 8*p_pair**2*q*r*vp + 4*p_pair**2*q*vp + 2*p_pair**2*r**2*vp**2 - 4*p_pair**2*r*vp**2 + 2*p_pair**2*vp**2 + 8*p_pair*q**2*r**2 - 8*p_pair*q**2*r + 2*p_pair*q**2 - 6*p_pair*q*r**2 + 12*p_pair*q*r - 5*p_pair*q - 2*p_pair*r**2*vp + 4*p_pair*r*vp - 2*p_pair*vp + 4*q**2*r**2*vp**2 - 4*q**2*r**2*vp + 10*q**2*r**2 - 4*q**2*r*vp**2 + 4*q**2*r*vp - 10*q**2*r + 2*q**2*vp**2 - 2*q**2*vp + 3*q**2 - 4*q*r**2*vp**2 + 4*q*r**2*vp - 14*q*r**2 + 8*q*r*vp**2 - 8*q*r*vp + 24*q*r - 4*q*vp**2 + 4*q*vp - 9*q + 2*r**2*vp**2 - 2*r**2*vp + 6*r**2 - 4*r*vp**2 + 4*r*vp - 14*r + 2*vp**2 - 2*vp + 8)/12 - ((pdm)*t + (pmp)*t + (ppc)*t - 1)*(2*q*r - q - r + 1)*(2*p_pair*q*r - p_pair*q - r + 1)/3 - ((pdm)*t + (pmp)*t + (ppc)*t - 1)*(2*q*r - q - r + 1)*(2*p_pair*q*r - p_pair*q + 2*q*r - q - 2*r + 2)/3"
   ]
  },
  {
   "cell_type": "code",
   "execution_count": 30,
   "metadata": {
    "collapsed": true
   },
   "outputs": [],
   "source": [
    "middle_ijkl_down = (pdm)*t*(12*p_pair*q**2*rp**4 - 24*p_pair*q**2*rp**3 + 23*p_pair*q**2*rp**2 - 11*p_pair*q**2*rp + 2*p_pair*q**2 - 6*p_pair*q*rp**4 + 11*p_pair*q*rp**3 - 8*p_pair*q*rp**2 + 2*p_pair*q*rp - 6*q*rp**4 + 11*q*rp**3 - 8*q*rp**2 + 2*q*rp + 3*rp**4 - 5*rp**3 + 3*rp**2)/6 + (pdm)*t*(12*p_pair*q**2*rp**4 - 24*p_pair*q**2*rp**3 + 23*p_pair*q**2*rp**2 - 11*p_pair*q**2*rp + 2*p_pair*q**2 - 6*p_pair*q*rp**4 + 11*p_pair*q*rp**3 - 8*p_pair*q*rp**2 + 2*p_pair*q*rp + 12*q**2*rp**4 - 24*q**2*rp**3 + 23*q**2*rp**2 - 11*q**2*rp + 2*q**2 - 18*q*rp**4 + 33*q*rp**3 - 24*q*rp**2 + 6*q*rp + 6*rp**4 - 10*rp**3 + 6*rp**2)/6 + (pmp)*t*(2*p_pair**2*qp**4*r**2 - 2*p_pair**2*qp**4*r + 8*p_pair*qp**4*r**2 - 8*p_pair*qp**4*r + 2*p_pair*qp**4 - 14*p_pair*qp**3*r**2 + 14*p_pair*qp**3*r - 3*p_pair*qp**3 + 8*p_pair*qp**2*r**2 - 6*p_pair*qp**2*r + p_pair*qp**2 - 2*p_pair*qp*r**2 + p_pair*qp*r + 6*qp**4*r**2 - 6*qp**4*r + qp**4 - 10*qp**3*r**2 + 10*qp**3*r - 2*qp**3 + 7*qp**2*r**2 - 5*qp**2*r + 2*qp**2 - 4*qp*r**2 + qp*r + r**2)/6 + (pmp)*t*(2*p_pair**2*qp**4*r**2 - 2*p_pair**2*qp**4*r + p_pair**2*qp**4 + 8*p_pair*qp**4*r**2 - 8*p_pair*qp**4*r + 2*p_pair*qp**4 - 14*p_pair*qp**3*r**2 + 14*p_pair*qp**3*r - 4*p_pair*qp**3 + 8*p_pair*qp**2*r**2 - 6*p_pair*qp**2*r + p_pair*qp**2 - 2*p_pair*qp*r**2 + p_pair*qp*r + 10*qp**4*r**2 - 10*qp**4*r + 3*qp**4 - 22*qp**3*r**2 + 22*qp**3*r - 6*qp**3 + 22*qp**2*r**2 - 16*qp**2*r + 5*qp**2 - 10*qp*r**2 + 3*qp*r + 2*r**2)/6 + (ppc)*t*(-2*q*r + q + r)*(-2*p_pair*q*r + p_pair*q + r)/6 + (ppc)*t*(-2*q*r + q + r)*(-2*p_pair*q*r + p_pair*q - 2*q*r + q + 2*r)/6 - (-2*q*r + q + r)*(-2*p_pair*q*r + p_pair*q + r)*((pdm)*t + (pmp)*t + (ppc)*t - 1)/3 - (-2*q*r + q + r)*((pdm)*t + (pmp)*t + (ppc)*t - 1)*(-2*p_pair*q*r + p_pair*q - 2*q*r + q + 2*r)/3"
   ]
  },
  {
   "cell_type": "code",
   "execution_count": 31,
   "metadata": {
    "collapsed": true
   },
   "outputs": [],
   "source": [
    "prox_iijj_down = (pdm)*t*(rp - 1)**3*(3*rp - 4)/4 + (pmp)*t*(r - 1)*(2*qp**2*r - 2*qp**2 - 2*qp*r + 2*qp + 3*r - 4)/4 + (ppc)*t*(r - 1)*(4*p_pair**2*q**2*r*vp**2 - 4*p_pair**2*q**2*vp**2 - 4*p_pair**2*q*r*vp**2 + 4*p_pair**2*q*vp**2 - 4*p_pair*q**2*r*vp + 4*p_pair*q**2*vp + 4*p_pair*q*r*vp - 4*p_pair*q*vp + 12*q**2*r*vp**2 - 12*q**2*r*vp + 2*q**2*r - 12*q**2*vp**2 + 12*q**2*vp - 2*q**2 - 12*q*r*vp**2 + 12*q*r*vp - 2*q*r + 12*q*vp**2 - 12*q*vp + 2*q + 2*r*vp**2 - 2*r*vp + 3*r - 2*vp**2 + 2*vp - 4)/12 + (ppc)*t*(r - 1)*(2*p_pair**2*q**2*r*vp**2 - 2*p_pair**2*q**2*vp**2 - 2*p_pair**2*q*r*vp**2 + 2*p_pair**2*q*vp**2 + p_pair**2*r*vp**2 - p_pair**2*vp**2 - 2*p_pair*q**2*r*vp + 2*p_pair*q**2*vp + 2*p_pair*q*r*vp - 2*p_pair*q*vp - p_pair*r*vp + p_pair*vp + 2*q**2*r*vp**2 - 2*q**2*r*vp + 2*q**2*r - 2*q**2*vp**2 + 2*q**2*vp - 2*q**2 - 2*q*r*vp**2 + 2*q*r*vp - 2*q*r + 2*q*vp**2 - 2*q*vp + 2*q + r*vp**2 - r*vp + 3*r - vp**2 + vp - 4)/6 + (r - 1)**2*(-(pdm)*t - (pmp)*t - (ppc)*t + 1)"
   ]
  },
  {
   "cell_type": "code",
   "execution_count": 32,
   "metadata": {
    "collapsed": true
   },
   "outputs": [],
   "source": [
    "prox_ijkl_down = (pdm)*rp**2*t*(3*rp**2 - 5*rp + 3)/2 + (pmp)*r**2*t/2 + (ppc)*r**2*t/2 + r**2*(-(pdm)*t - (pmp)*t - (ppc)*t + 1)"
   ]
  },
  {
   "cell_type": "code",
   "execution_count": 40,
   "metadata": {
    "scrolled": true
   },
   "outputs": [
    {
     "data": {
      "image/png": "[encoded data removed]",
      "text/plain": [
       "<Figure size 432x288 with 1 Axes>"
      ]
     },
     "metadata": {
      "needs_background": "light"
     },
     "output_type": "display_data"
    }
   ],
   "source": [
    "x = np.linspace(0,1, 10)\n",
    "y_prox_iijj = [prox_iijj.subs(rp,(1 - (1 - 2 * r)**(1/2))/2)\\\n",
    "                                                           .subs(qp,(1 - (1 - 2 * q)**(1/2))/2)\\\n",
    "                                                           .subs(vp,(1 - (1 - 2 * v)**(1/2))/2)\\\n",
    "                                                            .subs(r,1/2).subs(q,1/2).subs(v,1/2)\\\n",
    "                                                            .subs(t,2/3)\\\n",
    "                                                            .subs(ppc,1/4).subs(pmp,1/4).subs(pdm,1/4)\\\n",
    "                                                            .subs(p_pair,1 - item) for item in x]\n",
    "y_prox_ijkl = [prox_ijkl.subs(rp,(1 - (1 - 2 * r)**(1/2))/2)\\\n",
    "                                                           .subs(qp,(1 - (1 - 2 * q)**(1/2))/2)\\\n",
    "                                                           .subs(vp,(1 - (1 - 2 * v)**(1/2))/2)\\\n",
    "                                                            .subs(r,1/2).subs(q,1/2).subs(v,1/2)\\\n",
    "                                                            .subs(t,2/3)\\\n",
    "                                                            .subs(ppc,1/4).subs(pmp,1/4).subs(pdm,1/4)\\\n",
    "                                                            .subs(p_pair,1 - item) for item in x]\n",
    "y_middle_iijj = [middle_iijj.subs(rp,(1 - (1 - 2 * r)**(1/2))/2)\\\n",
    "                                                           .subs(qp,(1 - (1 - 2 * q)**(1/2))/2)\\\n",
    "                                                           .subs(vp,(1 - (1 - 2 * v)**(1/2))/2)\\\n",
    "                                                            .subs(r,1/2).subs(q,1/2).subs(v,1/2)\\\n",
    "                                                            .subs(t,2/3)\\\n",
    "                                                            .subs(ppc,1/4).subs(pmp,1/4).subs(pdm,1/4)\\\n",
    "                                                            .subs(p_pair,1 - item) for item in x]\n",
    "y_middle_ijkl = [middle_ijkl.subs(rp,(1 - (1 - 2 * r)**(1/2))/2)\\\n",
    "                                                           .subs(qp,(1 - (1 - 2 * q)**(1/2))/2)\\\n",
    "                                                           .subs(vp,(1 - (1 - 2 * v)**(1/2))/2)\\\n",
    "                                                            .subs(r,1/2).subs(q,1/2).subs(v,1/2)\\\n",
    "                                                            .subs(t,2/3)\\\n",
    "                                                            .subs(ppc,1/4).subs(pmp,1/4).subs(pdm,1/4)\\\n",
    "                                                            .subs(p_pair,1 - item) for item in x]\n",
    "\n",
    "y_prox_iijj_down = [prox_iijj_down.subs(rp,(1 - (1 - 2 * r)**(1/2))/2)\\\n",
    "                                                           .subs(qp,(1 - (1 - 2 * q)**(1/2))/2)\\\n",
    "                                                           .subs(vp,(1 - (1 - 2 * v)**(1/2))/2)\\\n",
    "                                                            .subs(r,1/2).subs(q,1/2).subs(v,1/2)\\\n",
    "                                                            .subs(t,2/3)\\\n",
    "                                                            .subs(ppc,1/4).subs(pmp,1/4).subs(pdm,1/4)\\\n",
    "                                                            .subs(p_pair,1 - item) for item in x]\n",
    "y_prox_ijkl_down = [prox_ijkl_down.subs(rp,(1 - (1 - 2 * r)**(1/2))/2)\\\n",
    "                                                           .subs(qp,(1 - (1 - 2 * q)**(1/2))/2)\\\n",
    "                                                           .subs(vp,(1 - (1 - 2 * v)**(1/2))/2)\\\n",
    "                                                            .subs(r,1/2).subs(q,1/2).subs(v,1/2)\\\n",
    "                                                            .subs(t,2/3)\\\n",
    "                                                            .subs(ppc,1/4).subs(pmp,1/4).subs(pdm,1/4)\\\n",
    "                                                            .subs(p_pair,1 - item) for item in x]\n",
    "y_middle_iijj_down = [middle_iijj_down.subs(rp,(1 - (1 - 2 * r)**(1/2))/2)\\\n",
    "                                                           .subs(qp,(1 - (1 - 2 * q)**(1/2))/2)\\\n",
    "                                                           .subs(vp,(1 - (1 - 2 * v)**(1/2))/2)\\\n",
    "                                                            .subs(r,1/2).subs(q,1/2).subs(v,1/2)\\\n",
    "                                                            .subs(t,2/3)\\\n",
    "                                                            .subs(ppc,1/4).subs(pmp,1/4).subs(pdm,1/4)\\\n",
    "                                                            .subs(p_pair,1 - item) for item in x]\n",
    "y_middle_ijkl_down = [middle_ijkl_down.subs(rp,(1 - (1 - 2 * r)**(1/2))/2)\\\n",
    "                                                           .subs(qp,(1 - (1 - 2 * q)**(1/2))/2)\\\n",
    "                                                           .subs(vp,(1 - (1 - 2 * v)**(1/2))/2)\\\n",
    "                                                            .subs(r,1/2).subs(q,1/2).subs(v,1/2)\\\n",
    "                                                            .subs(t,2/3)\\\n",
    "                                                            .subs(ppc,1/4).subs(pmp,1/4).subs(pdm,1/4)\\\n",
    "                                                            .subs(p_pair,1 - item) for item in x]\n",
    "\n",
    "\n",
    "plt.plot(x, y_prox_iijj,'k-')\n",
    "plt.plot(x, y_prox_ijkl,'k-')\n",
    "plt.plot(x, y_middle_iijj,'k--')\n",
    "plt.plot(x, y_middle_ijkl,'k--')\n",
    "\n",
    "plt.plot(x, y_prox_iijj_down,'k-.')\n",
    "plt.plot(x, y_prox_ijkl_down,'k-.')\n",
    "plt.plot(x, y_middle_iijj_down,dashes=[5, 2, 10, 2],color='k')\n",
    "plt.plot(x, y_middle_ijkl_down,dashes=[5, 2, 10, 2],color='k')\n",
    "\n",
    "plt.show()"
   ]
  },
  {
   "cell_type": "code",
   "execution_count": 41,
   "metadata": {},
   "outputs": [
    {
     "data": {
      "image/png": "[encoded data removed]",
      "text/plain": [
       "<Figure size 432x288 with 1 Axes>"
      ]
     },
     "metadata": {
      "needs_background": "light"
     },
     "output_type": "display_data"
    }
   ],
   "source": [
    "x = np.linspace(0,1, 10)\n",
    "y_prox_iijj = [prox_iijj.subs(rp,(1 - (1 - 2 * r)**(1/2))/2)\\\n",
    "                                                           .subs(qp,(1 - (1 - 2 * q)**(1/2))/2)\\\n",
    "                                                           .subs(vp,(1 - (1 - 2 * v)**(1/2))/2)\\\n",
    "                                                            .subs(r,1/2).subs(q,1/2).subs(v,1/2)\\\n",
    "                                                            .subs(t,2/3)\\\n",
    "                                                            .subs(ppc,1/4).subs(pmp,1/4).subs(pdm,1/4)\\\n",
    "                                                            .subs(p_pair,1 - item) for item in x]\n",
    "y_prox_ijkl = [prox_ijkl.subs(rp,(1 - (1 - 2 * r)**(1/2))/2)\\\n",
    "                                                           .subs(qp,(1 - (1 - 2 * q)**(1/2))/2)\\\n",
    "                                                           .subs(vp,(1 - (1 - 2 * v)**(1/2))/2)\\\n",
    "                                                            .subs(r,1/2).subs(q,1/2).subs(v,1/2)\\\n",
    "                                                            .subs(t,2/3)\\\n",
    "                                                            .subs(ppc,1/4).subs(pmp,1/4).subs(pdm,1/4)\\\n",
    "                                                            .subs(p_pair,1 - item) for item in x]\n",
    "y_middle_iijj = [middle_iijj.subs(rp,(1 - (1 - 2 * r)**(1/2))/2)\\\n",
    "                                                           .subs(qp,(1 - (1 - 2 * q)**(1/2))/2)\\\n",
    "                                                           .subs(vp,(1 - (1 - 2 * v)**(1/2))/2)\\\n",
    "                                                            .subs(r,1/2).subs(q,1/2).subs(v,1/2)\\\n",
    "                                                            .subs(t,2/3)\\\n",
    "                                                            .subs(ppc,1/4).subs(pmp,1/4).subs(pdm,1/4)\\\n",
    "                                                            .subs(p_pair,1 - item) for item in x]\n",
    "y_middle_ijkl = [middle_ijkl.subs(rp,(1 - (1 - 2 * r)**(1/2))/2)\\\n",
    "                                                           .subs(qp,(1 - (1 - 2 * q)**(1/2))/2)\\\n",
    "                                                           .subs(vp,(1 - (1 - 2 * v)**(1/2))/2)\\\n",
    "                                                            .subs(r,1/2).subs(q,1/2).subs(v,1/2)\\\n",
    "                                                            .subs(t,2/3)\\\n",
    "                                                            .subs(ppc,1/4).subs(pmp,1/4).subs(pdm,1/4)\\\n",
    "                                                            .subs(p_pair,1 - item) for item in x]\n",
    "\n",
    "y_prox_iijj_down = [prox_iijj_down.subs(rp,(1 - (1 - 2 * r)**(1/2))/2)\\\n",
    "                                                           .subs(qp,(1 - (1 - 2 * q)**(1/2))/2)\\\n",
    "                                                           .subs(vp,(1 - (1 - 2 * v)**(1/2))/2)\\\n",
    "                                                            .subs(r,1/2).subs(q,1/2).subs(v,1/2)\\\n",
    "                                                            .subs(t,2/3)\\\n",
    "                                                            .subs(ppc,1/4).subs(pmp,1/4).subs(pdm,1/4)\\\n",
    "                                                            .subs(p_pair,1 - item) for item in x]\n",
    "y_prox_ijkl_down = [prox_ijkl_down.subs(rp,(1 - (1 - 2 * r)**(1/2))/2)\\\n",
    "                                                           .subs(qp,(1 - (1 - 2 * q)**(1/2))/2)\\\n",
    "                                                           .subs(vp,(1 - (1 - 2 * v)**(1/2))/2)\\\n",
    "                                                            .subs(r,1/2).subs(q,1/2).subs(v,1/2)\\\n",
    "                                                            .subs(t,2/3)\\\n",
    "                                                            .subs(ppc,1/4).subs(pmp,1/4).subs(pdm,1/4)\\\n",
    "                                                            .subs(p_pair,1 - item) for item in x]\n",
    "y_middle_iijj_down = [middle_iijj_down.subs(rp,(1 - (1 - 2 * r)**(1/2))/2)\\\n",
    "                                                           .subs(qp,(1 - (1 - 2 * q)**(1/2))/2)\\\n",
    "                                                           .subs(vp,(1 - (1 - 2 * v)**(1/2))/2)\\\n",
    "                                                            .subs(r,1/2).subs(q,1/2).subs(v,1/2)\\\n",
    "                                                            .subs(t,2/3)\\\n",
    "                                                            .subs(ppc,1/4).subs(pmp,1/4).subs(pdm,1/4)\\\n",
    "                                                            .subs(p_pair,1 - item) for item in x]\n",
    "y_middle_ijkl_down = [middle_ijkl_down.subs(rp,(1 - (1 - 2 * r)**(1/2))/2)\\\n",
    "                                                           .subs(qp,(1 - (1 - 2 * q)**(1/2))/2)\\\n",
    "                                                           .subs(vp,(1 - (1 - 2 * v)**(1/2))/2)\\\n",
    "                                                            .subs(r,1/2).subs(q,1/2).subs(v,1/2)\\\n",
    "                                                            .subs(t,2/3)\\\n",
    "                                                            .subs(ppc,1/4).subs(pmp,1/4).subs(pdm,1/4)\\\n",
    "                                                            .subs(p_pair,1 - item) for item in x]\n",
    "\n",
    "\n",
    "plt.plot(x, y_prox_iijj,'k-')\n",
    "plt.plot(x, y_prox_ijkl,'k-')\n",
    "plt.plot(x, y_middle_iijj,'k--')\n",
    "plt.plot(x, y_middle_ijkl,'k--')\n",
    "\n",
    "plt.plot(x, y_prox_iijj_down,'k-.')\n",
    "plt.plot(x, y_prox_ijkl_down,'k-.')\n",
    "plt.plot(x, y_middle_iijj_down,dashes=[5, 2, 10, 2],color='k')\n",
    "plt.plot(x, y_middle_ijkl_down,dashes=[5, 2, 10, 2],color='k')\n",
    "#plt.show()\n",
    "plt.savefig('ppref_effect_mid_prox.tiff',format='tiff',dpi=600)"
   ]
  },
  {
   "cell_type": "code",
   "execution_count": null,
   "metadata": {
    "collapsed": true
   },
   "outputs": [],
   "source": []
  }
 ],
 "metadata": {
  "kernelspec": {
   "display_name": "Python 3",
   "language": "python",
   "name": "python3"
  },
  "language_info": {
   "codemirror_mode": {
    "name": "ipython",
    "version": 3
   },
   "file_extension": ".py",
   "mimetype": "text/x-python",
   "name": "python",
   "nbconvert_exporter": "python",
   "pygments_lexer": "ipython3",
   "version": "3.6.1"
  }
 },
 "nbformat": 4,
 "nbformat_minor": 2
}
