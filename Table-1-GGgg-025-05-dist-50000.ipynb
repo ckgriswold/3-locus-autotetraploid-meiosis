{
 "cells": [
  {
   "cell_type": "code",
   "execution_count": 1,
   "metadata": {},
   "outputs": [],
   "source": [
    "import numpy as np, pandas as pd\n",
    "from matplotlib import pyplot as plt\n",
    "from scipy.optimize import minimize\n",
    "import scipy.stats as stats\n",
    "import sympy as sp\n",
    "import itertools\n",
    "from itertools import permutations \n",
    "from itertools import chain\n",
    "from itertools import product\n",
    "import math as m\n",
    "from joblib import Parallel, delayed\n",
    "import multiprocessing"
   ]
  },
  {
   "cell_type": "code",
   "execution_count": 2,
   "metadata": {},
   "outputs": [],
   "source": [
    "p = sp.symbols('p')\n",
    "\n",
    "trans_matrix = []\n",
    "with open('trans_matrix_pref_distal.txt','r') as data_file: \n",
    "    for i in data_file: \n",
    "        trans_matrix.append(eval(i))\n",
    "data_file.close()"
   ]
  },
  {
   "cell_type": "code",
   "execution_count": 3,
   "metadata": {},
   "outputs": [],
   "source": [
    "A1,A2,B1,B2= sp.symbols('A1,A2,B1,B2') \n",
    "G,g = sp.symbols('G,g')"
   ]
  },
  {
   "cell_type": "code",
   "execution_count": 4,
   "metadata": {},
   "outputs": [],
   "source": [
    "geno = [[[i11,i12,i13],[i21,i22,i23],[i31,i32,i33],[i41,i42,i43]] \\\n",
    "                                                         for i11 in [A1,A2] for i12 in [B1,B2] for i13 in [G,g] \\\n",
    "                                                        for i21 in [A1,A2] for i22 in [B1,B2] for i23 in [G,g] \\\n",
    "                                                        for i31 in [A1,A2] for i32 in [B1,B2] for i33 in [G,g] \\\n",
    "                                                        for i41 in [A1,A2] for i42 in [B1,B2] for i43 in [G,g]]"
   ]
  },
  {
   "cell_type": "code",
   "execution_count": 5,
   "metadata": {},
   "outputs": [],
   "source": [
    "u_geno = [geno[0]]\n",
    "for item in geno:\n",
    "    flag = 0\n",
    "    for perm in itertools.permutations(item):\n",
    "        if list(perm) in u_geno: \n",
    "            flag = 1\n",
    "    if flag == 0:\n",
    "        u_geno.append(item)"
   ]
  },
  {
   "cell_type": "code",
   "execution_count": 6,
   "metadata": {},
   "outputs": [],
   "source": [
    "gam = [[[i11,i12,i13],[i21,i22,i23]] \\\n",
    "                                                         for i11 in [A1,A2] for i12 in [B1,B2] for i13 in [G,g] \\\n",
    "                                                        for i21 in [A1,A2] for i22 in [B1,B2] for i23 in [G,g]]"
   ]
  },
  {
   "cell_type": "code",
   "execution_count": 7,
   "metadata": {},
   "outputs": [],
   "source": [
    "u_gam = [gam[0]]\n",
    "for item in gam:\n",
    "    flag = 0\n",
    "    for perm in itertools.permutations(item):\n",
    "        if list(perm) in u_gam: \n",
    "            flag = 1\n",
    "    if flag == 0:\n",
    "        u_gam.append(item)"
   ]
  },
  {
   "cell_type": "code",
   "execution_count": 8,
   "metadata": {},
   "outputs": [],
   "source": [
    "import sympy as sp \n",
    "   \n",
    "r= sp.symbols('r')\n",
    "q=sp.symbols('q')\n",
    "v=sp.symbols('v')\n",
    "vp=sp.symbols('vp')\n",
    "rp=sp.symbols('rp')\n",
    "qp=sp.symbols('qp')\n",
    "t=sp.symbols('t')\n",
    "(ppc)=sp.symbols('(ppc)')\n",
    "(pdm)=sp.symbols('(pdm)')\n",
    "(pmp)=sp.symbols('(pmp)')\n",
    "\n",
    "p_pair = sp.symbols('p_pair')"
   ]
  },
  {
   "cell_type": "code",
   "execution_count": 9,
   "metadata": {},
   "outputs": [],
   "source": [
    "modes = [[['i_m', 'i_m', G], ['i_m', 'i_m', G]],\n",
    " [['i_m', 'j_m', G], ['i_m', 'j_m', G]],\n",
    " [['i_m', 'i_m', G], ['i_m', 'j_m', G]],\n",
    " [['i_m', 'j_m', G], ['i_m', 'k_m', G]],\n",
    " [['i_m', 'i_m', G], ['j_m', 'i_m', G]],\n",
    " [['i_m', 'j_m', G], ['k_m', 'j_m', G]],\n",
    " [['i_m', 'i_m', G], ['j_m', 'j_m', G]],\n",
    " [['i_m', 'i_m', G], ['j_m', 'k_m', G]],\n",
    " [['i_m', 'j_m', G], ['j_m', 'i_m', G]],\n",
    " [['i_m', 'j_m', G], ['j_m', 'k_m', G]],\n",
    " [['i_m', 'j_m', G], ['k_m', 'l_m', G]],\n",
    " [['i_m', 'i_m', G], ['i_m', 'j_m', g]],\n",
    " [['i_m', 'i_m', G], ['j_m', 'i_m', g]],\n",
    " [['i_m', 'i_m', G], ['j_m', 'k_m', g]],\n",
    " [['i_m', 'j_m', G], ['j_m', 'k_m', g]],\n",
    " [['i_m', 'i_m', g], ['i_m', 'i_m', G]],\n",
    " [['i_m', 'j_m', g], ['i_m', 'j_m', G]],\n",
    " [['i_m', 'i_m', g], ['i_m', 'j_m', G]],\n",
    " [['i_m', 'j_m', g], ['i_m', 'k_m', G]],\n",
    " [['i_m', 'i_m', g], ['j_m', 'i_m', G]],\n",
    " [['i_m', 'j_m', g], ['k_m', 'j_m', G]],\n",
    " [['i_m', 'i_m', g], ['j_m', 'j_m', G]],\n",
    " [['i_m', 'i_m', g], ['j_m', 'k_m', G]],\n",
    " [['i_m', 'j_m', g], ['j_m', 'i_m', G]],\n",
    " [['i_m', 'j_m', g], ['j_m', 'k_m', G]],\n",
    " [['i_m', 'j_m', g], ['k_m', 'l_m', G]],\n",
    " [['i_m', 'i_m', g], ['i_m', 'i_m', g]],\n",
    " [['i_m', 'j_m', g], ['i_m', 'j_m', g]],\n",
    " [['i_m', 'i_m', g], ['i_m', 'j_m', g]],\n",
    " [['i_m', 'j_m', g], ['i_m', 'k_m', g]],\n",
    " [['i_m', 'i_m', g], ['j_m', 'i_m', g]],\n",
    " [['i_m', 'j_m', g], ['k_m', 'j_m', g]],\n",
    " [['i_m', 'i_m', g], ['j_m', 'j_m', g]],\n",
    " [['i_m', 'i_m', g], ['j_m', 'k_m', g]],\n",
    " [['i_m', 'j_m', g], ['j_m', 'i_m', g]],\n",
    " [['i_m', 'j_m', g], ['j_m', 'k_m', g]],\n",
    " [['i_m', 'j_m', g], ['k_m', 'l_m', g]]]\n"
   ]
  },
  {
   "cell_type": "code",
   "execution_count": 10,
   "metadata": {},
   "outputs": [],
   "source": [
    "mode_prob = [[0,\n",
    "  [-(ppc)*t*vp*(q - 1)**2*(vp - 1)/2,\n",
    "   (ppc)*t*vp*(-2*p_pair**6*q**2*r**2*vp + 2*p_pair**5*q**2*r**2 + 2*p_pair**5*q**2*r*vp + 4*p_pair**5*q*r**2*vp - 2*p_pair**4*q**2*r - p_pair**4*q**2*vp - 4*p_pair**4*q*r**2 - 4*p_pair**4*q*r*vp - 2*p_pair**4*r**2*vp + p_pair**3*q**2 + 4*p_pair**3*q*r + 2*p_pair**3*q*vp + 2*p_pair**3*r**2 + 2*p_pair**3*r*vp - 2*p_pair**2*q - 2*p_pair**2*r - p_pair**2*vp + p_pair - 2*q**2*vp + 2*q**2 + 4*q*vp - 4*q - 2*vp + 2)/8,\n",
    "   (ppc)*t*vp*(-4*p_pair**6*q**2*r**2*vp + 4*p_pair**5*q**2*r**2 + 4*p_pair**5*q**2*r*vp + 8*p_pair**5*q*r**2*vp - 4*p_pair**4*q**2*r - 2*p_pair**4*q**2*vp - 8*p_pair**4*q*r**2 - 8*p_pair**4*q*r*vp - 4*p_pair**4*r**2*vp + 2*p_pair**3*q**2 + 8*p_pair**3*q*r + 4*p_pair**3*q*vp + 4*p_pair**3*r**2 + 4*p_pair**3*r*vp - 4*p_pair**2*q - 4*p_pair**2*r - 2*p_pair**2*vp + 2*p_pair - q**2*vp + q**2 + 2*q*vp - 2*q - vp + 1)/12,\n",
    "   (ppc)*t*vp*(-p_pair**4*q**2*vp + p_pair**3*q**2 + 2*p_pair**3*q*vp - 2*p_pair**2*q - p_pair**2*vp + p_pair - 2*q**2*vp + 2*q**2 + 4*q*vp - 4*q - 2*vp + 2)/8]],\n",
    " [1,\n",
    "  [(ppc)*q**2*t*vp*(-vp + 1)/2,\n",
    "   (ppc)*q**2*t*vp*(-2*p_pair**6*r**2*vp + 2*p_pair**5*r**2 + 2*p_pair**5*r*vp - 2*p_pair**4*r - p_pair**4*vp + p_pair**3 - 2*vp + 2)/8,\n",
    "   (ppc)*q**2*t*vp*(-4*p_pair**6*r**2*vp + 4*p_pair**5*r**2 + 4*p_pair**5*r*vp - 4*p_pair**4*r - 2*p_pair**4*vp + 2*p_pair**3 - vp + 1)/12,\n",
    "   (ppc)*q**2*t*vp*(-p_pair**4*vp + p_pair**3 - 2*vp + 2)/8]],\n",
    " [2,\n",
    "  [(ppc)*q*t*vp*(q - 1)*(vp - 1),\n",
    "   (ppc)*q*t*vp*(-p_pair**6*q*r**2*vp + p_pair**5*q*r**2 + p_pair**5*q*r*vp + p_pair**5*r**2*vp - p_pair**4*q*r - p_pair**4*r**2 - p_pair**4*r*vp + p_pair**3*r + q*vp - q - vp + 1)/2,\n",
    "   (ppc)*q*t*vp*(-4*p_pair**6*q*r**2*vp + 4*p_pair**5*q*r**2 + 4*p_pair**5*q*r*vp + 4*p_pair**5*r**2*vp - 4*p_pair**4*q*r - 4*p_pair**4*r**2 - 4*p_pair**4*r*vp + 4*p_pair**3*r + q*vp - q - vp + 1)/6,\n",
    "   (ppc)*q*t*vp*(p_pair**4*q*vp - p_pair**3*q - p_pair**3*vp + p_pair**2 + 2*q*vp - 2*q - 2*vp + 2)/4]],\n",
    " [3, [0, 0, 0, 0]],\n",
    " [4,\n",
    "  [t*((pmp)*qp*(qp - 1)**2 - (ppc)*q*(q - 1)*(2*vp**2 - 2*vp + 1))/2,\n",
    "   t*((pmp)*qp*(qp - 1)*(2*p_pair**4*qp*r**2 - 2*p_pair**3*qp*r - 2*p_pair**3*r**2 + p_pair**2*qp + 2*p_pair**2*r - p_pair + 2*qp - 2) - (ppc)*q*(4*p_pair**6*q*r**2*vp**2 - 4*p_pair**5*q*r**2*vp - 4*p_pair**5*q*r*vp**2 - 4*p_pair**5*r**2*vp**2 + 2*p_pair**4*q*r**2 + 4*p_pair**4*q*r*vp + 2*p_pair**4*q*vp**2 + 4*p_pair**4*r**2*vp + 4*p_pair**4*r*vp**2 - 2*p_pair**3*q*r - 2*p_pair**3*q*vp - 2*p_pair**3*r**2 - 4*p_pair**3*r*vp - 2*p_pair**3*vp**2 + p_pair**2*q + 2*p_pair**2*r + 2*p_pair**2*vp - p_pair + 4*q*vp**2 - 4*q*vp + 2*q - 4*vp**2 + 4*vp - 2))/8,\n",
    "   t*((pmp)*qp*(qp - 1)*(4*p_pair**4*qp*r**2 - 4*p_pair**3*qp*r - 4*p_pair**3*r**2 + 2*p_pair**2*qp + 4*p_pair**2*r - 2*p_pair + qp - 1) - (ppc)*q*(8*p_pair**6*q*r**2*vp**2 - 8*p_pair**5*q*r**2*vp - 8*p_pair**5*q*r*vp**2 - 8*p_pair**5*r**2*vp**2 + 4*p_pair**4*q*r**2 + 8*p_pair**4*q*r*vp + 4*p_pair**4*q*vp**2 + 8*p_pair**4*r**2*vp + 8*p_pair**4*r*vp**2 - 4*p_pair**3*q*r - 4*p_pair**3*q*vp - 4*p_pair**3*r**2 - 8*p_pair**3*r*vp - 4*p_pair**3*vp**2 + 2*p_pair**2*q + 4*p_pair**2*r + 4*p_pair**2*vp - 2*p_pair + 2*q*vp**2 - 2*q*vp + q - 2*vp**2 + 2*vp - 1))/12,\n",
    "   t*((pmp)*qp*(qp - 1)*(p_pair**2*qp - p_pair + 2*qp - 2) - (ppc)*q*(2*p_pair**4*q*vp**2 - 2*p_pair**3*q*vp - 2*p_pair**3*vp**2 + p_pair**2*q + 2*p_pair**2*vp - p_pair + 4*q*vp**2 - 4*q*vp + 2*q - 4*vp**2 + 4*vp - 2))/8]],\n",
    " [5,\n",
    "  [(pmp)*qp**2*t*(-qp + 1)/2,\n",
    "   (pmp)*qp**2*t*(-2*p_pair**4*qp*r**2 + 2*p_pair**3*qp*r + 2*p_pair**3*r**2 - p_pair**2*qp - 2*p_pair**2*r + p_pair - 2*qp + 2)/8,\n",
    "   (pmp)*qp**2*t*(-4*p_pair**4*qp*r**2 + 4*p_pair**3*qp*r + 4*p_pair**3*r**2 - 2*p_pair**2*qp - 4*p_pair**2*r + 2*p_pair - qp + 1)/12,\n",
    "   (pmp)*qp**2*t*(-p_pair**2*qp + p_pair - 2*qp + 2)/8]],\n",
    " [6,\n",
    "  [(pdm)*t*(q - 1)**2 + (pmp)*t*(qp - 1)**3*(3*qp - 4)/4 + (ppc)*t*(q - 1)*(2*q*vp**2 - 2*q*vp + 3*q - 2*vp**2 + 2*vp - 4)/4 + (q - 1)**2*(-(pdm)*t - (pmp)*t - (ppc)*t + 1),\n",
    "   (pdm)*t*(q - 1)**2*(-p_pair**2*rp**2 + p_pair*rp + 4)/8 + (pmp)*t*(qp - 1)**2*(-p_pair**4*qp**2*r**2 + p_pair**3*qp**2*r + 2*p_pair**3*qp*r**2 - 2*p_pair**2*qp*r - p_pair**2*r**2 + 2*p_pair*qp**2 - 2*p_pair*qp + p_pair*r + qp**2 - 5*qp + 4)/8 + (ppc)*t*(-2*p_pair**6*q**2*r**2*vp**2 + 2*p_pair**5*q**2*r**2*vp + 2*p_pair**5*q**2*r*vp**2 + 4*p_pair**5*q*r**2*vp**2 - p_pair**4*q**2*r**2 - 2*p_pair**4*q**2*r*vp - 4*p_pair**4*q*r**2*vp - 4*p_pair**4*q*r*vp**2 - 2*p_pair**4*r**2*vp**2 + p_pair**3*q**2*r + 2*p_pair**3*q*r**2 + 4*p_pair**3*q*r*vp + 2*p_pair**3*r**2*vp + 2*p_pair**3*r*vp**2 - 2*p_pair**2*q*r - p_pair**2*r**2 - 2*p_pair**2*r*vp + 2*p_pair*q**2 - 2*p_pair*q + p_pair*r + 2*q**2*vp**2 - 2*q**2*vp + q**2 - 4*q*vp**2 + 4*q*vp - 5*q + 2*vp**2 - 2*vp + 4)/8 - (q - 1)*(p_pair*q - 1)*((pdm)*t + (pmp)*t + (ppc)*t - 1)/2,\n",
    "   (pdm)*t*(q - 1)**2*(-p_pair**2*rp**2 + p_pair*rp + 1)/6 + (pmp)*t*(qp - 1)**2*(-4*p_pair**4*qp**2*r**2 + 4*p_pair**3*qp**2*r + 8*p_pair**3*qp*r**2 + 2*p_pair**2*qp**2 - 8*p_pair**2*qp*r - 4*p_pair**2*r**2 - 4*p_pair*qp + 4*p_pair*r + qp**2 - 3*qp + 4)/24 + (ppc)*t*(-8*p_pair**6*q**2*r**2*vp**2 + 8*p_pair**5*q**2*r**2*vp + 8*p_pair**5*q**2*r*vp**2 + 16*p_pair**5*q*r**2*vp**2 - 4*p_pair**4*q**2*r**2 - 8*p_pair**4*q**2*r*vp - 16*p_pair**4*q*r**2*vp - 16*p_pair**4*q*r*vp**2 - 8*p_pair**4*r**2*vp**2 + 4*p_pair**3*q**2*r + 8*p_pair**3*q*r**2 + 16*p_pair**3*q*r*vp + 8*p_pair**3*r**2*vp + 8*p_pair**3*r*vp**2 + 2*p_pair**2*q**2 - 8*p_pair**2*q*r - 4*p_pair**2*r**2 - 8*p_pair**2*r*vp - 4*p_pair*q + 4*p_pair*r + 2*q**2*vp**2 - 2*q**2*vp + q**2 - 4*q*vp**2 + 4*q*vp - 3*q + 2*vp**2 - 2*vp + 4)/24 + (p_pair*q - 1)**2*(-(pdm)*t - (pmp)*t - (ppc)*t + 1)/6,\n",
    "   3*(pdm)*t*(q - 1)**2/4 + (pmp)*t*(qp - 1)**2*(p_pair**2*qp**2 + 6*p_pair*qp**2 - 9*p_pair*qp + 2*qp**2 - 12*qp + 12)/16 + (ppc)*t*(2*p_pair**4*q**2*vp**2 - 2*p_pair**3*q**2*vp - 4*p_pair**3*q*vp**2 + p_pair**2*q**2 + 4*p_pair**2*q*vp + 2*p_pair**2*vp**2 + 6*p_pair*q**2 - 9*p_pair*q - 2*p_pair*vp + 4*q**2*vp**2 - 4*q**2*vp + 2*q**2 - 8*q*vp**2 + 8*q*vp - 12*q + 4*vp**2 - 4*vp + 12)/16 - 3*(q - 1)*(p_pair*q - 1)*((pdm)*t + (pmp)*t + (ppc)*t - 1)/4]],\n",
    " [7,\n",
    "  [-2*(pdm)*q*t*(q - 1) - 3*(pmp)*qp*t*(qp - 2)*(qp - 1)**2/2 - (ppc)*q*t*(q - 1) + 2*q*(q - 1)*((pdm)*t + (pmp)*t + (ppc)*t - 1),\n",
    "   -(pdm)*q*t*(q - 1)*(-p_pair**2*rp**2 + p_pair*rp + 4)/4 - (pmp)*qp*t*(qp - 1)*(-p_pair**4*qp**2*r**2 + p_pair**3*qp**2*r + 2*p_pair**3*qp*r**2 - 2*p_pair**2*qp*r - p_pair**2*r**2 + 2*p_pair*qp**2 - 4*p_pair*qp + p_pair*r + p_pair + qp**2 - 5*qp + 5)/4 + (ppc)*q*t*(-2*p_pair*q + p_pair + 1)/4 - q*(-2*p_pair*q + p_pair + 1)*((pdm)*t + (pmp)*t + (ppc)*t - 1)/2,\n",
    "   -(pdm)*q*t*(q - 1)*(-p_pair**2*rp**2 + p_pair*rp + 1)/3 - (pmp)*qp*t*(qp - 1)*(-4*p_pair**4*qp**2*r**2 + 4*p_pair**3*qp**2*r + 8*p_pair**3*qp*r**2 + 2*p_pair**2*qp**2 - 8*p_pair**2*qp*r - 2*p_pair**2*qp - 4*p_pair**2*r**2 - 4*p_pair*qp + 4*p_pair*r + 2*p_pair + qp**2 - 3*qp + 4)/12 - (ppc)*p_pair*q*t*(p_pair*q - 1)/6 + p_pair*q*(p_pair*q - 1)*((pdm)*t + (pmp)*t + (ppc)*t - 1)/3,\n",
    "   -3*(pdm)*q*t*(q - 1)/2 - (pmp)*qp*t*(qp - 1)*(p_pair**2*qp**2 + 6*p_pair*qp**2 - 15*p_pair*qp + 3*p_pair + 2*qp**2 - 12*qp + 15)/8 + 3*(ppc)*q*t*(-2*p_pair*q + p_pair + 1)/8 - 3*q*(-2*p_pair*q + p_pair + 1)*((pdm)*t + (pmp)*t + (ppc)*t - 1)/4]],\n",
    " [8,\n",
    "  [t*((pmp)*qp*(3*qp**3 - qp**2 - qp + 1) + (ppc)*q*(2*q*vp**2 - 2*q*vp + q + 1))/4,\n",
    "   t*((pmp)*qp*(-p_pair**4*qp**3*r**2 + 2*p_pair**4*qp**2*r**2 - p_pair**4*qp*r**2 + p_pair**3*qp**3*r - 2*p_pair**3*qp**2*r + p_pair**3*qp*r + 2*p_pair*qp**3 + qp**3 - qp**2 - qp + 1) + (ppc)*q*(-2*p_pair**6*q*r**2*vp**2 + 2*p_pair**5*q*r**2*vp + 2*p_pair**5*q*r*vp**2 - p_pair**4*q*r**2 - 2*p_pair**4*q*r*vp + p_pair**3*q*r + 2*q*vp**2 - 2*q*vp + q + 1))/8,\n",
    "   t*((pmp)*qp*(-4*p_pair**4*qp**3*r**2 + 8*p_pair**4*qp**2*r**2 - 4*p_pair**4*qp*r**2 + 4*p_pair**3*qp**3*r - 8*p_pair**3*qp**2*r + 4*p_pair**3*qp*r + 2*p_pair**2*qp**3 + qp**3 - qp**2 - qp + 1) + (ppc)*q*(-8*p_pair**6*q*r**2*vp**2 + 8*p_pair**5*q*r**2*vp + 8*p_pair**5*q*r*vp**2 - 4*p_pair**4*q*r**2 - 8*p_pair**4*q*r*vp + 4*p_pair**3*q*r + 2*q*vp**2 - 2*q*vp + q + 1))/24,\n",
    "   t*((pmp)*qp*(p_pair**2*qp**3 - 2*p_pair**2*qp**2 + p_pair**2*qp + 6*p_pair*qp**3 + p_pair*qp**2 - 2*p_pair*qp + p_pair + 2*qp**3 - 2*qp**2 - 2*qp + 2) + (ppc)*q*(2*p_pair**4*q*vp**2 - 2*p_pair**3*q*vp + p_pair**2*q + p_pair + 4*q*vp**2 - 4*q*vp + 2*q + 2))/16]],\n",
    " [9,\n",
    "  [3*(pmp)*qp**2*t*(-qp**2 + 1)/2,\n",
    "   (pmp)*qp**2*t*(p_pair**4*qp**2*r**2 - p_pair**4*qp*r**2 - p_pair**3*qp**2*r + p_pair**3*qp*r - 2*p_pair*qp**2 + p_pair - qp**2 + 2)/4,\n",
    "   (pmp)*qp**2*t*(4*p_pair**4*qp**2*r**2 - 4*p_pair**4*qp*r**2 - 4*p_pair**3*qp**2*r + 4*p_pair**3*qp*r - 2*p_pair**2*qp**2 + 2*p_pair - qp**2 + 1)/12,\n",
    "   (pmp)*qp**2*t*(-p_pair**2*qp**2 + p_pair**2*qp - 6*p_pair*qp**2 - p_pair*qp + 4*p_pair - 2*qp**2 + 5)/8]],\n",
    " [10,\n",
    "  [-(pmp)*q**2*t + 3*(pmp)*qp**4*t/2 - 5*(pmp)*qp**3*t/2 + 3*(pmp)*qp**2*t/2 - (ppc)*q**2*t/2 + q**2,\n",
    "   (pdm)*q**2*t*(-p_pair**2*rp**2 + p_pair*rp + 4)/8 + (pmp)*qp**2*t*(-2*p_pair**4*qp**2*r**2 + 2*p_pair**3*qp**2*r + 2*p_pair**3*qp*r**2 - 2*p_pair**2*qp*r - p_pair**2*r**2 + 4*p_pair*qp**2 - 6*p_pair*qp + p_pair*r + 2*p_pair + 2*qp**2 - 4*qp + 4)/8 + (ppc)*p_pair*q**2*t/4 - p_pair*q**2*((pdm)*t + (pmp)*t + (ppc)*t - 1)/2,\n",
    "   (pdm)*q**2*t*(-p_pair**2*rp**2 + p_pair*rp + 1)/6 + (pmp)*qp**2*t*(-4*p_pair**4*qp**2*r**2 + 4*p_pair**3*qp**2*r + 4*p_pair**3*qp*r**2 + 2*p_pair**2*qp**2 - 4*p_pair**2*qp*r - 2*p_pair**2*qp - 2*p_pair**2*r**2 + p_pair**2 - 2*p_pair*qp + 2*p_pair*r + qp**2 - qp + 2)/12 + (ppc)*p_pair**2*q**2*t/12 + p_pair**2*q**2*(-(pdm)*t - (pmp)*t - (ppc)*t + 1)/6,\n",
    "   3*(pdm)*q**2*t/4 + (pmp)*qp**2*t*(p_pair**2*qp**2 + 6*p_pair*qp**2 - 10*p_pair*qp + 3*p_pair + 2*qp**2 - 5*qp + 6)/8 + 3*(ppc)*p_pair*q**2*t/8 - 3*p_pair*q**2*((pdm)*t + (pmp)*t + (ppc)*t - 1)/4]],\n",
    " [11,\n",
    "  [0,\n",
    "   (ppc)*p_pair**2*q*t*vp*(p_pair*q - 1)*(p_pair*vp - 1)*(2*p_pair**2*r**2 - 2*p_pair*r + 1)/4,\n",
    "   (ppc)*p_pair**2*q*t*vp*(p_pair*q - 1)*(p_pair*vp - 1)*(2*p_pair**2*r**2 - 2*p_pair*r + 1)/3,\n",
    "   (ppc)*p_pair**2*q*t*vp*(p_pair*q - 1)*(p_pair*vp - 1)/8]],\n",
    " [12,\n",
    "  [0,\n",
    "   p_pair**2*r*t*(p_pair*r - 1)*(-(pmp)*qp*(qp - 1)*(p_pair*qp - 1) + (ppc)*q*(p_pair*q - 1)*(2*p_pair**2*vp**2 - 2*p_pair*vp + 1))/4,\n",
    "   p_pair**2*r*t*(p_pair*r - 1)*(-(pmp)*qp*(qp - 1)*(p_pair*qp - 1) + (ppc)*q*(p_pair*q - 1)*(2*p_pair**2*vp**2 - 2*p_pair*vp + 1))/3,\n",
    "   p_pair*t*((pmp)*qp*(qp - 1)*(p_pair*qp - 1) - (ppc)*q*(p_pair*q - 1)*(2*p_pair**2*vp**2 - 2*p_pair*vp + 1))/16]],\n",
    " [13,\n",
    "  [0,\n",
    "   -(pdm)*q*t*(q - 1)*(p_pair**2*rp**2 - p_pair*rp + 2)/4 - (pmp)*qp*t*(qp - 1)*(2*p_pair**4*qp**2*r**2 - 2*p_pair**3*qp**2*r - 4*p_pair**3*qp*r**2 + p_pair**2*qp**2 + 4*p_pair**2*qp*r + 2*p_pair**2*r**2 + 2*p_pair*qp**2 - 7*p_pair*qp - 2*p_pair*r + 2*p_pair - 2*qp + 4)/8 - (ppc)*p_pair*q*t*(q - 1)/4 + p_pair*q*(q - 1)*((pdm)*t + (pmp)*t + (ppc)*t - 1)/2,\n",
    "   -(pdm)*q*t*(q - 1)*(p_pair**2*rp**2 - p_pair*rp + 2)/3 - (pmp)*qp*t*(qp - 1)*(2*p_pair**4*qp**2*r**2 - 2*p_pair**3*qp**2*r - 4*p_pair**3*qp*r**2 + 2*p_pair**2*qp**2 + 4*p_pair**2*qp*r - p_pair**2*qp + 2*p_pair**2*r**2 - 5*p_pair*qp - 2*p_pair*r + p_pair + qp**2 - 3*qp + 5)/6 - (ppc)*q*t*(p_pair**2*q - p_pair + q - 1)/6 + q*((pdm)*t + (pmp)*t + (ppc)*t - 1)*(p_pair**2*q - p_pair + q - 1)/3,\n",
    "   -(pdm)*q*t*(q - 1)/4 - (pmp)*qp*t*(qp - 1)*(p_pair**2*qp**2 + 2*p_pair*qp**2 - 7*p_pair*qp + 2*p_pair - 2*qp + 4)/16 - (ppc)*p_pair*q*t*(q - 1)/8 + p_pair*q*(q - 1)*((pdm)*t + (pmp)*t + (ppc)*t - 1)/4]],\n",
    " [14,\n",
    "  [0,\n",
    "   (pmp)*qp**2*t*(-2*p_pair**4*qp**2*r**2 + 2*p_pair**4*qp*r**2 + 2*p_pair**3*qp**2*r - 2*p_pair**3*qp*r - p_pair**2*qp**2 + p_pair**2*qp - 2*p_pair*qp**2 - p_pair*qp + p_pair + 2)/8,\n",
    "   (pmp)*qp**2*t*(-2*p_pair**4*qp**2*r**2 + 2*p_pair**4*qp*r**2 + 2*p_pair**3*qp**2*r - 2*p_pair**3*qp*r - 2*p_pair**2*qp**2 + p_pair**2*qp - p_pair*qp + 2*p_pair - qp**2 + 1)/6,\n",
    "   (pmp)*qp**2*t*(-p_pair**2*qp**2 + p_pair**2*qp - 2*p_pair*qp**2 - p_pair*qp + p_pair + 2)/16]],\n",
    " [15,\n",
    "  [0,\n",
    "   (ppc)*p_pair**2*r*t*vp*(p_pair*q - 1)**2*(p_pair*r - 1)*(p_pair*vp - 1)/2,\n",
    "   2*(ppc)*p_pair**2*r*t*vp*(p_pair*q - 1)**2*(p_pair*r - 1)*(p_pair*vp - 1)/3,\n",
    "   -(ppc)*p_pair*t*vp*(p_pair*q - 1)**2*(p_pair*vp - 1)/8]],\n",
    " [16,\n",
    "  [0,\n",
    "   (ppc)*p_pair**4*q**2*r*t*vp*(p_pair*r - 1)*(p_pair*vp - 1)/2,\n",
    "   2*(ppc)*p_pair**4*q**2*r*t*vp*(p_pair*r - 1)*(p_pair*vp - 1)/3,\n",
    "   (ppc)*p_pair**3*q**2*t*vp*(-p_pair*vp + 1)/8]],\n",
    " [17,\n",
    "  [0,\n",
    "   (ppc)*p_pair**2*q*t*vp*(p_pair*q - 1)*(p_pair*vp - 1)*(2*p_pair**2*r**2 - 2*p_pair*r + 1)/4,\n",
    "   (ppc)*p_pair**2*q*t*vp*(p_pair*q - 1)*(p_pair*vp - 1)*(2*p_pair**2*r**2 - 2*p_pair*r + 1)/3,\n",
    "   (ppc)*p_pair**2*q*t*vp*(p_pair*q - 1)*(p_pair*vp - 1)/8]],\n",
    " [18, [0, 0, 0, 0]],\n",
    " [19,\n",
    "  [0,\n",
    "   p_pair**2*r*t*(p_pair*r - 1)*(-(pmp)*qp*(qp - 1)*(p_pair*qp - 1) + (ppc)*q*(p_pair*q - 1)*(2*p_pair**2*vp**2 - 2*p_pair*vp + 1))/4,\n",
    "   p_pair**2*r*t*(p_pair*r - 1)*(-(pmp)*qp*(qp - 1)*(p_pair*qp - 1) + (ppc)*q*(p_pair*q - 1)*(2*p_pair**2*vp**2 - 2*p_pair*vp + 1))/3,\n",
    "   p_pair*t*((pmp)*qp*(qp - 1)*(p_pair*qp - 1) - (ppc)*q*(p_pair*q - 1)*(2*p_pair**2*vp**2 - 2*p_pair*vp + 1))/16]],\n",
    " [20,\n",
    "  [0,\n",
    "   (pmp)*p_pair**2*qp**2*r*t*(p_pair*qp - 1)*(p_pair*r - 1)/2,\n",
    "   2*(pmp)*p_pair**2*qp**2*r*t*(p_pair*qp - 1)*(p_pair*r - 1)/3,\n",
    "   (pmp)*p_pair*qp**2*t*(-p_pair*qp + 1)/8]],\n",
    " [21,\n",
    "  [0,\n",
    "   (pdm)*t*(q - 1)**2*(p_pair**2*rp**2 - p_pair*rp + 2)/4 + (pmp)*t*(qp - 1)**2*(p_pair*qp - 1)*(2*p_pair**3*qp*r**2 - 2*p_pair**2*qp*r - 2*p_pair**2*r**2 + p_pair*qp + 2*p_pair*r + 2*qp - 4)/8 + (ppc)*t*(p_pair*q - 1)*(4*p_pair**5*q*r**2*vp**2 - 4*p_pair**4*q*r**2*vp - 4*p_pair**4*q*r*vp**2 - 4*p_pair**4*r**2*vp**2 + 2*p_pair**3*q*r**2 + 4*p_pair**3*q*r*vp + 2*p_pair**3*q*vp**2 + 4*p_pair**3*r**2*vp + 4*p_pair**3*r*vp**2 - 2*p_pair**2*q*r - 2*p_pair**2*q*vp - 2*p_pair**2*r**2 - 4*p_pair**2*r*vp - 2*p_pair**2*vp**2 + p_pair*q + 2*p_pair*r + 2*p_pair*vp + 2*q - 4)/8 - (q - 1)*(p_pair*q - 1)*((pdm)*t + (pmp)*t + (ppc)*t - 1)/2,\n",
    "   (pdm)*t*(q - 1)**2*(p_pair**2*rp**2 - p_pair*rp + 2)/3 + (pmp)*t*(qp - 1)**2*(2*p_pair**4*qp**2*r**2 - 2*p_pair**3*qp**2*r - 4*p_pair**3*qp*r**2 + 2*p_pair**2*qp**2 + 4*p_pair**2*qp*r + 2*p_pair**2*r**2 - 5*p_pair*qp - 2*p_pair*r + qp**2 - 2*qp + 4)/6 + (ppc)*t*(4*p_pair**6*q**2*r**2*vp**2 - 4*p_pair**5*q**2*r**2*vp - 4*p_pair**5*q**2*r*vp**2 - 8*p_pair**5*q*r**2*vp**2 + 2*p_pair**4*q**2*r**2 + 4*p_pair**4*q**2*r*vp + 2*p_pair**4*q**2*vp**2 + 8*p_pair**4*q*r**2*vp + 8*p_pair**4*q*r*vp**2 + 4*p_pair**4*r**2*vp**2 - 2*p_pair**3*q**2*r - 2*p_pair**3*q**2*vp - 4*p_pair**3*q*r**2 - 8*p_pair**3*q*r*vp - 4*p_pair**3*q*vp**2 - 4*p_pair**3*r**2*vp - 4*p_pair**3*r*vp**2 + 2*p_pair**2*q**2 + 4*p_pair**2*q*r + 4*p_pair**2*q*vp + 2*p_pair**2*r**2 + 4*p_pair**2*r*vp + 2*p_pair**2*vp**2 - 5*p_pair*q - 2*p_pair*r - 2*p_pair*vp + q**2 - 2*q + 4)/6 - ((pdm)*t + (pmp)*t + (ppc)*t - 1)*(p_pair**2*q**2 - 2*p_pair*q + q**2 - 2*q + 2)/3,\n",
    "   (pdm)*t*(q - 1)**2/4 + (pmp)*t*(qp - 1)**2*(p_pair*qp - 1)*(p_pair*qp + 2*qp - 4)/16 + (ppc)*t*(p_pair*q - 1)*(2*p_pair**3*q*vp**2 - 2*p_pair**2*q*vp - 2*p_pair**2*vp**2 + p_pair*q + 2*p_pair*vp + 2*q - 4)/16 - (q - 1)*(p_pair*q - 1)*((pdm)*t + (pmp)*t + (ppc)*t - 1)/4]],\n",
    " [22,\n",
    "  [0,\n",
    "   -(pdm)*q*t*(q - 1)*(p_pair**2*rp**2 - p_pair*rp + 2)/4 - (pmp)*qp*t*(qp - 1)*(p_pair*qp - 1)*(2*p_pair**3*qp*r**2 - 2*p_pair**2*qp*r - 2*p_pair**2*r**2 + p_pair*qp + 2*p_pair*r + 2*qp - 6)/8 - (ppc)*q*t*(p_pair*q - 1)/4 + q*(p_pair*q - 1)*((pdm)*t + (pmp)*t + (ppc)*t - 1)/2,\n",
    "   -(pdm)*q*t*(q - 1)*(p_pair**2*rp**2 - p_pair*rp + 2)/3 - (pmp)*qp*t*(qp - 1)*(2*p_pair**4*qp**2*r**2 - 2*p_pair**3*qp**2*r - 4*p_pair**3*qp*r**2 + 2*p_pair**2*qp**2 + 4*p_pair**2*qp*r - p_pair**2*qp + 2*p_pair**2*r**2 - 5*p_pair*qp - 2*p_pair*r + p_pair + qp**2 - 3*qp + 5)/6 - (ppc)*q*t*(p_pair**2*q - p_pair + q - 1)/6 + q*((pdm)*t + (pmp)*t + (ppc)*t - 1)*(p_pair**2*q - p_pair + q - 1)/3,\n",
    "   -(pdm)*q*t*(q - 1)/4 - (pmp)*qp*t*(qp - 1)*(p_pair*qp - 1)*(p_pair*qp + 2*qp - 6)/16 - (ppc)*q*t*(p_pair*q - 1)/8 + q*(p_pair*q - 1)*((pdm)*t + (pmp)*t + (ppc)*t - 1)/4]],\n",
    " [23,\n",
    "  [0,\n",
    "   p_pair*t*((pmp)*qp*(2*p_pair**3*qp**3*r**2 - 4*p_pair**3*qp**2*r**2 + 2*p_pair**3*qp*r**2 - 2*p_pair**2*qp**3*r + 4*p_pair**2*qp**2*r - 2*p_pair**2*qp*r + p_pair*qp**3 - 2*p_pair*qp**2 + p_pair*qp + 2*qp**3 + qp**2 - 2*qp + 1) + (ppc)*q*(4*p_pair**5*q*r**2*vp**2 - 4*p_pair**4*q*r**2*vp - 4*p_pair**4*q*r*vp**2 + 2*p_pair**3*q*r**2 + 4*p_pair**3*q*r*vp + 2*p_pair**3*q*vp**2 - 2*p_pair**2*q*r - 2*p_pair**2*q*vp + p_pair*q + 1))/8,\n",
    "   t*((pmp)*qp*(2*p_pair**4*qp**3*r**2 - 4*p_pair**4*qp**2*r**2 + 2*p_pair**4*qp*r**2 - 2*p_pair**3*qp**3*r + 4*p_pair**3*qp**2*r - 2*p_pair**3*qp*r + 2*p_pair**2*qp**3 - 2*p_pair**2*qp**2 + p_pair**2*qp + p_pair*qp**2 - 2*p_pair*qp + p_pair + qp**3) + (ppc)*p_pair*q*(4*p_pair**5*q*r**2*vp**2 - 4*p_pair**4*q*r**2*vp - 4*p_pair**4*q*r*vp**2 + 2*p_pair**3*q*r**2 + 4*p_pair**3*q*r*vp + 2*p_pair**3*q*vp**2 - 2*p_pair**2*q*r - 2*p_pair**2*q*vp + p_pair*q + 1))/6,\n",
    "   p_pair*t*((pmp)*qp*(p_pair*qp**3 - 2*p_pair*qp**2 + p_pair*qp + 2*qp**3 + qp**2 - 2*qp + 1) + (ppc)*q*(2*p_pair**3*q*vp**2 - 2*p_pair**2*q*vp + p_pair*q + 1))/16]],\n",
    " [24,\n",
    "  [0,\n",
    "   -(pmp)*p_pair*qp**2*t*(qp - 1)*(2*p_pair**3*qp*r**2 - 2*p_pair**2*qp*r + p_pair*qp + 2*qp + 3)/8,\n",
    "   (pmp)*qp**2*t*(-2*p_pair**4*qp**2*r**2 + 2*p_pair**4*qp*r**2 + 2*p_pair**3*qp**2*r - 2*p_pair**3*qp*r - 2*p_pair**2*qp**2 + p_pair**2*qp - p_pair*qp + 2*p_pair - qp**2 + 1)/6,\n",
    "   -(pmp)*p_pair*qp**2*t*(qp - 1)*(p_pair*qp + 2*qp + 3)/16]],\n",
    " [25,\n",
    "  [0,\n",
    "   (pdm)*q**2*t*(p_pair**2*rp**2 - p_pair*rp + 2)/4 + (pmp)*qp**2*t*(2*p_pair**4*qp**2*r**2 - 2*p_pair**3*qp**2*r - 2*p_pair**3*qp*r**2 + p_pair**2*qp**2 + 2*p_pair**2*qp*r + p_pair**2*r**2 + 2*p_pair*qp**2 - 4*p_pair*qp - p_pair*r + p_pair - qp + 2)/4 + (ppc)*p_pair*q**2*t/4 - p_pair*q**2*((pdm)*t + (pmp)*t + (ppc)*t - 1)/2,\n",
    "   (pdm)*q**2*t*(p_pair**2*rp**2 - p_pair*rp + 2)/3 + (pmp)*qp**2*t*(4*p_pair**4*qp**2*r**2 - 4*p_pair**3*qp**2*r - 4*p_pair**3*qp*r**2 + 4*p_pair**2*qp**2 + 4*p_pair**2*qp*r - 2*p_pair**2*qp + 2*p_pair**2*r**2 + p_pair**2 - 4*p_pair*qp - 2*p_pair*r + 2*qp**2 - 4*qp + 5)/6 + (ppc)*q**2*t*(p_pair**2 + 1)/6 - q**2*(p_pair**2 + 1)*((pdm)*t + (pmp)*t + (ppc)*t - 1)/3,\n",
    "   (pdm)*q**2*t/4 + (pmp)*qp**2*t*(p_pair**2*qp**2 + 2*p_pair*qp**2 - 4*p_pair*qp + p_pair - qp + 2)/8 + (ppc)*p_pair*q**2*t/8 - p_pair*q**2*((pdm)*t + (pmp)*t + (ppc)*t - 1)/4]],\n",
    " [26,\n",
    "  [0,\n",
    "   -(ppc)*p_pair*t*vp*(p_pair*q - 1)**2*(p_pair*vp - 1)*(2*p_pair**2*r**2 - 2*p_pair*r + 1)/8,\n",
    "   (ppc)*t*vp*(-4*p_pair**6*q**2*r**2*vp + 4*p_pair**5*q**2*r**2 + 4*p_pair**5*q**2*r*vp + 8*p_pair**5*q*r**2*vp - 4*p_pair**4*q**2*r - 2*p_pair**4*q**2*vp - 8*p_pair**4*q*r**2 - 8*p_pair**4*q*r*vp - 4*p_pair**4*r**2*vp + 2*p_pair**3*q**2 + 8*p_pair**3*q*r + 4*p_pair**3*q*vp + 4*p_pair**3*r**2 + 4*p_pair**3*r*vp - 4*p_pair**2*q - 4*p_pair**2*r - 2*p_pair**2*vp + 2*p_pair - q**2*vp + q**2 + 2*q*vp - 2*q - vp + 1)/12,\n",
    "   0]],\n",
    " [27,\n",
    "  [0,\n",
    "   -(ppc)*p_pair**3*q**2*t*vp*(p_pair*vp - 1)*(2*p_pair**2*r**2 - 2*p_pair*r + 1)/8,\n",
    "   (ppc)*q**2*t*vp*(-4*p_pair**6*r**2*vp + 4*p_pair**5*r**2 + 4*p_pair**5*r*vp - 4*p_pair**4*r - 2*p_pair**4*vp + 2*p_pair**3 - vp + 1)/12,\n",
    "   0]],\n",
    " [28,\n",
    "  [0,\n",
    "   -(ppc)*p_pair**3*q*r*t*vp*(p_pair*q - 1)*(p_pair*r - 1)*(p_pair*vp - 1)/2,\n",
    "   (ppc)*q*t*vp*(-4*p_pair**6*q*r**2*vp + 4*p_pair**5*q*r**2 + 4*p_pair**5*q*r*vp + 4*p_pair**5*r**2*vp - 4*p_pair**4*q*r - 4*p_pair**4*r**2 - 4*p_pair**4*r*vp + 4*p_pair**3*r + q*vp - q - vp + 1)/6,\n",
    "   0]],\n",
    " [29, [0, 0, 0, 0]],\n",
    " [30,\n",
    "  [0,\n",
    "   p_pair*t*((pmp)*qp*(qp - 1)*(p_pair*qp - 1) - (ppc)*q*(p_pair*q - 1)*(2*p_pair**2*vp**2 - 2*p_pair*vp + 1))*(2*p_pair**2*r**2 - 2*p_pair*r + 1)/8,\n",
    "   t*((pmp)*qp*(qp - 1)*(4*p_pair**4*qp*r**2 - 4*p_pair**3*qp*r - 4*p_pair**3*r**2 + 2*p_pair**2*qp + 4*p_pair**2*r - 2*p_pair + qp - 1) - (ppc)*q*(8*p_pair**6*q*r**2*vp**2 - 8*p_pair**5*q*r**2*vp - 8*p_pair**5*q*r*vp**2 - 8*p_pair**5*r**2*vp**2 + 4*p_pair**4*q*r**2 + 8*p_pair**4*q*r*vp + 4*p_pair**4*q*vp**2 + 8*p_pair**4*r**2*vp + 8*p_pair**4*r*vp**2 - 4*p_pair**3*q*r - 4*p_pair**3*q*vp - 4*p_pair**3*r**2 - 8*p_pair**3*r*vp - 4*p_pair**3*vp**2 + 2*p_pair**2*q + 4*p_pair**2*r + 4*p_pair**2*vp - 2*p_pair + 2*q*vp**2 - 2*q*vp + q - 2*vp**2 + 2*vp - 1))/12,\n",
    "   0]],\n",
    " [31,\n",
    "  [0,\n",
    "   -(pmp)*p_pair*qp**2*t*(p_pair*qp - 1)*(2*p_pair**2*r**2 - 2*p_pair*r + 1)/8,\n",
    "   (pmp)*qp**2*t*(-4*p_pair**4*qp*r**2 + 4*p_pair**3*qp*r + 4*p_pair**3*r**2 - 2*p_pair**2*qp - 4*p_pair**2*r + 2*p_pair - qp + 1)/12,\n",
    "   0]],\n",
    " [32,\n",
    "  [0,\n",
    "   -p_pair*t*((pdm)*rp*(q - 1)**2*(p_pair*rp - 1) + (pmp)*r*(qp - 1)**2*(p_pair*qp - 1)**2*(p_pair*r - 1) + (ppc)*r*(p_pair*q - 1)**2*(p_pair*r - 1)*(2*p_pair**2*vp**2 - 2*p_pair*vp + 1))/8,\n",
    "   (pdm)*t*(q - 1)**2*(-p_pair**2*rp**2 + p_pair*rp + 1)/6 + (pmp)*t*(qp - 1)**2*(-4*p_pair**4*qp**2*r**2 + 4*p_pair**3*qp**2*r + 8*p_pair**3*qp*r**2 + 2*p_pair**2*qp**2 - 8*p_pair**2*qp*r - 4*p_pair**2*r**2 - 4*p_pair*qp + 4*p_pair*r + qp**2 - 3*qp + 4)/24 + (ppc)*t*(-8*p_pair**6*q**2*r**2*vp**2 + 8*p_pair**5*q**2*r**2*vp + 8*p_pair**5*q**2*r*vp**2 + 16*p_pair**5*q*r**2*vp**2 - 4*p_pair**4*q**2*r**2 - 8*p_pair**4*q**2*r*vp - 16*p_pair**4*q*r**2*vp - 16*p_pair**4*q*r*vp**2 - 8*p_pair**4*r**2*vp**2 + 4*p_pair**3*q**2*r + 8*p_pair**3*q*r**2 + 16*p_pair**3*q*r*vp + 8*p_pair**3*r**2*vp + 8*p_pair**3*r*vp**2 + 2*p_pair**2*q**2 - 8*p_pair**2*q*r - 4*p_pair**2*r**2 - 8*p_pair**2*r*vp - 4*p_pair*q + 4*p_pair*r + 2*q**2*vp**2 - 2*q**2*vp + q**2 - 4*q*vp**2 + 4*q*vp - 3*q + 2*vp**2 - 2*vp + 4)/24 + (p_pair*q - 1)**2*(-(pdm)*t - (pmp)*t - (ppc)*t + 1)/6,\n",
    "   0]],\n",
    " [33,\n",
    "  [0,\n",
    "   p_pair*t*((pdm)*q*rp*(q - 1)*(p_pair*rp - 1) + (pmp)*qp*r*(qp - 1)*(p_pair*qp - 1)**2*(p_pair*r - 1))/4,\n",
    "   -(pdm)*q*t*(q - 1)*(-p_pair**2*rp**2 + p_pair*rp + 1)/3 - (pmp)*qp*t*(qp - 1)*(-4*p_pair**4*qp**2*r**2 + 4*p_pair**3*qp**2*r + 8*p_pair**3*qp*r**2 + 2*p_pair**2*qp**2 - 8*p_pair**2*qp*r - 2*p_pair**2*qp - 4*p_pair**2*r**2 - 4*p_pair*qp + 4*p_pair*r + 2*p_pair + qp**2 - 3*qp + 4)/12 - (ppc)*p_pair*q*t*(p_pair*q - 1)/6 + p_pair*q*(p_pair*q - 1)*((pdm)*t + (pmp)*t + (ppc)*t - 1)/3,\n",
    "   0]],\n",
    " [34,\n",
    "  [0,\n",
    "   -p_pair**3*r*t*(p_pair*r - 1)*((pmp)*qp**2*(qp - 1)**2 + (ppc)*q**2*(2*p_pair**2*vp**2 - 2*p_pair*vp + 1))/8,\n",
    "   t*((pmp)*qp*(-4*p_pair**4*qp**3*r**2 + 8*p_pair**4*qp**2*r**2 - 4*p_pair**4*qp*r**2 + 4*p_pair**3*qp**3*r - 8*p_pair**3*qp**2*r + 4*p_pair**3*qp*r + 2*p_pair**2*qp**3 + qp**3 - qp**2 - qp + 1) + (ppc)*q*(-8*p_pair**6*q*r**2*vp**2 + 8*p_pair**5*q*r**2*vp + 8*p_pair**5*q*r*vp**2 - 4*p_pair**4*q*r**2 - 8*p_pair**4*q*r*vp + 4*p_pair**3*q*r + 2*q*vp**2 - 2*q*vp + q + 1))/24,\n",
    "   0]],\n",
    " [35,\n",
    "  [0,\n",
    "   (pmp)*p_pair**3*qp**3*r*t*(qp - 1)*(p_pair*r - 1)/4,\n",
    "   (pmp)*qp**2*t*(4*p_pair**4*qp**2*r**2 - 4*p_pair**4*qp*r**2 - 4*p_pair**3*qp**2*r + 4*p_pair**3*qp*r - 2*p_pair**2*qp**2 + 2*p_pair - qp**2 + 1)/12,\n",
    "   0]],\n",
    " [36,\n",
    "  [0,\n",
    "   -p_pair*t*((pdm)*q**2*rp*(p_pair*rp - 1) + (pmp)*qp**2*r*(p_pair*r - 1)*(2*p_pair**2*qp**2 - 2*p_pair*qp + 1))/8,\n",
    "   (pdm)*q**2*t*(-p_pair**2*rp**2 + p_pair*rp + 1)/6 + (pmp)*qp**2*t*(-4*p_pair**4*qp**2*r**2 + 4*p_pair**3*qp**2*r + 4*p_pair**3*qp*r**2 + 2*p_pair**2*qp**2 - 4*p_pair**2*qp*r - 2*p_pair**2*qp - 2*p_pair**2*r**2 + p_pair**2 - 2*p_pair*qp + 2*p_pair*r + qp**2 - qp + 2)/12 + (ppc)*p_pair**2*q**2*t/12 + p_pair**2*q**2*(-(pdm)*t - (pmp)*t - (ppc)*t + 1)/6,\n",
    "   0]]]"
   ]
  },
  {
   "cell_type": "code",
   "execution_count": 11,
   "metadata": {},
   "outputs": [
    {
     "data": {
      "text/plain": [
       "35"
      ]
     },
     "execution_count": 11,
     "metadata": {},
     "output_type": "execute_result"
    }
   ],
   "source": [
    "u_geno.index([[A1, B1, G], [A1, B1, G], [A2, B2, g], [A2, B2, g]])"
   ]
  },
  {
   "cell_type": "code",
   "execution_count": 12,
   "metadata": {},
   "outputs": [],
   "source": [
    "geno_num = 35\n",
    "Gg_geno = 2\n",
    "\n",
    "multinom_vec = []\n",
    "\n",
    "for i in range(len(trans_matrix[geno_num])):\n",
    "    tmp = trans_matrix[geno_num][i]\n",
    "    for j in range(37):\n",
    "        if tmp != 0:\n",
    "            tmp = tmp.subs(p(j),mode_prob[j][1][Gg_geno]).subs(rp,(1 - (1 - 2 * r)**(1/2))/2)\\\n",
    "                                                           .subs(qp,(1 - (1 - 2 * q)**(1/2))/2)\\\n",
    "                                                           .subs(vp,(1 - (1 - 2 * v)**(1/2))/2)\n",
    "    multinom_vec.append(tmp)"
   ]
  },
  {
   "cell_type": "code",
   "execution_count": 13,
   "metadata": {},
   "outputs": [],
   "source": [
    "def MLFunction_switch_p_pair(params,n):\n",
    "            \n",
    "    tmp = []\n",
    "    for i in range(len(multinom_vec)):\n",
    "        loop_tmp = multinom_vec[i].subs(t,2/3).subs(r,1/2).subs(q,1/2).subs(v,1/2) \\\n",
    "                    .subs(ppc,params[0]).subs(pdm,params[0]).subs(pmp,params[0]).subs(p_pair,params[1])\n",
    "        if loop_tmp > 0: \n",
    "            tmp.append(n[i] * m.log(loop_tmp))\n",
    "        else:\n",
    "            tmp.append(0)\n",
    "    \n",
    "    likelih = -sum([tmp[i] for i in range(len(multinom_vec))])\n",
    "    \n",
    "    return likelih"
   ]
  },
  {
   "cell_type": "code",
   "execution_count": 14,
   "metadata": {},
   "outputs": [],
   "source": [
    "multinom_vec_num = []\n",
    "\n",
    "for i in range(len(multinom_vec)):\n",
    "    if multinom_vec[i] == 0:\n",
    "        multinom_vec_num.append(0)\n",
    "    else:\n",
    "        multinom_vec_num.append(multinom_vec[i].subs(t,2/3).subs(r,0.5).subs(q,0.5).subs(v,0.5).subs(ppc,1/4) \\\n",
    "                       .subs(pdm,1/4).subs(pmp,1/4).subs(p_pair,0.5))"
   ]
  },
  {
   "cell_type": "code",
   "execution_count": 15,
   "metadata": {},
   "outputs": [],
   "source": [
    "def ML_rep():\n",
    "    n = np.random.multinomial(50000, multinom_vec_num, size=1)[0]\n",
    "    results = minimize(MLFunction_switch_p_pair, np.array([0.125,0.25]),method = 'L-BFGS-B',\\\n",
    "                      bounds = [(0 + 1e-6,0.5),(0 +1e-6,1 - 1e-6)], args = (n))\n",
    "    return results"
   ]
  },
  {
   "cell_type": "code",
   "execution_count": 16,
   "metadata": {},
   "outputs": [],
   "source": [
    "num_cores = 24\n",
    "ml_results = Parallel(n_jobs=num_cores)(delayed(ML_rep)() for i in range(100))"
   ]
  },
  {
   "cell_type": "code",
   "execution_count": 17,
   "metadata": {},
   "outputs": [
    {
     "data": {
      "text/plain": [
       "0.24968756879798948"
      ]
     },
     "execution_count": 17,
     "metadata": {},
     "output_type": "execute_result"
    }
   ],
   "source": [
    "np.average([list(ml_results[i].x)[0] for i in range(len(ml_results))])"
   ]
  },
  {
   "cell_type": "code",
   "execution_count": 18,
   "metadata": {},
   "outputs": [
    {
     "data": {
      "text/plain": [
       "0.009563178067028017"
      ]
     },
     "execution_count": 18,
     "metadata": {},
     "output_type": "execute_result"
    }
   ],
   "source": [
    "np.std([list(ml_results[i].x)[0] for i in range(len(ml_results))])"
   ]
  },
  {
   "cell_type": "code",
   "execution_count": 19,
   "metadata": {},
   "outputs": [
    {
     "data": {
      "text/plain": [
       "0.500033952271906"
      ]
     },
     "execution_count": 19,
     "metadata": {},
     "output_type": "execute_result"
    }
   ],
   "source": [
    "np.average([list(ml_results[i].x)[1] for i in range(len(ml_results))])"
   ]
  },
  {
   "cell_type": "code",
   "execution_count": 20,
   "metadata": {},
   "outputs": [
    {
     "data": {
      "text/plain": [
       "0.013715526267896749"
      ]
     },
     "execution_count": 20,
     "metadata": {},
     "output_type": "execute_result"
    }
   ],
   "source": [
    "np.std([list(ml_results[i].x)[1] for i in range(len(ml_results))])"
   ]
  },
  {
   "cell_type": "code",
   "execution_count": 21,
   "metadata": {},
   "outputs": [
    {
     "data": {
      "text/plain": [
       "[[0.2418834495445998, 0.5049945970330083],\n",
       " [0.25936691923315275, 0.4948305742858277],\n",
       " [0.25415660063205986, 0.5074256908008028],\n",
       " [0.24537957861439758, 0.5050131879162684],\n",
       " [0.2491455713332143, 0.5022686564705142],\n",
       " [0.27514484432213654, 0.4606472820997973],\n",
       " [0.23006370658594763, 0.522571846749514],\n",
       " [0.24934092550997816, 0.5039519329343032],\n",
       " [0.23051256453599517, 0.5189077847307415],\n",
       " [0.2549616511414644, 0.5062883632697556],\n",
       " [0.25678044676823697, 0.49563853243009076],\n",
       " [0.24462843206418639, 0.5028651349196552],\n",
       " [0.2641590938112347, 0.48769936286189003],\n",
       " [0.24572309791100952, 0.5135249264451286],\n",
       " [0.24960087657643035, 0.49207158344440616],\n",
       " [0.23592697789758982, 0.5043173364762452],\n",
       " [0.2613835115960995, 0.48613114896896387],\n",
       " [0.24248103442767946, 0.4958285665193038],\n",
       " [0.2573810675407779, 0.4871946508026572],\n",
       " [0.2510988229007875, 0.5011219168996188],\n",
       " [0.24011407626436498, 0.500700758820806],\n",
       " [0.24678549195336327, 0.526304218496501],\n",
       " [0.23792026859547638, 0.5046898095488915],\n",
       " [0.26273897259796225, 0.47544949671003206],\n",
       " [0.25857727526094926, 0.4946372816078471],\n",
       " [0.2605711426585773, 0.49109779742304266],\n",
       " [0.24288576213150773, 0.5105649729086347],\n",
       " [0.2588318359731995, 0.4990611969606673],\n",
       " [0.2512130805546829, 0.512594525916554],\n",
       " [0.24624160800743045, 0.5108754198116077],\n",
       " [0.2550315112415524, 0.4961294317532028],\n",
       " [0.25376900585980244, 0.4973888128087337],\n",
       " [0.24891107779349525, 0.4971481526759641],\n",
       " [0.24506526957412353, 0.5091662557582097],\n",
       " [0.2552565540203116, 0.48986851433171574],\n",
       " [0.2530632375004265, 0.48017276943213394],\n",
       " [0.22787566316814264, 0.5269570030676786],\n",
       " [0.23671899156792492, 0.5227785284615971],\n",
       " [0.26253436602658187, 0.474958683757678],\n",
       " [0.24691325337104578, 0.500703411995937],\n",
       " [0.2498241540830127, 0.49176122820595264],\n",
       " [0.23382290957335022, 0.5204941587846962],\n",
       " [0.248443707193582, 0.4953114863485103],\n",
       " [0.25812691484862427, 0.48590446699611706],\n",
       " [0.25066449696030496, 0.4971963375847072],\n",
       " [0.2447612597356617, 0.5017229485807679],\n",
       " [0.24479559760419983, 0.5082920493747212],\n",
       " [0.24459639076678794, 0.5023958852130848],\n",
       " [0.25236105491668626, 0.4906217247893239],\n",
       " [0.2593980425592367, 0.4913569491675885],\n",
       " [0.26082076829688244, 0.4960944779295726],\n",
       " [0.2586007331999868, 0.5045408856907707],\n",
       " [0.2565605644345021, 0.4768104319098804],\n",
       " [0.25237697852401303, 0.4894513729621435],\n",
       " [0.24763455467053802, 0.5090924621460698],\n",
       " [0.2339854520143175, 0.5187255571544133],\n",
       " [0.25480394166835635, 0.4989871907075887],\n",
       " [0.2532208315114805, 0.49508834912650146],\n",
       " [0.23978840390487932, 0.49489261963263326],\n",
       " [0.24899781496884302, 0.4971550521552303],\n",
       " [0.24729888940681416, 0.5030371722987227],\n",
       " [0.24521470710032883, 0.4896124872287924],\n",
       " [0.2392196127121588, 0.5376402616139416],\n",
       " [0.2764863242847195, 0.4637829235399782],\n",
       " [0.25382334946222374, 0.4945741299914763],\n",
       " [0.2577529072855629, 0.49152352575717057],\n",
       " [0.24365956066370978, 0.493672180081455],\n",
       " [0.2336179202617794, 0.5192759573960329],\n",
       " [0.26010223473418526, 0.48393862001409377],\n",
       " [0.2486666001568807, 0.5031811608939004],\n",
       " [0.2601474950443807, 0.49624811100887867],\n",
       " [0.24449528653054212, 0.49982976584876987],\n",
       " [0.2458053399665714, 0.5161880415549178],\n",
       " [0.24319454275071314, 0.49563263515659106],\n",
       " [0.23989529470772664, 0.52315222041961],\n",
       " [0.24725324178659966, 0.5047996748716213],\n",
       " [0.2707716628022693, 0.46219741051771623],\n",
       " [0.2534020771520074, 0.49413309571565683],\n",
       " [0.24472477240006876, 0.5137127291649182],\n",
       " [0.24503565459297227, 0.5061698880963877],\n",
       " [0.24322911210274573, 0.5015349220507123],\n",
       " [0.2546266002623895, 0.5054277278427419],\n",
       " [0.24979285518670366, 0.5141136568564354],\n",
       " [0.2568138586331523, 0.49278384486385596],\n",
       " [0.2561840577316217, 0.4997801991785016],\n",
       " [0.264298791900283, 0.4907981298129653],\n",
       " [0.24769639123561854, 0.5057010984002288],\n",
       " [0.25095818747725845, 0.4977709073870647],\n",
       " [0.2622670250124012, 0.47586252556006764],\n",
       " [0.22402485099669905, 0.5223910432468192],\n",
       " [0.2430234123375693, 0.5193609076672335],\n",
       " [0.2495478866860757, 0.4920785941705175],\n",
       " [0.24933829228390883, 0.5037317052422381],\n",
       " [0.23497287713900855, 0.5081504165946882],\n",
       " [0.26519036600529805, 0.4770976150163103],\n",
       " [0.2490306920772275, 0.5018249850965547],\n",
       " [0.2482023741647969, 0.49962007906750244],\n",
       " [0.2396995860266501, 0.5147240261113248],\n",
       " [0.24516931648085769, 0.5045658590113588],\n",
       " [0.2504006837533224, 0.5033392400766452]]"
      ]
     },
     "execution_count": 21,
     "metadata": {},
     "output_type": "execute_result"
    }
   ],
   "source": [
    "[list(ml_results[i].x) for i in range(len(ml_results))]"
   ]
  },
  {
   "cell_type": "code",
   "execution_count": null,
   "metadata": {
    "collapsed": true
   },
   "outputs": [],
   "source": []
  }
 ],
 "metadata": {
  "kernelspec": {
   "display_name": "Python 3",
   "language": "python",
   "name": "python3"
  },
  "language_info": {
   "codemirror_mode": {
    "name": "ipython",
    "version": 3
   },
   "file_extension": ".py",
   "mimetype": "text/x-python",
   "name": "python",
   "nbconvert_exporter": "python",
   "pygments_lexer": "ipython3",
   "version": "3.6.8"
  }
 },
 "nbformat": 4,
 "nbformat_minor": 2
}
