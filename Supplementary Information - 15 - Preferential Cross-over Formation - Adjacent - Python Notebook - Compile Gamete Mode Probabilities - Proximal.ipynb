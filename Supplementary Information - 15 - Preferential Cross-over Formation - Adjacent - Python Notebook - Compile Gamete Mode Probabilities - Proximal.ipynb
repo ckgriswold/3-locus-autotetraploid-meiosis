{
 "cells": [
  {
   "cell_type": "code",
   "execution_count": 1,
   "metadata": {
    "collapsed": true
   },
   "outputs": [],
   "source": [
    "import pickle\n",
    "import sympy as sp"
   ]
  },
  {
   "cell_type": "code",
   "execution_count": 2,
   "metadata": {
    "collapsed": true
   },
   "outputs": [],
   "source": [
    "biv_lst = []\n",
    "for i in range(37):\n",
    "    with open(\"m%d/res_0.out\" % i,'rb') as inf:\n",
    "        res_0_file = pickle.load(inf)\n",
    "    biv_lst.append([i,[sp.factor(sum([res_0_file[i][0] for i in [3 * j + k for k in range(3)]])) for j in range(4)]])"
   ]
  },
  {
   "cell_type": "code",
   "execution_count": 3,
   "metadata": {
    "collapsed": true
   },
   "outputs": [],
   "source": [
    "quad_A_lst = []\n",
    "for i in range(37):\n",
    "    with open(\"m%d/res_1_0.out\" % i,'rb') as inf:\n",
    "        res_1_0_file = pickle.load(inf)\n",
    "    quad_A_lst.append([i,[sp.factor(sum([res_1_0_file[i][0] for i in [24 * j + k for k in range(24)]])) for j in range(4)]])"
   ]
  },
  {
   "cell_type": "code",
   "execution_count": 4,
   "metadata": {
    "collapsed": true
   },
   "outputs": [],
   "source": [
    "quad_B_lst = []\n",
    "for i in range(37):\n",
    "    with open(\"m%d/res_1_1.out\" % i,'rb') as inf:\n",
    "        res_1_1_file = pickle.load(inf)\n",
    "    quad_B_lst.append([i,[sp.factor(sum([res_1_1_file[i][0] for i in [24 * j + k for k in range(24)]])) for j in range(4)]])"
   ]
  },
  {
   "cell_type": "code",
   "execution_count": 5,
   "metadata": {
    "collapsed": true
   },
   "outputs": [],
   "source": [
    "quad_C_lst = []\n",
    "for i in range(37):\n",
    "    with open(\"m%d/res_1_2.out\" % i,'rb') as inf:\n",
    "        res_1_2_file = pickle.load(inf)\n",
    "    quad_C_lst.append([i,[sp.factor(sum([res_1_2_file[i][0] for i in [24 * j + k for k in range(24)]])) for j in range(4)]])"
   ]
  },
  {
   "cell_type": "code",
   "execution_count": 6,
   "metadata": {
    "collapsed": true
   },
   "outputs": [],
   "source": [
    "comb_lst = []\n",
    "for i in range(len(biv_lst)):\n",
    "    comb_lst.append([biv_lst[i][0], [ \\\n",
    "        sp.simplify(biv_lst[i][1][j] + quad_A_lst[i][1][j] + quad_B_lst[i][1][j] + quad_C_lst[i][1][j]) \\\n",
    "                    for j in range(4)] \\\n",
    "        ])"
   ]
  },
  {
   "cell_type": "code",
   "execution_count": 7,
   "metadata": {
    "collapsed": true
   },
   "outputs": [],
   "source": [
    "mode_lst = []\n",
    "for i in range(44):\n",
    "    if i < 11 or i > 21 or i == 18 or i == 13 or i == 15 or i == 20:\n",
    "        mode_lst.append(i)"
   ]
  },
  {
   "cell_type": "code",
   "execution_count": 8,
   "metadata": {},
   "outputs": [
    {
     "data": {
      "text/latex": [
       "$\\displaystyle 1$"
      ],
      "text/plain": [
       "1"
      ]
     },
     "execution_count": 8,
     "metadata": {},
     "output_type": "execute_result"
    }
   ],
   "source": [
    "sp.simplify(sum([comb_lst[i][1][0] for i in range(37)]))"
   ]
  },
  {
   "cell_type": "code",
   "execution_count": 9,
   "metadata": {},
   "outputs": [
    {
     "data": {
      "text/latex": [
       "$\\displaystyle 1$"
      ],
      "text/plain": [
       "1"
      ]
     },
     "execution_count": 9,
     "metadata": {},
     "output_type": "execute_result"
    }
   ],
   "source": [
    "sp.simplify(sum([comb_lst[i][1][1] for i in range(37)]))"
   ]
  },
  {
   "cell_type": "code",
   "execution_count": 10,
   "metadata": {},
   "outputs": [
    {
     "data": {
      "text/latex": [
       "$\\displaystyle 1$"
      ],
      "text/plain": [
       "1"
      ]
     },
     "execution_count": 10,
     "metadata": {},
     "output_type": "execute_result"
    }
   ],
   "source": [
    "sp.simplify(sum([comb_lst[i][1][2] for i in range(37)]))"
   ]
  },
  {
   "cell_type": "code",
   "execution_count": 11,
   "metadata": {},
   "outputs": [
    {
     "data": {
      "text/latex": [
       "$\\displaystyle 1$"
      ],
      "text/plain": [
       "1"
      ]
     },
     "execution_count": 11,
     "metadata": {},
     "output_type": "execute_result"
    }
   ],
   "source": [
    "sp.simplify(sum([comb_lst[i][1][3] for i in range(37)]))"
   ]
  },
  {
   "cell_type": "code",
   "execution_count": 12,
   "metadata": {
    "collapsed": true
   },
   "outputs": [],
   "source": [
    "import sympy as sp \n",
    "import itertools\n",
    "a1,a2,b1,b2,a3,a4,b3,b2,b4,c1,c2,c3,c4 = sp.symbols('a1,a2,b1,b2,a3,a4,b3,b2,b4,c1,c2,c3,c4')    \n",
    "r= sp.symbols('r')\n",
    "q=sp.symbols('q')\n",
    "v=sp.symbols('v')\n",
    "vp=sp.symbols('vp')\n",
    "rp=sp.symbols('rp')\n",
    "qp=sp.symbols('qp')\n",
    "t=sp.symbols('t')\n",
    "(ppc)=sp.symbols('(ppc)')\n",
    "(pdm)=sp.symbols('(pdm)')\n",
    "(pmp)=sp.symbols('(pmp)')\n",
    "p_pair=sp.symbols('p_pair')\n",
    "\n",
    "G, g = sp.symbols('G, g')"
   ]
  },
  {
   "cell_type": "code",
   "execution_count": 13,
   "metadata": {},
   "outputs": [
    {
     "data": {
      "text/plain": [
       "[[0,\n",
       "  [t*(r - 1)**2*(-(pmp)*qp*(qp - 1) + (ppc)*(-2*q*vp + q + vp)*(2*q*vp - q - vp + 1))/2,\n",
       "   -t*(r - 1)**2*(2*(pmp)*qp*(qp - 1) + (ppc)*(2*p_pair**4*q**2*vp**2 - 2*p_pair**3*q**2*vp - 2*p_pair**3*q*vp**2 + 2*p_pair**2*q*vp + p_pair**2*vp**2 - p_pair*vp + 8*q**2*vp**2 - 8*q**2*vp + 2*q**2 - 8*q*vp**2 + 8*q*vp - 2*q + 2*vp**2 - 2*vp))/8,\n",
       "   -t*(r - 1)**2*((pmp)*qp*(qp - 1) + (ppc)*(4*p_pair**4*q**2*vp**2 - 4*p_pair**3*q**2*vp - 4*p_pair**3*q*vp**2 + 4*p_pair**2*q*vp + 2*p_pair**2*vp**2 - 2*p_pair*vp + 4*q**2*vp**2 - 4*q**2*vp + q**2 - 4*q*vp**2 + 4*q*vp - q + vp**2 - vp))/12,\n",
       "   -t*(r - 1)**2*(3*(pmp)*qp*(qp - 1) + (ppc)*(4*p_pair**4*q**2*vp**2 - 4*p_pair**3*q**2*vp - 4*p_pair**3*q*vp**2 + p_pair**2*q**2 + 4*p_pair**2*q*vp + p_pair**2*vp**2 - p_pair*q - p_pair*vp + 8*q**2*vp**2 - 8*q**2*vp + 2*q**2 - 8*q*vp**2 + 8*q*vp - 2*q + 2*vp**2 - 2*vp))/8]],\n",
       " [1,\n",
       "  [r**2*t*(-(pmp)*qp*(qp - 1) + (ppc)*(-2*q*vp + q + vp)*(2*q*vp - q - vp + 1))/2,\n",
       "   -r**2*t*(2*(pmp)*qp*(qp - 1) + (ppc)*(2*p_pair**4*q**2*vp**2 - 2*p_pair**3*q**2*vp - 2*p_pair**3*q*vp**2 + 2*p_pair**2*q*vp + p_pair**2*vp**2 - p_pair*vp + 8*q**2*vp**2 - 8*q**2*vp + 2*q**2 - 8*q*vp**2 + 8*q*vp - 2*q + 2*vp**2 - 2*vp))/8,\n",
       "   -r**2*t*((pmp)*qp*(qp - 1) + (ppc)*(4*p_pair**4*q**2*vp**2 - 4*p_pair**3*q**2*vp - 4*p_pair**3*q*vp**2 + 4*p_pair**2*q*vp + 2*p_pair**2*vp**2 - 2*p_pair*vp + 4*q**2*vp**2 - 4*q**2*vp + q**2 - 4*q*vp**2 + 4*q*vp - q + vp**2 - vp))/12,\n",
       "   -r**2*t*(3*(pmp)*qp*(qp - 1) + (ppc)*(4*p_pair**4*q**2*vp**2 - 4*p_pair**3*q**2*vp - 4*p_pair**3*q*vp**2 + p_pair**2*q**2 + 4*p_pair**2*q*vp + p_pair**2*vp**2 - p_pair*q - p_pair*vp + 8*q**2*vp**2 - 8*q**2*vp + 2*q**2 - 8*q*vp**2 + 8*q*vp - 2*q + 2*vp**2 - 2*vp))/8]],\n",
       " [2,\n",
       "  [r*t*(r - 1)*((pmp)*qp*(qp - 1) - (ppc)*(-2*q*vp + q + vp)*(2*q*vp - q - vp + 1)),\n",
       "   r*t*(r - 1)*(2*(pmp)*qp*(qp - 1) + (ppc)*(2*p_pair**4*q**2*vp**2 - 2*p_pair**3*q**2*vp - 2*p_pair**3*q*vp**2 + 2*p_pair**2*q*vp + p_pair**2*vp**2 - p_pair*vp + 8*q**2*vp**2 - 8*q**2*vp + 2*q**2 - 8*q*vp**2 + 8*q*vp - 2*q + 2*vp**2 - 2*vp))/4,\n",
       "   r*t*(r - 1)*((pmp)*qp*(qp - 1) + (ppc)*(4*p_pair**4*q**2*vp**2 - 4*p_pair**3*q**2*vp - 4*p_pair**3*q*vp**2 + 4*p_pair**2*q*vp + 2*p_pair**2*vp**2 - 2*p_pair*vp + 4*q**2*vp**2 - 4*q**2*vp + q**2 - 4*q*vp**2 + 4*q*vp - q + vp**2 - vp))/6,\n",
       "   r*t*(r - 1)*(3*(pmp)*qp*(qp - 1) + (ppc)*(4*p_pair**4*q**2*vp**2 - 4*p_pair**3*q**2*vp - 4*p_pair**3*q*vp**2 + p_pair**2*q**2 + 4*p_pair**2*q*vp + p_pair**2*vp**2 - p_pair*q - p_pair*vp + 8*q**2*vp**2 - 8*q**2*vp + 2*q**2 - 8*q*vp**2 + 8*q*vp - 2*q + 2*vp**2 - 2*vp))/4]],\n",
       " [3, [0, 0, 0, 0]],\n",
       " [4,\n",
       "  [t*((pdm)*rp*(rp - 1)**2 - (pmp)*r*(r - 1)*(2*qp**2 - 2*qp + 1) - (ppc)*r*(r - 1)*(8*q**2*vp**2 - 8*q**2*vp + 2*q**2 - 8*q*vp**2 + 8*q*vp - 2*q + 2*vp**2 - 2*vp + 1))/2,\n",
       "   t*((pdm)*rp*(rp - 1)**2 - (pmp)*r*(r - 1)*(2*qp**2 - 2*qp + 1) - (ppc)*r*(r - 1)*(2*p_pair**4*q**2*vp**2 - 2*p_pair**3*q**2*vp - 2*p_pair**3*q*vp**2 + 2*p_pair**2*q*vp + 8*q**2*vp**2 - 8*q**2*vp + 2*q**2 - 8*q*vp**2 + 8*q*vp - 2*q + 2*vp**2 - 2*vp + 1))/4,\n",
       "   t*((pdm)*rp*(rp - 1)**2 - (pmp)*r*(r - 1)*(2*qp**2 - 2*qp + 1) - (ppc)*r*(r - 1)*(8*p_pair**4*q**2*vp**2 - 8*p_pair**3*q**2*vp - 8*p_pair**3*q*vp**2 + 8*p_pair**2*q*vp + 8*q**2*vp**2 - 8*q**2*vp + 2*q**2 - 8*q*vp**2 + 8*q*vp - 2*q + 2*vp**2 - 2*vp + 1))/12,\n",
       "   t*(3*(pdm)*rp*(rp - 1)**2 - 3*(pmp)*r*(r - 1)*(2*qp**2 - 2*qp + 1) - (ppc)*r*(r - 1)*(8*p_pair**4*q**2*vp**2 - 8*p_pair**3*q**2*vp - 8*p_pair**3*q*vp**2 + 2*p_pair**2*q**2 + 8*p_pair**2*q*vp + 2*p_pair**2*vp**2 - 2*p_pair*q - 2*p_pair*vp + 16*q**2*vp**2 - 16*q**2*vp + 4*q**2 - 16*q*vp**2 + 16*q*vp - 4*q + 4*vp**2 - 4*vp + 3))/8]],\n",
       " [5,\n",
       "  [(pdm)*rp**2*t*(1 - rp)/2,\n",
       "   (pdm)*rp**2*t*(1 - rp)/4,\n",
       "   (pdm)*rp**2*t*(1 - rp)/12,\n",
       "   3*(pdm)*rp**2*t*(1 - rp)/8]],\n",
       " [6,\n",
       "  [(pdm)*t*(rp - 1)**3*(3*rp - 4)/4 + (pmp)*t*(r - 1)*(2*qp**2*r - 2*qp**2 - 2*qp*r + 2*qp + 3*r - 4)/4 + (ppc)*t*(r - 1)*(8*q**2*r*vp**2 - 8*q**2*r*vp + 2*q**2*r - 8*q**2*vp**2 + 8*q**2*vp - 2*q**2 - 8*q*r*vp**2 + 8*q*r*vp - 2*q*r + 8*q*vp**2 - 8*q*vp + 2*q + 2*r*vp**2 - 2*r*vp + 3*r - 2*vp**2 + 2*vp - 4)/4 + (r - 1)**2*(-(pdm)*t - (pmp)*t - (ppc)*t + 1),\n",
       "   (pdm)*t*(rp - 1)**3*(3*rp - 4)/8 + (pmp)*t*(r - 1)*(2*qp**2*r - 2*qp**2 - 2*qp*r + 2*qp + 3*r - 4)/8 + (ppc)*t*(r - 1)*(2*p_pair**4*q**2*r*vp**2 - 2*p_pair**4*q**2*vp**2 - 2*p_pair**3*q**2*r*vp + 2*p_pair**3*q**2*vp - 2*p_pair**3*q*r*vp**2 + 2*p_pair**3*q*vp**2 + 2*p_pair**2*q*r*vp - 2*p_pair**2*q*vp + 8*q**2*r*vp**2 - 8*q**2*r*vp + 2*q**2*r - 8*q**2*vp**2 + 8*q**2*vp - 2*q**2 - 8*q*r*vp**2 + 8*q*r*vp - 2*q*r + 8*q*vp**2 - 8*q*vp + 2*q + 2*r*vp**2 - 2*r*vp + 3*r - 2*vp**2 + 2*vp - 4)/8 + (r - 1)**2*(-(pdm)*t - (pmp)*t - (ppc)*t + 1)/2,\n",
       "   (pdm)*t*(rp - 1)**3*(3*rp - 4)/24 + (pmp)*t*(r - 1)*(2*qp**2*r - 2*qp**2 - 2*qp*r + 2*qp + 3*r - 4)/24 + (ppc)*t*(r - 1)*(8*p_pair**4*q**2*r*vp**2 - 8*p_pair**4*q**2*vp**2 - 8*p_pair**3*q**2*r*vp + 8*p_pair**3*q**2*vp - 8*p_pair**3*q*r*vp**2 + 8*p_pair**3*q*vp**2 + 8*p_pair**2*q*r*vp - 8*p_pair**2*q*vp + 8*q**2*r*vp**2 - 8*q**2*r*vp + 2*q**2*r - 8*q**2*vp**2 + 8*q**2*vp - 2*q**2 - 8*q*r*vp**2 + 8*q*r*vp - 2*q*r + 8*q*vp**2 - 8*q*vp + 2*q + 2*r*vp**2 - 2*r*vp + 3*r - 2*vp**2 + 2*vp - 4)/24 + (r - 1)**2*(-(pdm)*t - (pmp)*t - (ppc)*t + 1)/6,\n",
       "   3*(pdm)*t*(rp - 1)**3*(3*rp - 4)/16 + 3*(pmp)*t*(r - 1)*(2*qp**2*r - 2*qp**2 - 2*qp*r + 2*qp + 3*r - 4)/16 + (ppc)*t*(r - 1)*(8*p_pair**4*q**2*r*vp**2 - 8*p_pair**4*q**2*vp**2 - 8*p_pair**3*q**2*r*vp + 8*p_pair**3*q**2*vp - 8*p_pair**3*q*r*vp**2 + 8*p_pair**3*q*vp**2 + 2*p_pair**2*q**2*r - 2*p_pair**2*q**2 + 8*p_pair**2*q*r*vp - 8*p_pair**2*q*vp + 2*p_pair**2*r*vp**2 - 2*p_pair**2*vp**2 - 2*p_pair*q*r + 2*p_pair*q - 2*p_pair*r*vp + 2*p_pair*vp + 16*q**2*r*vp**2 - 16*q**2*r*vp + 4*q**2*r - 16*q**2*vp**2 + 16*q**2*vp - 4*q**2 - 16*q*r*vp**2 + 16*q*r*vp - 4*q*r + 16*q*vp**2 - 16*q*vp + 4*q + 4*r*vp**2 - 4*r*vp + 9*r - 4*vp**2 + 4*vp - 12)/16 + 3*(r - 1)**2*(-(pdm)*t - (pmp)*t - (ppc)*t + 1)/4]],\n",
       " [7,\n",
       "  [-3*(pdm)*rp*t*(rp - 2)*(rp - 1)**2/2 - (pmp)*r*t*(r - 1) - (ppc)*r*t*(r - 1) + 2*r*(r - 1)*((pdm)*t + (pmp)*t + (ppc)*t - 1),\n",
       "   -3*(pdm)*rp*t*(rp - 2)*(rp - 1)**2/4 - (pmp)*r*t*(r - 1)/2 - (ppc)*r*t*(r - 1)/2 + r*(r - 1)*((pdm)*t + (pmp)*t + (ppc)*t - 1),\n",
       "   -(pdm)*rp*t*(rp - 2)*(rp - 1)**2/4 - (pmp)*r*t*(r - 1)/6 - (ppc)*r*t*(r - 1)/6 + r*(r - 1)*((pdm)*t + (pmp)*t + (ppc)*t - 1)/3,\n",
       "   -9*(pdm)*rp*t*(rp - 2)*(rp - 1)**2/8 - 3*(pmp)*r*t*(r - 1)/4 - 3*(ppc)*r*t*(r - 1)/4 + 3*r*(r - 1)*((pdm)*t + (pmp)*t + (ppc)*t - 1)/2]],\n",
       " [8,\n",
       "  [t*((pdm)*rp*(3*rp**3 - rp**2 - rp + 1) + (pmp)*r*(2*qp**2*r - 2*qp*r + r + 1) + (ppc)*r*(8*q**2*r*vp**2 - 8*q**2*r*vp + 2*q**2*r - 8*q*r*vp**2 + 8*q*r*vp - 2*q*r + 2*r*vp**2 - 2*r*vp + r + 1))/4,\n",
       "   t*((pdm)*rp*(3*rp**3 - rp**2 - rp + 1) + (pmp)*r*(2*qp**2*r - 2*qp*r + r + 1) + (ppc)*r*(2*p_pair**4*q**2*r*vp**2 - 2*p_pair**3*q**2*r*vp - 2*p_pair**3*q*r*vp**2 + 2*p_pair**2*q*r*vp + 8*q**2*r*vp**2 - 8*q**2*r*vp + 2*q**2*r - 8*q*r*vp**2 + 8*q*r*vp - 2*q*r + 2*r*vp**2 - 2*r*vp + r + 1))/8,\n",
       "   t*((pdm)*rp*(3*rp**3 - rp**2 - rp + 1) + (pmp)*r*(2*qp**2*r - 2*qp*r + r + 1) + (ppc)*r*(8*p_pair**4*q**2*r*vp**2 - 8*p_pair**3*q**2*r*vp - 8*p_pair**3*q*r*vp**2 + 8*p_pair**2*q*r*vp + 8*q**2*r*vp**2 - 8*q**2*r*vp + 2*q**2*r - 8*q*r*vp**2 + 8*q*r*vp - 2*q*r + 2*r*vp**2 - 2*r*vp + r + 1))/24,\n",
       "   t*(3*(pdm)*rp*(3*rp**3 - rp**2 - rp + 1) + 3*(pmp)*r*(2*qp**2*r - 2*qp*r + r + 1) + (ppc)*r*(8*p_pair**4*q**2*r*vp**2 - 8*p_pair**3*q**2*r*vp - 8*p_pair**3*q*r*vp**2 + 2*p_pair**2*q**2*r + 8*p_pair**2*q*r*vp + 2*p_pair**2*r*vp**2 - 2*p_pair*q*r - 2*p_pair*r*vp + 16*q**2*r*vp**2 - 16*q**2*r*vp + 4*q**2*r - 16*q*r*vp**2 + 16*q*r*vp - 4*q*r + 4*r*vp**2 - 4*r*vp + 3*r + 3))/16]],\n",
       " [9,\n",
       "  [3*(pdm)*rp**2*t*(1 - rp**2)/2,\n",
       "   3*(pdm)*rp**2*t*(1 - rp**2)/4,\n",
       "   (pdm)*rp**2*t*(1 - rp**2)/4,\n",
       "   9*(pdm)*rp**2*t*(1 - rp**2)/8]],\n",
       " [10,\n",
       "  [(pdm)*rp**2*t*(3*rp**2 - 5*rp + 3)/2 + (pmp)*r**2*t/2 + (ppc)*r**2*t/2 + r**2*(-(pdm)*t - (pmp)*t - (ppc)*t + 1),\n",
       "   (pdm)*rp**2*t*(3*rp**2 - 5*rp + 3)/4 + (pmp)*r**2*t/4 + (ppc)*r**2*t/4 + r**2*(-(pdm)*t - (pmp)*t - (ppc)*t + 1)/2,\n",
       "   (pdm)*rp**2*t*(3*rp**2 - 5*rp + 3)/12 + (pmp)*r**2*t/12 + (ppc)*r**2*t/12 + r**2*(-(pdm)*t - (pmp)*t - (ppc)*t + 1)/6,\n",
       "   3*(pdm)*rp**2*t*(3*rp**2 - 5*rp + 3)/8 + 3*(pmp)*r**2*t/8 + 3*(ppc)*r**2*t/8 + 3*r**2*(-(pdm)*t - (pmp)*t - (ppc)*t + 1)/4]],\n",
       " [11,\n",
       "  [0,\n",
       "   r*t*(r - 1)*((pmp)*qp*(qp - 1) + (ppc)*p_pair*q*(p_pair*q - 1)*(2*p_pair**2*vp**2 - 2*p_pair*vp + 1))/4,\n",
       "   r*t*(r - 1)*((pmp)*qp*(qp - 1) + (ppc)*p_pair*q*(p_pair*q - 1)*(2*p_pair**2*vp**2 - 2*p_pair*vp + 1))/3,\n",
       "   r*t*(r - 1)*((pmp)*qp*(qp - 1) - (ppc)*p_pair*(-2*p_pair*q*vp + q + vp)*(2*p_pair**2*q*vp - p_pair*q - p_pair*vp + 1))/8]],\n",
       " [12,\n",
       "  [0,\n",
       "   t*((pdm)*rp*(rp - 1)**2 - (pmp)*r*(r - 1)*(2*qp**2 - 2*qp + 1) - (ppc)*r*(r - 1)*(2*p_pair**2*q**2 - 2*p_pair*q + 1)*(2*p_pair**2*vp**2 - 2*p_pair*vp + 1))/8,\n",
       "   t*((pdm)*rp*(rp - 1)**2 - (pmp)*r*(r - 1)*(2*qp**2 - 2*qp + 1) - (ppc)*r*(r - 1)*(2*p_pair**2*q**2 - 2*p_pair*q + 1)*(2*p_pair**2*vp**2 - 2*p_pair*vp + 1))/6,\n",
       "   t*((pdm)*rp*(rp - 1)**2 - (pmp)*r*(r - 1)*(2*qp**2 - 2*qp + 1) - (ppc)*r*(r - 1)*(8*p_pair**4*q**2*vp**2 - 8*p_pair**3*q**2*vp - 8*p_pair**3*q*vp**2 + 2*p_pair**2*q**2 + 8*p_pair**2*q*vp + 2*p_pair**2*vp**2 - 2*p_pair*q - 2*p_pair*vp + 1))/16]],\n",
       " [13,\n",
       "  [0,\n",
       "   -3*(pdm)*rp*t*(rp - 2)*(rp - 1)**2/8 - (pmp)*r*t*(r - 1)/4 - (ppc)*r*t*(r - 1)/4 + r*(r - 1)*((pdm)*t + (pmp)*t + (ppc)*t - 1)/2,\n",
       "   -(pdm)*rp*t*(rp - 2)*(rp - 1)**2/2 - (pmp)*r*t*(r - 1)/3 - (ppc)*r*t*(r - 1)/3 + 2*r*(r - 1)*((pdm)*t + (pmp)*t + (ppc)*t - 1)/3,\n",
       "   -3*(pdm)*rp*t*(rp - 2)*(rp - 1)**2/16 - (pmp)*r*t*(r - 1)/8 - (ppc)*r*t*(r - 1)/8 + r*(r - 1)*((pdm)*t + (pmp)*t + (ppc)*t - 1)/4]],\n",
       " [14,\n",
       "  [0,\n",
       "   3*(pdm)*rp**2*t*(1 - rp**2)/8,\n",
       "   (pdm)*rp**2*t*(1 - rp**2)/2,\n",
       "   3*(pdm)*rp**2*t*(1 - rp**2)/16]],\n",
       " [15,\n",
       "  [0,\n",
       "   -t*(r - 1)**2*((pmp)*qp*(qp - 1) + (ppc)*p_pair*q*(p_pair*q - 1)*(2*p_pair**2*vp**2 - 2*p_pair*vp + 1))/4,\n",
       "   -t*(r - 1)**2*((pmp)*qp*(qp - 1) + (ppc)*p_pair*q*(p_pair*q - 1)*(2*p_pair**2*vp**2 - 2*p_pair*vp + 1))/3,\n",
       "   t*(r - 1)**2*(-(pmp)*qp*(qp - 1) + (ppc)*p_pair*(-2*p_pair*q*vp + q + vp)*(2*p_pair**2*q*vp - p_pair*q - p_pair*vp + 1))/8]],\n",
       " [16,\n",
       "  [0,\n",
       "   -r**2*t*((pmp)*qp*(qp - 1) + (ppc)*p_pair*q*(p_pair*q - 1)*(2*p_pair**2*vp**2 - 2*p_pair*vp + 1))/4,\n",
       "   -r**2*t*((pmp)*qp*(qp - 1) + (ppc)*p_pair*q*(p_pair*q - 1)*(2*p_pair**2*vp**2 - 2*p_pair*vp + 1))/3,\n",
       "   r**2*t*(-(pmp)*qp*(qp - 1) + (ppc)*p_pair*(-2*p_pair*q*vp + q + vp)*(2*p_pair**2*q*vp - p_pair*q - p_pair*vp + 1))/8]],\n",
       " [17,\n",
       "  [0,\n",
       "   r*t*(r - 1)*((pmp)*qp*(qp - 1) + (ppc)*p_pair*q*(p_pair*q - 1)*(2*p_pair**2*vp**2 - 2*p_pair*vp + 1))/4,\n",
       "   r*t*(r - 1)*((pmp)*qp*(qp - 1) + (ppc)*p_pair*q*(p_pair*q - 1)*(2*p_pair**2*vp**2 - 2*p_pair*vp + 1))/3,\n",
       "   r*t*(r - 1)*((pmp)*qp*(qp - 1) - (ppc)*p_pair*(-2*p_pair*q*vp + q + vp)*(2*p_pair**2*q*vp - p_pair*q - p_pair*vp + 1))/8]],\n",
       " [18, [0, 0, 0, 0]],\n",
       " [19,\n",
       "  [0,\n",
       "   t*((pdm)*rp*(rp - 1)**2 - (pmp)*r*(r - 1)*(2*qp**2 - 2*qp + 1) - (ppc)*r*(r - 1)*(2*p_pair**2*q**2 - 2*p_pair*q + 1)*(2*p_pair**2*vp**2 - 2*p_pair*vp + 1))/8,\n",
       "   t*((pdm)*rp*(rp - 1)**2 - (pmp)*r*(r - 1)*(2*qp**2 - 2*qp + 1) - (ppc)*r*(r - 1)*(2*p_pair**2*q**2 - 2*p_pair*q + 1)*(2*p_pair**2*vp**2 - 2*p_pair*vp + 1))/6,\n",
       "   t*((pdm)*rp*(rp - 1)**2 - (pmp)*r*(r - 1)*(2*qp**2 - 2*qp + 1) - (ppc)*r*(r - 1)*(8*p_pair**4*q**2*vp**2 - 8*p_pair**3*q**2*vp - 8*p_pair**3*q*vp**2 + 2*p_pair**2*q**2 + 8*p_pair**2*q*vp + 2*p_pair**2*vp**2 - 2*p_pair*q - 2*p_pair*vp + 1))/16]],\n",
       " [20,\n",
       "  [0,\n",
       "   (pdm)*rp**2*t*(1 - rp)/4,\n",
       "   (pdm)*rp**2*t*(1 - rp)/3,\n",
       "   (pdm)*rp**2*t*(1 - rp)/8]],\n",
       " [21,\n",
       "  [0,\n",
       "   (pdm)*t*(rp - 1)**3*(3*rp - 4)/8 + (pmp)*t*(r - 1)*(2*qp**2*r - 2*qp**2 - 2*qp*r + 2*qp + 3*r - 4)/8 + (ppc)*t*(r - 1)*(4*p_pair**4*q**2*r*vp**2 - 4*p_pair**4*q**2*vp**2 - 4*p_pair**3*q**2*r*vp + 4*p_pair**3*q**2*vp - 4*p_pair**3*q*r*vp**2 + 4*p_pair**3*q*vp**2 + 2*p_pair**2*q**2*r - 2*p_pair**2*q**2 + 4*p_pair**2*q*r*vp - 4*p_pair**2*q*vp + 2*p_pair**2*r*vp**2 - 2*p_pair**2*vp**2 - 2*p_pair*q*r + 2*p_pair*q - 2*p_pair*r*vp + 2*p_pair*vp + 3*r - 4)/8 + (r - 1)**2*(-(pdm)*t - (pmp)*t - (ppc)*t + 1)/2,\n",
       "   (pdm)*t*(rp - 1)**3*(3*rp - 4)/6 + (pmp)*t*(r - 1)*(2*qp**2*r - 2*qp**2 - 2*qp*r + 2*qp + 3*r - 4)/6 + (ppc)*t*(r - 1)*(4*p_pair**4*q**2*r*vp**2 - 4*p_pair**4*q**2*vp**2 - 4*p_pair**3*q**2*r*vp + 4*p_pair**3*q**2*vp - 4*p_pair**3*q*r*vp**2 + 4*p_pair**3*q*vp**2 + 2*p_pair**2*q**2*r - 2*p_pair**2*q**2 + 4*p_pair**2*q*r*vp - 4*p_pair**2*q*vp + 2*p_pair**2*r*vp**2 - 2*p_pair**2*vp**2 - 2*p_pair*q*r + 2*p_pair*q - 2*p_pair*r*vp + 2*p_pair*vp + 3*r - 4)/6 + 2*(r - 1)**2*(-(pdm)*t - (pmp)*t - (ppc)*t + 1)/3,\n",
       "   (pdm)*t*(rp - 1)**3*(3*rp - 4)/16 + (pmp)*t*(r - 1)*(2*qp**2*r - 2*qp**2 - 2*qp*r + 2*qp + 3*r - 4)/16 + (ppc)*t*(r - 1)*(8*p_pair**4*q**2*r*vp**2 - 8*p_pair**4*q**2*vp**2 - 8*p_pair**3*q**2*r*vp + 8*p_pair**3*q**2*vp - 8*p_pair**3*q*r*vp**2 + 8*p_pair**3*q*vp**2 + 2*p_pair**2*q**2*r - 2*p_pair**2*q**2 + 8*p_pair**2*q*r*vp - 8*p_pair**2*q*vp + 2*p_pair**2*r*vp**2 - 2*p_pair**2*vp**2 - 2*p_pair*q*r + 2*p_pair*q - 2*p_pair*r*vp + 2*p_pair*vp + 3*r - 4)/16 + (r - 1)**2*(-(pdm)*t - (pmp)*t - (ppc)*t + 1)/4]],\n",
       " [22,\n",
       "  [0,\n",
       "   -3*(pdm)*rp*t*(rp - 2)*(rp - 1)**2/8 - (pmp)*r*t*(r - 1)/4 - (ppc)*r*t*(r - 1)/4 + r*(r - 1)*((pdm)*t + (pmp)*t + (ppc)*t - 1)/2,\n",
       "   -(pdm)*rp*t*(rp - 2)*(rp - 1)**2/2 - (pmp)*r*t*(r - 1)/3 - (ppc)*r*t*(r - 1)/3 + 2*r*(r - 1)*((pdm)*t + (pmp)*t + (ppc)*t - 1)/3,\n",
       "   -3*(pdm)*rp*t*(rp - 2)*(rp - 1)**2/16 - (pmp)*r*t*(r - 1)/8 - (ppc)*r*t*(r - 1)/8 + r*(r - 1)*((pdm)*t + (pmp)*t + (ppc)*t - 1)/4]],\n",
       " [23,\n",
       "  [0,\n",
       "   t*((pdm)*rp*(3*rp**3 - rp**2 - rp + 1) + (pmp)*r*(2*qp**2*r - 2*qp*r + r + 1) + (ppc)*r*(4*p_pair**4*q**2*r*vp**2 - 4*p_pair**3*q**2*r*vp - 4*p_pair**3*q*r*vp**2 + 2*p_pair**2*q**2*r + 4*p_pair**2*q*r*vp + 2*p_pair**2*r*vp**2 - 2*p_pair*q*r - 2*p_pair*r*vp + r + 1))/8,\n",
       "   t*((pdm)*rp*(3*rp**3 - rp**2 - rp + 1) + (pmp)*r*(2*qp**2*r - 2*qp*r + r + 1) + (ppc)*r*(4*p_pair**4*q**2*r*vp**2 - 4*p_pair**3*q**2*r*vp - 4*p_pair**3*q*r*vp**2 + 2*p_pair**2*q**2*r + 4*p_pair**2*q*r*vp + 2*p_pair**2*r*vp**2 - 2*p_pair*q*r - 2*p_pair*r*vp + r + 1))/6,\n",
       "   t*((pdm)*rp*(3*rp**3 - rp**2 - rp + 1) + (pmp)*r*(2*qp**2*r - 2*qp*r + r + 1) + (ppc)*r*(8*p_pair**4*q**2*r*vp**2 - 8*p_pair**3*q**2*r*vp - 8*p_pair**3*q*r*vp**2 + 2*p_pair**2*q**2*r + 8*p_pair**2*q*r*vp + 2*p_pair**2*r*vp**2 - 2*p_pair*q*r - 2*p_pair*r*vp + r + 1))/16]],\n",
       " [24,\n",
       "  [0,\n",
       "   3*(pdm)*rp**2*t*(1 - rp**2)/8,\n",
       "   (pdm)*rp**2*t*(1 - rp**2)/2,\n",
       "   3*(pdm)*rp**2*t*(1 - rp**2)/16]],\n",
       " [25,\n",
       "  [0,\n",
       "   (pdm)*rp**2*t*(3*rp**2 - 5*rp + 3)/4 + (pmp)*r**2*t/4 + (ppc)*r**2*t/4 + r**2*(-(pdm)*t - (pmp)*t - (ppc)*t + 1)/2,\n",
       "   (pdm)*rp**2*t*(3*rp**2 - 5*rp + 3)/3 + (pmp)*r**2*t/3 + (ppc)*r**2*t/3 + 2*r**2*(-(pdm)*t - (pmp)*t - (ppc)*t + 1)/3,\n",
       "   (pdm)*rp**2*t*(3*rp**2 - 5*rp + 3)/8 + (pmp)*r**2*t/8 + (ppc)*r**2*t/8 + r**2*(-(pdm)*t - (pmp)*t - (ppc)*t + 1)/4]],\n",
       " [26,\n",
       "  [0,\n",
       "   -(ppc)*p_pair*t*vp*(r - 1)**2*(p_pair*vp - 1)*(2*p_pair**2*q**2 - 2*p_pair*q + 1)/8,\n",
       "   -t*(r - 1)**2*((pmp)*qp*(qp - 1) + (ppc)*(4*p_pair**4*q**2*vp**2 - 4*p_pair**3*q**2*vp - 4*p_pair**3*q*vp**2 + 4*p_pair**2*q*vp + 2*p_pair**2*vp**2 - 2*p_pair*vp + 4*q**2*vp**2 - 4*q**2*vp + q**2 - 4*q*vp**2 + 4*q*vp - q + vp**2 - vp))/12,\n",
       "   0]],\n",
       " [27,\n",
       "  [0,\n",
       "   -(ppc)*p_pair*r**2*t*vp*(p_pair*vp - 1)*(2*p_pair**2*q**2 - 2*p_pair*q + 1)/8,\n",
       "   -r**2*t*((pmp)*qp*(qp - 1) + (ppc)*(4*p_pair**4*q**2*vp**2 - 4*p_pair**3*q**2*vp - 4*p_pair**3*q*vp**2 + 4*p_pair**2*q*vp + 2*p_pair**2*vp**2 - 2*p_pair*vp + 4*q**2*vp**2 - 4*q**2*vp + q**2 - 4*q*vp**2 + 4*q*vp - q + vp**2 - vp))/12,\n",
       "   0]],\n",
       " [28,\n",
       "  [0,\n",
       "   (ppc)*p_pair*r*t*vp*(r - 1)*(p_pair*vp - 1)*(2*p_pair**2*q**2 - 2*p_pair*q + 1)/4,\n",
       "   r*t*(r - 1)*((pmp)*qp*(qp - 1) + (ppc)*(4*p_pair**4*q**2*vp**2 - 4*p_pair**3*q**2*vp - 4*p_pair**3*q*vp**2 + 4*p_pair**2*q*vp + 2*p_pair**2*vp**2 - 2*p_pair*vp + 4*q**2*vp**2 - 4*q**2*vp + q**2 - 4*q*vp**2 + 4*q*vp - q + vp**2 - vp))/6,\n",
       "   0]],\n",
       " [29, [0, 0, 0, 0]],\n",
       " [30,\n",
       "  [0,\n",
       "   -(ppc)*p_pair**2*q*r*t*vp*(r - 1)*(p_pair*q - 1)*(p_pair*vp - 1)/2,\n",
       "   t*((pdm)*rp*(rp - 1)**2 - (pmp)*r*(r - 1)*(2*qp**2 - 2*qp + 1) - (ppc)*r*(r - 1)*(8*p_pair**4*q**2*vp**2 - 8*p_pair**3*q**2*vp - 8*p_pair**3*q*vp**2 + 8*p_pair**2*q*vp + 8*q**2*vp**2 - 8*q**2*vp + 2*q**2 - 8*q*vp**2 + 8*q*vp - 2*q + 2*vp**2 - 2*vp + 1))/12,\n",
       "   0]],\n",
       " [31, [0, 0, (pdm)*rp**2*t*(1 - rp)/12, 0]],\n",
       " [32,\n",
       "  [0,\n",
       "   (ppc)*p_pair**2*q*t*vp*(r - 1)**2*(p_pair*q - 1)*(p_pair*vp - 1)/4,\n",
       "   (pdm)*t*(rp - 1)**3*(3*rp - 4)/24 + (pmp)*t*(r - 1)*(2*qp**2*r - 2*qp**2 - 2*qp*r + 2*qp + 3*r - 4)/24 + (ppc)*t*(r - 1)*(8*p_pair**4*q**2*r*vp**2 - 8*p_pair**4*q**2*vp**2 - 8*p_pair**3*q**2*r*vp + 8*p_pair**3*q**2*vp - 8*p_pair**3*q*r*vp**2 + 8*p_pair**3*q*vp**2 + 8*p_pair**2*q*r*vp - 8*p_pair**2*q*vp + 8*q**2*r*vp**2 - 8*q**2*r*vp + 2*q**2*r - 8*q**2*vp**2 + 8*q**2*vp - 2*q**2 - 8*q*r*vp**2 + 8*q*r*vp - 2*q*r + 8*q*vp**2 - 8*q*vp + 2*q + 2*r*vp**2 - 2*r*vp + 3*r - 2*vp**2 + 2*vp - 4)/24 + (r - 1)**2*(-(pdm)*t - (pmp)*t - (ppc)*t + 1)/6,\n",
       "   0]],\n",
       " [33,\n",
       "  [0,\n",
       "   0,\n",
       "   -(pdm)*rp*t*(rp - 2)*(rp - 1)**2/4 - (pmp)*r*t*(r - 1)/6 - (ppc)*r*t*(r - 1)/6 + r*(r - 1)*((pdm)*t + (pmp)*t + (ppc)*t - 1)/3,\n",
       "   0]],\n",
       " [34,\n",
       "  [0,\n",
       "   (ppc)*p_pair**2*q*r**2*t*vp*(p_pair*q - 1)*(p_pair*vp - 1)/4,\n",
       "   t*((pdm)*rp*(3*rp**3 - rp**2 - rp + 1) + (pmp)*r*(2*qp**2*r - 2*qp*r + r + 1) + (ppc)*r*(8*p_pair**4*q**2*r*vp**2 - 8*p_pair**3*q**2*r*vp - 8*p_pair**3*q*r*vp**2 + 8*p_pair**2*q*r*vp + 8*q**2*r*vp**2 - 8*q**2*r*vp + 2*q**2*r - 8*q*r*vp**2 + 8*q*r*vp - 2*q*r + 2*r*vp**2 - 2*r*vp + r + 1))/24,\n",
       "   0]],\n",
       " [35, [0, 0, (pdm)*rp**2*t*(1 - rp**2)/4, 0]],\n",
       " [36,\n",
       "  [0,\n",
       "   0,\n",
       "   (pdm)*rp**2*t*(3*rp**2 - 5*rp + 3)/12 + (pmp)*r**2*t/12 + (ppc)*r**2*t/12 + r**2*(-(pdm)*t - (pmp)*t - (ppc)*t + 1)/6,\n",
       "   0]]]"
      ]
     },
     "execution_count": 13,
     "metadata": {},
     "output_type": "execute_result"
    }
   ],
   "source": [
    "comb_lst"
   ]
  },
  {
   "cell_type": "code",
   "execution_count": null,
   "metadata": {
    "collapsed": true
   },
   "outputs": [],
   "source": []
  }
 ],
 "metadata": {
  "kernelspec": {
   "display_name": "Python 3",
   "language": "python",
   "name": "python3"
  },
  "language_info": {
   "codemirror_mode": {
    "name": "ipython",
    "version": 3
   },
   "file_extension": ".py",
   "mimetype": "text/x-python",
   "name": "python",
   "nbconvert_exporter": "python",
   "pygments_lexer": "ipython3",
   "version": "3.6.1"
  }
 },
 "nbformat": 4,
 "nbformat_minor": 2
}
