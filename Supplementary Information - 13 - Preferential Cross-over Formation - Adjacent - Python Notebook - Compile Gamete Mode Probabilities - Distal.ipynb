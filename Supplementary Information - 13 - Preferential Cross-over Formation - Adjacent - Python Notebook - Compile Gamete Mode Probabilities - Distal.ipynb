{
 "cells": [
  {
   "cell_type": "code",
   "execution_count": 1,
   "metadata": {
    "collapsed": true
   },
   "outputs": [],
   "source": [
    "import pickle\n",
    "import sympy as sp"
   ]
  },
  {
   "cell_type": "code",
   "execution_count": 2,
   "metadata": {
    "collapsed": true
   },
   "outputs": [],
   "source": [
    "biv_lst = []\n",
    "for i in range(37):\n",
    "    with open(\"m%d/res_0.out\" % i,'rb') as inf:\n",
    "        res_0_file = pickle.load(inf)\n",
    "    biv_lst.append([i,[sp.factor(sum([res_0_file[i][0] for i in [3 * j + k for k in range(3)]])) for j in range(4)]])"
   ]
  },
  {
   "cell_type": "code",
   "execution_count": 3,
   "metadata": {
    "collapsed": true
   },
   "outputs": [],
   "source": [
    "quad_A_lst = []\n",
    "for i in range(37):\n",
    "    with open(\"m%d/res_1_0.out\" % i,'rb') as inf:\n",
    "        res_1_0_file = pickle.load(inf)\n",
    "    quad_A_lst.append([i,[sp.factor(sum([res_1_0_file[i][0] for i in [24 * j + k for k in range(24)]])) for j in range(4)]])"
   ]
  },
  {
   "cell_type": "code",
   "execution_count": 4,
   "metadata": {
    "collapsed": true
   },
   "outputs": [],
   "source": [
    "quad_B_lst = []\n",
    "for i in range(37):\n",
    "    with open(\"m%d/res_1_1.out\" % i,'rb') as inf:\n",
    "        res_1_1_file = pickle.load(inf)\n",
    "    quad_B_lst.append([i,[sp.factor(sum([res_1_1_file[i][0] for i in [24 * j + k for k in range(24)]])) for j in range(4)]])"
   ]
  },
  {
   "cell_type": "code",
   "execution_count": 5,
   "metadata": {
    "collapsed": true
   },
   "outputs": [],
   "source": [
    "quad_C_lst = []\n",
    "for i in range(37):\n",
    "    with open(\"m%d/res_1_2.out\" % i,'rb') as inf:\n",
    "        res_1_2_file = pickle.load(inf)\n",
    "    quad_C_lst.append([i,[sp.factor(sum([res_1_2_file[i][0] for i in [24 * j + k for k in range(24)]])) for j in range(4)]])"
   ]
  },
  {
   "cell_type": "code",
   "execution_count": 6,
   "metadata": {
    "collapsed": true
   },
   "outputs": [],
   "source": [
    "comb_lst = []\n",
    "for i in range(len(biv_lst)):\n",
    "    comb_lst.append([biv_lst[i][0], [ \\\n",
    "        sp.simplify(biv_lst[i][1][j] + quad_A_lst[i][1][j] + quad_B_lst[i][1][j] + quad_C_lst[i][1][j]) \\\n",
    "                    for j in range(4)] \\\n",
    "        ])"
   ]
  },
  {
   "cell_type": "code",
   "execution_count": 7,
   "metadata": {
    "collapsed": true
   },
   "outputs": [],
   "source": [
    "mode_lst = []\n",
    "for i in range(44):\n",
    "    if i < 11 or i > 21 or i == 18 or i == 13 or i == 15 or i == 20:\n",
    "        mode_lst.append(i)"
   ]
  },
  {
   "cell_type": "code",
   "execution_count": 8,
   "metadata": {},
   "outputs": [
    {
     "data": {
      "text/latex": [
       "$\\displaystyle 1$"
      ],
      "text/plain": [
       "1"
      ]
     },
     "execution_count": 8,
     "metadata": {},
     "output_type": "execute_result"
    }
   ],
   "source": [
    "sp.simplify(sum([comb_lst[i][1][0] for i in range(37)]))"
   ]
  },
  {
   "cell_type": "code",
   "execution_count": 9,
   "metadata": {},
   "outputs": [
    {
     "data": {
      "text/latex": [
       "$\\displaystyle 1$"
      ],
      "text/plain": [
       "1"
      ]
     },
     "execution_count": 9,
     "metadata": {},
     "output_type": "execute_result"
    }
   ],
   "source": [
    "sp.simplify(sum([comb_lst[i][1][1] for i in range(37)]))"
   ]
  },
  {
   "cell_type": "code",
   "execution_count": 10,
   "metadata": {},
   "outputs": [
    {
     "data": {
      "text/latex": [
       "$\\displaystyle 1$"
      ],
      "text/plain": [
       "1"
      ]
     },
     "execution_count": 10,
     "metadata": {},
     "output_type": "execute_result"
    }
   ],
   "source": [
    "sp.simplify(sum([comb_lst[i][1][2] for i in range(37)]))"
   ]
  },
  {
   "cell_type": "code",
   "execution_count": 11,
   "metadata": {},
   "outputs": [
    {
     "data": {
      "text/latex": [
       "$\\displaystyle 1$"
      ],
      "text/plain": [
       "1"
      ]
     },
     "execution_count": 11,
     "metadata": {},
     "output_type": "execute_result"
    }
   ],
   "source": [
    "sp.simplify(sum([comb_lst[i][1][3] for i in range(37)]))"
   ]
  },
  {
   "cell_type": "code",
   "execution_count": 12,
   "metadata": {
    "collapsed": true
   },
   "outputs": [],
   "source": [
    "import sympy as sp \n",
    "import itertools\n",
    "a1,a2,b1,b2,a3,a4,b3,b2,b4,c1,c2,c3,c4 = sp.symbols('a1,a2,b1,b2,a3,a4,b3,b2,b4,c1,c2,c3,c4')    \n",
    "r= sp.symbols('r')\n",
    "q=sp.symbols('q')\n",
    "v=sp.symbols('v')\n",
    "vp=sp.symbols('vp')\n",
    "rp=sp.symbols('rp')\n",
    "qp=sp.symbols('qp')\n",
    "t=sp.symbols('t')\n",
    "(ppc)=sp.symbols('(ppc)')\n",
    "(pdm)=sp.symbols('(pdm)')\n",
    "(pmp)=sp.symbols('(pmp)')\n",
    "p_pair=sp.symbols('p_pair')\n",
    "\n",
    "G, g = sp.symbols('G, g')"
   ]
  },
  {
   "cell_type": "code",
   "execution_count": 13,
   "metadata": {},
   "outputs": [
    {
     "data": {
      "text/plain": [
       "[[0,\n",
       "  [-(ppc)*t*vp*(q - 1)**2*(vp - 1)/2,\n",
       "   -(ppc)*t*vp*(q - 1)**2*(vp - 1)*(2*p_pair**2*r**2 - 2*p_pair*r + 3)/8,\n",
       "   -(ppc)*t*vp*(q - 1)**2*(vp - 1)*(4*p_pair**2*r**2 - 4*p_pair*r + 3)/12,\n",
       "   -3*(ppc)*t*vp*(q - 1)**2*(vp - 1)/8]],\n",
       " [1,\n",
       "  [(ppc)*q**2*t*vp*(1 - vp)/2,\n",
       "   -(ppc)*q**2*t*vp*(vp - 1)*(2*p_pair**2*r**2 - 2*p_pair*r + 3)/8,\n",
       "   -(ppc)*q**2*t*vp*(vp - 1)*(4*p_pair**2*r**2 - 4*p_pair*r + 3)/12,\n",
       "   3*(ppc)*q**2*t*vp*(1 - vp)/8]],\n",
       " [2,\n",
       "  [(ppc)*q*t*vp*(q - 1)*(vp - 1),\n",
       "   (ppc)*q*t*vp*(q - 1)*(vp - 1)*(-p_pair**2*r**2 + p_pair*r + 1)/2,\n",
       "   (ppc)*q*t*vp*(q - 1)*(vp - 1)*(-4*p_pair**2*r**2 + 4*p_pair*r + 1)/6,\n",
       "   3*(ppc)*q*t*vp*(q - 1)*(vp - 1)/4]],\n",
       " [3, [0, 0, 0, 0]],\n",
       " [4,\n",
       "  [t*((pmp)*qp*(qp - 1)**2 - (ppc)*q*(q - 1)*(2*vp**2 - 2*vp + 1))/2,\n",
       "   t*((pmp)*qp*(qp - 1)**2 - (ppc)*q*(q - 1)*(2*vp**2 - 2*vp + 1))*(2*p_pair**2*r**2 - 2*p_pair*r + 3)/8,\n",
       "   t*((pmp)*qp*(qp - 1)**2 - (ppc)*q*(q - 1)*(2*vp**2 - 2*vp + 1))*(4*p_pair**2*r**2 - 4*p_pair*r + 3)/12,\n",
       "   3*t*((pmp)*qp*(qp - 1)**2 - (ppc)*q*(q - 1)*(2*vp**2 - 2*vp + 1))/8]],\n",
       " [5,\n",
       "  [(pmp)*qp**2*t*(1 - qp)/2,\n",
       "   -(pmp)*qp**2*t*(qp - 1)*(2*p_pair**2*r**2 - 2*p_pair*r + 3)/8,\n",
       "   -(pmp)*qp**2*t*(qp - 1)*(4*p_pair**2*r**2 - 4*p_pair*r + 3)/12,\n",
       "   3*(pmp)*qp**2*t*(1 - qp)/8]],\n",
       " [6,\n",
       "  [(pdm)*t*(q - 1)**2 + (pmp)*t*(qp - 1)**3*(3*qp - 4)/4 + (ppc)*t*(q - 1)*(2*q*vp**2 - 2*q*vp + 3*q - 2*vp**2 + 2*vp - 4)/4 + (q - 1)**2*(-(pdm)*t - (pmp)*t - (ppc)*t + 1),\n",
       "   (pdm)*t*(q - 1)**2*(-p_pair**2*rp**2 + p_pair*rp + 4)/8 - (pmp)*t*(qp - 1)**3*(p_pair**2*qp*r**2 - p_pair**2*r**2 - p_pair*qp*r + p_pair*r - 3*qp + 4)/8 - (ppc)*t*(q - 1)*(2*p_pair**2*q*r**2*vp**2 - 2*p_pair**2*q*r**2*vp + p_pair**2*q*r**2 - 2*p_pair**2*r**2*vp**2 + 2*p_pair**2*r**2*vp - p_pair**2*r**2 - 2*p_pair*q*r*vp**2 + 2*p_pair*q*r*vp - p_pair*q*r + 2*p_pair*r*vp**2 - 2*p_pair*r*vp + p_pair*r - 2*q*vp**2 + 2*q*vp - 3*q + 2*vp**2 - 2*vp + 4)/8 + (q - 1)**2*(-(pdm)*t - (pmp)*t - (ppc)*t + 1)/2,\n",
       "   (pdm)*t*(q - 1)**2*(-p_pair**2*rp**2 + p_pair*rp + 1)/6 - (pmp)*t*(qp - 1)**3*(4*p_pair**2*qp*r**2 - 4*p_pair**2*r**2 - 4*p_pair*qp*r + 4*p_pair*r - 3*qp + 4)/24 - (ppc)*t*(q - 1)*(8*p_pair**2*q*r**2*vp**2 - 8*p_pair**2*q*r**2*vp + 4*p_pair**2*q*r**2 - 8*p_pair**2*r**2*vp**2 + 8*p_pair**2*r**2*vp - 4*p_pair**2*r**2 - 8*p_pair*q*r*vp**2 + 8*p_pair*q*r*vp - 4*p_pair*q*r + 8*p_pair*r*vp**2 - 8*p_pair*r*vp + 4*p_pair*r - 2*q*vp**2 + 2*q*vp - 3*q + 2*vp**2 - 2*vp + 4)/24 + (q - 1)**2*(-(pdm)*t - (pmp)*t - (ppc)*t + 1)/6,\n",
       "   3*(pdm)*t*(q - 1)**2/4 + 3*(pmp)*t*(qp - 1)**3*(3*qp - 4)/16 + 3*(ppc)*t*(q - 1)*(2*q*vp**2 - 2*q*vp + 3*q - 2*vp**2 + 2*vp - 4)/16 + 3*(q - 1)**2*(-(pdm)*t - (pmp)*t - (ppc)*t + 1)/4]],\n",
       " [7,\n",
       "  [-2*(pdm)*q*t*(q - 1) - 3*(pmp)*qp*t*(qp - 2)*(qp - 1)**2/2 - (ppc)*q*t*(q - 1) + 2*q*(q - 1)*((pdm)*t + (pmp)*t + (ppc)*t - 1),\n",
       "   -(pdm)*q*t*(q - 1)*(-p_pair**2*rp**2 + p_pair*rp + 4)/4 + (pmp)*qp*t*(qp - 1)**2*(p_pair**2*qp*r**2 - p_pair**2*r**2 - p_pair*qp*r + p_pair*r - 3*qp + 6)/4 - (ppc)*q*t*(q - 1)/2 + q*(q - 1)*((pdm)*t + (pmp)*t + (ppc)*t - 1),\n",
       "   -(pdm)*q*t*(q - 1)*(-p_pair**2*rp**2 + p_pair*rp + 1)/3 + (pmp)*qp*t*(qp - 1)**2*(4*p_pair**2*qp*r**2 - 4*p_pair**2*r**2 - 4*p_pair*qp*r + 4*p_pair*r - 3*qp + 6)/12 - (ppc)*q*t*(q - 1)/6 + q*(q - 1)*((pdm)*t + (pmp)*t + (ppc)*t - 1)/3,\n",
       "   -3*(pdm)*q*t*(q - 1)/2 - 9*(pmp)*qp*t*(qp - 2)*(qp - 1)**2/8 - 3*(ppc)*q*t*(q - 1)/4 + 3*q*(q - 1)*((pdm)*t + (pmp)*t + (ppc)*t - 1)/2]],\n",
       " [8,\n",
       "  [t*((pmp)*qp*(3*qp**3 - qp**2 - qp + 1) + (ppc)*q*(2*q*vp**2 - 2*q*vp + q + 1))/4,\n",
       "   t*(-(pmp)*qp*(p_pair**2*qp**3*r**2 - 2*p_pair**2*qp**2*r**2 + p_pair**2*qp*r**2 - p_pair*qp**3*r + 2*p_pair*qp**2*r - p_pair*qp*r - 3*qp**3 + qp**2 + qp - 1) + (ppc)*q*(-2*p_pair**2*q*r**2*vp**2 + 2*p_pair**2*q*r**2*vp - p_pair**2*q*r**2 + 2*p_pair*q*r*vp**2 - 2*p_pair*q*r*vp + p_pair*q*r + 2*q*vp**2 - 2*q*vp + q + 1))/8,\n",
       "   t*(-(pmp)*qp*(4*p_pair**2*qp**3*r**2 - 8*p_pair**2*qp**2*r**2 + 4*p_pair**2*qp*r**2 - 4*p_pair*qp**3*r + 8*p_pair*qp**2*r - 4*p_pair*qp*r - 3*qp**3 + qp**2 + qp - 1) + (ppc)*q*(-8*p_pair**2*q*r**2*vp**2 + 8*p_pair**2*q*r**2*vp - 4*p_pair**2*q*r**2 + 8*p_pair*q*r*vp**2 - 8*p_pair*q*r*vp + 4*p_pair*q*r + 2*q*vp**2 - 2*q*vp + q + 1))/24,\n",
       "   3*t*((pmp)*qp*(3*qp**3 - qp**2 - qp + 1) + (ppc)*q*(2*q*vp**2 - 2*q*vp + q + 1))/16]],\n",
       " [9,\n",
       "  [3*(pmp)*qp**2*t*(1 - qp**2)/2,\n",
       "   -(pmp)*qp**2*t*(qp - 1)*(-p_pair**2*qp*r**2 + p_pair*qp*r + 3*qp + 3)/4,\n",
       "   -(pmp)*qp**2*t*(qp - 1)*(-4*p_pair**2*qp*r**2 + 4*p_pair*qp*r + 3*qp + 3)/12,\n",
       "   9*(pmp)*qp**2*t*(1 - qp**2)/8]],\n",
       " [10,\n",
       "  [-(pmp)*q**2*t + 3*(pmp)*qp**4*t/2 - 5*(pmp)*qp**3*t/2 + 3*(pmp)*qp**2*t/2 - (ppc)*q**2*t/2 + q**2,\n",
       "   (pdm)*q**2*t*(-p_pair**2*rp**2 + p_pair*rp + 4)/8 + (pmp)*qp**2*t*(-2*p_pair**2*qp**2*r**2 + 2*p_pair**2*qp*r**2 - p_pair**2*r**2 + 2*p_pair*qp**2*r - 2*p_pair*qp*r + p_pair*r + 6*qp**2 - 10*qp + 6)/8 + (ppc)*q**2*t/4 + q**2*(-(pdm)*t - (pmp)*t - (ppc)*t + 1)/2,\n",
       "   (pdm)*q**2*t*(-p_pair**2*rp**2 + p_pair*rp + 1)/6 + (pmp)*qp**2*t*(-4*p_pair**2*qp**2*r**2 + 4*p_pair**2*qp*r**2 - 2*p_pair**2*r**2 + 4*p_pair*qp**2*r - 4*p_pair*qp*r + 2*p_pair*r + 3*qp**2 - 5*qp + 3)/12 + (ppc)*q**2*t/12 + q**2*(-(pdm)*t - (pmp)*t - (ppc)*t + 1)/6,\n",
       "   -3*(pmp)*q**2*t/4 + 9*(pmp)*qp**4*t/8 - 15*(pmp)*qp**3*t/8 + 9*(pmp)*qp**2*t/8 - 3*(ppc)*q**2*t/8 + 3*q**2/4]],\n",
       " [11,\n",
       "  [0,\n",
       "   (ppc)*q*t*vp*(q - 1)*(vp - 1)*(2*p_pair**2*r**2 - 2*p_pair*r + 1)/4,\n",
       "   (ppc)*q*t*vp*(q - 1)*(vp - 1)*(2*p_pair**2*r**2 - 2*p_pair*r + 1)/3,\n",
       "   (ppc)*q*t*vp*(q - 1)*(vp - 1)/8]],\n",
       " [12,\n",
       "  [0,\n",
       "   p_pair*r*t*(p_pair*r - 1)*(-(pmp)*qp*(qp - 1)**2 + (ppc)*q*(q - 1)*(2*vp**2 - 2*vp + 1))/4,\n",
       "   p_pair*r*t*(p_pair*r - 1)*(-(pmp)*qp*(qp - 1)**2 + (ppc)*q*(q - 1)*(2*vp**2 - 2*vp + 1))/3,\n",
       "   t*((pmp)*qp*(qp - 1)**2 - (ppc)*q*(q - 1)*(2*vp**2 - 2*vp + 1))/16]],\n",
       " [13,\n",
       "  [0,\n",
       "   -(pdm)*q*t*(q - 1)*(p_pair**2*rp**2 - p_pair*rp + 2)/4 - (pmp)*qp*t*(qp - 1)**2*(2*p_pair**2*qp*r**2 - 2*p_pair**2*r**2 - 2*p_pair*qp*r + 2*p_pair*r + 3*qp - 6)/8 - (ppc)*q*t*(q - 1)/4 + q*(q - 1)*((pdm)*t + (pmp)*t + (ppc)*t - 1)/2,\n",
       "   -(pdm)*q*t*(q - 1)*(p_pair**2*rp**2 - p_pair*rp + 2)/3 - (pmp)*qp*t*(qp - 1)**2*(2*p_pair**2*qp*r**2 - 2*p_pair**2*r**2 - 2*p_pair*qp*r + 2*p_pair*r + 3*qp - 6)/6 - (ppc)*q*t*(q - 1)/3 + 2*q*(q - 1)*((pdm)*t + (pmp)*t + (ppc)*t - 1)/3,\n",
       "   -(pdm)*q*t*(q - 1)/4 - 3*(pmp)*qp*t*(qp - 2)*(qp - 1)**2/16 - (ppc)*q*t*(q - 1)/8 + q*(q - 1)*((pdm)*t + (pmp)*t + (ppc)*t - 1)/4]],\n",
       " [14,\n",
       "  [0,\n",
       "   -(pmp)*qp**2*t*(qp - 1)*(2*p_pair**2*qp*r**2 - 2*p_pair*qp*r + 3*qp + 3)/8,\n",
       "   -(pmp)*qp**2*t*(qp - 1)*(2*p_pair**2*qp*r**2 - 2*p_pair*qp*r + 3*qp + 3)/6,\n",
       "   3*(pmp)*qp**2*t*(1 - qp**2)/16]],\n",
       " [15,\n",
       "  [0,\n",
       "   (ppc)*p_pair*r*t*vp*(q - 1)**2*(vp - 1)*(p_pair*r - 1)/2,\n",
       "   2*(ppc)*p_pair*r*t*vp*(q - 1)**2*(vp - 1)*(p_pair*r - 1)/3,\n",
       "   -(ppc)*t*vp*(q - 1)**2*(vp - 1)/8]],\n",
       " [16,\n",
       "  [0,\n",
       "   (ppc)*p_pair*q**2*r*t*vp*(vp - 1)*(p_pair*r - 1)/2,\n",
       "   2*(ppc)*p_pair*q**2*r*t*vp*(vp - 1)*(p_pair*r - 1)/3,\n",
       "   (ppc)*q**2*t*vp*(1 - vp)/8]],\n",
       " [17,\n",
       "  [0,\n",
       "   (ppc)*q*t*vp*(q - 1)*(vp - 1)*(2*p_pair**2*r**2 - 2*p_pair*r + 1)/4,\n",
       "   (ppc)*q*t*vp*(q - 1)*(vp - 1)*(2*p_pair**2*r**2 - 2*p_pair*r + 1)/3,\n",
       "   (ppc)*q*t*vp*(q - 1)*(vp - 1)/8]],\n",
       " [18, [0, 0, 0, 0]],\n",
       " [19,\n",
       "  [0,\n",
       "   p_pair*r*t*(p_pair*r - 1)*(-(pmp)*qp*(qp - 1)**2 + (ppc)*q*(q - 1)*(2*vp**2 - 2*vp + 1))/4,\n",
       "   p_pair*r*t*(p_pair*r - 1)*(-(pmp)*qp*(qp - 1)**2 + (ppc)*q*(q - 1)*(2*vp**2 - 2*vp + 1))/3,\n",
       "   t*((pmp)*qp*(qp - 1)**2 - (ppc)*q*(q - 1)*(2*vp**2 - 2*vp + 1))/16]],\n",
       " [20,\n",
       "  [0,\n",
       "   (pmp)*p_pair*qp**2*r*t*(qp - 1)*(p_pair*r - 1)/2,\n",
       "   2*(pmp)*p_pair*qp**2*r*t*(qp - 1)*(p_pair*r - 1)/3,\n",
       "   (pmp)*qp**2*t*(1 - qp)/8]],\n",
       " [21,\n",
       "  [0,\n",
       "   (pdm)*t*(q - 1)**2*(p_pair**2*rp**2 - p_pair*rp + 2)/4 + (pmp)*t*(qp - 1)**3*(2*p_pair**2*qp*r**2 - 2*p_pair**2*r**2 - 2*p_pair*qp*r + 2*p_pair*r + 3*qp - 4)/8 + (ppc)*t*(q - 1)*(4*p_pair**2*q*r**2*vp**2 - 4*p_pair**2*q*r**2*vp + 2*p_pair**2*q*r**2 - 4*p_pair**2*r**2*vp**2 + 4*p_pair**2*r**2*vp - 2*p_pair**2*r**2 - 4*p_pair*q*r*vp**2 + 4*p_pair*q*r*vp - 2*p_pair*q*r + 4*p_pair*r*vp**2 - 4*p_pair*r*vp + 2*p_pair*r + 2*q*vp**2 - 2*q*vp + 3*q - 2*vp**2 + 2*vp - 4)/8 + (q - 1)**2*(-(pdm)*t - (pmp)*t - (ppc)*t + 1)/2,\n",
       "   (pdm)*t*(q - 1)**2*(p_pair**2*rp**2 - p_pair*rp + 2)/3 + (pmp)*t*(qp - 1)**3*(2*p_pair**2*qp*r**2 - 2*p_pair**2*r**2 - 2*p_pair*qp*r + 2*p_pair*r + 3*qp - 4)/6 + (ppc)*t*(q - 1)*(4*p_pair**2*q*r**2*vp**2 - 4*p_pair**2*q*r**2*vp + 2*p_pair**2*q*r**2 - 4*p_pair**2*r**2*vp**2 + 4*p_pair**2*r**2*vp - 2*p_pair**2*r**2 - 4*p_pair*q*r*vp**2 + 4*p_pair*q*r*vp - 2*p_pair*q*r + 4*p_pair*r*vp**2 - 4*p_pair*r*vp + 2*p_pair*r + 2*q*vp**2 - 2*q*vp + 3*q - 2*vp**2 + 2*vp - 4)/6 + 2*(q - 1)**2*(-(pdm)*t - (pmp)*t - (ppc)*t + 1)/3,\n",
       "   (pdm)*t*(q - 1)**2/4 + (pmp)*t*(qp - 1)**3*(3*qp - 4)/16 + (ppc)*t*(q - 1)*(2*q*vp**2 - 2*q*vp + 3*q - 2*vp**2 + 2*vp - 4)/16 + (q - 1)**2*(-(pdm)*t - (pmp)*t - (ppc)*t + 1)/4]],\n",
       " [22,\n",
       "  [0,\n",
       "   -(pdm)*q*t*(q - 1)*(p_pair**2*rp**2 - p_pair*rp + 2)/4 - (pmp)*qp*t*(qp - 1)**2*(2*p_pair**2*qp*r**2 - 2*p_pair**2*r**2 - 2*p_pair*qp*r + 2*p_pair*r + 3*qp - 6)/8 - (ppc)*q*t*(q - 1)/4 + q*(q - 1)*((pdm)*t + (pmp)*t + (ppc)*t - 1)/2,\n",
       "   -(pdm)*q*t*(q - 1)*(p_pair**2*rp**2 - p_pair*rp + 2)/3 - (pmp)*qp*t*(qp - 1)**2*(2*p_pair**2*qp*r**2 - 2*p_pair**2*r**2 - 2*p_pair*qp*r + 2*p_pair*r + 3*qp - 6)/6 - (ppc)*q*t*(q - 1)/3 + 2*q*(q - 1)*((pdm)*t + (pmp)*t + (ppc)*t - 1)/3,\n",
       "   -(pdm)*q*t*(q - 1)/4 - 3*(pmp)*qp*t*(qp - 2)*(qp - 1)**2/16 - (ppc)*q*t*(q - 1)/8 + q*(q - 1)*((pdm)*t + (pmp)*t + (ppc)*t - 1)/4]],\n",
       " [23,\n",
       "  [0,\n",
       "   t*((pmp)*qp*(2*p_pair**2*qp**3*r**2 - 4*p_pair**2*qp**2*r**2 + 2*p_pair**2*qp*r**2 - 2*p_pair*qp**3*r + 4*p_pair*qp**2*r - 2*p_pair*qp*r + 3*qp**3 - qp**2 - qp + 1) + (ppc)*q*(4*p_pair**2*q*r**2*vp**2 - 4*p_pair**2*q*r**2*vp + 2*p_pair**2*q*r**2 - 4*p_pair*q*r*vp**2 + 4*p_pair*q*r*vp - 2*p_pair*q*r + 2*q*vp**2 - 2*q*vp + q + 1))/8,\n",
       "   t*((pmp)*qp*(2*p_pair**2*qp**3*r**2 - 4*p_pair**2*qp**2*r**2 + 2*p_pair**2*qp*r**2 - 2*p_pair*qp**3*r + 4*p_pair*qp**2*r - 2*p_pair*qp*r + 3*qp**3 - qp**2 - qp + 1) + (ppc)*q*(4*p_pair**2*q*r**2*vp**2 - 4*p_pair**2*q*r**2*vp + 2*p_pair**2*q*r**2 - 4*p_pair*q*r*vp**2 + 4*p_pair*q*r*vp - 2*p_pair*q*r + 2*q*vp**2 - 2*q*vp + q + 1))/6,\n",
       "   t*((pmp)*qp*(3*qp**3 - qp**2 - qp + 1) + (ppc)*q*(2*q*vp**2 - 2*q*vp + q + 1))/16]],\n",
       " [24,\n",
       "  [0,\n",
       "   -(pmp)*qp**2*t*(qp - 1)*(2*p_pair**2*qp*r**2 - 2*p_pair*qp*r + 3*qp + 3)/8,\n",
       "   -(pmp)*qp**2*t*(qp - 1)*(2*p_pair**2*qp*r**2 - 2*p_pair*qp*r + 3*qp + 3)/6,\n",
       "   3*(pmp)*qp**2*t*(1 - qp**2)/16]],\n",
       " [25,\n",
       "  [0,\n",
       "   (pdm)*q**2*t*(p_pair**2*rp**2 - p_pair*rp + 2)/4 + (pmp)*qp**2*t*(2*p_pair**2*qp**2*r**2 - 2*p_pair**2*qp*r**2 + p_pair**2*r**2 - 2*p_pair*qp**2*r + 2*p_pair*qp*r - p_pair*r + 3*qp**2 - 5*qp + 3)/4 + (ppc)*q**2*t/4 + q**2*(-(pdm)*t - (pmp)*t - (ppc)*t + 1)/2,\n",
       "   (pdm)*q**2*t*(p_pair**2*rp**2 - p_pair*rp + 2)/3 + (pmp)*qp**2*t*(2*p_pair**2*qp**2*r**2 - 2*p_pair**2*qp*r**2 + p_pair**2*r**2 - 2*p_pair*qp**2*r + 2*p_pair*qp*r - p_pair*r + 3*qp**2 - 5*qp + 3)/3 + (ppc)*q**2*t/3 + 2*q**2*(-(pdm)*t - (pmp)*t - (ppc)*t + 1)/3,\n",
       "   -(pmp)*q**2*t/4 + 3*(pmp)*qp**4*t/8 - 5*(pmp)*qp**3*t/8 + 3*(pmp)*qp**2*t/8 - (ppc)*q**2*t/8 + q**2/4]],\n",
       " [26,\n",
       "  [0,\n",
       "   -(ppc)*t*vp*(q - 1)**2*(vp - 1)*(2*p_pair**2*r**2 - 2*p_pair*r + 1)/8,\n",
       "   -(ppc)*t*vp*(q - 1)**2*(vp - 1)*(4*p_pair**2*r**2 - 4*p_pair*r + 3)/12,\n",
       "   0]],\n",
       " [27,\n",
       "  [0,\n",
       "   -(ppc)*q**2*t*vp*(vp - 1)*(2*p_pair**2*r**2 - 2*p_pair*r + 1)/8,\n",
       "   -(ppc)*q**2*t*vp*(vp - 1)*(4*p_pair**2*r**2 - 4*p_pair*r + 3)/12,\n",
       "   0]],\n",
       " [28,\n",
       "  [0,\n",
       "   -(ppc)*p_pair*q*r*t*vp*(q - 1)*(vp - 1)*(p_pair*r - 1)/2,\n",
       "   (ppc)*q*t*vp*(q - 1)*(vp - 1)*(-4*p_pair**2*r**2 + 4*p_pair*r + 1)/6,\n",
       "   0]],\n",
       " [29, [0, 0, 0, 0]],\n",
       " [30,\n",
       "  [0,\n",
       "   t*((pmp)*qp*(qp - 1)**2 - (ppc)*q*(q - 1)*(2*vp**2 - 2*vp + 1))*(2*p_pair**2*r**2 - 2*p_pair*r + 1)/8,\n",
       "   t*((pmp)*qp*(qp - 1)**2 - (ppc)*q*(q - 1)*(2*vp**2 - 2*vp + 1))*(4*p_pair**2*r**2 - 4*p_pair*r + 3)/12,\n",
       "   0]],\n",
       " [31,\n",
       "  [0,\n",
       "   -(pmp)*qp**2*t*(qp - 1)*(2*p_pair**2*r**2 - 2*p_pair*r + 1)/8,\n",
       "   -(pmp)*qp**2*t*(qp - 1)*(4*p_pair**2*r**2 - 4*p_pair*r + 3)/12,\n",
       "   0]],\n",
       " [32,\n",
       "  [0,\n",
       "   -p_pair*t*((pdm)*rp*(q - 1)**2*(p_pair*rp - 1) + (pmp)*r*(qp - 1)**4*(p_pair*r - 1) + (ppc)*r*(q - 1)**2*(p_pair*r - 1)*(2*vp**2 - 2*vp + 1))/8,\n",
       "   (pdm)*t*(q - 1)**2*(-p_pair**2*rp**2 + p_pair*rp + 1)/6 - (pmp)*t*(qp - 1)**3*(4*p_pair**2*qp*r**2 - 4*p_pair**2*r**2 - 4*p_pair*qp*r + 4*p_pair*r - 3*qp + 4)/24 - (ppc)*t*(q - 1)*(8*p_pair**2*q*r**2*vp**2 - 8*p_pair**2*q*r**2*vp + 4*p_pair**2*q*r**2 - 8*p_pair**2*r**2*vp**2 + 8*p_pair**2*r**2*vp - 4*p_pair**2*r**2 - 8*p_pair*q*r*vp**2 + 8*p_pair*q*r*vp - 4*p_pair*q*r + 8*p_pair*r*vp**2 - 8*p_pair*r*vp + 4*p_pair*r - 2*q*vp**2 + 2*q*vp - 3*q + 2*vp**2 - 2*vp + 4)/24 + (q - 1)**2*(-(pdm)*t - (pmp)*t - (ppc)*t + 1)/6,\n",
       "   0]],\n",
       " [33,\n",
       "  [0,\n",
       "   p_pair*t*((pdm)*q*rp*(q - 1)*(p_pair*rp - 1) + (pmp)*qp*r*(qp - 1)**3*(p_pair*r - 1))/4,\n",
       "   -(pdm)*q*t*(q - 1)*(-p_pair**2*rp**2 + p_pair*rp + 1)/3 + (pmp)*qp*t*(qp - 1)**2*(4*p_pair**2*qp*r**2 - 4*p_pair**2*r**2 - 4*p_pair*qp*r + 4*p_pair*r - 3*qp + 6)/12 - (ppc)*q*t*(q - 1)/6 + q*(q - 1)*((pdm)*t + (pmp)*t + (ppc)*t - 1)/3,\n",
       "   0]],\n",
       " [34,\n",
       "  [0,\n",
       "   -p_pair*r*t*(p_pair*r - 1)*((pmp)*qp**2*(qp - 1)**2 + (ppc)*q**2*(2*vp**2 - 2*vp + 1))/8,\n",
       "   t*(-(pmp)*qp*(4*p_pair**2*qp**3*r**2 - 8*p_pair**2*qp**2*r**2 + 4*p_pair**2*qp*r**2 - 4*p_pair*qp**3*r + 8*p_pair*qp**2*r - 4*p_pair*qp*r - 3*qp**3 + qp**2 + qp - 1) + (ppc)*q*(-8*p_pair**2*q*r**2*vp**2 + 8*p_pair**2*q*r**2*vp - 4*p_pair**2*q*r**2 + 8*p_pair*q*r*vp**2 - 8*p_pair*q*r*vp + 4*p_pair*q*r + 2*q*vp**2 - 2*q*vp + q + 1))/24,\n",
       "   0]],\n",
       " [35,\n",
       "  [0,\n",
       "   (pmp)*p_pair*qp**3*r*t*(qp - 1)*(p_pair*r - 1)/4,\n",
       "   -(pmp)*qp**2*t*(qp - 1)*(-4*p_pair**2*qp*r**2 + 4*p_pair*qp*r + 3*qp + 3)/12,\n",
       "   0]],\n",
       " [36,\n",
       "  [0,\n",
       "   -p_pair*t*((pdm)*q**2*rp*(p_pair*rp - 1) + (pmp)*qp**2*r*(p_pair*r - 1)*(2*qp**2 - 2*qp + 1))/8,\n",
       "   (pdm)*q**2*t*(-p_pair**2*rp**2 + p_pair*rp + 1)/6 + (pmp)*qp**2*t*(-4*p_pair**2*qp**2*r**2 + 4*p_pair**2*qp*r**2 - 2*p_pair**2*r**2 + 4*p_pair*qp**2*r - 4*p_pair*qp*r + 2*p_pair*r + 3*qp**2 - 5*qp + 3)/12 + (ppc)*q**2*t/12 + q**2*(-(pdm)*t - (pmp)*t - (ppc)*t + 1)/6,\n",
       "   0]]]"
      ]
     },
     "execution_count": 13,
     "metadata": {},
     "output_type": "execute_result"
    }
   ],
   "source": [
    "comb_lst"
   ]
  },
  {
   "cell_type": "code",
   "execution_count": null,
   "metadata": {
    "collapsed": true
   },
   "outputs": [],
   "source": []
  }
 ],
 "metadata": {
  "kernelspec": {
   "display_name": "Python 3",
   "language": "python",
   "name": "python3"
  },
  "language_info": {
   "codemirror_mode": {
    "name": "ipython",
    "version": 3
   },
   "file_extension": ".py",
   "mimetype": "text/x-python",
   "name": "python",
   "nbconvert_exporter": "python",
   "pygments_lexer": "ipython3",
   "version": "3.6.1"
  }
 },
 "nbformat": 4,
 "nbformat_minor": 2
}
