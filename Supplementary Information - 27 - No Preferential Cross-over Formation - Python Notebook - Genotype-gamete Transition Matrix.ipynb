{
 "cells": [
  {
   "cell_type": "code",
   "execution_count": 1,
   "metadata": {
    "collapsed": true
   },
   "outputs": [],
   "source": [
    "import sympy as sp \n",
    "import itertools\n",
    "a1,a2,b1,b2,a3,a4,b3,b2,b4,c1,c2,c3,c4 = sp.symbols('a1,a2,b1,b2,a3,a4,b3,b2,b4,c1,c2,c3,c4')    \n",
    "\n",
    "import copy\n",
    "from sympy import *\n",
    "from itertools import permutations \n",
    "from itertools import chain\n",
    "from itertools import product\n"
   ]
  },
  {
   "cell_type": "code",
   "execution_count": 2,
   "metadata": {
    "collapsed": true
   },
   "outputs": [],
   "source": [
    "a, b, c = sp.symbols('a, b, c', cls=Function)\n",
    "\n",
    "def subQ(x):\n",
    "    \n",
    "    if x == a(1):\n",
    "        return a1\n",
    "    if x == b(1):\n",
    "        return b1\n",
    "    if x == c(1):\n",
    "        return c1\n",
    "    if x == c(2):\n",
    "        return c2\n",
    "    if x == c(3):\n",
    "        return c3\n",
    "    if x == c(4):\n",
    "        return c4\n",
    "    if x == a(2):\n",
    "        return a2\n",
    "    if x == b(2):\n",
    "        return b2\n",
    "    if x == a(3):\n",
    "        return a3\n",
    "    if x == b(3):\n",
    "        return b3\n",
    "    if x == a(4):\n",
    "        return a4\n",
    "    if x == b(4):\n",
    "        return b4"
   ]
  },
  {
   "cell_type": "code",
   "execution_count": 3,
   "metadata": {
    "collapsed": true
   },
   "outputs": [],
   "source": [
    "def get_mode_gametes(mode):\n",
    "    \n",
    "    mode_set = list({modes[mode][hap][locus] for hap in [0,1] for locus in [0,1,2]})\n",
    "    mode_set.sort()\n",
    "\n",
    "    M = []\n",
    "    \n",
    "    if len(mode_set) == 1:\n",
    "        for i in range(1,5):\n",
    "            M.append([[subQ(a(i)), subQ(b(i)), subQ(c(i))], [subQ(a(i)), subQ(b(i)), subQ(c(i))]])\n",
    "    elif len(mode_set) == 2:\n",
    "        for i in range(1,5):\n",
    "            for j in range(1,5):\n",
    "                exec(\"%s = %d\" % (mode_set[0],i))\n",
    "                exec(\"%s = %d\" % (mode_set[1],j))\n",
    "                if i!=j:\n",
    "                     M.append([[subQ(a(eval(modes[mode][0][0]))), \n",
    "                            subQ(b(eval(modes[mode][0][1]))), \n",
    "                            subQ(c(eval(modes[mode][0][2])))], \n",
    "                           [subQ(a(eval(modes[mode][1][0]))), \n",
    "                            subQ(b(eval(modes[mode][1][1]))), \n",
    "                            subQ(c(eval(modes[mode][1][2])))]])\n",
    "        \n",
    "        for i in range(len(M)):\n",
    "            rd=[M[i][1], M[i][0]]\n",
    "            M.append(rd) \n",
    "        \n",
    "        tmp_u = []\n",
    "        for item in M: \n",
    "            if item not in tmp_u: \n",
    "                tmp_u.append(item)\n",
    "                \n",
    "        M = tmp_u\n",
    "        \n",
    "    elif len(mode_set) == 3:\n",
    "        for i in range(1,5):\n",
    "            for j in range(1,5):\n",
    "                for k in range(1,5):\n",
    "                    exec(\"%s = %d\" % (mode_set[0],i))\n",
    "                    exec(\"%s = %d\" % (mode_set[1],j))\n",
    "                    exec(\"%s = %d\" % (mode_set[2],k))\n",
    "                    if i!=j:\n",
    "                        if j!=k:\n",
    "                            if i!=k:\n",
    "                                M.append([[subQ(a(eval(modes[mode][0][0]))), \n",
    "                                    subQ(b(eval(modes[mode][0][1]))), \n",
    "                                    subQ(c(eval(modes[mode][0][2])))], \n",
    "                                   [subQ(a(eval(modes[mode][1][0]))), \n",
    "                                    subQ(b(eval(modes[mode][1][1]))), \n",
    "                                    subQ(c(eval(modes[mode][1][2])))]])\n",
    "        for i in range(len(M)):\n",
    "            rd=[M[i][1], M[i][0]]\n",
    "            M.append(rd)\n",
    "        \n",
    "        tmp_u = []\n",
    "        for item in M: \n",
    "            if item not in tmp_u: \n",
    "                tmp_u.append(item)\n",
    "                \n",
    "        M = tmp_u\n",
    "        \n",
    "    elif len(mode_set) == 4:\n",
    "        for i in range(1, 5):\n",
    "            for j in range (1,5):\n",
    "                for k in range(1, 5):\n",
    "                    for l in range(1,5):\n",
    "                        exec(\"%s = %d\" % (mode_set[0],i))\n",
    "                        exec(\"%s = %d\" % (mode_set[1],j))\n",
    "                        exec(\"%s = %d\" % (mode_set[2],k))\n",
    "                        exec(\"%s = %d\" % (mode_set[3],l))\n",
    "                        if i!=j:\n",
    "                            if j!=k:\n",
    "                                if i!=k:\n",
    "                                    if i!=l:\n",
    "                                        if j!=l:\n",
    "                                            if k!=l:\n",
    "                                                M.append([[subQ(a(eval(modes[mode][0][0]))), \n",
    "                                                    subQ(b(eval(modes[mode][0][1]))), \n",
    "                                                    subQ(c(eval(modes[mode][0][2])))], \n",
    "                                                   [subQ(a(eval(modes[mode][1][0]))), \n",
    "                                                    subQ(b(eval(modes[mode][1][1]))), \n",
    "                                                    subQ(c(eval(modes[mode][1][2])))]])\n",
    "        \n",
    "        for i in range(len(M)):\n",
    "            rd=[M[i][1], M[i][0]]\n",
    "            M.append(rd)\n",
    "        \n",
    "        tmp_u = []\n",
    "        for item in M: \n",
    "            if item not in tmp_u: \n",
    "                tmp_u.append(item)\n",
    "                \n",
    "        M = tmp_u\n",
    "        \n",
    "    return M"
   ]
  },
  {
   "cell_type": "code",
   "execution_count": 4,
   "metadata": {
    "collapsed": true
   },
   "outputs": [],
   "source": [
    "modes = [[['i_m','i_m','i_m'],['i_m','i_m','i_m']],[['i_m','j_m','i_m'],['i_m','j_m','i_m']],\\\n",
    "[['i_m','i_m','i_m'],['i_m','j_m','i_m']],[['i_m','j_m','i_m'],['i_m','k_m','i_m']],\\\n",
    "[['i_m','i_m','j_m'],['i_m','i_m','j_m']],[['i_m','j_m','j_m'],['i_m','j_m','j_m']],\\\n",
    "[['i_m','k_m','j_m'],['i_m','k_m','j_m']],[['i_m','i_m','j_m'],['i_m','j_m','j_m']],\\\n",
    "[['i_m','i_m','j_m'],['i_m','k_m','j_m']],[['i_m','j_m','j_m'],['i_m','k_m','j_m']],\\\n",
    "[['i_m','k_m','j_m'],['i_m','l_m','j_m']],[['i_m','i_m','i_m'],['i_m','i_m','j_m']],\\\n",
    "[['i_m','j_m','i_m'],['i_m','j_m','j_m']],[['i_m','k_m','i_m'],['i_m','k_m','j_m']],\\\n",
    "[['i_m','i_m','i_m'],['i_m','j_m','j_m']],[['i_m','j_m','i_m'],['i_m','i_m','j_m']],\\\n",
    "[['i_m','i_m','i_m'],['i_m','k_m','j_m']],[['i_m','k_m','i_m'],['i_m','i_m','j_m']],\\\n",
    "[['i_m','j_m','i_m'],['i_m','k_m','j_m']],[['i_m','k_m','i_m'],['i_m','j_m','j_m']],\\\n",
    "[['i_m','k_m','i_m'],['i_m','l_m','j_m']],[['i_m','i_m','j_m'],['i_m','i_m','k_m']],\\\n",
    "[['i_m','j_m','j_m'],['i_m','j_m','k_m']],[['i_m','l_m','j_m'],['i_m','l_m','k_m']],\\\n",
    "[['i_m','i_m','j_m'],['i_m','j_m','k_m']],[['i_m','j_m','j_m'],['i_m','i_m','k_m']],\\\n",
    "[['i_m','i_m','j_m'],['i_m','l_m','k_m']],[['i_m','j_m','j_m'],['i_m','k_m','k_m']],\\\n",
    "[['i_m','k_m','j_m'],['i_m','j_m','k_m']],[['i_m','k_m','j_m'],['i_m','l_m','k_m']],\\\n",
    "[['i_m','l_m','j_m'],['i_m','k_m','k_m']],[['i_m','i_m','i_m'],['j_m','i_m','i_m']],\\\n",
    "[['i_m','j_m','i_m'],['j_m','j_m','i_m']],[['i_m','k_m','i_m'],['j_m','k_m','i_m']],\\\n",
    "[['i_m','i_m','i_m'],['j_m','j_m','i_m']],[['i_m','j_m','i_m'],['j_m','i_m','i_m']],\\\n",
    "[['i_m','i_m','i_m'],['j_m','k_m','i_m']],[['i_m','k_m','i_m'],['j_m','i_m','i_m']],\\\n",
    "[['i_m','j_m','i_m'],['j_m','k_m','i_m']],[['i_m','k_m','i_m'],['j_m','j_m','i_m']],\\\n",
    "[['i_m','k_m','i_m'],['j_m','l_m','i_m']],[['j_m','i_m','i_m'],['k_m','i_m','i_m']],\\\n",
    "[['j_m','j_m','i_m'],['k_m','j_m','i_m']],[['j_m','l_m','i_m'],['k_m','l_m','i_m']],\\\n",
    "[['j_m','i_m','i_m'],['k_m','j_m','i_m']],[['j_m','j_m','i_m'],['k_m','i_m','i_m']],\\\n",
    "[['j_m','i_m','i_m'],['k_m','l_m','i_m']],[['j_m','j_m','i_m'],['k_m','k_m','i_m']],\\\n",
    "[['j_m','k_m','i_m'],['k_m','j_m','i_m']],[['j_m','j_m','i_m'],['k_m','l_m','i_m']],\\\n",
    "[['j_m','l_m','i_m'],['k_m','j_m','i_m']],[['i_m','i_m','i_m'],['j_m','i_m','j_m']],\\\n",
    "[['i_m','i_m','j_m'],['j_m','i_m','i_m']],[['i_m','k_m','i_m'],['j_m','k_m','j_m']],\\\n",
    "[['i_m','k_m','j_m'],['j_m','k_m','i_m']],[['i_m','i_m','i_m'],['j_m','j_m','j_m']],\\\n",
    "[['i_m','j_m','i_m'],['j_m','i_m','j_m']],[['i_m','i_m','j_m'],['j_m','j_m','i_m']],\\\n",
    "[['i_m','j_m','j_m'],['j_m','i_m','i_m']],[['i_m','i_m','i_m'],['j_m','k_m','j_m']],\\\n",
    "[['i_m','k_m','i_m'],['j_m','i_m','j_m']],[['i_m','i_m','j_m'],['j_m','k_m','i_m']],\\\n",
    "[['i_m','k_m','j_m'],['j_m','i_m','i_m']],[['i_m','k_m','i_m'],['j_m','l_m','j_m']],\\\n",
    "[['i_m','l_m','j_m'],['j_m','k_m','i_m']],[['i_m','i_m','i_m'],['j_m','i_m','k_m']],\\\n",
    "[['i_m','i_m','k_m'],['j_m','i_m','i_m']],[['i_m','j_m','i_m'],['j_m','j_m','k_m']],\\\n",
    "[['i_m','j_m','k_m'],['j_m','j_m','i_m']],[['i_m','k_m','i_m'],['j_m','k_m','k_m']],\\\n",
    "[['i_m','k_m','k_m'],['j_m','k_m','i_m']],[['i_m','l_m','i_m'],['j_m','l_m','k_m']],\\\n",
    "[['i_m','l_m','k_m'],['j_m','l_m','i_m']],[['i_m','i_m','i_m'],['j_m','j_m','k_m']],\\\n",
    "[['i_m','j_m','i_m'],['j_m','i_m','k_m']],[['i_m','i_m','k_m'],['j_m','j_m','i_m']],\\\n",
    "[['i_m','j_m','k_m'],['j_m','i_m','i_m']],[['i_m','i_m','i_m'],['j_m','k_m','k_m']],\\\n",
    "[['i_m','k_m','i_m'],['j_m','i_m','k_m']],[['i_m','i_m','k_m'],['j_m','k_m','i_m']],\\\n",
    "[['i_m','k_m','k_m'],['j_m','i_m','i_m']],[['i_m','i_m','i_m'],['j_m','l_m','k_m']],\\\n",
    "[['i_m','l_m','i_m'],['j_m','i_m','k_m']],[['i_m','i_m','k_m'],['j_m','l_m','i_m']],\\\n",
    "[['i_m','l_m','k_m'],['j_m','i_m','i_m']],[['i_m','j_m','i_m'],['j_m','k_m','k_m']],\\\n",
    "[['i_m','k_m','i_m'],['j_m','j_m','k_m']],[['i_m','j_m','k_m'],['j_m','k_m','i_m']],\\\n",
    "[['i_m','k_m','k_m'],['j_m','j_m','i_m']],[['i_m','j_m','i_m'],['j_m','l_m','k_m']],\\\n",
    "[['i_m','l_m','i_m'],['j_m','j_m','k_m']],[['i_m','j_m','k_m'],['j_m','l_m','i_m']],\\\n",
    "[['i_m','l_m','k_m'],['j_m','j_m','i_m']],[['i_m','k_m','i_m'],['j_m','l_m','k_m']],\\\n",
    "[['i_m','l_m','i_m'],['j_m','k_m','k_m']],[['i_m','k_m','k_m'],['j_m','l_m','i_m']],\\\n",
    "[['i_m','l_m','k_m'],['j_m','k_m','i_m']],[['i_m','i_m','k_m'],['j_m','i_m','l_m']],\\\n",
    "[['i_m','k_m','k_m'],['j_m','k_m','l_m']],[['i_m','i_m','k_m'],['j_m','j_m','l_m']],\\\n",
    "[['i_m','j_m','k_m'],['j_m','i_m','l_m']],[['i_m','i_m','k_m'],['j_m','k_m','l_m']],\\\n",
    "[['i_m','k_m','k_m'],['j_m','i_m','l_m']],[['i_m','i_m','l_m'],['j_m','k_m','k_m']],\\\n",
    "[['i_m','k_m','l_m'],['j_m','i_m','k_m']],[['i_m','k_m','k_m'],['j_m','l_m','l_m']],\\\n",
    "[['i_m','l_m','k_m'],['j_m','k_m','l_m']]]"
   ]
  },
  {
   "cell_type": "code",
   "execution_count": 5,
   "metadata": {
    "collapsed": true
   },
   "outputs": [],
   "source": [
    "A1,A2,B1,B2,C1,C2 = sp.symbols('A1,A2,B1,B2,C1,C2') \n",
    "p = sp.symbols('p') "
   ]
  },
  {
   "cell_type": "code",
   "execution_count": 6,
   "metadata": {
    "collapsed": true
   },
   "outputs": [],
   "source": [
    "geno = [[[i11,i12,i13],[i21,i22,i23],[i31,i32,i33],[i41,i42,i43]] \\\n",
    "                                                         for i11 in [A1,A2] for i12 in [B1,B2] for i13 in [C1,C2] \\\n",
    "                                                        for i21 in [A1,A2] for i22 in [B1,B2] for i23 in [C1,C2] \\\n",
    "                                                        for i31 in [A1,A2] for i32 in [B1,B2] for i33 in [C1,C2] \\\n",
    "                                                        for i41 in [A1,A2] for i42 in [B1,B2] for i43 in [C1,C2]]"
   ]
  },
  {
   "cell_type": "code",
   "execution_count": 7,
   "metadata": {
    "collapsed": true
   },
   "outputs": [],
   "source": [
    "u_geno = [geno[0]]\n",
    "for item in geno:\n",
    "    flag = 0\n",
    "    for perm in itertools.permutations(item):\n",
    "        if list(perm) in u_geno: \n",
    "            flag = 1\n",
    "    if flag == 0:\n",
    "        u_geno.append(item)"
   ]
  },
  {
   "cell_type": "code",
   "execution_count": 8,
   "metadata": {},
   "outputs": [
    {
     "data": {
      "text/plain": [
       "330"
      ]
     },
     "execution_count": 8,
     "metadata": {},
     "output_type": "execute_result"
    }
   ],
   "source": [
    "len(u_geno)"
   ]
  },
  {
   "cell_type": "code",
   "execution_count": 9,
   "metadata": {
    "collapsed": true
   },
   "outputs": [],
   "source": [
    "gam = [[[i11,i12,i13],[i21,i22,i23]] \\\n",
    "                                                         for i11 in [A1,A2] for i12 in [B1,B2] for i13 in [C1,C2] \\\n",
    "                                                        for i21 in [A1,A2] for i22 in [B1,B2] for i23 in [C1,C2]]"
   ]
  },
  {
   "cell_type": "code",
   "execution_count": 10,
   "metadata": {
    "collapsed": true
   },
   "outputs": [],
   "source": [
    "u_gam = [gam[0]]\n",
    "for item in gam:\n",
    "    flag = 0\n",
    "    for perm in itertools.permutations(item):\n",
    "        if list(perm) in u_gam: \n",
    "            flag = 1\n",
    "    if flag == 0:\n",
    "        u_gam.append(item)"
   ]
  },
  {
   "cell_type": "code",
   "execution_count": 11,
   "metadata": {},
   "outputs": [
    {
     "data": {
      "text/plain": [
       "36"
      ]
     },
     "execution_count": 11,
     "metadata": {},
     "output_type": "execute_result"
    }
   ],
   "source": [
    "len(u_gam)"
   ]
  },
  {
   "cell_type": "code",
   "execution_count": 12,
   "metadata": {
    "collapsed": true
   },
   "outputs": [],
   "source": [
    "all_mode_gametes = [get_mode_gametes(i) for i in range(107)]"
   ]
  },
  {
   "cell_type": "code",
   "execution_count": 13,
   "metadata": {
    "collapsed": true
   },
   "outputs": [],
   "source": [
    "def subS(x,i):\n",
    "    \n",
    "    if x == a1:\n",
    "        return u_geno[i][0][0]\n",
    "    if x == b1:\n",
    "        return u_geno[i][0][1]\n",
    "    if x == c1:\n",
    "        return u_geno[i][0][2]\n",
    "    if x == a2:\n",
    "        return u_geno[i][1][0]\n",
    "    if x == b2:\n",
    "        return u_geno[i][1][1]\n",
    "    if x == c2:\n",
    "        return u_geno[i][1][2]\n",
    "    if x == a3:\n",
    "        return u_geno[i][2][0]\n",
    "    if x == b3:\n",
    "        return u_geno[i][2][1]\n",
    "    if x == c3:\n",
    "        return u_geno[i][2][2]\n",
    "    if x == a4:\n",
    "        return u_geno[i][3][0]\n",
    "    if x == b4:\n",
    "        return u_geno[i][3][1]\n",
    "    if x == c4:\n",
    "        return u_geno[i][3][2]"
   ]
  },
  {
   "cell_type": "code",
   "execution_count": 14,
   "metadata": {
    "collapsed": true
   },
   "outputs": [],
   "source": [
    "trans_matrix = [[0 for j in range(len(u_gam))] for i in range(len(u_geno)) ]\n",
    "\n",
    "for i in range(len(u_geno)):\n",
    "    for j in range(107):\n",
    "        gam_modes_tmp = all_mode_gametes[j]\n",
    "        gam_modes = [[[subS(gam_modes_tmp[ii][jj][kk],i) for kk in range(len(gam_modes_tmp[ii][jj]))] \\\n",
    "                      for jj in range(len(gam_modes_tmp[ii]))] for ii in range(len(gam_modes_tmp))]\n",
    "        for k in range(len(gam_modes)):\n",
    "            for l in range(len(u_gam)):\n",
    "                if u_gam[l] == gam_modes[k] or \\\n",
    "                            (u_gam[l][0] == gam_modes[k][1] and u_gam[l][1] == gam_modes[k][0]):\n",
    "                    trans_matrix[i][l] += p(j)/len(gam_modes)    "
   ]
  },
  {
   "cell_type": "code",
   "execution_count": 18,
   "metadata": {},
   "outputs": [
    {
     "data": {
      "text/plain": [
       "p(0) + p(1) + p(2) + p(3) + p(4) + p(5) + p(6) + p(7) + p(8) + p(9) + p(10) + p(11) + p(12) + p(13) + p(14) + p(15) + p(16) + p(17) + p(18) + p(19) + p(20) + p(21) + p(22) + p(23) + p(24) + p(25) + p(26) + p(27) + p(28) + p(29) + p(30) + p(31) + p(32) + p(33) + p(34) + p(35) + p(36) + p(37) + p(38) + p(39) + p(40) + p(41) + p(42) + p(43) + p(44) + p(45) + p(46) + p(47) + p(48) + p(49) + p(50) + p(51) + p(52) + p(53) + p(54) + p(55) + p(56) + p(57) + p(58) + p(59) + p(60) + p(61) + p(62) + p(63) + p(64) + p(65) + p(66) + p(67) + p(68) + p(69) + p(70) + p(71) + p(72) + p(73) + p(74) + p(75) + p(76) + p(77) + p(78) + p(79) + p(80) + p(81) + p(82) + p(83) + p(84) + p(85) + p(86) + p(87) + p(88) + p(89) + p(90) + p(91) + p(92) + p(93) + p(94) + p(95) + p(96) + p(97) + p(98) + p(99) + p(100) + p(101) + p(102) + p(103) + p(104) + p(105) + p(106)"
      ]
     },
     "execution_count": 18,
     "metadata": {},
     "output_type": "execute_result"
    }
   ],
   "source": [
    "sum(trans_matrix[106])"
   ]
  },
  {
   "cell_type": "code",
   "execution_count": 27,
   "metadata": {
    "collapsed": true
   },
   "outputs": [],
   "source": [
    "f = open('trans_matrix_no_pref.txt', 'w')"
   ]
  },
  {
   "cell_type": "code",
   "execution_count": 28,
   "metadata": {
    "collapsed": true
   },
   "outputs": [],
   "source": [
    "for i in range(len(u_geno)):\n",
    "    f.write(str(trans_matrix[i])+'\\n')"
   ]
  },
  {
   "cell_type": "code",
   "execution_count": 29,
   "metadata": {
    "collapsed": true
   },
   "outputs": [],
   "source": [
    "f.close()"
   ]
  },
  {
   "cell_type": "code",
   "execution_count": 31,
   "metadata": {
    "collapsed": true
   },
   "outputs": [],
   "source": [
    "from ast import literal_eval"
   ]
  },
  {
   "cell_type": "code",
   "execution_count": 4,
   "metadata": {
    "collapsed": true
   },
   "outputs": [],
   "source": [
    "data=[]\n",
    "with open('trans_matrix_no_pref.txt','r') as data_file: \n",
    "    for i in data_file: \n",
    "        data.append(eval(i))\n",
    "data_file.close()"
   ]
  },
  {
   "cell_type": "code",
   "execution_count": 8,
   "metadata": {},
   "outputs": [
    {
     "data": {
      "text/plain": [
       "36"
      ]
     },
     "execution_count": 8,
     "metadata": {},
     "output_type": "execute_result"
    }
   ],
   "source": [
    "len(data[0])"
   ]
  },
  {
   "cell_type": "code",
   "execution_count": 5,
   "metadata": {},
   "outputs": [
    {
     "data": {
      "text/plain": [
       "[3*p(0)/4 + 3*p(1)/4 + 3*p(2)/4 + 3*p(3)/4 + 3*p(4)/4 + 3*p(5)/4 + 3*p(6)/4 + 3*p(7)/4 + 3*p(8)/4 + 3*p(9)/4 + 3*p(10)/4 + p(11)/2 + p(12)/2 + p(13)/2 + p(14)/2 + p(15)/2 + p(16)/2 + p(17)/2 + p(18)/2 + p(19)/2 + p(20)/2 + p(21)/2 + p(22)/2 + p(23)/2 + p(24)/2 + p(25)/2 + p(26)/2 + p(27)/2 + p(28)/2 + p(29)/2 + p(30)/2 + 3*p(31)/4 + 3*p(32)/4 + 3*p(33)/4 + 3*p(34)/4 + 3*p(35)/4 + 3*p(36)/4 + 3*p(37)/4 + 3*p(38)/4 + 3*p(39)/4 + 3*p(40)/4 + 3*p(41)/4 + 3*p(42)/4 + 3*p(43)/4 + 3*p(44)/4 + 3*p(45)/4 + 3*p(46)/4 + 3*p(47)/4 + 3*p(48)/4 + 3*p(49)/4 + 3*p(50)/4 + p(51)/2 + p(52)/2 + p(53)/2 + p(54)/2 + p(55)/2 + p(56)/2 + p(57)/2 + p(58)/2 + p(59)/2 + p(60)/2 + p(61)/2 + p(62)/2 + p(63)/2 + p(64)/2 + p(65)/2 + p(66)/2 + p(67)/2 + p(68)/2 + p(69)/2 + p(70)/2 + p(71)/2 + p(72)/2 + p(73)/2 + p(74)/2 + p(75)/2 + p(76)/2 + p(77)/2 + p(78)/2 + p(79)/2 + p(80)/2 + p(81)/2 + p(82)/2 + p(83)/2 + p(84)/2 + p(85)/2 + p(86)/2 + p(87)/2 + p(88)/2 + p(89)/2 + p(90)/2 + p(91)/2 + p(92)/2 + p(93)/2 + p(94)/2 + p(95)/2 + p(96)/2 + p(97)/2 + p(98)/2 + p(99)/2 + p(100)/2 + p(101)/2 + p(102)/2 + p(103)/2 + p(104)/2 + p(105)/2 + p(106)/2,\n",
       " p(11)/2 + p(12)/2 + p(13)/2 + p(14)/2 + p(15)/2 + p(16)/2 + p(17)/2 + p(18)/2 + p(19)/2 + p(20)/2 + p(21)/2 + p(22)/2 + p(23)/2 + p(24)/2 + p(25)/2 + p(26)/2 + p(27)/2 + p(28)/2 + p(29)/2 + p(30)/2 + p(51)/2 + p(52)/2 + p(53)/2 + p(54)/2 + p(55)/2 + p(56)/2 + p(57)/2 + p(58)/2 + p(59)/2 + p(60)/2 + p(61)/2 + p(62)/2 + p(63)/2 + p(64)/2 + p(65)/2 + p(66)/2 + p(67)/2 + p(68)/2 + p(69)/2 + p(70)/2 + p(71)/2 + p(72)/2 + p(73)/2 + p(74)/2 + p(75)/2 + p(76)/2 + p(77)/2 + p(78)/2 + p(79)/2 + p(80)/2 + p(81)/2 + p(82)/2 + p(83)/2 + p(84)/2 + p(85)/2 + p(86)/2 + p(87)/2 + p(88)/2 + p(89)/2 + p(90)/2 + p(91)/2 + p(92)/2 + p(93)/2 + p(94)/2 + p(95)/2 + p(96)/2 + p(97)/2 + p(98)/2 + p(99)/2 + p(100)/2 + p(101)/2 + p(102)/2 + p(103)/2 + p(104)/2 + p(105)/2 + p(106)/2,\n",
       " 0,\n",
       " 0,\n",
       " 0,\n",
       " 0,\n",
       " 0,\n",
       " 0,\n",
       " p(0)/4 + p(1)/4 + p(2)/4 + p(3)/4 + p(4)/4 + p(5)/4 + p(6)/4 + p(7)/4 + p(8)/4 + p(9)/4 + p(10)/4 + p(31)/4 + p(32)/4 + p(33)/4 + p(34)/4 + p(35)/4 + p(36)/4 + p(37)/4 + p(38)/4 + p(39)/4 + p(40)/4 + p(41)/4 + p(42)/4 + p(43)/4 + p(44)/4 + p(45)/4 + p(46)/4 + p(47)/4 + p(48)/4 + p(49)/4 + p(50)/4,\n",
       " 0,\n",
       " 0,\n",
       " 0,\n",
       " 0,\n",
       " 0,\n",
       " 0,\n",
       " 0,\n",
       " 0,\n",
       " 0,\n",
       " 0,\n",
       " 0,\n",
       " 0,\n",
       " 0,\n",
       " 0,\n",
       " 0,\n",
       " 0,\n",
       " 0,\n",
       " 0,\n",
       " 0,\n",
       " 0,\n",
       " 0,\n",
       " 0,\n",
       " 0,\n",
       " 0,\n",
       " 0,\n",
       " 0,\n",
       " 0]"
      ]
     },
     "execution_count": 5,
     "metadata": {},
     "output_type": "execute_result"
    }
   ],
   "source": [
    "data[1]"
   ]
  },
  {
   "cell_type": "code",
   "execution_count": 12,
   "metadata": {},
   "outputs": [
    {
     "data": {
      "text/plain": [
       "[[[A1, B1, C1], [A1, B1, C1], [A1, B1, C1], [A1, B1, C1]],\n",
       " [[A1, B1, C1], [A1, B1, C1], [A1, B1, C1], [A1, B1, C2]],\n",
       " [[A1, B1, C1], [A1, B1, C1], [A1, B1, C1], [A1, B2, C1]],\n",
       " [[A1, B1, C1], [A1, B1, C1], [A1, B1, C1], [A1, B2, C2]],\n",
       " [[A1, B1, C1], [A1, B1, C1], [A1, B1, C1], [A2, B1, C1]],\n",
       " [[A1, B1, C1], [A1, B1, C1], [A1, B1, C1], [A2, B1, C2]],\n",
       " [[A1, B1, C1], [A1, B1, C1], [A1, B1, C1], [A2, B2, C1]],\n",
       " [[A1, B1, C1], [A1, B1, C1], [A1, B1, C1], [A2, B2, C2]],\n",
       " [[A1, B1, C1], [A1, B1, C1], [A1, B1, C2], [A1, B1, C2]],\n",
       " [[A1, B1, C1], [A1, B1, C1], [A1, B1, C2], [A1, B2, C1]],\n",
       " [[A1, B1, C1], [A1, B1, C1], [A1, B1, C2], [A1, B2, C2]],\n",
       " [[A1, B1, C1], [A1, B1, C1], [A1, B1, C2], [A2, B1, C1]],\n",
       " [[A1, B1, C1], [A1, B1, C1], [A1, B1, C2], [A2, B1, C2]],\n",
       " [[A1, B1, C1], [A1, B1, C1], [A1, B1, C2], [A2, B2, C1]],\n",
       " [[A1, B1, C1], [A1, B1, C1], [A1, B1, C2], [A2, B2, C2]],\n",
       " [[A1, B1, C1], [A1, B1, C1], [A1, B2, C1], [A1, B2, C1]],\n",
       " [[A1, B1, C1], [A1, B1, C1], [A1, B2, C1], [A1, B2, C2]],\n",
       " [[A1, B1, C1], [A1, B1, C1], [A1, B2, C1], [A2, B1, C1]],\n",
       " [[A1, B1, C1], [A1, B1, C1], [A1, B2, C1], [A2, B1, C2]],\n",
       " [[A1, B1, C1], [A1, B1, C1], [A1, B2, C1], [A2, B2, C1]],\n",
       " [[A1, B1, C1], [A1, B1, C1], [A1, B2, C1], [A2, B2, C2]],\n",
       " [[A1, B1, C1], [A1, B1, C1], [A1, B2, C2], [A1, B2, C2]],\n",
       " [[A1, B1, C1], [A1, B1, C1], [A1, B2, C2], [A2, B1, C1]],\n",
       " [[A1, B1, C1], [A1, B1, C1], [A1, B2, C2], [A2, B1, C2]],\n",
       " [[A1, B1, C1], [A1, B1, C1], [A1, B2, C2], [A2, B2, C1]],\n",
       " [[A1, B1, C1], [A1, B1, C1], [A1, B2, C2], [A2, B2, C2]],\n",
       " [[A1, B1, C1], [A1, B1, C1], [A2, B1, C1], [A2, B1, C1]],\n",
       " [[A1, B1, C1], [A1, B1, C1], [A2, B1, C1], [A2, B1, C2]],\n",
       " [[A1, B1, C1], [A1, B1, C1], [A2, B1, C1], [A2, B2, C1]],\n",
       " [[A1, B1, C1], [A1, B1, C1], [A2, B1, C1], [A2, B2, C2]],\n",
       " [[A1, B1, C1], [A1, B1, C1], [A2, B1, C2], [A2, B1, C2]],\n",
       " [[A1, B1, C1], [A1, B1, C1], [A2, B1, C2], [A2, B2, C1]],\n",
       " [[A1, B1, C1], [A1, B1, C1], [A2, B1, C2], [A2, B2, C2]],\n",
       " [[A1, B1, C1], [A1, B1, C1], [A2, B2, C1], [A2, B2, C1]],\n",
       " [[A1, B1, C1], [A1, B1, C1], [A2, B2, C1], [A2, B2, C2]],\n",
       " [[A1, B1, C1], [A1, B1, C1], [A2, B2, C2], [A2, B2, C2]],\n",
       " [[A1, B1, C1], [A1, B1, C2], [A1, B1, C2], [A1, B1, C2]],\n",
       " [[A1, B1, C1], [A1, B1, C2], [A1, B1, C2], [A1, B2, C1]],\n",
       " [[A1, B1, C1], [A1, B1, C2], [A1, B1, C2], [A1, B2, C2]],\n",
       " [[A1, B1, C1], [A1, B1, C2], [A1, B1, C2], [A2, B1, C1]],\n",
       " [[A1, B1, C1], [A1, B1, C2], [A1, B1, C2], [A2, B1, C2]],\n",
       " [[A1, B1, C1], [A1, B1, C2], [A1, B1, C2], [A2, B2, C1]],\n",
       " [[A1, B1, C1], [A1, B1, C2], [A1, B1, C2], [A2, B2, C2]],\n",
       " [[A1, B1, C1], [A1, B1, C2], [A1, B2, C1], [A1, B2, C1]],\n",
       " [[A1, B1, C1], [A1, B1, C2], [A1, B2, C1], [A1, B2, C2]],\n",
       " [[A1, B1, C1], [A1, B1, C2], [A1, B2, C1], [A2, B1, C1]],\n",
       " [[A1, B1, C1], [A1, B1, C2], [A1, B2, C1], [A2, B1, C2]],\n",
       " [[A1, B1, C1], [A1, B1, C2], [A1, B2, C1], [A2, B2, C1]],\n",
       " [[A1, B1, C1], [A1, B1, C2], [A1, B2, C1], [A2, B2, C2]],\n",
       " [[A1, B1, C1], [A1, B1, C2], [A1, B2, C2], [A1, B2, C2]],\n",
       " [[A1, B1, C1], [A1, B1, C2], [A1, B2, C2], [A2, B1, C1]],\n",
       " [[A1, B1, C1], [A1, B1, C2], [A1, B2, C2], [A2, B1, C2]],\n",
       " [[A1, B1, C1], [A1, B1, C2], [A1, B2, C2], [A2, B2, C1]],\n",
       " [[A1, B1, C1], [A1, B1, C2], [A1, B2, C2], [A2, B2, C2]],\n",
       " [[A1, B1, C1], [A1, B1, C2], [A2, B1, C1], [A2, B1, C1]],\n",
       " [[A1, B1, C1], [A1, B1, C2], [A2, B1, C1], [A2, B1, C2]],\n",
       " [[A1, B1, C1], [A1, B1, C2], [A2, B1, C1], [A2, B2, C1]],\n",
       " [[A1, B1, C1], [A1, B1, C2], [A2, B1, C1], [A2, B2, C2]],\n",
       " [[A1, B1, C1], [A1, B1, C2], [A2, B1, C2], [A2, B1, C2]],\n",
       " [[A1, B1, C1], [A1, B1, C2], [A2, B1, C2], [A2, B2, C1]],\n",
       " [[A1, B1, C1], [A1, B1, C2], [A2, B1, C2], [A2, B2, C2]],\n",
       " [[A1, B1, C1], [A1, B1, C2], [A2, B2, C1], [A2, B2, C1]],\n",
       " [[A1, B1, C1], [A1, B1, C2], [A2, B2, C1], [A2, B2, C2]],\n",
       " [[A1, B1, C1], [A1, B1, C2], [A2, B2, C2], [A2, B2, C2]],\n",
       " [[A1, B1, C1], [A1, B2, C1], [A1, B2, C1], [A1, B2, C1]],\n",
       " [[A1, B1, C1], [A1, B2, C1], [A1, B2, C1], [A1, B2, C2]],\n",
       " [[A1, B1, C1], [A1, B2, C1], [A1, B2, C1], [A2, B1, C1]],\n",
       " [[A1, B1, C1], [A1, B2, C1], [A1, B2, C1], [A2, B1, C2]],\n",
       " [[A1, B1, C1], [A1, B2, C1], [A1, B2, C1], [A2, B2, C1]],\n",
       " [[A1, B1, C1], [A1, B2, C1], [A1, B2, C1], [A2, B2, C2]],\n",
       " [[A1, B1, C1], [A1, B2, C1], [A1, B2, C2], [A1, B2, C2]],\n",
       " [[A1, B1, C1], [A1, B2, C1], [A1, B2, C2], [A2, B1, C1]],\n",
       " [[A1, B1, C1], [A1, B2, C1], [A1, B2, C2], [A2, B1, C2]],\n",
       " [[A1, B1, C1], [A1, B2, C1], [A1, B2, C2], [A2, B2, C1]],\n",
       " [[A1, B1, C1], [A1, B2, C1], [A1, B2, C2], [A2, B2, C2]],\n",
       " [[A1, B1, C1], [A1, B2, C1], [A2, B1, C1], [A2, B1, C1]],\n",
       " [[A1, B1, C1], [A1, B2, C1], [A2, B1, C1], [A2, B1, C2]],\n",
       " [[A1, B1, C1], [A1, B2, C1], [A2, B1, C1], [A2, B2, C1]],\n",
       " [[A1, B1, C1], [A1, B2, C1], [A2, B1, C1], [A2, B2, C2]],\n",
       " [[A1, B1, C1], [A1, B2, C1], [A2, B1, C2], [A2, B1, C2]],\n",
       " [[A1, B1, C1], [A1, B2, C1], [A2, B1, C2], [A2, B2, C1]],\n",
       " [[A1, B1, C1], [A1, B2, C1], [A2, B1, C2], [A2, B2, C2]],\n",
       " [[A1, B1, C1], [A1, B2, C1], [A2, B2, C1], [A2, B2, C1]],\n",
       " [[A1, B1, C1], [A1, B2, C1], [A2, B2, C1], [A2, B2, C2]],\n",
       " [[A1, B1, C1], [A1, B2, C1], [A2, B2, C2], [A2, B2, C2]],\n",
       " [[A1, B1, C1], [A1, B2, C2], [A1, B2, C2], [A1, B2, C2]],\n",
       " [[A1, B1, C1], [A1, B2, C2], [A1, B2, C2], [A2, B1, C1]],\n",
       " [[A1, B1, C1], [A1, B2, C2], [A1, B2, C2], [A2, B1, C2]],\n",
       " [[A1, B1, C1], [A1, B2, C2], [A1, B2, C2], [A2, B2, C1]],\n",
       " [[A1, B1, C1], [A1, B2, C2], [A1, B2, C2], [A2, B2, C2]],\n",
       " [[A1, B1, C1], [A1, B2, C2], [A2, B1, C1], [A2, B1, C1]],\n",
       " [[A1, B1, C1], [A1, B2, C2], [A2, B1, C1], [A2, B1, C2]],\n",
       " [[A1, B1, C1], [A1, B2, C2], [A2, B1, C1], [A2, B2, C1]],\n",
       " [[A1, B1, C1], [A1, B2, C2], [A2, B1, C1], [A2, B2, C2]],\n",
       " [[A1, B1, C1], [A1, B2, C2], [A2, B1, C2], [A2, B1, C2]],\n",
       " [[A1, B1, C1], [A1, B2, C2], [A2, B1, C2], [A2, B2, C1]],\n",
       " [[A1, B1, C1], [A1, B2, C2], [A2, B1, C2], [A2, B2, C2]],\n",
       " [[A1, B1, C1], [A1, B2, C2], [A2, B2, C1], [A2, B2, C1]],\n",
       " [[A1, B1, C1], [A1, B2, C2], [A2, B2, C1], [A2, B2, C2]],\n",
       " [[A1, B1, C1], [A1, B2, C2], [A2, B2, C2], [A2, B2, C2]],\n",
       " [[A1, B1, C1], [A2, B1, C1], [A2, B1, C1], [A2, B1, C1]],\n",
       " [[A1, B1, C1], [A2, B1, C1], [A2, B1, C1], [A2, B1, C2]],\n",
       " [[A1, B1, C1], [A2, B1, C1], [A2, B1, C1], [A2, B2, C1]],\n",
       " [[A1, B1, C1], [A2, B1, C1], [A2, B1, C1], [A2, B2, C2]],\n",
       " [[A1, B1, C1], [A2, B1, C1], [A2, B1, C2], [A2, B1, C2]],\n",
       " [[A1, B1, C1], [A2, B1, C1], [A2, B1, C2], [A2, B2, C1]],\n",
       " [[A1, B1, C1], [A2, B1, C1], [A2, B1, C2], [A2, B2, C2]],\n",
       " [[A1, B1, C1], [A2, B1, C1], [A2, B2, C1], [A2, B2, C1]],\n",
       " [[A1, B1, C1], [A2, B1, C1], [A2, B2, C1], [A2, B2, C2]],\n",
       " [[A1, B1, C1], [A2, B1, C1], [A2, B2, C2], [A2, B2, C2]],\n",
       " [[A1, B1, C1], [A2, B1, C2], [A2, B1, C2], [A2, B1, C2]],\n",
       " [[A1, B1, C1], [A2, B1, C2], [A2, B1, C2], [A2, B2, C1]],\n",
       " [[A1, B1, C1], [A2, B1, C2], [A2, B1, C2], [A2, B2, C2]],\n",
       " [[A1, B1, C1], [A2, B1, C2], [A2, B2, C1], [A2, B2, C1]],\n",
       " [[A1, B1, C1], [A2, B1, C2], [A2, B2, C1], [A2, B2, C2]],\n",
       " [[A1, B1, C1], [A2, B1, C2], [A2, B2, C2], [A2, B2, C2]],\n",
       " [[A1, B1, C1], [A2, B2, C1], [A2, B2, C1], [A2, B2, C1]],\n",
       " [[A1, B1, C1], [A2, B2, C1], [A2, B2, C1], [A2, B2, C2]],\n",
       " [[A1, B1, C1], [A2, B2, C1], [A2, B2, C2], [A2, B2, C2]],\n",
       " [[A1, B1, C1], [A2, B2, C2], [A2, B2, C2], [A2, B2, C2]],\n",
       " [[A1, B1, C2], [A1, B1, C2], [A1, B1, C2], [A1, B1, C2]],\n",
       " [[A1, B1, C2], [A1, B1, C2], [A1, B1, C2], [A1, B2, C1]],\n",
       " [[A1, B1, C2], [A1, B1, C2], [A1, B1, C2], [A1, B2, C2]],\n",
       " [[A1, B1, C2], [A1, B1, C2], [A1, B1, C2], [A2, B1, C1]],\n",
       " [[A1, B1, C2], [A1, B1, C2], [A1, B1, C2], [A2, B1, C2]],\n",
       " [[A1, B1, C2], [A1, B1, C2], [A1, B1, C2], [A2, B2, C1]],\n",
       " [[A1, B1, C2], [A1, B1, C2], [A1, B1, C2], [A2, B2, C2]],\n",
       " [[A1, B1, C2], [A1, B1, C2], [A1, B2, C1], [A1, B2, C1]],\n",
       " [[A1, B1, C2], [A1, B1, C2], [A1, B2, C1], [A1, B2, C2]],\n",
       " [[A1, B1, C2], [A1, B1, C2], [A1, B2, C1], [A2, B1, C1]],\n",
       " [[A1, B1, C2], [A1, B1, C2], [A1, B2, C1], [A2, B1, C2]],\n",
       " [[A1, B1, C2], [A1, B1, C2], [A1, B2, C1], [A2, B2, C1]],\n",
       " [[A1, B1, C2], [A1, B1, C2], [A1, B2, C1], [A2, B2, C2]],\n",
       " [[A1, B1, C2], [A1, B1, C2], [A1, B2, C2], [A1, B2, C2]],\n",
       " [[A1, B1, C2], [A1, B1, C2], [A1, B2, C2], [A2, B1, C1]],\n",
       " [[A1, B1, C2], [A1, B1, C2], [A1, B2, C2], [A2, B1, C2]],\n",
       " [[A1, B1, C2], [A1, B1, C2], [A1, B2, C2], [A2, B2, C1]],\n",
       " [[A1, B1, C2], [A1, B1, C2], [A1, B2, C2], [A2, B2, C2]],\n",
       " [[A1, B1, C2], [A1, B1, C2], [A2, B1, C1], [A2, B1, C1]],\n",
       " [[A1, B1, C2], [A1, B1, C2], [A2, B1, C1], [A2, B1, C2]],\n",
       " [[A1, B1, C2], [A1, B1, C2], [A2, B1, C1], [A2, B2, C1]],\n",
       " [[A1, B1, C2], [A1, B1, C2], [A2, B1, C1], [A2, B2, C2]],\n",
       " [[A1, B1, C2], [A1, B1, C2], [A2, B1, C2], [A2, B1, C2]],\n",
       " [[A1, B1, C2], [A1, B1, C2], [A2, B1, C2], [A2, B2, C1]],\n",
       " [[A1, B1, C2], [A1, B1, C2], [A2, B1, C2], [A2, B2, C2]],\n",
       " [[A1, B1, C2], [A1, B1, C2], [A2, B2, C1], [A2, B2, C1]],\n",
       " [[A1, B1, C2], [A1, B1, C2], [A2, B2, C1], [A2, B2, C2]],\n",
       " [[A1, B1, C2], [A1, B1, C2], [A2, B2, C2], [A2, B2, C2]],\n",
       " [[A1, B1, C2], [A1, B2, C1], [A1, B2, C1], [A1, B2, C1]],\n",
       " [[A1, B1, C2], [A1, B2, C1], [A1, B2, C1], [A1, B2, C2]],\n",
       " [[A1, B1, C2], [A1, B2, C1], [A1, B2, C1], [A2, B1, C1]],\n",
       " [[A1, B1, C2], [A1, B2, C1], [A1, B2, C1], [A2, B1, C2]],\n",
       " [[A1, B1, C2], [A1, B2, C1], [A1, B2, C1], [A2, B2, C1]],\n",
       " [[A1, B1, C2], [A1, B2, C1], [A1, B2, C1], [A2, B2, C2]],\n",
       " [[A1, B1, C2], [A1, B2, C1], [A1, B2, C2], [A1, B2, C2]],\n",
       " [[A1, B1, C2], [A1, B2, C1], [A1, B2, C2], [A2, B1, C1]],\n",
       " [[A1, B1, C2], [A1, B2, C1], [A1, B2, C2], [A2, B1, C2]],\n",
       " [[A1, B1, C2], [A1, B2, C1], [A1, B2, C2], [A2, B2, C1]],\n",
       " [[A1, B1, C2], [A1, B2, C1], [A1, B2, C2], [A2, B2, C2]],\n",
       " [[A1, B1, C2], [A1, B2, C1], [A2, B1, C1], [A2, B1, C1]],\n",
       " [[A1, B1, C2], [A1, B2, C1], [A2, B1, C1], [A2, B1, C2]],\n",
       " [[A1, B1, C2], [A1, B2, C1], [A2, B1, C1], [A2, B2, C1]],\n",
       " [[A1, B1, C2], [A1, B2, C1], [A2, B1, C1], [A2, B2, C2]],\n",
       " [[A1, B1, C2], [A1, B2, C1], [A2, B1, C2], [A2, B1, C2]],\n",
       " [[A1, B1, C2], [A1, B2, C1], [A2, B1, C2], [A2, B2, C1]],\n",
       " [[A1, B1, C2], [A1, B2, C1], [A2, B1, C2], [A2, B2, C2]],\n",
       " [[A1, B1, C2], [A1, B2, C1], [A2, B2, C1], [A2, B2, C1]],\n",
       " [[A1, B1, C2], [A1, B2, C1], [A2, B2, C1], [A2, B2, C2]],\n",
       " [[A1, B1, C2], [A1, B2, C1], [A2, B2, C2], [A2, B2, C2]],\n",
       " [[A1, B1, C2], [A1, B2, C2], [A1, B2, C2], [A1, B2, C2]],\n",
       " [[A1, B1, C2], [A1, B2, C2], [A1, B2, C2], [A2, B1, C1]],\n",
       " [[A1, B1, C2], [A1, B2, C2], [A1, B2, C2], [A2, B1, C2]],\n",
       " [[A1, B1, C2], [A1, B2, C2], [A1, B2, C2], [A2, B2, C1]],\n",
       " [[A1, B1, C2], [A1, B2, C2], [A1, B2, C2], [A2, B2, C2]],\n",
       " [[A1, B1, C2], [A1, B2, C2], [A2, B1, C1], [A2, B1, C1]],\n",
       " [[A1, B1, C2], [A1, B2, C2], [A2, B1, C1], [A2, B1, C2]],\n",
       " [[A1, B1, C2], [A1, B2, C2], [A2, B1, C1], [A2, B2, C1]],\n",
       " [[A1, B1, C2], [A1, B2, C2], [A2, B1, C1], [A2, B2, C2]],\n",
       " [[A1, B1, C2], [A1, B2, C2], [A2, B1, C2], [A2, B1, C2]],\n",
       " [[A1, B1, C2], [A1, B2, C2], [A2, B1, C2], [A2, B2, C1]],\n",
       " [[A1, B1, C2], [A1, B2, C2], [A2, B1, C2], [A2, B2, C2]],\n",
       " [[A1, B1, C2], [A1, B2, C2], [A2, B2, C1], [A2, B2, C1]],\n",
       " [[A1, B1, C2], [A1, B2, C2], [A2, B2, C1], [A2, B2, C2]],\n",
       " [[A1, B1, C2], [A1, B2, C2], [A2, B2, C2], [A2, B2, C2]],\n",
       " [[A1, B1, C2], [A2, B1, C1], [A2, B1, C1], [A2, B1, C1]],\n",
       " [[A1, B1, C2], [A2, B1, C1], [A2, B1, C1], [A2, B1, C2]],\n",
       " [[A1, B1, C2], [A2, B1, C1], [A2, B1, C1], [A2, B2, C1]],\n",
       " [[A1, B1, C2], [A2, B1, C1], [A2, B1, C1], [A2, B2, C2]],\n",
       " [[A1, B1, C2], [A2, B1, C1], [A2, B1, C2], [A2, B1, C2]],\n",
       " [[A1, B1, C2], [A2, B1, C1], [A2, B1, C2], [A2, B2, C1]],\n",
       " [[A1, B1, C2], [A2, B1, C1], [A2, B1, C2], [A2, B2, C2]],\n",
       " [[A1, B1, C2], [A2, B1, C1], [A2, B2, C1], [A2, B2, C1]],\n",
       " [[A1, B1, C2], [A2, B1, C1], [A2, B2, C1], [A2, B2, C2]],\n",
       " [[A1, B1, C2], [A2, B1, C1], [A2, B2, C2], [A2, B2, C2]],\n",
       " [[A1, B1, C2], [A2, B1, C2], [A2, B1, C2], [A2, B1, C2]],\n",
       " [[A1, B1, C2], [A2, B1, C2], [A2, B1, C2], [A2, B2, C1]],\n",
       " [[A1, B1, C2], [A2, B1, C2], [A2, B1, C2], [A2, B2, C2]],\n",
       " [[A1, B1, C2], [A2, B1, C2], [A2, B2, C1], [A2, B2, C1]],\n",
       " [[A1, B1, C2], [A2, B1, C2], [A2, B2, C1], [A2, B2, C2]],\n",
       " [[A1, B1, C2], [A2, B1, C2], [A2, B2, C2], [A2, B2, C2]],\n",
       " [[A1, B1, C2], [A2, B2, C1], [A2, B2, C1], [A2, B2, C1]],\n",
       " [[A1, B1, C2], [A2, B2, C1], [A2, B2, C1], [A2, B2, C2]],\n",
       " [[A1, B1, C2], [A2, B2, C1], [A2, B2, C2], [A2, B2, C2]],\n",
       " [[A1, B1, C2], [A2, B2, C2], [A2, B2, C2], [A2, B2, C2]],\n",
       " [[A1, B2, C1], [A1, B2, C1], [A1, B2, C1], [A1, B2, C1]],\n",
       " [[A1, B2, C1], [A1, B2, C1], [A1, B2, C1], [A1, B2, C2]],\n",
       " [[A1, B2, C1], [A1, B2, C1], [A1, B2, C1], [A2, B1, C1]],\n",
       " [[A1, B2, C1], [A1, B2, C1], [A1, B2, C1], [A2, B1, C2]],\n",
       " [[A1, B2, C1], [A1, B2, C1], [A1, B2, C1], [A2, B2, C1]],\n",
       " [[A1, B2, C1], [A1, B2, C1], [A1, B2, C1], [A2, B2, C2]],\n",
       " [[A1, B2, C1], [A1, B2, C1], [A1, B2, C2], [A1, B2, C2]],\n",
       " [[A1, B2, C1], [A1, B2, C1], [A1, B2, C2], [A2, B1, C1]],\n",
       " [[A1, B2, C1], [A1, B2, C1], [A1, B2, C2], [A2, B1, C2]],\n",
       " [[A1, B2, C1], [A1, B2, C1], [A1, B2, C2], [A2, B2, C1]],\n",
       " [[A1, B2, C1], [A1, B2, C1], [A1, B2, C2], [A2, B2, C2]],\n",
       " [[A1, B2, C1], [A1, B2, C1], [A2, B1, C1], [A2, B1, C1]],\n",
       " [[A1, B2, C1], [A1, B2, C1], [A2, B1, C1], [A2, B1, C2]],\n",
       " [[A1, B2, C1], [A1, B2, C1], [A2, B1, C1], [A2, B2, C1]],\n",
       " [[A1, B2, C1], [A1, B2, C1], [A2, B1, C1], [A2, B2, C2]],\n",
       " [[A1, B2, C1], [A1, B2, C1], [A2, B1, C2], [A2, B1, C2]],\n",
       " [[A1, B2, C1], [A1, B2, C1], [A2, B1, C2], [A2, B2, C1]],\n",
       " [[A1, B2, C1], [A1, B2, C1], [A2, B1, C2], [A2, B2, C2]],\n",
       " [[A1, B2, C1], [A1, B2, C1], [A2, B2, C1], [A2, B2, C1]],\n",
       " [[A1, B2, C1], [A1, B2, C1], [A2, B2, C1], [A2, B2, C2]],\n",
       " [[A1, B2, C1], [A1, B2, C1], [A2, B2, C2], [A2, B2, C2]],\n",
       " [[A1, B2, C1], [A1, B2, C2], [A1, B2, C2], [A1, B2, C2]],\n",
       " [[A1, B2, C1], [A1, B2, C2], [A1, B2, C2], [A2, B1, C1]],\n",
       " [[A1, B2, C1], [A1, B2, C2], [A1, B2, C2], [A2, B1, C2]],\n",
       " [[A1, B2, C1], [A1, B2, C2], [A1, B2, C2], [A2, B2, C1]],\n",
       " [[A1, B2, C1], [A1, B2, C2], [A1, B2, C2], [A2, B2, C2]],\n",
       " [[A1, B2, C1], [A1, B2, C2], [A2, B1, C1], [A2, B1, C1]],\n",
       " [[A1, B2, C1], [A1, B2, C2], [A2, B1, C1], [A2, B1, C2]],\n",
       " [[A1, B2, C1], [A1, B2, C2], [A2, B1, C1], [A2, B2, C1]],\n",
       " [[A1, B2, C1], [A1, B2, C2], [A2, B1, C1], [A2, B2, C2]],\n",
       " [[A1, B2, C1], [A1, B2, C2], [A2, B1, C2], [A2, B1, C2]],\n",
       " [[A1, B2, C1], [A1, B2, C2], [A2, B1, C2], [A2, B2, C1]],\n",
       " [[A1, B2, C1], [A1, B2, C2], [A2, B1, C2], [A2, B2, C2]],\n",
       " [[A1, B2, C1], [A1, B2, C2], [A2, B2, C1], [A2, B2, C1]],\n",
       " [[A1, B2, C1], [A1, B2, C2], [A2, B2, C1], [A2, B2, C2]],\n",
       " [[A1, B2, C1], [A1, B2, C2], [A2, B2, C2], [A2, B2, C2]],\n",
       " [[A1, B2, C1], [A2, B1, C1], [A2, B1, C1], [A2, B1, C1]],\n",
       " [[A1, B2, C1], [A2, B1, C1], [A2, B1, C1], [A2, B1, C2]],\n",
       " [[A1, B2, C1], [A2, B1, C1], [A2, B1, C1], [A2, B2, C1]],\n",
       " [[A1, B2, C1], [A2, B1, C1], [A2, B1, C1], [A2, B2, C2]],\n",
       " [[A1, B2, C1], [A2, B1, C1], [A2, B1, C2], [A2, B1, C2]],\n",
       " [[A1, B2, C1], [A2, B1, C1], [A2, B1, C2], [A2, B2, C1]],\n",
       " [[A1, B2, C1], [A2, B1, C1], [A2, B1, C2], [A2, B2, C2]],\n",
       " [[A1, B2, C1], [A2, B1, C1], [A2, B2, C1], [A2, B2, C1]],\n",
       " [[A1, B2, C1], [A2, B1, C1], [A2, B2, C1], [A2, B2, C2]],\n",
       " [[A1, B2, C1], [A2, B1, C1], [A2, B2, C2], [A2, B2, C2]],\n",
       " [[A1, B2, C1], [A2, B1, C2], [A2, B1, C2], [A2, B1, C2]],\n",
       " [[A1, B2, C1], [A2, B1, C2], [A2, B1, C2], [A2, B2, C1]],\n",
       " [[A1, B2, C1], [A2, B1, C2], [A2, B1, C2], [A2, B2, C2]],\n",
       " [[A1, B2, C1], [A2, B1, C2], [A2, B2, C1], [A2, B2, C1]],\n",
       " [[A1, B2, C1], [A2, B1, C2], [A2, B2, C1], [A2, B2, C2]],\n",
       " [[A1, B2, C1], [A2, B1, C2], [A2, B2, C2], [A2, B2, C2]],\n",
       " [[A1, B2, C1], [A2, B2, C1], [A2, B2, C1], [A2, B2, C1]],\n",
       " [[A1, B2, C1], [A2, B2, C1], [A2, B2, C1], [A2, B2, C2]],\n",
       " [[A1, B2, C1], [A2, B2, C1], [A2, B2, C2], [A2, B2, C2]],\n",
       " [[A1, B2, C1], [A2, B2, C2], [A2, B2, C2], [A2, B2, C2]],\n",
       " [[A1, B2, C2], [A1, B2, C2], [A1, B2, C2], [A1, B2, C2]],\n",
       " [[A1, B2, C2], [A1, B2, C2], [A1, B2, C2], [A2, B1, C1]],\n",
       " [[A1, B2, C2], [A1, B2, C2], [A1, B2, C2], [A2, B1, C2]],\n",
       " [[A1, B2, C2], [A1, B2, C2], [A1, B2, C2], [A2, B2, C1]],\n",
       " [[A1, B2, C2], [A1, B2, C2], [A1, B2, C2], [A2, B2, C2]],\n",
       " [[A1, B2, C2], [A1, B2, C2], [A2, B1, C1], [A2, B1, C1]],\n",
       " [[A1, B2, C2], [A1, B2, C2], [A2, B1, C1], [A2, B1, C2]],\n",
       " [[A1, B2, C2], [A1, B2, C2], [A2, B1, C1], [A2, B2, C1]],\n",
       " [[A1, B2, C2], [A1, B2, C2], [A2, B1, C1], [A2, B2, C2]],\n",
       " [[A1, B2, C2], [A1, B2, C2], [A2, B1, C2], [A2, B1, C2]],\n",
       " [[A1, B2, C2], [A1, B2, C2], [A2, B1, C2], [A2, B2, C1]],\n",
       " [[A1, B2, C2], [A1, B2, C2], [A2, B1, C2], [A2, B2, C2]],\n",
       " [[A1, B2, C2], [A1, B2, C2], [A2, B2, C1], [A2, B2, C1]],\n",
       " [[A1, B2, C2], [A1, B2, C2], [A2, B2, C1], [A2, B2, C2]],\n",
       " [[A1, B2, C2], [A1, B2, C2], [A2, B2, C2], [A2, B2, C2]],\n",
       " [[A1, B2, C2], [A2, B1, C1], [A2, B1, C1], [A2, B1, C1]],\n",
       " [[A1, B2, C2], [A2, B1, C1], [A2, B1, C1], [A2, B1, C2]],\n",
       " [[A1, B2, C2], [A2, B1, C1], [A2, B1, C1], [A2, B2, C1]],\n",
       " [[A1, B2, C2], [A2, B1, C1], [A2, B1, C1], [A2, B2, C2]],\n",
       " [[A1, B2, C2], [A2, B1, C1], [A2, B1, C2], [A2, B1, C2]],\n",
       " [[A1, B2, C2], [A2, B1, C1], [A2, B1, C2], [A2, B2, C1]],\n",
       " [[A1, B2, C2], [A2, B1, C1], [A2, B1, C2], [A2, B2, C2]],\n",
       " [[A1, B2, C2], [A2, B1, C1], [A2, B2, C1], [A2, B2, C1]],\n",
       " [[A1, B2, C2], [A2, B1, C1], [A2, B2, C1], [A2, B2, C2]],\n",
       " [[A1, B2, C2], [A2, B1, C1], [A2, B2, C2], [A2, B2, C2]],\n",
       " [[A1, B2, C2], [A2, B1, C2], [A2, B1, C2], [A2, B1, C2]],\n",
       " [[A1, B2, C2], [A2, B1, C2], [A2, B1, C2], [A2, B2, C1]],\n",
       " [[A1, B2, C2], [A2, B1, C2], [A2, B1, C2], [A2, B2, C2]],\n",
       " [[A1, B2, C2], [A2, B1, C2], [A2, B2, C1], [A2, B2, C1]],\n",
       " [[A1, B2, C2], [A2, B1, C2], [A2, B2, C1], [A2, B2, C2]],\n",
       " [[A1, B2, C2], [A2, B1, C2], [A2, B2, C2], [A2, B2, C2]],\n",
       " [[A1, B2, C2], [A2, B2, C1], [A2, B2, C1], [A2, B2, C1]],\n",
       " [[A1, B2, C2], [A2, B2, C1], [A2, B2, C1], [A2, B2, C2]],\n",
       " [[A1, B2, C2], [A2, B2, C1], [A2, B2, C2], [A2, B2, C2]],\n",
       " [[A1, B2, C2], [A2, B2, C2], [A2, B2, C2], [A2, B2, C2]],\n",
       " [[A2, B1, C1], [A2, B1, C1], [A2, B1, C1], [A2, B1, C1]],\n",
       " [[A2, B1, C1], [A2, B1, C1], [A2, B1, C1], [A2, B1, C2]],\n",
       " [[A2, B1, C1], [A2, B1, C1], [A2, B1, C1], [A2, B2, C1]],\n",
       " [[A2, B1, C1], [A2, B1, C1], [A2, B1, C1], [A2, B2, C2]],\n",
       " [[A2, B1, C1], [A2, B1, C1], [A2, B1, C2], [A2, B1, C2]],\n",
       " [[A2, B1, C1], [A2, B1, C1], [A2, B1, C2], [A2, B2, C1]],\n",
       " [[A2, B1, C1], [A2, B1, C1], [A2, B1, C2], [A2, B2, C2]],\n",
       " [[A2, B1, C1], [A2, B1, C1], [A2, B2, C1], [A2, B2, C1]],\n",
       " [[A2, B1, C1], [A2, B1, C1], [A2, B2, C1], [A2, B2, C2]],\n",
       " [[A2, B1, C1], [A2, B1, C1], [A2, B2, C2], [A2, B2, C2]],\n",
       " [[A2, B1, C1], [A2, B1, C2], [A2, B1, C2], [A2, B1, C2]],\n",
       " [[A2, B1, C1], [A2, B1, C2], [A2, B1, C2], [A2, B2, C1]],\n",
       " [[A2, B1, C1], [A2, B1, C2], [A2, B1, C2], [A2, B2, C2]],\n",
       " [[A2, B1, C1], [A2, B1, C2], [A2, B2, C1], [A2, B2, C1]],\n",
       " [[A2, B1, C1], [A2, B1, C2], [A2, B2, C1], [A2, B2, C2]],\n",
       " [[A2, B1, C1], [A2, B1, C2], [A2, B2, C2], [A2, B2, C2]],\n",
       " [[A2, B1, C1], [A2, B2, C1], [A2, B2, C1], [A2, B2, C1]],\n",
       " [[A2, B1, C1], [A2, B2, C1], [A2, B2, C1], [A2, B2, C2]],\n",
       " [[A2, B1, C1], [A2, B2, C1], [A2, B2, C2], [A2, B2, C2]],\n",
       " [[A2, B1, C1], [A2, B2, C2], [A2, B2, C2], [A2, B2, C2]],\n",
       " [[A2, B1, C2], [A2, B1, C2], [A2, B1, C2], [A2, B1, C2]],\n",
       " [[A2, B1, C2], [A2, B1, C2], [A2, B1, C2], [A2, B2, C1]],\n",
       " [[A2, B1, C2], [A2, B1, C2], [A2, B1, C2], [A2, B2, C2]],\n",
       " [[A2, B1, C2], [A2, B1, C2], [A2, B2, C1], [A2, B2, C1]],\n",
       " [[A2, B1, C2], [A2, B1, C2], [A2, B2, C1], [A2, B2, C2]],\n",
       " [[A2, B1, C2], [A2, B1, C2], [A2, B2, C2], [A2, B2, C2]],\n",
       " [[A2, B1, C2], [A2, B2, C1], [A2, B2, C1], [A2, B2, C1]],\n",
       " [[A2, B1, C2], [A2, B2, C1], [A2, B2, C1], [A2, B2, C2]],\n",
       " [[A2, B1, C2], [A2, B2, C1], [A2, B2, C2], [A2, B2, C2]],\n",
       " [[A2, B1, C2], [A2, B2, C2], [A2, B2, C2], [A2, B2, C2]],\n",
       " [[A2, B2, C1], [A2, B2, C1], [A2, B2, C1], [A2, B2, C1]],\n",
       " [[A2, B2, C1], [A2, B2, C1], [A2, B2, C1], [A2, B2, C2]],\n",
       " [[A2, B2, C1], [A2, B2, C1], [A2, B2, C2], [A2, B2, C2]],\n",
       " [[A2, B2, C1], [A2, B2, C2], [A2, B2, C2], [A2, B2, C2]],\n",
       " [[A2, B2, C2], [A2, B2, C2], [A2, B2, C2], [A2, B2, C2]]]"
      ]
     },
     "execution_count": 12,
     "metadata": {},
     "output_type": "execute_result"
    }
   ],
   "source": [
    "u_geno"
   ]
  },
  {
   "cell_type": "code",
   "execution_count": 13,
   "metadata": {},
   "outputs": [
    {
     "data": {
      "text/plain": [
       "[[[A1, B1, C1], [A1, B1, C1]],\n",
       " [[A1, B1, C1], [A1, B1, C2]],\n",
       " [[A1, B1, C1], [A1, B2, C1]],\n",
       " [[A1, B1, C1], [A1, B2, C2]],\n",
       " [[A1, B1, C1], [A2, B1, C1]],\n",
       " [[A1, B1, C1], [A2, B1, C2]],\n",
       " [[A1, B1, C1], [A2, B2, C1]],\n",
       " [[A1, B1, C1], [A2, B2, C2]],\n",
       " [[A1, B1, C2], [A1, B1, C2]],\n",
       " [[A1, B1, C2], [A1, B2, C1]],\n",
       " [[A1, B1, C2], [A1, B2, C2]],\n",
       " [[A1, B1, C2], [A2, B1, C1]],\n",
       " [[A1, B1, C2], [A2, B1, C2]],\n",
       " [[A1, B1, C2], [A2, B2, C1]],\n",
       " [[A1, B1, C2], [A2, B2, C2]],\n",
       " [[A1, B2, C1], [A1, B2, C1]],\n",
       " [[A1, B2, C1], [A1, B2, C2]],\n",
       " [[A1, B2, C1], [A2, B1, C1]],\n",
       " [[A1, B2, C1], [A2, B1, C2]],\n",
       " [[A1, B2, C1], [A2, B2, C1]],\n",
       " [[A1, B2, C1], [A2, B2, C2]],\n",
       " [[A1, B2, C2], [A1, B2, C2]],\n",
       " [[A1, B2, C2], [A2, B1, C1]],\n",
       " [[A1, B2, C2], [A2, B1, C2]],\n",
       " [[A1, B2, C2], [A2, B2, C1]],\n",
       " [[A1, B2, C2], [A2, B2, C2]],\n",
       " [[A2, B1, C1], [A2, B1, C1]],\n",
       " [[A2, B1, C1], [A2, B1, C2]],\n",
       " [[A2, B1, C1], [A2, B2, C1]],\n",
       " [[A2, B1, C1], [A2, B2, C2]],\n",
       " [[A2, B1, C2], [A2, B1, C2]],\n",
       " [[A2, B1, C2], [A2, B2, C1]],\n",
       " [[A2, B1, C2], [A2, B2, C2]],\n",
       " [[A2, B2, C1], [A2, B2, C1]],\n",
       " [[A2, B2, C1], [A2, B2, C2]],\n",
       " [[A2, B2, C2], [A2, B2, C2]]]"
      ]
     },
     "execution_count": 13,
     "metadata": {},
     "output_type": "execute_result"
    }
   ],
   "source": [
    "u_gam"
   ]
  },
  {
   "cell_type": "code",
   "execution_count": null,
   "metadata": {
    "collapsed": true
   },
   "outputs": [],
   "source": []
  }
 ],
 "metadata": {
  "kernelspec": {
   "display_name": "Python 3",
   "language": "python",
   "name": "python3"
  },
  "language_info": {
   "codemirror_mode": {
    "name": "ipython",
    "version": 3
   },
   "file_extension": ".py",
   "mimetype": "text/x-python",
   "name": "python",
   "nbconvert_exporter": "python",
   "pygments_lexer": "ipython3",
   "version": "3.6.1"
  }
 },
 "nbformat": 4,
 "nbformat_minor": 2
}
