{
 "cells": [
  {
   "cell_type": "code",
   "execution_count": 3,
   "metadata": {
    "collapsed": true
   },
   "outputs": [],
   "source": [
    "import sympy as sp \n",
    "   \n",
    "r= sp.symbols('r')\n",
    "q=sp.symbols('q')\n",
    "v=sp.symbols('v')\n",
    "vp=sp.symbols('vp')\n",
    "rp=sp.symbols('rp')\n",
    "qp=sp.symbols('qp')\n",
    "t=sp.symbols('t')\n",
    "(ppc)=sp.symbols('(ppc)')\n",
    "(pdm)=sp.symbols('(pdm)')\n",
    "(pmp)=sp.symbols('(pmp)')\n",
    "\n",
    "G,g = sp.symbols('G,g')\n",
    "p_pair = sp.symbols('p_pair')"
   ]
  },
  {
   "cell_type": "markdown",
   "metadata": {},
   "source": [
    "# No preferential pairing, 3 loci"
   ]
  },
  {
   "cell_type": "code",
   "execution_count": 2,
   "metadata": {
    "collapsed": true
   },
   "outputs": [],
   "source": [
    "modes = [[['i_m','i_m','i_m'],['i_m','i_m','i_m']],[['i_m','j_m','i_m'],['i_m','j_m','i_m']],\\\n",
    "[['i_m','i_m','i_m'],['i_m','j_m','i_m']],[['i_m','j_m','i_m'],['i_m','k_m','i_m']],\\\n",
    "[['i_m','i_m','j_m'],['i_m','i_m','j_m']],[['i_m','j_m','j_m'],['i_m','j_m','j_m']],\\\n",
    "[['i_m','k_m','j_m'],['i_m','k_m','j_m']],[['i_m','i_m','j_m'],['i_m','j_m','j_m']],\\\n",
    "[['i_m','i_m','j_m'],['i_m','k_m','j_m']],[['i_m','j_m','j_m'],['i_m','k_m','j_m']],\\\n",
    "[['i_m','k_m','j_m'],['i_m','l_m','j_m']],[['i_m','i_m','i_m'],['i_m','i_m','j_m']],\\\n",
    "[['i_m','j_m','i_m'],['i_m','j_m','j_m']],[['i_m','k_m','i_m'],['i_m','k_m','j_m']],\\\n",
    "[['i_m','i_m','i_m'],['i_m','j_m','j_m']],[['i_m','j_m','i_m'],['i_m','i_m','j_m']],\\\n",
    "[['i_m','i_m','i_m'],['i_m','k_m','j_m']],[['i_m','k_m','i_m'],['i_m','i_m','j_m']],\\\n",
    "[['i_m','j_m','i_m'],['i_m','k_m','j_m']],[['i_m','k_m','i_m'],['i_m','j_m','j_m']],\\\n",
    "[['i_m','k_m','i_m'],['i_m','l_m','j_m']],[['i_m','i_m','j_m'],['i_m','i_m','k_m']],\\\n",
    "[['i_m','j_m','j_m'],['i_m','j_m','k_m']],[['i_m','l_m','j_m'],['i_m','l_m','k_m']],\\\n",
    "[['i_m','i_m','j_m'],['i_m','j_m','k_m']],[['i_m','j_m','j_m'],['i_m','i_m','k_m']],\\\n",
    "[['i_m','i_m','j_m'],['i_m','l_m','k_m']],[['i_m','j_m','j_m'],['i_m','k_m','k_m']],\\\n",
    "[['i_m','k_m','j_m'],['i_m','j_m','k_m']],[['i_m','k_m','j_m'],['i_m','l_m','k_m']],\\\n",
    "[['i_m','l_m','j_m'],['i_m','k_m','k_m']],[['i_m','i_m','i_m'],['j_m','i_m','i_m']],\\\n",
    "[['i_m','j_m','i_m'],['j_m','j_m','i_m']],[['i_m','k_m','i_m'],['j_m','k_m','i_m']],\\\n",
    "[['i_m','i_m','i_m'],['j_m','j_m','i_m']],[['i_m','j_m','i_m'],['j_m','i_m','i_m']],\\\n",
    "[['i_m','i_m','i_m'],['j_m','k_m','i_m']],[['i_m','k_m','i_m'],['j_m','i_m','i_m']],\\\n",
    "[['i_m','j_m','i_m'],['j_m','k_m','i_m']],[['i_m','k_m','i_m'],['j_m','j_m','i_m']],\\\n",
    "[['i_m','k_m','i_m'],['j_m','l_m','i_m']],[['j_m','i_m','i_m'],['k_m','i_m','i_m']],\\\n",
    "[['j_m','j_m','i_m'],['k_m','j_m','i_m']],[['j_m','l_m','i_m'],['k_m','l_m','i_m']],\\\n",
    "[['j_m','i_m','i_m'],['k_m','j_m','i_m']],[['j_m','j_m','i_m'],['k_m','i_m','i_m']],\\\n",
    "[['j_m','i_m','i_m'],['k_m','l_m','i_m']],[['j_m','j_m','i_m'],['k_m','k_m','i_m']],\\\n",
    "[['j_m','k_m','i_m'],['k_m','j_m','i_m']],[['j_m','j_m','i_m'],['k_m','l_m','i_m']],\\\n",
    "[['j_m','l_m','i_m'],['k_m','j_m','i_m']],[['i_m','i_m','i_m'],['j_m','i_m','j_m']],\\\n",
    "[['i_m','i_m','j_m'],['j_m','i_m','i_m']],[['i_m','k_m','i_m'],['j_m','k_m','j_m']],\\\n",
    "[['i_m','k_m','j_m'],['j_m','k_m','i_m']],[['i_m','i_m','i_m'],['j_m','j_m','j_m']],\\\n",
    "[['i_m','j_m','i_m'],['j_m','i_m','j_m']],[['i_m','i_m','j_m'],['j_m','j_m','i_m']],\\\n",
    "[['i_m','j_m','j_m'],['j_m','i_m','i_m']],[['i_m','i_m','i_m'],['j_m','k_m','j_m']],\\\n",
    "[['i_m','k_m','i_m'],['j_m','i_m','j_m']],[['i_m','i_m','j_m'],['j_m','k_m','i_m']],\\\n",
    "[['i_m','k_m','j_m'],['j_m','i_m','i_m']],[['i_m','k_m','i_m'],['j_m','l_m','j_m']],\\\n",
    "[['i_m','l_m','j_m'],['j_m','k_m','i_m']],[['i_m','i_m','i_m'],['j_m','i_m','k_m']],\\\n",
    "[['i_m','i_m','k_m'],['j_m','i_m','i_m']],[['i_m','j_m','i_m'],['j_m','j_m','k_m']],\\\n",
    "[['i_m','j_m','k_m'],['j_m','j_m','i_m']],[['i_m','k_m','i_m'],['j_m','k_m','k_m']],\\\n",
    "[['i_m','k_m','k_m'],['j_m','k_m','i_m']],[['i_m','l_m','i_m'],['j_m','l_m','k_m']],\\\n",
    "[['i_m','l_m','k_m'],['j_m','l_m','i_m']],[['i_m','i_m','i_m'],['j_m','j_m','k_m']],\\\n",
    "[['i_m','j_m','i_m'],['j_m','i_m','k_m']],[['i_m','i_m','k_m'],['j_m','j_m','i_m']],\\\n",
    "[['i_m','j_m','k_m'],['j_m','i_m','i_m']],[['i_m','i_m','i_m'],['j_m','k_m','k_m']],\\\n",
    "[['i_m','k_m','i_m'],['j_m','i_m','k_m']],[['i_m','i_m','k_m'],['j_m','k_m','i_m']],\\\n",
    "[['i_m','k_m','k_m'],['j_m','i_m','i_m']],[['i_m','i_m','i_m'],['j_m','l_m','k_m']],\\\n",
    "[['i_m','l_m','i_m'],['j_m','i_m','k_m']],[['i_m','i_m','k_m'],['j_m','l_m','i_m']],\\\n",
    "[['i_m','l_m','k_m'],['j_m','i_m','i_m']],[['i_m','j_m','i_m'],['j_m','k_m','k_m']],\\\n",
    "[['i_m','k_m','i_m'],['j_m','j_m','k_m']],[['i_m','j_m','k_m'],['j_m','k_m','i_m']],\\\n",
    "[['i_m','k_m','k_m'],['j_m','j_m','i_m']],[['i_m','j_m','i_m'],['j_m','l_m','k_m']],\\\n",
    "[['i_m','l_m','i_m'],['j_m','j_m','k_m']],[['i_m','j_m','k_m'],['j_m','l_m','i_m']],\\\n",
    "[['i_m','l_m','k_m'],['j_m','j_m','i_m']],[['i_m','k_m','i_m'],['j_m','l_m','k_m']],\\\n",
    "[['i_m','l_m','i_m'],['j_m','k_m','k_m']],[['i_m','k_m','k_m'],['j_m','l_m','i_m']],\\\n",
    "[['i_m','l_m','k_m'],['j_m','k_m','i_m']],[['i_m','i_m','k_m'],['j_m','i_m','l_m']],\\\n",
    "[['i_m','k_m','k_m'],['j_m','k_m','l_m']],[['i_m','i_m','k_m'],['j_m','j_m','l_m']],\\\n",
    "[['i_m','j_m','k_m'],['j_m','i_m','l_m']],[['i_m','i_m','k_m'],['j_m','k_m','l_m']],\\\n",
    "[['i_m','k_m','k_m'],['j_m','i_m','l_m']],[['i_m','i_m','l_m'],['j_m','k_m','k_m']],\\\n",
    "[['i_m','k_m','l_m'],['j_m','i_m','k_m']],[['i_m','k_m','k_m'],['j_m','l_m','l_m']],\\\n",
    "[['i_m','l_m','k_m'],['j_m','k_m','l_m']]]"
   ]
  },
  {
   "cell_type": "code",
   "execution_count": 25,
   "metadata": {
    "collapsed": true
   },
   "outputs": [],
   "source": [
    "prob = [[0, -(ppc)*t*vp*(q - 1)**2*(r - 1)**2*(vp - 1)/2],\n",
    " [1, (ppc)*q**2*r**2*t*vp*(-vp + 1)/2],\n",
    " [2, -(ppc)*q*r*t*vp*(q - 1)*(r - 1)*(vp - 1)],\n",
    " [3, 0],\n",
    " [4, -(ppc)*r**2*t*vp*(q - 1)**2*(vp - 1)/2],\n",
    " [5, -(ppc)*q**2*t*vp*(r - 1)**2*(vp - 1)/2],\n",
    " [6, 0],\n",
    " [7, -(ppc)*q*r*t*vp*(q - 1)*(r - 1)*(vp - 1)],\n",
    " [8, 0],\n",
    " [9, 0],\n",
    " [10, 0],\n",
    " [11, (ppc)*r*t*vp*(q - 1)**2*(r - 1)*(vp - 1)],\n",
    " [12, (ppc)*q**2*r*t*vp*(r - 1)*(vp - 1)],\n",
    " [13, 0],\n",
    " [14, (ppc)*q*t*vp*(q - 1)*(r - 1)**2*(vp - 1)],\n",
    " [15, (ppc)*q*r**2*t*vp*(q - 1)*(vp - 1)],\n",
    " [16, 0],\n",
    " [17, 0],\n",
    " [18, 0],\n",
    " [19, 0],\n",
    " [20, 0],\n",
    " [21, 0],\n",
    " [22, 0],\n",
    " [23, 0],\n",
    " [24, 0],\n",
    " [25, 0],\n",
    " [26, 0],\n",
    " [27, 0],\n",
    " [28, 0],\n",
    " [29, 0],\n",
    " [30, 0],\n",
    " [31,\n",
    "  t*(r - 1)**2*((pmp)*qp*(qp - 1)**2 - (ppc)*q*(q - 1)*(2*vp**2 - 2*vp + 1))/2],\n",
    " [32, -r**2*t*((pmp)*qp*(qp - 1)**3 + (ppc)*q*(q - 1)*(2*vp**2 - 2*vp + 1))/2],\n",
    " [33, (pmp)*qp**2*r**2*t*(qp - 1)**2/2],\n",
    " [34,\n",
    "  t*((pdm)*rp*(q - 1)**2*(rp - 1)**2 - (pmp)*r*(qp - 1)**4*(r - 1) - (ppc)*r*(q - 1)**2*(r - 1)*(2*vp**2 - 2*vp + 1))/2],\n",
    " [35,\n",
    "  -r*t*(r - 1)*((pmp)*qp**2*(qp - 1)**2 + (ppc)*q**2*(2*vp**2 - 2*vp + 1))/2],\n",
    " [36, t*(-(pdm)*q*rp*(q - 1)*(rp - 1)**2 + (pmp)*qp*r*(qp - 1)**3*(r - 1))/2],\n",
    " [37, (pmp)*qp**3*r*t*(qp - 1)*(r - 1)/2],\n",
    " [38, 0],\n",
    " [39, (pdm)*q*rp**2*t*(q - 1)*(rp - 1)/2],\n",
    " [40, (pdm)*q**2*rp**2*t*(-rp + 1)/2],\n",
    " [41, -(pmp)*qp**2*t*(qp - 1)*(r - 1)**2/2],\n",
    " [42, (pmp)*qp**2*r**2*t*(qp - 1)**2/2],\n",
    " [43, (pmp)*qp**3*r**2*t*(-qp + 1)/2],\n",
    " [44, (pmp)*qp**3*r*t*(qp - 1)*(r - 1)/2],\n",
    " [45, t*(-(pdm)*q*rp*(q - 1)*(rp - 1)**2 + (pmp)*qp*r*(qp - 1)**3*(r - 1))/2],\n",
    " [46,\n",
    "  t*((pdm)*q**2*rp*(rp - 1)**2 - (pmp)*qp**2*r*(r - 1)*(2*qp**2 - 2*qp + 1))/2],\n",
    " [47, -(pdm)*rp**2*t*(q - 1)**2*(rp - 1)/2],\n",
    " [48, 0],\n",
    " [49, (pdm)*q*rp**2*t*(q - 1)*(rp - 1)/2],\n",
    " [50, 0],\n",
    " [51,\n",
    "  r*t*(r - 1)*((pmp)*qp*(qp - 1)**3 + (ppc)*q*(q - 1)*(2*vp**2 - 2*vp + 1))/2],\n",
    " [52,\n",
    "  r*t*(r - 1)*((pmp)*qp*(qp - 1)**3 + (ppc)*q*(q - 1)*(2*vp**2 - 2*vp + 1))/2],\n",
    " [53, 0],\n",
    " [54, 0],\n",
    " [55,\n",
    "  (pdm)*t*(q - 1)**2*(rp - 1)**3*(3*rp - 4)/4 + (pmp)*t*(qp - 1)**3*(r - 1)*(3*qp*r - 3*qp - 3*r + 4)/4 + (ppc)*t*(q - 1)*(r - 1)*(2*q*r*vp**2 - 2*q*r*vp + 3*q*r - 2*q*vp**2 + 2*q*vp - 3*q - 2*r*vp**2 + 2*r*vp - 3*r + 2*vp**2 - 2*vp + 4)/4 + (q - 1)**2*(r - 1)**2*(-(pdm)*t - (pmp)*t - (ppc)*t + 1)],\n",
    " [56,\n",
    "  r*t*((pmp)*qp*(qp - 1)**2*(qp*r + 1) + (ppc)*q*(2*q*r*vp**2 - 2*q*r*vp + q*r + 1))/4],\n",
    " [57,\n",
    "  t*((pdm)*rp*(q - 1)**2*(3*rp**3 - rp**2 - rp + 1) - (pmp)*r*(qp - 1)**3*(-qp*r + r + 1) - (ppc)*r*(q - 1)*(-2*q*r*vp**2 + 2*q*r*vp - q*r + 2*r*vp**2 - 2*r*vp + r + 1))/4],\n",
    " [58,\n",
    "  t*(r - 1)*((pmp)*qp*(3*qp**3*r - 3*qp**3 - 2*qp**2*r + qp**2 + qp*r + qp - 1) - (ppc)*q*(-2*q*r*vp**2 + 2*q*r*vp - q*r + 2*q*vp**2 - 2*q*vp + q + 1))/4],\n",
    " [59,\n",
    "  (pdm)*q*rp*t*(q - 1)*(rp - 1)**2*(3*rp - 4)/2 + (pmp)*qp*r*t*(qp - 1)**3*(r - 1) + (ppc)*q*r*t*(q - 1)*(r - 1) - 2*q*r*(q - 1)*(r - 1)*((pdm)*t + (pmp)*t + (ppc)*t - 1)],\n",
    " [60, 0],\n",
    " [61, (pdm)*q*rp**2*t*(q - 1)*(rp - 1)*(3*rp + 1)/2],\n",
    " [62, (pmp)*qp**3*r*t*(qp - 1)*(r - 1)],\n",
    " [63,\n",
    "  (pdm)*q**2*rp**2*t*(rp - 1)*(3*rp - 4)/4 + (pmp)*qp**2*r**2*t*(qp - 1)**2/2 + (ppc)*q**2*r**2*t/2 + q**2*r**2*(-(pdm)*t - (pmp)*t - (ppc)*t + 1)],\n",
    " [64,\n",
    "  t*((pdm)*q**2*rp**2*(3*rp**2 - 3*rp + 2) + 2*(pmp)*qp**2*r**2*(qp - 1)**2)/4],\n",
    " [65, -(pmp)*qp**2*r*t*(qp - 1)**2*(r - 1)/2],\n",
    " [66, -(pmp)*qp**2*r*t*(qp - 1)**2*(r - 1)/2],\n",
    " [67, 0],\n",
    " [68, 0],\n",
    " [69, -(pmp)*qp**2*r*t*(qp - 1)**2*(r - 1)/2],\n",
    " [70, -(pmp)*qp**2*r*t*(qp - 1)**2*(r - 1)/2],\n",
    " [71, 0],\n",
    " [72, 0],\n",
    " [73,\n",
    "  -3*(pdm)*rp*t*(q - 1)**2*(rp - 2)*(rp - 1)**2/2 - (pmp)*r*t*(qp - 1)**4*(r - 1) - (ppc)*r*t*(q - 1)**2*(r - 1) + 2*r*(q - 1)**2*(r - 1)*((pdm)*t + (pmp)*t + (ppc)*t - 1)],\n",
    " [74, 0],\n",
    " [75, -3*(pdm)*rp**2*t*(q - 1)**2*(rp - 1)*(rp + 1)/2],\n",
    " [76, (pmp)*qp**4*r*t*(-r + 1)],\n",
    " [77,\n",
    "  -(pdm)*q*t*(q - 1)*(rp - 1)**3*(3*rp - 4)/2 - (pmp)*qp*t*(qp - 1)**2*(r - 1)*(3*qp*r - 3*qp - 5*r + 6)/2 - (ppc)*q*t*(q - 1)*(r - 1)**2 + 2*q*(q - 1)*(r - 1)**2*((pdm)*t + (pmp)*t + (ppc)*t - 1)],\n",
    " [78, -(pmp)*qp**2*r*t*(qp - 1)*(qp*r + 1)/2],\n",
    " [79,\n",
    "  t*(-(pdm)*q*rp*(q - 1)*(3*rp**3 - rp**2 - rp + 1) + (pmp)*qp*r*(qp - 1)**2*(-qp*r + r + 1))/2],\n",
    " [80, -(pmp)*qp**2*t*(qp - 1)*(r - 1)*(3*qp*r - 3*qp + 2*r - 3)/2],\n",
    " [81, -t*((pdm)*q*rp*(q - 1)*(rp - 1)**2 + (pmp)*qp*r*(qp - 1)**2*(r - 1))],\n",
    " [82, 0],\n",
    " [83, (pdm)*q*rp**2*t*(q - 1)*(rp - 1)],\n",
    " [84, (pmp)*qp**2*r*t*(qp - 1)*(r - 1)],\n",
    " [85, (pmp)*qp**2*r*t*(qp - 1)*(r - 1)],\n",
    " [86, (pdm)*q*rp**2*t*(q - 1)*(rp - 1)],\n",
    " [87, 0],\n",
    " [88, -t*((pdm)*q*rp*(q - 1)*(rp - 1)**2 + (pmp)*qp*r*(qp - 1)**2*(r - 1))],\n",
    " [89, (pmp)*qp**2*r**2*t*(-qp + 1)],\n",
    " [90,\n",
    "  -(pdm)*q*rp**2*t*(q - 1)*(rp - 1)*(3*rp - 4)/2 - (pmp)*qp*r**2*t*(qp - 1)**3 - (ppc)*q*r**2*t*(q - 1) + 2*q*r**2*(q - 1)*((pdm)*t + (pmp)*t + (ppc)*t - 1)],\n",
    " [91, (pmp)*qp**3*r**2*t*(-qp + 1)],\n",
    " [92,\n",
    "  t*(-(pdm)*q*rp**2*(q - 1)*(3*rp**2 - 3*rp + 2) + 2*(pmp)*qp*r**2*(qp - 1)**2)/2],\n",
    " [93, (pdm)*q**2*rp**2*t*(-rp + 1)],\n",
    " [94,\n",
    "  -(pdm)*q**2*rp*t*(rp - 1)**2*(3*rp - 4)/2 - (pmp)*qp**2*r*t*(qp - 1)**2*(r - 1) - (ppc)*q**2*r*t*(r - 1) + 2*q**2*r*(r - 1)*((pdm)*t + (pmp)*t + (ppc)*t - 1)],\n",
    " [95, t*((pdm)*q**2*rp*(rp - 1)**2 - (pmp)*qp**2*r*(qp - 1)**2*(r - 1))],\n",
    " [96, -(pdm)*q**2*rp**2*t*(rp - 1)*(3*rp + 1)/2],\n",
    " [97, 0],\n",
    " [98, (pmp)*qp**3*r*t*(qp - 1)*(r - 1)],\n",
    " [99,\n",
    "  (pdm)*rp**2*t*(q - 1)**2*(3*rp**2 - 5*rp + 3)/2 + (pmp)*r**2*t*(qp - 1)**4/2 + (ppc)*r**2*t*(q - 1)**2/2 + r**2*(q - 1)**2*(-(pdm)*t - (pmp)*t - (ppc)*t + 1)],\n",
    " [100, (pmp)*qp**4*r**2*t/2],\n",
    " [101, (pdm)*q*rp**2*t*(q - 1)*(rp - 1)*(3*rp + 1)/2],\n",
    " [102, (pmp)*qp**3*r*t*(qp - 1)*(r - 1)],\n",
    " [103,\n",
    "  (pdm)*q*rp*t*(q - 1)*(rp - 1)**2*(3*rp - 4)/2 + (pmp)*qp*r*t*(qp - 1)**3*(r - 1) + (ppc)*q*r*t*(q - 1)*(r - 1) - 2*q*r*(q - 1)*(r - 1)*((pdm)*t + (pmp)*t + (ppc)*t - 1)],\n",
    " [104, 0],\n",
    " [105,\n",
    "  (pdm)*q**2*t*(rp - 1)**3*(3*rp - 4)/4 + (pmp)*qp**2*t*(r - 1)*(6*qp**2*r - 6*qp**2 - 10*qp*r + 10*qp + 5*r - 6)/4 + (ppc)*q**2*t*(r - 1)**2/2 + q**2*(r - 1)**2*(-(pdm)*t - (pmp)*t - (ppc)*t + 1)],\n",
    " [106,\n",
    "  t*((pdm)*q**2*rp*(3*rp**3 - rp**2 - rp + 1) + (pmp)*qp**2*r*(2*qp**2*r - 2*qp*r + r + 1))/4]]"
   ]
  },
  {
   "cell_type": "markdown",
   "metadata": {},
   "source": [
    "Loci treated separately"
   ]
  },
  {
   "cell_type": "markdown",
   "metadata": {},
   "source": [
    "Proximal"
   ]
  },
  {
   "cell_type": "code",
   "execution_count": 46,
   "metadata": {
    "collapsed": true
   },
   "outputs": [],
   "source": [
    "lst = []\n",
    "\n",
    "for i in modes:\n",
    "    if i[0][0] == i[1][0]:\n",
    "        lst.append(i)"
   ]
  },
  {
   "cell_type": "code",
   "execution_count": 47,
   "metadata": {},
   "outputs": [
    {
     "data": {
      "text/plain": [
       "[[['i_m', 'i_m', 'i_m'], ['i_m', 'i_m', 'i_m']],\n",
       " [['i_m', 'j_m', 'i_m'], ['i_m', 'j_m', 'i_m']],\n",
       " [['i_m', 'i_m', 'i_m'], ['i_m', 'j_m', 'i_m']],\n",
       " [['i_m', 'j_m', 'i_m'], ['i_m', 'k_m', 'i_m']],\n",
       " [['i_m', 'i_m', 'j_m'], ['i_m', 'i_m', 'j_m']],\n",
       " [['i_m', 'j_m', 'j_m'], ['i_m', 'j_m', 'j_m']],\n",
       " [['i_m', 'k_m', 'j_m'], ['i_m', 'k_m', 'j_m']],\n",
       " [['i_m', 'i_m', 'j_m'], ['i_m', 'j_m', 'j_m']],\n",
       " [['i_m', 'i_m', 'j_m'], ['i_m', 'k_m', 'j_m']],\n",
       " [['i_m', 'j_m', 'j_m'], ['i_m', 'k_m', 'j_m']],\n",
       " [['i_m', 'k_m', 'j_m'], ['i_m', 'l_m', 'j_m']],\n",
       " [['i_m', 'i_m', 'i_m'], ['i_m', 'i_m', 'j_m']],\n",
       " [['i_m', 'j_m', 'i_m'], ['i_m', 'j_m', 'j_m']],\n",
       " [['i_m', 'k_m', 'i_m'], ['i_m', 'k_m', 'j_m']],\n",
       " [['i_m', 'i_m', 'i_m'], ['i_m', 'j_m', 'j_m']],\n",
       " [['i_m', 'j_m', 'i_m'], ['i_m', 'i_m', 'j_m']],\n",
       " [['i_m', 'i_m', 'i_m'], ['i_m', 'k_m', 'j_m']],\n",
       " [['i_m', 'k_m', 'i_m'], ['i_m', 'i_m', 'j_m']],\n",
       " [['i_m', 'j_m', 'i_m'], ['i_m', 'k_m', 'j_m']],\n",
       " [['i_m', 'k_m', 'i_m'], ['i_m', 'j_m', 'j_m']],\n",
       " [['i_m', 'k_m', 'i_m'], ['i_m', 'l_m', 'j_m']],\n",
       " [['i_m', 'i_m', 'j_m'], ['i_m', 'i_m', 'k_m']],\n",
       " [['i_m', 'j_m', 'j_m'], ['i_m', 'j_m', 'k_m']],\n",
       " [['i_m', 'l_m', 'j_m'], ['i_m', 'l_m', 'k_m']],\n",
       " [['i_m', 'i_m', 'j_m'], ['i_m', 'j_m', 'k_m']],\n",
       " [['i_m', 'j_m', 'j_m'], ['i_m', 'i_m', 'k_m']],\n",
       " [['i_m', 'i_m', 'j_m'], ['i_m', 'l_m', 'k_m']],\n",
       " [['i_m', 'j_m', 'j_m'], ['i_m', 'k_m', 'k_m']],\n",
       " [['i_m', 'k_m', 'j_m'], ['i_m', 'j_m', 'k_m']],\n",
       " [['i_m', 'k_m', 'j_m'], ['i_m', 'l_m', 'k_m']],\n",
       " [['i_m', 'l_m', 'j_m'], ['i_m', 'k_m', 'k_m']]]"
      ]
     },
     "execution_count": 47,
     "metadata": {},
     "output_type": "execute_result"
    }
   ],
   "source": [
    "lst"
   ]
  },
  {
   "cell_type": "code",
   "execution_count": 48,
   "metadata": {
    "collapsed": true
   },
   "outputs": [],
   "source": [
    "prob_dr = 0\n",
    "\n",
    "for i in lst:\n",
    "    indx = modes.index(i)\n",
    "    prob_dr = prob_dr + prob[indx][1]"
   ]
  },
  {
   "cell_type": "code",
   "execution_count": 49,
   "metadata": {},
   "outputs": [
    {
     "data": {
      "text/plain": [
       "-(ppc)*t*vp*(vp - 1)/2"
      ]
     },
     "execution_count": 49,
     "metadata": {},
     "output_type": "execute_result"
    }
   ],
   "source": [
    "sp.factor(prob_dr)"
   ]
  },
  {
   "cell_type": "code",
   "execution_count": 86,
   "metadata": {
    "collapsed": true
   },
   "outputs": [],
   "source": [
    "prob_dr_prox = -(ppc)*t*vp*(vp - 1)/2"
   ]
  },
  {
   "cell_type": "markdown",
   "metadata": {},
   "source": [
    "Middle"
   ]
  },
  {
   "cell_type": "code",
   "execution_count": 50,
   "metadata": {
    "collapsed": true
   },
   "outputs": [],
   "source": [
    "lst = []\n",
    "\n",
    "for i in modes:\n",
    "    if i[0][1] == i[1][1]:\n",
    "        lst.append(i)"
   ]
  },
  {
   "cell_type": "code",
   "execution_count": 51,
   "metadata": {},
   "outputs": [
    {
     "data": {
      "text/plain": [
       "[[['i_m', 'i_m', 'i_m'], ['i_m', 'i_m', 'i_m']],\n",
       " [['i_m', 'j_m', 'i_m'], ['i_m', 'j_m', 'i_m']],\n",
       " [['i_m', 'i_m', 'j_m'], ['i_m', 'i_m', 'j_m']],\n",
       " [['i_m', 'j_m', 'j_m'], ['i_m', 'j_m', 'j_m']],\n",
       " [['i_m', 'k_m', 'j_m'], ['i_m', 'k_m', 'j_m']],\n",
       " [['i_m', 'i_m', 'i_m'], ['i_m', 'i_m', 'j_m']],\n",
       " [['i_m', 'j_m', 'i_m'], ['i_m', 'j_m', 'j_m']],\n",
       " [['i_m', 'k_m', 'i_m'], ['i_m', 'k_m', 'j_m']],\n",
       " [['i_m', 'i_m', 'j_m'], ['i_m', 'i_m', 'k_m']],\n",
       " [['i_m', 'j_m', 'j_m'], ['i_m', 'j_m', 'k_m']],\n",
       " [['i_m', 'l_m', 'j_m'], ['i_m', 'l_m', 'k_m']],\n",
       " [['i_m', 'i_m', 'i_m'], ['j_m', 'i_m', 'i_m']],\n",
       " [['i_m', 'j_m', 'i_m'], ['j_m', 'j_m', 'i_m']],\n",
       " [['i_m', 'k_m', 'i_m'], ['j_m', 'k_m', 'i_m']],\n",
       " [['j_m', 'i_m', 'i_m'], ['k_m', 'i_m', 'i_m']],\n",
       " [['j_m', 'j_m', 'i_m'], ['k_m', 'j_m', 'i_m']],\n",
       " [['j_m', 'l_m', 'i_m'], ['k_m', 'l_m', 'i_m']],\n",
       " [['i_m', 'i_m', 'i_m'], ['j_m', 'i_m', 'j_m']],\n",
       " [['i_m', 'i_m', 'j_m'], ['j_m', 'i_m', 'i_m']],\n",
       " [['i_m', 'k_m', 'i_m'], ['j_m', 'k_m', 'j_m']],\n",
       " [['i_m', 'k_m', 'j_m'], ['j_m', 'k_m', 'i_m']],\n",
       " [['i_m', 'i_m', 'i_m'], ['j_m', 'i_m', 'k_m']],\n",
       " [['i_m', 'i_m', 'k_m'], ['j_m', 'i_m', 'i_m']],\n",
       " [['i_m', 'j_m', 'i_m'], ['j_m', 'j_m', 'k_m']],\n",
       " [['i_m', 'j_m', 'k_m'], ['j_m', 'j_m', 'i_m']],\n",
       " [['i_m', 'k_m', 'i_m'], ['j_m', 'k_m', 'k_m']],\n",
       " [['i_m', 'k_m', 'k_m'], ['j_m', 'k_m', 'i_m']],\n",
       " [['i_m', 'l_m', 'i_m'], ['j_m', 'l_m', 'k_m']],\n",
       " [['i_m', 'l_m', 'k_m'], ['j_m', 'l_m', 'i_m']],\n",
       " [['i_m', 'i_m', 'k_m'], ['j_m', 'i_m', 'l_m']],\n",
       " [['i_m', 'k_m', 'k_m'], ['j_m', 'k_m', 'l_m']]]"
      ]
     },
     "execution_count": 51,
     "metadata": {},
     "output_type": "execute_result"
    }
   ],
   "source": [
    "lst"
   ]
  },
  {
   "cell_type": "code",
   "execution_count": 57,
   "metadata": {
    "collapsed": true
   },
   "outputs": [],
   "source": [
    "prob_dr = 0\n",
    "\n",
    "for i in lst:\n",
    "    indx = modes.index(i)\n",
    "    prob_dr = prob_dr + prob[indx][1]"
   ]
  },
  {
   "cell_type": "code",
   "execution_count": 58,
   "metadata": {},
   "outputs": [
    {
     "data": {
      "text/plain": [
       "-t*((pmp)*qp**2 - (pmp)*qp + 4*(ppc)*q**2*vp**2 - 4*(ppc)*q**2*vp + (ppc)*q**2 - 4*(ppc)*q*vp**2 + 4*(ppc)*q*vp - (ppc)*q + (ppc)*vp**2 - (ppc)*vp)/2"
      ]
     },
     "execution_count": 58,
     "metadata": {},
     "output_type": "execute_result"
    }
   ],
   "source": [
    "sp.factor(prob_dr)"
   ]
  },
  {
   "cell_type": "code",
   "execution_count": 87,
   "metadata": {
    "collapsed": true
   },
   "outputs": [],
   "source": [
    "prob_dr_mid = -t*((pmp)*qp**2 - (pmp)*qp + 4*(ppc)*q**2*vp**2 - 4*(ppc)*q**2*vp + (ppc)*q**2 - 4*(ppc)*q*vp**2 + 4*(ppc)*q*vp - (ppc)*q + (ppc)*vp**2 - (ppc)*vp)/2"
   ]
  },
  {
   "cell_type": "markdown",
   "metadata": {},
   "source": [
    "Distal"
   ]
  },
  {
   "cell_type": "code",
   "execution_count": 61,
   "metadata": {
    "collapsed": true
   },
   "outputs": [],
   "source": [
    "lst = []\n",
    "\n",
    "for i in modes:\n",
    "    if i[0][2] == i[1][2]:\n",
    "        lst.append(i)"
   ]
  },
  {
   "cell_type": "code",
   "execution_count": 62,
   "metadata": {},
   "outputs": [
    {
     "data": {
      "text/plain": [
       "[[['i_m', 'i_m', 'i_m'], ['i_m', 'i_m', 'i_m']],\n",
       " [['i_m', 'j_m', 'i_m'], ['i_m', 'j_m', 'i_m']],\n",
       " [['i_m', 'i_m', 'i_m'], ['i_m', 'j_m', 'i_m']],\n",
       " [['i_m', 'j_m', 'i_m'], ['i_m', 'k_m', 'i_m']],\n",
       " [['i_m', 'i_m', 'j_m'], ['i_m', 'i_m', 'j_m']],\n",
       " [['i_m', 'j_m', 'j_m'], ['i_m', 'j_m', 'j_m']],\n",
       " [['i_m', 'k_m', 'j_m'], ['i_m', 'k_m', 'j_m']],\n",
       " [['i_m', 'i_m', 'j_m'], ['i_m', 'j_m', 'j_m']],\n",
       " [['i_m', 'i_m', 'j_m'], ['i_m', 'k_m', 'j_m']],\n",
       " [['i_m', 'j_m', 'j_m'], ['i_m', 'k_m', 'j_m']],\n",
       " [['i_m', 'k_m', 'j_m'], ['i_m', 'l_m', 'j_m']],\n",
       " [['i_m', 'i_m', 'i_m'], ['j_m', 'i_m', 'i_m']],\n",
       " [['i_m', 'j_m', 'i_m'], ['j_m', 'j_m', 'i_m']],\n",
       " [['i_m', 'k_m', 'i_m'], ['j_m', 'k_m', 'i_m']],\n",
       " [['i_m', 'i_m', 'i_m'], ['j_m', 'j_m', 'i_m']],\n",
       " [['i_m', 'j_m', 'i_m'], ['j_m', 'i_m', 'i_m']],\n",
       " [['i_m', 'i_m', 'i_m'], ['j_m', 'k_m', 'i_m']],\n",
       " [['i_m', 'k_m', 'i_m'], ['j_m', 'i_m', 'i_m']],\n",
       " [['i_m', 'j_m', 'i_m'], ['j_m', 'k_m', 'i_m']],\n",
       " [['i_m', 'k_m', 'i_m'], ['j_m', 'j_m', 'i_m']],\n",
       " [['i_m', 'k_m', 'i_m'], ['j_m', 'l_m', 'i_m']],\n",
       " [['j_m', 'i_m', 'i_m'], ['k_m', 'i_m', 'i_m']],\n",
       " [['j_m', 'j_m', 'i_m'], ['k_m', 'j_m', 'i_m']],\n",
       " [['j_m', 'l_m', 'i_m'], ['k_m', 'l_m', 'i_m']],\n",
       " [['j_m', 'i_m', 'i_m'], ['k_m', 'j_m', 'i_m']],\n",
       " [['j_m', 'j_m', 'i_m'], ['k_m', 'i_m', 'i_m']],\n",
       " [['j_m', 'i_m', 'i_m'], ['k_m', 'l_m', 'i_m']],\n",
       " [['j_m', 'j_m', 'i_m'], ['k_m', 'k_m', 'i_m']],\n",
       " [['j_m', 'k_m', 'i_m'], ['k_m', 'j_m', 'i_m']],\n",
       " [['j_m', 'j_m', 'i_m'], ['k_m', 'l_m', 'i_m']],\n",
       " [['j_m', 'l_m', 'i_m'], ['k_m', 'j_m', 'i_m']]]"
      ]
     },
     "execution_count": 62,
     "metadata": {},
     "output_type": "execute_result"
    }
   ],
   "source": [
    "lst"
   ]
  },
  {
   "cell_type": "code",
   "execution_count": 63,
   "metadata": {
    "collapsed": true
   },
   "outputs": [],
   "source": [
    "prob_dr = 0\n",
    "\n",
    "for i in lst:\n",
    "    indx = modes.index(i)\n",
    "    prob_dr = prob_dr + prob[indx][1]"
   ]
  },
  {
   "cell_type": "code",
   "execution_count": 66,
   "metadata": {},
   "outputs": [
    {
     "data": {
      "text/plain": [
       "-t*((pdm)*rp**2 - (pdm)*rp + 4*(pmp)*qp**2*r**2 - 4*(pmp)*qp**2*r + (pmp)*qp**2 - 4*(pmp)*qp*r**2 + 4*(pmp)*qp*r - (pmp)*qp + (pmp)*r**2 - (pmp)*r + 16*(ppc)*q**2*r**2*vp**2 - 16*(ppc)*q**2*r**2*vp + 4*(ppc)*q**2*r**2 - 16*(ppc)*q**2*r*vp**2 + 16*(ppc)*q**2*r*vp - 4*(ppc)*q**2*r + 4*(ppc)*q**2*vp**2 - 4*(ppc)*q**2*vp + (ppc)*q**2 - 16*(ppc)*q*r**2*vp**2 + 16*(ppc)*q*r**2*vp - 4*(ppc)*q*r**2 + 16*(ppc)*q*r*vp**2 - 16*(ppc)*q*r*vp + 4*(ppc)*q*r - 4*(ppc)*q*vp**2 + 4*(ppc)*q*vp - (ppc)*q + 4*(ppc)*r**2*vp**2 - 4*(ppc)*r**2*vp + (ppc)*r**2 - 4*(ppc)*r*vp**2 + 4*(ppc)*r*vp - (ppc)*r + (ppc)*vp**2 - (ppc)*vp)/2"
      ]
     },
     "execution_count": 66,
     "metadata": {},
     "output_type": "execute_result"
    }
   ],
   "source": [
    "sp.factor(prob_dr)"
   ]
  },
  {
   "cell_type": "code",
   "execution_count": 88,
   "metadata": {
    "collapsed": true
   },
   "outputs": [],
   "source": [
    "prob_dr_dist = -t*((pdm)*rp**2 - (pdm)*rp + 4*(pmp)*qp**2*r**2 - 4*(pmp)*qp**2*r + (pmp)*qp**2 - 4*(pmp)*qp*r**2 + 4*(pmp)*qp*r - (pmp)*qp + (pmp)*r**2 - (pmp)*r + 16*(ppc)*q**2*r**2*vp**2 - 16*(ppc)*q**2*r**2*vp + 4*(ppc)*q**2*r**2 - 16*(ppc)*q**2*r*vp**2 + 16*(ppc)*q**2*r*vp - 4*(ppc)*q**2*r + 4*(ppc)*q**2*vp**2 - 4*(ppc)*q**2*vp + (ppc)*q**2 - 16*(ppc)*q*r**2*vp**2 + 16*(ppc)*q*r**2*vp - 4*(ppc)*q*r**2 + 16*(ppc)*q*r*vp**2 - 16*(ppc)*q*r*vp + 4*(ppc)*q*r - 4*(ppc)*q*vp**2 + 4*(ppc)*q*vp - (ppc)*q + 4*(ppc)*r**2*vp**2 - 4*(ppc)*r**2*vp + (ppc)*r**2 - 4*(ppc)*r*vp**2 + 4*(ppc)*r*vp - (ppc)*r + (ppc)*vp**2 - (ppc)*vp)/2"
   ]
  },
  {
   "cell_type": "markdown",
   "metadata": {},
   "source": [
    "Loci treated in pairs"
   ]
  },
  {
   "cell_type": "markdown",
   "metadata": {},
   "source": [
    "Proximal & Middle"
   ]
  },
  {
   "cell_type": "code",
   "execution_count": 70,
   "metadata": {
    "collapsed": true
   },
   "outputs": [],
   "source": [
    "lst = []\n",
    "\n",
    "for i in modes:\n",
    "    if i[0][0] == i[1][0] and i[0][1] == i[1][1]:\n",
    "        lst.append(i)"
   ]
  },
  {
   "cell_type": "code",
   "execution_count": 71,
   "metadata": {},
   "outputs": [
    {
     "data": {
      "text/plain": [
       "[[['i_m', 'i_m', 'i_m'], ['i_m', 'i_m', 'i_m']],\n",
       " [['i_m', 'j_m', 'i_m'], ['i_m', 'j_m', 'i_m']],\n",
       " [['i_m', 'i_m', 'j_m'], ['i_m', 'i_m', 'j_m']],\n",
       " [['i_m', 'j_m', 'j_m'], ['i_m', 'j_m', 'j_m']],\n",
       " [['i_m', 'k_m', 'j_m'], ['i_m', 'k_m', 'j_m']],\n",
       " [['i_m', 'i_m', 'i_m'], ['i_m', 'i_m', 'j_m']],\n",
       " [['i_m', 'j_m', 'i_m'], ['i_m', 'j_m', 'j_m']],\n",
       " [['i_m', 'k_m', 'i_m'], ['i_m', 'k_m', 'j_m']],\n",
       " [['i_m', 'i_m', 'j_m'], ['i_m', 'i_m', 'k_m']],\n",
       " [['i_m', 'j_m', 'j_m'], ['i_m', 'j_m', 'k_m']],\n",
       " [['i_m', 'l_m', 'j_m'], ['i_m', 'l_m', 'k_m']]]"
      ]
     },
     "execution_count": 71,
     "metadata": {},
     "output_type": "execute_result"
    }
   ],
   "source": [
    "lst"
   ]
  },
  {
   "cell_type": "code",
   "execution_count": 72,
   "metadata": {
    "collapsed": true
   },
   "outputs": [],
   "source": [
    "prob_dr = 0\n",
    "\n",
    "for i in lst:\n",
    "    indx = modes.index(i)\n",
    "    prob_dr = prob_dr + prob[indx][1]"
   ]
  },
  {
   "cell_type": "code",
   "execution_count": 73,
   "metadata": {},
   "outputs": [
    {
     "data": {
      "text/plain": [
       "-(ppc)*t*vp*(vp - 1)*(2*q**2 - 2*q + 1)/2"
      ]
     },
     "execution_count": 73,
     "metadata": {},
     "output_type": "execute_result"
    }
   ],
   "source": [
    "sp.factor(prob_dr)"
   ]
  },
  {
   "cell_type": "code",
   "execution_count": 89,
   "metadata": {
    "collapsed": true
   },
   "outputs": [],
   "source": [
    "prob_dr_prox_mid = -(ppc)*t*vp*(vp - 1)*(2*q**2 - 2*q + 1)/2"
   ]
  },
  {
   "cell_type": "markdown",
   "metadata": {},
   "source": [
    "Middle & Distal"
   ]
  },
  {
   "cell_type": "code",
   "execution_count": 74,
   "metadata": {
    "collapsed": true
   },
   "outputs": [],
   "source": [
    "lst = []\n",
    "\n",
    "for i in modes:\n",
    "    if i[0][2] == i[1][2] and i[0][1] == i[1][1]:\n",
    "        lst.append(i)"
   ]
  },
  {
   "cell_type": "code",
   "execution_count": 75,
   "metadata": {},
   "outputs": [
    {
     "data": {
      "text/plain": [
       "[[['i_m', 'i_m', 'i_m'], ['i_m', 'i_m', 'i_m']],\n",
       " [['i_m', 'j_m', 'i_m'], ['i_m', 'j_m', 'i_m']],\n",
       " [['i_m', 'i_m', 'j_m'], ['i_m', 'i_m', 'j_m']],\n",
       " [['i_m', 'j_m', 'j_m'], ['i_m', 'j_m', 'j_m']],\n",
       " [['i_m', 'k_m', 'j_m'], ['i_m', 'k_m', 'j_m']],\n",
       " [['i_m', 'i_m', 'i_m'], ['j_m', 'i_m', 'i_m']],\n",
       " [['i_m', 'j_m', 'i_m'], ['j_m', 'j_m', 'i_m']],\n",
       " [['i_m', 'k_m', 'i_m'], ['j_m', 'k_m', 'i_m']],\n",
       " [['j_m', 'i_m', 'i_m'], ['k_m', 'i_m', 'i_m']],\n",
       " [['j_m', 'j_m', 'i_m'], ['k_m', 'j_m', 'i_m']],\n",
       " [['j_m', 'l_m', 'i_m'], ['k_m', 'l_m', 'i_m']]]"
      ]
     },
     "execution_count": 75,
     "metadata": {},
     "output_type": "execute_result"
    }
   ],
   "source": [
    "lst"
   ]
  },
  {
   "cell_type": "code",
   "execution_count": 76,
   "metadata": {
    "collapsed": true
   },
   "outputs": [],
   "source": [
    "prob_dr = 0\n",
    "\n",
    "for i in lst:\n",
    "    indx = modes.index(i)\n",
    "    prob_dr = prob_dr + prob[indx][1]"
   ]
  },
  {
   "cell_type": "code",
   "execution_count": 77,
   "metadata": {},
   "outputs": [
    {
     "data": {
      "text/plain": [
       "-t*(2*r**2 - 2*r + 1)*((pmp)*qp**2 - (pmp)*qp + 4*(ppc)*q**2*vp**2 - 4*(ppc)*q**2*vp + (ppc)*q**2 - 4*(ppc)*q*vp**2 + 4*(ppc)*q*vp - (ppc)*q + (ppc)*vp**2 - (ppc)*vp)/2"
      ]
     },
     "execution_count": 77,
     "metadata": {},
     "output_type": "execute_result"
    }
   ],
   "source": [
    "sp.factor(prob_dr)"
   ]
  },
  {
   "cell_type": "code",
   "execution_count": 90,
   "metadata": {
    "collapsed": true
   },
   "outputs": [],
   "source": [
    "prob_dr_mid_dist = -t*(2*r**2 - 2*r + 1)*((pmp)*qp**2 - (pmp)*qp + 4*(ppc)*q**2*vp**2 - 4*(ppc)*q**2*vp + (ppc)*q**2 - 4*(ppc)*q*vp**2 + 4*(ppc)*q*vp - (ppc)*q + (ppc)*vp**2 - (ppc)*vp)/2"
   ]
  },
  {
   "cell_type": "markdown",
   "metadata": {},
   "source": [
    "Proximal & Distal"
   ]
  },
  {
   "cell_type": "code",
   "execution_count": 78,
   "metadata": {
    "collapsed": true
   },
   "outputs": [],
   "source": [
    "lst = []\n",
    "\n",
    "for i in modes:\n",
    "    if i[0][0] == i[1][0] and i[0][2] == i[1][2]:\n",
    "        lst.append(i)"
   ]
  },
  {
   "cell_type": "code",
   "execution_count": 79,
   "metadata": {},
   "outputs": [
    {
     "data": {
      "text/plain": [
       "[[['i_m', 'i_m', 'i_m'], ['i_m', 'i_m', 'i_m']],\n",
       " [['i_m', 'j_m', 'i_m'], ['i_m', 'j_m', 'i_m']],\n",
       " [['i_m', 'i_m', 'i_m'], ['i_m', 'j_m', 'i_m']],\n",
       " [['i_m', 'j_m', 'i_m'], ['i_m', 'k_m', 'i_m']],\n",
       " [['i_m', 'i_m', 'j_m'], ['i_m', 'i_m', 'j_m']],\n",
       " [['i_m', 'j_m', 'j_m'], ['i_m', 'j_m', 'j_m']],\n",
       " [['i_m', 'k_m', 'j_m'], ['i_m', 'k_m', 'j_m']],\n",
       " [['i_m', 'i_m', 'j_m'], ['i_m', 'j_m', 'j_m']],\n",
       " [['i_m', 'i_m', 'j_m'], ['i_m', 'k_m', 'j_m']],\n",
       " [['i_m', 'j_m', 'j_m'], ['i_m', 'k_m', 'j_m']],\n",
       " [['i_m', 'k_m', 'j_m'], ['i_m', 'l_m', 'j_m']]]"
      ]
     },
     "execution_count": 79,
     "metadata": {},
     "output_type": "execute_result"
    }
   ],
   "source": [
    "lst"
   ]
  },
  {
   "cell_type": "code",
   "execution_count": 80,
   "metadata": {
    "collapsed": true
   },
   "outputs": [],
   "source": [
    "prob_dr = 0\n",
    "\n",
    "for i in lst:\n",
    "    indx = modes.index(i)\n",
    "    prob_dr = prob_dr + prob[indx][1]"
   ]
  },
  {
   "cell_type": "code",
   "execution_count": 81,
   "metadata": {},
   "outputs": [
    {
     "data": {
      "text/plain": [
       "-(ppc)*t*vp*(vp - 1)*(8*q**2*r**2 - 8*q**2*r + 2*q**2 - 8*q*r**2 + 8*q*r - 2*q + 2*r**2 - 2*r + 1)/2"
      ]
     },
     "execution_count": 81,
     "metadata": {},
     "output_type": "execute_result"
    }
   ],
   "source": [
    "sp.factor(prob_dr)"
   ]
  },
  {
   "cell_type": "code",
   "execution_count": 91,
   "metadata": {
    "collapsed": true
   },
   "outputs": [],
   "source": [
    "prob_dr_prox_dist = -(ppc)*t*vp*(vp - 1)*(8*q**2*r**2 - 8*q**2*r + 2*q**2 - 8*q*r**2 + 8*q*r - 2*q + 2*r**2 - 2*r + 1)/2"
   ]
  },
  {
   "cell_type": "markdown",
   "metadata": {},
   "source": [
    "Loci treated as triplets"
   ]
  },
  {
   "cell_type": "code",
   "execution_count": 82,
   "metadata": {
    "collapsed": true
   },
   "outputs": [],
   "source": [
    "lst = []\n",
    "\n",
    "for i in modes:\n",
    "    if i[0][0] == i[1][0] and i[0][1] == i[1][1] and i[0][2] == i[1][2]:\n",
    "        lst.append(i)"
   ]
  },
  {
   "cell_type": "code",
   "execution_count": 83,
   "metadata": {},
   "outputs": [
    {
     "data": {
      "text/plain": [
       "[[['i_m', 'i_m', 'i_m'], ['i_m', 'i_m', 'i_m']],\n",
       " [['i_m', 'j_m', 'i_m'], ['i_m', 'j_m', 'i_m']],\n",
       " [['i_m', 'i_m', 'j_m'], ['i_m', 'i_m', 'j_m']],\n",
       " [['i_m', 'j_m', 'j_m'], ['i_m', 'j_m', 'j_m']],\n",
       " [['i_m', 'k_m', 'j_m'], ['i_m', 'k_m', 'j_m']]]"
      ]
     },
     "execution_count": 83,
     "metadata": {},
     "output_type": "execute_result"
    }
   ],
   "source": [
    "lst"
   ]
  },
  {
   "cell_type": "code",
   "execution_count": 84,
   "metadata": {
    "collapsed": true
   },
   "outputs": [],
   "source": [
    "prob_dr = 0\n",
    "\n",
    "for i in lst:\n",
    "    indx = modes.index(i)\n",
    "    prob_dr = prob_dr + prob[indx][1]"
   ]
  },
  {
   "cell_type": "code",
   "execution_count": 85,
   "metadata": {},
   "outputs": [
    {
     "data": {
      "text/plain": [
       "-(ppc)*t*vp*(vp - 1)*(2*q**2 - 2*q + 1)*(2*r**2 - 2*r + 1)/2"
      ]
     },
     "execution_count": 85,
     "metadata": {},
     "output_type": "execute_result"
    }
   ],
   "source": [
    "sp.factor(prob_dr)"
   ]
  },
  {
   "cell_type": "code",
   "execution_count": 92,
   "metadata": {
    "collapsed": true
   },
   "outputs": [],
   "source": [
    "prob_dr_all = -(ppc)*t*vp*(vp - 1)*(2*q**2 - 2*q + 1)*(2*r**2 - 2*r + 1)/2"
   ]
  },
  {
   "cell_type": "markdown",
   "metadata": {},
   "source": [
    "Numerical calculations"
   ]
  },
  {
   "cell_type": "code",
   "execution_count": 109,
   "metadata": {},
   "outputs": [
    {
     "data": {
      "text/plain": [
       "0.0416666666666667"
      ]
     },
     "execution_count": 109,
     "metadata": {},
     "output_type": "execute_result"
    }
   ],
   "source": [
    "prob_dr_prox.subs(t,2/3).subs(vp,1/2).subs(ppc,1/2)"
   ]
  },
  {
   "cell_type": "code",
   "execution_count": 198,
   "metadata": {},
   "outputs": [
    {
     "data": {
      "text/plain": [
       "0.0416666666666667"
      ]
     },
     "execution_count": 198,
     "metadata": {},
     "output_type": "execute_result"
    }
   ],
   "source": [
    "prob_dr_mid.subs(t,2/3).subs(vp,0.5).subs(ppc,1/2).subs(pmp,0).subs(qp,0.5)"
   ]
  },
  {
   "cell_type": "code",
   "execution_count": 199,
   "metadata": {},
   "outputs": [
    {
     "data": {
      "text/plain": [
       "0.0416666666666667"
      ]
     },
     "execution_count": 199,
     "metadata": {},
     "output_type": "execute_result"
    }
   ],
   "source": [
    "prob_dr_dist.subs(t,2/3).subs(vp,0.5).subs(ppc,1/2).subs(pmp,0).subs(qp,0.5).subs(pdm,0).subs(rp,0.5)"
   ]
  },
  {
   "cell_type": "code",
   "execution_count": 200,
   "metadata": {},
   "outputs": [
    {
     "data": {
      "text/plain": [
       "0.0208333333333333"
      ]
     },
     "execution_count": 200,
     "metadata": {},
     "output_type": "execute_result"
    }
   ],
   "source": [
    "prob_dr_prox_mid.subs(t,2/3).subs(vp,0.5).subs(ppc,1/2).subs(q,0.5)"
   ]
  },
  {
   "cell_type": "markdown",
   "metadata": {},
   "source": [
    "# Below the G||g locus acts downstream toward the centromere"
   ]
  },
  {
   "cell_type": "markdown",
   "metadata": {},
   "source": [
    "Preferential Pairing: Proximal"
   ]
  },
  {
   "cell_type": "code",
   "execution_count": 116,
   "metadata": {
    "collapsed": true
   },
   "outputs": [],
   "source": [
    "modes = [[[G, 'i_m', 'i_m'], [G, 'i_m', 'i_m']],\n",
    " [[G, 'i_m', 'j_m'], [G, 'i_m', 'j_m']],\n",
    " [[G, 'i_m', 'i_m'], [G, 'i_m', 'j_m']],\n",
    " [[G, 'i_m', 'j_m'], [G, 'i_m', 'k_m']],\n",
    " [[G, 'i_m', 'i_m'], [G, 'j_m', 'i_m']],\n",
    " [[G, 'i_m', 'j_m'], [G, 'k_m', 'j_m']],\n",
    " [[G, 'i_m', 'i_m'], [G, 'j_m', 'j_m']],\n",
    " [[G, 'i_m', 'i_m'], [G, 'j_m', 'k_m']],\n",
    " [[G, 'i_m', 'j_m'], [G, 'j_m', 'i_m']],\n",
    " [[G, 'i_m', 'j_m'], [G, 'j_m', 'k_m']],\n",
    " [[G, 'i_m', 'j_m'], [G, 'k_m', 'l_m']],\n",
    " [[G, 'i_m', 'i_m'], [g, 'i_m', 'j_m']],\n",
    " [[G, 'i_m', 'i_m'], [g, 'j_m', 'i_m']],\n",
    " [[G, 'i_m', 'i_m'], [g, 'j_m', 'k_m']],\n",
    " [[G, 'i_m', 'j_m'], [g, 'j_m', 'k_m']],\n",
    " [[g, 'i_m', 'i_m'], [G, 'i_m', 'i_m']],\n",
    " [[g, 'i_m', 'j_m'], [G, 'i_m', 'j_m']],\n",
    " [[g, 'i_m', 'i_m'], [G, 'i_m', 'j_m']],\n",
    " [[g, 'i_m', 'j_m'], [G, 'i_m', 'k_m']],\n",
    " [[g, 'i_m', 'i_m'], [G, 'j_m', 'i_m']],\n",
    " [[g, 'i_m', 'j_m'], [G, 'k_m', 'j_m']],\n",
    " [[g, 'i_m', 'i_m'], [G, 'j_m', 'j_m']],\n",
    " [[g, 'i_m', 'i_m'], [G, 'j_m', 'k_m']],\n",
    " [[g, 'i_m', 'j_m'], [G, 'j_m', 'i_m']],\n",
    " [[g, 'i_m', 'j_m'], [G, 'j_m', 'k_m']],\n",
    " [[g, 'i_m', 'j_m'], [G, 'k_m', 'l_m']],\n",
    " [[g, 'i_m', 'i_m'], [g, 'i_m', 'i_m']],\n",
    " [[g, 'i_m', 'j_m'], [g, 'i_m', 'j_m']],\n",
    " [[g, 'i_m', 'i_m'], [g, 'i_m', 'j_m']],\n",
    " [[g, 'i_m', 'j_m'], [g, 'i_m', 'k_m']],\n",
    " [[g, 'i_m', 'i_m'], [g, 'j_m', 'i_m']],\n",
    " [[g, 'i_m', 'j_m'], [g, 'k_m', 'j_m']],\n",
    " [[g, 'i_m', 'i_m'], [g, 'j_m', 'j_m']],\n",
    " [[g, 'i_m', 'i_m'], [g, 'j_m', 'k_m']],\n",
    " [[g, 'i_m', 'j_m'], [g, 'j_m', 'i_m']],\n",
    " [[g, 'i_m', 'j_m'], [g, 'j_m', 'k_m']],\n",
    " [[g, 'i_m', 'j_m'], [g, 'k_m', 'l_m']]]"
   ]
  },
  {
   "cell_type": "code",
   "execution_count": 119,
   "metadata": {
    "collapsed": true
   },
   "outputs": [],
   "source": [
    "prob = [[0,\n",
    "  [t*(r - 1)**2*(-(pmp)*qp*(qp - 1) + (ppc)*(-2*q*vp + q + vp)*(2*q*vp - q - vp + 1))/2,\n",
    "   -t*(r - 1)**2*(4*(pmp)*qp*(qp - 1) + (ppc)*(2*p_pair**2*q**2*vp**2 - 2*p_pair**2*q*vp**2 + p_pair**2*vp**2 - 2*p_pair*q**2*vp + 2*p_pair*q*vp - p_pair*vp + 18*q**2*vp**2 - 18*q**2*vp + 4*q**2 - 18*q*vp**2 + 18*q*vp - 4*q + 5*vp**2 - 5*vp))/16,\n",
    "   -t*(r - 1)**2*((pmp)*qp*(qp - 1) + (ppc)*(2*p_pair**2*q**2*vp**2 - 2*p_pair**2*q*vp**2 + p_pair**2*vp**2 - 2*p_pair*q**2*vp + 2*p_pair*q*vp - p_pair*vp + 6*q**2*vp**2 - 6*q**2*vp + q**2 - 6*q*vp**2 + 6*q*vp - q + 2*vp**2 - 2*vp))/12,\n",
    "   -t*(r - 1)**2*(6*(pmp)*qp*(qp - 1) + (ppc)*(4*p_pair**2*q**2*vp**2 - 4*p_pair**2*q*vp**2 + p_pair**2*vp**2 - 4*p_pair*q**2*vp + 4*p_pair*q*vp - p_pair*vp + 20*q**2*vp**2 - 20*q**2*vp + 6*q**2 - 20*q*vp**2 + 20*q*vp - 6*q + 5*vp**2 - 5*vp))/16]],\n",
    " [1,\n",
    "  [r**2*t*(-(pmp)*qp*(qp - 1) + (ppc)*(-2*q*vp + q + vp)*(2*q*vp - q - vp + 1))/2,\n",
    "   -r**2*t*(4*(pmp)*qp*(qp - 1) + (ppc)*(2*p_pair**2*q**2*vp**2 - 2*p_pair**2*q*vp**2 + p_pair**2*vp**2 - 2*p_pair*q**2*vp + 2*p_pair*q*vp - p_pair*vp + 18*q**2*vp**2 - 18*q**2*vp + 4*q**2 - 18*q*vp**2 + 18*q*vp - 4*q + 5*vp**2 - 5*vp))/16,\n",
    "   -r**2*t*((pmp)*qp*(qp - 1) + (ppc)*(2*p_pair**2*q**2*vp**2 - 2*p_pair**2*q*vp**2 + p_pair**2*vp**2 - 2*p_pair*q**2*vp + 2*p_pair*q*vp - p_pair*vp + 6*q**2*vp**2 - 6*q**2*vp + q**2 - 6*q*vp**2 + 6*q*vp - q + 2*vp**2 - 2*vp))/12,\n",
    "   -r**2*t*(6*(pmp)*qp*(qp - 1) + (ppc)*(4*p_pair**2*q**2*vp**2 - 4*p_pair**2*q*vp**2 + p_pair**2*vp**2 - 4*p_pair*q**2*vp + 4*p_pair*q*vp - p_pair*vp + 20*q**2*vp**2 - 20*q**2*vp + 6*q**2 - 20*q*vp**2 + 20*q*vp - 6*q + 5*vp**2 - 5*vp))/16]],\n",
    " [2,\n",
    "  [r*t*(r - 1)*((pmp)*qp*(qp - 1) - (ppc)*(-2*q*vp + q + vp)*(2*q*vp - q - vp + 1)),\n",
    "   r*t*(r - 1)*(4*(pmp)*qp*(qp - 1) + (ppc)*(2*p_pair**2*q**2*vp**2 - 2*p_pair**2*q*vp**2 + p_pair**2*vp**2 - 2*p_pair*q**2*vp + 2*p_pair*q*vp - p_pair*vp + 18*q**2*vp**2 - 18*q**2*vp + 4*q**2 - 18*q*vp**2 + 18*q*vp - 4*q + 5*vp**2 - 5*vp))/8,\n",
    "   r*t*(r - 1)*((pmp)*qp*(qp - 1) + (ppc)*(2*p_pair**2*q**2*vp**2 - 2*p_pair**2*q*vp**2 + p_pair**2*vp**2 - 2*p_pair*q**2*vp + 2*p_pair*q*vp - p_pair*vp + 6*q**2*vp**2 - 6*q**2*vp + q**2 - 6*q*vp**2 + 6*q*vp - q + 2*vp**2 - 2*vp))/6,\n",
    "   r*t*(r - 1)*(6*(pmp)*qp*(qp - 1) + (ppc)*(4*p_pair**2*q**2*vp**2 - 4*p_pair**2*q*vp**2 + p_pair**2*vp**2 - 4*p_pair*q**2*vp + 4*p_pair*q*vp - p_pair*vp + 20*q**2*vp**2 - 20*q**2*vp + 6*q**2 - 20*q*vp**2 + 20*q*vp - 6*q + 5*vp**2 - 5*vp))/8]],\n",
    " [3, [0, 0, 0, 0]],\n",
    " [4,\n",
    "  [t*((pdm)*rp*(rp - 1)**2 - (pmp)*r*(r - 1)*(2*qp**2 - 2*qp + 1) - (ppc)*r*(r - 1)*(8*q**2*vp**2 - 8*q**2*vp + 2*q**2 - 8*q*vp**2 + 8*q*vp - 2*q + 2*vp**2 - 2*vp + 1))/2,\n",
    "   t*((pdm)*rp*(rp - 1)**2 - (pmp)*r*(r - 1)*(2*qp**2 - 2*qp + 1) - (ppc)*r*(r - 1)*(p_pair**2*q**2*vp**2 - p_pair**2*q*vp**2 - p_pair*q**2*vp + p_pair*q*vp + 9*q**2*vp**2 - 9*q**2*vp + 2*q**2 - 9*q*vp**2 + 9*q*vp - 2*q + 2*vp**2 - 2*vp + 1))/4,\n",
    "   t*((pdm)*rp*(rp - 1)**2 - (pmp)*r*(r - 1)*(2*qp**2 - 2*qp + 1) - (ppc)*r*(r - 1)*(4*p_pair**2*q**2*vp**2 - 4*p_pair**2*q*vp**2 - 4*p_pair*q**2*vp + 4*p_pair*q*vp + 12*q**2*vp**2 - 12*q**2*vp + 2*q**2 - 12*q*vp**2 + 12*q*vp - 2*q + 2*vp**2 - 2*vp + 1))/12,\n",
    "   t*(3*(pdm)*rp*(rp - 1)**2 - 3*(pmp)*r*(r - 1)*(2*qp**2 - 2*qp + 1) - (ppc)*r*(r - 1)*(4*p_pair**2*q**2*vp**2 - 4*p_pair**2*q*vp**2 + p_pair**2*vp**2 - 4*p_pair*q**2*vp + 4*p_pair*q*vp - p_pair*vp + 20*q**2*vp**2 - 20*q**2*vp + 6*q**2 - 20*q*vp**2 + 20*q*vp - 6*q + 5*vp**2 - 5*vp + 3))/8]],\n",
    " [5,\n",
    "  [(pdm)*rp**2*t*(-rp + 1)/2,\n",
    "   (pdm)*rp**2*t*(-rp + 1)/4,\n",
    "   (pdm)*rp**2*t*(-rp + 1)/12,\n",
    "   3*(pdm)*rp**2*t*(-rp + 1)/8]],\n",
    " [6,\n",
    "  [(pdm)*t*(rp - 1)**3*(3*rp - 4)/4 + (pmp)*t*(r - 1)*(2*qp**2*r - 2*qp**2 - 2*qp*r + 2*qp + 3*r - 4)/4 + (ppc)*t*(r - 1)*(8*q**2*r*vp**2 - 8*q**2*r*vp + 2*q**2*r - 8*q**2*vp**2 + 8*q**2*vp - 2*q**2 - 8*q*r*vp**2 + 8*q*r*vp - 2*q*r + 8*q*vp**2 - 8*q*vp + 2*q + 2*r*vp**2 - 2*r*vp + 3*r - 2*vp**2 + 2*vp - 4)/4 + (r - 1)**2*(-(pdm)*t - (pmp)*t - (ppc)*t + 1),\n",
    "   (pdm)*t*(rp - 1)**3*(3*rp - 4)/8 + (pmp)*t*(r - 1)*(2*qp**2*r - 2*qp**2 - 2*qp*r + 2*qp + 3*r - 4)/8 + (ppc)*t*(r - 1)*(p_pair**2*q**2*r*vp**2 - p_pair**2*q**2*vp**2 - p_pair**2*q*r*vp**2 + p_pair**2*q*vp**2 - p_pair*q**2*r*vp + p_pair*q**2*vp + p_pair*q*r*vp - p_pair*q*vp + 9*q**2*r*vp**2 - 9*q**2*r*vp + 2*q**2*r - 9*q**2*vp**2 + 9*q**2*vp - 2*q**2 - 9*q*r*vp**2 + 9*q*r*vp - 2*q*r + 9*q*vp**2 - 9*q*vp + 2*q + 2*r*vp**2 - 2*r*vp + 3*r - 2*vp**2 + 2*vp - 4)/8 + (r - 1)**2*(-(pdm)*t - (pmp)*t - (ppc)*t + 1)/2,\n",
    "   (pdm)*t*(rp - 1)**3*(3*rp - 4)/24 + (pmp)*t*(r - 1)*(2*qp**2*r - 2*qp**2 - 2*qp*r + 2*qp + 3*r - 4)/24 + (ppc)*t*(r - 1)*(4*p_pair**2*q**2*r*vp**2 - 4*p_pair**2*q**2*vp**2 - 4*p_pair**2*q*r*vp**2 + 4*p_pair**2*q*vp**2 - 4*p_pair*q**2*r*vp + 4*p_pair*q**2*vp + 4*p_pair*q*r*vp - 4*p_pair*q*vp + 12*q**2*r*vp**2 - 12*q**2*r*vp + 2*q**2*r - 12*q**2*vp**2 + 12*q**2*vp - 2*q**2 - 12*q*r*vp**2 + 12*q*r*vp - 2*q*r + 12*q*vp**2 - 12*q*vp + 2*q + 2*r*vp**2 - 2*r*vp + 3*r - 2*vp**2 + 2*vp - 4)/24 + (r - 1)**2*(-(pdm)*t - (pmp)*t - (ppc)*t + 1)/6,\n",
    "   3*(pdm)*t*(rp - 1)**3*(3*rp - 4)/16 + 3*(pmp)*t*(r - 1)*(2*qp**2*r - 2*qp**2 - 2*qp*r + 2*qp + 3*r - 4)/16 + (ppc)*t*(r - 1)*(4*p_pair**2*q**2*r*vp**2 - 4*p_pair**2*q**2*vp**2 - 4*p_pair**2*q*r*vp**2 + 4*p_pair**2*q*vp**2 + p_pair**2*r*vp**2 - p_pair**2*vp**2 - 4*p_pair*q**2*r*vp + 4*p_pair*q**2*vp + 4*p_pair*q*r*vp - 4*p_pair*q*vp - p_pair*r*vp + p_pair*vp + 20*q**2*r*vp**2 - 20*q**2*r*vp + 6*q**2*r - 20*q**2*vp**2 + 20*q**2*vp - 6*q**2 - 20*q*r*vp**2 + 20*q*r*vp - 6*q*r + 20*q*vp**2 - 20*q*vp + 6*q + 5*r*vp**2 - 5*r*vp + 9*r - 5*vp**2 + 5*vp - 12)/16 + 3*(r - 1)**2*(-(pdm)*t - (pmp)*t - (ppc)*t + 1)/4]],\n",
    " [7,\n",
    "  [-3*(pdm)*rp*t*(rp - 2)*(rp - 1)**2/2 - (pmp)*r*t*(r - 1) - (ppc)*r*t*(r - 1) + 2*r*(r - 1)*((pdm)*t + (pmp)*t + (ppc)*t - 1),\n",
    "   -3*(pdm)*rp*t*(rp - 2)*(rp - 1)**2/4 - (pmp)*r*t*(r - 1)/2 - (ppc)*r*t*(r - 1)/2 + r*(r - 1)*((pdm)*t + (pmp)*t + (ppc)*t - 1),\n",
    "   -(pdm)*rp*t*(rp - 2)*(rp - 1)**2/4 - (pmp)*r*t*(r - 1)/6 - (ppc)*r*t*(r - 1)/6 + r*(r - 1)*((pdm)*t + (pmp)*t + (ppc)*t - 1)/3,\n",
    "   -9*(pdm)*rp*t*(rp - 2)*(rp - 1)**2/8 - 3*(pmp)*r*t*(r - 1)/4 - 3*(ppc)*r*t*(r - 1)/4 + 3*r*(r - 1)*((pdm)*t + (pmp)*t + (ppc)*t - 1)/2]],\n",
    " [8,\n",
    "  [t*((pdm)*rp*(3*rp**3 - rp**2 - rp + 1) + (pmp)*r*(2*qp**2*r - 2*qp*r + r + 1) + (ppc)*r*(8*q**2*r*vp**2 - 8*q**2*r*vp + 2*q**2*r - 8*q*r*vp**2 + 8*q*r*vp - 2*q*r + 2*r*vp**2 - 2*r*vp + r + 1))/4,\n",
    "   t*((pdm)*rp*(3*rp**3 - rp**2 - rp + 1) + (pmp)*r*(2*qp**2*r - 2*qp*r + r + 1) + (ppc)*r*(p_pair**2*q**2*r*vp**2 - p_pair**2*q*r*vp**2 - p_pair*q**2*r*vp + p_pair*q*r*vp + 9*q**2*r*vp**2 - 9*q**2*r*vp + 2*q**2*r - 9*q*r*vp**2 + 9*q*r*vp - 2*q*r + 2*r*vp**2 - 2*r*vp + r + 1))/8,\n",
    "   t*((pdm)*rp*(3*rp**3 - rp**2 - rp + 1) + (pmp)*r*(2*qp**2*r - 2*qp*r + r + 1) + (ppc)*r*(4*p_pair**2*q**2*r*vp**2 - 4*p_pair**2*q*r*vp**2 - 4*p_pair*q**2*r*vp + 4*p_pair*q*r*vp + 12*q**2*r*vp**2 - 12*q**2*r*vp + 2*q**2*r - 12*q*r*vp**2 + 12*q*r*vp - 2*q*r + 2*r*vp**2 - 2*r*vp + r + 1))/24,\n",
    "   t*(3*(pdm)*rp*(3*rp**3 - rp**2 - rp + 1) + 3*(pmp)*r*(2*qp**2*r - 2*qp*r + r + 1) + (ppc)*r*(4*p_pair**2*q**2*r*vp**2 - 4*p_pair**2*q*r*vp**2 + p_pair**2*r*vp**2 - 4*p_pair*q**2*r*vp + 4*p_pair*q*r*vp - p_pair*r*vp + 20*q**2*r*vp**2 - 20*q**2*r*vp + 6*q**2*r - 20*q*r*vp**2 + 20*q*r*vp - 6*q*r + 5*r*vp**2 - 5*r*vp + 3*r + 3))/16]],\n",
    " [9,\n",
    "  [3*(pdm)*rp**2*t*(-rp**2 + 1)/2,\n",
    "   3*(pdm)*rp**2*t*(-rp**2 + 1)/4,\n",
    "   (pdm)*rp**2*t*(-rp**2 + 1)/4,\n",
    "   9*(pdm)*rp**2*t*(-rp**2 + 1)/8]],\n",
    " [10,\n",
    "  [(pdm)*rp**2*t*(3*rp**2 - 5*rp + 3)/2 + (pmp)*r**2*t/2 + (ppc)*r**2*t/2 + r**2*(-(pdm)*t - (pmp)*t - (ppc)*t + 1),\n",
    "   (pdm)*rp**2*t*(3*rp**2 - 5*rp + 3)/4 + (pmp)*r**2*t/4 + (ppc)*r**2*t/4 + r**2*(-(pdm)*t - (pmp)*t - (ppc)*t + 1)/2,\n",
    "   (pdm)*rp**2*t*(3*rp**2 - 5*rp + 3)/12 + (pmp)*r**2*t/12 + (ppc)*r**2*t/12 + r**2*(-(pdm)*t - (pmp)*t - (ppc)*t + 1)/6,\n",
    "   3*(pdm)*rp**2*t*(3*rp**2 - 5*rp + 3)/8 + 3*(pmp)*r**2*t/8 + 3*(ppc)*r**2*t/8 + 3*r**2*(-(pdm)*t - (pmp)*t - (ppc)*t + 1)/4]],\n",
    " [11,\n",
    "  [0,\n",
    "   r*t*(r - 1)*((pmp)*qp*(qp - 1) + (ppc)*q*(q - 1)*(p_pair**2*vp**2 - p_pair*vp + vp**2 - vp + 1))/4,\n",
    "   r*t*(r - 1)*((pmp)*qp*(qp - 1) + (ppc)*q*(q - 1)*(p_pair**2*vp**2 - p_pair*vp + vp**2 - vp + 1))/3,\n",
    "   r*t*(r - 1)*(2*(pmp)*qp*(qp - 1) + (ppc)*(4*p_pair**2*q**2*vp**2 - 4*p_pair**2*q*vp**2 + p_pair**2*vp**2 - 4*p_pair*q**2*vp + 4*p_pair*q*vp - p_pair*vp + 4*q**2*vp**2 - 4*q**2*vp + 2*q**2 - 4*q*vp**2 + 4*q*vp - 2*q + vp**2 - vp))/16]],\n",
    " [12,\n",
    "  [0,\n",
    "   t*((pdm)*rp*(rp - 1)**2 - (pmp)*r*(r - 1)*(2*qp**2 - 2*qp + 1) - (ppc)*r*(r - 1)*(2*q**2 - 2*q + 1)*(p_pair**2*vp**2 - p_pair*vp + vp**2 - vp + 1))/8,\n",
    "   t*((pdm)*rp*(rp - 1)**2 - (pmp)*r*(r - 1)*(2*qp**2 - 2*qp + 1) - (ppc)*r*(r - 1)*(2*q**2 - 2*q + 1)*(p_pair**2*vp**2 - p_pair*vp + vp**2 - vp + 1))/6,\n",
    "   t*((pdm)*rp*(rp - 1)**2 - (pmp)*r*(r - 1)*(2*qp**2 - 2*qp + 1) - (ppc)*r*(r - 1)*(4*p_pair**2*q**2*vp**2 - 4*p_pair**2*q*vp**2 + p_pair**2*vp**2 - 4*p_pair*q**2*vp + 4*p_pair*q*vp - p_pair*vp + 4*q**2*vp**2 - 4*q**2*vp + 2*q**2 - 4*q*vp**2 + 4*q*vp - 2*q + vp**2 - vp + 1))/16]],\n",
    " [13,\n",
    "  [0,\n",
    "   -3*(pdm)*rp*t*(rp - 2)*(rp - 1)**2/8 - (pmp)*r*t*(r - 1)/4 - (ppc)*r*t*(r - 1)/4 + r*(r - 1)*((pdm)*t + (pmp)*t + (ppc)*t - 1)/2,\n",
    "   -(pdm)*rp*t*(rp - 2)*(rp - 1)**2/2 - (pmp)*r*t*(r - 1)/3 - (ppc)*r*t*(r - 1)/3 + 2*r*(r - 1)*((pdm)*t + (pmp)*t + (ppc)*t - 1)/3,\n",
    "   -3*(pdm)*rp*t*(rp - 2)*(rp - 1)**2/16 - (pmp)*r*t*(r - 1)/8 - (ppc)*r*t*(r - 1)/8 + r*(r - 1)*((pdm)*t + (pmp)*t + (ppc)*t - 1)/4]],\n",
    " [14,\n",
    "  [0,\n",
    "   3*(pdm)*rp**2*t*(-rp**2 + 1)/8,\n",
    "   (pdm)*rp**2*t*(-rp**2 + 1)/2,\n",
    "   3*(pdm)*rp**2*t*(-rp**2 + 1)/16]],\n",
    " [15,\n",
    "  [0,\n",
    "   -t*(r - 1)**2*((pmp)*qp*(qp - 1) + (ppc)*q*(q - 1)*(p_pair**2*vp**2 - p_pair*vp + vp**2 - vp + 1))/4,\n",
    "   -t*(r - 1)**2*((pmp)*qp*(qp - 1) + (ppc)*q*(q - 1)*(p_pair**2*vp**2 - p_pair*vp + vp**2 - vp + 1))/3,\n",
    "   -t*(r - 1)**2*(2*(pmp)*qp*(qp - 1) + (ppc)*(4*p_pair**2*q**2*vp**2 - 4*p_pair**2*q*vp**2 + p_pair**2*vp**2 - 4*p_pair*q**2*vp + 4*p_pair*q*vp - p_pair*vp + 4*q**2*vp**2 - 4*q**2*vp + 2*q**2 - 4*q*vp**2 + 4*q*vp - 2*q + vp**2 - vp))/16]],\n",
    " [16,\n",
    "  [0,\n",
    "   -r**2*t*((pmp)*qp*(qp - 1) + (ppc)*q*(q - 1)*(p_pair**2*vp**2 - p_pair*vp + vp**2 - vp + 1))/4,\n",
    "   -r**2*t*((pmp)*qp*(qp - 1) + (ppc)*q*(q - 1)*(p_pair**2*vp**2 - p_pair*vp + vp**2 - vp + 1))/3,\n",
    "   -r**2*t*(2*(pmp)*qp*(qp - 1) + (ppc)*(4*p_pair**2*q**2*vp**2 - 4*p_pair**2*q*vp**2 + p_pair**2*vp**2 - 4*p_pair*q**2*vp + 4*p_pair*q*vp - p_pair*vp + 4*q**2*vp**2 - 4*q**2*vp + 2*q**2 - 4*q*vp**2 + 4*q*vp - 2*q + vp**2 - vp))/16]],\n",
    " [17,\n",
    "  [0,\n",
    "   r*t*(r - 1)*((pmp)*qp*(qp - 1) + (ppc)*q*(q - 1)*(p_pair**2*vp**2 - p_pair*vp + vp**2 - vp + 1))/4,\n",
    "   r*t*(r - 1)*((pmp)*qp*(qp - 1) + (ppc)*q*(q - 1)*(p_pair**2*vp**2 - p_pair*vp + vp**2 - vp + 1))/3,\n",
    "   r*t*(r - 1)*(2*(pmp)*qp*(qp - 1) + (ppc)*(4*p_pair**2*q**2*vp**2 - 4*p_pair**2*q*vp**2 + p_pair**2*vp**2 - 4*p_pair*q**2*vp + 4*p_pair*q*vp - p_pair*vp + 4*q**2*vp**2 - 4*q**2*vp + 2*q**2 - 4*q*vp**2 + 4*q*vp - 2*q + vp**2 - vp))/16]],\n",
    " [18, [0, 0, 0, 0]],\n",
    " [19,\n",
    "  [0,\n",
    "   t*((pdm)*rp*(rp - 1)**2 - (pmp)*r*(r - 1)*(2*qp**2 - 2*qp + 1) - (ppc)*r*(r - 1)*(2*q**2 - 2*q + 1)*(p_pair**2*vp**2 - p_pair*vp + vp**2 - vp + 1))/8,\n",
    "   t*((pdm)*rp*(rp - 1)**2 - (pmp)*r*(r - 1)*(2*qp**2 - 2*qp + 1) - (ppc)*r*(r - 1)*(2*q**2 - 2*q + 1)*(p_pair**2*vp**2 - p_pair*vp + vp**2 - vp + 1))/6,\n",
    "   t*((pdm)*rp*(rp - 1)**2 - (pmp)*r*(r - 1)*(2*qp**2 - 2*qp + 1) - (ppc)*r*(r - 1)*(4*p_pair**2*q**2*vp**2 - 4*p_pair**2*q*vp**2 + p_pair**2*vp**2 - 4*p_pair*q**2*vp + 4*p_pair*q*vp - p_pair*vp + 4*q**2*vp**2 - 4*q**2*vp + 2*q**2 - 4*q*vp**2 + 4*q*vp - 2*q + vp**2 - vp + 1))/16]],\n",
    " [20,\n",
    "  [0,\n",
    "   (pdm)*rp**2*t*(-rp + 1)/4,\n",
    "   (pdm)*rp**2*t*(-rp + 1)/3,\n",
    "   (pdm)*rp**2*t*(-rp + 1)/8]],\n",
    " [21,\n",
    "  [0,\n",
    "   (pdm)*t*(rp - 1)**3*(3*rp - 4)/8 + (pmp)*t*(r - 1)*(2*qp**2*r - 2*qp**2 - 2*qp*r + 2*qp + 3*r - 4)/8 + (ppc)*t*(r - 1)*(2*p_pair**2*q**2*r*vp**2 - 2*p_pair**2*q**2*vp**2 - 2*p_pair**2*q*r*vp**2 + 2*p_pair**2*q*vp**2 + p_pair**2*r*vp**2 - p_pair**2*vp**2 - 2*p_pair*q**2*r*vp + 2*p_pair*q**2*vp + 2*p_pair*q*r*vp - 2*p_pair*q*vp - p_pair*r*vp + p_pair*vp + 2*q**2*r*vp**2 - 2*q**2*r*vp + 2*q**2*r - 2*q**2*vp**2 + 2*q**2*vp - 2*q**2 - 2*q*r*vp**2 + 2*q*r*vp - 2*q*r + 2*q*vp**2 - 2*q*vp + 2*q + r*vp**2 - r*vp + 3*r - vp**2 + vp - 4)/8 + (r - 1)**2*(-(pdm)*t - (pmp)*t - (ppc)*t + 1)/2,\n",
    "   (pdm)*t*(rp - 1)**3*(3*rp - 4)/6 + (pmp)*t*(r - 1)*(2*qp**2*r - 2*qp**2 - 2*qp*r + 2*qp + 3*r - 4)/6 + (ppc)*t*(r - 1)*(2*p_pair**2*q**2*r*vp**2 - 2*p_pair**2*q**2*vp**2 - 2*p_pair**2*q*r*vp**2 + 2*p_pair**2*q*vp**2 + p_pair**2*r*vp**2 - p_pair**2*vp**2 - 2*p_pair*q**2*r*vp + 2*p_pair*q**2*vp + 2*p_pair*q*r*vp - 2*p_pair*q*vp - p_pair*r*vp + p_pair*vp + 2*q**2*r*vp**2 - 2*q**2*r*vp + 2*q**2*r - 2*q**2*vp**2 + 2*q**2*vp - 2*q**2 - 2*q*r*vp**2 + 2*q*r*vp - 2*q*r + 2*q*vp**2 - 2*q*vp + 2*q + r*vp**2 - r*vp + 3*r - vp**2 + vp - 4)/6 + 2*(r - 1)**2*(-(pdm)*t - (pmp)*t - (ppc)*t + 1)/3,\n",
    "   (pdm)*t*(rp - 1)**3*(3*rp - 4)/16 + (pmp)*t*(r - 1)*(2*qp**2*r - 2*qp**2 - 2*qp*r + 2*qp + 3*r - 4)/16 + (ppc)*t*(r - 1)*(4*p_pair**2*q**2*r*vp**2 - 4*p_pair**2*q**2*vp**2 - 4*p_pair**2*q*r*vp**2 + 4*p_pair**2*q*vp**2 + p_pair**2*r*vp**2 - p_pair**2*vp**2 - 4*p_pair*q**2*r*vp + 4*p_pair*q**2*vp + 4*p_pair*q*r*vp - 4*p_pair*q*vp - p_pair*r*vp + p_pair*vp + 4*q**2*r*vp**2 - 4*q**2*r*vp + 2*q**2*r - 4*q**2*vp**2 + 4*q**2*vp - 2*q**2 - 4*q*r*vp**2 + 4*q*r*vp - 2*q*r + 4*q*vp**2 - 4*q*vp + 2*q + r*vp**2 - r*vp + 3*r - vp**2 + vp - 4)/16 + (r - 1)**2*(-(pdm)*t - (pmp)*t - (ppc)*t + 1)/4]],\n",
    " [22,\n",
    "  [0,\n",
    "   -3*(pdm)*rp*t*(rp - 2)*(rp - 1)**2/8 - (pmp)*r*t*(r - 1)/4 - (ppc)*r*t*(r - 1)/4 + r*(r - 1)*((pdm)*t + (pmp)*t + (ppc)*t - 1)/2,\n",
    "   -(pdm)*rp*t*(rp - 2)*(rp - 1)**2/2 - (pmp)*r*t*(r - 1)/3 - (ppc)*r*t*(r - 1)/3 + 2*r*(r - 1)*((pdm)*t + (pmp)*t + (ppc)*t - 1)/3,\n",
    "   -3*(pdm)*rp*t*(rp - 2)*(rp - 1)**2/16 - (pmp)*r*t*(r - 1)/8 - (ppc)*r*t*(r - 1)/8 + r*(r - 1)*((pdm)*t + (pmp)*t + (ppc)*t - 1)/4]],\n",
    " [23,\n",
    "  [0,\n",
    "   t*((pdm)*rp*(3*rp**3 - rp**2 - rp + 1) + (pmp)*r*(2*qp**2*r - 2*qp*r + r + 1) + (ppc)*r*(2*p_pair**2*q**2*r*vp**2 - 2*p_pair**2*q*r*vp**2 + p_pair**2*r*vp**2 - 2*p_pair*q**2*r*vp + 2*p_pair*q*r*vp - p_pair*r*vp + 2*q**2*r*vp**2 - 2*q**2*r*vp + 2*q**2*r - 2*q*r*vp**2 + 2*q*r*vp - 2*q*r + r*vp**2 - r*vp + r + 1))/8,\n",
    "   t*((pdm)*rp*(3*rp**3 - rp**2 - rp + 1) + (pmp)*r*(2*qp**2*r - 2*qp*r + r + 1) + (ppc)*r*(2*p_pair**2*q**2*r*vp**2 - 2*p_pair**2*q*r*vp**2 + p_pair**2*r*vp**2 - 2*p_pair*q**2*r*vp + 2*p_pair*q*r*vp - p_pair*r*vp + 2*q**2*r*vp**2 - 2*q**2*r*vp + 2*q**2*r - 2*q*r*vp**2 + 2*q*r*vp - 2*q*r + r*vp**2 - r*vp + r + 1))/6,\n",
    "   t*((pdm)*rp*(3*rp**3 - rp**2 - rp + 1) + (pmp)*r*(2*qp**2*r - 2*qp*r + r + 1) + (ppc)*r*(4*p_pair**2*q**2*r*vp**2 - 4*p_pair**2*q*r*vp**2 + p_pair**2*r*vp**2 - 4*p_pair*q**2*r*vp + 4*p_pair*q*r*vp - p_pair*r*vp + 4*q**2*r*vp**2 - 4*q**2*r*vp + 2*q**2*r - 4*q*r*vp**2 + 4*q*r*vp - 2*q*r + r*vp**2 - r*vp + r + 1))/16]],\n",
    " [24,\n",
    "  [0,\n",
    "   3*(pdm)*rp**2*t*(-rp**2 + 1)/8,\n",
    "   (pdm)*rp**2*t*(-rp**2 + 1)/2,\n",
    "   3*(pdm)*rp**2*t*(-rp**2 + 1)/16]],\n",
    " [25,\n",
    "  [0,\n",
    "   (pdm)*rp**2*t*(3*rp**2 - 5*rp + 3)/4 + (pmp)*r**2*t/4 + (ppc)*r**2*t/4 + r**2*(-(pdm)*t - (pmp)*t - (ppc)*t + 1)/2,\n",
    "   (pdm)*rp**2*t*(3*rp**2 - 5*rp + 3)/3 + (pmp)*r**2*t/3 + (ppc)*r**2*t/3 + 2*r**2*(-(pdm)*t - (pmp)*t - (ppc)*t + 1)/3,\n",
    "   (pdm)*rp**2*t*(3*rp**2 - 5*rp + 3)/8 + (pmp)*r**2*t/8 + (ppc)*r**2*t/8 + r**2*(-(pdm)*t - (pmp)*t - (ppc)*t + 1)/4]],\n",
    " [26,\n",
    "  [0,\n",
    "   -(ppc)*t*vp*(r - 1)**2*(2*q**2 - 2*q + 1)*(p_pair**2*vp - p_pair + vp - 1)/16,\n",
    "   -t*(r - 1)**2*((pmp)*qp*(qp - 1) + (ppc)*(2*p_pair**2*q**2*vp**2 - 2*p_pair**2*q*vp**2 + p_pair**2*vp**2 - 2*p_pair*q**2*vp + 2*p_pair*q*vp - p_pair*vp + 6*q**2*vp**2 - 6*q**2*vp + q**2 - 6*q*vp**2 + 6*q*vp - q + 2*vp**2 - 2*vp))/12,\n",
    "   0]],\n",
    " [27,\n",
    "  [0,\n",
    "   -(ppc)*r**2*t*vp*(2*q**2 - 2*q + 1)*(p_pair**2*vp - p_pair + vp - 1)/16,\n",
    "   -r**2*t*((pmp)*qp*(qp - 1) + (ppc)*(2*p_pair**2*q**2*vp**2 - 2*p_pair**2*q*vp**2 + p_pair**2*vp**2 - 2*p_pair*q**2*vp + 2*p_pair*q*vp - p_pair*vp + 6*q**2*vp**2 - 6*q**2*vp + q**2 - 6*q*vp**2 + 6*q*vp - q + 2*vp**2 - 2*vp))/12,\n",
    "   0]],\n",
    " [28,\n",
    "  [0,\n",
    "   (ppc)*r*t*vp*(r - 1)*(2*q**2 - 2*q + 1)*(p_pair**2*vp - p_pair + vp - 1)/8,\n",
    "   r*t*(r - 1)*((pmp)*qp*(qp - 1) + (ppc)*(2*p_pair**2*q**2*vp**2 - 2*p_pair**2*q*vp**2 + p_pair**2*vp**2 - 2*p_pair*q**2*vp + 2*p_pair*q*vp - p_pair*vp + 6*q**2*vp**2 - 6*q**2*vp + q**2 - 6*q*vp**2 + 6*q*vp - q + 2*vp**2 - 2*vp))/6,\n",
    "   0]],\n",
    " [29, [0, 0, 0, 0]],\n",
    " [30,\n",
    "  [0,\n",
    "   -(ppc)*q*r*t*vp*(q - 1)*(r - 1)*(p_pair**2*vp - p_pair + vp - 1)/4,\n",
    "   t*((pdm)*rp*(rp - 1)**2 - (pmp)*r*(r - 1)*(2*qp**2 - 2*qp + 1) - (ppc)*r*(r - 1)*(4*p_pair**2*q**2*vp**2 - 4*p_pair**2*q*vp**2 - 4*p_pair*q**2*vp + 4*p_pair*q*vp + 12*q**2*vp**2 - 12*q**2*vp + 2*q**2 - 12*q*vp**2 + 12*q*vp - 2*q + 2*vp**2 - 2*vp + 1))/12,\n",
    "   0]],\n",
    " [31, [0, 0, (pdm)*rp**2*t*(-rp + 1)/12, 0]],\n",
    " [32,\n",
    "  [0,\n",
    "   (ppc)*q*t*vp*(q - 1)*(r - 1)**2*(p_pair**2*vp - p_pair + vp - 1)/8,\n",
    "   (pdm)*t*(rp - 1)**3*(3*rp - 4)/24 + (pmp)*t*(r - 1)*(2*qp**2*r - 2*qp**2 - 2*qp*r + 2*qp + 3*r - 4)/24 + (ppc)*t*(r - 1)*(4*p_pair**2*q**2*r*vp**2 - 4*p_pair**2*q**2*vp**2 - 4*p_pair**2*q*r*vp**2 + 4*p_pair**2*q*vp**2 - 4*p_pair*q**2*r*vp + 4*p_pair*q**2*vp + 4*p_pair*q*r*vp - 4*p_pair*q*vp + 12*q**2*r*vp**2 - 12*q**2*r*vp + 2*q**2*r - 12*q**2*vp**2 + 12*q**2*vp - 2*q**2 - 12*q*r*vp**2 + 12*q*r*vp - 2*q*r + 12*q*vp**2 - 12*q*vp + 2*q + 2*r*vp**2 - 2*r*vp + 3*r - 2*vp**2 + 2*vp - 4)/24 + (r - 1)**2*(-(pdm)*t - (pmp)*t - (ppc)*t + 1)/6,\n",
    "   0]],\n",
    " [33,\n",
    "  [0,\n",
    "   0,\n",
    "   -(pdm)*rp*t*(rp - 2)*(rp - 1)**2/4 - (pmp)*r*t*(r - 1)/6 - (ppc)*r*t*(r - 1)/6 + r*(r - 1)*((pdm)*t + (pmp)*t + (ppc)*t - 1)/3,\n",
    "   0]],\n",
    " [34,\n",
    "  [0,\n",
    "   (ppc)*q*r**2*t*vp*(q - 1)*(p_pair**2*vp - p_pair + vp - 1)/8,\n",
    "   t*((pdm)*rp*(3*rp**3 - rp**2 - rp + 1) + (pmp)*r*(2*qp**2*r - 2*qp*r + r + 1) + (ppc)*r*(4*p_pair**2*q**2*r*vp**2 - 4*p_pair**2*q*r*vp**2 - 4*p_pair*q**2*r*vp + 4*p_pair*q*r*vp + 12*q**2*r*vp**2 - 12*q**2*r*vp + 2*q**2*r - 12*q*r*vp**2 + 12*q*r*vp - 2*q*r + 2*r*vp**2 - 2*r*vp + r + 1))/24,\n",
    "   0]],\n",
    " [35, [0, 0, (pdm)*rp**2*t*(-rp**2 + 1)/4, 0]],\n",
    " [36,\n",
    "  [0,\n",
    "   0,\n",
    "   (pdm)*rp**2*t*(3*rp**2 - 5*rp + 3)/12 + (pmp)*r**2*t/12 + (ppc)*r**2*t/12 + r**2*(-(pdm)*t - (pmp)*t - (ppc)*t + 1)/6,\n",
    "   0]]]"
   ]
  },
  {
   "cell_type": "markdown",
   "metadata": {},
   "source": [
    "A/a locus"
   ]
  },
  {
   "cell_type": "code",
   "execution_count": 137,
   "metadata": {
    "collapsed": true
   },
   "outputs": [],
   "source": [
    "lst = []\n",
    "\n",
    "for i in modes:\n",
    "    if i[0][1] == i[1][1]:\n",
    "        lst.append(i)"
   ]
  },
  {
   "cell_type": "code",
   "execution_count": 138,
   "metadata": {},
   "outputs": [
    {
     "data": {
      "text/plain": [
       "[[[G, 'i_m', 'i_m'], [G, 'i_m', 'i_m']],\n",
       " [[G, 'i_m', 'j_m'], [G, 'i_m', 'j_m']],\n",
       " [[G, 'i_m', 'i_m'], [G, 'i_m', 'j_m']],\n",
       " [[G, 'i_m', 'j_m'], [G, 'i_m', 'k_m']],\n",
       " [[G, 'i_m', 'i_m'], [g, 'i_m', 'j_m']],\n",
       " [[g, 'i_m', 'i_m'], [G, 'i_m', 'i_m']],\n",
       " [[g, 'i_m', 'j_m'], [G, 'i_m', 'j_m']],\n",
       " [[g, 'i_m', 'i_m'], [G, 'i_m', 'j_m']],\n",
       " [[g, 'i_m', 'j_m'], [G, 'i_m', 'k_m']],\n",
       " [[g, 'i_m', 'i_m'], [g, 'i_m', 'i_m']],\n",
       " [[g, 'i_m', 'j_m'], [g, 'i_m', 'j_m']],\n",
       " [[g, 'i_m', 'i_m'], [g, 'i_m', 'j_m']],\n",
       " [[g, 'i_m', 'j_m'], [g, 'i_m', 'k_m']]]"
      ]
     },
     "execution_count": 138,
     "metadata": {},
     "output_type": "execute_result"
    }
   ],
   "source": [
    "lst"
   ]
  },
  {
   "cell_type": "markdown",
   "metadata": {},
   "source": [
    "Prob DR for GGGG genotype"
   ]
  },
  {
   "cell_type": "code",
   "execution_count": 139,
   "metadata": {
    "collapsed": true
   },
   "outputs": [],
   "source": [
    "prob_dr = 0\n",
    "\n",
    "for i in lst:\n",
    "    indx = modes.index(i)\n",
    "    prob_dr = prob_dr + prob[indx][1][0]"
   ]
  },
  {
   "cell_type": "code",
   "execution_count": 140,
   "metadata": {
    "scrolled": true
   },
   "outputs": [
    {
     "data": {
      "text/plain": [
       "-t*((pmp)*qp**2 - (pmp)*qp + 4*(ppc)*q**2*vp**2 - 4*(ppc)*q**2*vp + (ppc)*q**2 - 4*(ppc)*q*vp**2 + 4*(ppc)*q*vp - (ppc)*q + (ppc)*vp**2 - (ppc)*vp)/2"
      ]
     },
     "execution_count": 140,
     "metadata": {},
     "output_type": "execute_result"
    }
   ],
   "source": [
    "sp.factor(prob_dr)"
   ]
  },
  {
   "cell_type": "markdown",
   "metadata": {},
   "source": [
    "Prob DR for GGGg genotype"
   ]
  },
  {
   "cell_type": "code",
   "execution_count": 141,
   "metadata": {
    "collapsed": true
   },
   "outputs": [],
   "source": [
    "prob_dr = 0\n",
    "\n",
    "for i in lst:\n",
    "    indx = modes.index(i)\n",
    "    prob_dr = prob_dr + prob[indx][1][1]"
   ]
  },
  {
   "cell_type": "code",
   "execution_count": 142,
   "metadata": {},
   "outputs": [
    {
     "data": {
      "text/plain": [
       "-t*(4*(pmp)*qp**2 - 4*(pmp)*qp + 4*(ppc)*p_pair**2*q**2*vp**2 - 4*(ppc)*p_pair**2*q*vp**2 + (ppc)*p_pair**2*vp**2 - 4*(ppc)*p_pair*q**2*vp + 4*(ppc)*p_pair*q*vp - (ppc)*p_pair*vp + 12*(ppc)*q**2*vp**2 - 12*(ppc)*q**2*vp + 4*(ppc)*q**2 - 12*(ppc)*q*vp**2 + 12*(ppc)*q*vp - 4*(ppc)*q + 3*(ppc)*vp**2 - 3*(ppc)*vp)/8"
      ]
     },
     "execution_count": 142,
     "metadata": {},
     "output_type": "execute_result"
    }
   ],
   "source": [
    "sp.factor(prob_dr)"
   ]
  },
  {
   "cell_type": "markdown",
   "metadata": {},
   "source": [
    "Prob DR for GGgg genotype"
   ]
  },
  {
   "cell_type": "code",
   "execution_count": 143,
   "metadata": {
    "collapsed": true
   },
   "outputs": [],
   "source": [
    "prob_dr = 0\n",
    "\n",
    "for i in lst:\n",
    "    indx = modes.index(i)\n",
    "    prob_dr = prob_dr + prob[indx][1][2]"
   ]
  },
  {
   "cell_type": "code",
   "execution_count": 144,
   "metadata": {},
   "outputs": [
    {
     "data": {
      "text/plain": [
       "-t*(3*(pmp)*qp**2 - 3*(pmp)*qp + 4*(ppc)*p_pair**2*q**2*vp**2 - 4*(ppc)*p_pair**2*q*vp**2 + (ppc)*p_pair**2*vp**2 - 4*(ppc)*p_pair*q**2*vp + 4*(ppc)*p_pair*q*vp - (ppc)*p_pair*vp + 8*(ppc)*q**2*vp**2 - 8*(ppc)*q**2*vp + 3*(ppc)*q**2 - 8*(ppc)*q*vp**2 + 8*(ppc)*q*vp - 3*(ppc)*q + 2*(ppc)*vp**2 - 2*(ppc)*vp)/6"
      ]
     },
     "execution_count": 144,
     "metadata": {},
     "output_type": "execute_result"
    }
   ],
   "source": [
    "sp.factor(prob_dr)"
   ]
  },
  {
   "cell_type": "markdown",
   "metadata": {},
   "source": [
    "Prob DR for GGGG/g genotype"
   ]
  },
  {
   "cell_type": "code",
   "execution_count": 145,
   "metadata": {
    "collapsed": true
   },
   "outputs": [],
   "source": [
    "prob_dr = 0\n",
    "\n",
    "for i in lst:\n",
    "    indx = modes.index(i)\n",
    "    prob_dr = prob_dr + prob[indx][1][3]"
   ]
  },
  {
   "cell_type": "code",
   "execution_count": 146,
   "metadata": {},
   "outputs": [
    {
     "data": {
      "text/plain": [
       "-t*(4*(pmp)*qp**2 - 4*(pmp)*qp + 4*(ppc)*p_pair**2*q**2*vp**2 - 4*(ppc)*p_pair**2*q*vp**2 + (ppc)*p_pair**2*vp**2 - 4*(ppc)*p_pair*q**2*vp + 4*(ppc)*p_pair*q*vp - (ppc)*p_pair*vp + 12*(ppc)*q**2*vp**2 - 12*(ppc)*q**2*vp + 4*(ppc)*q**2 - 12*(ppc)*q*vp**2 + 12*(ppc)*q*vp - 4*(ppc)*q + 3*(ppc)*vp**2 - 3*(ppc)*vp)/8"
      ]
     },
     "execution_count": 146,
     "metadata": {},
     "output_type": "execute_result"
    }
   ],
   "source": [
    "sp.factor(prob_dr)"
   ]
  },
  {
   "cell_type": "markdown",
   "metadata": {},
   "source": [
    "Preferential Pairing: Middle"
   ]
  },
  {
   "cell_type": "code",
   "execution_count": 153,
   "metadata": {
    "collapsed": true
   },
   "outputs": [],
   "source": [
    "modes = [[['i_m', G, 'i_m'], ['i_m', G, 'i_m']],\n",
    " [['i_m', G, 'j_m'], ['i_m', G, 'j_m']],\n",
    " [['i_m', G, 'i_m'], ['i_m', G, 'j_m']],\n",
    " [['i_m', G, 'j_m'], ['i_m', G, 'k_m']],\n",
    " [['i_m', G, 'i_m'], ['j_m', G, 'i_m']],\n",
    " [['i_m', G, 'j_m'], ['k_m', G, 'j_m']],\n",
    " [['i_m', G, 'i_m'], ['j_m', G, 'j_m']],\n",
    " [['i_m', G, 'i_m'], ['j_m', G, 'k_m']],\n",
    " [['i_m', G, 'j_m'], ['j_m', G, 'i_m']],\n",
    " [['i_m', G, 'j_m'], ['j_m', G, 'k_m']],\n",
    " [['i_m', G, 'j_m'], ['k_m', G, 'l_m']],\n",
    " [['i_m', G, 'i_m'], ['i_m', g, 'j_m']],\n",
    " [['i_m', G, 'i_m'], ['j_m', g, 'i_m']],\n",
    " [['i_m', G, 'i_m'], ['j_m', g, 'k_m']],\n",
    " [['i_m', G, 'j_m'], ['j_m', g, 'k_m']],\n",
    " [['i_m', g, 'i_m'], ['i_m', G, 'i_m']],\n",
    " [['i_m', g, 'j_m'], ['i_m', G, 'j_m']],\n",
    " [['i_m', g, 'i_m'], ['i_m', G, 'j_m']],\n",
    " [['i_m', g, 'j_m'], ['i_m', G, 'k_m']],\n",
    " [['i_m', g, 'i_m'], ['j_m', G, 'i_m']],\n",
    " [['i_m', g, 'j_m'], ['k_m', G, 'j_m']],\n",
    " [['i_m', g, 'i_m'], ['j_m', G, 'j_m']],\n",
    " [['i_m', g, 'i_m'], ['j_m', G, 'k_m']],\n",
    " [['i_m', g, 'j_m'], ['j_m', G, 'i_m']],\n",
    " [['i_m', g, 'j_m'], ['j_m', G, 'k_m']],\n",
    " [['i_m', g, 'j_m'], ['k_m', G, 'l_m']],\n",
    " [['i_m', g, 'i_m'], ['i_m', g, 'i_m']],\n",
    " [['i_m', g, 'j_m'], ['i_m', g, 'j_m']],\n",
    " [['i_m', g, 'i_m'], ['i_m', g, 'j_m']],\n",
    " [['i_m', g, 'j_m'], ['i_m', g, 'k_m']],\n",
    " [['i_m', g, 'i_m'], ['j_m', g, 'i_m']],\n",
    " [['i_m', g, 'j_m'], ['k_m', g, 'j_m']],\n",
    " [['i_m', g, 'i_m'], ['j_m', g, 'j_m']],\n",
    " [['i_m', g, 'i_m'], ['j_m', g, 'k_m']],\n",
    " [['i_m', g, 'j_m'], ['j_m', g, 'i_m']],\n",
    " [['i_m', g, 'j_m'], ['j_m', g, 'k_m']],\n",
    " [['i_m', g, 'j_m'], ['k_m', g, 'l_m']]]"
   ]
  },
  {
   "cell_type": "code",
   "execution_count": 154,
   "metadata": {
    "collapsed": true
   },
   "outputs": [],
   "source": [
    "prob = [[0,\n",
    "  [-(ppc)*t*vp*(vp - 1)*(2*q*r - q - r + 1)**2/2,\n",
    "   (ppc)*t*vp*(-2*p_pair**4*q**2*r**2*vp + 2*p_pair**4*q**2*r*vp - p_pair**4*q**2*vp + 2*p_pair**3*q**2*r**2 - 2*p_pair**3*q**2*r + p_pair**3*q**2 + 2*p_pair**3*q*r**2*vp - 4*p_pair**3*q*r*vp + 2*p_pair**3*q*vp - 2*p_pair**2*q*r**2 + 4*p_pair**2*q*r - 2*p_pair**2*q - p_pair**2*r**2*vp + 2*p_pair**2*r*vp - p_pair**2*vp + p_pair*r**2 - 2*p_pair*r + p_pair - 18*q**2*r**2*vp + 18*q**2*r**2 + 18*q**2*r*vp - 18*q**2*r - 5*q**2*vp + 5*q**2 + 18*q*r**2*vp - 18*q*r**2 - 28*q*r*vp + 28*q*r + 10*q*vp - 10*q - 5*r**2*vp + 5*r**2 + 10*r*vp - 10*r - 5*vp + 5)/16,\n",
    "   (ppc)*t*vp*(-2*p_pair**4*q**2*r**2*vp + 2*p_pair**4*q**2*r*vp - p_pair**4*q**2*vp + 2*p_pair**3*q**2*r**2 - 2*p_pair**3*q**2*r + p_pair**3*q**2 + 2*p_pair**3*q*r**2*vp - 4*p_pair**3*q*r*vp + 2*p_pair**3*q*vp - 2*p_pair**2*q*r**2 + 4*p_pair**2*q*r - 2*p_pair**2*q - p_pair**2*r**2*vp + 2*p_pair**2*r*vp - p_pair**2*vp + p_pair*r**2 - 2*p_pair*r + p_pair - 6*q**2*r**2*vp + 6*q**2*r**2 + 6*q**2*r*vp - 6*q**2*r - 2*q**2*vp + 2*q**2 + 6*q*r**2*vp - 6*q*r**2 - 10*q*r*vp + 10*q*r + 4*q*vp - 4*q - 2*r**2*vp + 2*r**2 + 4*r*vp - 4*r - 2*vp + 2)/12,\n",
    "   (ppc)*t*vp*(-4*p_pair**4*q**2*r**2*vp + 4*p_pair**4*q**2*r*vp - p_pair**4*q**2*vp + 4*p_pair**3*q**2*r**2 - 4*p_pair**3*q**2*r + p_pair**3*q**2 + 4*p_pair**3*q*r**2*vp - 6*p_pair**3*q*r*vp + 2*p_pair**3*q*vp - 4*p_pair**2*q*r**2 + 6*p_pair**2*q*r - 2*p_pair**2*q - p_pair**2*r**2*vp + 2*p_pair**2*r*vp - p_pair**2*vp + p_pair*r**2 - 2*p_pair*r + p_pair - 20*q**2*r**2*vp + 20*q**2*r**2 + 20*q**2*r*vp - 20*q**2*r - 5*q**2*vp + 5*q**2 + 20*q*r**2*vp - 20*q*r**2 - 30*q*r*vp + 30*q*r + 10*q*vp - 10*q - 5*r**2*vp + 5*r**2 + 10*r*vp - 10*r - 5*vp + 5)/16]],\n",
    " [1,\n",
    "  [-(ppc)*t*vp*(vp - 1)*(-2*q*r + q + r)**2/2,\n",
    "   (ppc)*t*vp*(-2*p_pair**4*q**2*r**2*vp + 2*p_pair**4*q**2*r*vp - p_pair**4*q**2*vp + 2*p_pair**3*q**2*r**2 - 2*p_pair**3*q**2*r + p_pair**3*q**2 + 2*p_pair**3*q*r**2*vp - 2*p_pair**2*q*r**2 - p_pair**2*r**2*vp + p_pair*r**2 - 18*q**2*r**2*vp + 18*q**2*r**2 + 18*q**2*r*vp - 18*q**2*r - 5*q**2*vp + 5*q**2 + 18*q*r**2*vp - 18*q*r**2 - 8*q*r*vp + 8*q*r - 5*r**2*vp + 5*r**2)/16,\n",
    "   (ppc)*t*vp*(-2*p_pair**4*q**2*r**2*vp + 2*p_pair**4*q**2*r*vp - p_pair**4*q**2*vp + 2*p_pair**3*q**2*r**2 - 2*p_pair**3*q**2*r + p_pair**3*q**2 + 2*p_pair**3*q*r**2*vp - 2*p_pair**2*q*r**2 - p_pair**2*r**2*vp + p_pair*r**2 - 6*q**2*r**2*vp + 6*q**2*r**2 + 6*q**2*r*vp - 6*q**2*r - 2*q**2*vp + 2*q**2 + 6*q*r**2*vp - 6*q*r**2 - 2*q*r*vp + 2*q*r - 2*r**2*vp + 2*r**2)/12,\n",
    "   (ppc)*t*vp*(-4*p_pair**4*q**2*r**2*vp + 4*p_pair**4*q**2*r*vp - p_pair**4*q**2*vp + 4*p_pair**3*q**2*r**2 - 4*p_pair**3*q**2*r + p_pair**3*q**2 + 4*p_pair**3*q*r**2*vp - 2*p_pair**3*q*r*vp - 4*p_pair**2*q*r**2 + 2*p_pair**2*q*r - p_pair**2*r**2*vp + p_pair*r**2 - 20*q**2*r**2*vp + 20*q**2*r**2 + 20*q**2*r*vp - 20*q**2*r - 5*q**2*vp + 5*q**2 + 20*q*r**2*vp - 20*q*r**2 - 10*q*r*vp + 10*q*r - 5*r**2*vp + 5*r**2)/16]],\n",
    " [2,\n",
    "  [-(ppc)*t*vp*(vp - 1)*(-2*q*r + q + r)*(2*q*r - q - r + 1),\n",
    "   (ppc)*t*vp*(2*p_pair**4*q**2*r**2*vp - 2*p_pair**4*q**2*r*vp - 2*p_pair**3*q**2*r**2 + 2*p_pair**3*q**2*r - 2*p_pair**3*q*r**2*vp + 2*p_pair**3*q*r*vp + 2*p_pair**2*q*r**2 - 2*p_pair**2*q*r + p_pair**2*r**2*vp - p_pair**2*r*vp - p_pair*r**2 + p_pair*r + 18*q**2*r**2*vp - 18*q**2*r**2 - 18*q**2*r*vp + 18*q**2*r + 4*q**2*vp - 4*q**2 - 18*q*r**2*vp + 18*q*r**2 + 18*q*r*vp - 18*q*r - 4*q*vp + 4*q + 5*r**2*vp - 5*r**2 - 5*r*vp + 5*r)/8,\n",
    "   (ppc)*t*vp*(2*p_pair**4*q**2*r**2*vp - 2*p_pair**4*q**2*r*vp - 2*p_pair**3*q**2*r**2 + 2*p_pair**3*q**2*r - 2*p_pair**3*q*r**2*vp + 2*p_pair**3*q*r*vp + 2*p_pair**2*q*r**2 - 2*p_pair**2*q*r + p_pair**2*r**2*vp - p_pair**2*r*vp - p_pair*r**2 + p_pair*r + 6*q**2*r**2*vp - 6*q**2*r**2 - 6*q**2*r*vp + 6*q**2*r + q**2*vp - q**2 - 6*q*r**2*vp + 6*q*r**2 + 6*q*r*vp - 6*q*r - q*vp + q + 2*r**2*vp - 2*r**2 - 2*r*vp + 2*r)/6,\n",
    "   (ppc)*t*vp*(4*p_pair**4*q**2*r**2*vp - 4*p_pair**4*q**2*r*vp + p_pair**4*q**2*vp - 4*p_pair**3*q**2*r**2 + 4*p_pair**3*q**2*r - p_pair**3*q**2 - 4*p_pair**3*q*r**2*vp + 4*p_pair**3*q*r*vp - p_pair**3*q*vp + 4*p_pair**2*q*r**2 - 4*p_pair**2*q*r + p_pair**2*q + p_pair**2*r**2*vp - p_pair**2*r*vp - p_pair*r**2 + p_pair*r + 20*q**2*r**2*vp - 20*q**2*r**2 - 20*q**2*r*vp + 20*q**2*r + 5*q**2*vp - 5*q**2 - 20*q*r**2*vp + 20*q*r**2 + 20*q*r*vp - 20*q*r - 5*q*vp + 5*q + 5*r**2*vp - 5*r**2 - 5*r*vp + 5*r)/8]],\n",
    " [3, [0, 0, 0, 0]],\n",
    " [4,\n",
    "  [t*(-(pdm)*rp*(rp - 1)*(2*q*rp - q - rp + 1) - (pmp)*(qp - 1)*(-2*qp*r + qp + r)*(2*qp*r - qp - r + 1) + (ppc)*(2*vp**2 - 2*vp + 1)*(-2*q*r + q + r)*(2*q*r - q - r + 1))/2,\n",
    "   t*(-(pdm)*rp*(rp - 1)*(2*p_pair*q*rp - p_pair*q + 6*q*rp - 3*q - 4*rp + 4) + (pmp)*(qp - 1)*(2*p_pair**2*qp**2*r**2 - 2*p_pair**2*qp**2*r + p_pair**2*qp**2 - 2*p_pair*qp*r**2 + 2*p_pair*qp*r - p_pair*qp + 18*qp**2*r**2 - 18*qp**2*r + 5*qp**2 - 18*qp*r**2 + 18*qp*r - 5*qp + 4*r**2 - 4*r) - (ppc)*(4*p_pair**4*q**2*r**2*vp**2 - 4*p_pair**4*q**2*r*vp**2 + 2*p_pair**4*q**2*vp**2 - 4*p_pair**3*q**2*r**2*vp + 4*p_pair**3*q**2*r*vp - 2*p_pair**3*q**2*vp - 4*p_pair**3*q*r**2*vp**2 + 4*p_pair**3*q*r*vp**2 - 2*p_pair**3*q*vp**2 + 2*p_pair**2*q**2*r**2 - 2*p_pair**2*q**2*r + p_pair**2*q**2 + 4*p_pair**2*q*r**2*vp - 4*p_pair**2*q*r*vp + 2*p_pair**2*q*vp - 2*p_pair*q*r**2 + 2*p_pair*q*r - p_pair*q + 36*q**2*r**2*vp**2 - 36*q**2*r**2*vp + 18*q**2*r**2 - 36*q**2*r*vp**2 + 36*q**2*r*vp - 18*q**2*r + 10*q**2*vp**2 - 10*q**2*vp + 5*q**2 - 36*q*r**2*vp**2 + 36*q*r**2*vp - 18*q*r**2 + 36*q*r*vp**2 - 36*q*r*vp + 18*q*r - 10*q*vp**2 + 10*q*vp - 5*q + 8*r**2*vp**2 - 8*r**2*vp + 4*r**2 - 8*r*vp**2 + 8*r*vp - 4*r))/16,\n",
    "   t*(-(pdm)*rp*(rp - 1)*(2*p_pair*q*rp - p_pair*q + 2*q*rp - q - 2*rp + 2) + 2*(pmp)*(qp - 1)*(2*p_pair**2*qp**2*r**2 - 2*p_pair**2*qp**2*r + p_pair**2*qp**2 - 2*p_pair*qp*r**2 + 2*p_pair*qp*r - p_pair*qp + 6*qp**2*r**2 - 6*qp**2*r + 2*qp**2 - 6*qp*r**2 + 6*qp*r - 2*qp + r**2 - r) - 2*(ppc)*(4*p_pair**4*q**2*r**2*vp**2 - 4*p_pair**4*q**2*r*vp**2 + 2*p_pair**4*q**2*vp**2 - 4*p_pair**3*q**2*r**2*vp + 4*p_pair**3*q**2*r*vp - 2*p_pair**3*q**2*vp - 4*p_pair**3*q*r**2*vp**2 + 4*p_pair**3*q*r*vp**2 - 2*p_pair**3*q*vp**2 + 2*p_pair**2*q**2*r**2 - 2*p_pair**2*q**2*r + p_pair**2*q**2 + 4*p_pair**2*q*r**2*vp - 4*p_pair**2*q*r*vp + 2*p_pair**2*q*vp - 2*p_pair*q*r**2 + 2*p_pair*q*r - p_pair*q + 12*q**2*r**2*vp**2 - 12*q**2*r**2*vp + 6*q**2*r**2 - 12*q**2*r*vp**2 + 12*q**2*r*vp - 6*q**2*r + 4*q**2*vp**2 - 4*q**2*vp + 2*q**2 - 12*q*r**2*vp**2 + 12*q*r**2*vp - 6*q*r**2 + 12*q*r*vp**2 - 12*q*r*vp + 6*q*r - 4*q*vp**2 + 4*q*vp - 2*q + 2*r**2*vp**2 - 2*r**2*vp + r**2 - 2*r*vp**2 + 2*r*vp - r))/24,\n",
    "   t*(-3*(pdm)*rp*(rp - 1)*(2*p_pair*q*rp - p_pair*q + 6*q*rp - 3*q - 4*rp + 4) + 2*(pmp)*(qp - 1)*(4*p_pair**2*qp**2*r**2 - 4*p_pair**2*qp**2*r + p_pair**2*qp**2 - 4*p_pair*qp*r**2 + 4*p_pair*qp*r - p_pair*qp + 20*qp**2*r**2 - 20*qp**2*r + 5*qp**2 - 20*qp*r**2 + 20*qp*r - 5*qp + 6*r**2 - 6*r) - 2*(ppc)*(8*p_pair**4*q**2*r**2*vp**2 - 8*p_pair**4*q**2*r*vp**2 + 2*p_pair**4*q**2*vp**2 - 8*p_pair**3*q**2*r**2*vp + 8*p_pair**3*q**2*r*vp - 2*p_pair**3*q**2*vp - 8*p_pair**3*q*r**2*vp**2 + 8*p_pair**3*q*r*vp**2 - 2*p_pair**3*q*vp**2 + 4*p_pair**2*q**2*r**2 - 4*p_pair**2*q**2*r + p_pair**2*q**2 + 8*p_pair**2*q*r**2*vp - 8*p_pair**2*q*r*vp + 2*p_pair**2*q*vp + 2*p_pair**2*r**2*vp**2 - 2*p_pair**2*r*vp**2 - 4*p_pair*q*r**2 + 4*p_pair*q*r - p_pair*q - 2*p_pair*r**2*vp + 2*p_pair*r*vp + 40*q**2*r**2*vp**2 - 40*q**2*r**2*vp + 20*q**2*r**2 - 40*q**2*r*vp**2 + 40*q**2*r*vp - 20*q**2*r + 10*q**2*vp**2 - 10*q**2*vp + 5*q**2 - 40*q*r**2*vp**2 + 40*q*r**2*vp - 20*q*r**2 + 40*q*r*vp**2 - 40*q*r*vp + 20*q*r - 10*q*vp**2 + 10*q*vp - 5*q + 10*r**2*vp**2 - 10*r**2*vp + 6*r**2 - 10*r*vp**2 + 10*r*vp - 6*r))/32]],\n",
    " [5,\n",
    "  [t*(-(pdm)*rp*(rp - 1)*(-2*q*rp + q + rp) + (pmp)*qp*(-2*qp*r + qp + r)*(2*qp*r - qp - r + 1))/2,\n",
    "   -t*((pdm)*rp*(rp - 1)*(-2*p_pair*q*rp + p_pair*q - 6*q*rp + 3*q + 4*rp) + (pmp)*qp*(2*p_pair**2*qp**2*r**2 - 2*p_pair**2*qp**2*r + p_pair**2*qp**2 - 2*p_pair*qp*r**2 + 2*p_pair*qp*r - p_pair*qp + 18*qp**2*r**2 - 18*qp**2*r + 5*qp**2 - 18*qp*r**2 + 18*qp*r - 5*qp + 4*r**2 - 4*r))/16,\n",
    "   -t*((pdm)*rp*(rp - 1)*(-2*p_pair*q*rp + p_pair*q - 2*q*rp + q + 2*rp) + 2*(pmp)*qp*(2*p_pair**2*qp**2*r**2 - 2*p_pair**2*qp**2*r + p_pair**2*qp**2 - 2*p_pair*qp*r**2 + 2*p_pair*qp*r - p_pair*qp + 6*qp**2*r**2 - 6*qp**2*r + 2*qp**2 - 6*qp*r**2 + 6*qp*r - 2*qp + r**2 - r))/24,\n",
    "   -t*(3*(pdm)*rp*(rp - 1)*(-2*p_pair*q*rp + p_pair*q - 6*q*rp + 3*q + 4*rp) + 2*(pmp)*qp*(4*p_pair**2*qp**2*r**2 - 4*p_pair**2*qp**2*r + p_pair**2*qp**2 - 4*p_pair*qp*r**2 + 4*p_pair*qp*r - p_pair*qp + 20*qp**2*r**2 - 20*qp**2*r + 5*qp**2 - 20*qp*r**2 + 20*qp*r - 5*qp + 6*r**2 - 6*r))/32]],\n",
    " [6,\n",
    "  [(pdm)*t*(rp - 1)*(3*rp - 4)*(2*q*rp - q - rp + 1)**2/4 + (pmp)*t*(qp - 1)**2*(2*qp*r - qp - r + 1)*(6*qp*r - 3*qp - 3*r + 4)/4 + (ppc)*t*(2*q*r - q - r + 1)*(4*q*r*vp**2 - 4*q*r*vp + 6*q*r - 2*q*vp**2 + 2*q*vp - 3*q - 2*r*vp**2 + 2*r*vp - 3*r + 2*vp**2 - 2*vp + 4)/4 + (-(pdm)*t - (pmp)*t - (ppc)*t + 1)*(2*q*r - q - r + 1)**2,\n",
    "   (pdm)*t*(rp - 1)*(3*rp - 4)*(2*q*rp - q - rp + 1)*(2*p_pair*q*rp - p_pair*q + 2*q*rp - q - 2*rp + 2)/16 + (pmp)*t*(qp - 1)**2*(p_pair**2*qp**2*r**2 - p_pair**2*qp**2*r + 8*p_pair*qp**2*r**2 - 8*p_pair*qp**2*r + 2*p_pair*qp**2 - 5*p_pair*qp*r**2 + 7*p_pair*qp*r - 2*p_pair*qp + 17*qp**2*r**2 - 17*qp**2*r + 4*qp**2 - 21*qp*r**2 + 35*qp*r - 12*qp + 6*r**2 - 14*r + 8)/16 + (ppc)*t*(2*p_pair**4*q**2*r**2*vp**2 - 2*p_pair**4*q**2*r*vp**2 - 2*p_pair**3*q**2*r**2*vp + 2*p_pair**3*q**2*r*vp - 2*p_pair**3*q*r**2*vp**2 + 2*p_pair**3*q*r*vp**2 + p_pair**2*q**2*r**2 - p_pair**2*q**2*r + 2*p_pair**2*q*r**2*vp - 2*p_pair**2*q*r*vp + 8*p_pair*q**2*r**2 - 8*p_pair*q**2*r + 2*p_pair*q**2 - 5*p_pair*q*r**2 + 7*p_pair*q*r - 2*p_pair*q + 18*q**2*r**2*vp**2 - 18*q**2*r**2*vp + 17*q**2*r**2 - 18*q**2*r*vp**2 + 18*q**2*r*vp - 17*q**2*r + 4*q**2*vp**2 - 4*q**2*vp + 4*q**2 - 18*q*r**2*vp**2 + 18*q*r**2*vp - 21*q*r**2 + 26*q*r*vp**2 - 26*q*r*vp + 35*q*r - 8*q*vp**2 + 8*q*vp - 12*q + 4*r**2*vp**2 - 4*r**2*vp + 6*r**2 - 8*r*vp**2 + 8*r*vp - 14*r + 4*vp**2 - 4*vp + 8)/16 - ((pdm)*t + (pmp)*t + (ppc)*t - 1)*(2*q*r - q - r + 1)*(4*p_pair*q*r - 2*p_pair*q + 2*q*r - q - 3*r + 3)/6,\n",
    "   (pdm)*t*(rp - 1)*(3*rp - 4)*(2*q*rp - q - rp + 1)*(2*p_pair*q*rp - p_pair*q - rp + 1)/24 + (pmp)*t*(qp - 1)**2*(2*p_pair**2*qp**2*r**2 - 2*p_pair**2*qp**2*r + 8*p_pair*qp**2*r**2 - 8*p_pair*qp**2*r + 2*p_pair*qp**2 - 6*p_pair*qp*r**2 + 8*p_pair*qp*r - 2*p_pair*qp + 6*qp**2*r**2 - 6*qp**2*r + qp**2 - 10*qp*r**2 + 16*qp*r - 5*qp + 3*r**2 - 7*r + 4)/24 + (ppc)*t*(4*p_pair**4*q**2*r**2*vp**2 - 4*p_pair**4*q**2*r*vp**2 - 4*p_pair**3*q**2*r**2*vp + 4*p_pair**3*q**2*r*vp - 4*p_pair**3*q*r**2*vp**2 + 4*p_pair**3*q*r*vp**2 + 2*p_pair**2*q**2*r**2 - 2*p_pair**2*q**2*r + 4*p_pair**2*q*r**2*vp - 4*p_pair**2*q*r*vp + 8*p_pair*q**2*r**2 - 8*p_pair*q**2*r + 2*p_pair*q**2 - 6*p_pair*q*r**2 + 8*p_pair*q*r - 2*p_pair*q + 12*q**2*r**2*vp**2 - 12*q**2*r**2*vp + 6*q**2*r**2 - 12*q**2*r*vp**2 + 12*q**2*r*vp - 6*q**2*r + 2*q**2*vp**2 - 2*q**2*vp + q**2 - 12*q*r**2*vp**2 + 12*q*r**2*vp - 10*q*r**2 + 16*q*r*vp**2 - 16*q*r*vp + 16*q*r - 4*q*vp**2 + 4*q*vp - 5*q + 2*r**2*vp**2 - 2*r**2*vp + 3*r**2 - 4*r*vp**2 + 4*r*vp - 7*r + 2*vp**2 - 2*vp + 4)/24 - ((pdm)*t + (pmp)*t + (ppc)*t - 1)*(2*q*r - q - r + 1)*(2*p_pair*q*r - p_pair*q - r + 1)/6,\n",
    "   3*(pdm)*t*(rp - 1)*(3*rp - 4)*(2*q*rp - q - rp + 1)*(2*p_pair*q*rp - p_pair*q + 2*q*rp - q - 2*rp + 2)/32 + (pmp)*t*(qp - 1)**2*(4*p_pair**2*qp**2*r**2 - 4*p_pair**2*qp**2*r + p_pair**2*qp**2 + 24*p_pair*qp**2*r**2 - 24*p_pair*qp**2*r + 6*p_pair*qp**2 - 16*p_pair*qp*r**2 + 26*p_pair*qp*r - 9*p_pair*qp + 44*qp**2*r**2 - 44*qp**2*r + 11*qp**2 - 56*qp*r**2 + 94*qp*r - 33*qp + 18*r**2 - 42*r + 24)/32 + (ppc)*t*(8*p_pair**4*q**2*r**2*vp**2 - 8*p_pair**4*q**2*r*vp**2 + 2*p_pair**4*q**2*vp**2 - 8*p_pair**3*q**2*r**2*vp + 8*p_pair**3*q**2*r*vp - 2*p_pair**3*q**2*vp - 8*p_pair**3*q*r**2*vp**2 + 12*p_pair**3*q*r*vp**2 - 4*p_pair**3*q*vp**2 + 4*p_pair**2*q**2*r**2 - 4*p_pair**2*q**2*r + p_pair**2*q**2 + 8*p_pair**2*q*r**2*vp - 12*p_pair**2*q*r*vp + 4*p_pair**2*q*vp + 2*p_pair**2*r**2*vp**2 - 4*p_pair**2*r*vp**2 + 2*p_pair**2*vp**2 + 24*p_pair*q**2*r**2 - 24*p_pair*q**2*r + 6*p_pair*q**2 - 16*p_pair*q*r**2 + 26*p_pair*q*r - 9*p_pair*q - 2*p_pair*r**2*vp + 4*p_pair*r*vp - 2*p_pair*vp + 40*q**2*r**2*vp**2 - 40*q**2*r**2*vp + 44*q**2*r**2 - 40*q**2*r*vp**2 + 40*q**2*r*vp - 44*q**2*r + 10*q**2*vp**2 - 10*q**2*vp + 11*q**2 - 40*q*r**2*vp**2 + 40*q*r**2*vp - 56*q*r**2 + 60*q*r*vp**2 - 60*q*r*vp + 94*q*r - 20*q*vp**2 + 20*q*vp - 33*q + 10*r**2*vp**2 - 10*r**2*vp + 18*r**2 - 20*r*vp**2 + 20*r*vp - 42*r + 10*vp**2 - 10*vp + 24)/32 - ((pdm)*t + (pmp)*t + (ppc)*t - 1)*(2*q*r - q - r + 1)*(4*p_pair*q*r - 2*p_pair*q + 2*q*r - q - 3*r + 3)/4]],\n",
    " [7,\n",
    "  [-(pdm)*t*(rp - 1)*(2*q*rp - q - rp + 1)*(6*q*rp**2 - 11*q*rp + 4*q - 3*rp**2 + 6*rp)/2 - (pmp)*t*(qp - 1)*(2*qp*r - qp - r + 1)*(6*qp**2*r - 3*qp**2 - 7*qp*r + 6*qp + 2*r)/2 + (ppc)*t*(-2*q*r + q + r)*(2*q*r - q - r + 1) - 2*(-2*q*r + q + r)*((pdm)*t + (pmp)*t + (ppc)*t - 1)*(2*q*r - q - r + 1),\n",
    "   -(pdm)*t*(rp - 1)*(24*p_pair*q**2*rp**3 - 56*p_pair*q**2*rp**2 + 38*p_pair*q**2*rp - 8*p_pair*q**2 - 12*p_pair*q*rp**3 + 32*p_pair*q*rp**2 - 21*p_pair*q*rp + 4*p_pair*q + 24*q**2*rp**3 - 56*q**2*rp**2 + 38*q**2*rp - 8*q**2 - 36*q*rp**3 + 96*q*rp**2 - 63*q*rp + 12*q + 12*rp**3 - 36*rp**2 + 24*rp)/16 - (pmp)*t*(qp - 1)*(p_pair**2*qp**3*r**2 - p_pair**2*qp**3*r + 8*p_pair*qp**3*r**2 - 8*p_pair*qp**3*r + 2*p_pair*qp**3 - 13*p_pair*qp**2*r**2 + 15*p_pair*qp**2*r - 4*p_pair*qp**2 + 4*p_pair*qp*r**2 - 4*p_pair*qp*r + p_pair*qp + 17*qp**3*r**2 - 17*qp**3*r + 4*qp**3 - 29*qp**2*r**2 + 43*qp**2*r - 14*qp**2 + 18*qp*r**2 - 26*qp*r + 11*qp - 4*r**2 + 4*r)/8 - (ppc)*t*(8*p_pair*q**2*r**2 - 8*p_pair*q**2*r + 2*p_pair*q**2 - 4*p_pair*q*r**2 + 4*p_pair*q*r - p_pair*q + 8*q**2*r**2 - 8*q**2*r + 2*q**2 - 12*q*r**2 + 12*q*r - 3*q + 4*r**2 - 4*r)/8 + ((pdm)*t + (pmp)*t + (ppc)*t - 1)*(8*p_pair*q**2*r**2 - 8*p_pair*q**2*r + 2*p_pair*q**2 - 4*p_pair*q*r**2 + 4*p_pair*q*r - p_pair*q + 4*q**2*r**2 - 4*q**2*r + q**2 - 8*q*r**2 + 8*q*r - 2*q + 3*r**2 - 3*r)/3,\n",
    "   -(pdm)*t*(rp - 1)*(24*p_pair*q**2*rp**3 - 56*p_pair*q**2*rp**2 + 38*p_pair*q**2*rp - 8*p_pair*q**2 - 12*p_pair*q*rp**3 + 32*p_pair*q*rp**2 - 21*p_pair*q*rp + 4*p_pair*q - 12*q*rp**3 + 32*q*rp**2 - 21*q*rp + 4*q + 6*rp**3 - 18*rp**2 + 12*rp)/24 - (pmp)*t*(qp - 1)*(2*p_pair**2*qp**3*r**2 - 2*p_pair**2*qp**3*r + 8*p_pair*qp**3*r**2 - 8*p_pair*qp**3*r + 2*p_pair*qp**3 - 14*p_pair*qp**2*r**2 + 16*p_pair*qp**2*r - 4*p_pair*qp**2 + 4*p_pair*qp*r**2 - 4*p_pair*qp*r + p_pair*qp + 6*qp**3*r**2 - 6*qp**3*r + qp**3 - 10*qp**2*r**2 + 16*qp**2*r - 5*qp**2 + 7*qp*r**2 - 11*qp*r + 5*qp - 2*r**2 + 2*r)/12 + (ppc)*t*(-8*p_pair*q**2*r**2 + 8*p_pair*q**2*r - 2*p_pair*q**2 + 4*p_pair*q*r**2 - 4*p_pair*q*r + p_pair*q + 4*q*r**2 - 4*q*r + q - 2*r**2 + 2*r)/12 - ((pdm)*t + (pmp)*t + (ppc)*t - 1)*(-8*p_pair*q**2*r**2 + 8*p_pair*q**2*r - 2*p_pair*q**2 + 4*p_pair*q*r**2 - 4*p_pair*q*r + p_pair*q + 4*q*r**2 - 4*q*r + q - 2*r**2 + 2*r)/6,\n",
    "   -3*(pdm)*t*(rp - 1)*(24*p_pair*q**2*rp**3 - 56*p_pair*q**2*rp**2 + 38*p_pair*q**2*rp - 8*p_pair*q**2 - 12*p_pair*q*rp**3 + 32*p_pair*q*rp**2 - 21*p_pair*q*rp + 4*p_pair*q + 24*q**2*rp**3 - 56*q**2*rp**2 + 38*q**2*rp - 8*q**2 - 36*q*rp**3 + 96*q*rp**2 - 63*q*rp + 12*q + 12*rp**3 - 36*rp**2 + 24*rp)/32 - (pmp)*t*(qp - 1)*(4*p_pair**2*qp**3*r**2 - 4*p_pair**2*qp**3*r + p_pair**2*qp**3 + 24*p_pair*qp**3*r**2 - 24*p_pair*qp**3*r + 6*p_pair*qp**3 - 40*p_pair*qp**2*r**2 + 50*p_pair*qp**2*r - 15*p_pair*qp**2 + 12*p_pair*qp*r**2 - 12*p_pair*qp*r + 3*p_pair*qp + 44*qp**3*r**2 - 44*qp**3*r + 11*qp**3 - 80*qp**2*r**2 + 118*qp**2*r - 39*qp**2 + 54*qp*r**2 - 78*qp*r + 33*qp - 12*r**2 + 12*r)/16 - 3*(ppc)*t*(8*p_pair*q**2*r**2 - 8*p_pair*q**2*r + 2*p_pair*q**2 - 4*p_pair*q*r**2 + 4*p_pair*q*r - p_pair*q + 8*q**2*r**2 - 8*q**2*r + 2*q**2 - 12*q*r**2 + 12*q*r - 3*q + 4*r**2 - 4*r)/16 + ((pdm)*t + (pmp)*t + (ppc)*t - 1)*(8*p_pair*q**2*r**2 - 8*p_pair*q**2*r + 2*p_pair*q**2 - 4*p_pair*q*r**2 + 4*p_pair*q*r - p_pair*q + 4*q**2*r**2 - 4*q**2*r + q**2 - 8*q*r**2 + 8*q*r - 2*q + 3*r**2 - 3*r)/2]],\n",
    " [8,\n",
    "  [t*((pdm)*rp*(12*q**2*rp**3 - 8*q**2*rp**2 - q**2*rp + q**2 - 12*q*rp**3 + 6*q*rp**2 + 4*q*rp - 2*q + 3*rp**3 - rp**2 - rp + 1) - (pmp)*(-2*qp*r + qp + r)*(6*qp**3*r - 3*qp**3 - 7*qp**2*r + qp**2 + 4*qp*r + qp - r - 1) + (ppc)*(-2*q*r + q + r)*(-4*q*r*vp**2 + 4*q*r*vp - 2*q*r + 2*q*vp**2 - 2*q*vp + q + 2*r*vp**2 - 2*r*vp + r + 1))/4,\n",
    "   t*((pdm)*rp*(12*p_pair*q**2*rp**3 - 8*p_pair*q**2*rp**2 - p_pair*q**2*rp + p_pair*q**2 - 6*p_pair*q*rp**3 + 3*p_pair*q*rp**2 + 2*p_pair*q*rp - p_pair*q + 12*q**2*rp**3 - 8*q**2*rp**2 - q**2*rp + q**2 - 18*q*rp**3 + 9*q*rp**2 + 6*q*rp - 3*q + 6*rp**3 - 2*rp**2 - 2*rp + 2) + (pmp)*(p_pair**2*qp**4*r**2 - p_pair**2*qp**4*r - 2*p_pair**2*qp**3*r**2 + 2*p_pair**2*qp**3*r + p_pair**2*qp**2*r**2 - p_pair**2*qp**2*r + 8*p_pair*qp**4*r**2 - 8*p_pair*qp**4*r + 2*p_pair*qp**4 - 5*p_pair*qp**3*r**2 + 3*p_pair*qp**3*r + 2*p_pair*qp**2*r**2 - 2*p_pair*qp**2*r - p_pair*qp*r**2 + p_pair*qp*r + 17*qp**4*r**2 - 17*qp**4*r + 4*qp**4 - 39*qp**3*r**2 + 25*qp**3*r - 2*qp**3 + 33*qp**2*r**2 - 9*qp**2*r - 2*qp**2 - 13*qp*r**2 - 3*qp*r + 2*qp + 2*r**2 + 2*r) + (ppc)*(2*p_pair**4*q**2*r**2*vp**2 - 2*p_pair**4*q**2*r*vp**2 - 2*p_pair**3*q**2*r**2*vp + 2*p_pair**3*q**2*r*vp - 2*p_pair**3*q*r**2*vp**2 + 2*p_pair**3*q*r*vp**2 + p_pair**2*q**2*r**2 - p_pair**2*q**2*r + 2*p_pair**2*q*r**2*vp - 2*p_pair**2*q*r*vp - p_pair*q*r**2 + p_pair*q*r + 18*q**2*r**2*vp**2 - 18*q**2*r**2*vp + 9*q**2*r**2 - 18*q**2*r*vp**2 + 18*q**2*r*vp - 9*q**2*r + 4*q**2*vp**2 - 4*q**2*vp + 2*q**2 - 18*q*r**2*vp**2 + 18*q*r**2*vp - 9*q*r**2 + 10*q*r*vp**2 - 10*q*r*vp + q*r + 2*q + 4*r**2*vp**2 - 4*r**2*vp + 2*r**2 + 2*r))/16,\n",
    "   t*((pdm)*rp*(12*p_pair*q**2*rp**3 - 8*p_pair*q**2*rp**2 - p_pair*q**2*rp + p_pair*q**2 - 6*p_pair*q*rp**3 + 3*p_pair*q*rp**2 + 2*p_pair*q*rp - p_pair*q - 6*q*rp**3 + 3*q*rp**2 + 2*q*rp - q + 3*rp**3 - rp**2 - rp + 1) + (pmp)*(2*p_pair**2*qp**4*r**2 - 2*p_pair**2*qp**4*r - 4*p_pair**2*qp**3*r**2 + 4*p_pair**2*qp**3*r + 2*p_pair**2*qp**2*r**2 - 2*p_pair**2*qp**2*r + 8*p_pair*qp**4*r**2 - 8*p_pair*qp**4*r + 2*p_pair*qp**4 - 6*p_pair*qp**3*r**2 + 4*p_pair*qp**3*r + 4*p_pair*qp**2*r**2 - 4*p_pair*qp**2*r - 2*p_pair*qp*r**2 + 2*p_pair*qp*r + 6*qp**4*r**2 - 6*qp**4*r + qp**4 - 22*qp**3*r**2 + 16*qp**3*r - qp**3 + 21*qp**2*r**2 - 9*qp**2*r - qp**2 - 8*qp*r**2 + qp + r**2 + r) + (ppc)*(4*p_pair**4*q**2*r**2*vp**2 - 4*p_pair**4*q**2*r*vp**2 - 4*p_pair**3*q**2*r**2*vp + 4*p_pair**3*q**2*r*vp - 4*p_pair**3*q*r**2*vp**2 + 4*p_pair**3*q*r*vp**2 + 2*p_pair**2*q**2*r**2 - 2*p_pair**2*q**2*r + 4*p_pair**2*q*r**2*vp - 4*p_pair**2*q*r*vp - 2*p_pair*q*r**2 + 2*p_pair*q*r + 12*q**2*r**2*vp**2 - 12*q**2*r**2*vp + 6*q**2*r**2 - 12*q**2*r*vp**2 + 12*q**2*r*vp - 6*q**2*r + 2*q**2*vp**2 - 2*q**2*vp + q**2 - 12*q*r**2*vp**2 + 12*q*r**2*vp - 6*q*r**2 + 8*q*r*vp**2 - 8*q*r*vp + 2*q*r + q + 2*r**2*vp**2 - 2*r**2*vp + r**2 + r))/24,\n",
    "   t*(3*(pdm)*rp*(12*p_pair*q**2*rp**3 - 8*p_pair*q**2*rp**2 - p_pair*q**2*rp + p_pair*q**2 - 6*p_pair*q*rp**3 + 3*p_pair*q*rp**2 + 2*p_pair*q*rp - p_pair*q + 12*q**2*rp**3 - 8*q**2*rp**2 - q**2*rp + q**2 - 18*q*rp**3 + 9*q*rp**2 + 6*q*rp - 3*q + 6*rp**3 - 2*rp**2 - 2*rp + 2) + (pmp)*(4*p_pair**2*qp**4*r**2 - 4*p_pair**2*qp**4*r + p_pair**2*qp**4 - 8*p_pair**2*qp**3*r**2 + 8*p_pair**2*qp**3*r - 2*p_pair**2*qp**3 + 4*p_pair**2*qp**2*r**2 - 4*p_pair**2*qp**2*r + p_pair**2*qp**2 + 24*p_pair*qp**4*r**2 - 24*p_pair*qp**4*r + 6*p_pair*qp**4 - 16*p_pair*qp**3*r**2 + 6*p_pair*qp**3*r + p_pair*qp**3 + 8*p_pair*qp**2*r**2 - 2*p_pair*qp**2 - 4*p_pair*qp*r**2 + p_pair*qp + 44*qp**4*r**2 - 44*qp**4*r + 11*qp**4 - 96*qp**3*r**2 + 58*qp**3*r - 5*qp**3 + 78*qp**2*r**2 - 14*qp**2*r - 5*qp**2 - 32*qp*r**2 - 12*qp*r + 5*qp + 6*r**2 + 6*r) + (ppc)*(8*p_pair**4*q**2*r**2*vp**2 - 8*p_pair**4*q**2*r*vp**2 + 2*p_pair**4*q**2*vp**2 - 8*p_pair**3*q**2*r**2*vp + 8*p_pair**3*q**2*r*vp - 2*p_pair**3*q**2*vp - 8*p_pair**3*q*r**2*vp**2 + 4*p_pair**3*q*r*vp**2 + 4*p_pair**2*q**2*r**2 - 4*p_pair**2*q**2*r + p_pair**2*q**2 + 8*p_pair**2*q*r**2*vp - 4*p_pair**2*q*r*vp + 2*p_pair**2*r**2*vp**2 - 4*p_pair*q*r**2 + p_pair*q - 2*p_pair*r**2*vp + 40*q**2*r**2*vp**2 - 40*q**2*r**2*vp + 20*q**2*r**2 - 40*q**2*r*vp**2 + 40*q**2*r*vp - 20*q**2*r + 10*q**2*vp**2 - 10*q**2*vp + 5*q**2 - 40*q*r**2*vp**2 + 40*q*r**2*vp - 20*q*r**2 + 20*q*r*vp**2 - 20*q*r*vp + 5*q + 10*r**2*vp**2 - 10*r**2*vp + 6*r**2 + 6*r))/32]],\n",
    " [9,\n",
    "  [t*(-(pdm)*rp*(-2*q*rp + q + rp)*(-6*q*rp**2 + q*rp + q + 3*rp**2 - 3) + (pmp)*qp*(-2*qp*r + qp + r)*(6*qp**2*r - 3*qp**2 - 5*qp*r + r + 3))/2,\n",
    "   -t*((pdm)*rp*(24*p_pair*q**2*rp**3 - 16*p_pair*q**2*rp**2 - 2*p_pair*q**2*rp + 2*p_pair*q**2 - 12*p_pair*q*rp**3 + 4*p_pair*q*rp**2 + 7*p_pair*q*rp - 3*p_pair*q + 24*q**2*rp**3 - 16*q**2*rp**2 - 2*q**2*rp + 2*q**2 - 36*q*rp**3 + 12*q*rp**2 + 21*q*rp - 9*q + 12*rp**3 - 12*rp) + 2*(pmp)*qp*(p_pair**2*qp**3*r**2 - p_pair**2*qp**3*r - p_pair**2*qp**2*r**2 + p_pair**2*qp**2*r + 8*p_pair*qp**3*r**2 - 8*p_pair*qp**3*r + 2*p_pair*qp**3 - 5*p_pair*qp**2*r**2 + 3*p_pair*qp**2*r + p_pair*qp*r**2 + p_pair*qp*r - p_pair*qp + 17*qp**3*r**2 - 17*qp**3*r + 4*qp**3 - 30*qp**2*r**2 + 16*qp**2*r + 15*qp*r**2 + 7*qp*r - 5*qp - 2*r**2 - 6*r))/16,\n",
    "   -t*((pdm)*rp*(24*p_pair*q**2*rp**3 - 16*p_pair*q**2*rp**2 - 2*p_pair*q**2*rp + 2*p_pair*q**2 - 12*p_pair*q*rp**3 + 4*p_pair*q*rp**2 + 7*p_pair*q*rp - 3*p_pair*q - 12*q*rp**3 + 4*q*rp**2 + 7*q*rp - 3*q + 6*rp**3 - 6*rp) + 2*(pmp)*qp*(2*p_pair**2*qp**3*r**2 - 2*p_pair**2*qp**3*r - 2*p_pair**2*qp**2*r**2 + 2*p_pair**2*qp**2*r + 8*p_pair*qp**3*r**2 - 8*p_pair*qp**3*r + 2*p_pair*qp**3 - 6*p_pair*qp**2*r**2 + 4*p_pair*qp**2*r + 2*p_pair*qp*r**2 - p_pair*qp + 6*qp**3*r**2 - 6*qp**3*r + qp**3 - 16*qp**2*r**2 + 10*qp**2*r + 9*qp*r**2 + qp*r - 2*qp - r**2 - 3*r))/24,\n",
    "   -t*(3*(pdm)*rp*(24*p_pair*q**2*rp**3 - 16*p_pair*q**2*rp**2 - 2*p_pair*q**2*rp + 2*p_pair*q**2 - 12*p_pair*q*rp**3 + 4*p_pair*q*rp**2 + 7*p_pair*q*rp - 3*p_pair*q + 24*q**2*rp**3 - 16*q**2*rp**2 - 2*q**2*rp + 2*q**2 - 36*q*rp**3 + 12*q*rp**2 + 21*q*rp - 9*q + 12*rp**3 - 12*rp) + 2*(pmp)*qp*(4*p_pair**2*qp**3*r**2 - 4*p_pair**2*qp**3*r + p_pair**2*qp**3 - 4*p_pair**2*qp**2*r**2 + 4*p_pair**2*qp**2*r - p_pair**2*qp**2 + 24*p_pair*qp**3*r**2 - 24*p_pair*qp**3*r + 6*p_pair*qp**3 - 16*p_pair*qp**2*r**2 + 6*p_pair*qp**2*r + p_pair*qp**2 + 4*p_pair*qp*r**2 + 6*p_pair*qp*r - 4*p_pair*qp + 44*qp**3*r**2 - 44*qp**3*r + 11*qp**3 - 76*qp**2*r**2 + 38*qp**2*r + 38*qp*r**2 + 24*qp*r - 14*qp - 6*r**2 - 18*r))/32]],\n",
    " [10,\n",
    "  [(pdm)*t*(12*q**2*rp**4 - 24*q**2*rp**3 + 23*q**2*rp**2 - 11*q**2*rp + 2*q**2 - 12*q*rp**4 + 22*q*rp**3 - 16*q*rp**2 + 4*q*rp + 3*rp**4 - 5*rp**3 + 3*rp**2)/2 + (pmp)*t*(12*qp**4*r**2 - 12*qp**4*r + 3*qp**4 - 20*qp**3*r**2 + 20*qp**3*r - 5*qp**3 + 15*qp**2*r**2 - 11*qp**2*r + 3*qp**2 - 6*qp*r**2 + 2*qp*r + r**2)/2 + (ppc)*t*(-2*q*r + q + r)**2/2 + (-2*q*r + q + r)**2*(-(pdm)*t - (pmp)*t - (ppc)*t + 1),\n",
    "   (pdm)*t*(12*p_pair*q**2*rp**4 - 24*p_pair*q**2*rp**3 + 23*p_pair*q**2*rp**2 - 11*p_pair*q**2*rp + 2*p_pair*q**2 - 6*p_pair*q*rp**4 + 11*p_pair*q*rp**3 - 8*p_pair*q*rp**2 + 2*p_pair*q*rp + 12*q**2*rp**4 - 24*q**2*rp**3 + 23*q**2*rp**2 - 11*q**2*rp + 2*q**2 - 18*q*rp**4 + 33*q*rp**3 - 24*q*rp**2 + 6*q*rp + 6*rp**4 - 10*rp**3 + 6*rp**2)/8 + (pmp)*t*(p_pair**2*qp**4*r**2 - p_pair**2*qp**4*r + 8*p_pair*qp**4*r**2 - 8*p_pair*qp**4*r + 2*p_pair*qp**4 - 13*p_pair*qp**3*r**2 + 13*p_pair*qp**3*r - 3*p_pair*qp**3 + 8*p_pair*qp**2*r**2 - 6*p_pair*qp**2*r + p_pair*qp**2 - 2*p_pair*qp*r**2 + p_pair*qp*r + 17*qp**4*r**2 - 17*qp**4*r + 4*qp**4 - 29*qp**3*r**2 + 29*qp**3*r - 7*qp**3 + 22*qp**2*r**2 - 16*qp**2*r + 5*qp**2 - 10*qp*r**2 + 3*qp*r + 2*r**2)/8 + (ppc)*t*(-2*q*r + q + r)*(-2*p_pair*q*r + p_pair*q - 2*q*r + q + 2*r)/8 - (-2*q*r + q + r)*((pdm)*t + (pmp)*t + (ppc)*t - 1)*(-4*p_pair*q*r + 2*p_pair*q - 2*q*r + q + 3*r)/6,\n",
    "   (pdm)*t*(12*p_pair*q**2*rp**4 - 24*p_pair*q**2*rp**3 + 23*p_pair*q**2*rp**2 - 11*p_pair*q**2*rp + 2*p_pair*q**2 - 6*p_pair*q*rp**4 + 11*p_pair*q*rp**3 - 8*p_pair*q*rp**2 + 2*p_pair*q*rp - 6*q*rp**4 + 11*q*rp**3 - 8*q*rp**2 + 2*q*rp + 3*rp**4 - 5*rp**3 + 3*rp**2)/12 + (pmp)*t*(2*p_pair**2*qp**4*r**2 - 2*p_pair**2*qp**4*r + 8*p_pair*qp**4*r**2 - 8*p_pair*qp**4*r + 2*p_pair*qp**4 - 14*p_pair*qp**3*r**2 + 14*p_pair*qp**3*r - 3*p_pair*qp**3 + 8*p_pair*qp**2*r**2 - 6*p_pair*qp**2*r + p_pair*qp**2 - 2*p_pair*qp*r**2 + p_pair*qp*r + 6*qp**4*r**2 - 6*qp**4*r + qp**4 - 10*qp**3*r**2 + 10*qp**3*r - 2*qp**3 + 7*qp**2*r**2 - 5*qp**2*r + 2*qp**2 - 4*qp*r**2 + qp*r + r**2)/12 + (ppc)*t*(-2*q*r + q + r)*(-2*p_pair*q*r + p_pair*q + r)/12 - (-2*q*r + q + r)*(-2*p_pair*q*r + p_pair*q + r)*((pdm)*t + (pmp)*t + (ppc)*t - 1)/6,\n",
    "   3*(pdm)*t*(12*p_pair*q**2*rp**4 - 24*p_pair*q**2*rp**3 + 23*p_pair*q**2*rp**2 - 11*p_pair*q**2*rp + 2*p_pair*q**2 - 6*p_pair*q*rp**4 + 11*p_pair*q*rp**3 - 8*p_pair*q*rp**2 + 2*p_pair*q*rp + 12*q**2*rp**4 - 24*q**2*rp**3 + 23*q**2*rp**2 - 11*q**2*rp + 2*q**2 - 18*q*rp**4 + 33*q*rp**3 - 24*q*rp**2 + 6*q*rp + 6*rp**4 - 10*rp**3 + 6*rp**2)/16 + (pmp)*t*(4*p_pair**2*qp**4*r**2 - 4*p_pair**2*qp**4*r + p_pair**2*qp**4 + 24*p_pair*qp**4*r**2 - 24*p_pair*qp**4*r + 6*p_pair*qp**4 - 40*p_pair*qp**3*r**2 + 40*p_pair*qp**3*r - 10*p_pair*qp**3 + 24*p_pair*qp**2*r**2 - 18*p_pair*qp**2*r + 3*p_pair*qp**2 - 6*p_pair*qp*r**2 + 3*p_pair*qp*r + 44*qp**4*r**2 - 44*qp**4*r + 11*qp**4 - 80*qp**3*r**2 + 80*qp**3*r - 20*qp**3 + 66*qp**2*r**2 - 48*qp**2*r + 15*qp**2 - 30*qp*r**2 + 9*qp*r + 6*r**2)/16 + 3*(ppc)*t*(-2*q*r + q + r)*(-2*p_pair*q*r + p_pair*q - 2*q*r + q + 2*r)/16 - (-2*q*r + q + r)*((pdm)*t + (pmp)*t + (ppc)*t - 1)*(-4*p_pair*q*r + 2*p_pair*q - 2*q*r + q + 3*r)/4]],\n",
    " [11,\n",
    "  [0,\n",
    "   (ppc)*q*t*vp*(2*r**2 - 2*r + 1)*(p_pair**4*q*vp - p_pair**3*q - p_pair**3*vp + p_pair**2 + q*vp - q - vp + 1)/8,\n",
    "   (ppc)*q*t*vp*(2*r**2 - 2*r + 1)*(p_pair**4*q*vp - p_pair**3*q - p_pair**3*vp + p_pair**2 + q*vp - q - vp + 1)/6,\n",
    "   (ppc)*t*vp*(4*p_pair**4*q**2*r**2*vp - 4*p_pair**4*q**2*r*vp + p_pair**4*q**2*vp - 4*p_pair**3*q**2*r**2 + 4*p_pair**3*q**2*r - p_pair**3*q**2 - 4*p_pair**3*q*r**2*vp + 4*p_pair**3*q*r*vp - p_pair**3*q*vp + 4*p_pair**2*q*r**2 - 4*p_pair**2*q*r + p_pair**2*q + p_pair**2*r**2*vp - p_pair**2*r*vp - p_pair*r**2 + p_pair*r + 4*q**2*r**2*vp - 4*q**2*r**2 - 4*q**2*r*vp + 4*q**2*r + q**2*vp - q**2 - 4*q*r**2*vp + 4*q*r**2 + 4*q*r*vp - 4*q*r - q*vp + q + r**2*vp - r**2 - r*vp + r)/16]],\n",
    " [12,\n",
    "  [0,\n",
    "   t*(-(pdm)*rp*(rp - 1)*(2*q*rp - q - rp + 1) + (pmp)*r*(qp - 1)*(r - 1)*(p_pair**2*qp**2 - p_pair*qp + qp**2 - qp + 1) - (ppc)*r*(r - 1)*(2*p_pair**4*q**2*vp**2 - 2*p_pair**3*q**2*vp - 2*p_pair**3*q*vp**2 + p_pair**2*q**2 + 2*p_pair**2*q*vp + p_pair**2*vp**2 - p_pair*q - p_pair*vp + 2*q**2*vp**2 - 2*q**2*vp + q**2 - 2*q*vp**2 + 2*q*vp - q + vp**2 - vp + 1))/8,\n",
    "   t*(-(pdm)*rp*(rp - 1)*(2*p_pair*q*rp - p_pair*q + 6*q*rp - 3*q - 4*rp + 4) + 4*(pmp)*r*(qp - 1)*(r - 1)*(p_pair**2*qp**2 - p_pair*qp + qp**2 - qp + 1) - 4*(ppc)*r*(r - 1)*(2*p_pair**4*q**2*vp**2 - 2*p_pair**3*q**2*vp - 2*p_pair**3*q*vp**2 + p_pair**2*q**2 + 2*p_pair**2*q*vp + p_pair**2*vp**2 - p_pair*q - p_pair*vp + 2*q**2*vp**2 - 2*q**2*vp + q**2 - 2*q*vp**2 + 2*q*vp - q + vp**2 - vp + 1))/24,\n",
    "   t*(-2*(pdm)*rp*(rp - 1)*(2*q*rp - q - rp + 1) + (pmp)*(qp - 1)*(4*p_pair**2*qp**2*r**2 - 4*p_pair**2*qp**2*r + p_pair**2*qp**2 - 4*p_pair*qp*r**2 + 4*p_pair*qp*r - p_pair*qp + 4*qp**2*r**2 - 4*qp**2*r + qp**2 - 4*qp*r**2 + 4*qp*r - qp + 2*r**2 - 2*r) - (ppc)*(8*p_pair**4*q**2*r**2*vp**2 - 8*p_pair**4*q**2*r*vp**2 + 2*p_pair**4*q**2*vp**2 - 8*p_pair**3*q**2*r**2*vp + 8*p_pair**3*q**2*r*vp - 2*p_pair**3*q**2*vp - 8*p_pair**3*q*r**2*vp**2 + 8*p_pair**3*q*r*vp**2 - 2*p_pair**3*q*vp**2 + 4*p_pair**2*q**2*r**2 - 4*p_pair**2*q**2*r + p_pair**2*q**2 + 8*p_pair**2*q*r**2*vp - 8*p_pair**2*q*r*vp + 2*p_pair**2*q*vp + 2*p_pair**2*r**2*vp**2 - 2*p_pair**2*r*vp**2 - 4*p_pair*q*r**2 + 4*p_pair*q*r - p_pair*q - 2*p_pair*r**2*vp + 2*p_pair*r*vp + 8*q**2*r**2*vp**2 - 8*q**2*r**2*vp + 4*q**2*r**2 - 8*q**2*r*vp**2 + 8*q**2*r*vp - 4*q**2*r + 2*q**2*vp**2 - 2*q**2*vp + q**2 - 8*q*r**2*vp**2 + 8*q*r**2*vp - 4*q*r**2 + 8*q*r*vp**2 - 8*q*r*vp + 4*q*r - 2*q*vp**2 + 2*q*vp - q + 2*r**2*vp**2 - 2*r**2*vp + 2*r**2 - 2*r*vp**2 + 2*r*vp - 2*r))/32]],\n",
    " [13,\n",
    "  [0,\n",
    "   -(pdm)*t*(rp - 1)*(2*q*rp - q - rp + 1)*(6*p_pair*q*rp**2 - 11*p_pair*q*rp + 4*p_pair*q + 6*q*rp**2 - 11*q*rp + 4*q - 6*rp**2 + 12*rp)/16 - (pmp)*t*(qp - 1)*(2*p_pair**2*qp**3*r**2 - 2*p_pair**2*qp**3*r + p_pair**2*qp**3 + 8*p_pair*qp**3*r**2 - 8*p_pair*qp**3*r + 2*p_pair*qp**3 - 14*p_pair*qp**2*r**2 + 20*p_pair*qp**2*r - 7*p_pair*qp**2 + 4*p_pair*qp*r**2 - 6*p_pair*qp*r + 2*p_pair*qp + 10*qp**3*r**2 - 10*qp**3*r + 3*qp**3 - 22*qp**2*r**2 + 32*qp**2*r - 11*qp**2 + 18*qp*r**2 - 24*qp*r + 10*qp - 4*r**2 + 4*r)/16 + (ppc)*t*(2*q*r - q - r + 1)*(-2*p_pair*q*r + p_pair*q - 2*q*r + q + 2*r)/8 - ((pdm)*t + (pmp)*t + (ppc)*t - 1)*(2*q*r - q - r + 1)*(-4*p_pair*q*r + 2*p_pair*q - 2*q*r + q + 3*r)/6,\n",
    "   -(pdm)*t*(rp - 1)*(24*p_pair*q**2*rp**3 - 56*p_pair*q**2*rp**2 + 38*p_pair*q**2*rp - 8*p_pair*q**2 - 12*p_pair*q*rp**3 + 32*p_pair*q*rp**2 - 21*p_pair*q*rp + 4*p_pair*q + 24*q**2*rp**3 - 56*q**2*rp**2 + 38*q**2*rp - 8*q**2 - 36*q*rp**3 + 96*q*rp**2 - 63*q*rp + 12*q + 12*rp**3 - 36*rp**2 + 24*rp)/24 - (pmp)*t*(qp - 1)*(2*p_pair**2*qp**3*r**2 - 2*p_pair**2*qp**3*r + p_pair**2*qp**3 + 8*p_pair*qp**3*r**2 - 8*p_pair*qp**3*r + 2*p_pair*qp**3 - 14*p_pair*qp**2*r**2 + 20*p_pair*qp**2*r - 7*p_pair*qp**2 + 4*p_pair*qp*r**2 - 4*p_pair*qp*r + p_pair*qp + 10*qp**3*r**2 - 10*qp**3*r + 3*qp**3 - 22*qp**2*r**2 + 32*qp**2*r - 11*qp**2 + 18*qp*r**2 - 26*qp*r + 11*qp - 4*r**2 + 4*r)/12 - (ppc)*t*(8*p_pair*q**2*r**2 - 8*p_pair*q**2*r + 2*p_pair*q**2 - 4*p_pair*q*r**2 + 4*p_pair*q*r - p_pair*q + 8*q**2*r**2 - 8*q**2*r + 2*q**2 - 12*q*r**2 + 12*q*r - 3*q + 4*r**2 - 4*r)/12 + ((pdm)*t + (pmp)*t + (ppc)*t - 1)*(8*p_pair*q**2*r**2 - 8*p_pair*q**2*r + 2*p_pair*q**2 - 4*p_pair*q*r**2 + 4*p_pair*q*r - p_pair*q + 8*q**2*r**2 - 8*q**2*r + 2*q**2 - 12*q*r**2 + 12*q*r - 3*q + 4*r**2 - 4*r)/6,\n",
    "   -(pdm)*t*(rp - 1)*(2*q*rp - q - rp + 1)*(6*p_pair*q*rp**2 - 11*p_pair*q*rp + 4*p_pair*q + 6*q*rp**2 - 11*q*rp + 4*q - 6*rp**2 + 12*rp)/32 - (pmp)*t*(qp - 1)*(4*p_pair**2*qp**3*r**2 - 4*p_pair**2*qp**3*r + p_pair**2*qp**3 + 8*p_pair*qp**3*r**2 - 8*p_pair*qp**3*r + 2*p_pair*qp**3 - 16*p_pair*qp**2*r**2 + 22*p_pair*qp**2*r - 7*p_pair*qp**2 + 4*p_pair*qp*r**2 - 6*p_pair*qp*r + 2*p_pair*qp + 12*qp**3*r**2 - 12*qp**3*r + 3*qp**3 - 24*qp**2*r**2 + 34*qp**2*r - 11*qp**2 + 18*qp*r**2 - 24*qp*r + 10*qp - 4*r**2 + 4*r)/32 + (ppc)*t*(2*q*r - q - r + 1)*(-2*p_pair*q*r + p_pair*q - 2*q*r + q + 2*r)/16 - ((pdm)*t + (pmp)*t + (ppc)*t - 1)*(2*q*r - q - r + 1)*(-4*p_pair*q*r + 2*p_pair*q - 2*q*r + q + 3*r)/12]],\n",
    " [14,\n",
    "  [0,\n",
    "   -t*((pdm)*rp*(12*p_pair*q**2*rp**3 - 8*p_pair*q**2*rp**2 - p_pair*q**2*rp + p_pair*q**2 - 6*p_pair*q*rp**3 + p_pair*q*rp**2 + 5*p_pair*q*rp - 2*p_pair*q + 12*q**2*rp**3 - 8*q**2*rp**2 - q**2*rp + q**2 - 18*q*rp**3 + 7*q*rp**2 + 9*q*rp - 4*q + 6*rp**3 - 6*rp) + (pmp)*qp*(2*p_pair**2*qp**3*r**2 - 2*p_pair**2*qp**3*r + p_pair**2*qp**3 - 2*p_pair**2*qp**2*r**2 + 2*p_pair**2*qp**2*r - p_pair**2*qp**2 + 8*p_pair*qp**3*r**2 - 8*p_pair*qp**3*r + 2*p_pair*qp**3 - 6*p_pair*qp**2*r**2 + p_pair*qp**2 + 2*p_pair*qp*r**2 + 2*p_pair*qp*r - p_pair*qp + 10*qp**3*r**2 - 10*qp**3*r + 3*qp**3 - 16*qp**2*r**2 + 6*qp**2*r + 8*qp*r**2 + 12*qp*r - 5*qp - 2*r**2 - 6*r))/16,\n",
    "   -t*((pdm)*rp*(24*p_pair*q**2*rp**3 - 16*p_pair*q**2*rp**2 - 2*p_pair*q**2*rp + 2*p_pair*q**2 - 12*p_pair*q*rp**3 + 4*p_pair*q*rp**2 + 7*p_pair*q*rp - 3*p_pair*q + 24*q**2*rp**3 - 16*q**2*rp**2 - 2*q**2*rp + 2*q**2 - 36*q*rp**3 + 12*q*rp**2 + 21*q*rp - 9*q + 12*rp**3 - 12*rp) + 2*(pmp)*qp*(2*p_pair**2*qp**3*r**2 - 2*p_pair**2*qp**3*r + p_pair**2*qp**3 - 2*p_pair**2*qp**2*r**2 + 2*p_pair**2*qp**2*r - p_pair**2*qp**2 + 8*p_pair*qp**3*r**2 - 8*p_pair*qp**3*r + 2*p_pair*qp**3 - 6*p_pair*qp**2*r**2 + p_pair*qp**2 + 2*p_pair*qp*r**2 + 4*p_pair*qp*r - 2*p_pair*qp + 10*qp**3*r**2 - 10*qp**3*r + 3*qp**3 - 16*qp**2*r**2 + 6*qp**2*r + 8*qp*r**2 + 10*qp*r - 4*qp - 2*r**2 - 6*r))/24,\n",
    "   -t*((pdm)*rp*(12*p_pair*q**2*rp**3 - 8*p_pair*q**2*rp**2 - p_pair*q**2*rp + p_pair*q**2 - 6*p_pair*q*rp**3 + p_pair*q*rp**2 + 5*p_pair*q*rp - 2*p_pair*q + 12*q**2*rp**3 - 8*q**2*rp**2 - q**2*rp + q**2 - 18*q*rp**3 + 7*q*rp**2 + 9*q*rp - 4*q + 6*rp**3 - 6*rp) + (pmp)*qp*(4*p_pair**2*qp**3*r**2 - 4*p_pair**2*qp**3*r + p_pair**2*qp**3 - 4*p_pair**2*qp**2*r**2 + 4*p_pair**2*qp**2*r - p_pair**2*qp**2 + 8*p_pair*qp**3*r**2 - 8*p_pair*qp**3*r + 2*p_pair*qp**3 - 8*p_pair*qp**2*r**2 + 2*p_pair*qp**2*r + p_pair*qp**2 + 4*p_pair*qp*r**2 - p_pair*qp + 12*qp**3*r**2 - 12*qp**3*r + 3*qp**3 - 20*qp**2*r**2 + 10*qp**2*r + 10*qp*r**2 + 10*qp*r - 5*qp - 2*r**2 - 6*r))/32]],\n",
    " [15,\n",
    "  [0,\n",
    "   -(ppc)*q*r*t*vp*(r - 1)*(p_pair**4*q*vp - p_pair**3*q - p_pair**3*vp + p_pair**2 + q*vp - q - vp + 1)/4,\n",
    "   -(ppc)*q*r*t*vp*(r - 1)*(p_pair**4*q*vp - p_pair**3*q - p_pair**3*vp + p_pair**2 + q*vp - q - vp + 1)/3,\n",
    "   (ppc)*t*vp*(-4*p_pair**4*q**2*r**2*vp + 4*p_pair**4*q**2*r*vp - p_pair**4*q**2*vp + 4*p_pair**3*q**2*r**2 - 4*p_pair**3*q**2*r + p_pair**3*q**2 + 4*p_pair**3*q*r**2*vp - 6*p_pair**3*q*r*vp + 2*p_pair**3*q*vp - 4*p_pair**2*q*r**2 + 6*p_pair**2*q*r - 2*p_pair**2*q - p_pair**2*r**2*vp + 2*p_pair**2*r*vp - p_pair**2*vp + p_pair*r**2 - 2*p_pair*r + p_pair - 4*q**2*r**2*vp + 4*q**2*r**2 + 4*q**2*r*vp - 4*q**2*r - q**2*vp + q**2 + 4*q*r**2*vp - 4*q*r**2 - 6*q*r*vp + 6*q*r + 2*q*vp - 2*q - r**2*vp + r**2 + 2*r*vp - 2*r - vp + 1)/16]],\n",
    " [16,\n",
    "  [0,\n",
    "   -(ppc)*q*r*t*vp*(r - 1)*(p_pair**4*q*vp - p_pair**3*q - p_pair**3*vp + p_pair**2 + q*vp - q - vp + 1)/4,\n",
    "   -(ppc)*q*r*t*vp*(r - 1)*(p_pair**4*q*vp - p_pair**3*q - p_pair**3*vp + p_pair**2 + q*vp - q - vp + 1)/3,\n",
    "   (ppc)*t*vp*(-4*p_pair**4*q**2*r**2*vp + 4*p_pair**4*q**2*r*vp - p_pair**4*q**2*vp + 4*p_pair**3*q**2*r**2 - 4*p_pair**3*q**2*r + p_pair**3*q**2 + 4*p_pair**3*q*r**2*vp - 2*p_pair**3*q*r*vp - 4*p_pair**2*q*r**2 + 2*p_pair**2*q*r - p_pair**2*r**2*vp + p_pair*r**2 - 4*q**2*r**2*vp + 4*q**2*r**2 + 4*q**2*r*vp - 4*q**2*r - q**2*vp + q**2 + 4*q*r**2*vp - 4*q*r**2 - 2*q*r*vp + 2*q*r - r**2*vp + r**2)/16]],\n",
    " [17,\n",
    "  [0,\n",
    "   (ppc)*q*t*vp*(2*r**2 - 2*r + 1)*(p_pair**4*q*vp - p_pair**3*q - p_pair**3*vp + p_pair**2 + q*vp - q - vp + 1)/8,\n",
    "   (ppc)*q*t*vp*(2*r**2 - 2*r + 1)*(p_pair**4*q*vp - p_pair**3*q - p_pair**3*vp + p_pair**2 + q*vp - q - vp + 1)/6,\n",
    "   (ppc)*t*vp*(4*p_pair**4*q**2*r**2*vp - 4*p_pair**4*q**2*r*vp + p_pair**4*q**2*vp - 4*p_pair**3*q**2*r**2 + 4*p_pair**3*q**2*r - p_pair**3*q**2 - 4*p_pair**3*q*r**2*vp + 4*p_pair**3*q*r*vp - p_pair**3*q*vp + 4*p_pair**2*q*r**2 - 4*p_pair**2*q*r + p_pair**2*q + p_pair**2*r**2*vp - p_pair**2*r*vp - p_pair*r**2 + p_pair*r + 4*q**2*r**2*vp - 4*q**2*r**2 - 4*q**2*r*vp + 4*q**2*r + q**2*vp - q**2 - 4*q*r**2*vp + 4*q*r**2 + 4*q*r*vp - 4*q*r - q*vp + q + r**2*vp - r**2 - r*vp + r)/16]],\n",
    " [18, [0, 0, 0, 0]],\n",
    " [19,\n",
    "  [0,\n",
    "   t*(-(pdm)*rp*(rp - 1)*(2*p_pair*q*rp - p_pair*q + 2*q*rp - q - 2*rp + 2) + 2*(pmp)*r*(qp - 1)*(r - 1)*(p_pair**2*qp**2 - p_pair*qp + qp**2 - qp + 1) - 2*(ppc)*r*(r - 1)*(2*p_pair**4*q**2*vp**2 - 2*p_pair**3*q**2*vp - 2*p_pair**3*q*vp**2 + p_pair**2*q**2 + 2*p_pair**2*q*vp + p_pair**2*vp**2 - p_pair*q - p_pair*vp + 2*q**2*vp**2 - 2*q**2*vp + q**2 - 2*q*vp**2 + 2*q*vp - q + vp**2 - vp + 1))/16,\n",
    "   t*(-(pdm)*rp*(rp - 1)*(2*p_pair*q*rp - p_pair*q + 6*q*rp - 3*q - 4*rp + 4) + 4*(pmp)*r*(qp - 1)*(r - 1)*(p_pair**2*qp**2 - p_pair*qp + qp**2 - qp + 1) - 4*(ppc)*r*(r - 1)*(2*p_pair**4*q**2*vp**2 - 2*p_pair**3*q**2*vp - 2*p_pair**3*q*vp**2 + p_pair**2*q**2 + 2*p_pair**2*q*vp + p_pair**2*vp**2 - p_pair*q - p_pair*vp + 2*q**2*vp**2 - 2*q**2*vp + q**2 - 2*q*vp**2 + 2*q*vp - q + vp**2 - vp + 1))/24,\n",
    "   t*(-(pdm)*rp*(rp - 1)*(2*p_pair*q*rp - p_pair*q + 2*q*rp - q - 2*rp + 2) + (pmp)*(qp - 1)*(4*p_pair**2*qp**2*r**2 - 4*p_pair**2*qp**2*r + p_pair**2*qp**2 - 4*p_pair*qp*r**2 + 4*p_pair*qp*r - p_pair*qp + 4*qp**2*r**2 - 4*qp**2*r + qp**2 - 4*qp*r**2 + 4*qp*r - qp + 2*r**2 - 2*r) - (ppc)*(8*p_pair**4*q**2*r**2*vp**2 - 8*p_pair**4*q**2*r*vp**2 + 2*p_pair**4*q**2*vp**2 - 8*p_pair**3*q**2*r**2*vp + 8*p_pair**3*q**2*r*vp - 2*p_pair**3*q**2*vp - 8*p_pair**3*q*r**2*vp**2 + 8*p_pair**3*q*r*vp**2 - 2*p_pair**3*q*vp**2 + 4*p_pair**2*q**2*r**2 - 4*p_pair**2*q**2*r + p_pair**2*q**2 + 8*p_pair**2*q*r**2*vp - 8*p_pair**2*q*r*vp + 2*p_pair**2*q*vp + 2*p_pair**2*r**2*vp**2 - 2*p_pair**2*r*vp**2 - 4*p_pair*q*r**2 + 4*p_pair*q*r - p_pair*q - 2*p_pair*r**2*vp + 2*p_pair*r*vp + 8*q**2*r**2*vp**2 - 8*q**2*r**2*vp + 4*q**2*r**2 - 8*q**2*r*vp**2 + 8*q**2*r*vp - 4*q**2*r + 2*q**2*vp**2 - 2*q**2*vp + q**2 - 8*q*r**2*vp**2 + 8*q*r**2*vp - 4*q*r**2 + 8*q*r*vp**2 - 8*q*r*vp + 4*q*r - 2*q*vp**2 + 2*q*vp - q + 2*r**2*vp**2 - 2*r**2*vp + 2*r**2 - 2*r*vp**2 + 2*r*vp - 2*r))/32]],\n",
    " [20,\n",
    "  [0,\n",
    "   -t*((pdm)*rp*(rp - 1)*(-2*p_pair*q*rp + p_pair*q - 6*q*rp + 3*q + 4*rp) + 4*(pmp)*qp*r*(r - 1)*(p_pair**2*qp**2 - p_pair*qp + qp**2 - qp + 1))/16,\n",
    "   -t*((pdm)*rp*(rp - 1)*(-2*p_pair*q*rp + p_pair*q - 6*q*rp + 3*q + 4*rp) + 4*(pmp)*qp*r*(r - 1)*(p_pair**2*qp**2 - p_pair*qp + qp**2 - qp + 1))/12,\n",
    "   -t*((pdm)*rp*(rp - 1)*(-2*p_pair*q*rp + p_pair*q - 6*q*rp + 3*q + 4*rp) + 2*(pmp)*qp*(4*p_pair**2*qp**2*r**2 - 4*p_pair**2*qp**2*r + p_pair**2*qp**2 - 4*p_pair*qp*r**2 + 4*p_pair*qp*r - p_pair*qp + 4*qp**2*r**2 - 4*qp**2*r + qp**2 - 4*qp*r**2 + 4*qp*r - qp + 2*r**2 - 2*r))/32]],\n",
    " [21,\n",
    "  [0,\n",
    "   (pdm)*t*(rp - 1)*(3*rp - 4)*(2*q*rp - q - rp + 1)*(2*p_pair*q*rp - p_pair*q + 2*q*rp - q - 2*rp + 2)/16 + (pmp)*t*(qp - 1)**2*(2*p_pair**2*qp**2*r**2 - 2*p_pair**2*qp**2*r + p_pair**2*qp**2 + 8*p_pair*qp**2*r**2 - 8*p_pair*qp**2*r + 2*p_pair*qp**2 - 6*p_pair*qp*r**2 + 12*p_pair*qp*r - 5*p_pair*qp + 10*qp**2*r**2 - 10*qp**2*r + 3*qp**2 - 14*qp*r**2 + 24*qp*r - 9*qp + 6*r**2 - 14*r + 8)/16 + (ppc)*t*(4*p_pair**4*q**2*r**2*vp**2 - 4*p_pair**4*q**2*r*vp**2 + 2*p_pair**4*q**2*vp**2 - 4*p_pair**3*q**2*r**2*vp + 4*p_pair**3*q**2*r*vp - 2*p_pair**3*q**2*vp - 4*p_pair**3*q*r**2*vp**2 + 8*p_pair**3*q*r*vp**2 - 4*p_pair**3*q*vp**2 + 2*p_pair**2*q**2*r**2 - 2*p_pair**2*q**2*r + p_pair**2*q**2 + 4*p_pair**2*q*r**2*vp - 8*p_pair**2*q*r*vp + 4*p_pair**2*q*vp + 2*p_pair**2*r**2*vp**2 - 4*p_pair**2*r*vp**2 + 2*p_pair**2*vp**2 + 8*p_pair*q**2*r**2 - 8*p_pair*q**2*r + 2*p_pair*q**2 - 6*p_pair*q*r**2 + 12*p_pair*q*r - 5*p_pair*q - 2*p_pair*r**2*vp + 4*p_pair*r*vp - 2*p_pair*vp + 4*q**2*r**2*vp**2 - 4*q**2*r**2*vp + 10*q**2*r**2 - 4*q**2*r*vp**2 + 4*q**2*r*vp - 10*q**2*r + 2*q**2*vp**2 - 2*q**2*vp + 3*q**2 - 4*q*r**2*vp**2 + 4*q*r**2*vp - 14*q*r**2 + 8*q*r*vp**2 - 8*q*r*vp + 24*q*r - 4*q*vp**2 + 4*q*vp - 9*q + 2*r**2*vp**2 - 2*r**2*vp + 6*r**2 - 4*r*vp**2 + 4*r*vp - 14*r + 2*vp**2 - 2*vp + 8)/16 - ((pdm)*t + (pmp)*t + (ppc)*t - 1)*(2*q*r - q - r + 1)*(4*p_pair*q*r - 2*p_pair*q + 2*q*r - q - 3*r + 3)/6,\n",
    "   (pdm)*t*(rp - 1)*(3*rp - 4)*(2*q*rp - q - rp + 1)*(2*p_pair*q*rp - p_pair*q + 2*q*rp - q - 2*rp + 2)/12 + (pmp)*t*(qp - 1)**2*(2*p_pair**2*qp**2*r**2 - 2*p_pair**2*qp**2*r + p_pair**2*qp**2 + 8*p_pair*qp**2*r**2 - 8*p_pair*qp**2*r + 2*p_pair*qp**2 - 6*p_pair*qp*r**2 + 12*p_pair*qp*r - 5*p_pair*qp + 10*qp**2*r**2 - 10*qp**2*r + 3*qp**2 - 14*qp*r**2 + 24*qp*r - 9*qp + 6*r**2 - 14*r + 8)/12 + (ppc)*t*(4*p_pair**4*q**2*r**2*vp**2 - 4*p_pair**4*q**2*r*vp**2 + 2*p_pair**4*q**2*vp**2 - 4*p_pair**3*q**2*r**2*vp + 4*p_pair**3*q**2*r*vp - 2*p_pair**3*q**2*vp - 4*p_pair**3*q*r**2*vp**2 + 8*p_pair**3*q*r*vp**2 - 4*p_pair**3*q*vp**2 + 2*p_pair**2*q**2*r**2 - 2*p_pair**2*q**2*r + p_pair**2*q**2 + 4*p_pair**2*q*r**2*vp - 8*p_pair**2*q*r*vp + 4*p_pair**2*q*vp + 2*p_pair**2*r**2*vp**2 - 4*p_pair**2*r*vp**2 + 2*p_pair**2*vp**2 + 8*p_pair*q**2*r**2 - 8*p_pair*q**2*r + 2*p_pair*q**2 - 6*p_pair*q*r**2 + 12*p_pair*q*r - 5*p_pair*q - 2*p_pair*r**2*vp + 4*p_pair*r*vp - 2*p_pair*vp + 4*q**2*r**2*vp**2 - 4*q**2*r**2*vp + 10*q**2*r**2 - 4*q**2*r*vp**2 + 4*q**2*r*vp - 10*q**2*r + 2*q**2*vp**2 - 2*q**2*vp + 3*q**2 - 4*q*r**2*vp**2 + 4*q*r**2*vp - 14*q*r**2 + 8*q*r*vp**2 - 8*q*r*vp + 24*q*r - 4*q*vp**2 + 4*q*vp - 9*q + 2*r**2*vp**2 - 2*r**2*vp + 6*r**2 - 4*r*vp**2 + 4*r*vp - 14*r + 2*vp**2 - 2*vp + 8)/12 - ((pdm)*t + (pmp)*t + (ppc)*t - 1)*(2*q*r - q - r + 1)*(2*p_pair*q*r - p_pair*q + 2*q*r - q - 2*r + 2)/3,\n",
    "   (pdm)*t*(rp - 1)*(3*rp - 4)*(2*q*rp - q - rp + 1)*(2*p_pair*q*rp - p_pair*q + 2*q*rp - q - 2*rp + 2)/32 + (pmp)*t*(qp - 1)**2*(4*p_pair**2*qp**2*r**2 - 4*p_pair**2*qp**2*r + p_pair**2*qp**2 + 8*p_pair*qp**2*r**2 - 8*p_pair*qp**2*r + 2*p_pair*qp**2 - 8*p_pair*qp*r**2 + 14*p_pair*qp*r - 5*p_pair*qp + 12*qp**2*r**2 - 12*qp**2*r + 3*qp**2 - 16*qp*r**2 + 26*qp*r - 9*qp + 6*r**2 - 14*r + 8)/32 + (ppc)*t*(8*p_pair**4*q**2*r**2*vp**2 - 8*p_pair**4*q**2*r*vp**2 + 2*p_pair**4*q**2*vp**2 - 8*p_pair**3*q**2*r**2*vp + 8*p_pair**3*q**2*r*vp - 2*p_pair**3*q**2*vp - 8*p_pair**3*q*r**2*vp**2 + 12*p_pair**3*q*r*vp**2 - 4*p_pair**3*q*vp**2 + 4*p_pair**2*q**2*r**2 - 4*p_pair**2*q**2*r + p_pair**2*q**2 + 8*p_pair**2*q*r**2*vp - 12*p_pair**2*q*r*vp + 4*p_pair**2*q*vp + 2*p_pair**2*r**2*vp**2 - 4*p_pair**2*r*vp**2 + 2*p_pair**2*vp**2 + 8*p_pair*q**2*r**2 - 8*p_pair*q**2*r + 2*p_pair*q**2 - 8*p_pair*q*r**2 + 14*p_pair*q*r - 5*p_pair*q - 2*p_pair*r**2*vp + 4*p_pair*r*vp - 2*p_pair*vp + 8*q**2*r**2*vp**2 - 8*q**2*r**2*vp + 12*q**2*r**2 - 8*q**2*r*vp**2 + 8*q**2*r*vp - 12*q**2*r + 2*q**2*vp**2 - 2*q**2*vp + 3*q**2 - 8*q*r**2*vp**2 + 8*q*r**2*vp - 16*q*r**2 + 12*q*r*vp**2 - 12*q*r*vp + 26*q*r - 4*q*vp**2 + 4*q*vp - 9*q + 2*r**2*vp**2 - 2*r**2*vp + 6*r**2 - 4*r*vp**2 + 4*r*vp - 14*r + 2*vp**2 - 2*vp + 8)/32 - ((pdm)*t + (pmp)*t + (ppc)*t - 1)*(2*q*r - q - r + 1)*(4*p_pair*q*r - 2*p_pair*q + 2*q*r - q - 3*r + 3)/12]],\n",
    " [22,\n",
    "  [0,\n",
    "   -(pdm)*t*(rp - 1)*(6*q*rp**2 - 11*q*rp + 4*q - 3*rp**2 + 6*rp)*(2*p_pair*q*rp - p_pair*q + 2*q*rp - q - 2*rp + 2)/16 - (pmp)*t*(qp - 1)*(2*p_pair**2*qp**3*r**2 - 2*p_pair**2*qp**3*r + p_pair**2*qp**3 + 8*p_pair*qp**3*r**2 - 8*p_pair*qp**3*r + 2*p_pair*qp**3 - 14*p_pair*qp**2*r**2 + 20*p_pair*qp**2*r - 7*p_pair*qp**2 + 4*p_pair*qp*r**2 - 2*p_pair*qp*r + 10*qp**3*r**2 - 10*qp**3*r + 3*qp**3 - 22*qp**2*r**2 + 32*qp**2*r - 11*qp**2 + 18*qp*r**2 - 28*qp*r + 12*qp - 4*r**2 + 4*r)/16 + (ppc)*t*(-2*q*r + q + r)*(2*p_pair*q*r - p_pair*q + 2*q*r - q - 2*r + 2)/8 - (-2*q*r + q + r)*((pdm)*t + (pmp)*t + (ppc)*t - 1)*(4*p_pair*q*r - 2*p_pair*q + 2*q*r - q - 3*r + 3)/6,\n",
    "   -(pdm)*t*(rp - 1)*(24*p_pair*q**2*rp**3 - 56*p_pair*q**2*rp**2 + 38*p_pair*q**2*rp - 8*p_pair*q**2 - 12*p_pair*q*rp**3 + 32*p_pair*q*rp**2 - 21*p_pair*q*rp + 4*p_pair*q + 24*q**2*rp**3 - 56*q**2*rp**2 + 38*q**2*rp - 8*q**2 - 36*q*rp**3 + 96*q*rp**2 - 63*q*rp + 12*q + 12*rp**3 - 36*rp**2 + 24*rp)/24 - (pmp)*t*(qp - 1)*(2*p_pair**2*qp**3*r**2 - 2*p_pair**2*qp**3*r + p_pair**2*qp**3 + 8*p_pair*qp**3*r**2 - 8*p_pair*qp**3*r + 2*p_pair*qp**3 - 14*p_pair*qp**2*r**2 + 20*p_pair*qp**2*r - 7*p_pair*qp**2 + 4*p_pair*qp*r**2 - 4*p_pair*qp*r + p_pair*qp + 10*qp**3*r**2 - 10*qp**3*r + 3*qp**3 - 22*qp**2*r**2 + 32*qp**2*r - 11*qp**2 + 18*qp*r**2 - 26*qp*r + 11*qp - 4*r**2 + 4*r)/12 - (ppc)*t*(8*p_pair*q**2*r**2 - 8*p_pair*q**2*r + 2*p_pair*q**2 - 4*p_pair*q*r**2 + 4*p_pair*q*r - p_pair*q + 8*q**2*r**2 - 8*q**2*r + 2*q**2 - 12*q*r**2 + 12*q*r - 3*q + 4*r**2 - 4*r)/12 + ((pdm)*t + (pmp)*t + (ppc)*t - 1)*(8*p_pair*q**2*r**2 - 8*p_pair*q**2*r + 2*p_pair*q**2 - 4*p_pair*q*r**2 + 4*p_pair*q*r - p_pair*q + 8*q**2*r**2 - 8*q**2*r + 2*q**2 - 12*q*r**2 + 12*q*r - 3*q + 4*r**2 - 4*r)/6,\n",
    "   -(pdm)*t*(rp - 1)*(6*q*rp**2 - 11*q*rp + 4*q - 3*rp**2 + 6*rp)*(2*p_pair*q*rp - p_pair*q + 2*q*rp - q - 2*rp + 2)/32 - (pmp)*t*(qp - 1)*(4*p_pair**2*qp**3*r**2 - 4*p_pair**2*qp**3*r + p_pair**2*qp**3 + 8*p_pair*qp**3*r**2 - 8*p_pair*qp**3*r + 2*p_pair*qp**3 - 16*p_pair*qp**2*r**2 + 22*p_pair*qp**2*r - 7*p_pair*qp**2 + 4*p_pair*qp*r**2 - 2*p_pair*qp*r + 12*qp**3*r**2 - 12*qp**3*r + 3*qp**3 - 24*qp**2*r**2 + 34*qp**2*r - 11*qp**2 + 18*qp*r**2 - 28*qp*r + 12*qp - 4*r**2 + 4*r)/32 + (ppc)*t*(-2*q*r + q + r)*(2*p_pair*q*r - p_pair*q + 2*q*r - q - 2*r + 2)/16 - (-2*q*r + q + r)*((pdm)*t + (pmp)*t + (ppc)*t - 1)*(4*p_pair*q*r - 2*p_pair*q + 2*q*r - q - 3*r + 3)/12]],\n",
    " [23,\n",
    "  [0,\n",
    "   t*((pdm)*rp*(12*p_pair*q**2*rp**3 - 8*p_pair*q**2*rp**2 - p_pair*q**2*rp + p_pair*q**2 - 6*p_pair*q*rp**3 + 3*p_pair*q*rp**2 + 2*p_pair*q*rp - p_pair*q + 12*q**2*rp**3 - 8*q**2*rp**2 - q**2*rp + q**2 - 18*q*rp**3 + 9*q*rp**2 + 6*q*rp - 3*q + 6*rp**3 - 2*rp**2 - 2*rp + 2) + (pmp)*(2*p_pair**2*qp**4*r**2 - 2*p_pair**2*qp**4*r + p_pair**2*qp**4 - 4*p_pair**2*qp**3*r**2 + 4*p_pair**2*qp**3*r - 2*p_pair**2*qp**3 + 2*p_pair**2*qp**2*r**2 - 2*p_pair**2*qp**2*r + p_pair**2*qp**2 + 8*p_pair*qp**4*r**2 - 8*p_pair*qp**4*r + 2*p_pair*qp**4 - 6*p_pair*qp**3*r**2 + p_pair*qp**3 + 4*p_pair*qp**2*r**2 + 4*p_pair*qp**2*r - 2*p_pair*qp**2 - 2*p_pair*qp*r**2 - 2*p_pair*qp*r + p_pair*qp + 10*qp**4*r**2 - 10*qp**4*r + 3*qp**4 - 18*qp**3*r**2 + 8*qp**3*r - qp**3 + 12*qp**2*r**2 + 4*qp**2*r - qp**2 - 6*qp*r**2 - 6*qp*r + qp + 2*r**2 + 2*r) + (ppc)*(4*p_pair**4*q**2*r**2*vp**2 - 4*p_pair**4*q**2*r*vp**2 + 2*p_pair**4*q**2*vp**2 - 4*p_pair**3*q**2*r**2*vp + 4*p_pair**3*q**2*r*vp - 2*p_pair**3*q**2*vp - 4*p_pair**3*q*r**2*vp**2 + 2*p_pair**2*q**2*r**2 - 2*p_pair**2*q**2*r + p_pair**2*q**2 + 4*p_pair**2*q*r**2*vp + 2*p_pair**2*r**2*vp**2 - 2*p_pair*q*r**2 - 2*p_pair*q*r + p_pair*q - 2*p_pair*r**2*vp + 4*q**2*r**2*vp**2 - 4*q**2*r**2*vp + 2*q**2*r**2 - 4*q**2*r*vp**2 + 4*q**2*r*vp - 2*q**2*r + 2*q**2*vp**2 - 2*q**2*vp + q**2 - 4*q*r**2*vp**2 + 4*q*r**2*vp - 2*q*r**2 - 2*q*r + q + 2*r**2*vp**2 - 2*r**2*vp + 2*r**2 + 2*r))/16,\n",
    "   t*((pdm)*rp*(12*p_pair*q**2*rp**3 - 8*p_pair*q**2*rp**2 - p_pair*q**2*rp + p_pair*q**2 - 6*p_pair*q*rp**3 + 3*p_pair*q*rp**2 + 2*p_pair*q*rp - p_pair*q + 12*q**2*rp**3 - 8*q**2*rp**2 - q**2*rp + q**2 - 18*q*rp**3 + 9*q*rp**2 + 6*q*rp - 3*q + 6*rp**3 - 2*rp**2 - 2*rp + 2) + (pmp)*(2*p_pair**2*qp**4*r**2 - 2*p_pair**2*qp**4*r + p_pair**2*qp**4 - 4*p_pair**2*qp**3*r**2 + 4*p_pair**2*qp**3*r - 2*p_pair**2*qp**3 + 2*p_pair**2*qp**2*r**2 - 2*p_pair**2*qp**2*r + p_pair**2*qp**2 + 8*p_pair*qp**4*r**2 - 8*p_pair*qp**4*r + 2*p_pair*qp**4 - 6*p_pair*qp**3*r**2 + p_pair*qp**3 + 4*p_pair*qp**2*r**2 + 4*p_pair*qp**2*r - 2*p_pair*qp**2 - 2*p_pair*qp*r**2 - 2*p_pair*qp*r + p_pair*qp + 10*qp**4*r**2 - 10*qp**4*r + 3*qp**4 - 18*qp**3*r**2 + 8*qp**3*r - qp**3 + 12*qp**2*r**2 + 4*qp**2*r - qp**2 - 6*qp*r**2 - 6*qp*r + qp + 2*r**2 + 2*r) + (ppc)*(4*p_pair**4*q**2*r**2*vp**2 - 4*p_pair**4*q**2*r*vp**2 + 2*p_pair**4*q**2*vp**2 - 4*p_pair**3*q**2*r**2*vp + 4*p_pair**3*q**2*r*vp - 2*p_pair**3*q**2*vp - 4*p_pair**3*q*r**2*vp**2 + 2*p_pair**2*q**2*r**2 - 2*p_pair**2*q**2*r + p_pair**2*q**2 + 4*p_pair**2*q*r**2*vp + 2*p_pair**2*r**2*vp**2 - 2*p_pair*q*r**2 - 2*p_pair*q*r + p_pair*q - 2*p_pair*r**2*vp + 4*q**2*r**2*vp**2 - 4*q**2*r**2*vp + 2*q**2*r**2 - 4*q**2*r*vp**2 + 4*q**2*r*vp - 2*q**2*r + 2*q**2*vp**2 - 2*q**2*vp + q**2 - 4*q*r**2*vp**2 + 4*q*r**2*vp - 2*q*r**2 - 2*q*r + q + 2*r**2*vp**2 - 2*r**2*vp + 2*r**2 + 2*r))/12,\n",
    "   t*((pdm)*rp*(12*p_pair*q**2*rp**3 - 8*p_pair*q**2*rp**2 - p_pair*q**2*rp + p_pair*q**2 - 6*p_pair*q*rp**3 + 3*p_pair*q*rp**2 + 2*p_pair*q*rp - p_pair*q + 12*q**2*rp**3 - 8*q**2*rp**2 - q**2*rp + q**2 - 18*q*rp**3 + 9*q*rp**2 + 6*q*rp - 3*q + 6*rp**3 - 2*rp**2 - 2*rp + 2) + (pmp)*(4*p_pair**2*qp**4*r**2 - 4*p_pair**2*qp**4*r + p_pair**2*qp**4 - 8*p_pair**2*qp**3*r**2 + 8*p_pair**2*qp**3*r - 2*p_pair**2*qp**3 + 4*p_pair**2*qp**2*r**2 - 4*p_pair**2*qp**2*r + p_pair**2*qp**2 + 8*p_pair*qp**4*r**2 - 8*p_pair*qp**4*r + 2*p_pair*qp**4 - 8*p_pair*qp**3*r**2 + 2*p_pair*qp**3*r + p_pair*qp**3 + 8*p_pair*qp**2*r**2 - 2*p_pair*qp**2 - 4*p_pair*qp*r**2 + p_pair*qp + 12*qp**4*r**2 - 12*qp**4*r + 3*qp**4 - 24*qp**3*r**2 + 14*qp**3*r - qp**3 + 18*qp**2*r**2 - 2*qp**2*r - qp**2 - 8*qp*r**2 - 4*qp*r + qp + 2*r**2 + 2*r) + (ppc)*(8*p_pair**4*q**2*r**2*vp**2 - 8*p_pair**4*q**2*r*vp**2 + 2*p_pair**4*q**2*vp**2 - 8*p_pair**3*q**2*r**2*vp + 8*p_pair**3*q**2*r*vp - 2*p_pair**3*q**2*vp - 8*p_pair**3*q*r**2*vp**2 + 4*p_pair**3*q*r*vp**2 + 4*p_pair**2*q**2*r**2 - 4*p_pair**2*q**2*r + p_pair**2*q**2 + 8*p_pair**2*q*r**2*vp - 4*p_pair**2*q*r*vp + 2*p_pair**2*r**2*vp**2 - 4*p_pair*q*r**2 + p_pair*q - 2*p_pair*r**2*vp + 8*q**2*r**2*vp**2 - 8*q**2*r**2*vp + 4*q**2*r**2 - 8*q**2*r*vp**2 + 8*q**2*r*vp - 4*q**2*r + 2*q**2*vp**2 - 2*q**2*vp + q**2 - 8*q*r**2*vp**2 + 8*q*r**2*vp - 4*q*r**2 + 4*q*r*vp**2 - 4*q*r*vp + q + 2*r**2*vp**2 - 2*r**2*vp + 2*r**2 + 2*r))/32]],\n",
    " [24,\n",
    "  [0,\n",
    "   -t*((pdm)*rp*(12*p_pair*q**2*rp**3 - 8*p_pair*q**2*rp**2 - p_pair*q**2*rp + p_pair*q**2 - 6*p_pair*q*rp**3 + 3*p_pair*q*rp**2 + 2*p_pair*q*rp - p_pair*q + 12*q**2*rp**3 - 8*q**2*rp**2 - q**2*rp + q**2 - 18*q*rp**3 + 5*q*rp**2 + 12*q*rp - 5*q + 6*rp**3 - 6*rp) + (pmp)*qp*(2*p_pair**2*qp**3*r**2 - 2*p_pair**2*qp**3*r + p_pair**2*qp**3 - 2*p_pair**2*qp**2*r**2 + 2*p_pair**2*qp**2*r - p_pair**2*qp**2 + 8*p_pair*qp**3*r**2 - 8*p_pair*qp**3*r + 2*p_pair*qp**3 - 6*p_pair*qp**2*r**2 + p_pair*qp**2 + 2*p_pair*qp*r**2 + 6*p_pair*qp*r - 3*p_pair*qp + 10*qp**3*r**2 - 10*qp**3*r + 3*qp**3 - 16*qp**2*r**2 + 6*qp**2*r + 8*qp*r**2 + 8*qp*r - 3*qp - 2*r**2 - 6*r))/16,\n",
    "   -t*((pdm)*rp*(24*p_pair*q**2*rp**3 - 16*p_pair*q**2*rp**2 - 2*p_pair*q**2*rp + 2*p_pair*q**2 - 12*p_pair*q*rp**3 + 4*p_pair*q*rp**2 + 7*p_pair*q*rp - 3*p_pair*q + 24*q**2*rp**3 - 16*q**2*rp**2 - 2*q**2*rp + 2*q**2 - 36*q*rp**3 + 12*q*rp**2 + 21*q*rp - 9*q + 12*rp**3 - 12*rp) + 2*(pmp)*qp*(2*p_pair**2*qp**3*r**2 - 2*p_pair**2*qp**3*r + p_pair**2*qp**3 - 2*p_pair**2*qp**2*r**2 + 2*p_pair**2*qp**2*r - p_pair**2*qp**2 + 8*p_pair*qp**3*r**2 - 8*p_pair*qp**3*r + 2*p_pair*qp**3 - 6*p_pair*qp**2*r**2 + p_pair*qp**2 + 2*p_pair*qp*r**2 + 4*p_pair*qp*r - 2*p_pair*qp + 10*qp**3*r**2 - 10*qp**3*r + 3*qp**3 - 16*qp**2*r**2 + 6*qp**2*r + 8*qp*r**2 + 10*qp*r - 4*qp - 2*r**2 - 6*r))/24,\n",
    "   -t*((pdm)*rp*(12*p_pair*q**2*rp**3 - 8*p_pair*q**2*rp**2 - p_pair*q**2*rp + p_pair*q**2 - 6*p_pair*q*rp**3 + 3*p_pair*q*rp**2 + 2*p_pair*q*rp - p_pair*q + 12*q**2*rp**3 - 8*q**2*rp**2 - q**2*rp + q**2 - 18*q*rp**3 + 5*q*rp**2 + 12*q*rp - 5*q + 6*rp**3 - 6*rp) + (pmp)*qp*(4*p_pair**2*qp**3*r**2 - 4*p_pair**2*qp**3*r + p_pair**2*qp**3 - 4*p_pair**2*qp**2*r**2 + 4*p_pair**2*qp**2*r - p_pair**2*qp**2 + 8*p_pair*qp**3*r**2 - 8*p_pair*qp**3*r + 2*p_pair*qp**3 - 8*p_pair*qp**2*r**2 + 2*p_pair*qp**2*r + p_pair*qp**2 + 4*p_pair*qp*r**2 + 4*p_pair*qp*r - 3*p_pair*qp + 12*qp**3*r**2 - 12*qp**3*r + 3*qp**3 - 20*qp**2*r**2 + 10*qp**2*r + 10*qp*r**2 + 6*qp*r - 3*qp - 2*r**2 - 6*r))/32]],\n",
    " [25,\n",
    "  [0,\n",
    "   (pdm)*t*(12*p_pair*q**2*rp**4 - 24*p_pair*q**2*rp**3 + 23*p_pair*q**2*rp**2 - 11*p_pair*q**2*rp + 2*p_pair*q**2 - 6*p_pair*q*rp**4 + 11*p_pair*q*rp**3 - 8*p_pair*q*rp**2 + 2*p_pair*q*rp + 12*q**2*rp**4 - 24*q**2*rp**3 + 23*q**2*rp**2 - 11*q**2*rp + 2*q**2 - 18*q*rp**4 + 33*q*rp**3 - 24*q*rp**2 + 6*q*rp + 6*rp**4 - 10*rp**3 + 6*rp**2)/8 + (pmp)*t*(2*p_pair**2*qp**4*r**2 - 2*p_pair**2*qp**4*r + p_pair**2*qp**4 + 8*p_pair*qp**4*r**2 - 8*p_pair*qp**4*r + 2*p_pair*qp**4 - 14*p_pair*qp**3*r**2 + 14*p_pair*qp**3*r - 4*p_pair*qp**3 + 8*p_pair*qp**2*r**2 - 6*p_pair*qp**2*r + p_pair*qp**2 - 2*p_pair*qp*r**2 + p_pair*qp*r + 10*qp**4*r**2 - 10*qp**4*r + 3*qp**4 - 22*qp**3*r**2 + 22*qp**3*r - 6*qp**3 + 22*qp**2*r**2 - 16*qp**2*r + 5*qp**2 - 10*qp*r**2 + 3*qp*r + 2*r**2)/8 + (ppc)*t*(-2*q*r + q + r)*(-2*p_pair*q*r + p_pair*q - 2*q*r + q + 2*r)/8 - (-2*q*r + q + r)*((pdm)*t + (pmp)*t + (ppc)*t - 1)*(-4*p_pair*q*r + 2*p_pair*q - 2*q*r + q + 3*r)/6,\n",
    "   (pdm)*t*(12*p_pair*q**2*rp**4 - 24*p_pair*q**2*rp**3 + 23*p_pair*q**2*rp**2 - 11*p_pair*q**2*rp + 2*p_pair*q**2 - 6*p_pair*q*rp**4 + 11*p_pair*q*rp**3 - 8*p_pair*q*rp**2 + 2*p_pair*q*rp + 12*q**2*rp**4 - 24*q**2*rp**3 + 23*q**2*rp**2 - 11*q**2*rp + 2*q**2 - 18*q*rp**4 + 33*q*rp**3 - 24*q*rp**2 + 6*q*rp + 6*rp**4 - 10*rp**3 + 6*rp**2)/6 + (pmp)*t*(2*p_pair**2*qp**4*r**2 - 2*p_pair**2*qp**4*r + p_pair**2*qp**4 + 8*p_pair*qp**4*r**2 - 8*p_pair*qp**4*r + 2*p_pair*qp**4 - 14*p_pair*qp**3*r**2 + 14*p_pair*qp**3*r - 4*p_pair*qp**3 + 8*p_pair*qp**2*r**2 - 6*p_pair*qp**2*r + p_pair*qp**2 - 2*p_pair*qp*r**2 + p_pair*qp*r + 10*qp**4*r**2 - 10*qp**4*r + 3*qp**4 - 22*qp**3*r**2 + 22*qp**3*r - 6*qp**3 + 22*qp**2*r**2 - 16*qp**2*r + 5*qp**2 - 10*qp*r**2 + 3*qp*r + 2*r**2)/6 + (ppc)*t*(-2*q*r + q + r)*(-2*p_pair*q*r + p_pair*q - 2*q*r + q + 2*r)/6 - (-2*q*r + q + r)*((pdm)*t + (pmp)*t + (ppc)*t - 1)*(-2*p_pair*q*r + p_pair*q - 2*q*r + q + 2*r)/3,\n",
    "   (pdm)*t*(12*p_pair*q**2*rp**4 - 24*p_pair*q**2*rp**3 + 23*p_pair*q**2*rp**2 - 11*p_pair*q**2*rp + 2*p_pair*q**2 - 6*p_pair*q*rp**4 + 11*p_pair*q*rp**3 - 8*p_pair*q*rp**2 + 2*p_pair*q*rp + 12*q**2*rp**4 - 24*q**2*rp**3 + 23*q**2*rp**2 - 11*q**2*rp + 2*q**2 - 18*q*rp**4 + 33*q*rp**3 - 24*q*rp**2 + 6*q*rp + 6*rp**4 - 10*rp**3 + 6*rp**2)/16 + (pmp)*t*(4*p_pair**2*qp**4*r**2 - 4*p_pair**2*qp**4*r + p_pair**2*qp**4 + 8*p_pair*qp**4*r**2 - 8*p_pair*qp**4*r + 2*p_pair*qp**4 - 16*p_pair*qp**3*r**2 + 16*p_pair*qp**3*r - 4*p_pair*qp**3 + 8*p_pair*qp**2*r**2 - 6*p_pair*qp**2*r + p_pair*qp**2 - 2*p_pair*qp*r**2 + p_pair*qp*r + 12*qp**4*r**2 - 12*qp**4*r + 3*qp**4 - 24*qp**3*r**2 + 24*qp**3*r - 6*qp**3 + 22*qp**2*r**2 - 16*qp**2*r + 5*qp**2 - 10*qp*r**2 + 3*qp*r + 2*r**2)/16 + (ppc)*t*(-2*q*r + q + r)*(-2*p_pair*q*r + p_pair*q - 2*q*r + q + 2*r)/16 - (-2*q*r + q + r)*((pdm)*t + (pmp)*t + (ppc)*t - 1)*(-4*p_pair*q*r + 2*p_pair*q - 2*q*r + q + 3*r)/12]],\n",
    " [26,\n",
    "  [0,\n",
    "   (ppc)*t*vp*(-2*p_pair**4*q**2*r**2*vp + 2*p_pair**4*q**2*r*vp - p_pair**4*q**2*vp + 2*p_pair**3*q**2*r**2 - 2*p_pair**3*q**2*r + p_pair**3*q**2 + 2*p_pair**3*q*r**2*vp - 4*p_pair**3*q*r*vp + 2*p_pair**3*q*vp - 2*p_pair**2*q*r**2 + 4*p_pair**2*q*r - 2*p_pair**2*q - p_pair**2*r**2*vp + 2*p_pair**2*r*vp - p_pair**2*vp + p_pair*r**2 - 2*p_pair*r + p_pair - 2*q**2*r**2*vp + 2*q**2*r**2 + 2*q**2*r*vp - 2*q**2*r - q**2*vp + q**2 + 2*q*r**2*vp - 2*q*r**2 - 4*q*r*vp + 4*q*r + 2*q*vp - 2*q - r**2*vp + r**2 + 2*r*vp - 2*r - vp + 1)/16,\n",
    "   (ppc)*t*vp*(-2*p_pair**4*q**2*r**2*vp + 2*p_pair**4*q**2*r*vp - p_pair**4*q**2*vp + 2*p_pair**3*q**2*r**2 - 2*p_pair**3*q**2*r + p_pair**3*q**2 + 2*p_pair**3*q*r**2*vp - 4*p_pair**3*q*r*vp + 2*p_pair**3*q*vp - 2*p_pair**2*q*r**2 + 4*p_pair**2*q*r - 2*p_pair**2*q - p_pair**2*r**2*vp + 2*p_pair**2*r*vp - p_pair**2*vp + p_pair*r**2 - 2*p_pair*r + p_pair - 6*q**2*r**2*vp + 6*q**2*r**2 + 6*q**2*r*vp - 6*q**2*r - 2*q**2*vp + 2*q**2 + 6*q*r**2*vp - 6*q*r**2 - 10*q*r*vp + 10*q*r + 4*q*vp - 4*q - 2*r**2*vp + 2*r**2 + 4*r*vp - 4*r - 2*vp + 2)/12,\n",
    "   0]],\n",
    " [27,\n",
    "  [0,\n",
    "   (ppc)*t*vp*(-2*p_pair**4*q**2*r**2*vp + 2*p_pair**4*q**2*r*vp - p_pair**4*q**2*vp + 2*p_pair**3*q**2*r**2 - 2*p_pair**3*q**2*r + p_pair**3*q**2 + 2*p_pair**3*q*r**2*vp - 2*p_pair**2*q*r**2 - p_pair**2*r**2*vp + p_pair*r**2 - 2*q**2*r**2*vp + 2*q**2*r**2 + 2*q**2*r*vp - 2*q**2*r - q**2*vp + q**2 + 2*q*r**2*vp - 2*q*r**2 - r**2*vp + r**2)/16,\n",
    "   (ppc)*t*vp*(-2*p_pair**4*q**2*r**2*vp + 2*p_pair**4*q**2*r*vp - p_pair**4*q**2*vp + 2*p_pair**3*q**2*r**2 - 2*p_pair**3*q**2*r + p_pair**3*q**2 + 2*p_pair**3*q*r**2*vp - 2*p_pair**2*q*r**2 - p_pair**2*r**2*vp + p_pair*r**2 - 6*q**2*r**2*vp + 6*q**2*r**2 + 6*q**2*r*vp - 6*q**2*r - 2*q**2*vp + 2*q**2 + 6*q*r**2*vp - 6*q*r**2 - 2*q*r*vp + 2*q*r - 2*r**2*vp + 2*r**2)/12,\n",
    "   0]],\n",
    " [28,\n",
    "  [0,\n",
    "   (ppc)*r*t*vp*(r - 1)*(2*p_pair**4*q**2*vp - 2*p_pair**3*q**2 - 2*p_pair**3*q*vp + 2*p_pair**2*q + p_pair**2*vp - p_pair + 2*q**2*vp - 2*q**2 - 2*q*vp + 2*q + vp - 1)/8,\n",
    "   (ppc)*t*vp*(2*p_pair**4*q**2*r**2*vp - 2*p_pair**4*q**2*r*vp - 2*p_pair**3*q**2*r**2 + 2*p_pair**3*q**2*r - 2*p_pair**3*q*r**2*vp + 2*p_pair**3*q*r*vp + 2*p_pair**2*q*r**2 - 2*p_pair**2*q*r + p_pair**2*r**2*vp - p_pair**2*r*vp - p_pair*r**2 + p_pair*r + 6*q**2*r**2*vp - 6*q**2*r**2 - 6*q**2*r*vp + 6*q**2*r + q**2*vp - q**2 - 6*q*r**2*vp + 6*q*r**2 + 6*q*r*vp - 6*q*r - q*vp + q + 2*r**2*vp - 2*r**2 - 2*r*vp + 2*r)/6,\n",
    "   0]],\n",
    " [29, [0, 0, 0, 0]],\n",
    " [30,\n",
    "  [0,\n",
    "   t*((pmp)*qp*(qp - 1)*(p_pair**2*qp - p_pair + qp - 1) - (ppc)*q*(2*p_pair**4*q*vp**2 - 2*p_pair**3*q*vp - 2*p_pair**3*vp**2 + p_pair**2*q + 2*p_pair**2*vp - p_pair + 2*q*vp**2 - 2*q*vp + q - 2*vp**2 + 2*vp - 1))*(2*r**2 - 2*r + 1)/16,\n",
    "   t*(-(pdm)*rp*(rp - 1)*(2*p_pair*q*rp - p_pair*q + 2*q*rp - q - 2*rp + 2) + 2*(pmp)*(qp - 1)*(2*p_pair**2*qp**2*r**2 - 2*p_pair**2*qp**2*r + p_pair**2*qp**2 - 2*p_pair*qp*r**2 + 2*p_pair*qp*r - p_pair*qp + 6*qp**2*r**2 - 6*qp**2*r + 2*qp**2 - 6*qp*r**2 + 6*qp*r - 2*qp + r**2 - r) - 2*(ppc)*(4*p_pair**4*q**2*r**2*vp**2 - 4*p_pair**4*q**2*r*vp**2 + 2*p_pair**4*q**2*vp**2 - 4*p_pair**3*q**2*r**2*vp + 4*p_pair**3*q**2*r*vp - 2*p_pair**3*q**2*vp - 4*p_pair**3*q*r**2*vp**2 + 4*p_pair**3*q*r*vp**2 - 2*p_pair**3*q*vp**2 + 2*p_pair**2*q**2*r**2 - 2*p_pair**2*q**2*r + p_pair**2*q**2 + 4*p_pair**2*q*r**2*vp - 4*p_pair**2*q*r*vp + 2*p_pair**2*q*vp - 2*p_pair*q*r**2 + 2*p_pair*q*r - p_pair*q + 12*q**2*r**2*vp**2 - 12*q**2*r**2*vp + 6*q**2*r**2 - 12*q**2*r*vp**2 + 12*q**2*r*vp - 6*q**2*r + 4*q**2*vp**2 - 4*q**2*vp + 2*q**2 - 12*q*r**2*vp**2 + 12*q*r**2*vp - 6*q*r**2 + 12*q*r*vp**2 - 12*q*r*vp + 6*q*r - 4*q*vp**2 + 4*q*vp - 2*q + 2*r**2*vp**2 - 2*r**2*vp + r**2 - 2*r*vp**2 + 2*r*vp - r))/24,\n",
    "   0]],\n",
    " [31,\n",
    "  [0,\n",
    "   -(pmp)*qp**2*t*(2*r**2 - 2*r + 1)*(p_pair**2*qp - p_pair + qp - 1)/16,\n",
    "   -t*((pdm)*rp*(rp - 1)*(-2*p_pair*q*rp + p_pair*q - 2*q*rp + q + 2*rp) + 2*(pmp)*qp*(2*p_pair**2*qp**2*r**2 - 2*p_pair**2*qp**2*r + p_pair**2*qp**2 - 2*p_pair*qp*r**2 + 2*p_pair*qp*r - p_pair*qp + 6*qp**2*r**2 - 6*qp**2*r + 2*qp**2 - 6*qp*r**2 + 6*qp*r - 2*qp + r**2 - r))/24,\n",
    "   0]],\n",
    " [32,\n",
    "  [0,\n",
    "   r*t*(r - 1)*((pmp)*qp*(qp - 1)**2*(p_pair**2*qp - p_pair + qp - 1) + (ppc)*q*(2*p_pair**4*q*vp**2 - 2*p_pair**3*q*vp - 2*p_pair**3*vp**2 + p_pair**2*q + 2*p_pair**2*vp - p_pair + 2*q*vp**2 - 2*q*vp + q - 2*vp**2 + 2*vp - 1))/16,\n",
    "   (pdm)*t*(rp - 1)*(3*rp - 4)*(2*q*rp - q - rp + 1)*(2*p_pair*q*rp - p_pair*q - rp + 1)/24 + (pmp)*t*(qp - 1)**2*(2*p_pair**2*qp**2*r**2 - 2*p_pair**2*qp**2*r + 8*p_pair*qp**2*r**2 - 8*p_pair*qp**2*r + 2*p_pair*qp**2 - 6*p_pair*qp*r**2 + 8*p_pair*qp*r - 2*p_pair*qp + 6*qp**2*r**2 - 6*qp**2*r + qp**2 - 10*qp*r**2 + 16*qp*r - 5*qp + 3*r**2 - 7*r + 4)/24 + (ppc)*t*(4*p_pair**4*q**2*r**2*vp**2 - 4*p_pair**4*q**2*r*vp**2 - 4*p_pair**3*q**2*r**2*vp + 4*p_pair**3*q**2*r*vp - 4*p_pair**3*q*r**2*vp**2 + 4*p_pair**3*q*r*vp**2 + 2*p_pair**2*q**2*r**2 - 2*p_pair**2*q**2*r + 4*p_pair**2*q*r**2*vp - 4*p_pair**2*q*r*vp + 8*p_pair*q**2*r**2 - 8*p_pair*q**2*r + 2*p_pair*q**2 - 6*p_pair*q*r**2 + 8*p_pair*q*r - 2*p_pair*q + 12*q**2*r**2*vp**2 - 12*q**2*r**2*vp + 6*q**2*r**2 - 12*q**2*r*vp**2 + 12*q**2*r*vp - 6*q**2*r + 2*q**2*vp**2 - 2*q**2*vp + q**2 - 12*q*r**2*vp**2 + 12*q*r**2*vp - 10*q*r**2 + 16*q*r*vp**2 - 16*q*r*vp + 16*q*r - 4*q*vp**2 + 4*q*vp - 5*q + 2*r**2*vp**2 - 2*r**2*vp + 3*r**2 - 4*r*vp**2 + 4*r*vp - 7*r + 2*vp**2 - 2*vp + 4)/24 - ((pdm)*t + (pmp)*t + (ppc)*t - 1)*(2*q*r - q - r + 1)*(2*p_pair*q*r - p_pair*q - r + 1)/6,\n",
    "   0]],\n",
    " [33,\n",
    "  [0,\n",
    "   -(pmp)*qp**2*r*t*(qp - 1)*(r - 1)*(p_pair**2*qp - p_pair + qp - 1)/8,\n",
    "   -(pdm)*t*(rp - 1)*(24*p_pair*q**2*rp**3 - 56*p_pair*q**2*rp**2 + 38*p_pair*q**2*rp - 8*p_pair*q**2 - 12*p_pair*q*rp**3 + 32*p_pair*q*rp**2 - 21*p_pair*q*rp + 4*p_pair*q - 12*q*rp**3 + 32*q*rp**2 - 21*q*rp + 4*q + 6*rp**3 - 18*rp**2 + 12*rp)/24 - (pmp)*t*(qp - 1)*(2*p_pair**2*qp**3*r**2 - 2*p_pair**2*qp**3*r + 8*p_pair*qp**3*r**2 - 8*p_pair*qp**3*r + 2*p_pair*qp**3 - 14*p_pair*qp**2*r**2 + 16*p_pair*qp**2*r - 4*p_pair*qp**2 + 4*p_pair*qp*r**2 - 4*p_pair*qp*r + p_pair*qp + 6*qp**3*r**2 - 6*qp**3*r + qp**3 - 10*qp**2*r**2 + 16*qp**2*r - 5*qp**2 + 7*qp*r**2 - 11*qp*r + 5*qp - 2*r**2 + 2*r)/12 + (ppc)*t*(-8*p_pair*q**2*r**2 + 8*p_pair*q**2*r - 2*p_pair*q**2 + 4*p_pair*q*r**2 - 4*p_pair*q*r + p_pair*q + 4*q*r**2 - 4*q*r + q - 2*r**2 + 2*r)/12 - ((pdm)*t + (pmp)*t + (ppc)*t - 1)*(-8*p_pair*q**2*r**2 + 8*p_pair*q**2*r - 2*p_pair*q**2 + 4*p_pair*q*r**2 - 4*p_pair*q*r + p_pair*q + 4*q*r**2 - 4*q*r + q - 2*r**2 + 2*r)/6,\n",
    "   0]],\n",
    " [34,\n",
    "  [0,\n",
    "   r*t*(r - 1)*((pmp)*qp*(qp - 1)**2*(p_pair**2*qp - p_pair + qp - 1) + (ppc)*q*(2*p_pair**4*q*vp**2 - 2*p_pair**3*q*vp - 2*p_pair**3*vp**2 + p_pair**2*q + 2*p_pair**2*vp - p_pair + 2*q*vp**2 - 2*q*vp + q - 2*vp**2 + 2*vp - 1))/16,\n",
    "   t*((pdm)*rp*(12*p_pair*q**2*rp**3 - 8*p_pair*q**2*rp**2 - p_pair*q**2*rp + p_pair*q**2 - 6*p_pair*q*rp**3 + 3*p_pair*q*rp**2 + 2*p_pair*q*rp - p_pair*q - 6*q*rp**3 + 3*q*rp**2 + 2*q*rp - q + 3*rp**3 - rp**2 - rp + 1) + (pmp)*(2*p_pair**2*qp**4*r**2 - 2*p_pair**2*qp**4*r - 4*p_pair**2*qp**3*r**2 + 4*p_pair**2*qp**3*r + 2*p_pair**2*qp**2*r**2 - 2*p_pair**2*qp**2*r + 8*p_pair*qp**4*r**2 - 8*p_pair*qp**4*r + 2*p_pair*qp**4 - 6*p_pair*qp**3*r**2 + 4*p_pair*qp**3*r + 4*p_pair*qp**2*r**2 - 4*p_pair*qp**2*r - 2*p_pair*qp*r**2 + 2*p_pair*qp*r + 6*qp**4*r**2 - 6*qp**4*r + qp**4 - 22*qp**3*r**2 + 16*qp**3*r - qp**3 + 21*qp**2*r**2 - 9*qp**2*r - qp**2 - 8*qp*r**2 + qp + r**2 + r) + (ppc)*(4*p_pair**4*q**2*r**2*vp**2 - 4*p_pair**4*q**2*r*vp**2 - 4*p_pair**3*q**2*r**2*vp + 4*p_pair**3*q**2*r*vp - 4*p_pair**3*q*r**2*vp**2 + 4*p_pair**3*q*r*vp**2 + 2*p_pair**2*q**2*r**2 - 2*p_pair**2*q**2*r + 4*p_pair**2*q*r**2*vp - 4*p_pair**2*q*r*vp - 2*p_pair*q*r**2 + 2*p_pair*q*r + 12*q**2*r**2*vp**2 - 12*q**2*r**2*vp + 6*q**2*r**2 - 12*q**2*r*vp**2 + 12*q**2*r*vp - 6*q**2*r + 2*q**2*vp**2 - 2*q**2*vp + q**2 - 12*q*r**2*vp**2 + 12*q*r**2*vp - 6*q*r**2 + 8*q*r*vp**2 - 8*q*r*vp + 2*q*r + q + 2*r**2*vp**2 - 2*r**2*vp + r**2 + r))/24,\n",
    "   0]],\n",
    " [35,\n",
    "  [0,\n",
    "   -(pmp)*qp**2*r*t*(qp - 1)*(r - 1)*(p_pair**2*qp - p_pair + qp - 1)/8,\n",
    "   -t*((pdm)*rp*(24*p_pair*q**2*rp**3 - 16*p_pair*q**2*rp**2 - 2*p_pair*q**2*rp + 2*p_pair*q**2 - 12*p_pair*q*rp**3 + 4*p_pair*q*rp**2 + 7*p_pair*q*rp - 3*p_pair*q - 12*q*rp**3 + 4*q*rp**2 + 7*q*rp - 3*q + 6*rp**3 - 6*rp) + 2*(pmp)*qp*(2*p_pair**2*qp**3*r**2 - 2*p_pair**2*qp**3*r - 2*p_pair**2*qp**2*r**2 + 2*p_pair**2*qp**2*r + 8*p_pair*qp**3*r**2 - 8*p_pair*qp**3*r + 2*p_pair*qp**3 - 6*p_pair*qp**2*r**2 + 4*p_pair*qp**2*r + 2*p_pair*qp*r**2 - p_pair*qp + 6*qp**3*r**2 - 6*qp**3*r + qp**3 - 16*qp**2*r**2 + 10*qp**2*r + 9*qp*r**2 + qp*r - 2*qp - r**2 - 3*r))/24,\n",
    "   0]],\n",
    " [36,\n",
    "  [0,\n",
    "   (pmp)*qp**3*r*t*(r - 1)*(p_pair**2*qp - p_pair + qp - 1)/8,\n",
    "   (pdm)*t*(12*p_pair*q**2*rp**4 - 24*p_pair*q**2*rp**3 + 23*p_pair*q**2*rp**2 - 11*p_pair*q**2*rp + 2*p_pair*q**2 - 6*p_pair*q*rp**4 + 11*p_pair*q*rp**3 - 8*p_pair*q*rp**2 + 2*p_pair*q*rp - 6*q*rp**4 + 11*q*rp**3 - 8*q*rp**2 + 2*q*rp + 3*rp**4 - 5*rp**3 + 3*rp**2)/12 + (pmp)*t*(2*p_pair**2*qp**4*r**2 - 2*p_pair**2*qp**4*r + 8*p_pair*qp**4*r**2 - 8*p_pair*qp**4*r + 2*p_pair*qp**4 - 14*p_pair*qp**3*r**2 + 14*p_pair*qp**3*r - 3*p_pair*qp**3 + 8*p_pair*qp**2*r**2 - 6*p_pair*qp**2*r + p_pair*qp**2 - 2*p_pair*qp*r**2 + p_pair*qp*r + 6*qp**4*r**2 - 6*qp**4*r + qp**4 - 10*qp**3*r**2 + 10*qp**3*r - 2*qp**3 + 7*qp**2*r**2 - 5*qp**2*r + 2*qp**2 - 4*qp*r**2 + qp*r + r**2)/12 + (ppc)*t*(-2*q*r + q + r)*(-2*p_pair*q*r + p_pair*q + r)/12 - (-2*q*r + q + r)*(-2*p_pair*q*r + p_pair*q + r)*((pdm)*t + (pmp)*t + (ppc)*t - 1)/6,\n",
    "   0]]]"
   ]
  },
  {
   "cell_type": "markdown",
   "metadata": {},
   "source": [
    "A/a locus"
   ]
  },
  {
   "cell_type": "code",
   "execution_count": 155,
   "metadata": {
    "collapsed": true
   },
   "outputs": [],
   "source": [
    "lst = []\n",
    "\n",
    "for i in modes:\n",
    "    if i[0][0] == i[1][0]:\n",
    "        lst.append(i)"
   ]
  },
  {
   "cell_type": "code",
   "execution_count": 156,
   "metadata": {},
   "outputs": [
    {
     "data": {
      "text/plain": [
       "[[['i_m', G, 'i_m'], ['i_m', G, 'i_m']],\n",
       " [['i_m', G, 'j_m'], ['i_m', G, 'j_m']],\n",
       " [['i_m', G, 'i_m'], ['i_m', G, 'j_m']],\n",
       " [['i_m', G, 'j_m'], ['i_m', G, 'k_m']],\n",
       " [['i_m', G, 'i_m'], ['i_m', g, 'j_m']],\n",
       " [['i_m', g, 'i_m'], ['i_m', G, 'i_m']],\n",
       " [['i_m', g, 'j_m'], ['i_m', G, 'j_m']],\n",
       " [['i_m', g, 'i_m'], ['i_m', G, 'j_m']],\n",
       " [['i_m', g, 'j_m'], ['i_m', G, 'k_m']],\n",
       " [['i_m', g, 'i_m'], ['i_m', g, 'i_m']],\n",
       " [['i_m', g, 'j_m'], ['i_m', g, 'j_m']],\n",
       " [['i_m', g, 'i_m'], ['i_m', g, 'j_m']],\n",
       " [['i_m', g, 'j_m'], ['i_m', g, 'k_m']]]"
      ]
     },
     "execution_count": 156,
     "metadata": {},
     "output_type": "execute_result"
    }
   ],
   "source": [
    "lst"
   ]
  },
  {
   "cell_type": "markdown",
   "metadata": {},
   "source": [
    "Prob DR for GGGG genotype"
   ]
  },
  {
   "cell_type": "code",
   "execution_count": 157,
   "metadata": {
    "collapsed": true
   },
   "outputs": [],
   "source": [
    "prob_dr = 0\n",
    "\n",
    "for i in lst:\n",
    "    indx = modes.index(i)\n",
    "    prob_dr = prob_dr + prob[indx][1][0]"
   ]
  },
  {
   "cell_type": "code",
   "execution_count": 158,
   "metadata": {
    "scrolled": true
   },
   "outputs": [
    {
     "data": {
      "text/plain": [
       "-(ppc)*t*vp*(vp - 1)/2"
      ]
     },
     "execution_count": 158,
     "metadata": {},
     "output_type": "execute_result"
    }
   ],
   "source": [
    "sp.factor(prob_dr)"
   ]
  },
  {
   "cell_type": "code",
   "execution_count": 204,
   "metadata": {},
   "outputs": [
    {
     "data": {
      "text/plain": [
       "0.0416666666666667"
      ]
     },
     "execution_count": 204,
     "metadata": {},
     "output_type": "execute_result"
    }
   ],
   "source": [
    "(-(ppc)*t*vp*(vp - 1)/2).subs(ppc,1/2).subs(t,2/3).subs(vp,1/2).subs(p_pair,0)"
   ]
  },
  {
   "cell_type": "markdown",
   "metadata": {},
   "source": [
    "Prob DR for GGGg genotype"
   ]
  },
  {
   "cell_type": "code",
   "execution_count": 159,
   "metadata": {
    "collapsed": true
   },
   "outputs": [],
   "source": [
    "prob_dr = 0\n",
    "\n",
    "for i in lst:\n",
    "    indx = modes.index(i)\n",
    "    prob_dr = prob_dr + prob[indx][1][1]"
   ]
  },
  {
   "cell_type": "code",
   "execution_count": 160,
   "metadata": {},
   "outputs": [
    {
     "data": {
      "text/plain": [
       "-(ppc)*t*vp*(p_pair**2*vp - p_pair + 3*vp - 3)/8"
      ]
     },
     "execution_count": 160,
     "metadata": {},
     "output_type": "execute_result"
    }
   ],
   "source": [
    "sp.factor(prob_dr)"
   ]
  },
  {
   "cell_type": "code",
   "execution_count": 196,
   "metadata": {},
   "outputs": [
    {
     "data": {
      "text/plain": [
       "0.0312500000000000"
      ]
     },
     "execution_count": 196,
     "metadata": {},
     "output_type": "execute_result"
    }
   ],
   "source": [
    "(-(ppc)*t*vp*(p_pair**2*vp - p_pair + 3*vp - 3)/8).subs(ppc,1/2).subs(t,2/3).subs(vp,1/2).subs(p_pair,0)"
   ]
  },
  {
   "cell_type": "markdown",
   "metadata": {},
   "source": [
    "Prob DR for GGgg genotype"
   ]
  },
  {
   "cell_type": "code",
   "execution_count": 161,
   "metadata": {
    "collapsed": true
   },
   "outputs": [],
   "source": [
    "prob_dr = 0\n",
    "\n",
    "for i in lst:\n",
    "    indx = modes.index(i)\n",
    "    prob_dr = prob_dr + prob[indx][1][2]"
   ]
  },
  {
   "cell_type": "code",
   "execution_count": 162,
   "metadata": {},
   "outputs": [
    {
     "data": {
      "text/plain": [
       "-(ppc)*t*vp*(p_pair**2*vp - p_pair + 2*vp - 2)/6"
      ]
     },
     "execution_count": 162,
     "metadata": {},
     "output_type": "execute_result"
    }
   ],
   "source": [
    "sp.factor(prob_dr)"
   ]
  },
  {
   "cell_type": "code",
   "execution_count": 197,
   "metadata": {},
   "outputs": [
    {
     "data": {
      "text/plain": [
       "0.0277777777777778"
      ]
     },
     "execution_count": 197,
     "metadata": {},
     "output_type": "execute_result"
    }
   ],
   "source": [
    "(-(ppc)*t*vp*(p_pair**2*vp - p_pair + 2*vp - 2)/6).subs(ppc,1/2).subs(t,2/3).subs(vp,1/2).subs(p_pair,0)"
   ]
  },
  {
   "cell_type": "markdown",
   "metadata": {},
   "source": [
    "Prob DR for GGGG/g genotype"
   ]
  },
  {
   "cell_type": "code",
   "execution_count": 163,
   "metadata": {
    "collapsed": true
   },
   "outputs": [],
   "source": [
    "prob_dr = 0\n",
    "\n",
    "for i in lst:\n",
    "    indx = modes.index(i)\n",
    "    prob_dr = prob_dr + prob[indx][1][3]"
   ]
  },
  {
   "cell_type": "code",
   "execution_count": 164,
   "metadata": {},
   "outputs": [
    {
     "data": {
      "text/plain": [
       "-(ppc)*t*vp*(p_pair**2*vp - p_pair + 3*vp - 3)/8"
      ]
     },
     "execution_count": 164,
     "metadata": {},
     "output_type": "execute_result"
    }
   ],
   "source": [
    "sp.factor(prob_dr)"
   ]
  },
  {
   "cell_type": "markdown",
   "metadata": {},
   "source": [
    "Preferential Pairing: Distal"
   ]
  },
  {
   "cell_type": "code",
   "execution_count": 5,
   "metadata": {
    "collapsed": true
   },
   "outputs": [],
   "source": [
    "modes = [[['i_m', 'i_m', G], ['i_m', 'i_m', G]],\n",
    " [['i_m', 'j_m', G], ['i_m', 'j_m', G]],\n",
    " [['i_m', 'i_m', G], ['i_m', 'j_m', G]],\n",
    " [['i_m', 'j_m', G], ['i_m', 'k_m', G]],\n",
    " [['i_m', 'i_m', G], ['j_m', 'i_m', G]],\n",
    " [['i_m', 'j_m', G], ['k_m', 'j_m', G]],\n",
    " [['i_m', 'i_m', G], ['j_m', 'j_m', G]],\n",
    " [['i_m', 'i_m', G], ['j_m', 'k_m', G]],\n",
    " [['i_m', 'j_m', G], ['j_m', 'i_m', G]],\n",
    " [['i_m', 'j_m', G], ['j_m', 'k_m', G]],\n",
    " [['i_m', 'j_m', G], ['k_m', 'l_m', G]],\n",
    " [['i_m', 'i_m', G], ['i_m', 'j_m', g]],\n",
    " [['i_m', 'i_m', G], ['j_m', 'i_m', g]],\n",
    " [['i_m', 'i_m', G], ['j_m', 'k_m', g]],\n",
    " [['i_m', 'j_m', G], ['j_m', 'k_m', g]],\n",
    " [['i_m', 'i_m', g], ['i_m', 'i_m', G]],\n",
    " [['i_m', 'j_m', g], ['i_m', 'j_m', G]],\n",
    " [['i_m', 'i_m', g], ['i_m', 'j_m', G]],\n",
    " [['i_m', 'j_m', g], ['i_m', 'k_m', G]],\n",
    " [['i_m', 'i_m', g], ['j_m', 'i_m', G]],\n",
    " [['i_m', 'j_m', g], ['k_m', 'j_m', G]],\n",
    " [['i_m', 'i_m', g], ['j_m', 'j_m', G]],\n",
    " [['i_m', 'i_m', g], ['j_m', 'k_m', G]],\n",
    " [['i_m', 'j_m', g], ['j_m', 'i_m', G]],\n",
    " [['i_m', 'j_m', g], ['j_m', 'k_m', G]],\n",
    " [['i_m', 'j_m', g], ['k_m', 'l_m', G]],\n",
    " [['i_m', 'i_m', g], ['i_m', 'i_m', g]],\n",
    " [['i_m', 'j_m', g], ['i_m', 'j_m', g]],\n",
    " [['i_m', 'i_m', g], ['i_m', 'j_m', g]],\n",
    " [['i_m', 'j_m', g], ['i_m', 'k_m', g]],\n",
    " [['i_m', 'i_m', g], ['j_m', 'i_m', g]],\n",
    " [['i_m', 'j_m', g], ['k_m', 'j_m', g]],\n",
    " [['i_m', 'i_m', g], ['j_m', 'j_m', g]],\n",
    " [['i_m', 'i_m', g], ['j_m', 'k_m', g]],\n",
    " [['i_m', 'j_m', g], ['j_m', 'i_m', g]],\n",
    " [['i_m', 'j_m', g], ['j_m', 'k_m', g]],\n",
    " [['i_m', 'j_m', g], ['k_m', 'l_m', g]]]"
   ]
  },
  {
   "cell_type": "code",
   "execution_count": 6,
   "metadata": {
    "collapsed": true
   },
   "outputs": [],
   "source": [
    "prob = [[0,\n",
    "  [-(ppc)*t*vp*(q - 1)**2*(vp - 1)/2,\n",
    "   (ppc)*t*vp*(-2*p_pair**6*q**2*r**2*vp + 2*p_pair**5*q**2*r**2 + 2*p_pair**5*q**2*r*vp + 4*p_pair**5*q*r**2*vp - 2*p_pair**4*q**2*r - p_pair**4*q**2*vp - 4*p_pair**4*q*r**2 - 4*p_pair**4*q*r*vp - 2*p_pair**4*r**2*vp + p_pair**3*q**2 + 4*p_pair**3*q*r + 2*p_pair**3*q*vp + 2*p_pair**3*r**2 + 2*p_pair**3*r*vp - 2*p_pair**2*q - 2*p_pair**2*r - p_pair**2*vp + p_pair - 2*q**2*vp + 2*q**2 + 4*q*vp - 4*q - 2*vp + 2)/8,\n",
    "   (ppc)*t*vp*(-4*p_pair**6*q**2*r**2*vp + 4*p_pair**5*q**2*r**2 + 4*p_pair**5*q**2*r*vp + 8*p_pair**5*q*r**2*vp - 4*p_pair**4*q**2*r - 2*p_pair**4*q**2*vp - 8*p_pair**4*q*r**2 - 8*p_pair**4*q*r*vp - 4*p_pair**4*r**2*vp + 2*p_pair**3*q**2 + 8*p_pair**3*q*r + 4*p_pair**3*q*vp + 4*p_pair**3*r**2 + 4*p_pair**3*r*vp - 4*p_pair**2*q - 4*p_pair**2*r - 2*p_pair**2*vp + 2*p_pair - q**2*vp + q**2 + 2*q*vp - 2*q - vp + 1)/12,\n",
    "   (ppc)*t*vp*(-p_pair**4*q**2*vp + p_pair**3*q**2 + 2*p_pair**3*q*vp - 2*p_pair**2*q - p_pair**2*vp + p_pair - 2*q**2*vp + 2*q**2 + 4*q*vp - 4*q - 2*vp + 2)/8]],\n",
    " [1,\n",
    "  [(ppc)*q**2*t*vp*(-vp + 1)/2,\n",
    "   (ppc)*q**2*t*vp*(-2*p_pair**6*r**2*vp + 2*p_pair**5*r**2 + 2*p_pair**5*r*vp - 2*p_pair**4*r - p_pair**4*vp + p_pair**3 - 2*vp + 2)/8,\n",
    "   (ppc)*q**2*t*vp*(-4*p_pair**6*r**2*vp + 4*p_pair**5*r**2 + 4*p_pair**5*r*vp - 4*p_pair**4*r - 2*p_pair**4*vp + 2*p_pair**3 - vp + 1)/12,\n",
    "   (ppc)*q**2*t*vp*(-p_pair**4*vp + p_pair**3 - 2*vp + 2)/8]],\n",
    " [2,\n",
    "  [(ppc)*q*t*vp*(q - 1)*(vp - 1),\n",
    "   (ppc)*q*t*vp*(-p_pair**6*q*r**2*vp + p_pair**5*q*r**2 + p_pair**5*q*r*vp + p_pair**5*r**2*vp - p_pair**4*q*r - p_pair**4*r**2 - p_pair**4*r*vp + p_pair**3*r + q*vp - q - vp + 1)/2,\n",
    "   (ppc)*q*t*vp*(-4*p_pair**6*q*r**2*vp + 4*p_pair**5*q*r**2 + 4*p_pair**5*q*r*vp + 4*p_pair**5*r**2*vp - 4*p_pair**4*q*r - 4*p_pair**4*r**2 - 4*p_pair**4*r*vp + 4*p_pair**3*r + q*vp - q - vp + 1)/6,\n",
    "   (ppc)*q*t*vp*(p_pair**4*q*vp - p_pair**3*q - p_pair**3*vp + p_pair**2 + 2*q*vp - 2*q - 2*vp + 2)/4]],\n",
    " [3, [0, 0, 0, 0]],\n",
    " [4,\n",
    "  [t*((pmp)*qp*(qp - 1)**2 - (ppc)*q*(q - 1)*(2*vp**2 - 2*vp + 1))/2,\n",
    "   t*((pmp)*qp*(qp - 1)*(2*p_pair**4*qp*r**2 - 2*p_pair**3*qp*r - 2*p_pair**3*r**2 + p_pair**2*qp + 2*p_pair**2*r - p_pair + 2*qp - 2) - (ppc)*q*(4*p_pair**6*q*r**2*vp**2 - 4*p_pair**5*q*r**2*vp - 4*p_pair**5*q*r*vp**2 - 4*p_pair**5*r**2*vp**2 + 2*p_pair**4*q*r**2 + 4*p_pair**4*q*r*vp + 2*p_pair**4*q*vp**2 + 4*p_pair**4*r**2*vp + 4*p_pair**4*r*vp**2 - 2*p_pair**3*q*r - 2*p_pair**3*q*vp - 2*p_pair**3*r**2 - 4*p_pair**3*r*vp - 2*p_pair**3*vp**2 + p_pair**2*q + 2*p_pair**2*r + 2*p_pair**2*vp - p_pair + 4*q*vp**2 - 4*q*vp + 2*q - 4*vp**2 + 4*vp - 2))/8,\n",
    "   t*((pmp)*qp*(qp - 1)*(4*p_pair**4*qp*r**2 - 4*p_pair**3*qp*r - 4*p_pair**3*r**2 + 2*p_pair**2*qp + 4*p_pair**2*r - 2*p_pair + qp - 1) - (ppc)*q*(8*p_pair**6*q*r**2*vp**2 - 8*p_pair**5*q*r**2*vp - 8*p_pair**5*q*r*vp**2 - 8*p_pair**5*r**2*vp**2 + 4*p_pair**4*q*r**2 + 8*p_pair**4*q*r*vp + 4*p_pair**4*q*vp**2 + 8*p_pair**4*r**2*vp + 8*p_pair**4*r*vp**2 - 4*p_pair**3*q*r - 4*p_pair**3*q*vp - 4*p_pair**3*r**2 - 8*p_pair**3*r*vp - 4*p_pair**3*vp**2 + 2*p_pair**2*q + 4*p_pair**2*r + 4*p_pair**2*vp - 2*p_pair + 2*q*vp**2 - 2*q*vp + q - 2*vp**2 + 2*vp - 1))/12,\n",
    "   t*((pmp)*qp*(qp - 1)*(p_pair**2*qp - p_pair + 2*qp - 2) - (ppc)*q*(2*p_pair**4*q*vp**2 - 2*p_pair**3*q*vp - 2*p_pair**3*vp**2 + p_pair**2*q + 2*p_pair**2*vp - p_pair + 4*q*vp**2 - 4*q*vp + 2*q - 4*vp**2 + 4*vp - 2))/8]],\n",
    " [5,\n",
    "  [(pmp)*qp**2*t*(-qp + 1)/2,\n",
    "   (pmp)*qp**2*t*(-2*p_pair**4*qp*r**2 + 2*p_pair**3*qp*r + 2*p_pair**3*r**2 - p_pair**2*qp - 2*p_pair**2*r + p_pair - 2*qp + 2)/8,\n",
    "   (pmp)*qp**2*t*(-4*p_pair**4*qp*r**2 + 4*p_pair**3*qp*r + 4*p_pair**3*r**2 - 2*p_pair**2*qp - 4*p_pair**2*r + 2*p_pair - qp + 1)/12,\n",
    "   (pmp)*qp**2*t*(-p_pair**2*qp + p_pair - 2*qp + 2)/8]],\n",
    " [6,\n",
    "  [(pdm)*t*(q - 1)**2 + (pmp)*t*(qp - 1)**3*(3*qp - 4)/4 + (ppc)*t*(q - 1)*(2*q*vp**2 - 2*q*vp + 3*q - 2*vp**2 + 2*vp - 4)/4 + (q - 1)**2*(-(pdm)*t - (pmp)*t - (ppc)*t + 1),\n",
    "   (pdm)*t*(q - 1)**2*(-p_pair**2*rp**2 + p_pair*rp + 4)/8 + (pmp)*t*(qp - 1)**2*(-p_pair**4*qp**2*r**2 + p_pair**3*qp**2*r + 2*p_pair**3*qp*r**2 - 2*p_pair**2*qp*r - p_pair**2*r**2 + 2*p_pair*qp**2 - 2*p_pair*qp + p_pair*r + qp**2 - 5*qp + 4)/8 + (ppc)*t*(-2*p_pair**6*q**2*r**2*vp**2 + 2*p_pair**5*q**2*r**2*vp + 2*p_pair**5*q**2*r*vp**2 + 4*p_pair**5*q*r**2*vp**2 - p_pair**4*q**2*r**2 - 2*p_pair**4*q**2*r*vp - 4*p_pair**4*q*r**2*vp - 4*p_pair**4*q*r*vp**2 - 2*p_pair**4*r**2*vp**2 + p_pair**3*q**2*r + 2*p_pair**3*q*r**2 + 4*p_pair**3*q*r*vp + 2*p_pair**3*r**2*vp + 2*p_pair**3*r*vp**2 - 2*p_pair**2*q*r - p_pair**2*r**2 - 2*p_pair**2*r*vp + 2*p_pair*q**2 - 2*p_pair*q + p_pair*r + 2*q**2*vp**2 - 2*q**2*vp + q**2 - 4*q*vp**2 + 4*q*vp - 5*q + 2*vp**2 - 2*vp + 4)/8 - (q - 1)*(p_pair*q - 1)*((pdm)*t + (pmp)*t + (ppc)*t - 1)/2,\n",
    "   (pdm)*t*(q - 1)**2*(-p_pair**2*rp**2 + p_pair*rp + 1)/6 + (pmp)*t*(qp - 1)**2*(-4*p_pair**4*qp**2*r**2 + 4*p_pair**3*qp**2*r + 8*p_pair**3*qp*r**2 + 2*p_pair**2*qp**2 - 8*p_pair**2*qp*r - 4*p_pair**2*r**2 - 4*p_pair*qp + 4*p_pair*r + qp**2 - 3*qp + 4)/24 + (ppc)*t*(-8*p_pair**6*q**2*r**2*vp**2 + 8*p_pair**5*q**2*r**2*vp + 8*p_pair**5*q**2*r*vp**2 + 16*p_pair**5*q*r**2*vp**2 - 4*p_pair**4*q**2*r**2 - 8*p_pair**4*q**2*r*vp - 16*p_pair**4*q*r**2*vp - 16*p_pair**4*q*r*vp**2 - 8*p_pair**4*r**2*vp**2 + 4*p_pair**3*q**2*r + 8*p_pair**3*q*r**2 + 16*p_pair**3*q*r*vp + 8*p_pair**3*r**2*vp + 8*p_pair**3*r*vp**2 + 2*p_pair**2*q**2 - 8*p_pair**2*q*r - 4*p_pair**2*r**2 - 8*p_pair**2*r*vp - 4*p_pair*q + 4*p_pair*r + 2*q**2*vp**2 - 2*q**2*vp + q**2 - 4*q*vp**2 + 4*q*vp - 3*q + 2*vp**2 - 2*vp + 4)/24 + (p_pair*q - 1)**2*(-(pdm)*t - (pmp)*t - (ppc)*t + 1)/6,\n",
    "   3*(pdm)*t*(q - 1)**2/4 + (pmp)*t*(qp - 1)**2*(p_pair**2*qp**2 + 6*p_pair*qp**2 - 9*p_pair*qp + 2*qp**2 - 12*qp + 12)/16 + (ppc)*t*(2*p_pair**4*q**2*vp**2 - 2*p_pair**3*q**2*vp - 4*p_pair**3*q*vp**2 + p_pair**2*q**2 + 4*p_pair**2*q*vp + 2*p_pair**2*vp**2 + 6*p_pair*q**2 - 9*p_pair*q - 2*p_pair*vp + 4*q**2*vp**2 - 4*q**2*vp + 2*q**2 - 8*q*vp**2 + 8*q*vp - 12*q + 4*vp**2 - 4*vp + 12)/16 - 3*(q - 1)*(p_pair*q - 1)*((pdm)*t + (pmp)*t + (ppc)*t - 1)/4]],\n",
    " [7,\n",
    "  [-2*(pdm)*q*t*(q - 1) - 3*(pmp)*qp*t*(qp - 2)*(qp - 1)**2/2 - (ppc)*q*t*(q - 1) + 2*q*(q - 1)*((pdm)*t + (pmp)*t + (ppc)*t - 1),\n",
    "   -(pdm)*q*t*(q - 1)*(-p_pair**2*rp**2 + p_pair*rp + 4)/4 - (pmp)*qp*t*(qp - 1)*(-p_pair**4*qp**2*r**2 + p_pair**3*qp**2*r + 2*p_pair**3*qp*r**2 - 2*p_pair**2*qp*r - p_pair**2*r**2 + 2*p_pair*qp**2 - 4*p_pair*qp + p_pair*r + p_pair + qp**2 - 5*qp + 5)/4 + (ppc)*q*t*(-2*p_pair*q + p_pair + 1)/4 - q*(-2*p_pair*q + p_pair + 1)*((pdm)*t + (pmp)*t + (ppc)*t - 1)/2,\n",
    "   -(pdm)*q*t*(q - 1)*(-p_pair**2*rp**2 + p_pair*rp + 1)/3 - (pmp)*qp*t*(qp - 1)*(-4*p_pair**4*qp**2*r**2 + 4*p_pair**3*qp**2*r + 8*p_pair**3*qp*r**2 + 2*p_pair**2*qp**2 - 8*p_pair**2*qp*r - 2*p_pair**2*qp - 4*p_pair**2*r**2 - 4*p_pair*qp + 4*p_pair*r + 2*p_pair + qp**2 - 3*qp + 4)/12 - (ppc)*p_pair*q*t*(p_pair*q - 1)/6 + p_pair*q*(p_pair*q - 1)*((pdm)*t + (pmp)*t + (ppc)*t - 1)/3,\n",
    "   -3*(pdm)*q*t*(q - 1)/2 - (pmp)*qp*t*(qp - 1)*(p_pair**2*qp**2 + 6*p_pair*qp**2 - 15*p_pair*qp + 3*p_pair + 2*qp**2 - 12*qp + 15)/8 + 3*(ppc)*q*t*(-2*p_pair*q + p_pair + 1)/8 - 3*q*(-2*p_pair*q + p_pair + 1)*((pdm)*t + (pmp)*t + (ppc)*t - 1)/4]],\n",
    " [8,\n",
    "  [t*((pmp)*qp*(3*qp**3 - qp**2 - qp + 1) + (ppc)*q*(2*q*vp**2 - 2*q*vp + q + 1))/4,\n",
    "   t*((pmp)*qp*(-p_pair**4*qp**3*r**2 + 2*p_pair**4*qp**2*r**2 - p_pair**4*qp*r**2 + p_pair**3*qp**3*r - 2*p_pair**3*qp**2*r + p_pair**3*qp*r + 2*p_pair*qp**3 + qp**3 - qp**2 - qp + 1) + (ppc)*q*(-2*p_pair**6*q*r**2*vp**2 + 2*p_pair**5*q*r**2*vp + 2*p_pair**5*q*r*vp**2 - p_pair**4*q*r**2 - 2*p_pair**4*q*r*vp + p_pair**3*q*r + 2*q*vp**2 - 2*q*vp + q + 1))/8,\n",
    "   t*((pmp)*qp*(-4*p_pair**4*qp**3*r**2 + 8*p_pair**4*qp**2*r**2 - 4*p_pair**4*qp*r**2 + 4*p_pair**3*qp**3*r - 8*p_pair**3*qp**2*r + 4*p_pair**3*qp*r + 2*p_pair**2*qp**3 + qp**3 - qp**2 - qp + 1) + (ppc)*q*(-8*p_pair**6*q*r**2*vp**2 + 8*p_pair**5*q*r**2*vp + 8*p_pair**5*q*r*vp**2 - 4*p_pair**4*q*r**2 - 8*p_pair**4*q*r*vp + 4*p_pair**3*q*r + 2*q*vp**2 - 2*q*vp + q + 1))/24,\n",
    "   t*((pmp)*qp*(p_pair**2*qp**3 - 2*p_pair**2*qp**2 + p_pair**2*qp + 6*p_pair*qp**3 + p_pair*qp**2 - 2*p_pair*qp + p_pair + 2*qp**3 - 2*qp**2 - 2*qp + 2) + (ppc)*q*(2*p_pair**4*q*vp**2 - 2*p_pair**3*q*vp + p_pair**2*q + p_pair + 4*q*vp**2 - 4*q*vp + 2*q + 2))/16]],\n",
    " [9,\n",
    "  [3*(pmp)*qp**2*t*(-qp**2 + 1)/2,\n",
    "   (pmp)*qp**2*t*(p_pair**4*qp**2*r**2 - p_pair**4*qp*r**2 - p_pair**3*qp**2*r + p_pair**3*qp*r - 2*p_pair*qp**2 + p_pair - qp**2 + 2)/4,\n",
    "   (pmp)*qp**2*t*(4*p_pair**4*qp**2*r**2 - 4*p_pair**4*qp*r**2 - 4*p_pair**3*qp**2*r + 4*p_pair**3*qp*r - 2*p_pair**2*qp**2 + 2*p_pair - qp**2 + 1)/12,\n",
    "   (pmp)*qp**2*t*(-p_pair**2*qp**2 + p_pair**2*qp - 6*p_pair*qp**2 - p_pair*qp + 4*p_pair - 2*qp**2 + 5)/8]],\n",
    " [10,\n",
    "  [-(pmp)*q**2*t + 3*(pmp)*qp**4*t/2 - 5*(pmp)*qp**3*t/2 + 3*(pmp)*qp**2*t/2 - (ppc)*q**2*t/2 + q**2,\n",
    "   (pdm)*q**2*t*(-p_pair**2*rp**2 + p_pair*rp + 4)/8 + (pmp)*qp**2*t*(-2*p_pair**4*qp**2*r**2 + 2*p_pair**3*qp**2*r + 2*p_pair**3*qp*r**2 - 2*p_pair**2*qp*r - p_pair**2*r**2 + 4*p_pair*qp**2 - 6*p_pair*qp + p_pair*r + 2*p_pair + 2*qp**2 - 4*qp + 4)/8 + (ppc)*p_pair*q**2*t/4 - p_pair*q**2*((pdm)*t + (pmp)*t + (ppc)*t - 1)/2,\n",
    "   (pdm)*q**2*t*(-p_pair**2*rp**2 + p_pair*rp + 1)/6 + (pmp)*qp**2*t*(-4*p_pair**4*qp**2*r**2 + 4*p_pair**3*qp**2*r + 4*p_pair**3*qp*r**2 + 2*p_pair**2*qp**2 - 4*p_pair**2*qp*r - 2*p_pair**2*qp - 2*p_pair**2*r**2 + p_pair**2 - 2*p_pair*qp + 2*p_pair*r + qp**2 - qp + 2)/12 + (ppc)*p_pair**2*q**2*t/12 + p_pair**2*q**2*(-(pdm)*t - (pmp)*t - (ppc)*t + 1)/6,\n",
    "   3*(pdm)*q**2*t/4 + (pmp)*qp**2*t*(p_pair**2*qp**2 + 6*p_pair*qp**2 - 10*p_pair*qp + 3*p_pair + 2*qp**2 - 5*qp + 6)/8 + 3*(ppc)*p_pair*q**2*t/8 - 3*p_pair*q**2*((pdm)*t + (pmp)*t + (ppc)*t - 1)/4]],\n",
    " [11,\n",
    "  [0,\n",
    "   (ppc)*p_pair**2*q*t*vp*(p_pair*q - 1)*(p_pair*vp - 1)*(2*p_pair**2*r**2 - 2*p_pair*r + 1)/4,\n",
    "   (ppc)*p_pair**2*q*t*vp*(p_pair*q - 1)*(p_pair*vp - 1)*(2*p_pair**2*r**2 - 2*p_pair*r + 1)/3,\n",
    "   (ppc)*p_pair**2*q*t*vp*(p_pair*q - 1)*(p_pair*vp - 1)/8]],\n",
    " [12,\n",
    "  [0,\n",
    "   p_pair**2*r*t*(p_pair*r - 1)*(-(pmp)*qp*(qp - 1)*(p_pair*qp - 1) + (ppc)*q*(p_pair*q - 1)*(2*p_pair**2*vp**2 - 2*p_pair*vp + 1))/4,\n",
    "   p_pair**2*r*t*(p_pair*r - 1)*(-(pmp)*qp*(qp - 1)*(p_pair*qp - 1) + (ppc)*q*(p_pair*q - 1)*(2*p_pair**2*vp**2 - 2*p_pair*vp + 1))/3,\n",
    "   p_pair*t*((pmp)*qp*(qp - 1)*(p_pair*qp - 1) - (ppc)*q*(p_pair*q - 1)*(2*p_pair**2*vp**2 - 2*p_pair*vp + 1))/16]],\n",
    " [13,\n",
    "  [0,\n",
    "   -(pdm)*q*t*(q - 1)*(p_pair**2*rp**2 - p_pair*rp + 2)/4 - (pmp)*qp*t*(qp - 1)*(2*p_pair**4*qp**2*r**2 - 2*p_pair**3*qp**2*r - 4*p_pair**3*qp*r**2 + p_pair**2*qp**2 + 4*p_pair**2*qp*r + 2*p_pair**2*r**2 + 2*p_pair*qp**2 - 7*p_pair*qp - 2*p_pair*r + 2*p_pair - 2*qp + 4)/8 - (ppc)*p_pair*q*t*(q - 1)/4 + p_pair*q*(q - 1)*((pdm)*t + (pmp)*t + (ppc)*t - 1)/2,\n",
    "   -(pdm)*q*t*(q - 1)*(p_pair**2*rp**2 - p_pair*rp + 2)/3 - (pmp)*qp*t*(qp - 1)*(2*p_pair**4*qp**2*r**2 - 2*p_pair**3*qp**2*r - 4*p_pair**3*qp*r**2 + 2*p_pair**2*qp**2 + 4*p_pair**2*qp*r - p_pair**2*qp + 2*p_pair**2*r**2 - 5*p_pair*qp - 2*p_pair*r + p_pair + qp**2 - 3*qp + 5)/6 - (ppc)*q*t*(p_pair**2*q - p_pair + q - 1)/6 + q*((pdm)*t + (pmp)*t + (ppc)*t - 1)*(p_pair**2*q - p_pair + q - 1)/3,\n",
    "   -(pdm)*q*t*(q - 1)/4 - (pmp)*qp*t*(qp - 1)*(p_pair**2*qp**2 + 2*p_pair*qp**2 - 7*p_pair*qp + 2*p_pair - 2*qp + 4)/16 - (ppc)*p_pair*q*t*(q - 1)/8 + p_pair*q*(q - 1)*((pdm)*t + (pmp)*t + (ppc)*t - 1)/4]],\n",
    " [14,\n",
    "  [0,\n",
    "   (pmp)*qp**2*t*(-2*p_pair**4*qp**2*r**2 + 2*p_pair**4*qp*r**2 + 2*p_pair**3*qp**2*r - 2*p_pair**3*qp*r - p_pair**2*qp**2 + p_pair**2*qp - 2*p_pair*qp**2 - p_pair*qp + p_pair + 2)/8,\n",
    "   (pmp)*qp**2*t*(-2*p_pair**4*qp**2*r**2 + 2*p_pair**4*qp*r**2 + 2*p_pair**3*qp**2*r - 2*p_pair**3*qp*r - 2*p_pair**2*qp**2 + p_pair**2*qp - p_pair*qp + 2*p_pair - qp**2 + 1)/6,\n",
    "   (pmp)*qp**2*t*(-p_pair**2*qp**2 + p_pair**2*qp - 2*p_pair*qp**2 - p_pair*qp + p_pair + 2)/16]],\n",
    " [15,\n",
    "  [0,\n",
    "   (ppc)*p_pair**2*r*t*vp*(p_pair*q - 1)**2*(p_pair*r - 1)*(p_pair*vp - 1)/2,\n",
    "   2*(ppc)*p_pair**2*r*t*vp*(p_pair*q - 1)**2*(p_pair*r - 1)*(p_pair*vp - 1)/3,\n",
    "   -(ppc)*p_pair*t*vp*(p_pair*q - 1)**2*(p_pair*vp - 1)/8]],\n",
    " [16,\n",
    "  [0,\n",
    "   (ppc)*p_pair**4*q**2*r*t*vp*(p_pair*r - 1)*(p_pair*vp - 1)/2,\n",
    "   2*(ppc)*p_pair**4*q**2*r*t*vp*(p_pair*r - 1)*(p_pair*vp - 1)/3,\n",
    "   (ppc)*p_pair**3*q**2*t*vp*(-p_pair*vp + 1)/8]],\n",
    " [17,\n",
    "  [0,\n",
    "   (ppc)*p_pair**2*q*t*vp*(p_pair*q - 1)*(p_pair*vp - 1)*(2*p_pair**2*r**2 - 2*p_pair*r + 1)/4,\n",
    "   (ppc)*p_pair**2*q*t*vp*(p_pair*q - 1)*(p_pair*vp - 1)*(2*p_pair**2*r**2 - 2*p_pair*r + 1)/3,\n",
    "   (ppc)*p_pair**2*q*t*vp*(p_pair*q - 1)*(p_pair*vp - 1)/8]],\n",
    " [18, [0, 0, 0, 0]],\n",
    " [19,\n",
    "  [0,\n",
    "   p_pair**2*r*t*(p_pair*r - 1)*(-(pmp)*qp*(qp - 1)*(p_pair*qp - 1) + (ppc)*q*(p_pair*q - 1)*(2*p_pair**2*vp**2 - 2*p_pair*vp + 1))/4,\n",
    "   p_pair**2*r*t*(p_pair*r - 1)*(-(pmp)*qp*(qp - 1)*(p_pair*qp - 1) + (ppc)*q*(p_pair*q - 1)*(2*p_pair**2*vp**2 - 2*p_pair*vp + 1))/3,\n",
    "   p_pair*t*((pmp)*qp*(qp - 1)*(p_pair*qp - 1) - (ppc)*q*(p_pair*q - 1)*(2*p_pair**2*vp**2 - 2*p_pair*vp + 1))/16]],\n",
    " [20,\n",
    "  [0,\n",
    "   (pmp)*p_pair**2*qp**2*r*t*(p_pair*qp - 1)*(p_pair*r - 1)/2,\n",
    "   2*(pmp)*p_pair**2*qp**2*r*t*(p_pair*qp - 1)*(p_pair*r - 1)/3,\n",
    "   (pmp)*p_pair*qp**2*t*(-p_pair*qp + 1)/8]],\n",
    " [21,\n",
    "  [0,\n",
    "   (pdm)*t*(q - 1)**2*(p_pair**2*rp**2 - p_pair*rp + 2)/4 + (pmp)*t*(qp - 1)**2*(p_pair*qp - 1)*(2*p_pair**3*qp*r**2 - 2*p_pair**2*qp*r - 2*p_pair**2*r**2 + p_pair*qp + 2*p_pair*r + 2*qp - 4)/8 + (ppc)*t*(p_pair*q - 1)*(4*p_pair**5*q*r**2*vp**2 - 4*p_pair**4*q*r**2*vp - 4*p_pair**4*q*r*vp**2 - 4*p_pair**4*r**2*vp**2 + 2*p_pair**3*q*r**2 + 4*p_pair**3*q*r*vp + 2*p_pair**3*q*vp**2 + 4*p_pair**3*r**2*vp + 4*p_pair**3*r*vp**2 - 2*p_pair**2*q*r - 2*p_pair**2*q*vp - 2*p_pair**2*r**2 - 4*p_pair**2*r*vp - 2*p_pair**2*vp**2 + p_pair*q + 2*p_pair*r + 2*p_pair*vp + 2*q - 4)/8 - (q - 1)*(p_pair*q - 1)*((pdm)*t + (pmp)*t + (ppc)*t - 1)/2,\n",
    "   (pdm)*t*(q - 1)**2*(p_pair**2*rp**2 - p_pair*rp + 2)/3 + (pmp)*t*(qp - 1)**2*(2*p_pair**4*qp**2*r**2 - 2*p_pair**3*qp**2*r - 4*p_pair**3*qp*r**2 + 2*p_pair**2*qp**2 + 4*p_pair**2*qp*r + 2*p_pair**2*r**2 - 5*p_pair*qp - 2*p_pair*r + qp**2 - 2*qp + 4)/6 + (ppc)*t*(4*p_pair**6*q**2*r**2*vp**2 - 4*p_pair**5*q**2*r**2*vp - 4*p_pair**5*q**2*r*vp**2 - 8*p_pair**5*q*r**2*vp**2 + 2*p_pair**4*q**2*r**2 + 4*p_pair**4*q**2*r*vp + 2*p_pair**4*q**2*vp**2 + 8*p_pair**4*q*r**2*vp + 8*p_pair**4*q*r*vp**2 + 4*p_pair**4*r**2*vp**2 - 2*p_pair**3*q**2*r - 2*p_pair**3*q**2*vp - 4*p_pair**3*q*r**2 - 8*p_pair**3*q*r*vp - 4*p_pair**3*q*vp**2 - 4*p_pair**3*r**2*vp - 4*p_pair**3*r*vp**2 + 2*p_pair**2*q**2 + 4*p_pair**2*q*r + 4*p_pair**2*q*vp + 2*p_pair**2*r**2 + 4*p_pair**2*r*vp + 2*p_pair**2*vp**2 - 5*p_pair*q - 2*p_pair*r - 2*p_pair*vp + q**2 - 2*q + 4)/6 - ((pdm)*t + (pmp)*t + (ppc)*t - 1)*(p_pair**2*q**2 - 2*p_pair*q + q**2 - 2*q + 2)/3,\n",
    "   (pdm)*t*(q - 1)**2/4 + (pmp)*t*(qp - 1)**2*(p_pair*qp - 1)*(p_pair*qp + 2*qp - 4)/16 + (ppc)*t*(p_pair*q - 1)*(2*p_pair**3*q*vp**2 - 2*p_pair**2*q*vp - 2*p_pair**2*vp**2 + p_pair*q + 2*p_pair*vp + 2*q - 4)/16 - (q - 1)*(p_pair*q - 1)*((pdm)*t + (pmp)*t + (ppc)*t - 1)/4]],\n",
    " [22,\n",
    "  [0,\n",
    "   -(pdm)*q*t*(q - 1)*(p_pair**2*rp**2 - p_pair*rp + 2)/4 - (pmp)*qp*t*(qp - 1)*(p_pair*qp - 1)*(2*p_pair**3*qp*r**2 - 2*p_pair**2*qp*r - 2*p_pair**2*r**2 + p_pair*qp + 2*p_pair*r + 2*qp - 6)/8 - (ppc)*q*t*(p_pair*q - 1)/4 + q*(p_pair*q - 1)*((pdm)*t + (pmp)*t + (ppc)*t - 1)/2,\n",
    "   -(pdm)*q*t*(q - 1)*(p_pair**2*rp**2 - p_pair*rp + 2)/3 - (pmp)*qp*t*(qp - 1)*(2*p_pair**4*qp**2*r**2 - 2*p_pair**3*qp**2*r - 4*p_pair**3*qp*r**2 + 2*p_pair**2*qp**2 + 4*p_pair**2*qp*r - p_pair**2*qp + 2*p_pair**2*r**2 - 5*p_pair*qp - 2*p_pair*r + p_pair + qp**2 - 3*qp + 5)/6 - (ppc)*q*t*(p_pair**2*q - p_pair + q - 1)/6 + q*((pdm)*t + (pmp)*t + (ppc)*t - 1)*(p_pair**2*q - p_pair + q - 1)/3,\n",
    "   -(pdm)*q*t*(q - 1)/4 - (pmp)*qp*t*(qp - 1)*(p_pair*qp - 1)*(p_pair*qp + 2*qp - 6)/16 - (ppc)*q*t*(p_pair*q - 1)/8 + q*(p_pair*q - 1)*((pdm)*t + (pmp)*t + (ppc)*t - 1)/4]],\n",
    " [23,\n",
    "  [0,\n",
    "   p_pair*t*((pmp)*qp*(2*p_pair**3*qp**3*r**2 - 4*p_pair**3*qp**2*r**2 + 2*p_pair**3*qp*r**2 - 2*p_pair**2*qp**3*r + 4*p_pair**2*qp**2*r - 2*p_pair**2*qp*r + p_pair*qp**3 - 2*p_pair*qp**2 + p_pair*qp + 2*qp**3 + qp**2 - 2*qp + 1) + (ppc)*q*(4*p_pair**5*q*r**2*vp**2 - 4*p_pair**4*q*r**2*vp - 4*p_pair**4*q*r*vp**2 + 2*p_pair**3*q*r**2 + 4*p_pair**3*q*r*vp + 2*p_pair**3*q*vp**2 - 2*p_pair**2*q*r - 2*p_pair**2*q*vp + p_pair*q + 1))/8,\n",
    "   t*((pmp)*qp*(2*p_pair**4*qp**3*r**2 - 4*p_pair**4*qp**2*r**2 + 2*p_pair**4*qp*r**2 - 2*p_pair**3*qp**3*r + 4*p_pair**3*qp**2*r - 2*p_pair**3*qp*r + 2*p_pair**2*qp**3 - 2*p_pair**2*qp**2 + p_pair**2*qp + p_pair*qp**2 - 2*p_pair*qp + p_pair + qp**3) + (ppc)*p_pair*q*(4*p_pair**5*q*r**2*vp**2 - 4*p_pair**4*q*r**2*vp - 4*p_pair**4*q*r*vp**2 + 2*p_pair**3*q*r**2 + 4*p_pair**3*q*r*vp + 2*p_pair**3*q*vp**2 - 2*p_pair**2*q*r - 2*p_pair**2*q*vp + p_pair*q + 1))/6,\n",
    "   p_pair*t*((pmp)*qp*(p_pair*qp**3 - 2*p_pair*qp**2 + p_pair*qp + 2*qp**3 + qp**2 - 2*qp + 1) + (ppc)*q*(2*p_pair**3*q*vp**2 - 2*p_pair**2*q*vp + p_pair*q + 1))/16]],\n",
    " [24,\n",
    "  [0,\n",
    "   -(pmp)*p_pair*qp**2*t*(qp - 1)*(2*p_pair**3*qp*r**2 - 2*p_pair**2*qp*r + p_pair*qp + 2*qp + 3)/8,\n",
    "   (pmp)*qp**2*t*(-2*p_pair**4*qp**2*r**2 + 2*p_pair**4*qp*r**2 + 2*p_pair**3*qp**2*r - 2*p_pair**3*qp*r - 2*p_pair**2*qp**2 + p_pair**2*qp - p_pair*qp + 2*p_pair - qp**2 + 1)/6,\n",
    "   -(pmp)*p_pair*qp**2*t*(qp - 1)*(p_pair*qp + 2*qp + 3)/16]],\n",
    " [25,\n",
    "  [0,\n",
    "   (pdm)*q**2*t*(p_pair**2*rp**2 - p_pair*rp + 2)/4 + (pmp)*qp**2*t*(2*p_pair**4*qp**2*r**2 - 2*p_pair**3*qp**2*r - 2*p_pair**3*qp*r**2 + p_pair**2*qp**2 + 2*p_pair**2*qp*r + p_pair**2*r**2 + 2*p_pair*qp**2 - 4*p_pair*qp - p_pair*r + p_pair - qp + 2)/4 + (ppc)*p_pair*q**2*t/4 - p_pair*q**2*((pdm)*t + (pmp)*t + (ppc)*t - 1)/2,\n",
    "   (pdm)*q**2*t*(p_pair**2*rp**2 - p_pair*rp + 2)/3 + (pmp)*qp**2*t*(4*p_pair**4*qp**2*r**2 - 4*p_pair**3*qp**2*r - 4*p_pair**3*qp*r**2 + 4*p_pair**2*qp**2 + 4*p_pair**2*qp*r - 2*p_pair**2*qp + 2*p_pair**2*r**2 + p_pair**2 - 4*p_pair*qp - 2*p_pair*r + 2*qp**2 - 4*qp + 5)/6 + (ppc)*q**2*t*(p_pair**2 + 1)/6 - q**2*(p_pair**2 + 1)*((pdm)*t + (pmp)*t + (ppc)*t - 1)/3,\n",
    "   (pdm)*q**2*t/4 + (pmp)*qp**2*t*(p_pair**2*qp**2 + 2*p_pair*qp**2 - 4*p_pair*qp + p_pair - qp + 2)/8 + (ppc)*p_pair*q**2*t/8 - p_pair*q**2*((pdm)*t + (pmp)*t + (ppc)*t - 1)/4]],\n",
    " [26,\n",
    "  [0,\n",
    "   -(ppc)*p_pair*t*vp*(p_pair*q - 1)**2*(p_pair*vp - 1)*(2*p_pair**2*r**2 - 2*p_pair*r + 1)/8,\n",
    "   (ppc)*t*vp*(-4*p_pair**6*q**2*r**2*vp + 4*p_pair**5*q**2*r**2 + 4*p_pair**5*q**2*r*vp + 8*p_pair**5*q*r**2*vp - 4*p_pair**4*q**2*r - 2*p_pair**4*q**2*vp - 8*p_pair**4*q*r**2 - 8*p_pair**4*q*r*vp - 4*p_pair**4*r**2*vp + 2*p_pair**3*q**2 + 8*p_pair**3*q*r + 4*p_pair**3*q*vp + 4*p_pair**3*r**2 + 4*p_pair**3*r*vp - 4*p_pair**2*q - 4*p_pair**2*r - 2*p_pair**2*vp + 2*p_pair - q**2*vp + q**2 + 2*q*vp - 2*q - vp + 1)/12,\n",
    "   0]],\n",
    " [27,\n",
    "  [0,\n",
    "   -(ppc)*p_pair**3*q**2*t*vp*(p_pair*vp - 1)*(2*p_pair**2*r**2 - 2*p_pair*r + 1)/8,\n",
    "   (ppc)*q**2*t*vp*(-4*p_pair**6*r**2*vp + 4*p_pair**5*r**2 + 4*p_pair**5*r*vp - 4*p_pair**4*r - 2*p_pair**4*vp + 2*p_pair**3 - vp + 1)/12,\n",
    "   0]],\n",
    " [28,\n",
    "  [0,\n",
    "   -(ppc)*p_pair**3*q*r*t*vp*(p_pair*q - 1)*(p_pair*r - 1)*(p_pair*vp - 1)/2,\n",
    "   (ppc)*q*t*vp*(-4*p_pair**6*q*r**2*vp + 4*p_pair**5*q*r**2 + 4*p_pair**5*q*r*vp + 4*p_pair**5*r**2*vp - 4*p_pair**4*q*r - 4*p_pair**4*r**2 - 4*p_pair**4*r*vp + 4*p_pair**3*r + q*vp - q - vp + 1)/6,\n",
    "   0]],\n",
    " [29, [0, 0, 0, 0]],\n",
    " [30,\n",
    "  [0,\n",
    "   p_pair*t*((pmp)*qp*(qp - 1)*(p_pair*qp - 1) - (ppc)*q*(p_pair*q - 1)*(2*p_pair**2*vp**2 - 2*p_pair*vp + 1))*(2*p_pair**2*r**2 - 2*p_pair*r + 1)/8,\n",
    "   t*((pmp)*qp*(qp - 1)*(4*p_pair**4*qp*r**2 - 4*p_pair**3*qp*r - 4*p_pair**3*r**2 + 2*p_pair**2*qp + 4*p_pair**2*r - 2*p_pair + qp - 1) - (ppc)*q*(8*p_pair**6*q*r**2*vp**2 - 8*p_pair**5*q*r**2*vp - 8*p_pair**5*q*r*vp**2 - 8*p_pair**5*r**2*vp**2 + 4*p_pair**4*q*r**2 + 8*p_pair**4*q*r*vp + 4*p_pair**4*q*vp**2 + 8*p_pair**4*r**2*vp + 8*p_pair**4*r*vp**2 - 4*p_pair**3*q*r - 4*p_pair**3*q*vp - 4*p_pair**3*r**2 - 8*p_pair**3*r*vp - 4*p_pair**3*vp**2 + 2*p_pair**2*q + 4*p_pair**2*r + 4*p_pair**2*vp - 2*p_pair + 2*q*vp**2 - 2*q*vp + q - 2*vp**2 + 2*vp - 1))/12,\n",
    "   0]],\n",
    " [31,\n",
    "  [0,\n",
    "   -(pmp)*p_pair*qp**2*t*(p_pair*qp - 1)*(2*p_pair**2*r**2 - 2*p_pair*r + 1)/8,\n",
    "   (pmp)*qp**2*t*(-4*p_pair**4*qp*r**2 + 4*p_pair**3*qp*r + 4*p_pair**3*r**2 - 2*p_pair**2*qp - 4*p_pair**2*r + 2*p_pair - qp + 1)/12,\n",
    "   0]],\n",
    " [32,\n",
    "  [0,\n",
    "   -p_pair*t*((pdm)*rp*(q - 1)**2*(p_pair*rp - 1) + (pmp)*r*(qp - 1)**2*(p_pair*qp - 1)**2*(p_pair*r - 1) + (ppc)*r*(p_pair*q - 1)**2*(p_pair*r - 1)*(2*p_pair**2*vp**2 - 2*p_pair*vp + 1))/8,\n",
    "   (pdm)*t*(q - 1)**2*(-p_pair**2*rp**2 + p_pair*rp + 1)/6 + (pmp)*t*(qp - 1)**2*(-4*p_pair**4*qp**2*r**2 + 4*p_pair**3*qp**2*r + 8*p_pair**3*qp*r**2 + 2*p_pair**2*qp**2 - 8*p_pair**2*qp*r - 4*p_pair**2*r**2 - 4*p_pair*qp + 4*p_pair*r + qp**2 - 3*qp + 4)/24 + (ppc)*t*(-8*p_pair**6*q**2*r**2*vp**2 + 8*p_pair**5*q**2*r**2*vp + 8*p_pair**5*q**2*r*vp**2 + 16*p_pair**5*q*r**2*vp**2 - 4*p_pair**4*q**2*r**2 - 8*p_pair**4*q**2*r*vp - 16*p_pair**4*q*r**2*vp - 16*p_pair**4*q*r*vp**2 - 8*p_pair**4*r**2*vp**2 + 4*p_pair**3*q**2*r + 8*p_pair**3*q*r**2 + 16*p_pair**3*q*r*vp + 8*p_pair**3*r**2*vp + 8*p_pair**3*r*vp**2 + 2*p_pair**2*q**2 - 8*p_pair**2*q*r - 4*p_pair**2*r**2 - 8*p_pair**2*r*vp - 4*p_pair*q + 4*p_pair*r + 2*q**2*vp**2 - 2*q**2*vp + q**2 - 4*q*vp**2 + 4*q*vp - 3*q + 2*vp**2 - 2*vp + 4)/24 + (p_pair*q - 1)**2*(-(pdm)*t - (pmp)*t - (ppc)*t + 1)/6,\n",
    "   0]],\n",
    " [33,\n",
    "  [0,\n",
    "   p_pair*t*((pdm)*q*rp*(q - 1)*(p_pair*rp - 1) + (pmp)*qp*r*(qp - 1)*(p_pair*qp - 1)**2*(p_pair*r - 1))/4,\n",
    "   -(pdm)*q*t*(q - 1)*(-p_pair**2*rp**2 + p_pair*rp + 1)/3 - (pmp)*qp*t*(qp - 1)*(-4*p_pair**4*qp**2*r**2 + 4*p_pair**3*qp**2*r + 8*p_pair**3*qp*r**2 + 2*p_pair**2*qp**2 - 8*p_pair**2*qp*r - 2*p_pair**2*qp - 4*p_pair**2*r**2 - 4*p_pair*qp + 4*p_pair*r + 2*p_pair + qp**2 - 3*qp + 4)/12 - (ppc)*p_pair*q*t*(p_pair*q - 1)/6 + p_pair*q*(p_pair*q - 1)*((pdm)*t + (pmp)*t + (ppc)*t - 1)/3,\n",
    "   0]],\n",
    " [34,\n",
    "  [0,\n",
    "   -p_pair**3*r*t*(p_pair*r - 1)*((pmp)*qp**2*(qp - 1)**2 + (ppc)*q**2*(2*p_pair**2*vp**2 - 2*p_pair*vp + 1))/8,\n",
    "   t*((pmp)*qp*(-4*p_pair**4*qp**3*r**2 + 8*p_pair**4*qp**2*r**2 - 4*p_pair**4*qp*r**2 + 4*p_pair**3*qp**3*r - 8*p_pair**3*qp**2*r + 4*p_pair**3*qp*r + 2*p_pair**2*qp**3 + qp**3 - qp**2 - qp + 1) + (ppc)*q*(-8*p_pair**6*q*r**2*vp**2 + 8*p_pair**5*q*r**2*vp + 8*p_pair**5*q*r*vp**2 - 4*p_pair**4*q*r**2 - 8*p_pair**4*q*r*vp + 4*p_pair**3*q*r + 2*q*vp**2 - 2*q*vp + q + 1))/24,\n",
    "   0]],\n",
    " [35,\n",
    "  [0,\n",
    "   (pmp)*p_pair**3*qp**3*r*t*(qp - 1)*(p_pair*r - 1)/4,\n",
    "   (pmp)*qp**2*t*(4*p_pair**4*qp**2*r**2 - 4*p_pair**4*qp*r**2 - 4*p_pair**3*qp**2*r + 4*p_pair**3*qp*r - 2*p_pair**2*qp**2 + 2*p_pair - qp**2 + 1)/12,\n",
    "   0]],\n",
    " [36,\n",
    "  [0,\n",
    "   -p_pair*t*((pdm)*q**2*rp*(p_pair*rp - 1) + (pmp)*qp**2*r*(p_pair*r - 1)*(2*p_pair**2*qp**2 - 2*p_pair*qp + 1))/8,\n",
    "   (pdm)*q**2*t*(-p_pair**2*rp**2 + p_pair*rp + 1)/6 + (pmp)*qp**2*t*(-4*p_pair**4*qp**2*r**2 + 4*p_pair**3*qp**2*r + 4*p_pair**3*qp*r**2 + 2*p_pair**2*qp**2 - 4*p_pair**2*qp*r - 2*p_pair**2*qp - 2*p_pair**2*r**2 + p_pair**2 - 2*p_pair*qp + 2*p_pair*r + qp**2 - qp + 2)/12 + (ppc)*p_pair**2*q**2*t/12 + p_pair**2*q**2*(-(pdm)*t - (pmp)*t - (ppc)*t + 1)/6,\n",
    "   0]]]"
   ]
  },
  {
   "cell_type": "markdown",
   "metadata": {},
   "source": [
    "A/a locus"
   ]
  },
  {
   "cell_type": "code",
   "execution_count": 7,
   "metadata": {
    "collapsed": true
   },
   "outputs": [],
   "source": [
    "lst = []\n",
    "\n",
    "for i in modes:\n",
    "    if i[0][0] == i[1][0]:\n",
    "        lst.append(i)"
   ]
  },
  {
   "cell_type": "code",
   "execution_count": 8,
   "metadata": {},
   "outputs": [
    {
     "data": {
      "text/plain": [
       "[[['i_m', 'i_m', G], ['i_m', 'i_m', G]],\n",
       " [['i_m', 'j_m', G], ['i_m', 'j_m', G]],\n",
       " [['i_m', 'i_m', G], ['i_m', 'j_m', G]],\n",
       " [['i_m', 'j_m', G], ['i_m', 'k_m', G]],\n",
       " [['i_m', 'i_m', G], ['i_m', 'j_m', g]],\n",
       " [['i_m', 'i_m', g], ['i_m', 'i_m', G]],\n",
       " [['i_m', 'j_m', g], ['i_m', 'j_m', G]],\n",
       " [['i_m', 'i_m', g], ['i_m', 'j_m', G]],\n",
       " [['i_m', 'j_m', g], ['i_m', 'k_m', G]],\n",
       " [['i_m', 'i_m', g], ['i_m', 'i_m', g]],\n",
       " [['i_m', 'j_m', g], ['i_m', 'j_m', g]],\n",
       " [['i_m', 'i_m', g], ['i_m', 'j_m', g]],\n",
       " [['i_m', 'j_m', g], ['i_m', 'k_m', g]]]"
      ]
     },
     "execution_count": 8,
     "metadata": {},
     "output_type": "execute_result"
    }
   ],
   "source": [
    "lst"
   ]
  },
  {
   "cell_type": "markdown",
   "metadata": {},
   "source": [
    "Prob DR for GGGG genotype"
   ]
  },
  {
   "cell_type": "code",
   "execution_count": 169,
   "metadata": {
    "collapsed": true
   },
   "outputs": [],
   "source": [
    "prob_dr = 0\n",
    "\n",
    "for i in lst:\n",
    "    indx = modes.index(i)\n",
    "    prob_dr = prob_dr + prob[indx][1][0]"
   ]
  },
  {
   "cell_type": "code",
   "execution_count": 170,
   "metadata": {
    "scrolled": true
   },
   "outputs": [
    {
     "data": {
      "text/plain": [
       "-(ppc)*t*vp*(vp - 1)/2"
      ]
     },
     "execution_count": 170,
     "metadata": {},
     "output_type": "execute_result"
    }
   ],
   "source": [
    "sp.factor(prob_dr)"
   ]
  },
  {
   "cell_type": "markdown",
   "metadata": {},
   "source": [
    "Prob DR for GGGg genotype"
   ]
  },
  {
   "cell_type": "code",
   "execution_count": 171,
   "metadata": {
    "collapsed": true
   },
   "outputs": [],
   "source": [
    "prob_dr = 0\n",
    "\n",
    "for i in lst:\n",
    "    indx = modes.index(i)\n",
    "    prob_dr = prob_dr + prob[indx][1][1]"
   ]
  },
  {
   "cell_type": "code",
   "execution_count": 172,
   "metadata": {},
   "outputs": [
    {
     "data": {
      "text/plain": [
       "-(ppc)*t*vp*(p_pair**2*vp - p_pair + vp - 1)/4"
      ]
     },
     "execution_count": 172,
     "metadata": {},
     "output_type": "execute_result"
    }
   ],
   "source": [
    "sp.factor(prob_dr)"
   ]
  },
  {
   "cell_type": "markdown",
   "metadata": {},
   "source": [
    "Prob DR for GGgg genotype"
   ]
  },
  {
   "cell_type": "code",
   "execution_count": 173,
   "metadata": {
    "collapsed": true
   },
   "outputs": [],
   "source": [
    "prob_dr = 0\n",
    "\n",
    "for i in lst:\n",
    "    indx = modes.index(i)\n",
    "    prob_dr = prob_dr + prob[indx][1][2]"
   ]
  },
  {
   "cell_type": "code",
   "execution_count": 174,
   "metadata": {},
   "outputs": [
    {
     "data": {
      "text/plain": [
       "-(ppc)*t*vp*(2*p_pair**2*vp - 2*p_pair + vp - 1)/6"
      ]
     },
     "execution_count": 174,
     "metadata": {},
     "output_type": "execute_result"
    }
   ],
   "source": [
    "sp.factor(prob_dr)"
   ]
  },
  {
   "cell_type": "markdown",
   "metadata": {},
   "source": [
    "Prob DR for GGGG/g genotype"
   ]
  },
  {
   "cell_type": "code",
   "execution_count": 9,
   "metadata": {
    "collapsed": true
   },
   "outputs": [],
   "source": [
    "prob_dr = 0\n",
    "\n",
    "for i in lst:\n",
    "    indx = modes.index(i)\n",
    "    prob_dr = prob_dr + prob[indx][1][3]"
   ]
  },
  {
   "cell_type": "code",
   "execution_count": 10,
   "metadata": {},
   "outputs": [
    {
     "data": {
      "text/plain": [
       "-(ppc)*t*vp*(p_pair**2*vp - p_pair + vp - 1)/4"
      ]
     },
     "execution_count": 10,
     "metadata": {},
     "output_type": "execute_result"
    }
   ],
   "source": [
    "sp.factor(prob_dr)"
   ]
  },
  {
   "cell_type": "code",
   "execution_count": null,
   "metadata": {
    "collapsed": true
   },
   "outputs": [],
   "source": []
  },
  {
   "cell_type": "markdown",
   "metadata": {},
   "source": [
    "# Below are probabilities of double reduction when the G||g locus acts locally"
   ]
  },
  {
   "cell_type": "markdown",
   "metadata": {},
   "source": [
    "Preferential Pairing: Proximal"
   ]
  },
  {
   "cell_type": "code",
   "execution_count": 4,
   "metadata": {
    "collapsed": true
   },
   "outputs": [],
   "source": [
    "modes = [[[G, 'i_m', 'i_m'], [G, 'i_m', 'i_m']],\n",
    " [[G, 'i_m', 'j_m'], [G, 'i_m', 'j_m']],\n",
    " [[G, 'i_m', 'i_m'], [G, 'i_m', 'j_m']],\n",
    " [[G, 'i_m', 'j_m'], [G, 'i_m', 'k_m']],\n",
    " [[G, 'i_m', 'i_m'], [G, 'j_m', 'i_m']],\n",
    " [[G, 'i_m', 'j_m'], [G, 'k_m', 'j_m']],\n",
    " [[G, 'i_m', 'i_m'], [G, 'j_m', 'j_m']],\n",
    " [[G, 'i_m', 'i_m'], [G, 'j_m', 'k_m']],\n",
    " [[G, 'i_m', 'j_m'], [G, 'j_m', 'i_m']],\n",
    " [[G, 'i_m', 'j_m'], [G, 'j_m', 'k_m']],\n",
    " [[G, 'i_m', 'j_m'], [G, 'k_m', 'l_m']],\n",
    " [[G, 'i_m', 'i_m'], [g, 'i_m', 'j_m']],\n",
    " [[G, 'i_m', 'i_m'], [g, 'j_m', 'i_m']],\n",
    " [[G, 'i_m', 'i_m'], [g, 'j_m', 'k_m']],\n",
    " [[G, 'i_m', 'j_m'], [g, 'j_m', 'k_m']],\n",
    " [[g, 'i_m', 'i_m'], [G, 'i_m', 'i_m']],\n",
    " [[g, 'i_m', 'j_m'], [G, 'i_m', 'j_m']],\n",
    " [[g, 'i_m', 'i_m'], [G, 'i_m', 'j_m']],\n",
    " [[g, 'i_m', 'j_m'], [G, 'i_m', 'k_m']],\n",
    " [[g, 'i_m', 'i_m'], [G, 'j_m', 'i_m']],\n",
    " [[g, 'i_m', 'j_m'], [G, 'k_m', 'j_m']],\n",
    " [[g, 'i_m', 'i_m'], [G, 'j_m', 'j_m']],\n",
    " [[g, 'i_m', 'i_m'], [G, 'j_m', 'k_m']],\n",
    " [[g, 'i_m', 'j_m'], [G, 'j_m', 'i_m']],\n",
    " [[g, 'i_m', 'j_m'], [G, 'j_m', 'k_m']],\n",
    " [[g, 'i_m', 'j_m'], [G, 'k_m', 'l_m']],\n",
    " [[g, 'i_m', 'i_m'], [g, 'i_m', 'i_m']],\n",
    " [[g, 'i_m', 'j_m'], [g, 'i_m', 'j_m']],\n",
    " [[g, 'i_m', 'i_m'], [g, 'i_m', 'j_m']],\n",
    " [[g, 'i_m', 'j_m'], [g, 'i_m', 'k_m']],\n",
    " [[g, 'i_m', 'i_m'], [g, 'j_m', 'i_m']],\n",
    " [[g, 'i_m', 'j_m'], [g, 'k_m', 'j_m']],\n",
    " [[g, 'i_m', 'i_m'], [g, 'j_m', 'j_m']],\n",
    " [[g, 'i_m', 'i_m'], [g, 'j_m', 'k_m']],\n",
    " [[g, 'i_m', 'j_m'], [g, 'j_m', 'i_m']],\n",
    " [[g, 'i_m', 'j_m'], [g, 'j_m', 'k_m']],\n",
    " [[g, 'i_m', 'j_m'], [g, 'k_m', 'l_m']]]"
   ]
  },
  {
   "cell_type": "code",
   "execution_count": 5,
   "metadata": {
    "collapsed": true
   },
   "outputs": [],
   "source": [
    "prob = [[0,\n",
    "  [t*(r - 1)**2*(-(pmp)*qp*(qp - 1) + (ppc)*(-2*q*vp + q + vp)*(2*q*vp - q - vp + 1))/2,\n",
    "   -t*(r - 1)**2*(2*(pmp)*qp*(qp - 1) + (ppc)*(2*p_pair**4*q**2*vp**2 - 2*p_pair**3*q**2*vp - 2*p_pair**3*q*vp**2 + 2*p_pair**2*q*vp + p_pair**2*vp**2 - p_pair*vp + 8*q**2*vp**2 - 8*q**2*vp + 2*q**2 - 8*q*vp**2 + 8*q*vp - 2*q + 2*vp**2 - 2*vp))/8,\n",
    "   -t*(r - 1)**2*((pmp)*qp*(qp - 1) + (ppc)*(4*p_pair**4*q**2*vp**2 - 4*p_pair**3*q**2*vp - 4*p_pair**3*q*vp**2 + 4*p_pair**2*q*vp + 2*p_pair**2*vp**2 - 2*p_pair*vp + 4*q**2*vp**2 - 4*q**2*vp + q**2 - 4*q*vp**2 + 4*q*vp - q + vp**2 - vp))/12,\n",
    "   -t*(r - 1)**2*(3*(pmp)*qp*(qp - 1) + (ppc)*(4*p_pair**4*q**2*vp**2 - 4*p_pair**3*q**2*vp - 4*p_pair**3*q*vp**2 + p_pair**2*q**2 + 4*p_pair**2*q*vp + p_pair**2*vp**2 - p_pair*q - p_pair*vp + 8*q**2*vp**2 - 8*q**2*vp + 2*q**2 - 8*q*vp**2 + 8*q*vp - 2*q + 2*vp**2 - 2*vp))/8]],\n",
    " [1,\n",
    "  [r**2*t*(-(pmp)*qp*(qp - 1) + (ppc)*(-2*q*vp + q + vp)*(2*q*vp - q - vp + 1))/2,\n",
    "   -r**2*t*(2*(pmp)*qp*(qp - 1) + (ppc)*(2*p_pair**4*q**2*vp**2 - 2*p_pair**3*q**2*vp - 2*p_pair**3*q*vp**2 + 2*p_pair**2*q*vp + p_pair**2*vp**2 - p_pair*vp + 8*q**2*vp**2 - 8*q**2*vp + 2*q**2 - 8*q*vp**2 + 8*q*vp - 2*q + 2*vp**2 - 2*vp))/8,\n",
    "   -r**2*t*((pmp)*qp*(qp - 1) + (ppc)*(4*p_pair**4*q**2*vp**2 - 4*p_pair**3*q**2*vp - 4*p_pair**3*q*vp**2 + 4*p_pair**2*q*vp + 2*p_pair**2*vp**2 - 2*p_pair*vp + 4*q**2*vp**2 - 4*q**2*vp + q**2 - 4*q*vp**2 + 4*q*vp - q + vp**2 - vp))/12,\n",
    "   -r**2*t*(3*(pmp)*qp*(qp - 1) + (ppc)*(4*p_pair**4*q**2*vp**2 - 4*p_pair**3*q**2*vp - 4*p_pair**3*q*vp**2 + p_pair**2*q**2 + 4*p_pair**2*q*vp + p_pair**2*vp**2 - p_pair*q - p_pair*vp + 8*q**2*vp**2 - 8*q**2*vp + 2*q**2 - 8*q*vp**2 + 8*q*vp - 2*q + 2*vp**2 - 2*vp))/8]],\n",
    " [2,\n",
    "  [r*t*(r - 1)*((pmp)*qp*(qp - 1) - (ppc)*(-2*q*vp + q + vp)*(2*q*vp - q - vp + 1)),\n",
    "   r*t*(r - 1)*(2*(pmp)*qp*(qp - 1) + (ppc)*(2*p_pair**4*q**2*vp**2 - 2*p_pair**3*q**2*vp - 2*p_pair**3*q*vp**2 + 2*p_pair**2*q*vp + p_pair**2*vp**2 - p_pair*vp + 8*q**2*vp**2 - 8*q**2*vp + 2*q**2 - 8*q*vp**2 + 8*q*vp - 2*q + 2*vp**2 - 2*vp))/4,\n",
    "   r*t*(r - 1)*((pmp)*qp*(qp - 1) + (ppc)*(4*p_pair**4*q**2*vp**2 - 4*p_pair**3*q**2*vp - 4*p_pair**3*q*vp**2 + 4*p_pair**2*q*vp + 2*p_pair**2*vp**2 - 2*p_pair*vp + 4*q**2*vp**2 - 4*q**2*vp + q**2 - 4*q*vp**2 + 4*q*vp - q + vp**2 - vp))/6,\n",
    "   r*t*(r - 1)*(3*(pmp)*qp*(qp - 1) + (ppc)*(4*p_pair**4*q**2*vp**2 - 4*p_pair**3*q**2*vp - 4*p_pair**3*q*vp**2 + p_pair**2*q**2 + 4*p_pair**2*q*vp + p_pair**2*vp**2 - p_pair*q - p_pair*vp + 8*q**2*vp**2 - 8*q**2*vp + 2*q**2 - 8*q*vp**2 + 8*q*vp - 2*q + 2*vp**2 - 2*vp))/4]],\n",
    " [3, [0, 0, 0, 0]],\n",
    " [4,\n",
    "  [t*((pdm)*rp*(rp - 1)**2 - (pmp)*r*(r - 1)*(2*qp**2 - 2*qp + 1) - (ppc)*r*(r - 1)*(8*q**2*vp**2 - 8*q**2*vp + 2*q**2 - 8*q*vp**2 + 8*q*vp - 2*q + 2*vp**2 - 2*vp + 1))/2,\n",
    "   t*((pdm)*rp*(rp - 1)**2 - (pmp)*r*(r - 1)*(2*qp**2 - 2*qp + 1) - (ppc)*r*(r - 1)*(2*p_pair**4*q**2*vp**2 - 2*p_pair**3*q**2*vp - 2*p_pair**3*q*vp**2 + 2*p_pair**2*q*vp + 8*q**2*vp**2 - 8*q**2*vp + 2*q**2 - 8*q*vp**2 + 8*q*vp - 2*q + 2*vp**2 - 2*vp + 1))/4,\n",
    "   t*((pdm)*rp*(rp - 1)**2 - (pmp)*r*(r - 1)*(2*qp**2 - 2*qp + 1) - (ppc)*r*(r - 1)*(8*p_pair**4*q**2*vp**2 - 8*p_pair**3*q**2*vp - 8*p_pair**3*q*vp**2 + 8*p_pair**2*q*vp + 8*q**2*vp**2 - 8*q**2*vp + 2*q**2 - 8*q*vp**2 + 8*q*vp - 2*q + 2*vp**2 - 2*vp + 1))/12,\n",
    "   t*(3*(pdm)*rp*(rp - 1)**2 - 3*(pmp)*r*(r - 1)*(2*qp**2 - 2*qp + 1) - (ppc)*r*(r - 1)*(8*p_pair**4*q**2*vp**2 - 8*p_pair**3*q**2*vp - 8*p_pair**3*q*vp**2 + 2*p_pair**2*q**2 + 8*p_pair**2*q*vp + 2*p_pair**2*vp**2 - 2*p_pair*q - 2*p_pair*vp + 16*q**2*vp**2 - 16*q**2*vp + 4*q**2 - 16*q*vp**2 + 16*q*vp - 4*q + 4*vp**2 - 4*vp + 3))/8]],\n",
    " [5,\n",
    "  [(pdm)*rp**2*t*(1 - rp)/2,\n",
    "   (pdm)*rp**2*t*(1 - rp)/4,\n",
    "   (pdm)*rp**2*t*(1 - rp)/12,\n",
    "   3*(pdm)*rp**2*t*(1 - rp)/8]],\n",
    " [6,\n",
    "  [(pdm)*t*(rp - 1)**3*(3*rp - 4)/4 + (pmp)*t*(r - 1)*(2*qp**2*r - 2*qp**2 - 2*qp*r + 2*qp + 3*r - 4)/4 + (ppc)*t*(r - 1)*(8*q**2*r*vp**2 - 8*q**2*r*vp + 2*q**2*r - 8*q**2*vp**2 + 8*q**2*vp - 2*q**2 - 8*q*r*vp**2 + 8*q*r*vp - 2*q*r + 8*q*vp**2 - 8*q*vp + 2*q + 2*r*vp**2 - 2*r*vp + 3*r - 2*vp**2 + 2*vp - 4)/4 + (r - 1)**2*(-(pdm)*t - (pmp)*t - (ppc)*t + 1),\n",
    "   (pdm)*t*(rp - 1)**3*(3*rp - 4)/8 + (pmp)*t*(r - 1)*(2*qp**2*r - 2*qp**2 - 2*qp*r + 2*qp + 3*r - 4)/8 + (ppc)*t*(r - 1)*(2*p_pair**4*q**2*r*vp**2 - 2*p_pair**4*q**2*vp**2 - 2*p_pair**3*q**2*r*vp + 2*p_pair**3*q**2*vp - 2*p_pair**3*q*r*vp**2 + 2*p_pair**3*q*vp**2 + 2*p_pair**2*q*r*vp - 2*p_pair**2*q*vp + 8*q**2*r*vp**2 - 8*q**2*r*vp + 2*q**2*r - 8*q**2*vp**2 + 8*q**2*vp - 2*q**2 - 8*q*r*vp**2 + 8*q*r*vp - 2*q*r + 8*q*vp**2 - 8*q*vp + 2*q + 2*r*vp**2 - 2*r*vp + 3*r - 2*vp**2 + 2*vp - 4)/8 + (r - 1)**2*(-(pdm)*t - (pmp)*t - (ppc)*t + 1)/2,\n",
    "   (pdm)*t*(rp - 1)**3*(3*rp - 4)/24 + (pmp)*t*(r - 1)*(2*qp**2*r - 2*qp**2 - 2*qp*r + 2*qp + 3*r - 4)/24 + (ppc)*t*(r - 1)*(8*p_pair**4*q**2*r*vp**2 - 8*p_pair**4*q**2*vp**2 - 8*p_pair**3*q**2*r*vp + 8*p_pair**3*q**2*vp - 8*p_pair**3*q*r*vp**2 + 8*p_pair**3*q*vp**2 + 8*p_pair**2*q*r*vp - 8*p_pair**2*q*vp + 8*q**2*r*vp**2 - 8*q**2*r*vp + 2*q**2*r - 8*q**2*vp**2 + 8*q**2*vp - 2*q**2 - 8*q*r*vp**2 + 8*q*r*vp - 2*q*r + 8*q*vp**2 - 8*q*vp + 2*q + 2*r*vp**2 - 2*r*vp + 3*r - 2*vp**2 + 2*vp - 4)/24 + (r - 1)**2*(-(pdm)*t - (pmp)*t - (ppc)*t + 1)/6,\n",
    "   3*(pdm)*t*(rp - 1)**3*(3*rp - 4)/16 + 3*(pmp)*t*(r - 1)*(2*qp**2*r - 2*qp**2 - 2*qp*r + 2*qp + 3*r - 4)/16 + (ppc)*t*(r - 1)*(8*p_pair**4*q**2*r*vp**2 - 8*p_pair**4*q**2*vp**2 - 8*p_pair**3*q**2*r*vp + 8*p_pair**3*q**2*vp - 8*p_pair**3*q*r*vp**2 + 8*p_pair**3*q*vp**2 + 2*p_pair**2*q**2*r - 2*p_pair**2*q**2 + 8*p_pair**2*q*r*vp - 8*p_pair**2*q*vp + 2*p_pair**2*r*vp**2 - 2*p_pair**2*vp**2 - 2*p_pair*q*r + 2*p_pair*q - 2*p_pair*r*vp + 2*p_pair*vp + 16*q**2*r*vp**2 - 16*q**2*r*vp + 4*q**2*r - 16*q**2*vp**2 + 16*q**2*vp - 4*q**2 - 16*q*r*vp**2 + 16*q*r*vp - 4*q*r + 16*q*vp**2 - 16*q*vp + 4*q + 4*r*vp**2 - 4*r*vp + 9*r - 4*vp**2 + 4*vp - 12)/16 + 3*(r - 1)**2*(-(pdm)*t - (pmp)*t - (ppc)*t + 1)/4]],\n",
    " [7,\n",
    "  [-3*(pdm)*rp*t*(rp - 2)*(rp - 1)**2/2 - (pmp)*r*t*(r - 1) - (ppc)*r*t*(r - 1) + 2*r*(r - 1)*((pdm)*t + (pmp)*t + (ppc)*t - 1),\n",
    "   -3*(pdm)*rp*t*(rp - 2)*(rp - 1)**2/4 - (pmp)*r*t*(r - 1)/2 - (ppc)*r*t*(r - 1)/2 + r*(r - 1)*((pdm)*t + (pmp)*t + (ppc)*t - 1),\n",
    "   -(pdm)*rp*t*(rp - 2)*(rp - 1)**2/4 - (pmp)*r*t*(r - 1)/6 - (ppc)*r*t*(r - 1)/6 + r*(r - 1)*((pdm)*t + (pmp)*t + (ppc)*t - 1)/3,\n",
    "   -9*(pdm)*rp*t*(rp - 2)*(rp - 1)**2/8 - 3*(pmp)*r*t*(r - 1)/4 - 3*(ppc)*r*t*(r - 1)/4 + 3*r*(r - 1)*((pdm)*t + (pmp)*t + (ppc)*t - 1)/2]],\n",
    " [8,\n",
    "  [t*((pdm)*rp*(3*rp**3 - rp**2 - rp + 1) + (pmp)*r*(2*qp**2*r - 2*qp*r + r + 1) + (ppc)*r*(8*q**2*r*vp**2 - 8*q**2*r*vp + 2*q**2*r - 8*q*r*vp**2 + 8*q*r*vp - 2*q*r + 2*r*vp**2 - 2*r*vp + r + 1))/4,\n",
    "   t*((pdm)*rp*(3*rp**3 - rp**2 - rp + 1) + (pmp)*r*(2*qp**2*r - 2*qp*r + r + 1) + (ppc)*r*(2*p_pair**4*q**2*r*vp**2 - 2*p_pair**3*q**2*r*vp - 2*p_pair**3*q*r*vp**2 + 2*p_pair**2*q*r*vp + 8*q**2*r*vp**2 - 8*q**2*r*vp + 2*q**2*r - 8*q*r*vp**2 + 8*q*r*vp - 2*q*r + 2*r*vp**2 - 2*r*vp + r + 1))/8,\n",
    "   t*((pdm)*rp*(3*rp**3 - rp**2 - rp + 1) + (pmp)*r*(2*qp**2*r - 2*qp*r + r + 1) + (ppc)*r*(8*p_pair**4*q**2*r*vp**2 - 8*p_pair**3*q**2*r*vp - 8*p_pair**3*q*r*vp**2 + 8*p_pair**2*q*r*vp + 8*q**2*r*vp**2 - 8*q**2*r*vp + 2*q**2*r - 8*q*r*vp**2 + 8*q*r*vp - 2*q*r + 2*r*vp**2 - 2*r*vp + r + 1))/24,\n",
    "   t*(3*(pdm)*rp*(3*rp**3 - rp**2 - rp + 1) + 3*(pmp)*r*(2*qp**2*r - 2*qp*r + r + 1) + (ppc)*r*(8*p_pair**4*q**2*r*vp**2 - 8*p_pair**3*q**2*r*vp - 8*p_pair**3*q*r*vp**2 + 2*p_pair**2*q**2*r + 8*p_pair**2*q*r*vp + 2*p_pair**2*r*vp**2 - 2*p_pair*q*r - 2*p_pair*r*vp + 16*q**2*r*vp**2 - 16*q**2*r*vp + 4*q**2*r - 16*q*r*vp**2 + 16*q*r*vp - 4*q*r + 4*r*vp**2 - 4*r*vp + 3*r + 3))/16]],\n",
    " [9,\n",
    "  [3*(pdm)*rp**2*t*(1 - rp**2)/2,\n",
    "   3*(pdm)*rp**2*t*(1 - rp**2)/4,\n",
    "   (pdm)*rp**2*t*(1 - rp**2)/4,\n",
    "   9*(pdm)*rp**2*t*(1 - rp**2)/8]],\n",
    " [10,\n",
    "  [(pdm)*rp**2*t*(3*rp**2 - 5*rp + 3)/2 + (pmp)*r**2*t/2 + (ppc)*r**2*t/2 + r**2*(-(pdm)*t - (pmp)*t - (ppc)*t + 1),\n",
    "   (pdm)*rp**2*t*(3*rp**2 - 5*rp + 3)/4 + (pmp)*r**2*t/4 + (ppc)*r**2*t/4 + r**2*(-(pdm)*t - (pmp)*t - (ppc)*t + 1)/2,\n",
    "   (pdm)*rp**2*t*(3*rp**2 - 5*rp + 3)/12 + (pmp)*r**2*t/12 + (ppc)*r**2*t/12 + r**2*(-(pdm)*t - (pmp)*t - (ppc)*t + 1)/6,\n",
    "   3*(pdm)*rp**2*t*(3*rp**2 - 5*rp + 3)/8 + 3*(pmp)*r**2*t/8 + 3*(ppc)*r**2*t/8 + 3*r**2*(-(pdm)*t - (pmp)*t - (ppc)*t + 1)/4]],\n",
    " [11,\n",
    "  [0,\n",
    "   r*t*(r - 1)*((pmp)*qp*(qp - 1) + (ppc)*p_pair*q*(p_pair*q - 1)*(2*p_pair**2*vp**2 - 2*p_pair*vp + 1))/4,\n",
    "   r*t*(r - 1)*((pmp)*qp*(qp - 1) + (ppc)*p_pair*q*(p_pair*q - 1)*(2*p_pair**2*vp**2 - 2*p_pair*vp + 1))/3,\n",
    "   r*t*(r - 1)*((pmp)*qp*(qp - 1) - (ppc)*p_pair*(-2*p_pair*q*vp + q + vp)*(2*p_pair**2*q*vp - p_pair*q - p_pair*vp + 1))/8]],\n",
    " [12,\n",
    "  [0,\n",
    "   t*((pdm)*rp*(rp - 1)**2 - (pmp)*r*(r - 1)*(2*qp**2 - 2*qp + 1) - (ppc)*r*(r - 1)*(2*p_pair**2*q**2 - 2*p_pair*q + 1)*(2*p_pair**2*vp**2 - 2*p_pair*vp + 1))/8,\n",
    "   t*((pdm)*rp*(rp - 1)**2 - (pmp)*r*(r - 1)*(2*qp**2 - 2*qp + 1) - (ppc)*r*(r - 1)*(2*p_pair**2*q**2 - 2*p_pair*q + 1)*(2*p_pair**2*vp**2 - 2*p_pair*vp + 1))/6,\n",
    "   t*((pdm)*rp*(rp - 1)**2 - (pmp)*r*(r - 1)*(2*qp**2 - 2*qp + 1) - (ppc)*r*(r - 1)*(8*p_pair**4*q**2*vp**2 - 8*p_pair**3*q**2*vp - 8*p_pair**3*q*vp**2 + 2*p_pair**2*q**2 + 8*p_pair**2*q*vp + 2*p_pair**2*vp**2 - 2*p_pair*q - 2*p_pair*vp + 1))/16]],\n",
    " [13,\n",
    "  [0,\n",
    "   -3*(pdm)*rp*t*(rp - 2)*(rp - 1)**2/8 - (pmp)*r*t*(r - 1)/4 - (ppc)*r*t*(r - 1)/4 + r*(r - 1)*((pdm)*t + (pmp)*t + (ppc)*t - 1)/2,\n",
    "   -(pdm)*rp*t*(rp - 2)*(rp - 1)**2/2 - (pmp)*r*t*(r - 1)/3 - (ppc)*r*t*(r - 1)/3 + 2*r*(r - 1)*((pdm)*t + (pmp)*t + (ppc)*t - 1)/3,\n",
    "   -3*(pdm)*rp*t*(rp - 2)*(rp - 1)**2/16 - (pmp)*r*t*(r - 1)/8 - (ppc)*r*t*(r - 1)/8 + r*(r - 1)*((pdm)*t + (pmp)*t + (ppc)*t - 1)/4]],\n",
    " [14,\n",
    "  [0,\n",
    "   3*(pdm)*rp**2*t*(1 - rp**2)/8,\n",
    "   (pdm)*rp**2*t*(1 - rp**2)/2,\n",
    "   3*(pdm)*rp**2*t*(1 - rp**2)/16]],\n",
    " [15,\n",
    "  [0,\n",
    "   -t*(r - 1)**2*((pmp)*qp*(qp - 1) + (ppc)*p_pair*q*(p_pair*q - 1)*(2*p_pair**2*vp**2 - 2*p_pair*vp + 1))/4,\n",
    "   -t*(r - 1)**2*((pmp)*qp*(qp - 1) + (ppc)*p_pair*q*(p_pair*q - 1)*(2*p_pair**2*vp**2 - 2*p_pair*vp + 1))/3,\n",
    "   t*(r - 1)**2*(-(pmp)*qp*(qp - 1) + (ppc)*p_pair*(-2*p_pair*q*vp + q + vp)*(2*p_pair**2*q*vp - p_pair*q - p_pair*vp + 1))/8]],\n",
    " [16,\n",
    "  [0,\n",
    "   -r**2*t*((pmp)*qp*(qp - 1) + (ppc)*p_pair*q*(p_pair*q - 1)*(2*p_pair**2*vp**2 - 2*p_pair*vp + 1))/4,\n",
    "   -r**2*t*((pmp)*qp*(qp - 1) + (ppc)*p_pair*q*(p_pair*q - 1)*(2*p_pair**2*vp**2 - 2*p_pair*vp + 1))/3,\n",
    "   r**2*t*(-(pmp)*qp*(qp - 1) + (ppc)*p_pair*(-2*p_pair*q*vp + q + vp)*(2*p_pair**2*q*vp - p_pair*q - p_pair*vp + 1))/8]],\n",
    " [17,\n",
    "  [0,\n",
    "   r*t*(r - 1)*((pmp)*qp*(qp - 1) + (ppc)*p_pair*q*(p_pair*q - 1)*(2*p_pair**2*vp**2 - 2*p_pair*vp + 1))/4,\n",
    "   r*t*(r - 1)*((pmp)*qp*(qp - 1) + (ppc)*p_pair*q*(p_pair*q - 1)*(2*p_pair**2*vp**2 - 2*p_pair*vp + 1))/3,\n",
    "   r*t*(r - 1)*((pmp)*qp*(qp - 1) - (ppc)*p_pair*(-2*p_pair*q*vp + q + vp)*(2*p_pair**2*q*vp - p_pair*q - p_pair*vp + 1))/8]],\n",
    " [18, [0, 0, 0, 0]],\n",
    " [19,\n",
    "  [0,\n",
    "   t*((pdm)*rp*(rp - 1)**2 - (pmp)*r*(r - 1)*(2*qp**2 - 2*qp + 1) - (ppc)*r*(r - 1)*(2*p_pair**2*q**2 - 2*p_pair*q + 1)*(2*p_pair**2*vp**2 - 2*p_pair*vp + 1))/8,\n",
    "   t*((pdm)*rp*(rp - 1)**2 - (pmp)*r*(r - 1)*(2*qp**2 - 2*qp + 1) - (ppc)*r*(r - 1)*(2*p_pair**2*q**2 - 2*p_pair*q + 1)*(2*p_pair**2*vp**2 - 2*p_pair*vp + 1))/6,\n",
    "   t*((pdm)*rp*(rp - 1)**2 - (pmp)*r*(r - 1)*(2*qp**2 - 2*qp + 1) - (ppc)*r*(r - 1)*(8*p_pair**4*q**2*vp**2 - 8*p_pair**3*q**2*vp - 8*p_pair**3*q*vp**2 + 2*p_pair**2*q**2 + 8*p_pair**2*q*vp + 2*p_pair**2*vp**2 - 2*p_pair*q - 2*p_pair*vp + 1))/16]],\n",
    " [20,\n",
    "  [0,\n",
    "   (pdm)*rp**2*t*(1 - rp)/4,\n",
    "   (pdm)*rp**2*t*(1 - rp)/3,\n",
    "   (pdm)*rp**2*t*(1 - rp)/8]],\n",
    " [21,\n",
    "  [0,\n",
    "   (pdm)*t*(rp - 1)**3*(3*rp - 4)/8 + (pmp)*t*(r - 1)*(2*qp**2*r - 2*qp**2 - 2*qp*r + 2*qp + 3*r - 4)/8 + (ppc)*t*(r - 1)*(4*p_pair**4*q**2*r*vp**2 - 4*p_pair**4*q**2*vp**2 - 4*p_pair**3*q**2*r*vp + 4*p_pair**3*q**2*vp - 4*p_pair**3*q*r*vp**2 + 4*p_pair**3*q*vp**2 + 2*p_pair**2*q**2*r - 2*p_pair**2*q**2 + 4*p_pair**2*q*r*vp - 4*p_pair**2*q*vp + 2*p_pair**2*r*vp**2 - 2*p_pair**2*vp**2 - 2*p_pair*q*r + 2*p_pair*q - 2*p_pair*r*vp + 2*p_pair*vp + 3*r - 4)/8 + (r - 1)**2*(-(pdm)*t - (pmp)*t - (ppc)*t + 1)/2,\n",
    "   (pdm)*t*(rp - 1)**3*(3*rp - 4)/6 + (pmp)*t*(r - 1)*(2*qp**2*r - 2*qp**2 - 2*qp*r + 2*qp + 3*r - 4)/6 + (ppc)*t*(r - 1)*(4*p_pair**4*q**2*r*vp**2 - 4*p_pair**4*q**2*vp**2 - 4*p_pair**3*q**2*r*vp + 4*p_pair**3*q**2*vp - 4*p_pair**3*q*r*vp**2 + 4*p_pair**3*q*vp**2 + 2*p_pair**2*q**2*r - 2*p_pair**2*q**2 + 4*p_pair**2*q*r*vp - 4*p_pair**2*q*vp + 2*p_pair**2*r*vp**2 - 2*p_pair**2*vp**2 - 2*p_pair*q*r + 2*p_pair*q - 2*p_pair*r*vp + 2*p_pair*vp + 3*r - 4)/6 + 2*(r - 1)**2*(-(pdm)*t - (pmp)*t - (ppc)*t + 1)/3,\n",
    "   (pdm)*t*(rp - 1)**3*(3*rp - 4)/16 + (pmp)*t*(r - 1)*(2*qp**2*r - 2*qp**2 - 2*qp*r + 2*qp + 3*r - 4)/16 + (ppc)*t*(r - 1)*(8*p_pair**4*q**2*r*vp**2 - 8*p_pair**4*q**2*vp**2 - 8*p_pair**3*q**2*r*vp + 8*p_pair**3*q**2*vp - 8*p_pair**3*q*r*vp**2 + 8*p_pair**3*q*vp**2 + 2*p_pair**2*q**2*r - 2*p_pair**2*q**2 + 8*p_pair**2*q*r*vp - 8*p_pair**2*q*vp + 2*p_pair**2*r*vp**2 - 2*p_pair**2*vp**2 - 2*p_pair*q*r + 2*p_pair*q - 2*p_pair*r*vp + 2*p_pair*vp + 3*r - 4)/16 + (r - 1)**2*(-(pdm)*t - (pmp)*t - (ppc)*t + 1)/4]],\n",
    " [22,\n",
    "  [0,\n",
    "   -3*(pdm)*rp*t*(rp - 2)*(rp - 1)**2/8 - (pmp)*r*t*(r - 1)/4 - (ppc)*r*t*(r - 1)/4 + r*(r - 1)*((pdm)*t + (pmp)*t + (ppc)*t - 1)/2,\n",
    "   -(pdm)*rp*t*(rp - 2)*(rp - 1)**2/2 - (pmp)*r*t*(r - 1)/3 - (ppc)*r*t*(r - 1)/3 + 2*r*(r - 1)*((pdm)*t + (pmp)*t + (ppc)*t - 1)/3,\n",
    "   -3*(pdm)*rp*t*(rp - 2)*(rp - 1)**2/16 - (pmp)*r*t*(r - 1)/8 - (ppc)*r*t*(r - 1)/8 + r*(r - 1)*((pdm)*t + (pmp)*t + (ppc)*t - 1)/4]],\n",
    " [23,\n",
    "  [0,\n",
    "   t*((pdm)*rp*(3*rp**3 - rp**2 - rp + 1) + (pmp)*r*(2*qp**2*r - 2*qp*r + r + 1) + (ppc)*r*(4*p_pair**4*q**2*r*vp**2 - 4*p_pair**3*q**2*r*vp - 4*p_pair**3*q*r*vp**2 + 2*p_pair**2*q**2*r + 4*p_pair**2*q*r*vp + 2*p_pair**2*r*vp**2 - 2*p_pair*q*r - 2*p_pair*r*vp + r + 1))/8,\n",
    "   t*((pdm)*rp*(3*rp**3 - rp**2 - rp + 1) + (pmp)*r*(2*qp**2*r - 2*qp*r + r + 1) + (ppc)*r*(4*p_pair**4*q**2*r*vp**2 - 4*p_pair**3*q**2*r*vp - 4*p_pair**3*q*r*vp**2 + 2*p_pair**2*q**2*r + 4*p_pair**2*q*r*vp + 2*p_pair**2*r*vp**2 - 2*p_pair*q*r - 2*p_pair*r*vp + r + 1))/6,\n",
    "   t*((pdm)*rp*(3*rp**3 - rp**2 - rp + 1) + (pmp)*r*(2*qp**2*r - 2*qp*r + r + 1) + (ppc)*r*(8*p_pair**4*q**2*r*vp**2 - 8*p_pair**3*q**2*r*vp - 8*p_pair**3*q*r*vp**2 + 2*p_pair**2*q**2*r + 8*p_pair**2*q*r*vp + 2*p_pair**2*r*vp**2 - 2*p_pair*q*r - 2*p_pair*r*vp + r + 1))/16]],\n",
    " [24,\n",
    "  [0,\n",
    "   3*(pdm)*rp**2*t*(1 - rp**2)/8,\n",
    "   (pdm)*rp**2*t*(1 - rp**2)/2,\n",
    "   3*(pdm)*rp**2*t*(1 - rp**2)/16]],\n",
    " [25,\n",
    "  [0,\n",
    "   (pdm)*rp**2*t*(3*rp**2 - 5*rp + 3)/4 + (pmp)*r**2*t/4 + (ppc)*r**2*t/4 + r**2*(-(pdm)*t - (pmp)*t - (ppc)*t + 1)/2,\n",
    "   (pdm)*rp**2*t*(3*rp**2 - 5*rp + 3)/3 + (pmp)*r**2*t/3 + (ppc)*r**2*t/3 + 2*r**2*(-(pdm)*t - (pmp)*t - (ppc)*t + 1)/3,\n",
    "   (pdm)*rp**2*t*(3*rp**2 - 5*rp + 3)/8 + (pmp)*r**2*t/8 + (ppc)*r**2*t/8 + r**2*(-(pdm)*t - (pmp)*t - (ppc)*t + 1)/4]],\n",
    " [26,\n",
    "  [0,\n",
    "   -(ppc)*p_pair*t*vp*(r - 1)**2*(p_pair*vp - 1)*(2*p_pair**2*q**2 - 2*p_pair*q + 1)/8,\n",
    "   -t*(r - 1)**2*((pmp)*qp*(qp - 1) + (ppc)*(4*p_pair**4*q**2*vp**2 - 4*p_pair**3*q**2*vp - 4*p_pair**3*q*vp**2 + 4*p_pair**2*q*vp + 2*p_pair**2*vp**2 - 2*p_pair*vp + 4*q**2*vp**2 - 4*q**2*vp + q**2 - 4*q*vp**2 + 4*q*vp - q + vp**2 - vp))/12,\n",
    "   0]],\n",
    " [27,\n",
    "  [0,\n",
    "   -(ppc)*p_pair*r**2*t*vp*(p_pair*vp - 1)*(2*p_pair**2*q**2 - 2*p_pair*q + 1)/8,\n",
    "   -r**2*t*((pmp)*qp*(qp - 1) + (ppc)*(4*p_pair**4*q**2*vp**2 - 4*p_pair**3*q**2*vp - 4*p_pair**3*q*vp**2 + 4*p_pair**2*q*vp + 2*p_pair**2*vp**2 - 2*p_pair*vp + 4*q**2*vp**2 - 4*q**2*vp + q**2 - 4*q*vp**2 + 4*q*vp - q + vp**2 - vp))/12,\n",
    "   0]],\n",
    " [28,\n",
    "  [0,\n",
    "   (ppc)*p_pair*r*t*vp*(r - 1)*(p_pair*vp - 1)*(2*p_pair**2*q**2 - 2*p_pair*q + 1)/4,\n",
    "   r*t*(r - 1)*((pmp)*qp*(qp - 1) + (ppc)*(4*p_pair**4*q**2*vp**2 - 4*p_pair**3*q**2*vp - 4*p_pair**3*q*vp**2 + 4*p_pair**2*q*vp + 2*p_pair**2*vp**2 - 2*p_pair*vp + 4*q**2*vp**2 - 4*q**2*vp + q**2 - 4*q*vp**2 + 4*q*vp - q + vp**2 - vp))/6,\n",
    "   0]],\n",
    " [29, [0, 0, 0, 0]],\n",
    " [30,\n",
    "  [0,\n",
    "   -(ppc)*p_pair**2*q*r*t*vp*(r - 1)*(p_pair*q - 1)*(p_pair*vp - 1)/2,\n",
    "   t*((pdm)*rp*(rp - 1)**2 - (pmp)*r*(r - 1)*(2*qp**2 - 2*qp + 1) - (ppc)*r*(r - 1)*(8*p_pair**4*q**2*vp**2 - 8*p_pair**3*q**2*vp - 8*p_pair**3*q*vp**2 + 8*p_pair**2*q*vp + 8*q**2*vp**2 - 8*q**2*vp + 2*q**2 - 8*q*vp**2 + 8*q*vp - 2*q + 2*vp**2 - 2*vp + 1))/12,\n",
    "   0]],\n",
    " [31, [0, 0, (pdm)*rp**2*t*(1 - rp)/12, 0]],\n",
    " [32,\n",
    "  [0,\n",
    "   (ppc)*p_pair**2*q*t*vp*(r - 1)**2*(p_pair*q - 1)*(p_pair*vp - 1)/4,\n",
    "   (pdm)*t*(rp - 1)**3*(3*rp - 4)/24 + (pmp)*t*(r - 1)*(2*qp**2*r - 2*qp**2 - 2*qp*r + 2*qp + 3*r - 4)/24 + (ppc)*t*(r - 1)*(8*p_pair**4*q**2*r*vp**2 - 8*p_pair**4*q**2*vp**2 - 8*p_pair**3*q**2*r*vp + 8*p_pair**3*q**2*vp - 8*p_pair**3*q*r*vp**2 + 8*p_pair**3*q*vp**2 + 8*p_pair**2*q*r*vp - 8*p_pair**2*q*vp + 8*q**2*r*vp**2 - 8*q**2*r*vp + 2*q**2*r - 8*q**2*vp**2 + 8*q**2*vp - 2*q**2 - 8*q*r*vp**2 + 8*q*r*vp - 2*q*r + 8*q*vp**2 - 8*q*vp + 2*q + 2*r*vp**2 - 2*r*vp + 3*r - 2*vp**2 + 2*vp - 4)/24 + (r - 1)**2*(-(pdm)*t - (pmp)*t - (ppc)*t + 1)/6,\n",
    "   0]],\n",
    " [33,\n",
    "  [0,\n",
    "   0,\n",
    "   -(pdm)*rp*t*(rp - 2)*(rp - 1)**2/4 - (pmp)*r*t*(r - 1)/6 - (ppc)*r*t*(r - 1)/6 + r*(r - 1)*((pdm)*t + (pmp)*t + (ppc)*t - 1)/3,\n",
    "   0]],\n",
    " [34,\n",
    "  [0,\n",
    "   (ppc)*p_pair**2*q*r**2*t*vp*(p_pair*q - 1)*(p_pair*vp - 1)/4,\n",
    "   t*((pdm)*rp*(3*rp**3 - rp**2 - rp + 1) + (pmp)*r*(2*qp**2*r - 2*qp*r + r + 1) + (ppc)*r*(8*p_pair**4*q**2*r*vp**2 - 8*p_pair**3*q**2*r*vp - 8*p_pair**3*q*r*vp**2 + 8*p_pair**2*q*r*vp + 8*q**2*r*vp**2 - 8*q**2*r*vp + 2*q**2*r - 8*q*r*vp**2 + 8*q*r*vp - 2*q*r + 2*r*vp**2 - 2*r*vp + r + 1))/24,\n",
    "   0]],\n",
    " [35, [0, 0, (pdm)*rp**2*t*(1 - rp**2)/4, 0]],\n",
    " [36,\n",
    "  [0,\n",
    "   0,\n",
    "   (pdm)*rp**2*t*(3*rp**2 - 5*rp + 3)/12 + (pmp)*r**2*t/12 + (ppc)*r**2*t/12 + r**2*(-(pdm)*t - (pmp)*t - (ppc)*t + 1)/6,\n",
    "   0]]]"
   ]
  },
  {
   "cell_type": "markdown",
   "metadata": {},
   "source": [
    "A/a locus"
   ]
  },
  {
   "cell_type": "code",
   "execution_count": 6,
   "metadata": {
    "collapsed": true
   },
   "outputs": [],
   "source": [
    "lst = []\n",
    "\n",
    "for i in modes:\n",
    "    if i[0][1] == i[1][1]:\n",
    "        lst.append(i)"
   ]
  },
  {
   "cell_type": "code",
   "execution_count": 7,
   "metadata": {},
   "outputs": [
    {
     "data": {
      "text/plain": [
       "[[[G, 'i_m', 'i_m'], [G, 'i_m', 'i_m']],\n",
       " [[G, 'i_m', 'j_m'], [G, 'i_m', 'j_m']],\n",
       " [[G, 'i_m', 'i_m'], [G, 'i_m', 'j_m']],\n",
       " [[G, 'i_m', 'j_m'], [G, 'i_m', 'k_m']],\n",
       " [[G, 'i_m', 'i_m'], [g, 'i_m', 'j_m']],\n",
       " [[g, 'i_m', 'i_m'], [G, 'i_m', 'i_m']],\n",
       " [[g, 'i_m', 'j_m'], [G, 'i_m', 'j_m']],\n",
       " [[g, 'i_m', 'i_m'], [G, 'i_m', 'j_m']],\n",
       " [[g, 'i_m', 'j_m'], [G, 'i_m', 'k_m']],\n",
       " [[g, 'i_m', 'i_m'], [g, 'i_m', 'i_m']],\n",
       " [[g, 'i_m', 'j_m'], [g, 'i_m', 'j_m']],\n",
       " [[g, 'i_m', 'i_m'], [g, 'i_m', 'j_m']],\n",
       " [[g, 'i_m', 'j_m'], [g, 'i_m', 'k_m']]]"
      ]
     },
     "execution_count": 7,
     "metadata": {},
     "output_type": "execute_result"
    }
   ],
   "source": [
    "lst"
   ]
  },
  {
   "cell_type": "markdown",
   "metadata": {},
   "source": [
    "Prob DR for GGGG genotype"
   ]
  },
  {
   "cell_type": "code",
   "execution_count": 8,
   "metadata": {
    "collapsed": true
   },
   "outputs": [],
   "source": [
    "prob_dr = 0\n",
    "\n",
    "for i in lst:\n",
    "    indx = modes.index(i)\n",
    "    prob_dr = prob_dr + prob[indx][1][0]"
   ]
  },
  {
   "cell_type": "code",
   "execution_count": 9,
   "metadata": {
    "scrolled": true
   },
   "outputs": [
    {
     "data": {
      "text/plain": [
       "[-t*((pmp)*qp**2 - (pmp)*qp + 4*(ppc)*q**2*vp**2 - 4*(ppc)*q**2*vp + (ppc)*q**2 - 4*(ppc)*q*vp**2 + 4*(ppc)*q*vp - (ppc)*q + (ppc)*vp**2 - (ppc)*vp)/2]"
      ]
     },
     "execution_count": 9,
     "metadata": {},
     "output_type": "execute_result"
    }
   ],
   "source": [
    "[sp.factor(prob_dr)]"
   ]
  },
  {
   "cell_type": "markdown",
   "metadata": {},
   "source": [
    "Prob DR for GGGg genotype"
   ]
  },
  {
   "cell_type": "code",
   "execution_count": 10,
   "metadata": {
    "collapsed": true
   },
   "outputs": [],
   "source": [
    "prob_dr = 0\n",
    "\n",
    "for i in lst:\n",
    "    indx = modes.index(i)\n",
    "    prob_dr = prob_dr + prob[indx][1][1]"
   ]
  },
  {
   "cell_type": "code",
   "execution_count": 11,
   "metadata": {},
   "outputs": [
    {
     "data": {
      "text/plain": [
       "[-t*(2*(pmp)*qp**2 - 2*(pmp)*qp + 4*(ppc)*p_pair**4*q**2*vp**2 - 4*(ppc)*p_pair**3*q**2*vp - 4*(ppc)*p_pair**3*q*vp**2 + (ppc)*p_pair**2*q**2 + 4*(ppc)*p_pair**2*q*vp + (ppc)*p_pair**2*vp**2 - (ppc)*p_pair*q - (ppc)*p_pair*vp + 4*(ppc)*q**2*vp**2 - 4*(ppc)*q**2*vp + (ppc)*q**2 - 4*(ppc)*q*vp**2 + 4*(ppc)*q*vp - (ppc)*q + (ppc)*vp**2 - (ppc)*vp)/4]"
      ]
     },
     "execution_count": 11,
     "metadata": {},
     "output_type": "execute_result"
    }
   ],
   "source": [
    "[sp.factor(prob_dr)]"
   ]
  },
  {
   "cell_type": "markdown",
   "metadata": {},
   "source": [
    "Prob DR for GGgg genotype"
   ]
  },
  {
   "cell_type": "code",
   "execution_count": 12,
   "metadata": {
    "collapsed": true
   },
   "outputs": [],
   "source": [
    "prob_dr = 0\n",
    "\n",
    "for i in lst:\n",
    "    indx = modes.index(i)\n",
    "    prob_dr = prob_dr + prob[indx][1][2]"
   ]
  },
  {
   "cell_type": "code",
   "execution_count": 13,
   "metadata": {},
   "outputs": [
    {
     "data": {
      "text/plain": [
       "[-t*(3*(pmp)*qp**2 - 3*(pmp)*qp + 8*(ppc)*p_pair**4*q**2*vp**2 - 8*(ppc)*p_pair**3*q**2*vp - 8*(ppc)*p_pair**3*q*vp**2 + 2*(ppc)*p_pair**2*q**2 + 8*(ppc)*p_pair**2*q*vp + 2*(ppc)*p_pair**2*vp**2 - 2*(ppc)*p_pair*q - 2*(ppc)*p_pair*vp + 4*(ppc)*q**2*vp**2 - 4*(ppc)*q**2*vp + (ppc)*q**2 - 4*(ppc)*q*vp**2 + 4*(ppc)*q*vp - (ppc)*q + (ppc)*vp**2 - (ppc)*vp)/6]"
      ]
     },
     "execution_count": 13,
     "metadata": {},
     "output_type": "execute_result"
    }
   ],
   "source": [
    "[sp.factor(prob_dr)]"
   ]
  },
  {
   "cell_type": "markdown",
   "metadata": {},
   "source": [
    "Prob DR for GGGG/g genotype"
   ]
  },
  {
   "cell_type": "code",
   "execution_count": 14,
   "metadata": {
    "collapsed": true
   },
   "outputs": [],
   "source": [
    "prob_dr = 0\n",
    "\n",
    "for i in lst:\n",
    "    indx = modes.index(i)\n",
    "    prob_dr = prob_dr + prob[indx][1][3]"
   ]
  },
  {
   "cell_type": "code",
   "execution_count": 15,
   "metadata": {},
   "outputs": [
    {
     "data": {
      "text/plain": [
       "[-t*(2*(pmp)*qp**2 - 2*(pmp)*qp + 4*(ppc)*p_pair**4*q**2*vp**2 - 4*(ppc)*p_pair**3*q**2*vp - 4*(ppc)*p_pair**3*q*vp**2 + (ppc)*p_pair**2*q**2 + 4*(ppc)*p_pair**2*q*vp + (ppc)*p_pair**2*vp**2 - (ppc)*p_pair*q - (ppc)*p_pair*vp + 4*(ppc)*q**2*vp**2 - 4*(ppc)*q**2*vp + (ppc)*q**2 - 4*(ppc)*q*vp**2 + 4*(ppc)*q*vp - (ppc)*q + (ppc)*vp**2 - (ppc)*vp)/4]"
      ]
     },
     "execution_count": 15,
     "metadata": {},
     "output_type": "execute_result"
    }
   ],
   "source": [
    "[sp.factor(prob_dr)]"
   ]
  },
  {
   "cell_type": "markdown",
   "metadata": {},
   "source": [
    "Preferential Pairing: Middle"
   ]
  },
  {
   "cell_type": "code",
   "execution_count": 16,
   "metadata": {
    "collapsed": true
   },
   "outputs": [],
   "source": [
    "modes = [[['i_m', G, 'i_m'], ['i_m', G, 'i_m']],\n",
    " [['i_m', G, 'j_m'], ['i_m', G, 'j_m']],\n",
    " [['i_m', G, 'i_m'], ['i_m', G, 'j_m']],\n",
    " [['i_m', G, 'j_m'], ['i_m', G, 'k_m']],\n",
    " [['i_m', G, 'i_m'], ['j_m', G, 'i_m']],\n",
    " [['i_m', G, 'j_m'], ['k_m', G, 'j_m']],\n",
    " [['i_m', G, 'i_m'], ['j_m', G, 'j_m']],\n",
    " [['i_m', G, 'i_m'], ['j_m', G, 'k_m']],\n",
    " [['i_m', G, 'j_m'], ['j_m', G, 'i_m']],\n",
    " [['i_m', G, 'j_m'], ['j_m', G, 'k_m']],\n",
    " [['i_m', G, 'j_m'], ['k_m', G, 'l_m']],\n",
    " [['i_m', G, 'i_m'], ['i_m', g, 'j_m']],\n",
    " [['i_m', G, 'i_m'], ['j_m', g, 'i_m']],\n",
    " [['i_m', G, 'i_m'], ['j_m', g, 'k_m']],\n",
    " [['i_m', G, 'j_m'], ['j_m', g, 'k_m']],\n",
    " [['i_m', g, 'i_m'], ['i_m', G, 'i_m']],\n",
    " [['i_m', g, 'j_m'], ['i_m', G, 'j_m']],\n",
    " [['i_m', g, 'i_m'], ['i_m', G, 'j_m']],\n",
    " [['i_m', g, 'j_m'], ['i_m', G, 'k_m']],\n",
    " [['i_m', g, 'i_m'], ['j_m', G, 'i_m']],\n",
    " [['i_m', g, 'j_m'], ['k_m', G, 'j_m']],\n",
    " [['i_m', g, 'i_m'], ['j_m', G, 'j_m']],\n",
    " [['i_m', g, 'i_m'], ['j_m', G, 'k_m']],\n",
    " [['i_m', g, 'j_m'], ['j_m', G, 'i_m']],\n",
    " [['i_m', g, 'j_m'], ['j_m', G, 'k_m']],\n",
    " [['i_m', g, 'j_m'], ['k_m', G, 'l_m']],\n",
    " [['i_m', g, 'i_m'], ['i_m', g, 'i_m']],\n",
    " [['i_m', g, 'j_m'], ['i_m', g, 'j_m']],\n",
    " [['i_m', g, 'i_m'], ['i_m', g, 'j_m']],\n",
    " [['i_m', g, 'j_m'], ['i_m', g, 'k_m']],\n",
    " [['i_m', g, 'i_m'], ['j_m', g, 'i_m']],\n",
    " [['i_m', g, 'j_m'], ['k_m', g, 'j_m']],\n",
    " [['i_m', g, 'i_m'], ['j_m', g, 'j_m']],\n",
    " [['i_m', g, 'i_m'], ['j_m', g, 'k_m']],\n",
    " [['i_m', g, 'j_m'], ['j_m', g, 'i_m']],\n",
    " [['i_m', g, 'j_m'], ['j_m', g, 'k_m']],\n",
    " [['i_m', g, 'j_m'], ['k_m', g, 'l_m']]]"
   ]
  },
  {
   "cell_type": "code",
   "execution_count": 17,
   "metadata": {
    "collapsed": true
   },
   "outputs": [],
   "source": [
    "prob = [[0,\n",
    "  [-(ppc)*t*vp*(vp - 1)*(2*q*r - q - r + 1)**2/2,\n",
    "   -(ppc)*t*vp*(vp - 1)*(2*p_pair**4*q**2*r**2 - 2*p_pair**3*q**2*r - 2*p_pair**3*q*r**2 + p_pair**2*q**2 + 4*p_pair**2*q*r + p_pair**2*r**2 - 2*p_pair*q - 2*p_pair*r + 8*q**2*r**2 - 8*q**2*r + 2*q**2 - 8*q*r**2 + 12*q*r - 4*q + 2*r**2 - 4*r + 3)/8,\n",
    "   -(ppc)*t*vp*(vp - 1)*(4*p_pair**4*q**2*r**2 - 4*p_pair**3*q**2*r - 4*p_pair**3*q*r**2 + 2*p_pair**2*q**2 + 8*p_pair**2*q*r + 2*p_pair**2*r**2 - 4*p_pair*q - 4*p_pair*r + 4*q**2*r**2 - 4*q**2*r + q**2 - 4*q*r**2 + 6*q*r - 2*q + r**2 - 2*r + 3)/12,\n",
    "   -(ppc)*t*vp*(vp - 1)*(4*p_pair**4*q**2*r**2 - 4*p_pair**3*q**2*r - 4*p_pair**3*q*r**2 + p_pair**2*q**2 + 6*p_pair**2*q*r + p_pair**2*r**2 - 2*p_pair*q - 2*p_pair*r + 8*q**2*r**2 - 8*q**2*r + 2*q**2 - 8*q*r**2 + 12*q*r - 4*q + 2*r**2 - 4*r + 3)/8]],\n",
    " [1,\n",
    "  [-(ppc)*t*vp*(vp - 1)*(-2*q*r + q + r)**2/2,\n",
    "   -(ppc)*t*vp*(vp - 1)*(2*p_pair**4*q**2*r**2 - 2*p_pair**3*q**2*r - 2*p_pair**3*q*r**2 + p_pair**2*q**2 + p_pair**2*r**2 + 8*q**2*r**2 - 8*q**2*r + 2*q**2 - 8*q*r**2 + 4*q*r + 2*r**2)/8,\n",
    "   -(ppc)*t*vp*(vp - 1)*(4*p_pair**4*q**2*r**2 - 4*p_pair**3*q**2*r - 4*p_pair**3*q*r**2 + 2*p_pair**2*q**2 + 2*p_pair**2*r**2 + 4*q**2*r**2 - 4*q**2*r + q**2 - 4*q*r**2 + 2*q*r + r**2)/12,\n",
    "   -(ppc)*t*vp*(vp - 1)*(4*p_pair**4*q**2*r**2 - 4*p_pair**3*q**2*r - 4*p_pair**3*q*r**2 + p_pair**2*q**2 + 2*p_pair**2*q*r + p_pair**2*r**2 + 8*q**2*r**2 - 8*q**2*r + 2*q**2 - 8*q*r**2 + 4*q*r + 2*r**2)/8]],\n",
    " [2,\n",
    "  [-(ppc)*t*vp*(vp - 1)*(-2*q*r + q + r)*(2*q*r - q - r + 1),\n",
    "   (ppc)*t*vp*(vp - 1)*(2*p_pair**4*q**2*r**2 - 2*p_pair**3*q**2*r - 2*p_pair**3*q*r**2 + 2*p_pair**2*q*r + p_pair**2*r**2 - p_pair*r + 8*q**2*r**2 - 8*q**2*r + 2*q**2 - 8*q*r**2 + 8*q*r - 2*q + 2*r**2 - 2*r)/4,\n",
    "   (ppc)*t*vp*(vp - 1)*(4*p_pair**4*q**2*r**2 - 4*p_pair**3*q**2*r - 4*p_pair**3*q*r**2 + 4*p_pair**2*q*r + 2*p_pair**2*r**2 - 2*p_pair*r + 4*q**2*r**2 - 4*q**2*r + q**2 - 4*q*r**2 + 4*q*r - q + r**2 - r)/6,\n",
    "   (ppc)*t*vp*(vp - 1)*(4*p_pair**4*q**2*r**2 - 4*p_pair**3*q**2*r - 4*p_pair**3*q*r**2 + p_pair**2*q**2 + 4*p_pair**2*q*r + p_pair**2*r**2 - p_pair*q - p_pair*r + 8*q**2*r**2 - 8*q**2*r + 2*q**2 - 8*q*r**2 + 8*q*r - 2*q + 2*r**2 - 2*r)/4]],\n",
    " [3, [0, 0, 0, 0]],\n",
    " [4,\n",
    "  [t*(-(pdm)*rp*(rp - 1)*(2*q*rp - q - rp + 1) - (pmp)*(qp - 1)*(-2*qp*r + qp + r)*(2*qp*r - qp - r + 1) + (ppc)*(2*vp**2 - 2*vp + 1)*(-2*q*r + q + r)*(2*q*r - q - r + 1))/2,\n",
    "   t*((pdm)*rp*(rp - 1)*(-2*p_pair**2*q*rp + p_pair*q + p_pair*rp - 2*q*rp + q + rp - 2) + (pmp)*(qp - 1)*(2*p_pair**4*qp**2*r**2 - 2*p_pair**3*qp**2*r - 2*p_pair**3*qp*r**2 + p_pair**2*qp**2 + 2*p_pair**2*qp*r - p_pair*qp + 8*qp**2*r**2 - 8*qp**2*r + 2*qp**2 - 8*qp*r**2 + 8*qp*r - 2*qp + 2*r**2 - 2*r) - (ppc)*(2*vp**2 - 2*vp + 1)*(2*p_pair**4*q**2*r**2 - 2*p_pair**3*q**2*r - 2*p_pair**3*q*r**2 + p_pair**2*q**2 + 2*p_pair**2*q*r - p_pair*q + 8*q**2*r**2 - 8*q**2*r + 2*q**2 - 8*q*r**2 + 8*q*r - 2*q + 2*r**2 - 2*r))/8,\n",
    "   t*(-(pdm)*rp*(rp - 1)*(2*p_pair**2*q*rp - p_pair*q - p_pair*rp + 1) + (pmp)*(qp - 1)*(4*p_pair**4*qp**2*r**2 - 4*p_pair**3*qp**2*r - 4*p_pair**3*qp*r**2 + 2*p_pair**2*qp**2 + 4*p_pair**2*qp*r - 2*p_pair*qp + 4*qp**2*r**2 - 4*qp**2*r + qp**2 - 4*qp*r**2 + 4*qp*r - qp + r**2 - r) - (ppc)*(2*vp**2 - 2*vp + 1)*(4*p_pair**4*q**2*r**2 - 4*p_pair**3*q**2*r - 4*p_pair**3*q*r**2 + 2*p_pair**2*q**2 + 4*p_pair**2*q*r - 2*p_pair*q + 4*q**2*r**2 - 4*q**2*r + q**2 - 4*q*r**2 + 4*q*r - q + r**2 - r))/12,\n",
    "   t*(3*(pdm)*rp*(rp - 1)*(-2*p_pair**2*q*rp + p_pair*q + p_pair*rp - 2*q*rp + q + rp - 2) + 2*(pmp)*(qp - 1)*(4*p_pair**4*qp**2*r**2 - 4*p_pair**3*qp**2*r - 4*p_pair**3*qp*r**2 + p_pair**2*qp**2 + 4*p_pair**2*qp*r + p_pair**2*r**2 - p_pair*qp - p_pair*r + 8*qp**2*r**2 - 8*qp**2*r + 2*qp**2 - 8*qp*r**2 + 8*qp*r - 2*qp + 2*r**2 - 2*r) - 2*(ppc)*(2*vp**2 - 2*vp + 1)*(4*p_pair**4*q**2*r**2 - 4*p_pair**3*q**2*r - 4*p_pair**3*q*r**2 + p_pair**2*q**2 + 4*p_pair**2*q*r + p_pair**2*r**2 - p_pair*q - p_pair*r + 8*q**2*r**2 - 8*q**2*r + 2*q**2 - 8*q*r**2 + 8*q*r - 2*q + 2*r**2 - 2*r))/16]],\n",
    " [5,\n",
    "  [t*(-(pdm)*rp*(rp - 1)*(-2*q*rp + q + rp) + (pmp)*qp*(-2*qp*r + qp + r)*(2*qp*r - qp - r + 1))/2,\n",
    "   -t*((pdm)*rp*(rp - 1)*(-2*p_pair**2*q*rp + p_pair*q + p_pair*rp - 2*q*rp + q + rp) + (pmp)*qp*(2*p_pair**4*qp**2*r**2 - 2*p_pair**3*qp**2*r - 2*p_pair**3*qp*r**2 + p_pair**2*qp**2 + 2*p_pair**2*qp*r - p_pair*qp + 8*qp**2*r**2 - 8*qp**2*r + 2*qp**2 - 8*qp*r**2 + 8*qp*r - 2*qp + 2*r**2 - 2*r))/8,\n",
    "   -t*((pdm)*p_pair*rp*(rp - 1)*(-2*p_pair*q*rp + q + rp) + (pmp)*qp*(4*p_pair**4*qp**2*r**2 - 4*p_pair**3*qp**2*r - 4*p_pair**3*qp*r**2 + 2*p_pair**2*qp**2 + 4*p_pair**2*qp*r - 2*p_pair*qp + 4*qp**2*r**2 - 4*qp**2*r + qp**2 - 4*qp*r**2 + 4*qp*r - qp + r**2 - r))/12,\n",
    "   -t*(3*(pdm)*rp*(rp - 1)*(-2*p_pair**2*q*rp + p_pair*q + p_pair*rp - 2*q*rp + q + rp) + 2*(pmp)*qp*(4*p_pair**4*qp**2*r**2 - 4*p_pair**3*qp**2*r - 4*p_pair**3*qp*r**2 + p_pair**2*qp**2 + 4*p_pair**2*qp*r + p_pair**2*r**2 - p_pair*qp - p_pair*r + 8*qp**2*r**2 - 8*qp**2*r + 2*qp**2 - 8*qp*r**2 + 8*qp*r - 2*qp + 2*r**2 - 2*r))/16]],\n",
    " [6,\n",
    "  [(pdm)*t*(rp - 1)*(3*rp - 4)*(2*q*rp - q - rp + 1)**2/4 + (pmp)*t*(qp - 1)**2*(2*qp*r - qp - r + 1)*(6*qp*r - 3*qp - 3*r + 4)/4 + (ppc)*t*(2*q*r - q - r + 1)*(4*q*r*vp**2 - 4*q*r*vp + 6*q*r - 2*q*vp**2 + 2*q*vp - 3*q - 2*r*vp**2 + 2*r*vp - 3*r + 2*vp**2 - 2*vp + 4)/4 + (-(pdm)*t - (pmp)*t - (ppc)*t + 1)*(2*q*r - q - r + 1)**2,\n",
    "   (pdm)*t*(rp - 1)*(3*rp - 4)*(2*q*rp - q - rp + 1)*(2*p_pair**2*q*rp - p_pair*q - p_pair*rp + 1)/8 - (pmp)*t*(qp - 1)**2*(-p_pair**4*qp**2*r**2 + p_pair**3*qp**2*r + p_pair**3*qp*r**2 - 8*p_pair**2*qp**2*r**2 + 4*p_pair**2*qp**2*r + 4*p_pair**2*qp*r**2 - 5*p_pair**2*qp*r + 4*p_pair*qp**2*r - 2*p_pair*qp**2 + 4*p_pair*qp*r**2 - 4*p_pair*qp*r + 2*p_pair*qp - 2*p_pair*r**2 + 2*p_pair*r - 4*qp**2*r**2 + 4*qp**2*r - qp**2 + 4*qp*r**2 - 12*qp*r + 5*qp - r**2 + 5*r - 4)/8 - (ppc)*t*(-2*p_pair**4*q**2*r**2*vp**2 + 2*p_pair**4*q**2*r**2*vp - p_pair**4*q**2*r**2 + 2*p_pair**3*q**2*r*vp**2 - 2*p_pair**3*q**2*r*vp + p_pair**3*q**2*r + 2*p_pair**3*q*r**2*vp**2 - 2*p_pair**3*q*r**2*vp + p_pair**3*q*r**2 - 8*p_pair**2*q**2*r**2 + 4*p_pair**2*q**2*r + 4*p_pair**2*q*r**2 - 2*p_pair**2*q*r*vp**2 + 2*p_pair**2*q*r*vp - 5*p_pair**2*q*r + 4*p_pair*q**2*r - 2*p_pair*q**2 + 4*p_pair*q*r**2 - 4*p_pair*q*r + 2*p_pair*q - 2*p_pair*r**2 + 2*p_pair*r - 8*q**2*r**2*vp**2 + 8*q**2*r**2*vp - 4*q**2*r**2 + 8*q**2*r*vp**2 - 8*q**2*r*vp + 4*q**2*r - 2*q**2*vp**2 + 2*q**2*vp - q**2 + 8*q*r**2*vp**2 - 8*q*r**2*vp + 4*q*r**2 - 12*q*r*vp**2 + 12*q*r*vp - 12*q*r + 4*q*vp**2 - 4*q*vp + 5*q - 2*r**2*vp**2 + 2*r**2*vp - r**2 + 4*r*vp**2 - 4*r*vp + 5*r - 2*vp**2 + 2*vp - 4)/8 - ((pdm)*t + (pmp)*t + (ppc)*t - 1)*(2*q*r - q - r + 1)*(2*p_pair**2*q*r - p_pair*q - p_pair*r + 1)/2,\n",
    "   (pdm)*t*(rp - 1)*(3*rp - 4)*(2*p_pair**2*q*rp - p_pair*q - p_pair*rp + 1)**2/24 + (pmp)*t*(qp - 1)**2*(12*p_pair**4*qp**2*r**2 - 12*p_pair**3*qp**2*r - 12*p_pair**3*qp*r**2 + 2*p_pair**2*qp**2 + 16*p_pair**2*qp*r + 2*p_pair**2*r**2 - 4*p_pair*qp - 4*p_pair*r + 4*qp**2*r**2 - 4*qp**2*r + qp**2 - 4*qp*r**2 + 8*qp*r - 3*qp + r**2 - 3*r + 4)/24 + (ppc)*t*(8*p_pair**4*q**2*r**2*vp**2 - 8*p_pair**4*q**2*r**2*vp + 12*p_pair**4*q**2*r**2 - 8*p_pair**3*q**2*r*vp**2 + 8*p_pair**3*q**2*r*vp - 12*p_pair**3*q**2*r - 8*p_pair**3*q*r**2*vp**2 + 8*p_pair**3*q*r**2*vp - 12*p_pair**3*q*r**2 + 2*p_pair**2*q**2 + 8*p_pair**2*q*r*vp**2 - 8*p_pair**2*q*r*vp + 16*p_pair**2*q*r + 2*p_pair**2*r**2 - 4*p_pair*q - 4*p_pair*r + 8*q**2*r**2*vp**2 - 8*q**2*r**2*vp + 4*q**2*r**2 - 8*q**2*r*vp**2 + 8*q**2*r*vp - 4*q**2*r + 2*q**2*vp**2 - 2*q**2*vp + q**2 - 8*q*r**2*vp**2 + 8*q*r**2*vp - 4*q*r**2 + 12*q*r*vp**2 - 12*q*r*vp + 8*q*r - 4*q*vp**2 + 4*q*vp - 3*q + 2*r**2*vp**2 - 2*r**2*vp + r**2 - 4*r*vp**2 + 4*r*vp - 3*r + 2*vp**2 - 2*vp + 4)/24 + (-(pdm)*t - (pmp)*t - (ppc)*t + 1)*(2*p_pair**2*q*r - p_pair*q - p_pair*r + 1)**2/6,\n",
    "   3*(pdm)*t*(rp - 1)*(3*rp - 4)*(2*q*rp - q - rp + 1)*(2*p_pair**2*q*rp - p_pair*q - p_pair*rp + 1)/16 + (pmp)*t*(qp - 1)**2*(4*p_pair**4*qp**2*r**2 - 4*p_pair**3*qp**2*r - 4*p_pair**3*qp*r**2 + 24*p_pair**2*qp**2*r**2 - 12*p_pair**2*qp**2*r + p_pair**2*qp**2 - 12*p_pair**2*qp*r**2 + 20*p_pair**2*qp*r + p_pair**2*r**2 - 12*p_pair*qp**2*r + 6*p_pair*qp**2 - 12*p_pair*qp*r**2 + 12*p_pair*qp*r - 9*p_pair*qp + 6*p_pair*r**2 - 9*p_pair*r + 8*qp**2*r**2 - 8*qp**2*r + 2*qp**2 - 8*qp*r**2 + 28*qp*r - 12*qp + 2*r**2 - 12*r + 12)/16 + (ppc)*t*(8*p_pair**4*q**2*r**2*vp**2 - 8*p_pair**4*q**2*r**2*vp + 4*p_pair**4*q**2*r**2 - 8*p_pair**3*q**2*r*vp**2 + 8*p_pair**3*q**2*r*vp - 4*p_pair**3*q**2*r - 8*p_pair**3*q*r**2*vp**2 + 8*p_pair**3*q*r**2*vp - 4*p_pair**3*q*r**2 + 24*p_pair**2*q**2*r**2 - 12*p_pair**2*q**2*r + 2*p_pair**2*q**2*vp**2 - 2*p_pair**2*q**2*vp + p_pair**2*q**2 - 12*p_pair**2*q*r**2 + 12*p_pair**2*q*r*vp**2 - 12*p_pair**2*q*r*vp + 20*p_pair**2*q*r + 2*p_pair**2*r**2*vp**2 - 2*p_pair**2*r**2*vp + p_pair**2*r**2 - 12*p_pair*q**2*r + 6*p_pair*q**2 - 12*p_pair*q*r**2 + 12*p_pair*q*r - 4*p_pair*q*vp**2 + 4*p_pair*q*vp - 9*p_pair*q + 6*p_pair*r**2 - 4*p_pair*r*vp**2 + 4*p_pair*r*vp - 9*p_pair*r + 16*q**2*r**2*vp**2 - 16*q**2*r**2*vp + 8*q**2*r**2 - 16*q**2*r*vp**2 + 16*q**2*r*vp - 8*q**2*r + 4*q**2*vp**2 - 4*q**2*vp + 2*q**2 - 16*q*r**2*vp**2 + 16*q*r**2*vp - 8*q*r**2 + 24*q*r*vp**2 - 24*q*r*vp + 28*q*r - 8*q*vp**2 + 8*q*vp - 12*q + 4*r**2*vp**2 - 4*r**2*vp + 2*r**2 - 8*r*vp**2 + 8*r*vp - 12*r + 6*vp**2 - 6*vp + 12)/16 - 3*((pdm)*t + (pmp)*t + (ppc)*t - 1)*(2*q*r - q - r + 1)*(2*p_pair**2*q*r - p_pair*q - p_pair*r + 1)/4]],\n",
    " [7,\n",
    "  [-(pdm)*t*(rp - 1)*(2*q*rp - q - rp + 1)*(6*q*rp**2 - 11*q*rp + 4*q - 3*rp**2 + 6*rp)/2 - (pmp)*t*(qp - 1)*(2*qp*r - qp - r + 1)*(6*qp**2*r - 3*qp**2 - 7*qp*r + 6*qp + 2*r)/2 + (ppc)*t*(-2*q*r + q + r)*(2*q*r - q - r + 1) - 2*(-2*q*r + q + r)*((pdm)*t + (pmp)*t + (ppc)*t - 1)*(2*q*r - q - r + 1),\n",
    "   -(pdm)*t*(rp - 1)*(24*p_pair**2*q**2*rp**3 - 44*p_pair**2*q**2*rp**2 + 16*p_pair**2*q**2*rp - 12*p_pair**2*q*rp**3 + 26*p_pair**2*q*rp**2 - 8*p_pair**2*q*rp - 12*p_pair*q**2*rp**2 + 22*p_pair*q**2*rp - 8*p_pair*q**2 - 12*p_pair*q*rp**3 + 28*p_pair*q*rp**2 - 21*p_pair*q*rp + 4*p_pair*q + 6*p_pair*rp**3 - 13*p_pair*rp**2 + 4*p_pair*rp + 10*q*rp**2 - 13*q*rp + 4*q - 5*rp**2 + 8*rp)/8 - (pmp)*t*(qp - 1)*(p_pair**4*qp**3*r**2 - p_pair**3*qp**3*r - p_pair**3*qp**2*r**2 + 8*p_pair**2*qp**3*r**2 - 4*p_pair**2*qp**3*r - 12*p_pair**2*qp**2*r**2 + 9*p_pair**2*qp**2*r + 4*p_pair**2*qp*r**2 - 2*p_pair**2*qp*r - 4*p_pair*qp**3*r + 2*p_pair*qp**3 - 4*p_pair*qp**2*r**2 + 8*p_pair*qp**2*r - 4*p_pair*qp**2 + 6*p_pair*qp*r**2 - 6*p_pair*qp*r + p_pair*qp - 2*p_pair*r**2 + p_pair*r + 4*qp**3*r**2 - 4*qp**3*r + qp**3 - 4*qp**2*r**2 + 12*qp**2*r - 5*qp**2 + qp*r**2 - 7*qp*r + 5*qp + r)/4 + (ppc)*t*(-8*p_pair**2*q**2*r**2 + 4*p_pair**2*q**2*r + 4*p_pair**2*q*r**2 - 2*p_pair**2*q*r + 4*p_pair*q**2*r - 2*p_pair*q**2 + 4*p_pair*q*r**2 - 4*p_pair*q*r + p_pair*q - 2*p_pair*r**2 + p_pair*r - 2*q*r + q + r)/4 - ((pdm)*t + (pmp)*t + (ppc)*t - 1)*(-8*p_pair**2*q**2*r**2 + 4*p_pair**2*q**2*r + 4*p_pair**2*q*r**2 - 2*p_pair**2*q*r + 4*p_pair*q**2*r - 2*p_pair*q**2 + 4*p_pair*q*r**2 - 4*p_pair*q*r + p_pair*q - 2*p_pair*r**2 + p_pair*r - 2*q*r + q + r)/2,\n",
    "   -(pdm)*t*(rp - 1)*(2*p_pair**2*q*rp - p_pair*q - p_pair*rp + 1)*(6*p_pair**2*q*rp**2 - 8*p_pair**2*q*rp - 3*p_pair*q*rp + 4*p_pair*q - 3*p_pair*rp**2 + 4*p_pair*rp + 2*rp)/12 - (pmp)*t*(qp - 1)*(12*p_pair**4*qp**3*r**2 - 8*p_pair**4*qp**2*r**2 - 12*p_pair**3*qp**3*r - 12*p_pair**3*qp**2*r**2 + 8*p_pair**3*qp**2*r + 8*p_pair**3*qp*r**2 + 2*p_pair**2*qp**3 + 16*p_pair**2*qp**2*r - 2*p_pair**2*qp**2 + 2*p_pair**2*qp*r**2 - 8*p_pair**2*qp*r - 2*p_pair**2*r**2 - 4*p_pair*qp**2 - 4*p_pair*qp*r + 2*p_pair*qp + 2*p_pair*r + 4*qp**3*r**2 - 4*qp**3*r + qp**3 - 4*qp**2*r**2 + 8*qp**2*r - 3*qp**2 + qp*r**2 - 3*qp*r + 4*qp)/12 + (ppc)*p_pair*t*(-2*p_pair*q*r + q + r)*(2*p_pair**2*q*r - p_pair*q - p_pair*r + 1)/6 - p_pair*(-2*p_pair*q*r + q + r)*((pdm)*t + (pmp)*t + (ppc)*t - 1)*(2*p_pair**2*q*r - p_pair*q - p_pair*r + 1)/3,\n",
    "   -3*(pdm)*t*(rp - 1)*(24*p_pair**2*q**2*rp**3 - 44*p_pair**2*q**2*rp**2 + 16*p_pair**2*q**2*rp - 12*p_pair**2*q*rp**3 + 26*p_pair**2*q*rp**2 - 8*p_pair**2*q*rp - 12*p_pair*q**2*rp**2 + 22*p_pair*q**2*rp - 8*p_pair*q**2 - 12*p_pair*q*rp**3 + 28*p_pair*q*rp**2 - 21*p_pair*q*rp + 4*p_pair*q + 6*p_pair*rp**3 - 13*p_pair*rp**2 + 4*p_pair*rp + 10*q*rp**2 - 13*q*rp + 4*q - 5*rp**2 + 8*rp)/16 - (pmp)*t*(qp - 1)*(4*p_pair**4*qp**3*r**2 - 4*p_pair**3*qp**3*r - 4*p_pair**3*qp**2*r**2 + 24*p_pair**2*qp**3*r**2 - 12*p_pair**2*qp**3*r + p_pair**2*qp**3 - 36*p_pair**2*qp**2*r**2 + 32*p_pair**2*qp**2*r + 13*p_pair**2*qp*r**2 - 6*p_pair**2*qp*r - 12*p_pair*qp**3*r + 6*p_pair*qp**3 - 12*p_pair*qp**2*r**2 + 24*p_pair*qp**2*r - 15*p_pair*qp**2 + 18*p_pair*qp*r**2 - 21*p_pair*qp*r + 3*p_pair*qp - 6*p_pair*r**2 + 3*p_pair*r + 8*qp**3*r**2 - 8*qp**3*r + 2*qp**3 - 8*qp**2*r**2 + 28*qp**2*r - 12*qp**2 + 2*qp*r**2 - 18*qp*r + 15*qp + 3*r)/8 + 3*(ppc)*t*(-8*p_pair**2*q**2*r**2 + 4*p_pair**2*q**2*r + 4*p_pair**2*q*r**2 - 2*p_pair**2*q*r + 4*p_pair*q**2*r - 2*p_pair*q**2 + 4*p_pair*q*r**2 - 4*p_pair*q*r + p_pair*q - 2*p_pair*r**2 + p_pair*r - 2*q*r + q + r)/8 - 3*((pdm)*t + (pmp)*t + (ppc)*t - 1)*(-8*p_pair**2*q**2*r**2 + 4*p_pair**2*q**2*r + 4*p_pair**2*q*r**2 - 2*p_pair**2*q*r + 4*p_pair*q**2*r - 2*p_pair*q**2 + 4*p_pair*q*r**2 - 4*p_pair*q*r + p_pair*q - 2*p_pair*r**2 + p_pair*r - 2*q*r + q + r)/4]],\n",
    " [8,\n",
    "  [t*((pdm)*rp*(12*q**2*rp**3 - 8*q**2*rp**2 - q**2*rp + q**2 - 12*q*rp**3 + 6*q*rp**2 + 4*q*rp - 2*q + 3*rp**3 - rp**2 - rp + 1) - (pmp)*(-2*qp*r + qp + r)*(6*qp**3*r - 3*qp**3 - 7*qp**2*r + qp**2 + 4*qp*r + qp - r - 1) + (ppc)*(-2*q*r + q + r)*(-4*q*r*vp**2 + 4*q*r*vp - 2*q*r + 2*q*vp**2 - 2*q*vp + q + 2*r*vp**2 - 2*r*vp + r + 1))/4,\n",
    "   t*((pdm)*rp*(12*p_pair**2*q**2*rp**3 - 2*p_pair**2*q**2*rp**2 - 2*p_pair**2*q**2*rp - 6*p_pair**2*q*rp**3 + 2*p_pair**2*q*rp - 6*p_pair*q**2*rp**2 + p_pair*q**2*rp + p_pair*q**2 - 6*p_pair*q*rp**3 + 4*p_pair*q*rp**2 + p_pair*q*rp - p_pair*q + 3*p_pair*rp**3 - p_pair*rp + 2*q*rp**2 + q*rp - q - rp**2 + 1) + (pmp)*(p_pair**4*qp**4*r**2 - 2*p_pair**4*qp**3*r**2 + p_pair**4*qp**2*r**2 - p_pair**3*qp**4*r - p_pair**3*qp**3*r**2 + 2*p_pair**3*qp**3*r + 2*p_pair**3*qp**2*r**2 - p_pair**3*qp**2*r - p_pair**3*qp*r**2 + 8*p_pair**2*qp**4*r**2 - 4*p_pair**2*qp**4*r - 4*p_pair**2*qp**3*r**2 + p_pair**2*qp**3*r - 2*p_pair**2*qp**2*r + p_pair**2*qp*r - 4*p_pair*qp**4*r + 2*p_pair*qp**4 - 4*p_pair*qp**3*r**2 + 4*p_pair*qp**3*r + 2*p_pair*qp**2*r**2 + 4*qp**4*r**2 - 4*qp**4*r + qp**4 - 12*qp**3*r**2 + 8*qp**3*r - qp**3 + 13*qp**2*r**2 - 3*qp**2*r - qp**2 - 6*qp*r**2 - 2*qp*r + qp + r**2 + r) + (ppc)*(2*p_pair**4*q**2*r**2*vp**2 - 2*p_pair**4*q**2*r**2*vp + p_pair**4*q**2*r**2 - 2*p_pair**3*q**2*r*vp**2 + 2*p_pair**3*q**2*r*vp - p_pair**3*q**2*r - 2*p_pair**3*q*r**2*vp**2 + 2*p_pair**3*q*r**2*vp - p_pair**3*q*r**2 + 2*p_pair**2*q*r*vp**2 - 2*p_pair**2*q*r*vp + p_pair**2*q*r + 8*q**2*r**2*vp**2 - 8*q**2*r**2*vp + 4*q**2*r**2 - 8*q**2*r*vp**2 + 8*q**2*r*vp - 4*q**2*r + 2*q**2*vp**2 - 2*q**2*vp + q**2 - 8*q*r**2*vp**2 + 8*q*r**2*vp - 4*q*r**2 + 4*q*r*vp**2 - 4*q*r*vp + q + 2*r**2*vp**2 - 2*r**2*vp + r**2 + r))/8,\n",
    "   t*((pdm)*rp*(12*p_pair**4*q**2*rp**3 + 4*p_pair**4*q**2*rp**2 - 12*p_pair**3*q**2*rp**2 - 4*p_pair**3*q**2*rp - 12*p_pair**3*q*rp**3 - 4*p_pair**3*q*rp**2 + 3*p_pair**2*q**2*rp + p_pair**2*q**2 + 10*p_pair**2*q*rp**2 + 6*p_pair**2*q*rp + 3*p_pair**2*rp**3 + p_pair**2*rp**2 - 2*p_pair*q*rp - 2*p_pair*q - 2*p_pair*rp**2 - 2*p_pair*rp + rp + 1) + (pmp)*(12*p_pair**4*qp**4*r**2 - 8*p_pair**4*qp**3*r**2 + 4*p_pair**4*qp**2*r**2 - 12*p_pair**3*qp**4*r - 12*p_pair**3*qp**3*r**2 + 8*p_pair**3*qp**3*r + 8*p_pair**3*qp**2*r**2 - 4*p_pair**3*qp**2*r - 4*p_pair**3*qp*r**2 + 2*p_pair**2*qp**4 + 8*p_pair**2*qp**3*r + 2*p_pair**2*qp**2*r**2 - 8*p_pair**2*qp**2*r + 4*p_pair**2*qp*r + 4*qp**4*r**2 - 4*qp**4*r + qp**4 - 12*qp**3*r**2 + 8*qp**3*r - qp**3 + 13*qp**2*r**2 - 3*qp**2*r - qp**2 - 6*qp*r**2 - 2*qp*r + qp + r**2 + r) + (ppc)*(8*p_pair**4*q**2*r**2*vp**2 - 8*p_pair**4*q**2*r**2*vp + 4*p_pair**4*q**2*r**2 - 8*p_pair**3*q**2*r*vp**2 + 8*p_pair**3*q**2*r*vp - 4*p_pair**3*q**2*r - 8*p_pair**3*q*r**2*vp**2 + 8*p_pair**3*q*r**2*vp - 4*p_pair**3*q*r**2 + 8*p_pair**2*q*r*vp**2 - 8*p_pair**2*q*r*vp + 4*p_pair**2*q*r + 8*q**2*r**2*vp**2 - 8*q**2*r**2*vp + 4*q**2*r**2 - 8*q**2*r*vp**2 + 8*q**2*r*vp - 4*q**2*r + 2*q**2*vp**2 - 2*q**2*vp + q**2 - 8*q*r**2*vp**2 + 8*q*r**2*vp - 4*q*r**2 + 4*q*r*vp**2 - 4*q*r*vp + q + 2*r**2*vp**2 - 2*r**2*vp + r**2 + r))/24,\n",
    "   t*(3*(pdm)*rp*(12*p_pair**2*q**2*rp**3 - 2*p_pair**2*q**2*rp**2 - 2*p_pair**2*q**2*rp - 6*p_pair**2*q*rp**3 + 2*p_pair**2*q*rp - 6*p_pair*q**2*rp**2 + p_pair*q**2*rp + p_pair*q**2 - 6*p_pair*q*rp**3 + 4*p_pair*q*rp**2 + p_pair*q*rp - p_pair*q + 3*p_pair*rp**3 - p_pair*rp + 2*q*rp**2 + q*rp - q - rp**2 + 1) + (pmp)*(4*p_pair**4*qp**4*r**2 - 8*p_pair**4*qp**3*r**2 + 4*p_pair**4*qp**2*r**2 - 4*p_pair**3*qp**4*r - 4*p_pair**3*qp**3*r**2 + 8*p_pair**3*qp**3*r + 8*p_pair**3*qp**2*r**2 - 4*p_pair**3*qp**2*r - 4*p_pair**3*qp*r**2 + 24*p_pair**2*qp**4*r**2 - 12*p_pair**2*qp**4*r + p_pair**2*qp**4 - 12*p_pair**2*qp**3*r**2 - 2*p_pair**2*qp**3 + p_pair**2*qp**2*r**2 + p_pair**2*qp**2 - 2*p_pair**2*qp*r**2 + p_pair**2*r**2 - 12*p_pair*qp**4*r + 6*p_pair*qp**4 - 12*p_pair*qp**3*r**2 + 12*p_pair*qp**3*r + p_pair*qp**3 + 6*p_pair*qp**2*r**2 + p_pair*qp**2*r - 2*p_pair*qp**2 - 2*p_pair*qp*r + p_pair*qp + p_pair*r + 8*qp**4*r**2 - 8*qp**4*r + 2*qp**4 - 24*qp**3*r**2 + 16*qp**3*r - 2*qp**3 + 26*qp**2*r**2 - 6*qp**2*r - 2*qp**2 - 12*qp*r**2 - 4*qp*r + 2*qp + 2*r**2 + 2*r) + (ppc)*(8*p_pair**4*q**2*r**2*vp**2 - 8*p_pair**4*q**2*r**2*vp + 4*p_pair**4*q**2*r**2 - 8*p_pair**3*q**2*r*vp**2 + 8*p_pair**3*q**2*r*vp - 4*p_pair**3*q**2*r - 8*p_pair**3*q*r**2*vp**2 + 8*p_pair**3*q*r**2*vp - 4*p_pair**3*q*r**2 + 2*p_pair**2*q**2*vp**2 - 2*p_pair**2*q**2*vp + p_pair**2*q**2 + 4*p_pair**2*q*r*vp**2 - 4*p_pair**2*q*r*vp + 2*p_pair**2*r**2*vp**2 - 2*p_pair**2*r**2*vp + p_pair**2*r**2 + p_pair*q + p_pair*r + 16*q**2*r**2*vp**2 - 16*q**2*r**2*vp + 8*q**2*r**2 - 16*q**2*r*vp**2 + 16*q**2*r*vp - 8*q**2*r + 4*q**2*vp**2 - 4*q**2*vp + 2*q**2 - 16*q*r**2*vp**2 + 16*q*r**2*vp - 8*q*r**2 + 8*q*r*vp**2 - 8*q*r*vp + 2*q + 4*r**2*vp**2 - 4*r**2*vp + 2*r**2 + 2*r))/16]],\n",
    " [9,\n",
    "  [t*(-(pdm)*rp*(-2*q*rp + q + rp)*(-6*q*rp**2 + q*rp + q + 3*rp**2 - 3) + (pmp)*qp*(-2*qp*r + qp + r)*(6*qp**2*r - 3*qp**2 - 5*qp*r + r + 3))/2,\n",
    "   t*((pdm)*rp*(-24*p_pair**2*q**2*rp**3 + 4*p_pair**2*q**2*rp**2 + 4*p_pair**2*q**2*rp + 12*p_pair**2*q*rp**3 + 2*p_pair**2*q*rp**2 - 6*p_pair**2*q*rp + 12*p_pair*q**2*rp**2 - 2*p_pair*q**2*rp - 2*p_pair*q**2 + 12*p_pair*q*rp**3 - 8*p_pair*q*rp**2 - 3*p_pair*q*rp + 3*p_pair*q - 6*p_pair*rp**3 - p_pair*rp**2 + 3*p_pair*rp - 2*q*rp**2 - 5*q*rp + 3*q + rp**2 + 3*rp) - 2*(pmp)*qp*(p_pair**4*qp**3*r**2 - p_pair**4*qp**2*r**2 - p_pair**3*qp**3*r - p_pair**3*qp**2*r**2 + p_pair**3*qp**2*r + p_pair**3*qp*r**2 + 8*p_pair**2*qp**3*r**2 - 4*p_pair**2*qp**3*r - 4*p_pair**2*qp**2*r**2 + p_pair**2*qp**2*r + p_pair**2*qp*r - 4*p_pair*qp**3*r + 2*p_pair*qp**3 - 4*p_pair*qp**2*r**2 + 4*p_pair*qp**2*r + 2*p_pair*qp*r**2 - p_pair*qp - p_pair*r + 4*qp**3*r**2 - 4*qp**3*r + qp**3 - 8*qp**2*r**2 + 4*qp**2*r + 5*qp*r**2 + 3*qp*r - 2*qp - r**2 - 2*r))/8,\n",
    "   t*((pdm)*p_pair*rp*(-2*p_pair*q*rp + q + rp)*(6*p_pair**2*q*rp**2 + 2*p_pair**2*q*rp - 3*p_pair*q*rp - p_pair*q - 3*p_pair*rp**2 - p_pair*rp + rp + 3) - (pmp)*qp*(12*p_pair**4*qp**3*r**2 - 4*p_pair**4*qp**2*r**2 - 12*p_pair**3*qp**3*r - 12*p_pair**3*qp**2*r**2 + 4*p_pair**3*qp**2*r + 4*p_pair**3*qp*r**2 + 2*p_pair**2*qp**3 + 8*p_pair**2*qp**2*r + 2*p_pair**2*qp*r**2 - 2*p_pair*qp - 2*p_pair*r + 4*qp**3*r**2 - 4*qp**3*r + qp**3 - 8*qp**2*r**2 + 4*qp**2*r + 5*qp*r**2 + qp*r - qp - r**2 - r))/12,\n",
    "   t*(3*(pdm)*rp*(-24*p_pair**2*q**2*rp**3 + 4*p_pair**2*q**2*rp**2 + 4*p_pair**2*q**2*rp + 12*p_pair**2*q*rp**3 + 2*p_pair**2*q*rp**2 - 6*p_pair**2*q*rp + 12*p_pair*q**2*rp**2 - 2*p_pair*q**2*rp - 2*p_pair*q**2 + 12*p_pair*q*rp**3 - 8*p_pair*q*rp**2 - 3*p_pair*q*rp + 3*p_pair*q - 6*p_pair*rp**3 - p_pair*rp**2 + 3*p_pair*rp - 2*q*rp**2 - 5*q*rp + 3*q + rp**2 + 3*rp) - 2*(pmp)*qp*(4*p_pair**4*qp**3*r**2 - 4*p_pair**4*qp**2*r**2 - 4*p_pair**3*qp**3*r - 4*p_pair**3*qp**2*r**2 + 4*p_pair**3*qp**2*r + 4*p_pair**3*qp*r**2 + 24*p_pair**2*qp**3*r**2 - 12*p_pair**2*qp**3*r + p_pair**2*qp**3 - 12*p_pair**2*qp**2*r**2 - p_pair**2*qp**2 + p_pair**2*qp*r**2 + 6*p_pair**2*qp*r - p_pair**2*r**2 - 12*p_pair*qp**3*r + 6*p_pair*qp**3 - 12*p_pair*qp**2*r**2 + 12*p_pair*qp**2*r + p_pair*qp**2 + 6*p_pair*qp*r**2 + p_pair*qp*r - 4*p_pair*qp - 4*p_pair*r + 8*qp**3*r**2 - 8*qp**3*r + 2*qp**3 - 16*qp**2*r**2 + 8*qp**2*r + 10*qp*r**2 + 8*qp*r - 5*qp - 2*r**2 - 5*r))/16]],\n",
    " [10,\n",
    "  [(pdm)*t*(12*q**2*rp**4 - 24*q**2*rp**3 + 23*q**2*rp**2 - 11*q**2*rp + 2*q**2 - 12*q*rp**4 + 22*q*rp**3 - 16*q*rp**2 + 4*q*rp + 3*rp**4 - 5*rp**3 + 3*rp**2)/2 + (pmp)*t*(12*qp**4*r**2 - 12*qp**4*r + 3*qp**4 - 20*qp**3*r**2 + 20*qp**3*r - 5*qp**3 + 15*qp**2*r**2 - 11*qp**2*r + 3*qp**2 - 6*qp*r**2 + 2*qp*r + r**2)/2 + (ppc)*t*(-2*q*r + q + r)**2/2 + (-2*q*r + q + r)**2*(-(pdm)*t - (pmp)*t - (ppc)*t + 1),\n",
    "   (pdm)*t*(12*p_pair**2*q**2*rp**4 - 18*p_pair**2*q**2*rp**3 + 14*p_pair**2*q**2*rp**2 - 4*p_pair**2*q**2*rp - 6*p_pair**2*q*rp**4 + 8*p_pair**2*q*rp**3 - 4*p_pair**2*q*rp**2 - 6*p_pair*q**2*rp**3 + 9*p_pair*q**2*rp**2 - 7*p_pair*q**2*rp + 2*p_pair*q**2 - 6*p_pair*q*rp**4 + 12*p_pair*q*rp**3 - 11*p_pair*q*rp**2 + 4*p_pair*q*rp + 3*p_pair*rp**4 - 4*p_pair*rp**3 + 2*p_pair*rp**2 + 2*q*rp**3 - q*rp**2 - rp**3 + rp**2)/4 + (pmp)*t*(p_pair**4*qp**4*r**2 - p_pair**3*qp**4*r - p_pair**3*qp**3*r**2 + 8*p_pair**2*qp**4*r**2 - 4*p_pair**2*qp**4*r - 12*p_pair**2*qp**3*r**2 + 7*p_pair**2*qp**3*r + 8*p_pair**2*qp**2*r**2 - 2*p_pair**2*qp**2*r - 2*p_pair**2*qp*r**2 - 4*p_pair*qp**4*r + 2*p_pair*qp**4 - 4*p_pair*qp**3*r**2 + 8*p_pair*qp**3*r - 3*p_pair*qp**3 + 6*p_pair*qp**2*r**2 - 7*p_pair*qp**2*r + p_pair*qp**2 - 4*p_pair*qp*r**2 + 2*p_pair*qp*r + p_pair*r**2 + 4*qp**4*r**2 - 4*qp**4*r + qp**4 - 4*qp**3*r**2 + 6*qp**3*r - 2*qp**3 + qp**2*r**2 - 2*qp**2*r + 2*qp**2)/4 + (ppc)*p_pair*t*(-2*q*r + q + r)*(-2*p_pair*q*r + q + r)/4 - p_pair*(-2*q*r + q + r)*(-2*p_pair*q*r + q + r)*((pdm)*t + (pmp)*t + (ppc)*t - 1)/2,\n",
    "   (pdm)*t*(12*p_pair**4*q**2*rp**4 - 12*p_pair**4*q**2*rp**3 + 8*p_pair**4*q**2*rp**2 - 12*p_pair**3*q**2*rp**3 + 12*p_pair**3*q**2*rp**2 - 8*p_pair**3*q**2*rp - 12*p_pair**3*q*rp**4 + 12*p_pair**3*q*rp**3 - 8*p_pair**3*q*rp**2 + 3*p_pair**2*q**2*rp**2 - 3*p_pair**2*q**2*rp + 2*p_pair**2*q**2 + 10*p_pair**2*q*rp**3 - 6*p_pair**2*q*rp**2 + 4*p_pair**2*q*rp + 3*p_pair**2*rp**4 - 3*p_pair**2*rp**3 + 2*p_pair**2*rp**2 - 2*p_pair*q*rp**2 - 2*p_pair*rp**3 + rp**2)/12 + (pmp)*t*(12*p_pair**4*qp**4*r**2 - 8*p_pair**4*qp**3*r**2 + 4*p_pair**4*qp**2*r**2 - 12*p_pair**3*qp**4*r - 12*p_pair**3*qp**3*r**2 + 8*p_pair**3*qp**3*r + 8*p_pair**3*qp**2*r**2 - 4*p_pair**3*qp**2*r - 4*p_pair**3*qp*r**2 + 2*p_pair**2*qp**4 + 12*p_pair**2*qp**3*r - 2*p_pair**2*qp**3 + 2*p_pair**2*qp**2*r**2 - 4*p_pair**2*qp**2*r + p_pair**2*qp**2 - 2*p_pair**2*qp*r**2 + 2*p_pair**2*qp*r + p_pair**2*r**2 - 2*p_pair*qp**3 - 2*p_pair*qp**2*r + 4*qp**4*r**2 - 4*qp**4*r + qp**4 - 4*qp**3*r**2 + 4*qp**3*r - qp**3 + qp**2*r**2 - qp**2*r + 2*qp**2)/12 + (ppc)*p_pair**2*t*(-2*p_pair*q*r + q + r)**2/12 + p_pair**2*(-2*p_pair*q*r + q + r)**2*(-(pdm)*t - (pmp)*t - (ppc)*t + 1)/6,\n",
    "   3*(pdm)*t*(12*p_pair**2*q**2*rp**4 - 18*p_pair**2*q**2*rp**3 + 14*p_pair**2*q**2*rp**2 - 4*p_pair**2*q**2*rp - 6*p_pair**2*q*rp**4 + 8*p_pair**2*q*rp**3 - 4*p_pair**2*q*rp**2 - 6*p_pair*q**2*rp**3 + 9*p_pair*q**2*rp**2 - 7*p_pair*q**2*rp + 2*p_pair*q**2 - 6*p_pair*q*rp**4 + 12*p_pair*q*rp**3 - 11*p_pair*q*rp**2 + 4*p_pair*q*rp + 3*p_pair*rp**4 - 4*p_pair*rp**3 + 2*p_pair*rp**2 + 2*q*rp**3 - q*rp**2 - rp**3 + rp**2)/8 + (pmp)*t*(4*p_pair**4*qp**4*r**2 - 4*p_pair**3*qp**4*r - 4*p_pair**3*qp**3*r**2 + 24*p_pair**2*qp**4*r**2 - 12*p_pair**2*qp**4*r + p_pair**2*qp**4 - 36*p_pair**2*qp**3*r**2 + 22*p_pair**2*qp**3*r + 25*p_pair**2*qp**2*r**2 - 6*p_pair**2*qp**2*r - 6*p_pair**2*qp*r**2 - 12*p_pair*qp**4*r + 6*p_pair*qp**4 - 12*p_pair*qp**3*r**2 + 24*p_pair*qp**3*r - 10*p_pair*qp**3 + 18*p_pair*qp**2*r**2 - 22*p_pair*qp**2*r + 3*p_pair*qp**2 - 12*p_pair*qp*r**2 + 6*p_pair*qp*r + 3*p_pair*r**2 + 8*qp**4*r**2 - 8*qp**4*r + 2*qp**4 - 8*qp**3*r**2 + 14*qp**3*r - 5*qp**3 + 2*qp**2*r**2 - 5*qp**2*r + 6*qp**2)/8 + 3*(ppc)*p_pair*t*(-2*q*r + q + r)*(-2*p_pair*q*r + q + r)/8 - 3*p_pair*(-2*q*r + q + r)*(-2*p_pair*q*r + q + r)*((pdm)*t + (pmp)*t + (ppc)*t - 1)/4]],\n",
    " [11,\n",
    "  [0,\n",
    "   (ppc)*p_pair*q*t*vp*(vp - 1)*(p_pair*q - 1)*(2*p_pair**2*r**2 - 2*p_pair*r + 1)/4,\n",
    "   (ppc)*p_pair*q*t*vp*(vp - 1)*(p_pair*q - 1)*(2*p_pair**2*r**2 - 2*p_pair*r + 1)/3,\n",
    "   -(ppc)*p_pair*t*vp*(vp - 1)*(-2*p_pair*q*r + q + r)*(2*p_pair**2*q*r - p_pair*q - p_pair*r + 1)/8]],\n",
    " [12,\n",
    "  [0,\n",
    "   t*(-(pdm)*rp*(rp - 1)*(2*q*rp - q - rp + 1) + (pmp)*p_pair*r*(qp - 1)*(p_pair*r - 1)*(2*p_pair**2*qp**2 - 2*p_pair*qp + 1) - (ppc)*p_pair*r*(p_pair*r - 1)*(2*vp**2 - 2*vp + 1)*(2*p_pair**2*q**2 - 2*p_pair*q + 1))/8,\n",
    "   t*((pdm)*rp*(rp - 1)*(-2*p_pair**2*q*rp + p_pair*q + p_pair*rp - 2*q*rp + q + rp - 2) + 2*(pmp)*p_pair*r*(qp - 1)*(p_pair*r - 1)*(2*p_pair**2*qp**2 - 2*p_pair*qp + 1) - 2*(ppc)*p_pair*r*(p_pair*r - 1)*(2*vp**2 - 2*vp + 1)*(2*p_pair**2*q**2 - 2*p_pair*q + 1))/12,\n",
    "   t*(-(pdm)*rp*(rp - 1)*(2*q*rp - q - rp + 1) - (pmp)*p_pair*(qp - 1)*(-2*p_pair*qp*r + qp + r)*(2*p_pair**2*qp*r - p_pair*qp - p_pair*r + 1) + (ppc)*p_pair*(2*vp**2 - 2*vp + 1)*(-2*p_pair*q*r + q + r)*(2*p_pair**2*q*r - p_pair*q - p_pair*r + 1))/16]],\n",
    " [13,\n",
    "  [0,\n",
    "   -(pdm)*t*(rp - 1)*(2*q*rp - q - rp + 1)*(6*p_pair**2*q*rp**2 - 8*p_pair**2*q*rp - 3*p_pair*q*rp + 4*p_pair*q - 3*p_pair*rp**2 + 4*p_pair*rp + 2*rp)/8 - (pmp)*t*(qp - 1)*(2*p_pair**4*qp**3*r**2 - 2*p_pair**3*qp**3*r - 2*p_pair**3*qp**2*r**2 + 8*p_pair**2*qp**3*r**2 - 4*p_pair**2*qp**3*r + p_pair**2*qp**3 - 12*p_pair**2*qp**2*r**2 + 14*p_pair**2*qp**2*r + 5*p_pair**2*qp*r**2 - 4*p_pair**2*qp*r - 4*p_pair*qp**3*r + 2*p_pair*qp**3 - 4*p_pair*qp**2*r**2 + 8*p_pair*qp**2*r - 7*p_pair*qp**2 + 6*p_pair*qp*r**2 - 9*p_pair*qp*r + 2*p_pair*qp - 2*p_pair*r**2 + 2*p_pair*r + 4*qp**2*r - 2*qp**2 - 2*qp*r + 4*qp)/8 + (ppc)*p_pair*t*(-2*p_pair*q*r + q + r)*(2*q*r - q - r + 1)/4 - p_pair*(-2*p_pair*q*r + q + r)*((pdm)*t + (pmp)*t + (ppc)*t - 1)*(2*q*r - q - r + 1)/2,\n",
    "   -(pdm)*t*(rp - 1)*(12*p_pair**4*q**2*rp**3 - 16*p_pair**4*q**2*rp**2 - 12*p_pair**3*q**2*rp**2 + 16*p_pair**3*q**2*rp - 12*p_pair**3*q*rp**3 + 16*p_pair**3*q*rp**2 + 3*p_pair**2*q**2*rp - 4*p_pair**2*q**2 + 16*p_pair**2*q*rp**2 - 16*p_pair**2*q*rp + 3*p_pair**2*rp**3 - 4*p_pair**2*rp**2 - 5*p_pair*q*rp + 4*p_pair*q - 5*p_pair*rp**2 + 4*p_pair*rp + 12*q**2*rp**3 - 28*q**2*rp**2 + 19*q**2*rp - 4*q**2 - 12*q*rp**3 + 32*q*rp**2 - 21*q*rp + 4*q + 3*rp**3 - 9*rp**2 + 8*rp)/12 - (pmp)*t*(qp - 1)*(6*p_pair**4*qp**3*r**2 - 4*p_pair**4*qp**2*r**2 - 6*p_pair**3*qp**3*r - 6*p_pair**3*qp**2*r**2 + 4*p_pair**3*qp**2*r + 4*p_pair**3*qp*r**2 + 2*p_pair**2*qp**3 + 12*p_pair**2*qp**2*r - p_pair**2*qp**2 + 2*p_pair**2*qp*r**2 - 4*p_pair**2*qp*r - p_pair**2*r**2 - 5*p_pair*qp**2 - 5*p_pair*qp*r + p_pair*qp + p_pair*r + 4*qp**3*r**2 - 4*qp**3*r + qp**3 - 8*qp**2*r**2 + 10*qp**2*r - 3*qp**2 + 5*qp*r**2 - 6*qp*r + 5*qp - r**2 + r)/6 - (ppc)*t*(4*p_pair**4*q**2*r**2 - 4*p_pair**3*q**2*r - 4*p_pair**3*q*r**2 + p_pair**2*q**2 + 4*p_pair**2*q*r + p_pair**2*r**2 - p_pair*q - p_pair*r + 4*q**2*r**2 - 4*q**2*r + q**2 - 4*q*r**2 + 4*q*r - q + r**2 - r)/6 + ((pdm)*t + (pmp)*t + (ppc)*t - 1)*(4*p_pair**4*q**2*r**2 - 4*p_pair**3*q**2*r - 4*p_pair**3*q*r**2 + p_pair**2*q**2 + 4*p_pair**2*q*r + p_pair**2*r**2 - p_pair*q - p_pair*r + 4*q**2*r**2 - 4*q**2*r + q**2 - 4*q*r**2 + 4*q*r - q + r**2 - r)/3,\n",
    "   -(pdm)*t*(rp - 1)*(2*q*rp - q - rp + 1)*(6*p_pair**2*q*rp**2 - 8*p_pair**2*q*rp - 3*p_pair*q*rp + 4*p_pair*q - 3*p_pair*rp**2 + 4*p_pair*rp + 2*rp)/16 - (pmp)*t*(qp - 1)*(4*p_pair**4*qp**3*r**2 - 4*p_pair**3*qp**3*r - 4*p_pair**3*qp**2*r**2 + 8*p_pair**2*qp**3*r**2 - 4*p_pair**2*qp**3*r + p_pair**2*qp**3 - 12*p_pair**2*qp**2*r**2 + 16*p_pair**2*qp**2*r + 5*p_pair**2*qp*r**2 - 4*p_pair**2*qp*r - 4*p_pair*qp**3*r + 2*p_pair*qp**3 - 4*p_pair*qp**2*r**2 + 8*p_pair*qp**2*r - 7*p_pair*qp**2 + 6*p_pair*qp*r**2 - 9*p_pair*qp*r + 2*p_pair*qp - 2*p_pair*r**2 + 2*p_pair*r + 4*qp**2*r - 2*qp**2 - 2*qp*r + 4*qp)/16 + (ppc)*p_pair*t*(-2*p_pair*q*r + q + r)*(2*q*r - q - r + 1)/8 - p_pair*(-2*p_pair*q*r + q + r)*((pdm)*t + (pmp)*t + (ppc)*t - 1)*(2*q*r - q - r + 1)/4]],\n",
    " [14,\n",
    "  [0,\n",
    "   t*((pdm)*rp*(-12*p_pair**2*q**2*rp**3 + 2*p_pair**2*q**2*rp**2 + 2*p_pair**2*q**2*rp + 6*p_pair**2*q*rp**3 + 2*p_pair**2*q*rp**2 - 4*p_pair**2*q*rp + 6*p_pair*q**2*rp**2 - p_pair*q**2*rp - p_pair*q**2 + 6*p_pair*q*rp**3 - 4*p_pair*q*rp**2 - 2*p_pair*q*rp + 2*p_pair*q - 3*p_pair*rp**3 - p_pair*rp**2 + 2*p_pair*rp - 2*q*rp**2 - q*rp + q + rp**2 + rp) + (pmp)*qp*(-2*p_pair**4*qp**3*r**2 + 2*p_pair**4*qp**2*r**2 + 2*p_pair**3*qp**3*r + 2*p_pair**3*qp**2*r**2 - 2*p_pair**3*qp**2*r - 2*p_pair**3*qp*r**2 - 8*p_pair**2*qp**3*r**2 + 4*p_pair**2*qp**3*r - p_pair**2*qp**3 + 4*p_pair**2*qp**2*r**2 + 2*p_pair**2*qp**2*r + p_pair**2*qp**2 - p_pair**2*qp*r**2 - 2*p_pair**2*qp*r + p_pair**2*r**2 + 4*p_pair*qp**3*r - 2*p_pair*qp**3 + 4*p_pair*qp**2*r**2 - 4*p_pair*qp**2*r - p_pair*qp**2 - 2*p_pair*qp*r**2 - p_pair*qp*r + p_pair*qp + p_pair*r - 4*qp*r + 2*qp + 2*r))/8,\n",
    "   -t*((pdm)*rp*(12*p_pair**4*q**2*rp**3 + 4*p_pair**4*q**2*rp**2 - 12*p_pair**3*q**2*rp**2 - 4*p_pair**3*q**2*rp - 12*p_pair**3*q*rp**3 - 4*p_pair**3*q*rp**2 + 3*p_pair**2*q**2*rp + p_pair**2*q**2 + 8*p_pair**2*q*rp**2 + 8*p_pair**2*q*rp + 3*p_pair**2*rp**3 + p_pair**2*rp**2 - p_pair*q*rp - 3*p_pair*q - p_pair*rp**2 - 3*p_pair*rp + 12*q**2*rp**3 - 8*q**2*rp**2 - q**2*rp + q**2 - 12*q*rp**3 + 4*q*rp**2 + 7*q*rp - 3*q + 3*rp**3 - 3*rp) + 2*(pmp)*qp*(6*p_pair**4*qp**3*r**2 - 2*p_pair**4*qp**2*r**2 - 6*p_pair**3*qp**3*r - 6*p_pair**3*qp**2*r**2 + 2*p_pair**3*qp**2*r + 2*p_pair**3*qp*r**2 + 2*p_pair**2*qp**3 - p_pair**2*qp**2 + 2*p_pair**2*qp*r**2 + 4*p_pair**2*qp*r - p_pair**2*r**2 + p_pair*qp**2 + p_pair*qp*r - 2*p_pair*qp - 2*p_pair*r + 4*qp**3*r**2 - 4*qp**3*r + qp**3 - 4*qp**2*r**2 + 2*qp**2*r + qp*r**2 + 2*qp*r - qp - r))/12,\n",
    "   t*((pdm)*rp*(-12*p_pair**2*q**2*rp**3 + 2*p_pair**2*q**2*rp**2 + 2*p_pair**2*q**2*rp + 6*p_pair**2*q*rp**3 + 2*p_pair**2*q*rp**2 - 4*p_pair**2*q*rp + 6*p_pair*q**2*rp**2 - p_pair*q**2*rp - p_pair*q**2 + 6*p_pair*q*rp**3 - 4*p_pair*q*rp**2 - 2*p_pair*q*rp + 2*p_pair*q - 3*p_pair*rp**3 - p_pair*rp**2 + 2*p_pair*rp - 2*q*rp**2 - q*rp + q + rp**2 + rp) + (pmp)*qp*(-4*p_pair**4*qp**3*r**2 + 4*p_pair**4*qp**2*r**2 + 4*p_pair**3*qp**3*r + 4*p_pair**3*qp**2*r**2 - 4*p_pair**3*qp**2*r - 4*p_pair**3*qp*r**2 - 8*p_pair**2*qp**3*r**2 + 4*p_pair**2*qp**3*r - p_pair**2*qp**3 + 4*p_pair**2*qp**2*r**2 + p_pair**2*qp**2 - p_pair**2*qp*r**2 + p_pair**2*r**2 + 4*p_pair*qp**3*r - 2*p_pair*qp**3 + 4*p_pair*qp**2*r**2 - 4*p_pair*qp**2*r - p_pair*qp**2 - 2*p_pair*qp*r**2 - p_pair*qp*r + p_pair*qp + p_pair*r - 4*qp*r + 2*qp + 2*r))/16]],\n",
    " [15,\n",
    "  [0,\n",
    "   -(ppc)*p_pair**2*q*r*t*vp*(vp - 1)*(p_pair*q - 1)*(p_pair*r - 1)/2,\n",
    "   -2*(ppc)*p_pair**2*q*r*t*vp*(vp - 1)*(p_pair*q - 1)*(p_pair*r - 1)/3,\n",
    "   -(ppc)*t*vp*(vp - 1)*(2*p_pair**2*q*r - p_pair*q - p_pair*r + 1)**2/8]],\n",
    " [16,\n",
    "  [0,\n",
    "   -(ppc)*p_pair**2*q*r*t*vp*(vp - 1)*(p_pair*q - 1)*(p_pair*r - 1)/2,\n",
    "   -2*(ppc)*p_pair**2*q*r*t*vp*(vp - 1)*(p_pair*q - 1)*(p_pair*r - 1)/3,\n",
    "   -(ppc)*p_pair**2*t*vp*(vp - 1)*(-2*p_pair*q*r + q + r)**2/8]],\n",
    " [17,\n",
    "  [0,\n",
    "   (ppc)*p_pair*q*t*vp*(vp - 1)*(p_pair*q - 1)*(2*p_pair**2*r**2 - 2*p_pair*r + 1)/4,\n",
    "   (ppc)*p_pair*q*t*vp*(vp - 1)*(p_pair*q - 1)*(2*p_pair**2*r**2 - 2*p_pair*r + 1)/3,\n",
    "   -(ppc)*p_pair*t*vp*(vp - 1)*(-2*p_pair*q*r + q + r)*(2*p_pair**2*q*r - p_pair*q - p_pair*r + 1)/8]],\n",
    " [18, [0, 0, 0, 0]],\n",
    " [19,\n",
    "  [0,\n",
    "   t*(-(pdm)*rp*(rp - 1)*(2*p_pair**2*q*rp - p_pair*q - p_pair*rp + 1) + (pmp)*p_pair*r*(qp - 1)*(p_pair*r - 1)*(2*p_pair**2*qp**2 - 2*p_pair*qp + 1) - (ppc)*p_pair*r*(p_pair*r - 1)*(2*vp**2 - 2*vp + 1)*(2*p_pair**2*q**2 - 2*p_pair*q + 1))/8,\n",
    "   t*((pdm)*rp*(rp - 1)*(-2*p_pair**2*q*rp + p_pair*q + p_pair*rp - 2*q*rp + q + rp - 2) + 2*(pmp)*p_pair*r*(qp - 1)*(p_pair*r - 1)*(2*p_pair**2*qp**2 - 2*p_pair*qp + 1) - 2*(ppc)*p_pair*r*(p_pair*r - 1)*(2*vp**2 - 2*vp + 1)*(2*p_pair**2*q**2 - 2*p_pair*q + 1))/12,\n",
    "   t*(-(pdm)*rp*(rp - 1)*(2*p_pair**2*q*rp - p_pair*q - p_pair*rp + 1) - (pmp)*p_pair*(qp - 1)*(-2*p_pair*qp*r + qp + r)*(2*p_pair**2*qp*r - p_pair*qp - p_pair*r + 1) + (ppc)*p_pair*(2*vp**2 - 2*vp + 1)*(-2*p_pair*q*r + q + r)*(2*p_pair**2*q*r - p_pair*q - p_pair*r + 1))/16]],\n",
    " [20,\n",
    "  [0,\n",
    "   -t*((pdm)*rp*(rp - 1)*(-2*p_pair**2*q*rp + p_pair*q + p_pair*rp - 2*q*rp + q + rp) + 2*(pmp)*p_pair*qp*r*(p_pair*r - 1)*(2*p_pair**2*qp**2 - 2*p_pair*qp + 1))/8,\n",
    "   -t*((pdm)*rp*(rp - 1)*(-2*p_pair**2*q*rp + p_pair*q + p_pair*rp - 2*q*rp + q + rp) + 2*(pmp)*p_pair*qp*r*(p_pair*r - 1)*(2*p_pair**2*qp**2 - 2*p_pair*qp + 1))/6,\n",
    "   t*(-(pdm)*rp*(rp - 1)*(-2*p_pair**2*q*rp + p_pair*q + p_pair*rp - 2*q*rp + q + rp) + 2*(pmp)*p_pair*qp*(-2*p_pair*qp*r + qp + r)*(2*p_pair**2*qp*r - p_pair*qp - p_pair*r + 1))/16]],\n",
    " [21,\n",
    "  [0,\n",
    "   (pdm)*t*(rp - 1)*(3*rp - 4)*(2*q*rp - q - rp + 1)*(2*p_pair**2*q*rp - p_pair*q - p_pair*rp + 1)/8 + (pmp)*t*(qp - 1)**2*(2*p_pair**4*qp**2*r**2 - 2*p_pair**3*qp**2*r - 2*p_pair**3*qp*r**2 + 8*p_pair**2*qp**2*r**2 - 4*p_pair**2*qp**2*r + p_pair**2*qp**2 - 4*p_pair**2*qp*r**2 + 10*p_pair**2*qp*r + p_pair**2*r**2 - 4*p_pair*qp**2*r + 2*p_pair*qp**2 - 4*p_pair*qp*r**2 + 4*p_pair*qp*r - 5*p_pair*qp + 2*p_pair*r**2 - 5*p_pair*r + 4*qp*r - 2*qp - 2*r + 4)/8 + (ppc)*t*(4*p_pair**4*q**2*r**2*vp**2 - 4*p_pair**4*q**2*r**2*vp + 2*p_pair**4*q**2*r**2 - 4*p_pair**3*q**2*r*vp**2 + 4*p_pair**3*q**2*r*vp - 2*p_pair**3*q**2*r - 4*p_pair**3*q*r**2*vp**2 + 4*p_pair**3*q*r**2*vp - 2*p_pair**3*q*r**2 + 8*p_pair**2*q**2*r**2 - 4*p_pair**2*q**2*r + 2*p_pair**2*q**2*vp**2 - 2*p_pair**2*q**2*vp + p_pair**2*q**2 - 4*p_pair**2*q*r**2 + 8*p_pair**2*q*r*vp**2 - 8*p_pair**2*q*r*vp + 10*p_pair**2*q*r + 2*p_pair**2*r**2*vp**2 - 2*p_pair**2*r**2*vp + p_pair**2*r**2 - 4*p_pair*q**2*r + 2*p_pair*q**2 - 4*p_pair*q*r**2 + 4*p_pair*q*r - 4*p_pair*q*vp**2 + 4*p_pair*q*vp - 5*p_pair*q + 2*p_pair*r**2 - 4*p_pair*r*vp**2 + 4*p_pair*r*vp - 5*p_pair*r + 4*q*r - 2*q - 2*r + 2*vp**2 - 2*vp + 4)/8 - ((pdm)*t + (pmp)*t + (ppc)*t - 1)*(2*q*r - q - r + 1)*(2*p_pair**2*q*r - p_pair*q - p_pair*r + 1)/2,\n",
    "   (pdm)*t*(rp - 1)*(3*rp - 4)*(4*p_pair**4*q**2*rp**2 - 4*p_pair**3*q**2*rp - 4*p_pair**3*q*rp**2 + p_pair**2*q**2 + 6*p_pair**2*q*rp + p_pair**2*rp**2 - 2*p_pair*q - 2*p_pair*rp + 4*q**2*rp**2 - 4*q**2*rp + q**2 - 4*q*rp**2 + 6*q*rp - 2*q + rp**2 - 2*rp + 2)/12 + (pmp)*t*(qp - 1)**2*(6*p_pair**4*qp**2*r**2 - 6*p_pair**3*qp**2*r - 6*p_pair**3*qp*r**2 + 2*p_pair**2*qp**2 + 12*p_pair**2*qp*r + 2*p_pair**2*r**2 - 5*p_pair*qp - 5*p_pair*r + 4*qp**2*r**2 - 4*qp**2*r + qp**2 - 4*qp*r**2 + 6*qp*r - 2*qp + r**2 - 2*r + 4)/6 + (ppc)*t*(4*p_pair**4*q**2*r**2*vp**2 - 4*p_pair**4*q**2*r**2*vp + 6*p_pair**4*q**2*r**2 - 4*p_pair**3*q**2*r*vp**2 + 4*p_pair**3*q**2*r*vp - 6*p_pair**3*q**2*r - 4*p_pair**3*q*r**2*vp**2 + 4*p_pair**3*q*r**2*vp - 6*p_pair**3*q*r**2 + 2*p_pair**2*q**2*vp**2 - 2*p_pair**2*q**2*vp + 2*p_pair**2*q**2 + 8*p_pair**2*q*r*vp**2 - 8*p_pair**2*q*r*vp + 12*p_pair**2*q*r + 2*p_pair**2*r**2*vp**2 - 2*p_pair**2*r**2*vp + 2*p_pair**2*r**2 - 4*p_pair*q*vp**2 + 4*p_pair*q*vp - 5*p_pair*q - 4*p_pair*r*vp**2 + 4*p_pair*r*vp - 5*p_pair*r + 4*q**2*r**2 - 4*q**2*r + q**2 - 4*q*r**2 + 6*q*r - 2*q + r**2 - 2*r + 2*vp**2 - 2*vp + 4)/6 - ((pdm)*t + (pmp)*t + (ppc)*t - 1)*(4*p_pair**4*q**2*r**2 - 4*p_pair**3*q**2*r - 4*p_pair**3*q*r**2 + p_pair**2*q**2 + 6*p_pair**2*q*r + p_pair**2*r**2 - 2*p_pair*q - 2*p_pair*r + 4*q**2*r**2 - 4*q**2*r + q**2 - 4*q*r**2 + 6*q*r - 2*q + r**2 - 2*r + 2)/3,\n",
    "   (pdm)*t*(rp - 1)*(3*rp - 4)*(2*q*rp - q - rp + 1)*(2*p_pair**2*q*rp - p_pair*q - p_pair*rp + 1)/16 - (pmp)*t*(qp - 1)**2*(2*p_pair**2*qp*r - p_pair*qp - p_pair*r + 1)*(-2*p_pair**2*qp*r + p_pair*qp + p_pair*r - 4*qp*r + 2*qp + 2*r - 4)/16 - (ppc)*t*(2*p_pair**2*q*r - p_pair*q - p_pair*r + 1)*(-4*p_pair**2*q*r*vp**2 + 4*p_pair**2*q*r*vp - 2*p_pair**2*q*r + 2*p_pair*q*vp**2 - 2*p_pair*q*vp + p_pair*q + 2*p_pair*r*vp**2 - 2*p_pair*r*vp + p_pair*r - 4*q*r + 2*q + 2*r - 2*vp**2 + 2*vp - 4)/16 - ((pdm)*t + (pmp)*t + (ppc)*t - 1)*(2*q*r - q - r + 1)*(2*p_pair**2*q*r - p_pair*q - p_pair*r + 1)/4]],\n",
    " [22,\n",
    "  [0,\n",
    "   -(pdm)*t*(rp - 1)*(2*p_pair**2*q*rp - p_pair*q - p_pair*rp + 1)*(6*q*rp**2 - 11*q*rp + 4*q - 3*rp**2 + 6*rp)/8 - (pmp)*t*(qp - 1)*(2*p_pair**4*qp**3*r**2 - 2*p_pair**3*qp**3*r - 2*p_pair**3*qp**2*r**2 + 8*p_pair**2*qp**3*r**2 - 4*p_pair**2*qp**3*r + p_pair**2*qp**3 - 12*p_pair**2*qp**2*r**2 + 14*p_pair**2*qp**2*r + 5*p_pair**2*qp*r**2 - 4*p_pair*qp**3*r + 2*p_pair*qp**3 - 4*p_pair*qp**2*r**2 + 8*p_pair*qp**2*r - 7*p_pair*qp**2 + 6*p_pair*qp*r**2 - 9*p_pair*qp*r - 2*p_pair*r**2 + 4*qp**2*r - 2*qp**2 - 6*qp*r + 6*qp + 2*r)/8 + (ppc)*t*(-2*q*r + q + r)*(2*p_pair**2*q*r - p_pair*q - p_pair*r + 1)/4 - (-2*q*r + q + r)*((pdm)*t + (pmp)*t + (ppc)*t - 1)*(2*p_pair**2*q*r - p_pair*q - p_pair*r + 1)/2,\n",
    "   -(pdm)*t*(rp - 1)*(12*p_pair**4*q**2*rp**3 - 16*p_pair**4*q**2*rp**2 - 12*p_pair**3*q**2*rp**2 + 16*p_pair**3*q**2*rp - 12*p_pair**3*q*rp**3 + 16*p_pair**3*q*rp**2 + 3*p_pair**2*q**2*rp - 4*p_pair**2*q**2 + 16*p_pair**2*q*rp**2 - 16*p_pair**2*q*rp + 3*p_pair**2*rp**3 - 4*p_pair**2*rp**2 - 5*p_pair*q*rp + 4*p_pair*q - 5*p_pair*rp**2 + 4*p_pair*rp + 12*q**2*rp**3 - 28*q**2*rp**2 + 19*q**2*rp - 4*q**2 - 12*q*rp**3 + 32*q*rp**2 - 21*q*rp + 4*q + 3*rp**3 - 9*rp**2 + 8*rp)/12 - (pmp)*t*(qp - 1)*(6*p_pair**4*qp**3*r**2 - 4*p_pair**4*qp**2*r**2 - 6*p_pair**3*qp**3*r - 6*p_pair**3*qp**2*r**2 + 4*p_pair**3*qp**2*r + 4*p_pair**3*qp*r**2 + 2*p_pair**2*qp**3 + 12*p_pair**2*qp**2*r - p_pair**2*qp**2 + 2*p_pair**2*qp*r**2 - 4*p_pair**2*qp*r - p_pair**2*r**2 - 5*p_pair*qp**2 - 5*p_pair*qp*r + p_pair*qp + p_pair*r + 4*qp**3*r**2 - 4*qp**3*r + qp**3 - 8*qp**2*r**2 + 10*qp**2*r - 3*qp**2 + 5*qp*r**2 - 6*qp*r + 5*qp - r**2 + r)/6 - (ppc)*t*(4*p_pair**4*q**2*r**2 - 4*p_pair**3*q**2*r - 4*p_pair**3*q*r**2 + p_pair**2*q**2 + 4*p_pair**2*q*r + p_pair**2*r**2 - p_pair*q - p_pair*r + 4*q**2*r**2 - 4*q**2*r + q**2 - 4*q*r**2 + 4*q*r - q + r**2 - r)/6 + ((pdm)*t + (pmp)*t + (ppc)*t - 1)*(4*p_pair**4*q**2*r**2 - 4*p_pair**3*q**2*r - 4*p_pair**3*q*r**2 + p_pair**2*q**2 + 4*p_pair**2*q*r + p_pair**2*r**2 - p_pair*q - p_pair*r + 4*q**2*r**2 - 4*q**2*r + q**2 - 4*q*r**2 + 4*q*r - q + r**2 - r)/3,\n",
    "   -(pdm)*t*(rp - 1)*(2*p_pair**2*q*rp - p_pair*q - p_pair*rp + 1)*(6*q*rp**2 - 11*q*rp + 4*q - 3*rp**2 + 6*rp)/16 - (pmp)*t*(qp - 1)*(2*p_pair**2*qp*r - p_pair*qp - p_pair*r + 1)*(2*p_pair**2*qp**2*r - p_pair*qp**2 - p_pair*qp*r + 4*qp**2*r - 2*qp**2 - 6*qp*r + 6*qp + 2*r)/16 + (ppc)*t*(-2*q*r + q + r)*(2*p_pair**2*q*r - p_pair*q - p_pair*r + 1)/8 - (-2*q*r + q + r)*((pdm)*t + (pmp)*t + (ppc)*t - 1)*(2*p_pair**2*q*r - p_pair*q - p_pair*r + 1)/4]],\n",
    " [23,\n",
    "  [0,\n",
    "   t*((pdm)*rp*(12*p_pair**2*q**2*rp**3 - 2*p_pair**2*q**2*rp**2 - 2*p_pair**2*q**2*rp - 6*p_pair**2*q*rp**3 + 2*p_pair**2*q*rp - 6*p_pair*q**2*rp**2 + p_pair*q**2*rp + p_pair*q**2 - 6*p_pair*q*rp**3 + 4*p_pair*q*rp**2 + p_pair*q*rp - p_pair*q + 3*p_pair*rp**3 - p_pair*rp + 2*q*rp**2 + q*rp - q - rp**2 + 1) + (pmp)*p_pair*(2*p_pair**3*qp**4*r**2 - 4*p_pair**3*qp**3*r**2 + 2*p_pair**3*qp**2*r**2 - 2*p_pair**2*qp**4*r - 2*p_pair**2*qp**3*r**2 + 4*p_pair**2*qp**3*r + 4*p_pair**2*qp**2*r**2 - 2*p_pair**2*qp**2*r - 2*p_pair**2*qp*r**2 + 8*p_pair*qp**4*r**2 - 4*p_pair*qp**4*r + p_pair*qp**4 - 4*p_pair*qp**3*r**2 - 2*p_pair*qp**3*r - 2*p_pair*qp**3 + p_pair*qp**2*r**2 + 4*p_pair*qp**2*r + p_pair*qp**2 - 2*p_pair*qp*r**2 - 2*p_pair*qp*r + p_pair*r**2 - 4*qp**4*r + 2*qp**4 - 4*qp**3*r**2 + 4*qp**3*r + qp**3 + 2*qp**2*r**2 + qp**2*r - 2*qp**2 - 2*qp*r + qp + r) + (ppc)*p_pair*(4*p_pair**3*q**2*r**2*vp**2 - 4*p_pair**3*q**2*r**2*vp + 2*p_pair**3*q**2*r**2 - 4*p_pair**2*q**2*r*vp**2 + 4*p_pair**2*q**2*r*vp - 2*p_pair**2*q**2*r - 4*p_pair**2*q*r**2*vp**2 + 4*p_pair**2*q*r**2*vp - 2*p_pair**2*q*r**2 + 2*p_pair*q**2*vp**2 - 2*p_pair*q**2*vp + p_pair*q**2 - 2*p_pair*q*r + 2*p_pair*r**2*vp**2 - 2*p_pair*r**2*vp + p_pair*r**2 + q + r))/8,\n",
    "   t*((pdm)*rp*(12*p_pair**4*q**2*rp**3 + 4*p_pair**4*q**2*rp**2 - 12*p_pair**3*q**2*rp**2 - 4*p_pair**3*q**2*rp - 12*p_pair**3*q*rp**3 - 4*p_pair**3*q*rp**2 + 3*p_pair**2*q**2*rp + p_pair**2*q**2 + 10*p_pair**2*q*rp**2 + 6*p_pair**2*q*rp + 3*p_pair**2*rp**3 + p_pair**2*rp**2 - 2*p_pair*q*rp - 2*p_pair*q - 2*p_pair*rp**2 - 2*p_pair*rp + 12*q**2*rp**3 - 8*q**2*rp**2 - q**2*rp + q**2 - 12*q*rp**3 + 6*q*rp**2 + 4*q*rp - 2*q + 3*rp**3 - rp**2 + 2) + 2*(pmp)*(6*p_pair**4*qp**4*r**2 - 4*p_pair**4*qp**3*r**2 + 2*p_pair**4*qp**2*r**2 - 6*p_pair**3*qp**4*r - 6*p_pair**3*qp**3*r**2 + 4*p_pair**3*qp**3*r + 4*p_pair**3*qp**2*r**2 - 2*p_pair**3*qp**2*r - 2*p_pair**3*qp*r**2 + 2*p_pair**2*qp**4 - 2*p_pair**2*qp**3 + 2*p_pair**2*qp**2*r**2 + 4*p_pair**2*qp**2*r + p_pair**2*qp**2 - 2*p_pair**2*qp*r**2 - 2*p_pair**2*qp*r + p_pair**2*r**2 + p_pair*qp**3 + p_pair*qp**2*r - 2*p_pair*qp**2 - 2*p_pair*qp*r + p_pair*qp + p_pair*r + 4*qp**4*r**2 - 4*qp**4*r + qp**4 - 4*qp**3*r**2 + 2*qp**3*r + qp**2*r**2) + 2*(ppc)*p_pair*(4*p_pair**3*q**2*r**2*vp**2 - 4*p_pair**3*q**2*r**2*vp + 2*p_pair**3*q**2*r**2 - 4*p_pair**2*q**2*r*vp**2 + 4*p_pair**2*q**2*r*vp - 2*p_pair**2*q**2*r - 4*p_pair**2*q*r**2*vp**2 + 4*p_pair**2*q*r**2*vp - 2*p_pair**2*q*r**2 + 2*p_pair*q**2*vp**2 - 2*p_pair*q**2*vp + p_pair*q**2 - 2*p_pair*q*r + 2*p_pair*r**2*vp**2 - 2*p_pair*r**2*vp + p_pair*r**2 + q + r))/12,\n",
    "   t*((pdm)*rp*(12*p_pair**2*q**2*rp**3 - 2*p_pair**2*q**2*rp**2 - 2*p_pair**2*q**2*rp - 6*p_pair**2*q*rp**3 + 2*p_pair**2*q*rp - 6*p_pair*q**2*rp**2 + p_pair*q**2*rp + p_pair*q**2 - 6*p_pair*q*rp**3 + 4*p_pair*q*rp**2 + p_pair*q*rp - p_pair*q + 3*p_pair*rp**3 - p_pair*rp + 2*q*rp**2 + q*rp - q - rp**2 + 1) + (pmp)*p_pair*(-2*p_pair*qp*r + qp + r)*(-2*p_pair**2*qp**3*r + 4*p_pair**2*qp**2*r - 2*p_pair**2*qp*r + p_pair*qp**3 + p_pair*qp**2*r - 2*p_pair*qp**2 - 2*p_pair*qp*r + p_pair*qp + p_pair*r - 4*qp**3*r + 2*qp**3 + 2*qp**2*r + qp**2 - 2*qp + 1) + (ppc)*p_pair*(-2*p_pair*q*r + q + r)*(-4*p_pair**2*q*r*vp**2 + 4*p_pair**2*q*r*vp - 2*p_pair**2*q*r + 2*p_pair*q*vp**2 - 2*p_pair*q*vp + p_pair*q + 2*p_pair*r*vp**2 - 2*p_pair*r*vp + p_pair*r + 1))/16]],\n",
    " [24,\n",
    "  [0,\n",
    "   t*((pdm)*rp*(-12*p_pair**2*q**2*rp**3 + 2*p_pair**2*q**2*rp**2 + 2*p_pair**2*q**2*rp + 6*p_pair**2*q*rp**3 - 2*p_pair**2*q*rp + 6*p_pair*q**2*rp**2 - p_pair*q**2*rp - p_pair*q**2 + 6*p_pair*q*rp**3 - 4*p_pair*q*rp**2 - p_pair*q*rp + p_pair*q - 3*p_pair*rp**3 + p_pair*rp - 4*q*rp + 2*q + 2*rp) - (pmp)*p_pair*qp*(2*p_pair**3*qp**3*r**2 - 2*p_pair**3*qp**2*r**2 - 2*p_pair**2*qp**3*r - 2*p_pair**2*qp**2*r**2 + 2*p_pair**2*qp**2*r + 2*p_pair**2*qp*r**2 + 8*p_pair*qp**3*r**2 - 4*p_pair*qp**3*r + p_pair*qp**3 - 4*p_pair*qp**2*r**2 - 2*p_pair*qp**2*r - p_pair*qp**2 + p_pair*qp*r**2 + 6*p_pair*qp*r - p_pair*r**2 - 4*qp**3*r + 2*qp**3 - 4*qp**2*r**2 + 4*qp**2*r + qp**2 + 2*qp*r**2 + qp*r - 3*qp - 3*r))/8,\n",
    "   -t*((pdm)*rp*(12*p_pair**4*q**2*rp**3 + 4*p_pair**4*q**2*rp**2 - 12*p_pair**3*q**2*rp**2 - 4*p_pair**3*q**2*rp - 12*p_pair**3*q*rp**3 - 4*p_pair**3*q*rp**2 + 3*p_pair**2*q**2*rp + p_pair**2*q**2 + 8*p_pair**2*q*rp**2 + 8*p_pair**2*q*rp + 3*p_pair**2*rp**3 + p_pair**2*rp**2 - p_pair*q*rp - 3*p_pair*q - p_pair*rp**2 - 3*p_pair*rp + 12*q**2*rp**3 - 8*q**2*rp**2 - q**2*rp + q**2 - 12*q*rp**3 + 4*q*rp**2 + 7*q*rp - 3*q + 3*rp**3 - 3*rp) + 2*(pmp)*qp*(6*p_pair**4*qp**3*r**2 - 2*p_pair**4*qp**2*r**2 - 6*p_pair**3*qp**3*r - 6*p_pair**3*qp**2*r**2 + 2*p_pair**3*qp**2*r + 2*p_pair**3*qp*r**2 + 2*p_pair**2*qp**3 - p_pair**2*qp**2 + 2*p_pair**2*qp*r**2 + 4*p_pair**2*qp*r - p_pair**2*r**2 + p_pair*qp**2 + p_pair*qp*r - 2*p_pair*qp - 2*p_pair*r + 4*qp**3*r**2 - 4*qp**3*r + qp**3 - 4*qp**2*r**2 + 2*qp**2*r + qp*r**2 + 2*qp*r - qp - r))/12,\n",
    "   t*((pdm)*rp*(-12*p_pair**2*q**2*rp**3 + 2*p_pair**2*q**2*rp**2 + 2*p_pair**2*q**2*rp + 6*p_pair**2*q*rp**3 - 2*p_pair**2*q*rp + 6*p_pair*q**2*rp**2 - p_pair*q**2*rp - p_pair*q**2 + 6*p_pair*q*rp**3 - 4*p_pair*q*rp**2 - p_pair*q*rp + p_pair*q - 3*p_pair*rp**3 + p_pair*rp - 4*q*rp + 2*q + 2*rp) - (pmp)*p_pair*qp*(-2*p_pair*qp*r + qp + r)*(-2*p_pair**2*qp**2*r + 2*p_pair**2*qp*r + p_pair*qp**2 + p_pair*qp*r - p_pair*qp - p_pair*r - 4*qp**2*r + 2*qp**2 + 2*qp*r + qp - 3))/16]],\n",
    " [25,\n",
    "  [0,\n",
    "   (pdm)*t*(12*p_pair**2*q**2*rp**4 - 18*p_pair**2*q**2*rp**3 + 14*p_pair**2*q**2*rp**2 - 4*p_pair**2*q**2*rp - 6*p_pair**2*q*rp**4 + 8*p_pair**2*q*rp**3 - 4*p_pair**2*q*rp**2 - 6*p_pair*q**2*rp**3 + 9*p_pair*q**2*rp**2 - 7*p_pair*q**2*rp + 2*p_pair*q**2 - 6*p_pair*q*rp**4 + 12*p_pair*q*rp**3 - 11*p_pair*q*rp**2 + 4*p_pair*q*rp + 3*p_pair*rp**4 - 4*p_pair*rp**3 + 2*p_pair*rp**2 + 2*q*rp**3 - q*rp**2 - rp**3 + rp**2)/4 + (pmp)*t*(2*p_pair**4*qp**4*r**2 - 2*p_pair**3*qp**4*r - 2*p_pair**3*qp**3*r**2 + 8*p_pair**2*qp**4*r**2 - 4*p_pair**2*qp**4*r + p_pair**2*qp**4 - 12*p_pair**2*qp**3*r**2 + 8*p_pair**2*qp**3*r + 9*p_pair**2*qp**2*r**2 - 2*p_pair**2*qp**2*r - 2*p_pair**2*qp*r**2 - 4*p_pair*qp**4*r + 2*p_pair*qp**4 - 4*p_pair*qp**3*r**2 + 8*p_pair*qp**3*r - 4*p_pair*qp**3 + 6*p_pair*qp**2*r**2 - 8*p_pair*qp**2*r + p_pair*qp**2 - 4*p_pair*qp*r**2 + 2*p_pair*qp*r + p_pair*r**2 + 2*qp**3*r - qp**3 - qp**2*r + 2*qp**2)/4 + (ppc)*p_pair*t*(-2*q*r + q + r)*(-2*p_pair*q*r + q + r)/4 - p_pair*(-2*q*r + q + r)*(-2*p_pair*q*r + q + r)*((pdm)*t + (pmp)*t + (ppc)*t - 1)/2,\n",
    "   (pdm)*t*(12*p_pair**4*q**2*rp**4 - 12*p_pair**4*q**2*rp**3 + 8*p_pair**4*q**2*rp**2 - 12*p_pair**3*q**2*rp**3 + 12*p_pair**3*q**2*rp**2 - 8*p_pair**3*q**2*rp - 12*p_pair**3*q*rp**4 + 12*p_pair**3*q*rp**3 - 8*p_pair**3*q*rp**2 + 3*p_pair**2*q**2*rp**2 - 3*p_pair**2*q**2*rp + 2*p_pair**2*q**2 + 10*p_pair**2*q*rp**3 - 6*p_pair**2*q*rp**2 + 4*p_pair**2*q*rp + 3*p_pair**2*rp**4 - 3*p_pair**2*rp**3 + 2*p_pair**2*rp**2 - 2*p_pair*q*rp**2 - 2*p_pair*rp**3 + 12*q**2*rp**4 - 24*q**2*rp**3 + 23*q**2*rp**2 - 11*q**2*rp + 2*q**2 - 12*q*rp**4 + 22*q*rp**3 - 16*q*rp**2 + 4*q*rp + 3*rp**4 - 5*rp**3 + 4*rp**2)/6 + (pmp)*t*(12*p_pair**4*qp**4*r**2 - 8*p_pair**4*qp**3*r**2 + 4*p_pair**4*qp**2*r**2 - 12*p_pair**3*qp**4*r - 12*p_pair**3*qp**3*r**2 + 8*p_pair**3*qp**3*r + 8*p_pair**3*qp**2*r**2 - 4*p_pair**3*qp**2*r - 4*p_pair**3*qp*r**2 + 4*p_pair**2*qp**4 + 12*p_pair**2*qp**3*r - 2*p_pair**2*qp**3 + 4*p_pair**2*qp**2*r**2 - 4*p_pair**2*qp**2*r + p_pair**2*qp**2 - 2*p_pair**2*qp*r**2 + 2*p_pair**2*qp*r + p_pair**2*r**2 - 4*p_pair*qp**3 - 4*p_pair*qp**2*r + 8*qp**4*r**2 - 8*qp**4*r + 2*qp**4 - 16*qp**3*r**2 + 16*qp**3*r - 4*qp**3 + 14*qp**2*r**2 - 10*qp**2*r + 5*qp**2 - 6*qp*r**2 + 2*qp*r + r**2)/6 + (ppc)*t*(4*p_pair**4*q**2*r**2 - 4*p_pair**3*q**2*r - 4*p_pair**3*q*r**2 + p_pair**2*q**2 + 2*p_pair**2*q*r + p_pair**2*r**2 + 4*q**2*r**2 - 4*q**2*r + q**2 - 4*q*r**2 + 2*q*r + r**2)/6 - ((pdm)*t + (pmp)*t + (ppc)*t - 1)*(4*p_pair**4*q**2*r**2 - 4*p_pair**3*q**2*r - 4*p_pair**3*q*r**2 + p_pair**2*q**2 + 2*p_pair**2*q*r + p_pair**2*r**2 + 4*q**2*r**2 - 4*q**2*r + q**2 - 4*q*r**2 + 2*q*r + r**2)/3,\n",
    "   (pdm)*t*(12*p_pair**2*q**2*rp**4 - 18*p_pair**2*q**2*rp**3 + 14*p_pair**2*q**2*rp**2 - 4*p_pair**2*q**2*rp - 6*p_pair**2*q*rp**4 + 8*p_pair**2*q*rp**3 - 4*p_pair**2*q*rp**2 - 6*p_pair*q**2*rp**3 + 9*p_pair*q**2*rp**2 - 7*p_pair*q**2*rp + 2*p_pair*q**2 - 6*p_pair*q*rp**4 + 12*p_pair*q*rp**3 - 11*p_pair*q*rp**2 + 4*p_pair*q*rp + 3*p_pair*rp**4 - 4*p_pair*rp**3 + 2*p_pair*rp**2 + 2*q*rp**3 - q*rp**2 - rp**3 + rp**2)/8 + (pmp)*t*(4*p_pair**4*qp**4*r**2 - 4*p_pair**3*qp**4*r - 4*p_pair**3*qp**3*r**2 + 8*p_pair**2*qp**4*r**2 - 4*p_pair**2*qp**4*r + p_pair**2*qp**4 - 12*p_pair**2*qp**3*r**2 + 10*p_pair**2*qp**3*r + 9*p_pair**2*qp**2*r**2 - 2*p_pair**2*qp**2*r - 2*p_pair**2*qp*r**2 - 4*p_pair*qp**4*r + 2*p_pair*qp**4 - 4*p_pair*qp**3*r**2 + 8*p_pair*qp**3*r - 4*p_pair*qp**3 + 6*p_pair*qp**2*r**2 - 8*p_pair*qp**2*r + p_pair*qp**2 - 4*p_pair*qp*r**2 + 2*p_pair*qp*r + p_pair*r**2 + 2*qp**3*r - qp**3 - qp**2*r + 2*qp**2)/8 + (ppc)*p_pair*t*(-2*q*r + q + r)*(-2*p_pair*q*r + q + r)/8 - p_pair*(-2*q*r + q + r)*(-2*p_pair*q*r + q + r)*((pdm)*t + (pmp)*t + (ppc)*t - 1)/4]],\n",
    " [26,\n",
    "  [0,\n",
    "   -(ppc)*t*vp*(vp - 1)*(2*p_pair**4*q**2*r**2 - 2*p_pair**3*q**2*r - 2*p_pair**3*q*r**2 + p_pair**2*q**2 + 4*p_pair**2*q*r + p_pair**2*r**2 - 2*p_pair*q - 2*p_pair*r + 1)/8,\n",
    "   -(ppc)*t*vp*(vp - 1)*(4*p_pair**4*q**2*r**2 - 4*p_pair**3*q**2*r - 4*p_pair**3*q*r**2 + 2*p_pair**2*q**2 + 8*p_pair**2*q*r + 2*p_pair**2*r**2 - 4*p_pair*q - 4*p_pair*r + 4*q**2*r**2 - 4*q**2*r + q**2 - 4*q*r**2 + 6*q*r - 2*q + r**2 - 2*r + 3)/12,\n",
    "   0]],\n",
    " [27,\n",
    "  [0,\n",
    "   -(ppc)*p_pair**2*t*vp*(vp - 1)*(2*p_pair**2*q**2*r**2 - 2*p_pair*q**2*r - 2*p_pair*q*r**2 + q**2 + r**2)/8,\n",
    "   -(ppc)*t*vp*(vp - 1)*(4*p_pair**4*q**2*r**2 - 4*p_pair**3*q**2*r - 4*p_pair**3*q*r**2 + 2*p_pair**2*q**2 + 2*p_pair**2*r**2 + 4*q**2*r**2 - 4*q**2*r + q**2 - 4*q*r**2 + 2*q*r + r**2)/12,\n",
    "   0]],\n",
    " [28,\n",
    "  [0,\n",
    "   (ppc)*p_pair*r*t*vp*(vp - 1)*(p_pair*r - 1)*(2*p_pair**2*q**2 - 2*p_pair*q + 1)/4,\n",
    "   (ppc)*t*vp*(vp - 1)*(4*p_pair**4*q**2*r**2 - 4*p_pair**3*q**2*r - 4*p_pair**3*q*r**2 + 4*p_pair**2*q*r + 2*p_pair**2*r**2 - 2*p_pair*r + 4*q**2*r**2 - 4*q**2*r + q**2 - 4*q*r**2 + 4*q*r - q + r**2 - r)/6,\n",
    "   0]],\n",
    " [29, [0, 0, 0, 0]],\n",
    " [30,\n",
    "  [0,\n",
    "   p_pair*t*((pmp)*qp*(qp - 1)*(p_pair*qp - 1) - (ppc)*q*(p_pair*q - 1)*(2*vp**2 - 2*vp + 1))*(2*p_pair**2*r**2 - 2*p_pair*r + 1)/8,\n",
    "   t*(-(pdm)*rp*(rp - 1)*(2*p_pair**2*q*rp - p_pair*q - p_pair*rp + 1) + (pmp)*(qp - 1)*(4*p_pair**4*qp**2*r**2 - 4*p_pair**3*qp**2*r - 4*p_pair**3*qp*r**2 + 2*p_pair**2*qp**2 + 4*p_pair**2*qp*r - 2*p_pair*qp + 4*qp**2*r**2 - 4*qp**2*r + qp**2 - 4*qp*r**2 + 4*qp*r - qp + r**2 - r) - (ppc)*(2*vp**2 - 2*vp + 1)*(4*p_pair**4*q**2*r**2 - 4*p_pair**3*q**2*r - 4*p_pair**3*q*r**2 + 2*p_pair**2*q**2 + 4*p_pair**2*q*r - 2*p_pair*q + 4*q**2*r**2 - 4*q**2*r + q**2 - 4*q*r**2 + 4*q*r - q + r**2 - r))/12,\n",
    "   0]],\n",
    " [31,\n",
    "  [0,\n",
    "   -(pmp)*p_pair*qp**2*t*(p_pair*qp - 1)*(2*p_pair**2*r**2 - 2*p_pair*r + 1)/8,\n",
    "   -t*((pdm)*p_pair*rp*(rp - 1)*(-2*p_pair*q*rp + q + rp) + (pmp)*qp*(4*p_pair**4*qp**2*r**2 - 4*p_pair**3*qp**2*r - 4*p_pair**3*qp*r**2 + 2*p_pair**2*qp**2 + 4*p_pair**2*qp*r - 2*p_pair*qp + 4*qp**2*r**2 - 4*qp**2*r + qp**2 - 4*qp*r**2 + 4*qp*r - qp + r**2 - r))/12,\n",
    "   0]],\n",
    " [32,\n",
    "  [0,\n",
    "   p_pair**2*r*t*(p_pair*r - 1)*((pmp)*qp*(qp - 1)**2*(p_pair*qp - 1) + (ppc)*q*(p_pair*q - 1)*(2*vp**2 - 2*vp + 1))/8,\n",
    "   (pdm)*t*(rp - 1)*(3*rp - 4)*(2*p_pair**2*q*rp - p_pair*q - p_pair*rp + 1)**2/24 + (pmp)*t*(qp - 1)**2*(12*p_pair**4*qp**2*r**2 - 12*p_pair**3*qp**2*r - 12*p_pair**3*qp*r**2 + 2*p_pair**2*qp**2 + 16*p_pair**2*qp*r + 2*p_pair**2*r**2 - 4*p_pair*qp - 4*p_pair*r + 4*qp**2*r**2 - 4*qp**2*r + qp**2 - 4*qp*r**2 + 8*qp*r - 3*qp + r**2 - 3*r + 4)/24 + (ppc)*t*(8*p_pair**4*q**2*r**2*vp**2 - 8*p_pair**4*q**2*r**2*vp + 12*p_pair**4*q**2*r**2 - 8*p_pair**3*q**2*r*vp**2 + 8*p_pair**3*q**2*r*vp - 12*p_pair**3*q**2*r - 8*p_pair**3*q*r**2*vp**2 + 8*p_pair**3*q*r**2*vp - 12*p_pair**3*q*r**2 + 2*p_pair**2*q**2 + 8*p_pair**2*q*r*vp**2 - 8*p_pair**2*q*r*vp + 16*p_pair**2*q*r + 2*p_pair**2*r**2 - 4*p_pair*q - 4*p_pair*r + 8*q**2*r**2*vp**2 - 8*q**2*r**2*vp + 4*q**2*r**2 - 8*q**2*r*vp**2 + 8*q**2*r*vp - 4*q**2*r + 2*q**2*vp**2 - 2*q**2*vp + q**2 - 8*q*r**2*vp**2 + 8*q*r**2*vp - 4*q*r**2 + 12*q*r*vp**2 - 12*q*r*vp + 8*q*r - 4*q*vp**2 + 4*q*vp - 3*q + 2*r**2*vp**2 - 2*r**2*vp + r**2 - 4*r*vp**2 + 4*r*vp - 3*r + 2*vp**2 - 2*vp + 4)/24 + (-(pdm)*t - (pmp)*t - (ppc)*t + 1)*(2*p_pair**2*q*r - p_pair*q - p_pair*r + 1)**2/6,\n",
    "   0]],\n",
    " [33,\n",
    "  [0,\n",
    "   -(pmp)*p_pair**2*qp**2*r*t*(qp - 1)*(p_pair*qp - 1)*(p_pair*r - 1)/4,\n",
    "   -(pdm)*t*(rp - 1)*(2*p_pair**2*q*rp - p_pair*q - p_pair*rp + 1)*(6*p_pair**2*q*rp**2 - 8*p_pair**2*q*rp - 3*p_pair*q*rp + 4*p_pair*q - 3*p_pair*rp**2 + 4*p_pair*rp + 2*rp)/12 - (pmp)*t*(qp - 1)*(12*p_pair**4*qp**3*r**2 - 8*p_pair**4*qp**2*r**2 - 12*p_pair**3*qp**3*r - 12*p_pair**3*qp**2*r**2 + 8*p_pair**3*qp**2*r + 8*p_pair**3*qp*r**2 + 2*p_pair**2*qp**3 + 16*p_pair**2*qp**2*r - 2*p_pair**2*qp**2 + 2*p_pair**2*qp*r**2 - 8*p_pair**2*qp*r - 2*p_pair**2*r**2 - 4*p_pair*qp**2 - 4*p_pair*qp*r + 2*p_pair*qp + 2*p_pair*r + 4*qp**3*r**2 - 4*qp**3*r + qp**3 - 4*qp**2*r**2 + 8*qp**2*r - 3*qp**2 + qp*r**2 - 3*qp*r + 4*qp)/12 + (ppc)*p_pair*t*(-2*p_pair*q*r + q + r)*(2*p_pair**2*q*r - p_pair*q - p_pair*r + 1)/6 - p_pair*(-2*p_pair*q*r + q + r)*((pdm)*t + (pmp)*t + (ppc)*t - 1)*(2*p_pair**2*q*r - p_pair*q - p_pair*r + 1)/3,\n",
    "   0]],\n",
    " [34,\n",
    "  [0,\n",
    "   p_pair**2*r*t*(p_pair*r - 1)*((pmp)*qp*(qp - 1)**2*(p_pair*qp - 1) + (ppc)*q*(p_pair*q - 1)*(2*vp**2 - 2*vp + 1))/8,\n",
    "   t*((pdm)*rp*(12*p_pair**4*q**2*rp**3 + 4*p_pair**4*q**2*rp**2 - 12*p_pair**3*q**2*rp**2 - 4*p_pair**3*q**2*rp - 12*p_pair**3*q*rp**3 - 4*p_pair**3*q*rp**2 + 3*p_pair**2*q**2*rp + p_pair**2*q**2 + 10*p_pair**2*q*rp**2 + 6*p_pair**2*q*rp + 3*p_pair**2*rp**3 + p_pair**2*rp**2 - 2*p_pair*q*rp - 2*p_pair*q - 2*p_pair*rp**2 - 2*p_pair*rp + rp + 1) + (pmp)*(12*p_pair**4*qp**4*r**2 - 8*p_pair**4*qp**3*r**2 + 4*p_pair**4*qp**2*r**2 - 12*p_pair**3*qp**4*r - 12*p_pair**3*qp**3*r**2 + 8*p_pair**3*qp**3*r + 8*p_pair**3*qp**2*r**2 - 4*p_pair**3*qp**2*r - 4*p_pair**3*qp*r**2 + 2*p_pair**2*qp**4 + 8*p_pair**2*qp**3*r + 2*p_pair**2*qp**2*r**2 - 8*p_pair**2*qp**2*r + 4*p_pair**2*qp*r + 4*qp**4*r**2 - 4*qp**4*r + qp**4 - 12*qp**3*r**2 + 8*qp**3*r - qp**3 + 13*qp**2*r**2 - 3*qp**2*r - qp**2 - 6*qp*r**2 - 2*qp*r + qp + r**2 + r) + (ppc)*(8*p_pair**4*q**2*r**2*vp**2 - 8*p_pair**4*q**2*r**2*vp + 4*p_pair**4*q**2*r**2 - 8*p_pair**3*q**2*r*vp**2 + 8*p_pair**3*q**2*r*vp - 4*p_pair**3*q**2*r - 8*p_pair**3*q*r**2*vp**2 + 8*p_pair**3*q*r**2*vp - 4*p_pair**3*q*r**2 + 8*p_pair**2*q*r*vp**2 - 8*p_pair**2*q*r*vp + 4*p_pair**2*q*r + 8*q**2*r**2*vp**2 - 8*q**2*r**2*vp + 4*q**2*r**2 - 8*q**2*r*vp**2 + 8*q**2*r*vp - 4*q**2*r + 2*q**2*vp**2 - 2*q**2*vp + q**2 - 8*q*r**2*vp**2 + 8*q*r**2*vp - 4*q*r**2 + 4*q*r*vp**2 - 4*q*r*vp + q + 2*r**2*vp**2 - 2*r**2*vp + r**2 + r))/24,\n",
    "   0]],\n",
    " [35,\n",
    "  [0,\n",
    "   -(pmp)*p_pair**2*qp**2*r*t*(qp - 1)*(p_pair*qp - 1)*(p_pair*r - 1)/4,\n",
    "   t*((pdm)*p_pair*rp*(-2*p_pair*q*rp + q + rp)*(6*p_pair**2*q*rp**2 + 2*p_pair**2*q*rp - 3*p_pair*q*rp - p_pair*q - 3*p_pair*rp**2 - p_pair*rp + rp + 3) - (pmp)*qp*(12*p_pair**4*qp**3*r**2 - 4*p_pair**4*qp**2*r**2 - 12*p_pair**3*qp**3*r - 12*p_pair**3*qp**2*r**2 + 4*p_pair**3*qp**2*r + 4*p_pair**3*qp*r**2 + 2*p_pair**2*qp**3 + 8*p_pair**2*qp**2*r + 2*p_pair**2*qp*r**2 - 2*p_pair*qp - 2*p_pair*r + 4*qp**3*r**2 - 4*qp**3*r + qp**3 - 8*qp**2*r**2 + 4*qp**2*r + 5*qp*r**2 + qp*r - qp - r**2 - r))/12,\n",
    "   0]],\n",
    " [36,\n",
    "  [0,\n",
    "   (pmp)*p_pair**2*qp**3*r*t*(p_pair*qp - 1)*(p_pair*r - 1)/4,\n",
    "   (pdm)*t*(12*p_pair**4*q**2*rp**4 - 12*p_pair**4*q**2*rp**3 + 8*p_pair**4*q**2*rp**2 - 12*p_pair**3*q**2*rp**3 + 12*p_pair**3*q**2*rp**2 - 8*p_pair**3*q**2*rp - 12*p_pair**3*q*rp**4 + 12*p_pair**3*q*rp**3 - 8*p_pair**3*q*rp**2 + 3*p_pair**2*q**2*rp**2 - 3*p_pair**2*q**2*rp + 2*p_pair**2*q**2 + 10*p_pair**2*q*rp**3 - 6*p_pair**2*q*rp**2 + 4*p_pair**2*q*rp + 3*p_pair**2*rp**4 - 3*p_pair**2*rp**3 + 2*p_pair**2*rp**2 - 2*p_pair*q*rp**2 - 2*p_pair*rp**3 + rp**2)/12 + (pmp)*t*(12*p_pair**4*qp**4*r**2 - 8*p_pair**4*qp**3*r**2 + 4*p_pair**4*qp**2*r**2 - 12*p_pair**3*qp**4*r - 12*p_pair**3*qp**3*r**2 + 8*p_pair**3*qp**3*r + 8*p_pair**3*qp**2*r**2 - 4*p_pair**3*qp**2*r - 4*p_pair**3*qp*r**2 + 2*p_pair**2*qp**4 + 12*p_pair**2*qp**3*r - 2*p_pair**2*qp**3 + 2*p_pair**2*qp**2*r**2 - 4*p_pair**2*qp**2*r + p_pair**2*qp**2 - 2*p_pair**2*qp*r**2 + 2*p_pair**2*qp*r + p_pair**2*r**2 - 2*p_pair*qp**3 - 2*p_pair*qp**2*r + 4*qp**4*r**2 - 4*qp**4*r + qp**4 - 4*qp**3*r**2 + 4*qp**3*r - qp**3 + qp**2*r**2 - qp**2*r + 2*qp**2)/12 + (ppc)*p_pair**2*t*(-2*p_pair*q*r + q + r)**2/12 + p_pair**2*(-2*p_pair*q*r + q + r)**2*(-(pdm)*t - (pmp)*t - (ppc)*t + 1)/6,\n",
    "   0]]]"
   ]
  },
  {
   "cell_type": "markdown",
   "metadata": {},
   "source": [
    "B/Bb locus"
   ]
  },
  {
   "cell_type": "code",
   "execution_count": 18,
   "metadata": {
    "collapsed": true
   },
   "outputs": [],
   "source": [
    "lst = []\n",
    "\n",
    "for i in modes:\n",
    "    if i[0][2] == i[1][2]:\n",
    "        lst.append(i)"
   ]
  },
  {
   "cell_type": "code",
   "execution_count": 19,
   "metadata": {},
   "outputs": [
    {
     "data": {
      "text/plain": [
       "[[['i_m', G, 'i_m'], ['i_m', G, 'i_m']],\n",
       " [['i_m', G, 'j_m'], ['i_m', G, 'j_m']],\n",
       " [['i_m', G, 'i_m'], ['j_m', G, 'i_m']],\n",
       " [['i_m', G, 'j_m'], ['k_m', G, 'j_m']],\n",
       " [['i_m', G, 'i_m'], ['j_m', g, 'i_m']],\n",
       " [['i_m', g, 'i_m'], ['i_m', G, 'i_m']],\n",
       " [['i_m', g, 'j_m'], ['i_m', G, 'j_m']],\n",
       " [['i_m', g, 'i_m'], ['j_m', G, 'i_m']],\n",
       " [['i_m', g, 'j_m'], ['k_m', G, 'j_m']],\n",
       " [['i_m', g, 'i_m'], ['i_m', g, 'i_m']],\n",
       " [['i_m', g, 'j_m'], ['i_m', g, 'j_m']],\n",
       " [['i_m', g, 'i_m'], ['j_m', g, 'i_m']],\n",
       " [['i_m', g, 'j_m'], ['k_m', g, 'j_m']]]"
      ]
     },
     "execution_count": 19,
     "metadata": {},
     "output_type": "execute_result"
    }
   ],
   "source": [
    "lst"
   ]
  },
  {
   "cell_type": "code",
   "execution_count": 20,
   "metadata": {
    "collapsed": true
   },
   "outputs": [],
   "source": [
    "prob_dr = 0\n",
    "\n",
    "for i in lst:\n",
    "    indx = modes.index(i)\n",
    "    prob_dr = prob_dr + prob[indx][1][1]"
   ]
  },
  {
   "cell_type": "code",
   "execution_count": 21,
   "metadata": {},
   "outputs": [
    {
     "data": {
      "text/plain": [
       "[-t*(2*(pdm)*rp**2 - 2*(pdm)*rp + 4*(pmp)*p_pair**4*qp**2*r**2 - 4*(pmp)*p_pair**3*qp**2*r - 4*(pmp)*p_pair**3*qp*r**2 + (pmp)*p_pair**2*qp**2 + 4*(pmp)*p_pair**2*qp*r + (pmp)*p_pair**2*r**2 - (pmp)*p_pair*qp - (pmp)*p_pair*r + 4*(pmp)*qp**2*r**2 - 4*(pmp)*qp**2*r + (pmp)*qp**2 - 4*(pmp)*qp*r**2 + 4*(pmp)*qp*r - (pmp)*qp + (pmp)*r**2 - (pmp)*r + 16*(ppc)*p_pair**4*q**2*r**2*vp**2 - 16*(ppc)*p_pair**4*q**2*r**2*vp + 4*(ppc)*p_pair**4*q**2*r**2 - 16*(ppc)*p_pair**3*q**2*r*vp**2 + 16*(ppc)*p_pair**3*q**2*r*vp - 4*(ppc)*p_pair**3*q**2*r - 16*(ppc)*p_pair**3*q*r**2*vp**2 + 16*(ppc)*p_pair**3*q*r**2*vp - 4*(ppc)*p_pair**3*q*r**2 + 4*(ppc)*p_pair**2*q**2*vp**2 - 4*(ppc)*p_pair**2*q**2*vp + (ppc)*p_pair**2*q**2 + 16*(ppc)*p_pair**2*q*r*vp**2 - 16*(ppc)*p_pair**2*q*r*vp + 4*(ppc)*p_pair**2*q*r + 4*(ppc)*p_pair**2*r**2*vp**2 - 4*(ppc)*p_pair**2*r**2*vp + (ppc)*p_pair**2*r**2 - 4*(ppc)*p_pair*q*vp**2 + 4*(ppc)*p_pair*q*vp - (ppc)*p_pair*q - 4*(ppc)*p_pair*r*vp**2 + 4*(ppc)*p_pair*r*vp - (ppc)*p_pair*r + 16*(ppc)*q**2*r**2*vp**2 - 16*(ppc)*q**2*r**2*vp + 4*(ppc)*q**2*r**2 - 16*(ppc)*q**2*r*vp**2 + 16*(ppc)*q**2*r*vp - 4*(ppc)*q**2*r + 4*(ppc)*q**2*vp**2 - 4*(ppc)*q**2*vp + (ppc)*q**2 - 16*(ppc)*q*r**2*vp**2 + 16*(ppc)*q*r**2*vp - 4*(ppc)*q*r**2 + 16*(ppc)*q*r*vp**2 - 16*(ppc)*q*r*vp + 4*(ppc)*q*r - 4*(ppc)*q*vp**2 + 4*(ppc)*q*vp - (ppc)*q + 4*(ppc)*r**2*vp**2 - 4*(ppc)*r**2*vp + (ppc)*r**2 - 4*(ppc)*r*vp**2 + 4*(ppc)*r*vp - (ppc)*r + 2*(ppc)*vp**2 - 2*(ppc)*vp)/4]"
      ]
     },
     "execution_count": 21,
     "metadata": {},
     "output_type": "execute_result"
    }
   ],
   "source": [
    "[sp.factor(prob_dr)]"
   ]
  },
  {
   "cell_type": "code",
   "execution_count": null,
   "metadata": {
    "collapsed": true
   },
   "outputs": [],
   "source": []
  },
  {
   "cell_type": "markdown",
   "metadata": {},
   "source": [
    "A/a locus"
   ]
  },
  {
   "cell_type": "code",
   "execution_count": 22,
   "metadata": {
    "collapsed": true
   },
   "outputs": [],
   "source": [
    "lst = []\n",
    "\n",
    "for i in modes:\n",
    "    if i[0][0] == i[1][0]:\n",
    "        lst.append(i)"
   ]
  },
  {
   "cell_type": "code",
   "execution_count": 23,
   "metadata": {},
   "outputs": [
    {
     "data": {
      "text/plain": [
       "[[['i_m', G, 'i_m'], ['i_m', G, 'i_m']],\n",
       " [['i_m', G, 'j_m'], ['i_m', G, 'j_m']],\n",
       " [['i_m', G, 'i_m'], ['i_m', G, 'j_m']],\n",
       " [['i_m', G, 'j_m'], ['i_m', G, 'k_m']],\n",
       " [['i_m', G, 'i_m'], ['i_m', g, 'j_m']],\n",
       " [['i_m', g, 'i_m'], ['i_m', G, 'i_m']],\n",
       " [['i_m', g, 'j_m'], ['i_m', G, 'j_m']],\n",
       " [['i_m', g, 'i_m'], ['i_m', G, 'j_m']],\n",
       " [['i_m', g, 'j_m'], ['i_m', G, 'k_m']],\n",
       " [['i_m', g, 'i_m'], ['i_m', g, 'i_m']],\n",
       " [['i_m', g, 'j_m'], ['i_m', g, 'j_m']],\n",
       " [['i_m', g, 'i_m'], ['i_m', g, 'j_m']],\n",
       " [['i_m', g, 'j_m'], ['i_m', g, 'k_m']]]"
      ]
     },
     "execution_count": 23,
     "metadata": {},
     "output_type": "execute_result"
    }
   ],
   "source": [
    "lst"
   ]
  },
  {
   "cell_type": "markdown",
   "metadata": {},
   "source": [
    "Prob DR for GGGG genotype"
   ]
  },
  {
   "cell_type": "code",
   "execution_count": 24,
   "metadata": {
    "collapsed": true
   },
   "outputs": [],
   "source": [
    "prob_dr = 0\n",
    "\n",
    "for i in lst:\n",
    "    indx = modes.index(i)\n",
    "    prob_dr = prob_dr + prob[indx][1][0]"
   ]
  },
  {
   "cell_type": "code",
   "execution_count": 25,
   "metadata": {
    "scrolled": true
   },
   "outputs": [
    {
     "data": {
      "text/plain": [
       "[-(ppc)*t*vp*(vp - 1)/2]"
      ]
     },
     "execution_count": 25,
     "metadata": {},
     "output_type": "execute_result"
    }
   ],
   "source": [
    "[sp.factor(prob_dr)]"
   ]
  },
  {
   "cell_type": "code",
   "execution_count": 26,
   "metadata": {},
   "outputs": [
    {
     "data": {
      "text/latex": [
       "$\\displaystyle 0.0416666666666667$"
      ],
      "text/plain": [
       "0.0416666666666667"
      ]
     },
     "execution_count": 26,
     "metadata": {},
     "output_type": "execute_result"
    }
   ],
   "source": [
    "(-(ppc)*t*vp*(vp - 1)/2).subs(ppc,1/2).subs(t,2/3).subs(vp,1/2).subs(p_pair,0)"
   ]
  },
  {
   "cell_type": "markdown",
   "metadata": {},
   "source": [
    "Prob DR for GGGg genotype"
   ]
  },
  {
   "cell_type": "code",
   "execution_count": 27,
   "metadata": {
    "collapsed": true
   },
   "outputs": [],
   "source": [
    "prob_dr = 0\n",
    "\n",
    "for i in lst:\n",
    "    indx = modes.index(i)\n",
    "    prob_dr = prob_dr + prob[indx][1][1]"
   ]
  },
  {
   "cell_type": "code",
   "execution_count": 28,
   "metadata": {},
   "outputs": [
    {
     "data": {
      "text/plain": [
       "[-(ppc)*t*vp*(vp - 1)/2]"
      ]
     },
     "execution_count": 28,
     "metadata": {},
     "output_type": "execute_result"
    }
   ],
   "source": [
    "[sp.factor(prob_dr)]"
   ]
  },
  {
   "cell_type": "code",
   "execution_count": 29,
   "metadata": {},
   "outputs": [
    {
     "data": {
      "text/latex": [
       "$\\displaystyle 0.0416666666666667$"
      ],
      "text/plain": [
       "0.0416666666666667"
      ]
     },
     "execution_count": 29,
     "metadata": {},
     "output_type": "execute_result"
    }
   ],
   "source": [
    "(-(ppc)*t*vp*(vp - 1)/2).subs(ppc,1/2).subs(t,2/3).subs(vp,1/2).subs(p_pair,0)"
   ]
  },
  {
   "cell_type": "markdown",
   "metadata": {},
   "source": [
    "Prob DR for GGgg genotype"
   ]
  },
  {
   "cell_type": "code",
   "execution_count": 30,
   "metadata": {
    "collapsed": true
   },
   "outputs": [],
   "source": [
    "prob_dr = 0\n",
    "\n",
    "for i in lst:\n",
    "    indx = modes.index(i)\n",
    "    prob_dr = prob_dr + prob[indx][1][2]"
   ]
  },
  {
   "cell_type": "code",
   "execution_count": 31,
   "metadata": {},
   "outputs": [
    {
     "data": {
      "text/plain": [
       "[-(ppc)*t*vp*(vp - 1)/2]"
      ]
     },
     "execution_count": 31,
     "metadata": {},
     "output_type": "execute_result"
    }
   ],
   "source": [
    "[sp.factor(prob_dr)]"
   ]
  },
  {
   "cell_type": "code",
   "execution_count": 32,
   "metadata": {},
   "outputs": [
    {
     "data": {
      "text/latex": [
       "$\\displaystyle 0.0416666666666667$"
      ],
      "text/plain": [
       "0.0416666666666667"
      ]
     },
     "execution_count": 32,
     "metadata": {},
     "output_type": "execute_result"
    }
   ],
   "source": [
    "(-(ppc)*t*vp*(vp - 1)/2).subs(ppc,1/2).subs(t,2/3).subs(vp,1/2).subs(p_pair,0)"
   ]
  },
  {
   "cell_type": "markdown",
   "metadata": {},
   "source": [
    "Prob DR for GGGG/g genotype"
   ]
  },
  {
   "cell_type": "code",
   "execution_count": 33,
   "metadata": {
    "collapsed": true
   },
   "outputs": [],
   "source": [
    "prob_dr = 0\n",
    "\n",
    "for i in lst:\n",
    "    indx = modes.index(i)\n",
    "    prob_dr = prob_dr + prob[indx][1][3]"
   ]
  },
  {
   "cell_type": "code",
   "execution_count": 34,
   "metadata": {},
   "outputs": [
    {
     "data": {
      "text/plain": [
       "[-(ppc)*t*vp*(vp - 1)/2]"
      ]
     },
     "execution_count": 34,
     "metadata": {},
     "output_type": "execute_result"
    }
   ],
   "source": [
    "[sp.factor(prob_dr)]"
   ]
  },
  {
   "cell_type": "markdown",
   "metadata": {},
   "source": [
    "Preferential Pairing: Distal"
   ]
  },
  {
   "cell_type": "code",
   "execution_count": 35,
   "metadata": {
    "collapsed": true
   },
   "outputs": [],
   "source": [
    "modes = [[['i_m', 'i_m', G], ['i_m', 'i_m', G]],\n",
    " [['i_m', 'j_m', G], ['i_m', 'j_m', G]],\n",
    " [['i_m', 'i_m', G], ['i_m', 'j_m', G]],\n",
    " [['i_m', 'j_m', G], ['i_m', 'k_m', G]],\n",
    " [['i_m', 'i_m', G], ['j_m', 'i_m', G]],\n",
    " [['i_m', 'j_m', G], ['k_m', 'j_m', G]],\n",
    " [['i_m', 'i_m', G], ['j_m', 'j_m', G]],\n",
    " [['i_m', 'i_m', G], ['j_m', 'k_m', G]],\n",
    " [['i_m', 'j_m', G], ['j_m', 'i_m', G]],\n",
    " [['i_m', 'j_m', G], ['j_m', 'k_m', G]],\n",
    " [['i_m', 'j_m', G], ['k_m', 'l_m', G]],\n",
    " [['i_m', 'i_m', G], ['i_m', 'j_m', g]],\n",
    " [['i_m', 'i_m', G], ['j_m', 'i_m', g]],\n",
    " [['i_m', 'i_m', G], ['j_m', 'k_m', g]],\n",
    " [['i_m', 'j_m', G], ['j_m', 'k_m', g]],\n",
    " [['i_m', 'i_m', g], ['i_m', 'i_m', G]],\n",
    " [['i_m', 'j_m', g], ['i_m', 'j_m', G]],\n",
    " [['i_m', 'i_m', g], ['i_m', 'j_m', G]],\n",
    " [['i_m', 'j_m', g], ['i_m', 'k_m', G]],\n",
    " [['i_m', 'i_m', g], ['j_m', 'i_m', G]],\n",
    " [['i_m', 'j_m', g], ['k_m', 'j_m', G]],\n",
    " [['i_m', 'i_m', g], ['j_m', 'j_m', G]],\n",
    " [['i_m', 'i_m', g], ['j_m', 'k_m', G]],\n",
    " [['i_m', 'j_m', g], ['j_m', 'i_m', G]],\n",
    " [['i_m', 'j_m', g], ['j_m', 'k_m', G]],\n",
    " [['i_m', 'j_m', g], ['k_m', 'l_m', G]],\n",
    " [['i_m', 'i_m', g], ['i_m', 'i_m', g]],\n",
    " [['i_m', 'j_m', g], ['i_m', 'j_m', g]],\n",
    " [['i_m', 'i_m', g], ['i_m', 'j_m', g]],\n",
    " [['i_m', 'j_m', g], ['i_m', 'k_m', g]],\n",
    " [['i_m', 'i_m', g], ['j_m', 'i_m', g]],\n",
    " [['i_m', 'j_m', g], ['k_m', 'j_m', g]],\n",
    " [['i_m', 'i_m', g], ['j_m', 'j_m', g]],\n",
    " [['i_m', 'i_m', g], ['j_m', 'k_m', g]],\n",
    " [['i_m', 'j_m', g], ['j_m', 'i_m', g]],\n",
    " [['i_m', 'j_m', g], ['j_m', 'k_m', g]],\n",
    " [['i_m', 'j_m', g], ['k_m', 'l_m', g]]]"
   ]
  },
  {
   "cell_type": "code",
   "execution_count": 36,
   "metadata": {
    "collapsed": true
   },
   "outputs": [],
   "source": [
    "prob = [[0,\n",
    "  [-(ppc)*t*vp*(q - 1)**2*(vp - 1)/2,\n",
    "   -(ppc)*t*vp*(q - 1)**2*(vp - 1)*(2*p_pair**2*r**2 - 2*p_pair*r + 3)/8,\n",
    "   -(ppc)*t*vp*(q - 1)**2*(vp - 1)*(4*p_pair**2*r**2 - 4*p_pair*r + 3)/12,\n",
    "   -3*(ppc)*t*vp*(q - 1)**2*(vp - 1)/8]],\n",
    " [1,\n",
    "  [(ppc)*q**2*t*vp*(1 - vp)/2,\n",
    "   -(ppc)*q**2*t*vp*(vp - 1)*(2*p_pair**2*r**2 - 2*p_pair*r + 3)/8,\n",
    "   -(ppc)*q**2*t*vp*(vp - 1)*(4*p_pair**2*r**2 - 4*p_pair*r + 3)/12,\n",
    "   3*(ppc)*q**2*t*vp*(1 - vp)/8]],\n",
    " [2,\n",
    "  [(ppc)*q*t*vp*(q - 1)*(vp - 1),\n",
    "   (ppc)*q*t*vp*(q - 1)*(vp - 1)*(-p_pair**2*r**2 + p_pair*r + 1)/2,\n",
    "   (ppc)*q*t*vp*(q - 1)*(vp - 1)*(-4*p_pair**2*r**2 + 4*p_pair*r + 1)/6,\n",
    "   3*(ppc)*q*t*vp*(q - 1)*(vp - 1)/4]],\n",
    " [3, [0, 0, 0, 0]],\n",
    " [4,\n",
    "  [t*((pmp)*qp*(qp - 1)**2 - (ppc)*q*(q - 1)*(2*vp**2 - 2*vp + 1))/2,\n",
    "   t*((pmp)*qp*(qp - 1)**2 - (ppc)*q*(q - 1)*(2*vp**2 - 2*vp + 1))*(2*p_pair**2*r**2 - 2*p_pair*r + 3)/8,\n",
    "   t*((pmp)*qp*(qp - 1)**2 - (ppc)*q*(q - 1)*(2*vp**2 - 2*vp + 1))*(4*p_pair**2*r**2 - 4*p_pair*r + 3)/12,\n",
    "   3*t*((pmp)*qp*(qp - 1)**2 - (ppc)*q*(q - 1)*(2*vp**2 - 2*vp + 1))/8]],\n",
    " [5,\n",
    "  [(pmp)*qp**2*t*(1 - qp)/2,\n",
    "   -(pmp)*qp**2*t*(qp - 1)*(2*p_pair**2*r**2 - 2*p_pair*r + 3)/8,\n",
    "   -(pmp)*qp**2*t*(qp - 1)*(4*p_pair**2*r**2 - 4*p_pair*r + 3)/12,\n",
    "   3*(pmp)*qp**2*t*(1 - qp)/8]],\n",
    " [6,\n",
    "  [(pdm)*t*(q - 1)**2 + (pmp)*t*(qp - 1)**3*(3*qp - 4)/4 + (ppc)*t*(q - 1)*(2*q*vp**2 - 2*q*vp + 3*q - 2*vp**2 + 2*vp - 4)/4 + (q - 1)**2*(-(pdm)*t - (pmp)*t - (ppc)*t + 1),\n",
    "   (pdm)*t*(q - 1)**2*(-p_pair**2*rp**2 + p_pair*rp + 4)/8 - (pmp)*t*(qp - 1)**3*(p_pair**2*qp*r**2 - p_pair**2*r**2 - p_pair*qp*r + p_pair*r - 3*qp + 4)/8 - (ppc)*t*(q - 1)*(2*p_pair**2*q*r**2*vp**2 - 2*p_pair**2*q*r**2*vp + p_pair**2*q*r**2 - 2*p_pair**2*r**2*vp**2 + 2*p_pair**2*r**2*vp - p_pair**2*r**2 - 2*p_pair*q*r*vp**2 + 2*p_pair*q*r*vp - p_pair*q*r + 2*p_pair*r*vp**2 - 2*p_pair*r*vp + p_pair*r - 2*q*vp**2 + 2*q*vp - 3*q + 2*vp**2 - 2*vp + 4)/8 + (q - 1)**2*(-(pdm)*t - (pmp)*t - (ppc)*t + 1)/2,\n",
    "   (pdm)*t*(q - 1)**2*(-p_pair**2*rp**2 + p_pair*rp + 1)/6 - (pmp)*t*(qp - 1)**3*(4*p_pair**2*qp*r**2 - 4*p_pair**2*r**2 - 4*p_pair*qp*r + 4*p_pair*r - 3*qp + 4)/24 - (ppc)*t*(q - 1)*(8*p_pair**2*q*r**2*vp**2 - 8*p_pair**2*q*r**2*vp + 4*p_pair**2*q*r**2 - 8*p_pair**2*r**2*vp**2 + 8*p_pair**2*r**2*vp - 4*p_pair**2*r**2 - 8*p_pair*q*r*vp**2 + 8*p_pair*q*r*vp - 4*p_pair*q*r + 8*p_pair*r*vp**2 - 8*p_pair*r*vp + 4*p_pair*r - 2*q*vp**2 + 2*q*vp - 3*q + 2*vp**2 - 2*vp + 4)/24 + (q - 1)**2*(-(pdm)*t - (pmp)*t - (ppc)*t + 1)/6,\n",
    "   3*(pdm)*t*(q - 1)**2/4 + 3*(pmp)*t*(qp - 1)**3*(3*qp - 4)/16 + 3*(ppc)*t*(q - 1)*(2*q*vp**2 - 2*q*vp + 3*q - 2*vp**2 + 2*vp - 4)/16 + 3*(q - 1)**2*(-(pdm)*t - (pmp)*t - (ppc)*t + 1)/4]],\n",
    " [7,\n",
    "  [-2*(pdm)*q*t*(q - 1) - 3*(pmp)*qp*t*(qp - 2)*(qp - 1)**2/2 - (ppc)*q*t*(q - 1) + 2*q*(q - 1)*((pdm)*t + (pmp)*t + (ppc)*t - 1),\n",
    "   -(pdm)*q*t*(q - 1)*(-p_pair**2*rp**2 + p_pair*rp + 4)/4 + (pmp)*qp*t*(qp - 1)**2*(p_pair**2*qp*r**2 - p_pair**2*r**2 - p_pair*qp*r + p_pair*r - 3*qp + 6)/4 - (ppc)*q*t*(q - 1)/2 + q*(q - 1)*((pdm)*t + (pmp)*t + (ppc)*t - 1),\n",
    "   -(pdm)*q*t*(q - 1)*(-p_pair**2*rp**2 + p_pair*rp + 1)/3 + (pmp)*qp*t*(qp - 1)**2*(4*p_pair**2*qp*r**2 - 4*p_pair**2*r**2 - 4*p_pair*qp*r + 4*p_pair*r - 3*qp + 6)/12 - (ppc)*q*t*(q - 1)/6 + q*(q - 1)*((pdm)*t + (pmp)*t + (ppc)*t - 1)/3,\n",
    "   -3*(pdm)*q*t*(q - 1)/2 - 9*(pmp)*qp*t*(qp - 2)*(qp - 1)**2/8 - 3*(ppc)*q*t*(q - 1)/4 + 3*q*(q - 1)*((pdm)*t + (pmp)*t + (ppc)*t - 1)/2]],\n",
    " [8,\n",
    "  [t*((pmp)*qp*(3*qp**3 - qp**2 - qp + 1) + (ppc)*q*(2*q*vp**2 - 2*q*vp + q + 1))/4,\n",
    "   t*(-(pmp)*qp*(p_pair**2*qp**3*r**2 - 2*p_pair**2*qp**2*r**2 + p_pair**2*qp*r**2 - p_pair*qp**3*r + 2*p_pair*qp**2*r - p_pair*qp*r - 3*qp**3 + qp**2 + qp - 1) + (ppc)*q*(-2*p_pair**2*q*r**2*vp**2 + 2*p_pair**2*q*r**2*vp - p_pair**2*q*r**2 + 2*p_pair*q*r*vp**2 - 2*p_pair*q*r*vp + p_pair*q*r + 2*q*vp**2 - 2*q*vp + q + 1))/8,\n",
    "   t*(-(pmp)*qp*(4*p_pair**2*qp**3*r**2 - 8*p_pair**2*qp**2*r**2 + 4*p_pair**2*qp*r**2 - 4*p_pair*qp**3*r + 8*p_pair*qp**2*r - 4*p_pair*qp*r - 3*qp**3 + qp**2 + qp - 1) + (ppc)*q*(-8*p_pair**2*q*r**2*vp**2 + 8*p_pair**2*q*r**2*vp - 4*p_pair**2*q*r**2 + 8*p_pair*q*r*vp**2 - 8*p_pair*q*r*vp + 4*p_pair*q*r + 2*q*vp**2 - 2*q*vp + q + 1))/24,\n",
    "   3*t*((pmp)*qp*(3*qp**3 - qp**2 - qp + 1) + (ppc)*q*(2*q*vp**2 - 2*q*vp + q + 1))/16]],\n",
    " [9,\n",
    "  [3*(pmp)*qp**2*t*(1 - qp**2)/2,\n",
    "   -(pmp)*qp**2*t*(qp - 1)*(-p_pair**2*qp*r**2 + p_pair*qp*r + 3*qp + 3)/4,\n",
    "   -(pmp)*qp**2*t*(qp - 1)*(-4*p_pair**2*qp*r**2 + 4*p_pair*qp*r + 3*qp + 3)/12,\n",
    "   9*(pmp)*qp**2*t*(1 - qp**2)/8]],\n",
    " [10,\n",
    "  [-(pmp)*q**2*t + 3*(pmp)*qp**4*t/2 - 5*(pmp)*qp**3*t/2 + 3*(pmp)*qp**2*t/2 - (ppc)*q**2*t/2 + q**2,\n",
    "   (pdm)*q**2*t*(-p_pair**2*rp**2 + p_pair*rp + 4)/8 + (pmp)*qp**2*t*(-2*p_pair**2*qp**2*r**2 + 2*p_pair**2*qp*r**2 - p_pair**2*r**2 + 2*p_pair*qp**2*r - 2*p_pair*qp*r + p_pair*r + 6*qp**2 - 10*qp + 6)/8 + (ppc)*q**2*t/4 + q**2*(-(pdm)*t - (pmp)*t - (ppc)*t + 1)/2,\n",
    "   (pdm)*q**2*t*(-p_pair**2*rp**2 + p_pair*rp + 1)/6 + (pmp)*qp**2*t*(-4*p_pair**2*qp**2*r**2 + 4*p_pair**2*qp*r**2 - 2*p_pair**2*r**2 + 4*p_pair*qp**2*r - 4*p_pair*qp*r + 2*p_pair*r + 3*qp**2 - 5*qp + 3)/12 + (ppc)*q**2*t/12 + q**2*(-(pdm)*t - (pmp)*t - (ppc)*t + 1)/6,\n",
    "   -3*(pmp)*q**2*t/4 + 9*(pmp)*qp**4*t/8 - 15*(pmp)*qp**3*t/8 + 9*(pmp)*qp**2*t/8 - 3*(ppc)*q**2*t/8 + 3*q**2/4]],\n",
    " [11,\n",
    "  [0,\n",
    "   (ppc)*q*t*vp*(q - 1)*(vp - 1)*(2*p_pair**2*r**2 - 2*p_pair*r + 1)/4,\n",
    "   (ppc)*q*t*vp*(q - 1)*(vp - 1)*(2*p_pair**2*r**2 - 2*p_pair*r + 1)/3,\n",
    "   (ppc)*q*t*vp*(q - 1)*(vp - 1)/8]],\n",
    " [12,\n",
    "  [0,\n",
    "   p_pair*r*t*(p_pair*r - 1)*(-(pmp)*qp*(qp - 1)**2 + (ppc)*q*(q - 1)*(2*vp**2 - 2*vp + 1))/4,\n",
    "   p_pair*r*t*(p_pair*r - 1)*(-(pmp)*qp*(qp - 1)**2 + (ppc)*q*(q - 1)*(2*vp**2 - 2*vp + 1))/3,\n",
    "   t*((pmp)*qp*(qp - 1)**2 - (ppc)*q*(q - 1)*(2*vp**2 - 2*vp + 1))/16]],\n",
    " [13,\n",
    "  [0,\n",
    "   -(pdm)*q*t*(q - 1)*(p_pair**2*rp**2 - p_pair*rp + 2)/4 - (pmp)*qp*t*(qp - 1)**2*(2*p_pair**2*qp*r**2 - 2*p_pair**2*r**2 - 2*p_pair*qp*r + 2*p_pair*r + 3*qp - 6)/8 - (ppc)*q*t*(q - 1)/4 + q*(q - 1)*((pdm)*t + (pmp)*t + (ppc)*t - 1)/2,\n",
    "   -(pdm)*q*t*(q - 1)*(p_pair**2*rp**2 - p_pair*rp + 2)/3 - (pmp)*qp*t*(qp - 1)**2*(2*p_pair**2*qp*r**2 - 2*p_pair**2*r**2 - 2*p_pair*qp*r + 2*p_pair*r + 3*qp - 6)/6 - (ppc)*q*t*(q - 1)/3 + 2*q*(q - 1)*((pdm)*t + (pmp)*t + (ppc)*t - 1)/3,\n",
    "   -(pdm)*q*t*(q - 1)/4 - 3*(pmp)*qp*t*(qp - 2)*(qp - 1)**2/16 - (ppc)*q*t*(q - 1)/8 + q*(q - 1)*((pdm)*t + (pmp)*t + (ppc)*t - 1)/4]],\n",
    " [14,\n",
    "  [0,\n",
    "   -(pmp)*qp**2*t*(qp - 1)*(2*p_pair**2*qp*r**2 - 2*p_pair*qp*r + 3*qp + 3)/8,\n",
    "   -(pmp)*qp**2*t*(qp - 1)*(2*p_pair**2*qp*r**2 - 2*p_pair*qp*r + 3*qp + 3)/6,\n",
    "   3*(pmp)*qp**2*t*(1 - qp**2)/16]],\n",
    " [15,\n",
    "  [0,\n",
    "   (ppc)*p_pair*r*t*vp*(q - 1)**2*(vp - 1)*(p_pair*r - 1)/2,\n",
    "   2*(ppc)*p_pair*r*t*vp*(q - 1)**2*(vp - 1)*(p_pair*r - 1)/3,\n",
    "   -(ppc)*t*vp*(q - 1)**2*(vp - 1)/8]],\n",
    " [16,\n",
    "  [0,\n",
    "   (ppc)*p_pair*q**2*r*t*vp*(vp - 1)*(p_pair*r - 1)/2,\n",
    "   2*(ppc)*p_pair*q**2*r*t*vp*(vp - 1)*(p_pair*r - 1)/3,\n",
    "   (ppc)*q**2*t*vp*(1 - vp)/8]],\n",
    " [17,\n",
    "  [0,\n",
    "   (ppc)*q*t*vp*(q - 1)*(vp - 1)*(2*p_pair**2*r**2 - 2*p_pair*r + 1)/4,\n",
    "   (ppc)*q*t*vp*(q - 1)*(vp - 1)*(2*p_pair**2*r**2 - 2*p_pair*r + 1)/3,\n",
    "   (ppc)*q*t*vp*(q - 1)*(vp - 1)/8]],\n",
    " [18, [0, 0, 0, 0]],\n",
    " [19,\n",
    "  [0,\n",
    "   p_pair*r*t*(p_pair*r - 1)*(-(pmp)*qp*(qp - 1)**2 + (ppc)*q*(q - 1)*(2*vp**2 - 2*vp + 1))/4,\n",
    "   p_pair*r*t*(p_pair*r - 1)*(-(pmp)*qp*(qp - 1)**2 + (ppc)*q*(q - 1)*(2*vp**2 - 2*vp + 1))/3,\n",
    "   t*((pmp)*qp*(qp - 1)**2 - (ppc)*q*(q - 1)*(2*vp**2 - 2*vp + 1))/16]],\n",
    " [20,\n",
    "  [0,\n",
    "   (pmp)*p_pair*qp**2*r*t*(qp - 1)*(p_pair*r - 1)/2,\n",
    "   2*(pmp)*p_pair*qp**2*r*t*(qp - 1)*(p_pair*r - 1)/3,\n",
    "   (pmp)*qp**2*t*(1 - qp)/8]],\n",
    " [21,\n",
    "  [0,\n",
    "   (pdm)*t*(q - 1)**2*(p_pair**2*rp**2 - p_pair*rp + 2)/4 + (pmp)*t*(qp - 1)**3*(2*p_pair**2*qp*r**2 - 2*p_pair**2*r**2 - 2*p_pair*qp*r + 2*p_pair*r + 3*qp - 4)/8 + (ppc)*t*(q - 1)*(4*p_pair**2*q*r**2*vp**2 - 4*p_pair**2*q*r**2*vp + 2*p_pair**2*q*r**2 - 4*p_pair**2*r**2*vp**2 + 4*p_pair**2*r**2*vp - 2*p_pair**2*r**2 - 4*p_pair*q*r*vp**2 + 4*p_pair*q*r*vp - 2*p_pair*q*r + 4*p_pair*r*vp**2 - 4*p_pair*r*vp + 2*p_pair*r + 2*q*vp**2 - 2*q*vp + 3*q - 2*vp**2 + 2*vp - 4)/8 + (q - 1)**2*(-(pdm)*t - (pmp)*t - (ppc)*t + 1)/2,\n",
    "   (pdm)*t*(q - 1)**2*(p_pair**2*rp**2 - p_pair*rp + 2)/3 + (pmp)*t*(qp - 1)**3*(2*p_pair**2*qp*r**2 - 2*p_pair**2*r**2 - 2*p_pair*qp*r + 2*p_pair*r + 3*qp - 4)/6 + (ppc)*t*(q - 1)*(4*p_pair**2*q*r**2*vp**2 - 4*p_pair**2*q*r**2*vp + 2*p_pair**2*q*r**2 - 4*p_pair**2*r**2*vp**2 + 4*p_pair**2*r**2*vp - 2*p_pair**2*r**2 - 4*p_pair*q*r*vp**2 + 4*p_pair*q*r*vp - 2*p_pair*q*r + 4*p_pair*r*vp**2 - 4*p_pair*r*vp + 2*p_pair*r + 2*q*vp**2 - 2*q*vp + 3*q - 2*vp**2 + 2*vp - 4)/6 + 2*(q - 1)**2*(-(pdm)*t - (pmp)*t - (ppc)*t + 1)/3,\n",
    "   (pdm)*t*(q - 1)**2/4 + (pmp)*t*(qp - 1)**3*(3*qp - 4)/16 + (ppc)*t*(q - 1)*(2*q*vp**2 - 2*q*vp + 3*q - 2*vp**2 + 2*vp - 4)/16 + (q - 1)**2*(-(pdm)*t - (pmp)*t - (ppc)*t + 1)/4]],\n",
    " [22,\n",
    "  [0,\n",
    "   -(pdm)*q*t*(q - 1)*(p_pair**2*rp**2 - p_pair*rp + 2)/4 - (pmp)*qp*t*(qp - 1)**2*(2*p_pair**2*qp*r**2 - 2*p_pair**2*r**2 - 2*p_pair*qp*r + 2*p_pair*r + 3*qp - 6)/8 - (ppc)*q*t*(q - 1)/4 + q*(q - 1)*((pdm)*t + (pmp)*t + (ppc)*t - 1)/2,\n",
    "   -(pdm)*q*t*(q - 1)*(p_pair**2*rp**2 - p_pair*rp + 2)/3 - (pmp)*qp*t*(qp - 1)**2*(2*p_pair**2*qp*r**2 - 2*p_pair**2*r**2 - 2*p_pair*qp*r + 2*p_pair*r + 3*qp - 6)/6 - (ppc)*q*t*(q - 1)/3 + 2*q*(q - 1)*((pdm)*t + (pmp)*t + (ppc)*t - 1)/3,\n",
    "   -(pdm)*q*t*(q - 1)/4 - 3*(pmp)*qp*t*(qp - 2)*(qp - 1)**2/16 - (ppc)*q*t*(q - 1)/8 + q*(q - 1)*((pdm)*t + (pmp)*t + (ppc)*t - 1)/4]],\n",
    " [23,\n",
    "  [0,\n",
    "   t*((pmp)*qp*(2*p_pair**2*qp**3*r**2 - 4*p_pair**2*qp**2*r**2 + 2*p_pair**2*qp*r**2 - 2*p_pair*qp**3*r + 4*p_pair*qp**2*r - 2*p_pair*qp*r + 3*qp**3 - qp**2 - qp + 1) + (ppc)*q*(4*p_pair**2*q*r**2*vp**2 - 4*p_pair**2*q*r**2*vp + 2*p_pair**2*q*r**2 - 4*p_pair*q*r*vp**2 + 4*p_pair*q*r*vp - 2*p_pair*q*r + 2*q*vp**2 - 2*q*vp + q + 1))/8,\n",
    "   t*((pmp)*qp*(2*p_pair**2*qp**3*r**2 - 4*p_pair**2*qp**2*r**2 + 2*p_pair**2*qp*r**2 - 2*p_pair*qp**3*r + 4*p_pair*qp**2*r - 2*p_pair*qp*r + 3*qp**3 - qp**2 - qp + 1) + (ppc)*q*(4*p_pair**2*q*r**2*vp**2 - 4*p_pair**2*q*r**2*vp + 2*p_pair**2*q*r**2 - 4*p_pair*q*r*vp**2 + 4*p_pair*q*r*vp - 2*p_pair*q*r + 2*q*vp**2 - 2*q*vp + q + 1))/6,\n",
    "   t*((pmp)*qp*(3*qp**3 - qp**2 - qp + 1) + (ppc)*q*(2*q*vp**2 - 2*q*vp + q + 1))/16]],\n",
    " [24,\n",
    "  [0,\n",
    "   -(pmp)*qp**2*t*(qp - 1)*(2*p_pair**2*qp*r**2 - 2*p_pair*qp*r + 3*qp + 3)/8,\n",
    "   -(pmp)*qp**2*t*(qp - 1)*(2*p_pair**2*qp*r**2 - 2*p_pair*qp*r + 3*qp + 3)/6,\n",
    "   3*(pmp)*qp**2*t*(1 - qp**2)/16]],\n",
    " [25,\n",
    "  [0,\n",
    "   (pdm)*q**2*t*(p_pair**2*rp**2 - p_pair*rp + 2)/4 + (pmp)*qp**2*t*(2*p_pair**2*qp**2*r**2 - 2*p_pair**2*qp*r**2 + p_pair**2*r**2 - 2*p_pair*qp**2*r + 2*p_pair*qp*r - p_pair*r + 3*qp**2 - 5*qp + 3)/4 + (ppc)*q**2*t/4 + q**2*(-(pdm)*t - (pmp)*t - (ppc)*t + 1)/2,\n",
    "   (pdm)*q**2*t*(p_pair**2*rp**2 - p_pair*rp + 2)/3 + (pmp)*qp**2*t*(2*p_pair**2*qp**2*r**2 - 2*p_pair**2*qp*r**2 + p_pair**2*r**2 - 2*p_pair*qp**2*r + 2*p_pair*qp*r - p_pair*r + 3*qp**2 - 5*qp + 3)/3 + (ppc)*q**2*t/3 + 2*q**2*(-(pdm)*t - (pmp)*t - (ppc)*t + 1)/3,\n",
    "   -(pmp)*q**2*t/4 + 3*(pmp)*qp**4*t/8 - 5*(pmp)*qp**3*t/8 + 3*(pmp)*qp**2*t/8 - (ppc)*q**2*t/8 + q**2/4]],\n",
    " [26,\n",
    "  [0,\n",
    "   -(ppc)*t*vp*(q - 1)**2*(vp - 1)*(2*p_pair**2*r**2 - 2*p_pair*r + 1)/8,\n",
    "   -(ppc)*t*vp*(q - 1)**2*(vp - 1)*(4*p_pair**2*r**2 - 4*p_pair*r + 3)/12,\n",
    "   0]],\n",
    " [27,\n",
    "  [0,\n",
    "   -(ppc)*q**2*t*vp*(vp - 1)*(2*p_pair**2*r**2 - 2*p_pair*r + 1)/8,\n",
    "   -(ppc)*q**2*t*vp*(vp - 1)*(4*p_pair**2*r**2 - 4*p_pair*r + 3)/12,\n",
    "   0]],\n",
    " [28,\n",
    "  [0,\n",
    "   -(ppc)*p_pair*q*r*t*vp*(q - 1)*(vp - 1)*(p_pair*r - 1)/2,\n",
    "   (ppc)*q*t*vp*(q - 1)*(vp - 1)*(-4*p_pair**2*r**2 + 4*p_pair*r + 1)/6,\n",
    "   0]],\n",
    " [29, [0, 0, 0, 0]],\n",
    " [30,\n",
    "  [0,\n",
    "   t*((pmp)*qp*(qp - 1)**2 - (ppc)*q*(q - 1)*(2*vp**2 - 2*vp + 1))*(2*p_pair**2*r**2 - 2*p_pair*r + 1)/8,\n",
    "   t*((pmp)*qp*(qp - 1)**2 - (ppc)*q*(q - 1)*(2*vp**2 - 2*vp + 1))*(4*p_pair**2*r**2 - 4*p_pair*r + 3)/12,\n",
    "   0]],\n",
    " [31,\n",
    "  [0,\n",
    "   -(pmp)*qp**2*t*(qp - 1)*(2*p_pair**2*r**2 - 2*p_pair*r + 1)/8,\n",
    "   -(pmp)*qp**2*t*(qp - 1)*(4*p_pair**2*r**2 - 4*p_pair*r + 3)/12,\n",
    "   0]],\n",
    " [32,\n",
    "  [0,\n",
    "   -p_pair*t*((pdm)*rp*(q - 1)**2*(p_pair*rp - 1) + (pmp)*r*(qp - 1)**4*(p_pair*r - 1) + (ppc)*r*(q - 1)**2*(p_pair*r - 1)*(2*vp**2 - 2*vp + 1))/8,\n",
    "   (pdm)*t*(q - 1)**2*(-p_pair**2*rp**2 + p_pair*rp + 1)/6 - (pmp)*t*(qp - 1)**3*(4*p_pair**2*qp*r**2 - 4*p_pair**2*r**2 - 4*p_pair*qp*r + 4*p_pair*r - 3*qp + 4)/24 - (ppc)*t*(q - 1)*(8*p_pair**2*q*r**2*vp**2 - 8*p_pair**2*q*r**2*vp + 4*p_pair**2*q*r**2 - 8*p_pair**2*r**2*vp**2 + 8*p_pair**2*r**2*vp - 4*p_pair**2*r**2 - 8*p_pair*q*r*vp**2 + 8*p_pair*q*r*vp - 4*p_pair*q*r + 8*p_pair*r*vp**2 - 8*p_pair*r*vp + 4*p_pair*r - 2*q*vp**2 + 2*q*vp - 3*q + 2*vp**2 - 2*vp + 4)/24 + (q - 1)**2*(-(pdm)*t - (pmp)*t - (ppc)*t + 1)/6,\n",
    "   0]],\n",
    " [33,\n",
    "  [0,\n",
    "   p_pair*t*((pdm)*q*rp*(q - 1)*(p_pair*rp - 1) + (pmp)*qp*r*(qp - 1)**3*(p_pair*r - 1))/4,\n",
    "   -(pdm)*q*t*(q - 1)*(-p_pair**2*rp**2 + p_pair*rp + 1)/3 + (pmp)*qp*t*(qp - 1)**2*(4*p_pair**2*qp*r**2 - 4*p_pair**2*r**2 - 4*p_pair*qp*r + 4*p_pair*r - 3*qp + 6)/12 - (ppc)*q*t*(q - 1)/6 + q*(q - 1)*((pdm)*t + (pmp)*t + (ppc)*t - 1)/3,\n",
    "   0]],\n",
    " [34,\n",
    "  [0,\n",
    "   -p_pair*r*t*(p_pair*r - 1)*((pmp)*qp**2*(qp - 1)**2 + (ppc)*q**2*(2*vp**2 - 2*vp + 1))/8,\n",
    "   t*(-(pmp)*qp*(4*p_pair**2*qp**3*r**2 - 8*p_pair**2*qp**2*r**2 + 4*p_pair**2*qp*r**2 - 4*p_pair*qp**3*r + 8*p_pair*qp**2*r - 4*p_pair*qp*r - 3*qp**3 + qp**2 + qp - 1) + (ppc)*q*(-8*p_pair**2*q*r**2*vp**2 + 8*p_pair**2*q*r**2*vp - 4*p_pair**2*q*r**2 + 8*p_pair*q*r*vp**2 - 8*p_pair*q*r*vp + 4*p_pair*q*r + 2*q*vp**2 - 2*q*vp + q + 1))/24,\n",
    "   0]],\n",
    " [35,\n",
    "  [0,\n",
    "   (pmp)*p_pair*qp**3*r*t*(qp - 1)*(p_pair*r - 1)/4,\n",
    "   -(pmp)*qp**2*t*(qp - 1)*(-4*p_pair**2*qp*r**2 + 4*p_pair*qp*r + 3*qp + 3)/12,\n",
    "   0]],\n",
    " [36,\n",
    "  [0,\n",
    "   -p_pair*t*((pdm)*q**2*rp*(p_pair*rp - 1) + (pmp)*qp**2*r*(p_pair*r - 1)*(2*qp**2 - 2*qp + 1))/8,\n",
    "   (pdm)*q**2*t*(-p_pair**2*rp**2 + p_pair*rp + 1)/6 + (pmp)*qp**2*t*(-4*p_pair**2*qp**2*r**2 + 4*p_pair**2*qp*r**2 - 2*p_pair**2*r**2 + 4*p_pair*qp**2*r - 4*p_pair*qp*r + 2*p_pair*r + 3*qp**2 - 5*qp + 3)/12 + (ppc)*q**2*t/12 + q**2*(-(pdm)*t - (pmp)*t - (ppc)*t + 1)/6,\n",
    "   0]]]"
   ]
  },
  {
   "cell_type": "markdown",
   "metadata": {},
   "source": [
    "A/a locus"
   ]
  },
  {
   "cell_type": "code",
   "execution_count": 37,
   "metadata": {
    "collapsed": true
   },
   "outputs": [],
   "source": [
    "lst = []\n",
    "\n",
    "for i in modes:\n",
    "    if i[0][0] == i[1][0]:\n",
    "        lst.append(i)"
   ]
  },
  {
   "cell_type": "code",
   "execution_count": 38,
   "metadata": {},
   "outputs": [
    {
     "data": {
      "text/plain": [
       "[[['i_m', 'i_m', G], ['i_m', 'i_m', G]],\n",
       " [['i_m', 'j_m', G], ['i_m', 'j_m', G]],\n",
       " [['i_m', 'i_m', G], ['i_m', 'j_m', G]],\n",
       " [['i_m', 'j_m', G], ['i_m', 'k_m', G]],\n",
       " [['i_m', 'i_m', G], ['i_m', 'j_m', g]],\n",
       " [['i_m', 'i_m', g], ['i_m', 'i_m', G]],\n",
       " [['i_m', 'j_m', g], ['i_m', 'j_m', G]],\n",
       " [['i_m', 'i_m', g], ['i_m', 'j_m', G]],\n",
       " [['i_m', 'j_m', g], ['i_m', 'k_m', G]],\n",
       " [['i_m', 'i_m', g], ['i_m', 'i_m', g]],\n",
       " [['i_m', 'j_m', g], ['i_m', 'j_m', g]],\n",
       " [['i_m', 'i_m', g], ['i_m', 'j_m', g]],\n",
       " [['i_m', 'j_m', g], ['i_m', 'k_m', g]]]"
      ]
     },
     "execution_count": 38,
     "metadata": {},
     "output_type": "execute_result"
    }
   ],
   "source": [
    "lst"
   ]
  },
  {
   "cell_type": "markdown",
   "metadata": {},
   "source": [
    "Prob DR for GGGG genotype"
   ]
  },
  {
   "cell_type": "code",
   "execution_count": 39,
   "metadata": {
    "collapsed": true
   },
   "outputs": [],
   "source": [
    "prob_dr = 0\n",
    "\n",
    "for i in lst:\n",
    "    indx = modes.index(i)\n",
    "    prob_dr = prob_dr + prob[indx][1][0]"
   ]
  },
  {
   "cell_type": "code",
   "execution_count": 40,
   "metadata": {
    "scrolled": true
   },
   "outputs": [
    {
     "data": {
      "text/plain": [
       "[-(ppc)*t*vp*(vp - 1)/2]"
      ]
     },
     "execution_count": 40,
     "metadata": {},
     "output_type": "execute_result"
    }
   ],
   "source": [
    "[sp.factor(prob_dr)]"
   ]
  },
  {
   "cell_type": "markdown",
   "metadata": {},
   "source": [
    "Prob DR for GGGg genotype"
   ]
  },
  {
   "cell_type": "code",
   "execution_count": 41,
   "metadata": {
    "collapsed": true
   },
   "outputs": [],
   "source": [
    "prob_dr = 0\n",
    "\n",
    "for i in lst:\n",
    "    indx = modes.index(i)\n",
    "    prob_dr = prob_dr + prob[indx][1][1]"
   ]
  },
  {
   "cell_type": "code",
   "execution_count": 42,
   "metadata": {},
   "outputs": [
    {
     "data": {
      "text/plain": [
       "[-(ppc)*t*vp*(vp - 1)/2]"
      ]
     },
     "execution_count": 42,
     "metadata": {},
     "output_type": "execute_result"
    }
   ],
   "source": [
    "[sp.factor(prob_dr)]"
   ]
  },
  {
   "cell_type": "markdown",
   "metadata": {},
   "source": [
    "Prob DR for GGgg genotype"
   ]
  },
  {
   "cell_type": "code",
   "execution_count": 43,
   "metadata": {
    "collapsed": true
   },
   "outputs": [],
   "source": [
    "prob_dr = 0\n",
    "\n",
    "for i in lst:\n",
    "    indx = modes.index(i)\n",
    "    prob_dr = prob_dr + prob[indx][1][2]"
   ]
  },
  {
   "cell_type": "code",
   "execution_count": 44,
   "metadata": {},
   "outputs": [
    {
     "data": {
      "text/plain": [
       "[-(ppc)*t*vp*(vp - 1)/2]"
      ]
     },
     "execution_count": 44,
     "metadata": {},
     "output_type": "execute_result"
    }
   ],
   "source": [
    "[sp.factor(prob_dr)]"
   ]
  },
  {
   "cell_type": "markdown",
   "metadata": {},
   "source": [
    "Prob DR for GGGG/g genotype"
   ]
  },
  {
   "cell_type": "code",
   "execution_count": 45,
   "metadata": {
    "collapsed": true
   },
   "outputs": [],
   "source": [
    "prob_dr = 0\n",
    "\n",
    "for i in lst:\n",
    "    indx = modes.index(i)\n",
    "    prob_dr = prob_dr + prob[indx][1][3]"
   ]
  },
  {
   "cell_type": "code",
   "execution_count": 46,
   "metadata": {},
   "outputs": [
    {
     "data": {
      "text/plain": [
       "[-(ppc)*t*vp*(vp - 1)/2]"
      ]
     },
     "execution_count": 46,
     "metadata": {},
     "output_type": "execute_result"
    }
   ],
   "source": [
    "[sp.factor(prob_dr)]"
   ]
  },
  {
   "cell_type": "code",
   "execution_count": null,
   "metadata": {
    "collapsed": true
   },
   "outputs": [],
   "source": []
  },
  {
   "cell_type": "code",
   "execution_count": null,
   "metadata": {
    "collapsed": true
   },
   "outputs": [],
   "source": []
  }
 ],
 "metadata": {
  "kernelspec": {
   "display_name": "Python 3",
   "language": "python",
   "name": "python3"
  },
  "language_info": {
   "codemirror_mode": {
    "name": "ipython",
    "version": 3
   },
   "file_extension": ".py",
   "mimetype": "text/x-python",
   "name": "python",
   "nbconvert_exporter": "python",
   "pygments_lexer": "ipython3",
   "version": "3.6.1"
  }
 },
 "nbformat": 4,
 "nbformat_minor": 2
}
