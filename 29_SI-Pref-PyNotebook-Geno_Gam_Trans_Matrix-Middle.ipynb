{
 "cells": [
  {
   "cell_type": "code",
   "execution_count": 2,
   "metadata": {
    "collapsed": true
   },
   "outputs": [],
   "source": [
    "import sympy as sp \n",
    "import itertools\n",
    "a1,a2,b1,b2,a3,a4,b3,b2,b4,c1,c2,c3,c4,G,g = sp.symbols('a1,a2,b1,b2,a3,a4,b3,b2,b4,c1,c2,c3,c4,G,g')    \n",
    "\n",
    "import copy\n",
    "from sympy import *\n",
    "from itertools import permutations \n",
    "from itertools import chain\n",
    "from itertools import product\n"
   ]
  },
  {
   "cell_type": "code",
   "execution_count": 2,
   "metadata": {
    "collapsed": true
   },
   "outputs": [],
   "source": [
    "a, b, c = sp.symbols('a, b, c', cls=Function)\n",
    "\n",
    "def subQ(x):\n",
    "    \n",
    "    if x == a(1):\n",
    "        return a1\n",
    "    if x == b(1):\n",
    "        return b1\n",
    "    if x == c(1):\n",
    "        return c1\n",
    "    if x == c(2):\n",
    "        return c2\n",
    "    if x == c(3):\n",
    "        return c3\n",
    "    if x == c(4):\n",
    "        return c4\n",
    "    if x == a(2):\n",
    "        return a2\n",
    "    if x == b(2):\n",
    "        return b2\n",
    "    if x == a(3):\n",
    "        return a3\n",
    "    if x == b(3):\n",
    "        return b3\n",
    "    if x == a(4):\n",
    "        return a4\n",
    "    if x == b(4):\n",
    "        return b4"
   ]
  },
  {
   "cell_type": "code",
   "execution_count": 3,
   "metadata": {
    "collapsed": true
   },
   "outputs": [],
   "source": [
    "def get_mode_gametes(mode,Gg_position):\n",
    "    \n",
    "    if Gg_position == 'd':\n",
    "        loci = [0,1]\n",
    "    if Gg_position == 'm':\n",
    "        loci = [0,2]\n",
    "    if Gg_position == 'p':\n",
    "        loci = [1,2]\n",
    "    \n",
    "    mode_set = list({modes[mode][hap][locus] for hap in [0,1] for locus in loci})\n",
    "    mode_set.sort()\n",
    "\n",
    "    M = []\n",
    "    \n",
    "    if len(mode_set) == 1:\n",
    "        for i in range(1,5):\n",
    "            if Gg_position == 'p':\n",
    "                M.append([[modes[mode][0][0], subQ(b(i)), subQ(c(i))], \\\n",
    "                      [modes[mode][1][0], subQ(b(i)), subQ(c(i))]])\n",
    "            if Gg_position == 'm':\n",
    "                M.append([[subQ(a(i)), modes[mode][0][1],  subQ(c(i))], \\\n",
    "                      [subQ(a(i)), modes[mode][1][1],  subQ(c(i))]])\n",
    "            if Gg_position == 'd':\n",
    "                M.append([[subQ(a(i)), subQ(b(i)), modes[mode][0][2]], \\\n",
    "                      [subQ(a(i)), subQ(b(i)), modes[mode][1][2]]])\n",
    "        if Gg_position == 'p' and M[0][0][0] != M[0][1][0]:\n",
    "            for i in range(len(M)):\n",
    "                rd=[M[i][1], M[i][0]]\n",
    "                M.append(rd)\n",
    "        if Gg_position == 'm' and M[0][0][1] != M[0][1][1]:\n",
    "            for i in range(len(M)):\n",
    "                rd=[M[i][1], M[i][0]]\n",
    "                M.append(rd)\n",
    "        if Gg_position == 'd' and M[0][0][2] != M[0][1][2]:\n",
    "            for i in range(len(M)):\n",
    "                rd=[M[i][1], M[i][0]]\n",
    "                M.append(rd)\n",
    "    elif len(mode_set) == 2:\n",
    "        for i in range(1,5):\n",
    "            for j in range(1,5):\n",
    "                exec(\"%s = %d\" % (mode_set[0],i))\n",
    "                exec(\"%s = %d\" % (mode_set[1],j))\n",
    "                if i!=j:\n",
    "                    if Gg_position == 'p':\n",
    "                         M.append([[modes[mode][0][0], \n",
    "                            subQ(b(eval(modes[mode][0][1]))), \n",
    "                            subQ(c(eval(modes[mode][0][2])))], \n",
    "                           [modes[mode][1][0], \n",
    "                            subQ(b(eval(modes[mode][1][1]))), \n",
    "                            subQ(c(eval(modes[mode][1][2])))]])\n",
    "                    if Gg_position == 'm':\n",
    "                        M.append([[subQ(a(eval(modes[mode][0][0]))), \n",
    "                            modes[mode][0][1], \n",
    "                            subQ(c(eval(modes[mode][0][2])))], \n",
    "                           [subQ(a(eval(modes[mode][1][0]))), \n",
    "                            modes[mode][1][1], \n",
    "                            subQ(c(eval(modes[mode][1][2])))]])\n",
    "                    if Gg_position == 'd':\n",
    "                        M.append([[subQ(a(eval(modes[mode][0][0]))), \n",
    "                            subQ(b(eval(modes[mode][0][1]))), \n",
    "                            modes[mode][0][2]], \n",
    "                           [subQ(a(eval(modes[mode][1][0]))), \n",
    "                            subQ(b(eval(modes[mode][1][1]))), \n",
    "                            modes[mode][1][2]]])\n",
    "                        \n",
    "        for i in range(len(M)):\n",
    "            rd=[M[i][1], M[i][0]]\n",
    "            M.append(rd) \n",
    "        \n",
    "        tmp_u = []\n",
    "        for item in M: \n",
    "            if item not in tmp_u: \n",
    "                tmp_u.append(item)\n",
    "                \n",
    "        M = tmp_u\n",
    "        \n",
    "    elif len(mode_set) == 3:\n",
    "        for i in range(1,5):\n",
    "            for j in range(1,5):\n",
    "                for k in range(1,5):\n",
    "                    exec(\"%s = %d\" % (mode_set[0],i))\n",
    "                    exec(\"%s = %d\" % (mode_set[1],j))\n",
    "                    exec(\"%s = %d\" % (mode_set[2],k))\n",
    "                    if i!=j:\n",
    "                        if j!=k:\n",
    "                            if i!=k:\n",
    "                                if Gg_position == 'p':\n",
    "                                    M.append([[modes[mode][0][0], \n",
    "                                        subQ(b(eval(modes[mode][0][1]))), \n",
    "                                        subQ(c(eval(modes[mode][0][2])))], \n",
    "                                       [modes[mode][1][0], \n",
    "                                        subQ(b(eval(modes[mode][1][1]))), \n",
    "                                        subQ(c(eval(modes[mode][1][2])))]])\n",
    "                                if Gg_position == 'm':\n",
    "                                    M.append([[subQ(a(eval(modes[mode][0][0]))), \n",
    "                                        modes[mode][0][1], \n",
    "                                        subQ(c(eval(modes[mode][0][2])))], \n",
    "                                       [subQ(a(eval(modes[mode][1][0]))), \n",
    "                                        modes[mode][1][1], \n",
    "                                        subQ(c(eval(modes[mode][1][2])))]])\n",
    "                                if Gg_position == 'd':    \n",
    "                                    M.append([[subQ(a(eval(modes[mode][0][0]))), \n",
    "                                        subQ(b(eval(modes[mode][0][1]))), \n",
    "                                        modes[mode][0][2]], \n",
    "                                       [subQ(a(eval(modes[mode][1][0]))), \n",
    "                                        subQ(b(eval(modes[mode][1][1]))), \n",
    "                                        modes[mode][1][2]]])\n",
    "                                    \n",
    "        for i in range(len(M)):\n",
    "            rd=[M[i][1], M[i][0]]\n",
    "            M.append(rd) \n",
    "        \n",
    "        tmp_u = []\n",
    "        for item in M: \n",
    "            if item not in tmp_u: \n",
    "                tmp_u.append(item)\n",
    "                \n",
    "        M = tmp_u\n",
    "        \n",
    "    elif len(mode_set) == 4:\n",
    "        for i in range(1, 5):\n",
    "            for j in range (1,5):\n",
    "                for k in range(1, 5):\n",
    "                    for l in range(1,5):\n",
    "                        exec(\"%s = %d\" % (mode_set[0],i))\n",
    "                        exec(\"%s = %d\" % (mode_set[1],j))\n",
    "                        exec(\"%s = %d\" % (mode_set[2],k))\n",
    "                        exec(\"%s = %d\" % (mode_set[3],l))\n",
    "                        if i!=j:\n",
    "                            if j!=k:\n",
    "                                if i!=k:\n",
    "                                    if i!=l:\n",
    "                                        if j!=l:\n",
    "                                            if k!=l:\n",
    "                                                if Gg_position == 'p':\n",
    "                                                    M.append([[modes[mode][0][0], \n",
    "                                                        subQ(b(eval(modes[mode][0][1]))), \n",
    "                                                        subQ(c(eval(modes[mode][0][2])))], \n",
    "                                                       [modes[mode][1][0], \n",
    "                                                        subQ(b(eval(modes[mode][1][1]))), \n",
    "                                                        subQ(c(eval(modes[mode][1][2])))]])\n",
    "                                                if Gg_position == 'm':\n",
    "                                                    M.append([[subQ(a(eval(modes[mode][0][0]))), \n",
    "                                                        modes[mode][0][1], \n",
    "                                                        subQ(c(eval(modes[mode][0][2])))], \n",
    "                                                       [subQ(a(eval(modes[mode][1][0]))), \n",
    "                                                        modes[mode][1][1], \n",
    "                                                        subQ(c(eval(modes[mode][1][2])))]])\n",
    "                                                if Gg_position == 'd':\n",
    "                                                    M.append([[subQ(a(eval(modes[mode][0][0]))), \n",
    "                                                        subQ(b(eval(modes[mode][0][1]))), \n",
    "                                                        modes[mode][0][2]], \n",
    "                                                       [subQ(a(eval(modes[mode][1][0]))), \n",
    "                                                        subQ(b(eval(modes[mode][1][1]))), \n",
    "                                                        modes[mode][1][2]]])\n",
    "                                                    \n",
    "        for i in range(len(M)):\n",
    "            rd=[M[i][1], M[i][0]]\n",
    "            M.append(rd) \n",
    "        \n",
    "        tmp_u = []\n",
    "        for item in M: \n",
    "            if item not in tmp_u: \n",
    "                tmp_u.append(item)\n",
    "                \n",
    "        M = tmp_u\n",
    "                                                    \n",
    "    return M"
   ]
  },
  {
   "cell_type": "code",
   "execution_count": 4,
   "metadata": {
    "collapsed": true
   },
   "outputs": [],
   "source": [
    "modes = [[['i_m', G, 'i_m'], ['i_m', G, 'i_m']],\n",
    " [['i_m', G, 'j_m'], ['i_m', G, 'j_m']],\n",
    " [['i_m', G, 'i_m'], ['i_m', G, 'j_m']],\n",
    " [['i_m', G, 'j_m'], ['i_m', G, 'k_m']],\n",
    " [['i_m', G, 'i_m'], ['j_m', G, 'i_m']],\n",
    " [['i_m', G, 'j_m'], ['k_m', G, 'j_m']],\n",
    " [['i_m', G, 'i_m'], ['j_m', G, 'j_m']],\n",
    " [['i_m', G, 'i_m'], ['j_m', G, 'k_m']],\n",
    " [['i_m', G, 'j_m'], ['j_m', G, 'i_m']],\n",
    " [['i_m', G, 'j_m'], ['j_m', G, 'k_m']],\n",
    " [['i_m', G, 'j_m'], ['k_m', G, 'l_m']],\n",
    " [['i_m', G, 'i_m'], ['i_m', g, 'j_m']],\n",
    " [['i_m', G, 'i_m'], ['j_m', g, 'i_m']],\n",
    " [['i_m', G, 'i_m'], ['j_m', g, 'k_m']],\n",
    " [['i_m', G, 'j_m'], ['j_m', g, 'k_m']],\n",
    " [['i_m', g, 'i_m'], ['i_m', G, 'i_m']],\n",
    " [['i_m', g, 'j_m'], ['i_m', G, 'j_m']],\n",
    " [['i_m', g, 'i_m'], ['i_m', G, 'j_m']],\n",
    " [['i_m', g, 'j_m'], ['i_m', G, 'k_m']],\n",
    " [['i_m', g, 'i_m'], ['j_m', G, 'i_m']],\n",
    " [['i_m', g, 'j_m'], ['k_m', G, 'j_m']],\n",
    " [['i_m', g, 'i_m'], ['j_m', G, 'j_m']],\n",
    " [['i_m', g, 'i_m'], ['j_m', G, 'k_m']],\n",
    " [['i_m', g, 'j_m'], ['j_m', G, 'i_m']],\n",
    " [['i_m', g, 'j_m'], ['j_m', G, 'k_m']],\n",
    " [['i_m', g, 'j_m'], ['k_m', G, 'l_m']],\n",
    " [['i_m', g, 'i_m'], ['i_m', g, 'i_m']],\n",
    " [['i_m', g, 'j_m'], ['i_m', g, 'j_m']],\n",
    " [['i_m', g, 'i_m'], ['i_m', g, 'j_m']],\n",
    " [['i_m', g, 'j_m'], ['i_m', g, 'k_m']],\n",
    " [['i_m', g, 'i_m'], ['j_m', g, 'i_m']],\n",
    " [['i_m', g, 'j_m'], ['k_m', g, 'j_m']],\n",
    " [['i_m', g, 'i_m'], ['j_m', g, 'j_m']],\n",
    " [['i_m', g, 'i_m'], ['j_m', g, 'k_m']],\n",
    " [['i_m', g, 'j_m'], ['j_m', g, 'i_m']],\n",
    " [['i_m', g, 'j_m'], ['j_m', g, 'k_m']],\n",
    " [['i_m', g, 'j_m'], ['k_m', g, 'l_m']]]"
   ]
  },
  {
   "cell_type": "code",
   "execution_count": 5,
   "metadata": {},
   "outputs": [
    {
     "data": {
      "text/plain": [
       "37"
      ]
     },
     "execution_count": 5,
     "metadata": {},
     "output_type": "execute_result"
    }
   ],
   "source": [
    "len(modes)"
   ]
  },
  {
   "cell_type": "code",
   "execution_count": 3,
   "metadata": {
    "collapsed": true
   },
   "outputs": [],
   "source": [
    "A1,A2,B1,B2= sp.symbols('A1,A2,B1,B2') \n",
    "p = sp.symbols('p') "
   ]
  },
  {
   "cell_type": "code",
   "execution_count": 11,
   "metadata": {
    "collapsed": true
   },
   "outputs": [],
   "source": [
    "geno = [[[i11,i12,i13],[i21,i22,i23],[i31,i32,i33],[i41,i42,i43]] \\\n",
    "                                                         for i11 in [A1,A2] for i12 in [G,g] for i13 in [B1,B2] \\\n",
    "                                                        for i21 in [A1,A2] for i22 in [G,g] for i23 in [B1,B2] \\\n",
    "                                                        for i31 in [A1,A2] for i32 in [G,g] for i33 in [B1,B2] \\\n",
    "                                                        for i41 in [A1,A2] for i42 in [G,g] for i43 in [B1,B2]]"
   ]
  },
  {
   "cell_type": "code",
   "execution_count": 12,
   "metadata": {
    "collapsed": true
   },
   "outputs": [],
   "source": [
    "u_geno = [geno[0]]\n",
    "for item in geno:\n",
    "    flag = 0\n",
    "    for perm in itertools.permutations(item):\n",
    "        if list(perm) in u_geno: \n",
    "            flag = 1\n",
    "    if flag == 0:\n",
    "        u_geno.append(item)"
   ]
  },
  {
   "cell_type": "code",
   "execution_count": 13,
   "metadata": {},
   "outputs": [
    {
     "data": {
      "text/plain": [
       "330"
      ]
     },
     "execution_count": 13,
     "metadata": {},
     "output_type": "execute_result"
    }
   ],
   "source": [
    "len(u_geno)"
   ]
  },
  {
   "cell_type": "code",
   "execution_count": 14,
   "metadata": {
    "collapsed": true
   },
   "outputs": [],
   "source": [
    "gam = [[[i11,i12,i13],[i21,i22,i23]] \\\n",
    "                                                         for i11 in [A1,A2] for i12 in [G,g] for i13 in [B1,B2] \\\n",
    "                                                        for i21 in [A1,A2] for i22 in [G,g] for i23 in [B1,B2]]"
   ]
  },
  {
   "cell_type": "code",
   "execution_count": 15,
   "metadata": {
    "collapsed": true
   },
   "outputs": [],
   "source": [
    "u_gam = [gam[0]]\n",
    "for item in gam:\n",
    "    flag = 0\n",
    "    for perm in itertools.permutations(item):\n",
    "        if list(perm) in u_gam: \n",
    "            flag = 1\n",
    "    if flag == 0:\n",
    "        u_gam.append(item)"
   ]
  },
  {
   "cell_type": "code",
   "execution_count": 19,
   "metadata": {},
   "outputs": [
    {
     "data": {
      "text/plain": [
       "36"
      ]
     },
     "execution_count": 19,
     "metadata": {},
     "output_type": "execute_result"
    }
   ],
   "source": [
    "len(u_gam)"
   ]
  },
  {
   "cell_type": "code",
   "execution_count": 20,
   "metadata": {
    "collapsed": true
   },
   "outputs": [],
   "source": [
    "all_mode_gametes = [get_mode_gametes(i,'m') for i in range(37)]"
   ]
  },
  {
   "cell_type": "code",
   "execution_count": 21,
   "metadata": {
    "collapsed": true
   },
   "outputs": [],
   "source": [
    "def subS(x,i):\n",
    "    \n",
    "    if x == a1:\n",
    "        return u_geno[i][0][0]\n",
    "    if x == b1:\n",
    "        return u_geno[i][0][1]\n",
    "    if x == c1:\n",
    "        return u_geno[i][0][2]\n",
    "    if x == a2:\n",
    "        return u_geno[i][1][0]\n",
    "    if x == b2:\n",
    "        return u_geno[i][1][1]\n",
    "    if x == c2:\n",
    "        return u_geno[i][1][2]\n",
    "    if x == a3:\n",
    "        return u_geno[i][2][0]\n",
    "    if x == b3:\n",
    "        return u_geno[i][2][1]\n",
    "    if x == c3:\n",
    "        return u_geno[i][2][2]\n",
    "    if x == a4:\n",
    "        return u_geno[i][3][0]\n",
    "    if x == b4:\n",
    "        return u_geno[i][3][1]\n",
    "    if x == c4:\n",
    "        return u_geno[i][3][2]\n",
    "    if x == G:\n",
    "        return G\n",
    "    if x == g:\n",
    "        return g"
   ]
  },
  {
   "cell_type": "code",
   "execution_count": 24,
   "metadata": {
    "collapsed": true
   },
   "outputs": [],
   "source": [
    "trans_matrix = [[0 for j in range(len(u_gam))] for i in range(len(u_geno)) ]\n",
    "\n",
    "for i in range(len(u_geno)):\n",
    "    for j in range(37):\n",
    "        gam_modes_tmp = all_mode_gametes[j]\n",
    "        gam_modes = [[[subS(gam_modes_tmp[ii][jj][kk],i) for kk in range(len(gam_modes_tmp[ii][jj]))] \\\n",
    "                      for jj in range(len(gam_modes_tmp[ii]))] for ii in range(len(gam_modes_tmp))]\n",
    "        for k in range(len(gam_modes)):\n",
    "            for l in range(len(u_gam)):\n",
    "                if u_gam[l] == gam_modes[k] or \\\n",
    "                            (u_gam[l][0] == gam_modes[k][1] and u_gam[l][1] == gam_modes[k][0]):\n",
    "                    trans_matrix[i][l] += p(j)/len(gam_modes)    "
   ]
  },
  {
   "cell_type": "code",
   "execution_count": 27,
   "metadata": {},
   "outputs": [
    {
     "data": {
      "text/plain": [
       "p(0) + p(1) + p(2) + p(3) + p(4) + p(5) + p(6) + p(7) + p(8) + p(9) + p(10) + p(11) + p(12) + p(13) + p(14) + p(15) + p(16) + p(17) + p(18) + p(19) + p(20) + p(21) + p(22) + p(23) + p(24) + p(25) + p(26) + p(27) + p(28) + p(29) + p(30) + p(31) + p(32) + p(33) + p(34) + p(35) + p(36)"
      ]
     },
     "execution_count": 27,
     "metadata": {},
     "output_type": "execute_result"
    }
   ],
   "source": [
    "sum(trans_matrix[0])"
   ]
  },
  {
   "cell_type": "code",
   "execution_count": 26,
   "metadata": {
    "collapsed": true
   },
   "outputs": [],
   "source": [
    "f = open('trans_matrix_pref_middle.txt', 'w')"
   ]
  },
  {
   "cell_type": "code",
   "execution_count": 28,
   "metadata": {
    "collapsed": true
   },
   "outputs": [],
   "source": [
    "for i in range(len(u_geno)):\n",
    "    f.write(str(trans_matrix[i])+'\\n')"
   ]
  },
  {
   "cell_type": "code",
   "execution_count": 29,
   "metadata": {
    "collapsed": true
   },
   "outputs": [],
   "source": [
    "f.close()"
   ]
  },
  {
   "cell_type": "code",
   "execution_count": 4,
   "metadata": {},
   "outputs": [],
   "source": [
    "data=[]\n",
    "with open('trans_matrix_pref_middle.txt','r') as data_file: \n",
    "    for i in data_file: \n",
    "        data.append(eval(i))\n",
    "data_file.close()"
   ]
  },
  {
   "cell_type": "code",
   "execution_count": 5,
   "metadata": {},
   "outputs": [
    {
     "data": {
      "text/plain": [
       "[p(1)/6 + p(3)/12,\n",
       " p(2)/6 + p(3)/6,\n",
       " p(16)/6 + p(18)/12,\n",
       " p(17)/6 + p(18)/12,\n",
       " p(4)/6 + p(5)/3 + p(7)/12 + p(9)/12 + p(10)/6,\n",
       " p(7)/12 + p(8)/3 + p(9)/4 + p(10)/6,\n",
       " p(14)/12 + p(19)/6 + p(20)/6 + p(22)/12 + p(25)/12,\n",
       " p(14)/12 + p(22)/12 + p(23)/6 + p(24)/6 + p(25)/12,\n",
       " p(0)/4 + p(1)/12 + p(2)/12,\n",
       " p(11)/6 + p(18)/12,\n",
       " p(11)/12 + p(15)/4 + p(16)/12 + p(17)/12,\n",
       " p(6)/3 + p(7)/4 + p(9)/12 + p(10)/6,\n",
       " p(4)/3 + p(5)/6 + p(6)/6 + p(7)/12 + p(8)/6 + p(9)/12,\n",
       " p(13)/6 + p(14)/12 + p(21)/6 + p(22)/12 + p(25)/12,\n",
       " p(12)/4 + p(13)/12 + p(19)/12 + p(20)/12 + p(21)/12 + p(23)/12 + p(24)/12,\n",
       " p(27)/6 + p(29)/12,\n",
       " p(28)/6 + p(29)/6,\n",
       " p(12)/6 + p(13)/12 + p(20)/6 + p(24)/12 + p(25)/12,\n",
       " p(13)/12 + p(14)/6 + p(23)/6 + p(24)/12 + p(25)/12,\n",
       " p(30)/6 + p(31)/3 + p(33)/12 + p(35)/12 + p(36)/6,\n",
       " p(33)/12 + p(34)/3 + p(35)/4 + p(36)/6,\n",
       " p(26)/4 + p(27)/12 + p(28)/12,\n",
       " p(13)/12 + p(21)/6 + p(22)/6 + p(24)/12 + p(25)/12,\n",
       " p(12)/12 + p(14)/12 + p(19)/4 + p(20)/12 + p(21)/12 + p(22)/12 + p(23)/12,\n",
       " p(32)/3 + p(33)/4 + p(35)/12 + p(36)/6,\n",
       " p(30)/3 + p(31)/6 + p(32)/6 + p(33)/12 + p(34)/6 + p(35)/12,\n",
       " p(0)/2 + p(1)/3 + p(2)/6 + p(3)/12 + p(4)/3 + p(5)/6 + p(6)/6 + p(7)/12 + p(8)/6 + p(9)/12,\n",
       " p(2)/2 + p(3)/2 + p(6)/3 + p(7)/3 + p(8)/3 + p(9)/3 + p(10)/3,\n",
       " p(11)/6 + p(12)/3 + p(13)/12 + p(14)/12 + p(15)/2 + p(16)/3 + p(17)/6 + p(18)/12 + p(19)/3 + p(20)/6 + p(21)/6 + p(22)/12 + p(23)/6 + p(24)/12,\n",
       " p(11)/3 + p(13)/4 + p(14)/4 + p(17)/6 + p(18)/4 + p(21)/6 + p(22)/12 + p(23)/6 + p(24)/12 + p(25)/6,\n",
       " p(0)/4 + 5*p(1)/12 + p(2)/12 + p(3)/6 + p(4)/6 + p(5)/3 + p(7)/12 + p(9)/12 + p(10)/6,\n",
       " p(11)/6 + p(13)/12 + p(14)/12 + p(17)/3 + p(18)/4 + p(21)/6 + p(22)/4 + p(23)/6 + p(24)/4 + p(25)/6,\n",
       " p(11)/12 + p(12)/6 + p(13)/12 + p(14)/12 + p(15)/4 + 5*p(16)/12 + p(17)/12 + p(18)/6 + p(19)/6 + p(20)/3 + p(22)/12 + p(24)/12 + p(25)/6,\n",
       " p(26)/2 + p(27)/3 + p(28)/6 + p(29)/12 + p(30)/3 + p(31)/6 + p(32)/6 + p(33)/12 + p(34)/6 + p(35)/12,\n",
       " p(28)/2 + p(29)/2 + p(32)/3 + p(33)/3 + p(34)/3 + p(35)/3 + p(36)/3,\n",
       " p(26)/4 + 5*p(27)/12 + p(28)/12 + p(29)/6 + p(30)/6 + p(31)/3 + p(33)/12 + p(35)/12 + p(36)/6]"
      ]
     },
     "execution_count": 5,
     "metadata": {},
     "output_type": "execute_result"
    }
   ],
   "source": [
    "data[280]"
   ]
  },
  {
   "cell_type": "code",
   "execution_count": null,
   "metadata": {
    "collapsed": true
   },
   "outputs": [],
   "source": []
  }
 ],
 "metadata": {
  "kernelspec": {
   "display_name": "Python 3",
   "language": "python",
   "name": "python3"
  },
  "language_info": {
   "codemirror_mode": {
    "name": "ipython",
    "version": 3
   },
   "file_extension": ".py",
   "mimetype": "text/x-python",
   "name": "python",
   "nbconvert_exporter": "python",
   "pygments_lexer": "ipython3",
   "version": "3.6.1"
  }
 },
 "nbformat": 4,
 "nbformat_minor": 2
}
