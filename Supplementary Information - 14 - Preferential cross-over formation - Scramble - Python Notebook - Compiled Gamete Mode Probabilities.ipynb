{
 "cells": [
  {
   "cell_type": "code",
   "execution_count": 1,
   "metadata": {
    "collapsed": true
   },
   "outputs": [],
   "source": [
    "import pickle\n",
    "import sympy as sp"
   ]
  },
  {
   "cell_type": "code",
   "execution_count": 2,
   "metadata": {
    "collapsed": true
   },
   "outputs": [],
   "source": [
    "biv_lst = []\n",
    "for i in range(37):\n",
    "    with open(\"m%d/res_0.out\" % i,'rb') as inf:\n",
    "        res_0_file = pickle.load(inf)\n",
    "    biv_lst.append([i,[sp.factor(sum([res_0_file[i][0] for i in [3 * j + k for k in range(3)]])) for j in range(4)]])"
   ]
  },
  {
   "cell_type": "code",
   "execution_count": 3,
   "metadata": {
    "collapsed": true
   },
   "outputs": [],
   "source": [
    "quad_A_lst = []\n",
    "for i in range(37):\n",
    "    with open(\"m%d/res_1_0.out\" % i,'rb') as inf:\n",
    "        res_1_0_file = pickle.load(inf)\n",
    "    quad_A_lst.append([i,[sp.factor(sum([res_1_0_file[i][0] for i in [24 * j + k for k in range(24)]])) for j in range(4)]])"
   ]
  },
  {
   "cell_type": "code",
   "execution_count": 4,
   "metadata": {
    "collapsed": true
   },
   "outputs": [],
   "source": [
    "quad_B_lst = []\n",
    "for i in range(37):\n",
    "    with open(\"m%d/res_1_1.out\" % i,'rb') as inf:\n",
    "        res_1_1_file = pickle.load(inf)\n",
    "    quad_B_lst.append([i,[sp.factor(sum([res_1_1_file[i][0] for i in [24 * j + k for k in range(24)]])) for j in range(4)]])"
   ]
  },
  {
   "cell_type": "code",
   "execution_count": 5,
   "metadata": {
    "collapsed": true
   },
   "outputs": [],
   "source": [
    "quad_C_lst = []\n",
    "for i in range(37):\n",
    "    with open(\"m%d/res_1_2.out\" % i,'rb') as inf:\n",
    "        res_1_2_file = pickle.load(inf)\n",
    "    quad_C_lst.append([i,[sp.factor(sum([res_1_2_file[i][0] for i in [24 * j + k for k in range(24)]])) for j in range(4)]])"
   ]
  },
  {
   "cell_type": "code",
   "execution_count": 6,
   "metadata": {
    "collapsed": true
   },
   "outputs": [],
   "source": [
    "comb_lst = []\n",
    "for i in range(len(biv_lst)):\n",
    "    comb_lst.append([biv_lst[i][0], [ \\\n",
    "        sp.simplify(biv_lst[i][1][j] + quad_A_lst[i][1][j] + quad_B_lst[i][1][j] + quad_C_lst[i][1][j]) \\\n",
    "                    for j in range(4)] \\\n",
    "        ])"
   ]
  },
  {
   "cell_type": "code",
   "execution_count": 7,
   "metadata": {},
   "outputs": [
    {
     "data": {
      "text/plain": [
       "1"
      ]
     },
     "execution_count": 7,
     "metadata": {},
     "output_type": "execute_result"
    }
   ],
   "source": [
    "sp.simplify(sum([comb_lst[i][1][0] for i in range(37)]))"
   ]
  },
  {
   "cell_type": "code",
   "execution_count": 8,
   "metadata": {},
   "outputs": [
    {
     "data": {
      "text/plain": [
       "1"
      ]
     },
     "execution_count": 8,
     "metadata": {},
     "output_type": "execute_result"
    }
   ],
   "source": [
    "sp.simplify(sum([comb_lst[i][1][1] for i in range(37)]))"
   ]
  },
  {
   "cell_type": "code",
   "execution_count": 9,
   "metadata": {},
   "outputs": [
    {
     "data": {
      "text/plain": [
       "1"
      ]
     },
     "execution_count": 9,
     "metadata": {},
     "output_type": "execute_result"
    }
   ],
   "source": [
    "sp.simplify(sum([comb_lst[i][1][2] for i in range(37)]))"
   ]
  },
  {
   "cell_type": "code",
   "execution_count": 10,
   "metadata": {},
   "outputs": [
    {
     "data": {
      "text/plain": [
       "1"
      ]
     },
     "execution_count": 10,
     "metadata": {},
     "output_type": "execute_result"
    }
   ],
   "source": [
    "sp.simplify(sum([comb_lst[i][1][3] for i in range(37)]))"
   ]
  },
  {
   "cell_type": "code",
   "execution_count": 11,
   "metadata": {
    "collapsed": true
   },
   "outputs": [],
   "source": [
    "import sympy as sp \n",
    "import itertools\n",
    "a1,a2,b1,b2,a3,a4,b3,b2,b4,c1,c2,c3,c4 = sp.symbols('a1,a2,b1,b2,a3,a4,b3,b2,b4,c1,c2,c3,c4')    \n",
    "r= sp.symbols('r')\n",
    "q=sp.symbols('q')\n",
    "v=sp.symbols('v')\n",
    "vp=sp.symbols('vp')\n",
    "rp=sp.symbols('rp')\n",
    "qp=sp.symbols('qp')\n",
    "t=sp.symbols('t')\n",
    "(ppc)=sp.symbols('(ppc)')\n",
    "(pdm)=sp.symbols('(pdm)')\n",
    "(pmp)=sp.symbols('(pmp)')\n",
    "p_pair=sp.symbols('p_pair')\n",
    "p_=sp.symbols('p_pair')\n",
    "p_0,p_1 = sp.symbols('p_0,p_1')\n",
    "\n",
    "G, g = sp.symbols('G, g')"
   ]
  },
  {
   "cell_type": "code",
   "execution_count": 12,
   "metadata": {},
   "outputs": [
    {
     "data": {
      "text/plain": [
       "[[0,\n",
       "  [-(ppc)*t*vp*(q - 1)**2*(vp - 1)/2,\n",
       "   (ppc)*t*vp*(-2*p_pair**6*q**2*r**2*vp + 2*p_pair**5*q**2*r**2 + 2*p_pair**5*q**2*r*vp + 4*p_pair**5*q*r**2*vp - 2*p_pair**4*q**2*r - p_pair**4*q**2*vp - 4*p_pair**4*q*r**2 - 4*p_pair**4*q*r*vp - 2*p_pair**4*r**2*vp + p_pair**3*q**2 + 4*p_pair**3*q*r + 2*p_pair**3*q*vp + 2*p_pair**3*r**2 + 2*p_pair**3*r*vp - 2*p_pair**2*q - 2*p_pair**2*r - p_pair**2*vp + p_pair - 2*q**2*vp + 2*q**2 + 4*q*vp - 4*q - 2*vp + 2)/8,\n",
       "   -(ppc)*t*vp*(4*p_0*p_pair**6*q**2*r**2*vp - 4*p_0*p_pair**5*q**2*r**2 - 4*p_0*p_pair**5*q**2*r*vp - 8*p_0*p_pair**5*q*r**2*vp + 4*p_0*p_pair**4*q**2*r + 2*p_0*p_pair**4*q**2*vp + 8*p_0*p_pair**4*q*r**2 + 8*p_0*p_pair**4*q*r*vp + 4*p_0*p_pair**4*r**2*vp - 2*p_0*p_pair**3*q**2 - 8*p_0*p_pair**3*q*r - 4*p_0*p_pair**3*q*vp - 4*p_0*p_pair**3*r**2 - 4*p_0*p_pair**3*r*vp + 4*p_0*p_pair**2*q + 4*p_0*p_pair**2*r + 2*p_0*p_pair**2*vp - 2*p_0*p_pair + p_1*q**2*vp - p_1*q**2 - 2*p_1*q*vp + 2*p_1*q + p_1*vp - p_1)/(8*p_0 + 4*p_1),\n",
       "   (ppc)*t*vp*(-p_pair**4*q**2*vp + p_pair**3*q**2 + 2*p_pair**3*q*vp - 2*p_pair**2*q - p_pair**2*vp + p_pair - 2*q**2*vp + 2*q**2 + 4*q*vp - 4*q - 2*vp + 2)/8]],\n",
       " [1,\n",
       "  [(ppc)*q**2*t*vp*(-vp + 1)/2,\n",
       "   (ppc)*q**2*t*vp*(-2*p_pair**6*r**2*vp + 2*p_pair**5*r**2 + 2*p_pair**5*r*vp - 2*p_pair**4*r - p_pair**4*vp + p_pair**3 - 2*vp + 2)/8,\n",
       "   -(ppc)*q**2*t*vp*(4*p_0*p_pair**6*r**2*vp - 4*p_0*p_pair**5*r**2 - 4*p_0*p_pair**5*r*vp + 4*p_0*p_pair**4*r + 2*p_0*p_pair**4*vp - 2*p_0*p_pair**3 + p_1*vp - p_1)/(8*p_0 + 4*p_1),\n",
       "   (ppc)*q**2*t*vp*(-p_pair**4*vp + p_pair**3 - 2*vp + 2)/8]],\n",
       " [2,\n",
       "  [(ppc)*q*t*vp*(q - 1)*(vp - 1),\n",
       "   (ppc)*q*t*vp*(-p_pair**6*q*r**2*vp + p_pair**5*q*r**2 + p_pair**5*q*r*vp + p_pair**5*r**2*vp - p_pair**4*q*r - p_pair**4*r**2 - p_pair**4*r*vp + p_pair**3*r + q*vp - q - vp + 1)/2,\n",
       "   -(ppc)*q*t*vp*(4*p_0*p_pair**6*q*r**2*vp - 4*p_0*p_pair**5*q*r**2 - 4*p_0*p_pair**5*q*r*vp - 4*p_0*p_pair**5*r**2*vp + 4*p_0*p_pair**4*q*r + 4*p_0*p_pair**4*r**2 + 4*p_0*p_pair**4*r*vp - 4*p_0*p_pair**3*r - p_1*q*vp + p_1*q + p_1*vp - p_1)/(4*p_0 + 2*p_1),\n",
       "   (ppc)*q*t*vp*(p_pair**4*q*vp - p_pair**3*q - p_pair**3*vp + p_pair**2 + 2*q*vp - 2*q - 2*vp + 2)/4]],\n",
       " [3, [0, 0, 0, 0]],\n",
       " [4,\n",
       "  [t*((pmp)*qp*(qp - 1)**2 - (ppc)*q*(q - 1)*(2*vp**2 - 2*vp + 1))/2,\n",
       "   t*((pmp)*qp*(qp - 1)*(2*p_pair**4*qp*r**2 - 2*p_pair**3*qp*r - 2*p_pair**3*r**2 + p_pair**2*qp + 2*p_pair**2*r - p_pair + 2*qp - 2) - (ppc)*q*(4*p_pair**6*q*r**2*vp**2 - 4*p_pair**5*q*r**2*vp - 4*p_pair**5*q*r*vp**2 - 4*p_pair**5*r**2*vp**2 + 2*p_pair**4*q*r**2 + 4*p_pair**4*q*r*vp + 2*p_pair**4*q*vp**2 + 4*p_pair**4*r**2*vp + 4*p_pair**4*r*vp**2 - 2*p_pair**3*q*r - 2*p_pair**3*q*vp - 2*p_pair**3*r**2 - 4*p_pair**3*r*vp - 2*p_pair**3*vp**2 + p_pair**2*q + 2*p_pair**2*r + 2*p_pair**2*vp - p_pair + 4*q*vp**2 - 4*q*vp + 2*q - 4*vp**2 + 4*vp - 2))/8,\n",
       "   t*((pmp)*qp*(qp - 1)*(4*p_0*p_pair**4*qp*r**2 - 4*p_0*p_pair**3*qp*r - 4*p_0*p_pair**3*r**2 + 2*p_0*p_pair**2*qp + 4*p_0*p_pair**2*r - 2*p_0*p_pair + p_1*qp - p_1) - (ppc)*q*(8*p_0*p_pair**6*q*r**2*vp**2 - 8*p_0*p_pair**5*q*r**2*vp - 8*p_0*p_pair**5*q*r*vp**2 - 8*p_0*p_pair**5*r**2*vp**2 + 4*p_0*p_pair**4*q*r**2 + 8*p_0*p_pair**4*q*r*vp + 4*p_0*p_pair**4*q*vp**2 + 8*p_0*p_pair**4*r**2*vp + 8*p_0*p_pair**4*r*vp**2 - 4*p_0*p_pair**3*q*r - 4*p_0*p_pair**3*q*vp - 4*p_0*p_pair**3*r**2 - 8*p_0*p_pair**3*r*vp - 4*p_0*p_pair**3*vp**2 + 2*p_0*p_pair**2*q + 4*p_0*p_pair**2*r + 4*p_0*p_pair**2*vp - 2*p_0*p_pair + 2*p_1*q*vp**2 - 2*p_1*q*vp + p_1*q - 2*p_1*vp**2 + 2*p_1*vp - p_1))/(4*(2*p_0 + p_1)),\n",
       "   t*((pmp)*qp*(qp - 1)*(p_pair**2*qp - p_pair + 2*qp - 2) - (ppc)*q*(2*p_pair**4*q*vp**2 - 2*p_pair**3*q*vp - 2*p_pair**3*vp**2 + p_pair**2*q + 2*p_pair**2*vp - p_pair + 4*q*vp**2 - 4*q*vp + 2*q - 4*vp**2 + 4*vp - 2))/8]],\n",
       " [5,\n",
       "  [(pmp)*qp**2*t*(-qp + 1)/2,\n",
       "   (pmp)*qp**2*t*(-2*p_pair**4*qp*r**2 + 2*p_pair**3*qp*r + 2*p_pair**3*r**2 - p_pair**2*qp - 2*p_pair**2*r + p_pair - 2*qp + 2)/8,\n",
       "   -(pmp)*qp**2*t*(4*p_0*p_pair**4*qp*r**2 - 4*p_0*p_pair**3*qp*r - 4*p_0*p_pair**3*r**2 + 2*p_0*p_pair**2*qp + 4*p_0*p_pair**2*r - 2*p_0*p_pair + p_1*qp - p_1)/(8*p_0 + 4*p_1),\n",
       "   (pmp)*qp**2*t*(-p_pair**2*qp + p_pair - 2*qp + 2)/8]],\n",
       " [6,\n",
       "  [(pdm)*t*(q - 1)**2 + (pmp)*t*(qp - 1)**3*(3*qp - 4)/4 + (ppc)*t*(q - 1)*(2*q*vp**2 - 2*q*vp + 3*q - 2*vp**2 + 2*vp - 4)/4 + (q - 1)**2*(-(pdm)*t - (pmp)*t - (ppc)*t + 1),\n",
       "   (pdm)*t*(q - 1)**2*(-p_pair**2*rp**2 + p_pair*rp + 4)/8 + (pmp)*t*(qp - 1)**2*(-p_pair**4*qp**2*r**2 + p_pair**3*qp**2*r + 2*p_pair**3*qp*r**2 - 2*p_pair**2*qp*r - p_pair**2*r**2 + 2*p_pair*qp**2 - 2*p_pair*qp + p_pair*r + qp**2 - 5*qp + 4)/8 + (ppc)*t*(-2*p_pair**6*q**2*r**2*vp**2 + 2*p_pair**5*q**2*r**2*vp + 2*p_pair**5*q**2*r*vp**2 + 4*p_pair**5*q*r**2*vp**2 - p_pair**4*q**2*r**2 - 2*p_pair**4*q**2*r*vp - 4*p_pair**4*q*r**2*vp - 4*p_pair**4*q*r*vp**2 - 2*p_pair**4*r**2*vp**2 + p_pair**3*q**2*r + 2*p_pair**3*q*r**2 + 4*p_pair**3*q*r*vp + 2*p_pair**3*r**2*vp + 2*p_pair**3*r*vp**2 - 2*p_pair**2*q*r - p_pair**2*r**2 - 2*p_pair**2*r*vp + 2*p_pair*q**2 - 2*p_pair*q + p_pair*r + 2*q**2*vp**2 - 2*q**2*vp + q**2 - 4*q*vp**2 + 4*q*vp - 5*q + 2*vp**2 - 2*vp + 4)/8 - (q - 1)*(p_pair*q - 1)*((pdm)*t + (pmp)*t + (ppc)*t - 1)/2,\n",
       "   (2*(pdm)*t*(q - 1)**2*(-2*p_0*p_pair**2*rp**2 + 2*p_0*p_pair*rp + p_0 + p_1) - 4*p_0*(p_pair*q - 1)**2*((pdm)*t + (pmp)*t + (ppc)*t - 1) + t*((pmp)*(qp - 1)**2*(-4*p_0*p_pair**4*qp**2*r**2 + 4*p_0*p_pair**3*qp**2*r + 8*p_0*p_pair**3*qp*r**2 + 2*p_0*p_pair**2*qp**2 - 8*p_0*p_pair**2*qp*r - 4*p_0*p_pair**2*r**2 - 4*p_0*p_pair*qp + 4*p_0*p_pair*r + 2*p_0 + p_1*qp**2 - 3*p_1*qp + 2*p_1) + (ppc)*(-8*p_0*p_pair**6*q**2*r**2*vp**2 + 8*p_0*p_pair**5*q**2*r**2*vp + 8*p_0*p_pair**5*q**2*r*vp**2 + 16*p_0*p_pair**5*q*r**2*vp**2 - 4*p_0*p_pair**4*q**2*r**2 - 8*p_0*p_pair**4*q**2*r*vp - 16*p_0*p_pair**4*q*r**2*vp - 16*p_0*p_pair**4*q*r*vp**2 - 8*p_0*p_pair**4*r**2*vp**2 + 4*p_0*p_pair**3*q**2*r + 8*p_0*p_pair**3*q*r**2 + 16*p_0*p_pair**3*q*r*vp + 8*p_0*p_pair**3*r**2*vp + 8*p_0*p_pair**3*r*vp**2 + 2*p_0*p_pair**2*q**2 - 8*p_0*p_pair**2*q*r - 4*p_0*p_pair**2*r**2 - 8*p_0*p_pair**2*r*vp - 4*p_0*p_pair*q + 4*p_0*p_pair*r + 2*p_0 + 2*p_1*q**2*vp**2 - 2*p_1*q**2*vp + p_1*q**2 - 4*p_1*q*vp**2 + 4*p_1*q*vp - 3*p_1*q + 2*p_1*vp**2 - 2*p_1*vp + 2*p_1)))/(8*(2*p_0 + p_1)),\n",
       "   3*(pdm)*t*(q - 1)**2/4 + (pmp)*t*(qp - 1)**2*(p_pair**2*qp**2 + 6*p_pair*qp**2 - 9*p_pair*qp + 2*qp**2 - 12*qp + 12)/16 + (ppc)*t*(2*p_pair**4*q**2*vp**2 - 2*p_pair**3*q**2*vp - 4*p_pair**3*q*vp**2 + p_pair**2*q**2 + 4*p_pair**2*q*vp + 2*p_pair**2*vp**2 + 6*p_pair*q**2 - 9*p_pair*q - 2*p_pair*vp + 4*q**2*vp**2 - 4*q**2*vp + 2*q**2 - 8*q*vp**2 + 8*q*vp - 12*q + 4*vp**2 - 4*vp + 12)/16 - 3*(q - 1)*(p_pair*q - 1)*((pdm)*t + (pmp)*t + (ppc)*t - 1)/4]],\n",
       " [7,\n",
       "  [-2*(pdm)*q*t*(q - 1) - 3*(pmp)*qp*t*(qp - 2)*(qp - 1)**2/2 - (ppc)*q*t*(q - 1) + 2*q*(q - 1)*((pdm)*t + (pmp)*t + (ppc)*t - 1),\n",
       "   -(pdm)*q*t*(q - 1)*(-p_pair**2*rp**2 + p_pair*rp + 4)/4 - (pmp)*qp*t*(qp - 1)*(-p_pair**4*qp**2*r**2 + p_pair**3*qp**2*r + 2*p_pair**3*qp*r**2 - 2*p_pair**2*qp*r - p_pair**2*r**2 + 2*p_pair*qp**2 - 4*p_pair*qp + p_pair*r + p_pair + qp**2 - 5*qp + 5)/4 + (ppc)*q*t*(-2*p_pair*q + p_pair + 1)/4 - q*(-2*p_pair*q + p_pair + 1)*((pdm)*t + (pmp)*t + (ppc)*t - 1)/2,\n",
       "   (-(pmp)*qp*t*(qp - 1)*(-4*p_0*p_pair**4*qp**2*r**2 + 4*p_0*p_pair**3*qp**2*r + 8*p_0*p_pair**3*qp*r**2 + 2*p_0*p_pair**2*qp**2 - 8*p_0*p_pair**2*qp*r - 2*p_0*p_pair**2*qp - 4*p_0*p_pair**2*r**2 - 4*p_0*p_pair*qp + 4*p_0*p_pair*r + 2*p_0*p_pair + 2*p_0 + p_1*qp**2 - 3*p_1*qp + 2*p_1)/4 + p_0*p_pair*q*(p_pair*q - 1)*((pdm)*t + (pmp)*t + (ppc)*t - 1) - q*t*((pdm)*(q - 1)*(-2*p_0*p_pair**2*rp**2 + 2*p_0*p_pair*rp + p_0 + p_1) + (ppc)*p_0*p_pair*(p_pair*q - 1))/2)/(2*p_0 + p_1),\n",
       "   -3*(pdm)*q*t*(q - 1)/2 - (pmp)*qp*t*(qp - 1)*(p_pair**2*qp**2 + 6*p_pair*qp**2 - 15*p_pair*qp + 3*p_pair + 2*qp**2 - 12*qp + 15)/8 + 3*(ppc)*q*t*(-2*p_pair*q + p_pair + 1)/8 - 3*q*(-2*p_pair*q + p_pair + 1)*((pdm)*t + (pmp)*t + (ppc)*t - 1)/4]],\n",
       " [8,\n",
       "  [t*((pmp)*qp*(3*qp**3 - qp**2 - qp + 1) + (ppc)*q*(2*q*vp**2 - 2*q*vp + q + 1))/4,\n",
       "   t*((pmp)*qp*(-p_pair**4*qp**3*r**2 + 2*p_pair**4*qp**2*r**2 - p_pair**4*qp*r**2 + p_pair**3*qp**3*r - 2*p_pair**3*qp**2*r + p_pair**3*qp*r + 2*p_pair*qp**3 + qp**3 - qp**2 - qp + 1) + (ppc)*q*(-2*p_pair**6*q*r**2*vp**2 + 2*p_pair**5*q*r**2*vp + 2*p_pair**5*q*r*vp**2 - p_pair**4*q*r**2 - 2*p_pair**4*q*r*vp + p_pair**3*q*r + 2*q*vp**2 - 2*q*vp + q + 1))/8,\n",
       "   t*((pmp)*qp*(-4*p_0*p_pair**4*qp**3*r**2 + 8*p_0*p_pair**4*qp**2*r**2 - 4*p_0*p_pair**4*qp*r**2 + 4*p_0*p_pair**3*qp**3*r - 8*p_0*p_pair**3*qp**2*r + 4*p_0*p_pair**3*qp*r + 2*p_0*p_pair**2*qp**3 + p_1*qp**3 - p_1*qp**2 - p_1*qp + p_1) + (ppc)*q*(-8*p_0*p_pair**6*q*r**2*vp**2 + 8*p_0*p_pair**5*q*r**2*vp + 8*p_0*p_pair**5*q*r*vp**2 - 4*p_0*p_pair**4*q*r**2 - 8*p_0*p_pair**4*q*r*vp + 4*p_0*p_pair**3*q*r + 2*p_1*q*vp**2 - 2*p_1*q*vp + p_1*q + p_1))/(8*(2*p_0 + p_1)),\n",
       "   t*((pmp)*qp*(p_pair**2*qp**3 - 2*p_pair**2*qp**2 + p_pair**2*qp + 6*p_pair*qp**3 + p_pair*qp**2 - 2*p_pair*qp + p_pair + 2*qp**3 - 2*qp**2 - 2*qp + 2) + (ppc)*q*(2*p_pair**4*q*vp**2 - 2*p_pair**3*q*vp + p_pair**2*q + p_pair + 4*q*vp**2 - 4*q*vp + 2*q + 2))/16]],\n",
       " [9,\n",
       "  [3*(pmp)*qp**2*t*(-qp**2 + 1)/2,\n",
       "   (pmp)*qp**2*t*(p_pair**4*qp**2*r**2 - p_pair**4*qp*r**2 - p_pair**3*qp**2*r + p_pair**3*qp*r - 2*p_pair*qp**2 + p_pair - qp**2 + 2)/4,\n",
       "   (pmp)*qp**2*t*(4*p_0*p_pair**4*qp**2*r**2 - 4*p_0*p_pair**4*qp*r**2 - 4*p_0*p_pair**3*qp**2*r + 4*p_0*p_pair**3*qp*r - 2*p_0*p_pair**2*qp**2 + 2*p_0*p_pair - p_1*qp**2 + p_1)/(4*(2*p_0 + p_1)),\n",
       "   (pmp)*qp**2*t*(-p_pair**2*qp**2 + p_pair**2*qp - 6*p_pair*qp**2 - p_pair*qp + 4*p_pair - 2*qp**2 + 5)/8]],\n",
       " [10,\n",
       "  [-(pmp)*q**2*t + 3*(pmp)*qp**4*t/2 - 5*(pmp)*qp**3*t/2 + 3*(pmp)*qp**2*t/2 - (ppc)*q**2*t/2 + q**2,\n",
       "   (pdm)*q**2*t*(-p_pair**2*rp**2 + p_pair*rp + 4)/8 + (pmp)*qp**2*t*(-2*p_pair**4*qp**2*r**2 + 2*p_pair**3*qp**2*r + 2*p_pair**3*qp*r**2 - 2*p_pair**2*qp*r - p_pair**2*r**2 + 4*p_pair*qp**2 - 6*p_pair*qp + p_pair*r + 2*p_pair + 2*qp**2 - 4*qp + 4)/8 + (ppc)*p_pair*q**2*t/4 - p_pair*q**2*((pdm)*t + (pmp)*t + (ppc)*t - 1)/2,\n",
       "   (-2*p_0*p_pair**2*q**2*((pdm)*t + (pmp)*t + (ppc)*t - 1) + t*((pdm)*q**2*(-2*p_0*p_pair**2*rp**2 + 2*p_0*p_pair*rp + p_0 + p_1) + (pmp)*qp**2*(-4*p_0*p_pair**4*qp**2*r**2 + 4*p_0*p_pair**3*qp**2*r + 4*p_0*p_pair**3*qp*r**2 + 2*p_0*p_pair**2*qp**2 - 4*p_0*p_pair**2*qp*r - 2*p_0*p_pair**2*qp - 2*p_0*p_pair**2*r**2 + p_0*p_pair**2 - 2*p_0*p_pair*qp + 2*p_0*p_pair*r + p_0 + p_1*qp**2 - p_1*qp + p_1) + (ppc)*p_0*p_pair**2*q**2))/(4*(2*p_0 + p_1)),\n",
       "   3*(pdm)*q**2*t/4 + (pmp)*qp**2*t*(p_pair**2*qp**2 + 6*p_pair*qp**2 - 10*p_pair*qp + 3*p_pair + 2*qp**2 - 5*qp + 6)/8 + 3*(ppc)*p_pair*q**2*t/8 - 3*p_pair*q**2*((pdm)*t + (pmp)*t + (ppc)*t - 1)/4]],\n",
       " [11,\n",
       "  [0,\n",
       "   (ppc)*p_pair**2*q*t*vp*(p_pair*q - 1)*(p_pair*vp - 1)*(2*p_pair**2*r**2 - 2*p_pair*r + 1)/4,\n",
       "   (ppc)*p_0*p_pair**2*q*t*vp*(p_pair*q - 1)*(p_pair*vp - 1)*(2*p_pair**2*r**2 - 2*p_pair*r + 1)/(2*p_0 + p_1),\n",
       "   (ppc)*p_pair**2*q*t*vp*(p_pair*q - 1)*(p_pair*vp - 1)/8]],\n",
       " [12,\n",
       "  [0,\n",
       "   p_pair**2*r*t*(p_pair*r - 1)*(-(pmp)*qp*(qp - 1)*(p_pair*qp - 1) + (ppc)*q*(p_pair*q - 1)*(2*p_pair**2*vp**2 - 2*p_pair*vp + 1))/4,\n",
       "   p_0*p_pair**2*r*t*(p_pair*r - 1)*(-(pmp)*qp*(qp - 1)*(p_pair*qp - 1) + (ppc)*q*(p_pair*q - 1)*(2*p_pair**2*vp**2 - 2*p_pair*vp + 1))/(2*p_0 + p_1),\n",
       "   p_pair*t*((pmp)*qp*(qp - 1)*(p_pair*qp - 1) - (ppc)*q*(p_pair*q - 1)*(2*p_pair**2*vp**2 - 2*p_pair*vp + 1))/16]],\n",
       " [13,\n",
       "  [0,\n",
       "   -(pdm)*q*t*(q - 1)*(p_pair**2*rp**2 - p_pair*rp + 2)/4 - (pmp)*qp*t*(qp - 1)*(2*p_pair**4*qp**2*r**2 - 2*p_pair**3*qp**2*r - 4*p_pair**3*qp*r**2 + p_pair**2*qp**2 + 4*p_pair**2*qp*r + 2*p_pair**2*r**2 + 2*p_pair*qp**2 - 7*p_pair*qp - 2*p_pair*r + 2*p_pair - 2*qp + 4)/8 - (ppc)*p_pair*q*t*(q - 1)/4 + p_pair*q*(q - 1)*((pdm)*t + (pmp)*t + (ppc)*t - 1)/2,\n",
       "   (q*((pdm)*t + (pmp)*t + (ppc)*t - 1)*(p_0*p_pair**2*q - p_0*p_pair + p_1*q - p_1) - t*((pdm)*q*(q - 1)*(2*p_0*p_pair**2*rp**2 - 2*p_0*p_pair*rp + 3*p_0 + p_1) + (pmp)*qp*(qp - 1)*(2*p_0*p_pair**4*qp**2*r**2 - 2*p_0*p_pair**3*qp**2*r - 4*p_0*p_pair**3*qp*r**2 + 2*p_0*p_pair**2*qp**2 + 4*p_0*p_pair**2*qp*r - p_0*p_pair**2*qp + 2*p_0*p_pair**2*r**2 - 5*p_0*p_pair*qp - 2*p_0*p_pair*r + p_0*p_pair + 3*p_0 + p_1*qp**2 - 3*p_1*qp + 2*p_1) + (ppc)*q*(p_0*p_pair**2*q - p_0*p_pair + p_1*q - p_1))/2)/(2*p_0 + p_1),\n",
       "   -(pdm)*q*t*(q - 1)/4 - (pmp)*qp*t*(qp - 1)*(p_pair**2*qp**2 + 2*p_pair*qp**2 - 7*p_pair*qp + 2*p_pair - 2*qp + 4)/16 - (ppc)*p_pair*q*t*(q - 1)/8 + p_pair*q*(q - 1)*((pdm)*t + (pmp)*t + (ppc)*t - 1)/4]],\n",
       " [14,\n",
       "  [0,\n",
       "   (pmp)*qp**2*t*(-2*p_pair**4*qp**2*r**2 + 2*p_pair**4*qp*r**2 + 2*p_pair**3*qp**2*r - 2*p_pair**3*qp*r - p_pair**2*qp**2 + p_pair**2*qp - 2*p_pair*qp**2 - p_pair*qp + p_pair + 2)/8,\n",
       "   -(pmp)*qp**2*t*(2*p_0*p_pair**4*qp**2*r**2 - 2*p_0*p_pair**4*qp*r**2 - 2*p_0*p_pair**3*qp**2*r + 2*p_0*p_pair**3*qp*r + 2*p_0*p_pair**2*qp**2 - p_0*p_pair**2*qp + p_0*p_pair*qp - 2*p_0*p_pair + p_1*qp**2 - p_1)/(4*p_0 + 2*p_1),\n",
       "   (pmp)*qp**2*t*(-p_pair**2*qp**2 + p_pair**2*qp - 2*p_pair*qp**2 - p_pair*qp + p_pair + 2)/16]],\n",
       " [15,\n",
       "  [0,\n",
       "   (ppc)*p_pair**2*r*t*vp*(p_pair*q - 1)**2*(p_pair*r - 1)*(p_pair*vp - 1)/2,\n",
       "   2*(ppc)*p_0*p_pair**2*r*t*vp*(p_pair*q - 1)**2*(p_pair*r - 1)*(p_pair*vp - 1)/(2*p_0 + p_1),\n",
       "   -(ppc)*p_pair*t*vp*(p_pair*q - 1)**2*(p_pair*vp - 1)/8]],\n",
       " [16,\n",
       "  [0,\n",
       "   (ppc)*p_pair**4*q**2*r*t*vp*(p_pair*r - 1)*(p_pair*vp - 1)/2,\n",
       "   2*(ppc)*p_0*p_pair**4*q**2*r*t*vp*(p_pair*r - 1)*(p_pair*vp - 1)/(2*p_0 + p_1),\n",
       "   (ppc)*p_pair**3*q**2*t*vp*(-p_pair*vp + 1)/8]],\n",
       " [17,\n",
       "  [0,\n",
       "   (ppc)*p_pair**2*q*t*vp*(p_pair*q - 1)*(p_pair*vp - 1)*(2*p_pair**2*r**2 - 2*p_pair*r + 1)/4,\n",
       "   (ppc)*p_0*p_pair**2*q*t*vp*(p_pair*q - 1)*(p_pair*vp - 1)*(2*p_pair**2*r**2 - 2*p_pair*r + 1)/(2*p_0 + p_1),\n",
       "   (ppc)*p_pair**2*q*t*vp*(p_pair*q - 1)*(p_pair*vp - 1)/8]],\n",
       " [18, [0, 0, 0, 0]],\n",
       " [19,\n",
       "  [0,\n",
       "   p_pair**2*r*t*(p_pair*r - 1)*(-(pmp)*qp*(qp - 1)*(p_pair*qp - 1) + (ppc)*q*(p_pair*q - 1)*(2*p_pair**2*vp**2 - 2*p_pair*vp + 1))/4,\n",
       "   p_0*p_pair**2*r*t*(p_pair*r - 1)*(-(pmp)*qp*(qp - 1)*(p_pair*qp - 1) + (ppc)*q*(p_pair*q - 1)*(2*p_pair**2*vp**2 - 2*p_pair*vp + 1))/(2*p_0 + p_1),\n",
       "   p_pair*t*((pmp)*qp*(qp - 1)*(p_pair*qp - 1) - (ppc)*q*(p_pair*q - 1)*(2*p_pair**2*vp**2 - 2*p_pair*vp + 1))/16]],\n",
       " [20,\n",
       "  [0,\n",
       "   (pmp)*p_pair**2*qp**2*r*t*(p_pair*qp - 1)*(p_pair*r - 1)/2,\n",
       "   2*(pmp)*p_0*p_pair**2*qp**2*r*t*(p_pair*qp - 1)*(p_pair*r - 1)/(2*p_0 + p_1),\n",
       "   (pmp)*p_pair*qp**2*t*(-p_pair*qp + 1)/8]],\n",
       " [21,\n",
       "  [0,\n",
       "   (pdm)*t*(q - 1)**2*(p_pair**2*rp**2 - p_pair*rp + 2)/4 + (pmp)*t*(qp - 1)**2*(p_pair*qp - 1)*(2*p_pair**3*qp*r**2 - 2*p_pair**2*qp*r - 2*p_pair**2*r**2 + p_pair*qp + 2*p_pair*r + 2*qp - 4)/8 + (ppc)*t*(p_pair*q - 1)*(4*p_pair**5*q*r**2*vp**2 - 4*p_pair**4*q*r**2*vp - 4*p_pair**4*q*r*vp**2 - 4*p_pair**4*r**2*vp**2 + 2*p_pair**3*q*r**2 + 4*p_pair**3*q*r*vp + 2*p_pair**3*q*vp**2 + 4*p_pair**3*r**2*vp + 4*p_pair**3*r*vp**2 - 2*p_pair**2*q*r - 2*p_pair**2*q*vp - 2*p_pair**2*r**2 - 4*p_pair**2*r*vp - 2*p_pair**2*vp**2 + p_pair*q + 2*p_pair*r + 2*p_pair*vp + 2*q - 4)/8 - (q - 1)*(p_pair*q - 1)*((pdm)*t + (pmp)*t + (ppc)*t - 1)/2,\n",
       "   (t*((pdm)*(q - 1)**2*(2*p_0*p_pair**2*rp**2 - 2*p_0*p_pair*rp + 3*p_0 + p_1) + (pmp)*(qp - 1)**2*(2*p_0*p_pair**4*qp**2*r**2 - 2*p_0*p_pair**3*qp**2*r - 4*p_0*p_pair**3*qp*r**2 + 2*p_0*p_pair**2*qp**2 + 4*p_0*p_pair**2*qp*r + 2*p_0*p_pair**2*r**2 - 5*p_0*p_pair*qp - 2*p_0*p_pair*r + 3*p_0 + p_1*qp**2 - 2*p_1*qp + p_1) + (ppc)*(4*p_0*p_pair**6*q**2*r**2*vp**2 - 4*p_0*p_pair**5*q**2*r**2*vp - 4*p_0*p_pair**5*q**2*r*vp**2 - 8*p_0*p_pair**5*q*r**2*vp**2 + 2*p_0*p_pair**4*q**2*r**2 + 4*p_0*p_pair**4*q**2*r*vp + 2*p_0*p_pair**4*q**2*vp**2 + 8*p_0*p_pair**4*q*r**2*vp + 8*p_0*p_pair**4*q*r*vp**2 + 4*p_0*p_pair**4*r**2*vp**2 - 2*p_0*p_pair**3*q**2*r - 2*p_0*p_pair**3*q**2*vp - 4*p_0*p_pair**3*q*r**2 - 8*p_0*p_pair**3*q*r*vp - 4*p_0*p_pair**3*q*vp**2 - 4*p_0*p_pair**3*r**2*vp - 4*p_0*p_pair**3*r*vp**2 + 2*p_0*p_pair**2*q**2 + 4*p_0*p_pair**2*q*r + 4*p_0*p_pair**2*q*vp + 2*p_0*p_pair**2*r**2 + 4*p_0*p_pair**2*r*vp + 2*p_0*p_pair**2*vp**2 - 5*p_0*p_pair*q - 2*p_0*p_pair*r - 2*p_0*p_pair*vp + 3*p_0 + p_1*q**2 - 2*p_1*q + p_1))/2 - ((pdm)*t + (pmp)*t + (ppc)*t - 1)*(p_0*p_pair**2*q**2 - 2*p_0*p_pair*q + p_0 + p_1*q**2 - 2*p_1*q + p_1))/(2*p_0 + p_1),\n",
       "   (pdm)*t*(q - 1)**2/4 + (pmp)*t*(qp - 1)**2*(p_pair*qp - 1)*(p_pair*qp + 2*qp - 4)/16 + (ppc)*t*(p_pair*q - 1)*(2*p_pair**3*q*vp**2 - 2*p_pair**2*q*vp - 2*p_pair**2*vp**2 + p_pair*q + 2*p_pair*vp + 2*q - 4)/16 - (q - 1)*(p_pair*q - 1)*((pdm)*t + (pmp)*t + (ppc)*t - 1)/4]],\n",
       " [22,\n",
       "  [0,\n",
       "   -(pdm)*q*t*(q - 1)*(p_pair**2*rp**2 - p_pair*rp + 2)/4 - (pmp)*qp*t*(qp - 1)*(p_pair*qp - 1)*(2*p_pair**3*qp*r**2 - 2*p_pair**2*qp*r - 2*p_pair**2*r**2 + p_pair*qp + 2*p_pair*r + 2*qp - 6)/8 - (ppc)*q*t*(p_pair*q - 1)/4 + q*(p_pair*q - 1)*((pdm)*t + (pmp)*t + (ppc)*t - 1)/2,\n",
       "   (q*((pdm)*t + (pmp)*t + (ppc)*t - 1)*(p_0*p_pair**2*q - p_0*p_pair + p_1*q - p_1) - t*((pdm)*q*(q - 1)*(2*p_0*p_pair**2*rp**2 - 2*p_0*p_pair*rp + 3*p_0 + p_1) + (pmp)*qp*(qp - 1)*(2*p_0*p_pair**4*qp**2*r**2 - 2*p_0*p_pair**3*qp**2*r - 4*p_0*p_pair**3*qp*r**2 + 2*p_0*p_pair**2*qp**2 + 4*p_0*p_pair**2*qp*r - p_0*p_pair**2*qp + 2*p_0*p_pair**2*r**2 - 5*p_0*p_pair*qp - 2*p_0*p_pair*r + p_0*p_pair + 3*p_0 + p_1*qp**2 - 3*p_1*qp + 2*p_1) + (ppc)*q*(p_0*p_pair**2*q - p_0*p_pair + p_1*q - p_1))/2)/(2*p_0 + p_1),\n",
       "   -(pdm)*q*t*(q - 1)/4 - (pmp)*qp*t*(qp - 1)*(p_pair*qp - 1)*(p_pair*qp + 2*qp - 6)/16 - (ppc)*q*t*(p_pair*q - 1)/8 + q*(p_pair*q - 1)*((pdm)*t + (pmp)*t + (ppc)*t - 1)/4]],\n",
       " [23,\n",
       "  [0,\n",
       "   p_pair*t*((pmp)*qp*(2*p_pair**3*qp**3*r**2 - 4*p_pair**3*qp**2*r**2 + 2*p_pair**3*qp*r**2 - 2*p_pair**2*qp**3*r + 4*p_pair**2*qp**2*r - 2*p_pair**2*qp*r + p_pair*qp**3 - 2*p_pair*qp**2 + p_pair*qp + 2*qp**3 + qp**2 - 2*qp + 1) + (ppc)*q*(4*p_pair**5*q*r**2*vp**2 - 4*p_pair**4*q*r**2*vp - 4*p_pair**4*q*r*vp**2 + 2*p_pair**3*q*r**2 + 4*p_pair**3*q*r*vp + 2*p_pair**3*q*vp**2 - 2*p_pair**2*q*r - 2*p_pair**2*q*vp + p_pair*q + 1))/8,\n",
       "   t*((pmp)*qp*(2*p_0*p_pair**4*qp**3*r**2 - 4*p_0*p_pair**4*qp**2*r**2 + 2*p_0*p_pair**4*qp*r**2 - 2*p_0*p_pair**3*qp**3*r + 4*p_0*p_pair**3*qp**2*r - 2*p_0*p_pair**3*qp*r + 2*p_0*p_pair**2*qp**3 - 2*p_0*p_pair**2*qp**2 + p_0*p_pair**2*qp + p_0*p_pair*qp**2 - 2*p_0*p_pair*qp + p_0*p_pair + p_1*qp**3) + (ppc)*p_0*p_pair*q*(4*p_pair**5*q*r**2*vp**2 - 4*p_pair**4*q*r**2*vp - 4*p_pair**4*q*r*vp**2 + 2*p_pair**3*q*r**2 + 4*p_pair**3*q*r*vp + 2*p_pair**3*q*vp**2 - 2*p_pair**2*q*r - 2*p_pair**2*q*vp + p_pair*q + 1))/(2*(2*p_0 + p_1)),\n",
       "   p_pair*t*((pmp)*qp*(p_pair*qp**3 - 2*p_pair*qp**2 + p_pair*qp + 2*qp**3 + qp**2 - 2*qp + 1) + (ppc)*q*(2*p_pair**3*q*vp**2 - 2*p_pair**2*q*vp + p_pair*q + 1))/16]],\n",
       " [24,\n",
       "  [0,\n",
       "   -(pmp)*p_pair*qp**2*t*(qp - 1)*(2*p_pair**3*qp*r**2 - 2*p_pair**2*qp*r + p_pair*qp + 2*qp + 3)/8,\n",
       "   -(pmp)*qp**2*t*(2*p_0*p_pair**4*qp**2*r**2 - 2*p_0*p_pair**4*qp*r**2 - 2*p_0*p_pair**3*qp**2*r + 2*p_0*p_pair**3*qp*r + 2*p_0*p_pair**2*qp**2 - p_0*p_pair**2*qp + p_0*p_pair*qp - 2*p_0*p_pair + p_1*qp**2 - p_1)/(4*p_0 + 2*p_1),\n",
       "   -(pmp)*p_pair*qp**2*t*(qp - 1)*(p_pair*qp + 2*qp + 3)/16]],\n",
       " [25,\n",
       "  [0,\n",
       "   (pdm)*q**2*t*(p_pair**2*rp**2 - p_pair*rp + 2)/4 + (pmp)*qp**2*t*(2*p_pair**4*qp**2*r**2 - 2*p_pair**3*qp**2*r - 2*p_pair**3*qp*r**2 + p_pair**2*qp**2 + 2*p_pair**2*qp*r + p_pair**2*r**2 + 2*p_pair*qp**2 - 4*p_pair*qp - p_pair*r + p_pair - qp + 2)/4 + (ppc)*p_pair*q**2*t/4 - p_pair*q**2*((pdm)*t + (pmp)*t + (ppc)*t - 1)/2,\n",
       "   (-q**2*(p_0*p_pair**2 + p_1)*((pdm)*t + (pmp)*t + (ppc)*t - 1) + t*((pdm)*q**2*(2*p_0*p_pair**2*rp**2 - 2*p_0*p_pair*rp + 3*p_0 + p_1) + (pmp)*qp**2*(4*p_0*p_pair**4*qp**2*r**2 - 4*p_0*p_pair**3*qp**2*r - 4*p_0*p_pair**3*qp*r**2 + 4*p_0*p_pair**2*qp**2 + 4*p_0*p_pair**2*qp*r - 2*p_0*p_pair**2*qp + 2*p_0*p_pair**2*r**2 + p_0*p_pair**2 - 4*p_0*p_pair*qp - 2*p_0*p_pair*r + 3*p_0 + 2*p_1*qp**2 - 4*p_1*qp + 2*p_1) + (ppc)*q**2*(p_0*p_pair**2 + p_1))/2)/(2*p_0 + p_1),\n",
       "   (pdm)*q**2*t/4 + (pmp)*qp**2*t*(p_pair**2*qp**2 + 2*p_pair*qp**2 - 4*p_pair*qp + p_pair - qp + 2)/8 + (ppc)*p_pair*q**2*t/8 - p_pair*q**2*((pdm)*t + (pmp)*t + (ppc)*t - 1)/4]],\n",
       " [26,\n",
       "  [0,\n",
       "   -(ppc)*p_pair*t*vp*(p_pair*q - 1)**2*(p_pair*vp - 1)*(2*p_pair**2*r**2 - 2*p_pair*r + 1)/8,\n",
       "   -(ppc)*t*vp*(4*p_0*p_pair**6*q**2*r**2*vp - 4*p_0*p_pair**5*q**2*r**2 - 4*p_0*p_pair**5*q**2*r*vp - 8*p_0*p_pair**5*q*r**2*vp + 4*p_0*p_pair**4*q**2*r + 2*p_0*p_pair**4*q**2*vp + 8*p_0*p_pair**4*q*r**2 + 8*p_0*p_pair**4*q*r*vp + 4*p_0*p_pair**4*r**2*vp - 2*p_0*p_pair**3*q**2 - 8*p_0*p_pair**3*q*r - 4*p_0*p_pair**3*q*vp - 4*p_0*p_pair**3*r**2 - 4*p_0*p_pair**3*r*vp + 4*p_0*p_pair**2*q + 4*p_0*p_pair**2*r + 2*p_0*p_pair**2*vp - 2*p_0*p_pair + p_1*q**2*vp - p_1*q**2 - 2*p_1*q*vp + 2*p_1*q + p_1*vp - p_1)/(8*p_0 + 4*p_1),\n",
       "   0]],\n",
       " [27,\n",
       "  [0,\n",
       "   -(ppc)*p_pair**3*q**2*t*vp*(p_pair*vp - 1)*(2*p_pair**2*r**2 - 2*p_pair*r + 1)/8,\n",
       "   -(ppc)*q**2*t*vp*(4*p_0*p_pair**6*r**2*vp - 4*p_0*p_pair**5*r**2 - 4*p_0*p_pair**5*r*vp + 4*p_0*p_pair**4*r + 2*p_0*p_pair**4*vp - 2*p_0*p_pair**3 + p_1*vp - p_1)/(8*p_0 + 4*p_1),\n",
       "   0]],\n",
       " [28,\n",
       "  [0,\n",
       "   -(ppc)*p_pair**3*q*r*t*vp*(p_pair*q - 1)*(p_pair*r - 1)*(p_pair*vp - 1)/2,\n",
       "   -(ppc)*q*t*vp*(4*p_0*p_pair**6*q*r**2*vp - 4*p_0*p_pair**5*q*r**2 - 4*p_0*p_pair**5*q*r*vp - 4*p_0*p_pair**5*r**2*vp + 4*p_0*p_pair**4*q*r + 4*p_0*p_pair**4*r**2 + 4*p_0*p_pair**4*r*vp - 4*p_0*p_pair**3*r - p_1*q*vp + p_1*q + p_1*vp - p_1)/(4*p_0 + 2*p_1),\n",
       "   0]],\n",
       " [29, [0, 0, 0, 0]],\n",
       " [30,\n",
       "  [0,\n",
       "   p_pair*t*((pmp)*qp*(qp - 1)*(p_pair*qp - 1) - (ppc)*q*(p_pair*q - 1)*(2*p_pair**2*vp**2 - 2*p_pair*vp + 1))*(2*p_pair**2*r**2 - 2*p_pair*r + 1)/8,\n",
       "   t*((pmp)*qp*(qp - 1)*(4*p_0*p_pair**4*qp*r**2 - 4*p_0*p_pair**3*qp*r - 4*p_0*p_pair**3*r**2 + 2*p_0*p_pair**2*qp + 4*p_0*p_pair**2*r - 2*p_0*p_pair + p_1*qp - p_1) - (ppc)*q*(8*p_0*p_pair**6*q*r**2*vp**2 - 8*p_0*p_pair**5*q*r**2*vp - 8*p_0*p_pair**5*q*r*vp**2 - 8*p_0*p_pair**5*r**2*vp**2 + 4*p_0*p_pair**4*q*r**2 + 8*p_0*p_pair**4*q*r*vp + 4*p_0*p_pair**4*q*vp**2 + 8*p_0*p_pair**4*r**2*vp + 8*p_0*p_pair**4*r*vp**2 - 4*p_0*p_pair**3*q*r - 4*p_0*p_pair**3*q*vp - 4*p_0*p_pair**3*r**2 - 8*p_0*p_pair**3*r*vp - 4*p_0*p_pair**3*vp**2 + 2*p_0*p_pair**2*q + 4*p_0*p_pair**2*r + 4*p_0*p_pair**2*vp - 2*p_0*p_pair + 2*p_1*q*vp**2 - 2*p_1*q*vp + p_1*q - 2*p_1*vp**2 + 2*p_1*vp - p_1))/(4*(2*p_0 + p_1)),\n",
       "   0]],\n",
       " [31,\n",
       "  [0,\n",
       "   -(pmp)*p_pair*qp**2*t*(p_pair*qp - 1)*(2*p_pair**2*r**2 - 2*p_pair*r + 1)/8,\n",
       "   -(pmp)*qp**2*t*(4*p_0*p_pair**4*qp*r**2 - 4*p_0*p_pair**3*qp*r - 4*p_0*p_pair**3*r**2 + 2*p_0*p_pair**2*qp + 4*p_0*p_pair**2*r - 2*p_0*p_pair + p_1*qp - p_1)/(8*p_0 + 4*p_1),\n",
       "   0]],\n",
       " [32,\n",
       "  [0,\n",
       "   -p_pair*t*((pdm)*rp*(q - 1)**2*(p_pair*rp - 1) + (pmp)*r*(qp - 1)**2*(p_pair*qp - 1)**2*(p_pair*r - 1) + (ppc)*r*(p_pair*q - 1)**2*(p_pair*r - 1)*(2*p_pair**2*vp**2 - 2*p_pair*vp + 1))/8,\n",
       "   (2*(pdm)*t*(q - 1)**2*(-2*p_0*p_pair**2*rp**2 + 2*p_0*p_pair*rp + p_0 + p_1) - 4*p_0*(p_pair*q - 1)**2*((pdm)*t + (pmp)*t + (ppc)*t - 1) + t*((pmp)*(qp - 1)**2*(-4*p_0*p_pair**4*qp**2*r**2 + 4*p_0*p_pair**3*qp**2*r + 8*p_0*p_pair**3*qp*r**2 + 2*p_0*p_pair**2*qp**2 - 8*p_0*p_pair**2*qp*r - 4*p_0*p_pair**2*r**2 - 4*p_0*p_pair*qp + 4*p_0*p_pair*r + 2*p_0 + p_1*qp**2 - 3*p_1*qp + 2*p_1) + (ppc)*(-8*p_0*p_pair**6*q**2*r**2*vp**2 + 8*p_0*p_pair**5*q**2*r**2*vp + 8*p_0*p_pair**5*q**2*r*vp**2 + 16*p_0*p_pair**5*q*r**2*vp**2 - 4*p_0*p_pair**4*q**2*r**2 - 8*p_0*p_pair**4*q**2*r*vp - 16*p_0*p_pair**4*q*r**2*vp - 16*p_0*p_pair**4*q*r*vp**2 - 8*p_0*p_pair**4*r**2*vp**2 + 4*p_0*p_pair**3*q**2*r + 8*p_0*p_pair**3*q*r**2 + 16*p_0*p_pair**3*q*r*vp + 8*p_0*p_pair**3*r**2*vp + 8*p_0*p_pair**3*r*vp**2 + 2*p_0*p_pair**2*q**2 - 8*p_0*p_pair**2*q*r - 4*p_0*p_pair**2*r**2 - 8*p_0*p_pair**2*r*vp - 4*p_0*p_pair*q + 4*p_0*p_pair*r + 2*p_0 + 2*p_1*q**2*vp**2 - 2*p_1*q**2*vp + p_1*q**2 - 4*p_1*q*vp**2 + 4*p_1*q*vp - 3*p_1*q + 2*p_1*vp**2 - 2*p_1*vp + 2*p_1)))/(8*(2*p_0 + p_1)),\n",
       "   0]],\n",
       " [33,\n",
       "  [0,\n",
       "   p_pair*t*((pdm)*q*rp*(q - 1)*(p_pair*rp - 1) + (pmp)*qp*r*(qp - 1)*(p_pair*qp - 1)**2*(p_pair*r - 1))/4,\n",
       "   (-(pmp)*qp*t*(qp - 1)*(-4*p_0*p_pair**4*qp**2*r**2 + 4*p_0*p_pair**3*qp**2*r + 8*p_0*p_pair**3*qp*r**2 + 2*p_0*p_pair**2*qp**2 - 8*p_0*p_pair**2*qp*r - 2*p_0*p_pair**2*qp - 4*p_0*p_pair**2*r**2 - 4*p_0*p_pair*qp + 4*p_0*p_pair*r + 2*p_0*p_pair + 2*p_0 + p_1*qp**2 - 3*p_1*qp + 2*p_1)/4 + p_0*p_pair*q*(p_pair*q - 1)*((pdm)*t + (pmp)*t + (ppc)*t - 1) - q*t*((pdm)*(q - 1)*(-2*p_0*p_pair**2*rp**2 + 2*p_0*p_pair*rp + p_0 + p_1) + (ppc)*p_0*p_pair*(p_pair*q - 1))/2)/(2*p_0 + p_1),\n",
       "   0]],\n",
       " [34,\n",
       "  [0,\n",
       "   -p_pair**3*r*t*(p_pair*r - 1)*((pmp)*qp**2*(qp - 1)**2 + (ppc)*q**2*(2*p_pair**2*vp**2 - 2*p_pair*vp + 1))/8,\n",
       "   t*((pmp)*qp*(-4*p_0*p_pair**4*qp**3*r**2 + 8*p_0*p_pair**4*qp**2*r**2 - 4*p_0*p_pair**4*qp*r**2 + 4*p_0*p_pair**3*qp**3*r - 8*p_0*p_pair**3*qp**2*r + 4*p_0*p_pair**3*qp*r + 2*p_0*p_pair**2*qp**3 + p_1*qp**3 - p_1*qp**2 - p_1*qp + p_1) + (ppc)*q*(-8*p_0*p_pair**6*q*r**2*vp**2 + 8*p_0*p_pair**5*q*r**2*vp + 8*p_0*p_pair**5*q*r*vp**2 - 4*p_0*p_pair**4*q*r**2 - 8*p_0*p_pair**4*q*r*vp + 4*p_0*p_pair**3*q*r + 2*p_1*q*vp**2 - 2*p_1*q*vp + p_1*q + p_1))/(8*(2*p_0 + p_1)),\n",
       "   0]],\n",
       " [35,\n",
       "  [0,\n",
       "   (pmp)*p_pair**3*qp**3*r*t*(qp - 1)*(p_pair*r - 1)/4,\n",
       "   (pmp)*qp**2*t*(4*p_0*p_pair**4*qp**2*r**2 - 4*p_0*p_pair**4*qp*r**2 - 4*p_0*p_pair**3*qp**2*r + 4*p_0*p_pair**3*qp*r - 2*p_0*p_pair**2*qp**2 + 2*p_0*p_pair - p_1*qp**2 + p_1)/(4*(2*p_0 + p_1)),\n",
       "   0]],\n",
       " [36,\n",
       "  [0,\n",
       "   -p_pair*t*((pdm)*q**2*rp*(p_pair*rp - 1) + (pmp)*qp**2*r*(p_pair*r - 1)*(2*p_pair**2*qp**2 - 2*p_pair*qp + 1))/8,\n",
       "   (-2*p_0*p_pair**2*q**2*((pdm)*t + (pmp)*t + (ppc)*t - 1) + t*((pdm)*q**2*(-2*p_0*p_pair**2*rp**2 + 2*p_0*p_pair*rp + p_0 + p_1) + (pmp)*qp**2*(-4*p_0*p_pair**4*qp**2*r**2 + 4*p_0*p_pair**3*qp**2*r + 4*p_0*p_pair**3*qp*r**2 + 2*p_0*p_pair**2*qp**2 - 4*p_0*p_pair**2*qp*r - 2*p_0*p_pair**2*qp - 2*p_0*p_pair**2*r**2 + p_0*p_pair**2 - 2*p_0*p_pair*qp + 2*p_0*p_pair*r + p_0 + p_1*qp**2 - p_1*qp + p_1) + (ppc)*p_0*p_pair**2*q**2))/(4*(2*p_0 + p_1)),\n",
       "   0]]]"
      ]
     },
     "execution_count": 12,
     "metadata": {},
     "output_type": "execute_result"
    }
   ],
   "source": [
    "comb_lst"
   ]
  },
  {
   "cell_type": "code",
   "execution_count": 17,
   "metadata": {},
   "outputs": [
    {
     "data": {
      "text/plain": [
       "-(ppc)*t*vp*(4*p_0*p_pair**6*q**2*r**2*vp - 4*p_0*p_pair**5*q**2*r**2 - 4*p_0*p_pair**5*q**2*r*vp - 8*p_0*p_pair**5*q*r**2*vp + 4*p_0*p_pair**4*q**2*r + 2*p_0*p_pair**4*q**2*vp + 8*p_0*p_pair**4*q*r**2 + 8*p_0*p_pair**4*q*r*vp + 4*p_0*p_pair**4*r**2*vp - 2*p_0*p_pair**3*q**2 - 8*p_0*p_pair**3*q*r - 4*p_0*p_pair**3*q*vp - 4*p_0*p_pair**3*r**2 - 4*p_0*p_pair**3*r*vp + 4*p_0*p_pair**2*q + 4*p_0*p_pair**2*r + 2*p_0*p_pair**2*vp - 2*p_0*p_pair + p_1*q**2*vp - p_1*q**2 - 2*p_1*q*vp + 2*p_1*q + p_1*vp - p_1)/(8*p_0 + 4*p_1)"
      ]
     },
     "execution_count": 17,
     "metadata": {},
     "output_type": "execute_result"
    }
   ],
   "source": [
    "comb_lst[0][1][2]"
   ]
  },
  {
   "cell_type": "code",
   "execution_count": null,
   "metadata": {
    "collapsed": true
   },
   "outputs": [],
   "source": []
  }
 ],
 "metadata": {
  "kernelspec": {
   "display_name": "Python 3",
   "language": "python",
   "name": "python3"
  },
  "language_info": {
   "codemirror_mode": {
    "name": "ipython",
    "version": 3
   },
   "file_extension": ".py",
   "mimetype": "text/x-python",
   "name": "python",
   "nbconvert_exporter": "python",
   "pygments_lexer": "ipython3",
   "version": "3.6.1"
  }
 },
 "nbformat": 4,
 "nbformat_minor": 2
}
